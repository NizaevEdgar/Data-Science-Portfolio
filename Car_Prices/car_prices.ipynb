{
 "cells": [
  {
   "cell_type": "markdown",
   "metadata": {
    "toc": true
   },
   "source": [
    "<h1>Содержание<span class=\"tocSkip\"></span></h1>\n",
    "<div class=\"toc\"><ul class=\"toc-item\"><li><span><a href=\"#Подготовка-данных\" data-toc-modified-id=\"Подготовка-данных-1\"><span class=\"toc-item-num\">1&nbsp;&nbsp;</span>Подготовка данных</a></span><ul class=\"toc-item\"><li><span><a href=\"#Считаем-данные-из-csv-файла-и-сохраним-в-переменную.\" data-toc-modified-id=\"Считаем-данные-из-csv-файла-и-сохраним-в-переменную.-1.1\"><span class=\"toc-item-num\">1.1&nbsp;&nbsp;</span>Считаем данные из csv-файла и сохраним в переменную.</a></span></li><li><span><a href=\"#Выведем-первые-5-строчек,-общую-информацию-и-построим-числовые-гистограммы.\" data-toc-modified-id=\"Выведем-первые-5-строчек,-общую-информацию-и-построим-числовые-гистограммы.-1.2\"><span class=\"toc-item-num\">1.2&nbsp;&nbsp;</span>Выведем первые 5 строчек, общую информацию и построим числовые гистограммы.</a></span></li><li><span><a href=\"#Рассмотрим-корреляцию-данных.\" data-toc-modified-id=\"Рассмотрим-корреляцию-данных.-1.3\"><span class=\"toc-item-num\">1.3&nbsp;&nbsp;</span>Рассмотрим корреляцию данных.</a></span></li><li><span><a href=\"#Проверим-дубликаты\" data-toc-modified-id=\"Проверим-дубликаты-1.4\"><span class=\"toc-item-num\">1.4&nbsp;&nbsp;</span>Проверим дубликаты</a></span></li><li><span><a href=\"#Заменим-названия-столбцов-(приведем-все-названия-столбцов-к-нижнему-регистру).\" data-toc-modified-id=\"Заменим-названия-столбцов-(приведем-все-названия-столбцов-к-нижнему-регистру).-1.5\"><span class=\"toc-item-num\">1.5&nbsp;&nbsp;</span>Заменим названия столбцов (приведем все названия столбцов к нижнему регистру).</a></span></li><li><span><a href=\"#Рассмотрим-целевой-признак---столбец-price\" data-toc-modified-id=\"Рассмотрим-целевой-признак---столбец-price-1.6\"><span class=\"toc-item-num\">1.6&nbsp;&nbsp;</span>Рассмотрим целевой признак - столбец <code>price</code></a></span></li><li><span><a href=\"#Приведем-значения-столбца-date_created--к-типу-данных-datetime.\" data-toc-modified-id=\"Приведем-значения-столбца-date_created--к-типу-данных-datetime.-1.7\"><span class=\"toc-item-num\">1.7&nbsp;&nbsp;</span>Приведем значения столбца <code>date_created</code>  к типу данных <em>datetime</em>.</a></span></li><li><span><a href=\"#Удалим-ненужные-для-обучения-столбцы\" data-toc-modified-id=\"Удалим-ненужные-для-обучения-столбцы-1.8\"><span class=\"toc-item-num\">1.8&nbsp;&nbsp;</span>Удалим ненужные для обучения столбцы</a></span></li><li><span><a href=\"#Проверим-и-удалим-дубликаты\" data-toc-modified-id=\"Проверим-и-удалим-дубликаты-1.9\"><span class=\"toc-item-num\">1.9&nbsp;&nbsp;</span>Проверим и удалим дубликаты</a></span></li><li><span><a href=\"#Заполним-пропуски\" data-toc-modified-id=\"Заполним-пропуски-1.10\"><span class=\"toc-item-num\">1.10&nbsp;&nbsp;</span>Заполним пропуски</a></span><ul class=\"toc-item\"><li><span><a href=\"#Рассмотрим-столбец-repaired\" data-toc-modified-id=\"Рассмотрим-столбец-repaired-1.10.1\"><span class=\"toc-item-num\">1.10.1&nbsp;&nbsp;</span>Рассмотрим столбец <code>repaired</code></a></span></li><li><span><a href=\"#Рассмотрим-столбцы-vehicle_type,-gearbox,-model,-fuel_type\" data-toc-modified-id=\"Рассмотрим-столбцы-vehicle_type,-gearbox,-model,-fuel_type-1.10.2\"><span class=\"toc-item-num\">1.10.2&nbsp;&nbsp;</span>Рассмотрим столбцы <code>vehicle_type</code>, <code>gearbox</code>, <code>model</code>, <code>fuel_type</code></a></span></li></ul></li><li><span><a href=\"#Рассмотрим-аномалии-в-данных\" data-toc-modified-id=\"Рассмотрим-аномалии-в-данных-1.11\"><span class=\"toc-item-num\">1.11&nbsp;&nbsp;</span>Рассмотрим аномалии в данных</a></span><ul class=\"toc-item\"><li><span><a href=\"#Год-регистрации-автомобиля-registration_year\" data-toc-modified-id=\"Год-регистрации-автомобиля-registration_year-1.11.1\"><span class=\"toc-item-num\">1.11.1&nbsp;&nbsp;</span>Год регистрации автомобиля <code>registration_year</code></a></span></li><li><span><a href=\"#Мощность-автомобиля-power\" data-toc-modified-id=\"Мощность-автомобиля-power-1.11.2\"><span class=\"toc-item-num\">1.11.2&nbsp;&nbsp;</span>Мощность автомобиля <code>power</code></a></span></li></ul></li><li><span><a href=\"#Создадим-выборку-с-признаками-features-и-целевым-признаком-target\" data-toc-modified-id=\"Создадим-выборку-с-признаками-features-и-целевым-признаком-target-1.12\"><span class=\"toc-item-num\">1.12&nbsp;&nbsp;</span>Создадим выборку с признаками <code>features</code> и целевым признаком <code>target</code></a></span></li><li><span><a href=\"#Преобразуем-категориальные-признаки-в-численные\" data-toc-modified-id=\"Преобразуем-категориальные-признаки-в-численные-1.13\"><span class=\"toc-item-num\">1.13&nbsp;&nbsp;</span>Преобразуем категориальные признаки в численные</a></span></li><li><span><a href=\"#Разделим-исходные-данные-на-обучающую,-валидационную-и-тестовую-выборки\" data-toc-modified-id=\"Разделим-исходные-данные-на-обучающую,-валидационную-и-тестовую-выборки-1.14\"><span class=\"toc-item-num\">1.14&nbsp;&nbsp;</span>Разделим исходные данные на обучающую, валидационную и тестовую выборки</a></span></li><li><span><a href=\"#Преобразуем-категориальные-признаки-в-численные-(для-brand-и-model)\" data-toc-modified-id=\"Преобразуем-категориальные-признаки-в-численные-(для-brand-и-model)-1.15\"><span class=\"toc-item-num\">1.15&nbsp;&nbsp;</span>Преобразуем категориальные признаки в численные (для <code>brand</code> и <code>model</code>)</a></span></li><li><span><a href=\"#Масштабируем-признаки\" data-toc-modified-id=\"Масштабируем-признаки-1.16\"><span class=\"toc-item-num\">1.16&nbsp;&nbsp;</span>Масштабируем признаки</a></span></li></ul></li><li><span><a href=\"#Обучение-моделей\" data-toc-modified-id=\"Обучение-моделей-2\"><span class=\"toc-item-num\">2&nbsp;&nbsp;</span>Обучение моделей</a></span><ul class=\"toc-item\"><li><span><a href=\"#Линейная-регрессия-(LinearRegression)\" data-toc-modified-id=\"Линейная-регрессия-(LinearRegression)-2.1\"><span class=\"toc-item-num\">2.1&nbsp;&nbsp;</span>Линейная регрессия (LinearRegression)</a></span></li><li><span><a href=\"#Случайный-лес-(RandomForestRegressor)\" data-toc-modified-id=\"Случайный-лес-(RandomForestRegressor)-2.2\"><span class=\"toc-item-num\">2.2&nbsp;&nbsp;</span>Случайный лес (RandomForestRegressor)</a></span></li><li><span><a href=\"#CatBoostRegressor\" data-toc-modified-id=\"CatBoostRegressor-2.3\"><span class=\"toc-item-num\">2.3&nbsp;&nbsp;</span>CatBoostRegressor</a></span></li><li><span><a href=\"#LGBMRegressor\" data-toc-modified-id=\"LGBMRegressor-2.4\"><span class=\"toc-item-num\">2.4&nbsp;&nbsp;</span>LGBMRegressor</a></span></li></ul></li><li><span><a href=\"#Анализ-моделей\" data-toc-modified-id=\"Анализ-моделей-3\"><span class=\"toc-item-num\">3&nbsp;&nbsp;</span>Анализ моделей</a></span><ul class=\"toc-item\"><li><span><a href=\"#Сравним-лучшую-модель-с-константной-моделью\" data-toc-modified-id=\"Сравним-лучшую-модель-с-константной-моделью-3.1\"><span class=\"toc-item-num\">3.1&nbsp;&nbsp;</span>Сравним лучшую модель с константной моделью</a></span></li></ul></li><li><span><a href=\"#Общий-вывод\" data-toc-modified-id=\"Общий-вывод-4\"><span class=\"toc-item-num\">4&nbsp;&nbsp;</span>Общий вывод</a></span></li><li><span><a href=\"#Чек-лист-проверки\" data-toc-modified-id=\"Чек-лист-проверки-5\"><span class=\"toc-item-num\">5&nbsp;&nbsp;</span>Чек-лист проверки</a></span></li></ul></div>"
   ]
  },
  {
   "cell_type": "markdown",
   "metadata": {
    "tags": []
   },
   "source": [
    "# Определение стоимости автомобилей"
   ]
  },
  {
   "cell_type": "markdown",
   "metadata": {},
   "source": [
    "Сервис по продаже автомобилей с пробегом разрабатывает приложение для привлечения новых клиентов. В нём можно быстро узнать рыночную стоимость своего автомобиля.\n",
    "\n",
    "**Задача:** необходимо построить модель для определения стоимости. \n",
    "\n",
    "В модели важными критериями являются:\n",
    "\n",
    "- качество предсказания;\n",
    "- скорость предсказания;\n",
    "- время обучения.\n",
    "\n",
    "В нашем распоряжении исторические данные: технические характеристики, комплектации и цены автомобилей. Данные для исследования я получу из файла — `autos.csv`.\n",
    "\n",
    "*Признаки:*\n",
    "\n",
    "- DateCrawled — дата скачивания анкеты из базы\n",
    "- VehicleType — тип автомобильного кузова\n",
    "- RegistrationYear — год регистрации автомобиля\n",
    "- Gearbox — тип коробки передач\n",
    "- Power — мощность (л. с.)\n",
    "- Model — модель автомобиля\n",
    "- Kilometer — пробег (км)\n",
    "- RegistrationMonth — месяц регистрации автомобиля\n",
    "- FuelType — тип топлива\n",
    "- Brand — марка автомобиля\n",
    "- Repaired — была машина в ремонте или нет\n",
    "- DateCreated — дата создания анкеты\n",
    "- NumberOfPictures — количество фотографий автомобиля\n",
    "- PostalCode — почтовый индекс владельца анкеты (пользователя)\n",
    "- LastSeen — дата последней активности пользователя\n",
    "\n",
    "*Целевой признак:*\n",
    "\n",
    "- Price — цена (евро)\n",
    "\n",
    "**Ход исследования:**\n",
    "\n",
    "1. Загрузим и проведем предподготовку данных.\n",
    "2. Подготовим выборки для обучения моделей.\n",
    "3. Обучим разные модели. Для каждой модели попробуем разные гиперпараметры.\n",
    "4. Проанализируем время обучения, время предсказания и качество моделей.\n",
    "5. Опираясь на критерии, выберем лучшую модель, проверим её качество на тестовой выборке.\n",
    "6. Напишем общие выводы."
   ]
  },
  {
   "cell_type": "markdown",
   "metadata": {
    "tags": []
   },
   "source": [
    "## Подготовка данных"
   ]
  },
  {
   "cell_type": "markdown",
   "metadata": {},
   "source": [
    "### Считаем данные из csv-файла и сохраним в переменную."
   ]
  },
  {
   "cell_type": "code",
   "execution_count": 1,
   "metadata": {
    "tags": []
   },
   "outputs": [],
   "source": [
    "#!pip install category_encoders"
   ]
  },
  {
   "cell_type": "code",
   "execution_count": 2,
   "metadata": {},
   "outputs": [],
   "source": [
    "import pandas as pd\n",
    "import numpy as np\n",
    "import matplotlib.pyplot as plt\n",
    "import seaborn as sns\n",
    "\n",
    "from sklearn.metrics import mean_squared_error\n",
    "\n",
    "from category_encoders import MEstimateEncoder\n",
    "\n",
    "from sklearn.linear_model import LinearRegression, SGDRegressor\n",
    "from sklearn.ensemble import RandomForestRegressor\n",
    "from lightgbm import LGBMRegressor\n",
    "from catboost import CatBoostRegressor\n",
    "from sklearn.dummy import DummyRegressor\n",
    "\n",
    "from sklearn.model_selection import train_test_split, cross_val_score, GridSearchCV\n",
    "from sklearn.preprocessing import StandardScaler, OrdinalEncoder, OneHotEncoder\n",
    "\n",
    "import datetime\n",
    "import warnings\n",
    "import time"
   ]
  },
  {
   "cell_type": "code",
   "execution_count": 3,
   "metadata": {},
   "outputs": [],
   "source": [
    "try:\n",
    "    data = pd.read_csv('autos.csv')\n",
    "except:\n",
    "    data = pd.read_csv('/datasets/autos.csv')"
   ]
  },
  {
   "cell_type": "markdown",
   "metadata": {},
   "source": [
    "### Выведем первые 5 строчек, общую информацию и построим числовые гистограммы."
   ]
  },
  {
   "cell_type": "code",
   "execution_count": 4,
   "metadata": {},
   "outputs": [
    {
     "data": {
      "text/html": [
       "<div>\n",
       "<style scoped>\n",
       "    .dataframe tbody tr th:only-of-type {\n",
       "        vertical-align: middle;\n",
       "    }\n",
       "\n",
       "    .dataframe tbody tr th {\n",
       "        vertical-align: top;\n",
       "    }\n",
       "\n",
       "    .dataframe thead th {\n",
       "        text-align: right;\n",
       "    }\n",
       "</style>\n",
       "<table border=\"1\" class=\"dataframe\">\n",
       "  <thead>\n",
       "    <tr style=\"text-align: right;\">\n",
       "      <th></th>\n",
       "      <th>DateCrawled</th>\n",
       "      <th>Price</th>\n",
       "      <th>VehicleType</th>\n",
       "      <th>RegistrationYear</th>\n",
       "      <th>Gearbox</th>\n",
       "      <th>Power</th>\n",
       "      <th>Model</th>\n",
       "      <th>Kilometer</th>\n",
       "      <th>RegistrationMonth</th>\n",
       "      <th>FuelType</th>\n",
       "      <th>Brand</th>\n",
       "      <th>Repaired</th>\n",
       "      <th>DateCreated</th>\n",
       "      <th>NumberOfPictures</th>\n",
       "      <th>PostalCode</th>\n",
       "      <th>LastSeen</th>\n",
       "    </tr>\n",
       "  </thead>\n",
       "  <tbody>\n",
       "    <tr>\n",
       "      <th>0</th>\n",
       "      <td>2016-03-24 11:52:17</td>\n",
       "      <td>480</td>\n",
       "      <td>NaN</td>\n",
       "      <td>1993</td>\n",
       "      <td>manual</td>\n",
       "      <td>0</td>\n",
       "      <td>golf</td>\n",
       "      <td>150000</td>\n",
       "      <td>0</td>\n",
       "      <td>petrol</td>\n",
       "      <td>volkswagen</td>\n",
       "      <td>NaN</td>\n",
       "      <td>2016-03-24 00:00:00</td>\n",
       "      <td>0</td>\n",
       "      <td>70435</td>\n",
       "      <td>2016-04-07 03:16:57</td>\n",
       "    </tr>\n",
       "    <tr>\n",
       "      <th>1</th>\n",
       "      <td>2016-03-24 10:58:45</td>\n",
       "      <td>18300</td>\n",
       "      <td>coupe</td>\n",
       "      <td>2011</td>\n",
       "      <td>manual</td>\n",
       "      <td>190</td>\n",
       "      <td>NaN</td>\n",
       "      <td>125000</td>\n",
       "      <td>5</td>\n",
       "      <td>gasoline</td>\n",
       "      <td>audi</td>\n",
       "      <td>yes</td>\n",
       "      <td>2016-03-24 00:00:00</td>\n",
       "      <td>0</td>\n",
       "      <td>66954</td>\n",
       "      <td>2016-04-07 01:46:50</td>\n",
       "    </tr>\n",
       "    <tr>\n",
       "      <th>2</th>\n",
       "      <td>2016-03-14 12:52:21</td>\n",
       "      <td>9800</td>\n",
       "      <td>suv</td>\n",
       "      <td>2004</td>\n",
       "      <td>auto</td>\n",
       "      <td>163</td>\n",
       "      <td>grand</td>\n",
       "      <td>125000</td>\n",
       "      <td>8</td>\n",
       "      <td>gasoline</td>\n",
       "      <td>jeep</td>\n",
       "      <td>NaN</td>\n",
       "      <td>2016-03-14 00:00:00</td>\n",
       "      <td>0</td>\n",
       "      <td>90480</td>\n",
       "      <td>2016-04-05 12:47:46</td>\n",
       "    </tr>\n",
       "    <tr>\n",
       "      <th>3</th>\n",
       "      <td>2016-03-17 16:54:04</td>\n",
       "      <td>1500</td>\n",
       "      <td>small</td>\n",
       "      <td>2001</td>\n",
       "      <td>manual</td>\n",
       "      <td>75</td>\n",
       "      <td>golf</td>\n",
       "      <td>150000</td>\n",
       "      <td>6</td>\n",
       "      <td>petrol</td>\n",
       "      <td>volkswagen</td>\n",
       "      <td>no</td>\n",
       "      <td>2016-03-17 00:00:00</td>\n",
       "      <td>0</td>\n",
       "      <td>91074</td>\n",
       "      <td>2016-03-17 17:40:17</td>\n",
       "    </tr>\n",
       "    <tr>\n",
       "      <th>4</th>\n",
       "      <td>2016-03-31 17:25:20</td>\n",
       "      <td>3600</td>\n",
       "      <td>small</td>\n",
       "      <td>2008</td>\n",
       "      <td>manual</td>\n",
       "      <td>69</td>\n",
       "      <td>fabia</td>\n",
       "      <td>90000</td>\n",
       "      <td>7</td>\n",
       "      <td>gasoline</td>\n",
       "      <td>skoda</td>\n",
       "      <td>no</td>\n",
       "      <td>2016-03-31 00:00:00</td>\n",
       "      <td>0</td>\n",
       "      <td>60437</td>\n",
       "      <td>2016-04-06 10:17:21</td>\n",
       "    </tr>\n",
       "  </tbody>\n",
       "</table>\n",
       "</div>"
      ],
      "text/plain": [
       "           DateCrawled  Price VehicleType  RegistrationYear Gearbox  Power  \\\n",
       "0  2016-03-24 11:52:17    480         NaN              1993  manual      0   \n",
       "1  2016-03-24 10:58:45  18300       coupe              2011  manual    190   \n",
       "2  2016-03-14 12:52:21   9800         suv              2004    auto    163   \n",
       "3  2016-03-17 16:54:04   1500       small              2001  manual     75   \n",
       "4  2016-03-31 17:25:20   3600       small              2008  manual     69   \n",
       "\n",
       "   Model  Kilometer  RegistrationMonth  FuelType       Brand Repaired  \\\n",
       "0   golf     150000                  0    petrol  volkswagen      NaN   \n",
       "1    NaN     125000                  5  gasoline        audi      yes   \n",
       "2  grand     125000                  8  gasoline        jeep      NaN   \n",
       "3   golf     150000                  6    petrol  volkswagen       no   \n",
       "4  fabia      90000                  7  gasoline       skoda       no   \n",
       "\n",
       "           DateCreated  NumberOfPictures  PostalCode             LastSeen  \n",
       "0  2016-03-24 00:00:00                 0       70435  2016-04-07 03:16:57  \n",
       "1  2016-03-24 00:00:00                 0       66954  2016-04-07 01:46:50  \n",
       "2  2016-03-14 00:00:00                 0       90480  2016-04-05 12:47:46  \n",
       "3  2016-03-17 00:00:00                 0       91074  2016-03-17 17:40:17  \n",
       "4  2016-03-31 00:00:00                 0       60437  2016-04-06 10:17:21  "
      ]
     },
     "execution_count": 4,
     "metadata": {},
     "output_type": "execute_result"
    }
   ],
   "source": [
    "data.head()"
   ]
  },
  {
   "cell_type": "code",
   "execution_count": 5,
   "metadata": {},
   "outputs": [
    {
     "name": "stdout",
     "output_type": "stream",
     "text": [
      "<class 'pandas.core.frame.DataFrame'>\n",
      "RangeIndex: 354369 entries, 0 to 354368\n",
      "Data columns (total 16 columns):\n",
      " #   Column             Non-Null Count   Dtype \n",
      "---  ------             --------------   ----- \n",
      " 0   DateCrawled        354369 non-null  object\n",
      " 1   Price              354369 non-null  int64 \n",
      " 2   VehicleType        316879 non-null  object\n",
      " 3   RegistrationYear   354369 non-null  int64 \n",
      " 4   Gearbox            334536 non-null  object\n",
      " 5   Power              354369 non-null  int64 \n",
      " 6   Model              334664 non-null  object\n",
      " 7   Kilometer          354369 non-null  int64 \n",
      " 8   RegistrationMonth  354369 non-null  int64 \n",
      " 9   FuelType           321474 non-null  object\n",
      " 10  Brand              354369 non-null  object\n",
      " 11  Repaired           283215 non-null  object\n",
      " 12  DateCreated        354369 non-null  object\n",
      " 13  NumberOfPictures   354369 non-null  int64 \n",
      " 14  PostalCode         354369 non-null  int64 \n",
      " 15  LastSeen           354369 non-null  object\n",
      "dtypes: int64(7), object(9)\n",
      "memory usage: 43.3+ MB\n"
     ]
    }
   ],
   "source": [
    "data.info()"
   ]
  },
  {
   "cell_type": "code",
   "execution_count": 6,
   "metadata": {},
   "outputs": [
    {
     "data": {
      "text/html": [
       "<style type=\"text/css\">\n",
       "#T_f09eb_row0_col0, #T_f09eb_row1_col0, #T_f09eb_row3_col0, #T_f09eb_row5_col0, #T_f09eb_row7_col0, #T_f09eb_row8_col0, #T_f09eb_row10_col0, #T_f09eb_row12_col0, #T_f09eb_row13_col0, #T_f09eb_row14_col0, #T_f09eb_row15_col0 {\n",
       "  background-color: #3b4cc0;\n",
       "  color: #f1f1f1;\n",
       "}\n",
       "#T_f09eb_row2_col0 {\n",
       "  background-color: #e9d5cb;\n",
       "  color: #000000;\n",
       "}\n",
       "#T_f09eb_row4_col0, #T_f09eb_row6_col0 {\n",
       "  background-color: #9ebeff;\n",
       "  color: #000000;\n",
       "}\n",
       "#T_f09eb_row9_col0 {\n",
       "  background-color: #cfdaea;\n",
       "  color: #000000;\n",
       "}\n",
       "#T_f09eb_row11_col0 {\n",
       "  background-color: #b40426;\n",
       "  color: #f1f1f1;\n",
       "}\n",
       "</style>\n",
       "<table id=\"T_f09eb\">\n",
       "  <thead>\n",
       "    <tr>\n",
       "      <th class=\"blank level0\" >&nbsp;</th>\n",
       "      <th id=\"T_f09eb_level0_col0\" class=\"col_heading level0 col0\" >0</th>\n",
       "    </tr>\n",
       "  </thead>\n",
       "  <tbody>\n",
       "    <tr>\n",
       "      <th id=\"T_f09eb_level0_row0\" class=\"row_heading level0 row0\" >DateCrawled</th>\n",
       "      <td id=\"T_f09eb_row0_col0\" class=\"data row0 col0\" >0.000000</td>\n",
       "    </tr>\n",
       "    <tr>\n",
       "      <th id=\"T_f09eb_level0_row1\" class=\"row_heading level0 row1\" >Price</th>\n",
       "      <td id=\"T_f09eb_row1_col0\" class=\"data row1 col0\" >0.000000</td>\n",
       "    </tr>\n",
       "    <tr>\n",
       "      <th id=\"T_f09eb_level0_row2\" class=\"row_heading level0 row2\" >VehicleType</th>\n",
       "      <td id=\"T_f09eb_row2_col0\" class=\"data row2 col0\" >11.000000</td>\n",
       "    </tr>\n",
       "    <tr>\n",
       "      <th id=\"T_f09eb_level0_row3\" class=\"row_heading level0 row3\" >RegistrationYear</th>\n",
       "      <td id=\"T_f09eb_row3_col0\" class=\"data row3 col0\" >0.000000</td>\n",
       "    </tr>\n",
       "    <tr>\n",
       "      <th id=\"T_f09eb_level0_row4\" class=\"row_heading level0 row4\" >Gearbox</th>\n",
       "      <td id=\"T_f09eb_row4_col0\" class=\"data row4 col0\" >6.000000</td>\n",
       "    </tr>\n",
       "    <tr>\n",
       "      <th id=\"T_f09eb_level0_row5\" class=\"row_heading level0 row5\" >Power</th>\n",
       "      <td id=\"T_f09eb_row5_col0\" class=\"data row5 col0\" >0.000000</td>\n",
       "    </tr>\n",
       "    <tr>\n",
       "      <th id=\"T_f09eb_level0_row6\" class=\"row_heading level0 row6\" >Model</th>\n",
       "      <td id=\"T_f09eb_row6_col0\" class=\"data row6 col0\" >6.000000</td>\n",
       "    </tr>\n",
       "    <tr>\n",
       "      <th id=\"T_f09eb_level0_row7\" class=\"row_heading level0 row7\" >Kilometer</th>\n",
       "      <td id=\"T_f09eb_row7_col0\" class=\"data row7 col0\" >0.000000</td>\n",
       "    </tr>\n",
       "    <tr>\n",
       "      <th id=\"T_f09eb_level0_row8\" class=\"row_heading level0 row8\" >RegistrationMonth</th>\n",
       "      <td id=\"T_f09eb_row8_col0\" class=\"data row8 col0\" >0.000000</td>\n",
       "    </tr>\n",
       "    <tr>\n",
       "      <th id=\"T_f09eb_level0_row9\" class=\"row_heading level0 row9\" >FuelType</th>\n",
       "      <td id=\"T_f09eb_row9_col0\" class=\"data row9 col0\" >9.000000</td>\n",
       "    </tr>\n",
       "    <tr>\n",
       "      <th id=\"T_f09eb_level0_row10\" class=\"row_heading level0 row10\" >Brand</th>\n",
       "      <td id=\"T_f09eb_row10_col0\" class=\"data row10 col0\" >0.000000</td>\n",
       "    </tr>\n",
       "    <tr>\n",
       "      <th id=\"T_f09eb_level0_row11\" class=\"row_heading level0 row11\" >Repaired</th>\n",
       "      <td id=\"T_f09eb_row11_col0\" class=\"data row11 col0\" >20.000000</td>\n",
       "    </tr>\n",
       "    <tr>\n",
       "      <th id=\"T_f09eb_level0_row12\" class=\"row_heading level0 row12\" >DateCreated</th>\n",
       "      <td id=\"T_f09eb_row12_col0\" class=\"data row12 col0\" >0.000000</td>\n",
       "    </tr>\n",
       "    <tr>\n",
       "      <th id=\"T_f09eb_level0_row13\" class=\"row_heading level0 row13\" >NumberOfPictures</th>\n",
       "      <td id=\"T_f09eb_row13_col0\" class=\"data row13 col0\" >0.000000</td>\n",
       "    </tr>\n",
       "    <tr>\n",
       "      <th id=\"T_f09eb_level0_row14\" class=\"row_heading level0 row14\" >PostalCode</th>\n",
       "      <td id=\"T_f09eb_row14_col0\" class=\"data row14 col0\" >0.000000</td>\n",
       "    </tr>\n",
       "    <tr>\n",
       "      <th id=\"T_f09eb_level0_row15\" class=\"row_heading level0 row15\" >LastSeen</th>\n",
       "      <td id=\"T_f09eb_row15_col0\" class=\"data row15 col0\" >0.000000</td>\n",
       "    </tr>\n",
       "  </tbody>\n",
       "</table>\n"
      ],
      "text/plain": [
       "<pandas.io.formats.style.Styler at 0x185b4cfbc50>"
      ]
     },
     "execution_count": 6,
     "metadata": {},
     "output_type": "execute_result"
    }
   ],
   "source": [
    "pd.DataFrame(round(data.isna().mean()*100,)).style.background_gradient('coolwarm')"
   ]
  },
  {
   "cell_type": "code",
   "execution_count": 7,
   "metadata": {},
   "outputs": [
    {
     "data": {
      "image/png": "[encoded data removed]",
      "text/plain": [
       "<Figure size 2000x1500 with 5 Axes>"
      ]
     },
     "metadata": {},
     "output_type": "display_data"
    }
   ],
   "source": [
    "plt.figure(figsize=(20, 15))\n",
    "\n",
    "plt.subplot(2, 3, 1)\n",
    "plt.hist(data['Price'], bins=50)\n",
    "plt.title(\"Цена\")\n",
    "\n",
    "plt.subplot(2, 3, 2)\n",
    "plt.hist(data['RegistrationYear'], bins=50)\n",
    "plt.title(\"Год регистрации автомобиля\")\n",
    "\n",
    "\n",
    "plt.subplot(2, 3, 3)\n",
    "plt.hist(data['Power'], bins=50)\n",
    "plt.title(\"Мощность (л.с.)\")\n",
    "\n",
    "\n",
    "plt.subplot(2, 3, 4)\n",
    "plt.hist(data['Kilometer'], bins=50)\n",
    "plt.title(\"Пробег (км)\")\n",
    "plt.xticks(rotation=90)\n",
    "\n",
    "plt.subplot(2, 3, 5)\n",
    "plt.hist(data['RegistrationMonth'], bins=50)\n",
    "plt.title(\"Месяц регистрации автомобиля\")\n",
    "\n",
    "plt.show()"
   ]
  },
  {
   "cell_type": "markdown",
   "metadata": {},
   "source": [
    "### Рассмотрим корреляцию данных."
   ]
  },
  {
   "cell_type": "code",
   "execution_count": 8,
   "metadata": {
    "scrolled": true
   },
   "outputs": [
    {
     "data": {
      "text/html": [
       "<div>\n",
       "<style scoped>\n",
       "    .dataframe tbody tr th:only-of-type {\n",
       "        vertical-align: middle;\n",
       "    }\n",
       "\n",
       "    .dataframe tbody tr th {\n",
       "        vertical-align: top;\n",
       "    }\n",
       "\n",
       "    .dataframe thead th {\n",
       "        text-align: right;\n",
       "    }\n",
       "</style>\n",
       "<table border=\"1\" class=\"dataframe\">\n",
       "  <thead>\n",
       "    <tr style=\"text-align: right;\">\n",
       "      <th></th>\n",
       "      <th>Price</th>\n",
       "      <th>RegistrationYear</th>\n",
       "      <th>Power</th>\n",
       "      <th>Kilometer</th>\n",
       "      <th>RegistrationMonth</th>\n",
       "      <th>NumberOfPictures</th>\n",
       "      <th>PostalCode</th>\n",
       "    </tr>\n",
       "  </thead>\n",
       "  <tbody>\n",
       "    <tr>\n",
       "      <th>Price</th>\n",
       "      <td>1.000000</td>\n",
       "      <td>0.026916</td>\n",
       "      <td>0.158872</td>\n",
       "      <td>-0.333199</td>\n",
       "      <td>0.110581</td>\n",
       "      <td>NaN</td>\n",
       "      <td>0.076055</td>\n",
       "    </tr>\n",
       "    <tr>\n",
       "      <th>RegistrationYear</th>\n",
       "      <td>0.026916</td>\n",
       "      <td>1.000000</td>\n",
       "      <td>-0.000828</td>\n",
       "      <td>-0.053447</td>\n",
       "      <td>-0.011619</td>\n",
       "      <td>NaN</td>\n",
       "      <td>-0.003459</td>\n",
       "    </tr>\n",
       "    <tr>\n",
       "      <th>Power</th>\n",
       "      <td>0.158872</td>\n",
       "      <td>-0.000828</td>\n",
       "      <td>1.000000</td>\n",
       "      <td>0.024002</td>\n",
       "      <td>0.043380</td>\n",
       "      <td>NaN</td>\n",
       "      <td>0.021665</td>\n",
       "    </tr>\n",
       "    <tr>\n",
       "      <th>Kilometer</th>\n",
       "      <td>-0.333199</td>\n",
       "      <td>-0.053447</td>\n",
       "      <td>0.024002</td>\n",
       "      <td>1.000000</td>\n",
       "      <td>0.009571</td>\n",
       "      <td>NaN</td>\n",
       "      <td>-0.007698</td>\n",
       "    </tr>\n",
       "    <tr>\n",
       "      <th>RegistrationMonth</th>\n",
       "      <td>0.110581</td>\n",
       "      <td>-0.011619</td>\n",
       "      <td>0.043380</td>\n",
       "      <td>0.009571</td>\n",
       "      <td>1.000000</td>\n",
       "      <td>NaN</td>\n",
       "      <td>0.013995</td>\n",
       "    </tr>\n",
       "    <tr>\n",
       "      <th>NumberOfPictures</th>\n",
       "      <td>NaN</td>\n",
       "      <td>NaN</td>\n",
       "      <td>NaN</td>\n",
       "      <td>NaN</td>\n",
       "      <td>NaN</td>\n",
       "      <td>NaN</td>\n",
       "      <td>NaN</td>\n",
       "    </tr>\n",
       "    <tr>\n",
       "      <th>PostalCode</th>\n",
       "      <td>0.076055</td>\n",
       "      <td>-0.003459</td>\n",
       "      <td>0.021665</td>\n",
       "      <td>-0.007698</td>\n",
       "      <td>0.013995</td>\n",
       "      <td>NaN</td>\n",
       "      <td>1.000000</td>\n",
       "    </tr>\n",
       "  </tbody>\n",
       "</table>\n",
       "</div>"
      ],
      "text/plain": [
       "                      Price  RegistrationYear     Power  Kilometer  \\\n",
       "Price              1.000000          0.026916  0.158872  -0.333199   \n",
       "RegistrationYear   0.026916          1.000000 -0.000828  -0.053447   \n",
       "Power              0.158872         -0.000828  1.000000   0.024002   \n",
       "Kilometer         -0.333199         -0.053447  0.024002   1.000000   \n",
       "RegistrationMonth  0.110581         -0.011619  0.043380   0.009571   \n",
       "NumberOfPictures        NaN               NaN       NaN        NaN   \n",
       "PostalCode         0.076055         -0.003459  0.021665  -0.007698   \n",
       "\n",
       "                   RegistrationMonth  NumberOfPictures  PostalCode  \n",
       "Price                       0.110581               NaN    0.076055  \n",
       "RegistrationYear           -0.011619               NaN   -0.003459  \n",
       "Power                       0.043380               NaN    0.021665  \n",
       "Kilometer                   0.009571               NaN   -0.007698  \n",
       "RegistrationMonth           1.000000               NaN    0.013995  \n",
       "NumberOfPictures                 NaN               NaN         NaN  \n",
       "PostalCode                  0.013995               NaN    1.000000  "
      ]
     },
     "execution_count": 8,
     "metadata": {},
     "output_type": "execute_result"
    }
   ],
   "source": [
    "data.corr(numeric_only=bool)"
   ]
  },
  {
   "cell_type": "markdown",
   "metadata": {},
   "source": [
    "### Проверим дубликаты"
   ]
  },
  {
   "cell_type": "code",
   "execution_count": 9,
   "metadata": {
    "scrolled": true
   },
   "outputs": [
    {
     "name": "stdout",
     "output_type": "stream",
     "text": [
      "Количество дубликатов: 4\n"
     ]
    }
   ],
   "source": [
    "print('Количество дубликатов:', data.duplicated().sum())"
   ]
  },
  {
   "cell_type": "markdown",
   "metadata": {},
   "source": [
    "**Вывод, исходя из начальных общих данных датасета `autos.csv`:**\n",
    "\n",
    "1. есть пропуски в данных и найдено немного дубликатов.\n",
    "2. наблюдаются аномалии и выбросы в данных:\n",
    "- цена имеет значение 0;\n",
    "- нереальный год регистрации автомобиля;\n",
    "- большая мощность автомобиля;\n",
    "- нулевой месяц регистрации автомобиля.\n",
    "3. наблюдается отрицательное значение корреляции между ценой и пробегом, отличное от нуля - обратная взаимосвязь.\n",
    "\n",
    "**Проведем предобработку данных для дальнейшего исследования.**"
   ]
  },
  {
   "cell_type": "markdown",
   "metadata": {},
   "source": [
    "### Заменим названия столбцов (приведем все названия столбцов к нижнему регистру)."
   ]
  },
  {
   "cell_type": "code",
   "execution_count": 10,
   "metadata": {},
   "outputs": [],
   "source": [
    "data.columns = data.columns.str.lower()"
   ]
  },
  {
   "cell_type": "markdown",
   "metadata": {},
   "source": [
    "**Переименуем столбцы для удобства**"
   ]
  },
  {
   "cell_type": "code",
   "execution_count": 11,
   "metadata": {},
   "outputs": [],
   "source": [
    "data.rename(columns={\n",
    "    'datecrawled' : 'date_crawled',\n",
    "    'vehicletype' : 'vehicle_type',\n",
    "    'registrationyear' : 'registration_year',\n",
    "    'registrationmonth' : 'registration_month',\n",
    "    'fueltype' : 'fuel_type',\n",
    "    'datecreated' : 'date_created',\n",
    "    'numberofpictures' : 'number_of_pictures',\n",
    "    'postalcode' : 'postal_code',\n",
    "    'lastseen' : 'last_seen'\n",
    "}, inplace=True)"
   ]
  },
  {
   "cell_type": "markdown",
   "metadata": {},
   "source": [
    "### Рассмотрим целевой признак - столбец `price`"
   ]
  },
  {
   "cell_type": "markdown",
   "metadata": {},
   "source": [
    "На гистограмме целевой переменной видно около 30 тыс околонулевых значений. Цена за автомобиль меньше, чем 50 евро - это тоже что-то странное."
   ]
  },
  {
   "cell_type": "code",
   "execution_count": 12,
   "metadata": {},
   "outputs": [
    {
     "data": {
      "text/html": [
       "<div>\n",
       "<style scoped>\n",
       "    .dataframe tbody tr th:only-of-type {\n",
       "        vertical-align: middle;\n",
       "    }\n",
       "\n",
       "    .dataframe tbody tr th {\n",
       "        vertical-align: top;\n",
       "    }\n",
       "\n",
       "    .dataframe thead th {\n",
       "        text-align: right;\n",
       "    }\n",
       "</style>\n",
       "<table border=\"1\" class=\"dataframe\">\n",
       "  <thead>\n",
       "    <tr style=\"text-align: right;\">\n",
       "      <th></th>\n",
       "      <th>date_crawled</th>\n",
       "      <th>price</th>\n",
       "      <th>vehicle_type</th>\n",
       "      <th>registration_year</th>\n",
       "      <th>gearbox</th>\n",
       "      <th>power</th>\n",
       "      <th>model</th>\n",
       "      <th>kilometer</th>\n",
       "      <th>registration_month</th>\n",
       "      <th>fuel_type</th>\n",
       "      <th>brand</th>\n",
       "      <th>repaired</th>\n",
       "      <th>date_created</th>\n",
       "      <th>number_of_pictures</th>\n",
       "      <th>postal_code</th>\n",
       "      <th>last_seen</th>\n",
       "    </tr>\n",
       "  </thead>\n",
       "  <tbody>\n",
       "    <tr>\n",
       "      <th>7</th>\n",
       "      <td>2016-03-21 18:54:38</td>\n",
       "      <td>0</td>\n",
       "      <td>sedan</td>\n",
       "      <td>1980</td>\n",
       "      <td>manual</td>\n",
       "      <td>50</td>\n",
       "      <td>other</td>\n",
       "      <td>40000</td>\n",
       "      <td>7</td>\n",
       "      <td>petrol</td>\n",
       "      <td>volkswagen</td>\n",
       "      <td>no</td>\n",
       "      <td>2016-03-21 00:00:00</td>\n",
       "      <td>0</td>\n",
       "      <td>19348</td>\n",
       "      <td>2016-03-25 16:47:58</td>\n",
       "    </tr>\n",
       "    <tr>\n",
       "      <th>40</th>\n",
       "      <td>2016-03-26 22:06:17</td>\n",
       "      <td>0</td>\n",
       "      <td>NaN</td>\n",
       "      <td>1990</td>\n",
       "      <td>NaN</td>\n",
       "      <td>0</td>\n",
       "      <td>corsa</td>\n",
       "      <td>150000</td>\n",
       "      <td>1</td>\n",
       "      <td>petrol</td>\n",
       "      <td>opel</td>\n",
       "      <td>NaN</td>\n",
       "      <td>2016-03-26 00:00:00</td>\n",
       "      <td>0</td>\n",
       "      <td>56412</td>\n",
       "      <td>2016-03-27 17:43:34</td>\n",
       "    </tr>\n",
       "    <tr>\n",
       "      <th>59</th>\n",
       "      <td>2016-03-29 15:48:15</td>\n",
       "      <td>1</td>\n",
       "      <td>suv</td>\n",
       "      <td>1994</td>\n",
       "      <td>manual</td>\n",
       "      <td>286</td>\n",
       "      <td>NaN</td>\n",
       "      <td>150000</td>\n",
       "      <td>11</td>\n",
       "      <td>NaN</td>\n",
       "      <td>sonstige_autos</td>\n",
       "      <td>NaN</td>\n",
       "      <td>2016-03-29 00:00:00</td>\n",
       "      <td>0</td>\n",
       "      <td>53721</td>\n",
       "      <td>2016-04-06 01:44:38</td>\n",
       "    </tr>\n",
       "    <tr>\n",
       "      <th>89</th>\n",
       "      <td>2016-03-28 09:37:01</td>\n",
       "      <td>1</td>\n",
       "      <td>sedan</td>\n",
       "      <td>1995</td>\n",
       "      <td>manual</td>\n",
       "      <td>113</td>\n",
       "      <td>e_klasse</td>\n",
       "      <td>150000</td>\n",
       "      <td>4</td>\n",
       "      <td>gasoline</td>\n",
       "      <td>mercedes_benz</td>\n",
       "      <td>no</td>\n",
       "      <td>2016-03-28 00:00:00</td>\n",
       "      <td>0</td>\n",
       "      <td>40589</td>\n",
       "      <td>2016-04-06 12:15:54</td>\n",
       "    </tr>\n",
       "    <tr>\n",
       "      <th>111</th>\n",
       "      <td>2016-03-19 18:40:12</td>\n",
       "      <td>0</td>\n",
       "      <td>NaN</td>\n",
       "      <td>2017</td>\n",
       "      <td>manual</td>\n",
       "      <td>0</td>\n",
       "      <td>golf</td>\n",
       "      <td>5000</td>\n",
       "      <td>12</td>\n",
       "      <td>petrol</td>\n",
       "      <td>volkswagen</td>\n",
       "      <td>NaN</td>\n",
       "      <td>2016-03-19 00:00:00</td>\n",
       "      <td>0</td>\n",
       "      <td>21698</td>\n",
       "      <td>2016-04-01 08:47:05</td>\n",
       "    </tr>\n",
       "    <tr>\n",
       "      <th>...</th>\n",
       "      <td>...</td>\n",
       "      <td>...</td>\n",
       "      <td>...</td>\n",
       "      <td>...</td>\n",
       "      <td>...</td>\n",
       "      <td>...</td>\n",
       "      <td>...</td>\n",
       "      <td>...</td>\n",
       "      <td>...</td>\n",
       "      <td>...</td>\n",
       "      <td>...</td>\n",
       "      <td>...</td>\n",
       "      <td>...</td>\n",
       "      <td>...</td>\n",
       "      <td>...</td>\n",
       "      <td>...</td>\n",
       "    </tr>\n",
       "    <tr>\n",
       "      <th>354205</th>\n",
       "      <td>2016-03-09 15:56:30</td>\n",
       "      <td>0</td>\n",
       "      <td>NaN</td>\n",
       "      <td>2000</td>\n",
       "      <td>manual</td>\n",
       "      <td>65</td>\n",
       "      <td>corsa</td>\n",
       "      <td>150000</td>\n",
       "      <td>0</td>\n",
       "      <td>NaN</td>\n",
       "      <td>opel</td>\n",
       "      <td>yes</td>\n",
       "      <td>2016-03-09 00:00:00</td>\n",
       "      <td>0</td>\n",
       "      <td>23758</td>\n",
       "      <td>2016-03-30 11:16:08</td>\n",
       "    </tr>\n",
       "    <tr>\n",
       "      <th>354238</th>\n",
       "      <td>2016-03-20 14:55:07</td>\n",
       "      <td>0</td>\n",
       "      <td>small</td>\n",
       "      <td>2002</td>\n",
       "      <td>manual</td>\n",
       "      <td>60</td>\n",
       "      <td>fiesta</td>\n",
       "      <td>150000</td>\n",
       "      <td>3</td>\n",
       "      <td>petrol</td>\n",
       "      <td>ford</td>\n",
       "      <td>NaN</td>\n",
       "      <td>2016-03-20 00:00:00</td>\n",
       "      <td>0</td>\n",
       "      <td>33659</td>\n",
       "      <td>2016-04-06 18:45:23</td>\n",
       "    </tr>\n",
       "    <tr>\n",
       "      <th>354248</th>\n",
       "      <td>2016-03-24 13:48:05</td>\n",
       "      <td>0</td>\n",
       "      <td>small</td>\n",
       "      <td>1999</td>\n",
       "      <td>manual</td>\n",
       "      <td>53</td>\n",
       "      <td>swift</td>\n",
       "      <td>150000</td>\n",
       "      <td>3</td>\n",
       "      <td>petrol</td>\n",
       "      <td>suzuki</td>\n",
       "      <td>NaN</td>\n",
       "      <td>2016-03-24 00:00:00</td>\n",
       "      <td>0</td>\n",
       "      <td>42329</td>\n",
       "      <td>2016-04-07 05:17:24</td>\n",
       "    </tr>\n",
       "    <tr>\n",
       "      <th>354277</th>\n",
       "      <td>2016-03-10 22:55:50</td>\n",
       "      <td>0</td>\n",
       "      <td>small</td>\n",
       "      <td>1999</td>\n",
       "      <td>manual</td>\n",
       "      <td>37</td>\n",
       "      <td>arosa</td>\n",
       "      <td>150000</td>\n",
       "      <td>7</td>\n",
       "      <td>petrol</td>\n",
       "      <td>seat</td>\n",
       "      <td>yes</td>\n",
       "      <td>2016-03-10 00:00:00</td>\n",
       "      <td>0</td>\n",
       "      <td>22559</td>\n",
       "      <td>2016-03-12 23:46:32</td>\n",
       "    </tr>\n",
       "    <tr>\n",
       "      <th>354364</th>\n",
       "      <td>2016-03-21 09:50:58</td>\n",
       "      <td>0</td>\n",
       "      <td>NaN</td>\n",
       "      <td>2005</td>\n",
       "      <td>manual</td>\n",
       "      <td>0</td>\n",
       "      <td>colt</td>\n",
       "      <td>150000</td>\n",
       "      <td>7</td>\n",
       "      <td>petrol</td>\n",
       "      <td>mitsubishi</td>\n",
       "      <td>yes</td>\n",
       "      <td>2016-03-21 00:00:00</td>\n",
       "      <td>0</td>\n",
       "      <td>2694</td>\n",
       "      <td>2016-03-21 10:42:49</td>\n",
       "    </tr>\n",
       "  </tbody>\n",
       "</table>\n",
       "<p>12750 rows × 16 columns</p>\n",
       "</div>"
      ],
      "text/plain": [
       "               date_crawled  price vehicle_type  registration_year gearbox  \\\n",
       "7       2016-03-21 18:54:38      0        sedan               1980  manual   \n",
       "40      2016-03-26 22:06:17      0          NaN               1990     NaN   \n",
       "59      2016-03-29 15:48:15      1          suv               1994  manual   \n",
       "89      2016-03-28 09:37:01      1        sedan               1995  manual   \n",
       "111     2016-03-19 18:40:12      0          NaN               2017  manual   \n",
       "...                     ...    ...          ...                ...     ...   \n",
       "354205  2016-03-09 15:56:30      0          NaN               2000  manual   \n",
       "354238  2016-03-20 14:55:07      0        small               2002  manual   \n",
       "354248  2016-03-24 13:48:05      0        small               1999  manual   \n",
       "354277  2016-03-10 22:55:50      0        small               1999  manual   \n",
       "354364  2016-03-21 09:50:58      0          NaN               2005  manual   \n",
       "\n",
       "        power     model  kilometer  registration_month fuel_type  \\\n",
       "7          50     other      40000                   7    petrol   \n",
       "40          0     corsa     150000                   1    petrol   \n",
       "59        286       NaN     150000                  11       NaN   \n",
       "89        113  e_klasse     150000                   4  gasoline   \n",
       "111         0      golf       5000                  12    petrol   \n",
       "...       ...       ...        ...                 ...       ...   \n",
       "354205     65     corsa     150000                   0       NaN   \n",
       "354238     60    fiesta     150000                   3    petrol   \n",
       "354248     53     swift     150000                   3    petrol   \n",
       "354277     37     arosa     150000                   7    petrol   \n",
       "354364      0      colt     150000                   7    petrol   \n",
       "\n",
       "                 brand repaired         date_created  number_of_pictures  \\\n",
       "7           volkswagen       no  2016-03-21 00:00:00                   0   \n",
       "40                opel      NaN  2016-03-26 00:00:00                   0   \n",
       "59      sonstige_autos      NaN  2016-03-29 00:00:00                   0   \n",
       "89       mercedes_benz       no  2016-03-28 00:00:00                   0   \n",
       "111         volkswagen      NaN  2016-03-19 00:00:00                   0   \n",
       "...                ...      ...                  ...                 ...   \n",
       "354205            opel      yes  2016-03-09 00:00:00                   0   \n",
       "354238            ford      NaN  2016-03-20 00:00:00                   0   \n",
       "354248          suzuki      NaN  2016-03-24 00:00:00                   0   \n",
       "354277            seat      yes  2016-03-10 00:00:00                   0   \n",
       "354364      mitsubishi      yes  2016-03-21 00:00:00                   0   \n",
       "\n",
       "        postal_code            last_seen  \n",
       "7             19348  2016-03-25 16:47:58  \n",
       "40            56412  2016-03-27 17:43:34  \n",
       "59            53721  2016-04-06 01:44:38  \n",
       "89            40589  2016-04-06 12:15:54  \n",
       "111           21698  2016-04-01 08:47:05  \n",
       "...             ...                  ...  \n",
       "354205        23758  2016-03-30 11:16:08  \n",
       "354238        33659  2016-04-06 18:45:23  \n",
       "354248        42329  2016-04-07 05:17:24  \n",
       "354277        22559  2016-03-12 23:46:32  \n",
       "354364         2694  2016-03-21 10:42:49  \n",
       "\n",
       "[12750 rows x 16 columns]"
      ]
     },
     "execution_count": 12,
     "metadata": {},
     "output_type": "execute_result"
    }
   ],
   "source": [
    "data[data['price'] <= 50]"
   ]
  },
  {
   "cell_type": "markdown",
   "metadata": {},
   "source": [
    "Несмотря на то, что попадаются реально старые автомобили с большим пробегом, мы выяснили, что корреляция этих данных с ценой небольшая и автомобиль, например, 1995 года может стоить как 1 евро, так и 1000. Будем считать, что цена ниже 50 евро считается аномальной, удалим 12750 строк (3,6% от исходных данных)."
   ]
  },
  {
   "cell_type": "code",
   "execution_count": 13,
   "metadata": {},
   "outputs": [],
   "source": [
    "data = data[data['price'] > 50 ]"
   ]
  },
  {
   "cell_type": "code",
   "execution_count": 14,
   "metadata": {},
   "outputs": [
    {
     "data": {
      "text/plain": [
       "count    341619.000000\n",
       "mean       4581.416142\n",
       "std        4514.829671\n",
       "min          55.000000\n",
       "25%        1200.000000\n",
       "50%        2900.000000\n",
       "75%        6500.000000\n",
       "max       20000.000000\n",
       "Name: price, dtype: float64"
      ]
     },
     "execution_count": 14,
     "metadata": {},
     "output_type": "execute_result"
    }
   ],
   "source": [
    "data['price'].describe()"
   ]
  },
  {
   "cell_type": "code",
   "execution_count": 15,
   "metadata": {},
   "outputs": [
    {
     "data": {
      "image/png": "[encoded data removed]",
      "text/plain": [
       "<Figure size 500x500 with 1 Axes>"
      ]
     },
     "metadata": {},
     "output_type": "display_data"
    }
   ],
   "source": [
    "plt.figure(figsize=(5,5))\n",
    "sns.boxplot(data=data['price'])\n",
    "plt.grid()\n",
    "plt.ylim(-1000, 20000)\n",
    "plt.show()"
   ]
  },
  {
   "cell_type": "markdown",
   "metadata": {},
   "source": [
    "Имеются цены и в 20 000 евро - оставим верхний выброс, так как такая стоимость может быть на самом деле."
   ]
  },
  {
   "cell_type": "markdown",
   "metadata": {},
   "source": [
    "### Приведем значения столбца `date_created`  к типу данных *datetime*."
   ]
  },
  {
   "cell_type": "code",
   "execution_count": 16,
   "metadata": {
    "tags": []
   },
   "outputs": [
    {
     "name": "stdout",
     "output_type": "stream",
     "text": [
      "<class 'pandas.core.frame.DataFrame'>\n",
      "Index: 341619 entries, 0 to 354368\n",
      "Data columns (total 16 columns):\n",
      " #   Column              Non-Null Count   Dtype         \n",
      "---  ------              --------------   -----         \n",
      " 0   date_crawled        341619 non-null  object        \n",
      " 1   price               341619 non-null  int64         \n",
      " 2   vehicle_type        308775 non-null  object        \n",
      " 3   registration_year   341619 non-null  int64         \n",
      " 4   gearbox             325072 non-null  object        \n",
      " 5   power               341619 non-null  int64         \n",
      " 6   model               324506 non-null  object        \n",
      " 7   kilometer           341619 non-null  int64         \n",
      " 8   registration_month  341619 non-null  int64         \n",
      " 9   fuel_type           313041 non-null  object        \n",
      " 10  brand               341619 non-null  object        \n",
      " 11  repaired            276930 non-null  object        \n",
      " 12  date_created        341619 non-null  datetime64[ns]\n",
      " 13  number_of_pictures  341619 non-null  int64         \n",
      " 14  postal_code         341619 non-null  int64         \n",
      " 15  last_seen           341619 non-null  object        \n",
      "dtypes: datetime64[ns](1), int64(7), object(8)\n",
      "memory usage: 52.4+ MB\n"
     ]
    }
   ],
   "source": [
    "data['date_created'] = pd.to_datetime(data['date_created'], format='mixed', yearfirst=True)\n",
    "data.info()"
   ]
  },
  {
   "cell_type": "code",
   "execution_count": 17,
   "metadata": {
    "tags": []
   },
   "outputs": [
    {
     "data": {
      "text/html": [
       "<div>\n",
       "<style scoped>\n",
       "    .dataframe tbody tr th:only-of-type {\n",
       "        vertical-align: middle;\n",
       "    }\n",
       "\n",
       "    .dataframe tbody tr th {\n",
       "        vertical-align: top;\n",
       "    }\n",
       "\n",
       "    .dataframe thead th {\n",
       "        text-align: right;\n",
       "    }\n",
       "</style>\n",
       "<table border=\"1\" class=\"dataframe\">\n",
       "  <thead>\n",
       "    <tr style=\"text-align: right;\">\n",
       "      <th></th>\n",
       "      <th>date_crawled</th>\n",
       "      <th>price</th>\n",
       "      <th>vehicle_type</th>\n",
       "      <th>registration_year</th>\n",
       "      <th>gearbox</th>\n",
       "      <th>power</th>\n",
       "      <th>model</th>\n",
       "      <th>kilometer</th>\n",
       "      <th>registration_month</th>\n",
       "      <th>fuel_type</th>\n",
       "      <th>brand</th>\n",
       "      <th>repaired</th>\n",
       "      <th>date_created</th>\n",
       "      <th>number_of_pictures</th>\n",
       "      <th>postal_code</th>\n",
       "      <th>last_seen</th>\n",
       "    </tr>\n",
       "  </thead>\n",
       "  <tbody>\n",
       "    <tr>\n",
       "      <th>0</th>\n",
       "      <td>2016-03-24 11:52:17</td>\n",
       "      <td>480</td>\n",
       "      <td>NaN</td>\n",
       "      <td>1993</td>\n",
       "      <td>manual</td>\n",
       "      <td>0</td>\n",
       "      <td>golf</td>\n",
       "      <td>150000</td>\n",
       "      <td>0</td>\n",
       "      <td>petrol</td>\n",
       "      <td>volkswagen</td>\n",
       "      <td>NaN</td>\n",
       "      <td>2016-03-24</td>\n",
       "      <td>0</td>\n",
       "      <td>70435</td>\n",
       "      <td>2016-04-07 03:16:57</td>\n",
       "    </tr>\n",
       "    <tr>\n",
       "      <th>1</th>\n",
       "      <td>2016-03-24 10:58:45</td>\n",
       "      <td>18300</td>\n",
       "      <td>coupe</td>\n",
       "      <td>2011</td>\n",
       "      <td>manual</td>\n",
       "      <td>190</td>\n",
       "      <td>NaN</td>\n",
       "      <td>125000</td>\n",
       "      <td>5</td>\n",
       "      <td>gasoline</td>\n",
       "      <td>audi</td>\n",
       "      <td>yes</td>\n",
       "      <td>2016-03-24</td>\n",
       "      <td>0</td>\n",
       "      <td>66954</td>\n",
       "      <td>2016-04-07 01:46:50</td>\n",
       "    </tr>\n",
       "    <tr>\n",
       "      <th>2</th>\n",
       "      <td>2016-03-14 12:52:21</td>\n",
       "      <td>9800</td>\n",
       "      <td>suv</td>\n",
       "      <td>2004</td>\n",
       "      <td>auto</td>\n",
       "      <td>163</td>\n",
       "      <td>grand</td>\n",
       "      <td>125000</td>\n",
       "      <td>8</td>\n",
       "      <td>gasoline</td>\n",
       "      <td>jeep</td>\n",
       "      <td>NaN</td>\n",
       "      <td>2016-03-14</td>\n",
       "      <td>0</td>\n",
       "      <td>90480</td>\n",
       "      <td>2016-04-05 12:47:46</td>\n",
       "    </tr>\n",
       "    <tr>\n",
       "      <th>3</th>\n",
       "      <td>2016-03-17 16:54:04</td>\n",
       "      <td>1500</td>\n",
       "      <td>small</td>\n",
       "      <td>2001</td>\n",
       "      <td>manual</td>\n",
       "      <td>75</td>\n",
       "      <td>golf</td>\n",
       "      <td>150000</td>\n",
       "      <td>6</td>\n",
       "      <td>petrol</td>\n",
       "      <td>volkswagen</td>\n",
       "      <td>no</td>\n",
       "      <td>2016-03-17</td>\n",
       "      <td>0</td>\n",
       "      <td>91074</td>\n",
       "      <td>2016-03-17 17:40:17</td>\n",
       "    </tr>\n",
       "    <tr>\n",
       "      <th>4</th>\n",
       "      <td>2016-03-31 17:25:20</td>\n",
       "      <td>3600</td>\n",
       "      <td>small</td>\n",
       "      <td>2008</td>\n",
       "      <td>manual</td>\n",
       "      <td>69</td>\n",
       "      <td>fabia</td>\n",
       "      <td>90000</td>\n",
       "      <td>7</td>\n",
       "      <td>gasoline</td>\n",
       "      <td>skoda</td>\n",
       "      <td>no</td>\n",
       "      <td>2016-03-31</td>\n",
       "      <td>0</td>\n",
       "      <td>60437</td>\n",
       "      <td>2016-04-06 10:17:21</td>\n",
       "    </tr>\n",
       "  </tbody>\n",
       "</table>\n",
       "</div>"
      ],
      "text/plain": [
       "          date_crawled  price vehicle_type  registration_year gearbox  power  \\\n",
       "0  2016-03-24 11:52:17    480          NaN               1993  manual      0   \n",
       "1  2016-03-24 10:58:45  18300        coupe               2011  manual    190   \n",
       "2  2016-03-14 12:52:21   9800          suv               2004    auto    163   \n",
       "3  2016-03-17 16:54:04   1500        small               2001  manual     75   \n",
       "4  2016-03-31 17:25:20   3600        small               2008  manual     69   \n",
       "\n",
       "   model  kilometer  registration_month fuel_type       brand repaired  \\\n",
       "0   golf     150000                   0    petrol  volkswagen      NaN   \n",
       "1    NaN     125000                   5  gasoline        audi      yes   \n",
       "2  grand     125000                   8  gasoline        jeep      NaN   \n",
       "3   golf     150000                   6    petrol  volkswagen       no   \n",
       "4  fabia      90000                   7  gasoline       skoda       no   \n",
       "\n",
       "  date_created  number_of_pictures  postal_code            last_seen  \n",
       "0   2016-03-24                   0        70435  2016-04-07 03:16:57  \n",
       "1   2016-03-24                   0        66954  2016-04-07 01:46:50  \n",
       "2   2016-03-14                   0        90480  2016-04-05 12:47:46  \n",
       "3   2016-03-17                   0        91074  2016-03-17 17:40:17  \n",
       "4   2016-03-31                   0        60437  2016-04-06 10:17:21  "
      ]
     },
     "execution_count": 17,
     "metadata": {},
     "output_type": "execute_result"
    }
   ],
   "source": [
    "data.head()"
   ]
  },
  {
   "cell_type": "markdown",
   "metadata": {},
   "source": [
    "Цена могла менятся на протяжении времени продажи объявления, поэтому добавим столбец `year_created`."
   ]
  },
  {
   "cell_type": "code",
   "execution_count": 18,
   "metadata": {
    "tags": []
   },
   "outputs": [
    {
     "data": {
      "text/html": [
       "<div>\n",
       "<style scoped>\n",
       "    .dataframe tbody tr th:only-of-type {\n",
       "        vertical-align: middle;\n",
       "    }\n",
       "\n",
       "    .dataframe tbody tr th {\n",
       "        vertical-align: top;\n",
       "    }\n",
       "\n",
       "    .dataframe thead th {\n",
       "        text-align: right;\n",
       "    }\n",
       "</style>\n",
       "<table border=\"1\" class=\"dataframe\">\n",
       "  <thead>\n",
       "    <tr style=\"text-align: right;\">\n",
       "      <th></th>\n",
       "      <th>date_crawled</th>\n",
       "      <th>price</th>\n",
       "      <th>vehicle_type</th>\n",
       "      <th>registration_year</th>\n",
       "      <th>gearbox</th>\n",
       "      <th>power</th>\n",
       "      <th>model</th>\n",
       "      <th>kilometer</th>\n",
       "      <th>registration_month</th>\n",
       "      <th>fuel_type</th>\n",
       "      <th>brand</th>\n",
       "      <th>repaired</th>\n",
       "      <th>date_created</th>\n",
       "      <th>number_of_pictures</th>\n",
       "      <th>postal_code</th>\n",
       "      <th>last_seen</th>\n",
       "      <th>year_created</th>\n",
       "    </tr>\n",
       "  </thead>\n",
       "  <tbody>\n",
       "    <tr>\n",
       "      <th>0</th>\n",
       "      <td>2016-03-24 11:52:17</td>\n",
       "      <td>480</td>\n",
       "      <td>NaN</td>\n",
       "      <td>1993</td>\n",
       "      <td>manual</td>\n",
       "      <td>0</td>\n",
       "      <td>golf</td>\n",
       "      <td>150000</td>\n",
       "      <td>0</td>\n",
       "      <td>petrol</td>\n",
       "      <td>volkswagen</td>\n",
       "      <td>NaN</td>\n",
       "      <td>2016-03-24</td>\n",
       "      <td>0</td>\n",
       "      <td>70435</td>\n",
       "      <td>2016-04-07 03:16:57</td>\n",
       "      <td>2016</td>\n",
       "    </tr>\n",
       "    <tr>\n",
       "      <th>1</th>\n",
       "      <td>2016-03-24 10:58:45</td>\n",
       "      <td>18300</td>\n",
       "      <td>coupe</td>\n",
       "      <td>2011</td>\n",
       "      <td>manual</td>\n",
       "      <td>190</td>\n",
       "      <td>NaN</td>\n",
       "      <td>125000</td>\n",
       "      <td>5</td>\n",
       "      <td>gasoline</td>\n",
       "      <td>audi</td>\n",
       "      <td>yes</td>\n",
       "      <td>2016-03-24</td>\n",
       "      <td>0</td>\n",
       "      <td>66954</td>\n",
       "      <td>2016-04-07 01:46:50</td>\n",
       "      <td>2016</td>\n",
       "    </tr>\n",
       "    <tr>\n",
       "      <th>2</th>\n",
       "      <td>2016-03-14 12:52:21</td>\n",
       "      <td>9800</td>\n",
       "      <td>suv</td>\n",
       "      <td>2004</td>\n",
       "      <td>auto</td>\n",
       "      <td>163</td>\n",
       "      <td>grand</td>\n",
       "      <td>125000</td>\n",
       "      <td>8</td>\n",
       "      <td>gasoline</td>\n",
       "      <td>jeep</td>\n",
       "      <td>NaN</td>\n",
       "      <td>2016-03-14</td>\n",
       "      <td>0</td>\n",
       "      <td>90480</td>\n",
       "      <td>2016-04-05 12:47:46</td>\n",
       "      <td>2016</td>\n",
       "    </tr>\n",
       "    <tr>\n",
       "      <th>3</th>\n",
       "      <td>2016-03-17 16:54:04</td>\n",
       "      <td>1500</td>\n",
       "      <td>small</td>\n",
       "      <td>2001</td>\n",
       "      <td>manual</td>\n",
       "      <td>75</td>\n",
       "      <td>golf</td>\n",
       "      <td>150000</td>\n",
       "      <td>6</td>\n",
       "      <td>petrol</td>\n",
       "      <td>volkswagen</td>\n",
       "      <td>no</td>\n",
       "      <td>2016-03-17</td>\n",
       "      <td>0</td>\n",
       "      <td>91074</td>\n",
       "      <td>2016-03-17 17:40:17</td>\n",
       "      <td>2016</td>\n",
       "    </tr>\n",
       "    <tr>\n",
       "      <th>4</th>\n",
       "      <td>2016-03-31 17:25:20</td>\n",
       "      <td>3600</td>\n",
       "      <td>small</td>\n",
       "      <td>2008</td>\n",
       "      <td>manual</td>\n",
       "      <td>69</td>\n",
       "      <td>fabia</td>\n",
       "      <td>90000</td>\n",
       "      <td>7</td>\n",
       "      <td>gasoline</td>\n",
       "      <td>skoda</td>\n",
       "      <td>no</td>\n",
       "      <td>2016-03-31</td>\n",
       "      <td>0</td>\n",
       "      <td>60437</td>\n",
       "      <td>2016-04-06 10:17:21</td>\n",
       "      <td>2016</td>\n",
       "    </tr>\n",
       "  </tbody>\n",
       "</table>\n",
       "</div>"
      ],
      "text/plain": [
       "          date_crawled  price vehicle_type  registration_year gearbox  power  \\\n",
       "0  2016-03-24 11:52:17    480          NaN               1993  manual      0   \n",
       "1  2016-03-24 10:58:45  18300        coupe               2011  manual    190   \n",
       "2  2016-03-14 12:52:21   9800          suv               2004    auto    163   \n",
       "3  2016-03-17 16:54:04   1500        small               2001  manual     75   \n",
       "4  2016-03-31 17:25:20   3600        small               2008  manual     69   \n",
       "\n",
       "   model  kilometer  registration_month fuel_type       brand repaired  \\\n",
       "0   golf     150000                   0    petrol  volkswagen      NaN   \n",
       "1    NaN     125000                   5  gasoline        audi      yes   \n",
       "2  grand     125000                   8  gasoline        jeep      NaN   \n",
       "3   golf     150000                   6    petrol  volkswagen       no   \n",
       "4  fabia      90000                   7  gasoline       skoda       no   \n",
       "\n",
       "  date_created  number_of_pictures  postal_code            last_seen  \\\n",
       "0   2016-03-24                   0        70435  2016-04-07 03:16:57   \n",
       "1   2016-03-24                   0        66954  2016-04-07 01:46:50   \n",
       "2   2016-03-14                   0        90480  2016-04-05 12:47:46   \n",
       "3   2016-03-17                   0        91074  2016-03-17 17:40:17   \n",
       "4   2016-03-31                   0        60437  2016-04-06 10:17:21   \n",
       "\n",
       "   year_created  \n",
       "0          2016  \n",
       "1          2016  \n",
       "2          2016  \n",
       "3          2016  \n",
       "4          2016  "
      ]
     },
     "execution_count": 18,
     "metadata": {},
     "output_type": "execute_result"
    }
   ],
   "source": [
    "data['year_created'] = data['date_created'].dt.year\n",
    "data.head()"
   ]
  },
  {
   "cell_type": "code",
   "execution_count": 19,
   "metadata": {
    "tags": []
   },
   "outputs": [
    {
     "data": {
      "text/plain": [
       "array([2016, 2015, 2014])"
      ]
     },
     "execution_count": 19,
     "metadata": {},
     "output_type": "execute_result"
    }
   ],
   "source": [
    "data['year_created'].unique()"
   ]
  },
  {
   "cell_type": "markdown",
   "metadata": {},
   "source": [
    "### Удалим ненужные для обучения столбцы"
   ]
  },
  {
   "cell_type": "code",
   "execution_count": 20,
   "metadata": {
    "tags": []
   },
   "outputs": [
    {
     "data": {
      "text/plain": [
       "array([0], dtype=int64)"
      ]
     },
     "execution_count": 20,
     "metadata": {},
     "output_type": "execute_result"
    }
   ],
   "source": [
    "data['number_of_pictures'].unique()"
   ]
  },
  {
   "cell_type": "markdown",
   "metadata": {},
   "source": [
    "В столбце `number_of_pictures` только одно занчение - 0, удалим данный столбец. Также удалим столбцы `postal_code`, `date_crawled`, `last_seen`, `date_created` - на обучение модели и ценообразование данные столбцы никак не влияют. Также удалим столбец `registration_month` - достаточно года регистрации (который мы и будем считать временем выезда автомобиля \"на дороги общего пользования\")."
   ]
  },
  {
   "cell_type": "code",
   "execution_count": 21,
   "metadata": {
    "tags": []
   },
   "outputs": [],
   "source": [
    "data = data.drop(\n",
    "    ['date_created', \n",
    "     'number_of_pictures', \n",
    "     'postal_code', \n",
    "     'date_crawled', \n",
    "     'last_seen', \n",
    "     'registration_month'], \n",
    "    axis=1\n",
    ")\n",
    "data = data.reset_index(drop=True)"
   ]
  },
  {
   "cell_type": "code",
   "execution_count": 22,
   "metadata": {
    "tags": []
   },
   "outputs": [
    {
     "data": {
      "text/html": [
       "<div>\n",
       "<style scoped>\n",
       "    .dataframe tbody tr th:only-of-type {\n",
       "        vertical-align: middle;\n",
       "    }\n",
       "\n",
       "    .dataframe tbody tr th {\n",
       "        vertical-align: top;\n",
       "    }\n",
       "\n",
       "    .dataframe thead th {\n",
       "        text-align: right;\n",
       "    }\n",
       "</style>\n",
       "<table border=\"1\" class=\"dataframe\">\n",
       "  <thead>\n",
       "    <tr style=\"text-align: right;\">\n",
       "      <th></th>\n",
       "      <th>price</th>\n",
       "      <th>vehicle_type</th>\n",
       "      <th>registration_year</th>\n",
       "      <th>gearbox</th>\n",
       "      <th>power</th>\n",
       "      <th>model</th>\n",
       "      <th>kilometer</th>\n",
       "      <th>fuel_type</th>\n",
       "      <th>brand</th>\n",
       "      <th>repaired</th>\n",
       "      <th>year_created</th>\n",
       "    </tr>\n",
       "  </thead>\n",
       "  <tbody>\n",
       "    <tr>\n",
       "      <th>0</th>\n",
       "      <td>480</td>\n",
       "      <td>NaN</td>\n",
       "      <td>1993</td>\n",
       "      <td>manual</td>\n",
       "      <td>0</td>\n",
       "      <td>golf</td>\n",
       "      <td>150000</td>\n",
       "      <td>petrol</td>\n",
       "      <td>volkswagen</td>\n",
       "      <td>NaN</td>\n",
       "      <td>2016</td>\n",
       "    </tr>\n",
       "    <tr>\n",
       "      <th>1</th>\n",
       "      <td>18300</td>\n",
       "      <td>coupe</td>\n",
       "      <td>2011</td>\n",
       "      <td>manual</td>\n",
       "      <td>190</td>\n",
       "      <td>NaN</td>\n",
       "      <td>125000</td>\n",
       "      <td>gasoline</td>\n",
       "      <td>audi</td>\n",
       "      <td>yes</td>\n",
       "      <td>2016</td>\n",
       "    </tr>\n",
       "    <tr>\n",
       "      <th>2</th>\n",
       "      <td>9800</td>\n",
       "      <td>suv</td>\n",
       "      <td>2004</td>\n",
       "      <td>auto</td>\n",
       "      <td>163</td>\n",
       "      <td>grand</td>\n",
       "      <td>125000</td>\n",
       "      <td>gasoline</td>\n",
       "      <td>jeep</td>\n",
       "      <td>NaN</td>\n",
       "      <td>2016</td>\n",
       "    </tr>\n",
       "    <tr>\n",
       "      <th>3</th>\n",
       "      <td>1500</td>\n",
       "      <td>small</td>\n",
       "      <td>2001</td>\n",
       "      <td>manual</td>\n",
       "      <td>75</td>\n",
       "      <td>golf</td>\n",
       "      <td>150000</td>\n",
       "      <td>petrol</td>\n",
       "      <td>volkswagen</td>\n",
       "      <td>no</td>\n",
       "      <td>2016</td>\n",
       "    </tr>\n",
       "    <tr>\n",
       "      <th>4</th>\n",
       "      <td>3600</td>\n",
       "      <td>small</td>\n",
       "      <td>2008</td>\n",
       "      <td>manual</td>\n",
       "      <td>69</td>\n",
       "      <td>fabia</td>\n",
       "      <td>90000</td>\n",
       "      <td>gasoline</td>\n",
       "      <td>skoda</td>\n",
       "      <td>no</td>\n",
       "      <td>2016</td>\n",
       "    </tr>\n",
       "  </tbody>\n",
       "</table>\n",
       "</div>"
      ],
      "text/plain": [
       "   price vehicle_type  registration_year gearbox  power  model  kilometer  \\\n",
       "0    480          NaN               1993  manual      0   golf     150000   \n",
       "1  18300        coupe               2011  manual    190    NaN     125000   \n",
       "2   9800          suv               2004    auto    163  grand     125000   \n",
       "3   1500        small               2001  manual     75   golf     150000   \n",
       "4   3600        small               2008  manual     69  fabia      90000   \n",
       "\n",
       "  fuel_type       brand repaired  year_created  \n",
       "0    petrol  volkswagen      NaN          2016  \n",
       "1  gasoline        audi      yes          2016  \n",
       "2  gasoline        jeep      NaN          2016  \n",
       "3    petrol  volkswagen       no          2016  \n",
       "4  gasoline       skoda       no          2016  "
      ]
     },
     "execution_count": 22,
     "metadata": {},
     "output_type": "execute_result"
    }
   ],
   "source": [
    "data.head()"
   ]
  },
  {
   "cell_type": "markdown",
   "metadata": {},
   "source": [
    "### Проверим и удалим дубликаты"
   ]
  },
  {
   "cell_type": "code",
   "execution_count": 23,
   "metadata": {
    "tags": []
   },
   "outputs": [
    {
     "name": "stdout",
     "output_type": "stream",
     "text": [
      "Количество дубликатов: 43026\n"
     ]
    }
   ],
   "source": [
    "print('Количество дубликатов:', data.duplicated().sum())"
   ]
  },
  {
   "cell_type": "markdown",
   "metadata": {},
   "source": [
    "После удаления столбцов с датами можно заметить большое количество дубликатов, возможно что до этого их не было заметно из-за того, что они были с разными таймкодами. Это могло быть одно и то же объявление, но выгруженное в разные дни. Удалим дубликаты."
   ]
  },
  {
   "cell_type": "code",
   "execution_count": 24,
   "metadata": {
    "tags": []
   },
   "outputs": [
    {
     "name": "stdout",
     "output_type": "stream",
     "text": [
      "Количество дубликатов: 0\n"
     ]
    }
   ],
   "source": [
    "data = data.drop_duplicates()\n",
    "print('Количество дубликатов:', data.duplicated().sum())"
   ]
  },
  {
   "cell_type": "code",
   "execution_count": 25,
   "metadata": {
    "tags": []
   },
   "outputs": [
    {
     "name": "stdout",
     "output_type": "stream",
     "text": [
      "<class 'pandas.core.frame.DataFrame'>\n",
      "Index: 298593 entries, 0 to 341618\n",
      "Data columns (total 11 columns):\n",
      " #   Column             Non-Null Count   Dtype \n",
      "---  ------             --------------   ----- \n",
      " 0   price              298593 non-null  int64 \n",
      " 1   vehicle_type       267746 non-null  object\n",
      " 2   registration_year  298593 non-null  int64 \n",
      " 3   gearbox            283903 non-null  object\n",
      " 4   power              298593 non-null  int64 \n",
      " 5   model              282271 non-null  object\n",
      " 6   kilometer          298593 non-null  int64 \n",
      " 7   fuel_type          271317 non-null  object\n",
      " 8   brand              298593 non-null  object\n",
      " 9   repaired           239354 non-null  object\n",
      " 10  year_created       298593 non-null  int32 \n",
      "dtypes: int32(1), int64(4), object(6)\n",
      "memory usage: 26.2+ MB\n"
     ]
    }
   ],
   "source": [
    "data.info()"
   ]
  },
  {
   "cell_type": "markdown",
   "metadata": {},
   "source": [
    "### Заполним пропуски"
   ]
  },
  {
   "cell_type": "code",
   "execution_count": 26,
   "metadata": {
    "tags": []
   },
   "outputs": [
    {
     "data": {
      "text/html": [
       "<style type=\"text/css\">\n",
       "#T_8f335_row0_col0, #T_8f335_row2_col0, #T_8f335_row4_col0, #T_8f335_row6_col0, #T_8f335_row8_col0, #T_8f335_row10_col0 {\n",
       "  background-color: #3b4cc0;\n",
       "  color: #f1f1f1;\n",
       "}\n",
       "#T_8f335_row1_col0 {\n",
       "  background-color: #dddcdc;\n",
       "  color: #000000;\n",
       "}\n",
       "#T_8f335_row3_col0, #T_8f335_row5_col0 {\n",
       "  background-color: #8db0fe;\n",
       "  color: #000000;\n",
       "}\n",
       "#T_8f335_row7_col0 {\n",
       "  background-color: #cfdaea;\n",
       "  color: #000000;\n",
       "}\n",
       "#T_8f335_row9_col0 {\n",
       "  background-color: #b40426;\n",
       "  color: #f1f1f1;\n",
       "}\n",
       "</style>\n",
       "<table id=\"T_8f335\">\n",
       "  <thead>\n",
       "    <tr>\n",
       "      <th class=\"blank level0\" >&nbsp;</th>\n",
       "      <th id=\"T_8f335_level0_col0\" class=\"col_heading level0 col0\" >0</th>\n",
       "    </tr>\n",
       "  </thead>\n",
       "  <tbody>\n",
       "    <tr>\n",
       "      <th id=\"T_8f335_level0_row0\" class=\"row_heading level0 row0\" >price</th>\n",
       "      <td id=\"T_8f335_row0_col0\" class=\"data row0 col0\" >0.000000</td>\n",
       "    </tr>\n",
       "    <tr>\n",
       "      <th id=\"T_8f335_level0_row1\" class=\"row_heading level0 row1\" >vehicle_type</th>\n",
       "      <td id=\"T_8f335_row1_col0\" class=\"data row1 col0\" >10.000000</td>\n",
       "    </tr>\n",
       "    <tr>\n",
       "      <th id=\"T_8f335_level0_row2\" class=\"row_heading level0 row2\" >registration_year</th>\n",
       "      <td id=\"T_8f335_row2_col0\" class=\"data row2 col0\" >0.000000</td>\n",
       "    </tr>\n",
       "    <tr>\n",
       "      <th id=\"T_8f335_level0_row3\" class=\"row_heading level0 row3\" >gearbox</th>\n",
       "      <td id=\"T_8f335_row3_col0\" class=\"data row3 col0\" >5.000000</td>\n",
       "    </tr>\n",
       "    <tr>\n",
       "      <th id=\"T_8f335_level0_row4\" class=\"row_heading level0 row4\" >power</th>\n",
       "      <td id=\"T_8f335_row4_col0\" class=\"data row4 col0\" >0.000000</td>\n",
       "    </tr>\n",
       "    <tr>\n",
       "      <th id=\"T_8f335_level0_row5\" class=\"row_heading level0 row5\" >model</th>\n",
       "      <td id=\"T_8f335_row5_col0\" class=\"data row5 col0\" >5.000000</td>\n",
       "    </tr>\n",
       "    <tr>\n",
       "      <th id=\"T_8f335_level0_row6\" class=\"row_heading level0 row6\" >kilometer</th>\n",
       "      <td id=\"T_8f335_row6_col0\" class=\"data row6 col0\" >0.000000</td>\n",
       "    </tr>\n",
       "    <tr>\n",
       "      <th id=\"T_8f335_level0_row7\" class=\"row_heading level0 row7\" >fuel_type</th>\n",
       "      <td id=\"T_8f335_row7_col0\" class=\"data row7 col0\" >9.000000</td>\n",
       "    </tr>\n",
       "    <tr>\n",
       "      <th id=\"T_8f335_level0_row8\" class=\"row_heading level0 row8\" >brand</th>\n",
       "      <td id=\"T_8f335_row8_col0\" class=\"data row8 col0\" >0.000000</td>\n",
       "    </tr>\n",
       "    <tr>\n",
       "      <th id=\"T_8f335_level0_row9\" class=\"row_heading level0 row9\" >repaired</th>\n",
       "      <td id=\"T_8f335_row9_col0\" class=\"data row9 col0\" >20.000000</td>\n",
       "    </tr>\n",
       "    <tr>\n",
       "      <th id=\"T_8f335_level0_row10\" class=\"row_heading level0 row10\" >year_created</th>\n",
       "      <td id=\"T_8f335_row10_col0\" class=\"data row10 col0\" >0.000000</td>\n",
       "    </tr>\n",
       "  </tbody>\n",
       "</table>\n"
      ],
      "text/plain": [
       "<pandas.io.formats.style.Styler at 0x185b5884d50>"
      ]
     },
     "execution_count": 26,
     "metadata": {},
     "output_type": "execute_result"
    }
   ],
   "source": [
    "pd.DataFrame(round(data.isna().mean()*100,)).style.background_gradient('coolwarm')"
   ]
  },
  {
   "cell_type": "markdown",
   "metadata": {},
   "source": [
    "#### Рассмотрим столбец `repaired`"
   ]
  },
  {
   "cell_type": "code",
   "execution_count": 27,
   "metadata": {
    "tags": []
   },
   "outputs": [
    {
     "data": {
      "text/plain": [
       "repaired\n",
       "no     208108\n",
       "NaN     59239\n",
       "yes     31246\n",
       "Name: count, dtype: int64"
      ]
     },
     "execution_count": 27,
     "metadata": {},
     "output_type": "execute_result"
    }
   ],
   "source": [
    "data['repaired'].value_counts(dropna=False)"
   ]
  },
  {
   "cell_type": "markdown",
   "metadata": {},
   "source": [
    "Угадать пропущенное значение мы не можем, а их много, поэтому добавим еще одну категорию - \"unknown\""
   ]
  },
  {
   "cell_type": "code",
   "execution_count": 28,
   "metadata": {
    "tags": []
   },
   "outputs": [],
   "source": [
    "data['repaired'] = data['repaired'] .fillna(\"unknown\")"
   ]
  },
  {
   "cell_type": "code",
   "execution_count": 29,
   "metadata": {
    "tags": []
   },
   "outputs": [
    {
     "data": {
      "image/png": "[encoded data removed]",
      "text/plain": [
       "<Figure size 500x500 with 1 Axes>"
      ]
     },
     "metadata": {},
     "output_type": "display_data"
    }
   ],
   "source": [
    "plt.figure(figsize=(5, 5))\n",
    "\n",
    "plt.hist(data['repaired'], bins=10)\n",
    "plt.title(\"Было ли авто в ремонте\")\n",
    "plt.show()"
   ]
  },
  {
   "cell_type": "markdown",
   "metadata": {},
   "source": [
    "#### Рассмотрим столбцы `vehicle_type`, `gearbox`, `model`, `fuel_type`"
   ]
  },
  {
   "cell_type": "code",
   "execution_count": 30,
   "metadata": {
    "tags": []
   },
   "outputs": [
    {
     "data": {
      "text/plain": [
       "vehicle_type\n",
       "sedan          76260\n",
       "small          65680\n",
       "wagon          54901\n",
       "NaN            30847\n",
       "bus            25380\n",
       "convertible    17848\n",
       "coupe          14164\n",
       "suv            10570\n",
       "other           2943\n",
       "Name: count, dtype: int64"
      ]
     },
     "execution_count": 30,
     "metadata": {},
     "output_type": "execute_result"
    }
   ],
   "source": [
    "data['vehicle_type'].value_counts(dropna=False)"
   ]
  },
  {
   "cell_type": "code",
   "execution_count": 31,
   "metadata": {
    "tags": []
   },
   "outputs": [
    {
     "data": {
      "text/plain": [
       "gearbox\n",
       "manual    225989\n",
       "auto       57914\n",
       "NaN        14690\n",
       "Name: count, dtype: int64"
      ]
     },
     "execution_count": 31,
     "metadata": {},
     "output_type": "execute_result"
    }
   ],
   "source": [
    "data['gearbox'].value_counts(dropna=False)"
   ]
  },
  {
   "cell_type": "code",
   "execution_count": 32,
   "metadata": {
    "scrolled": true,
    "tags": []
   },
   "outputs": [
    {
     "data": {
      "text/plain": [
       "model\n",
       "golf                  22827\n",
       "other                 22118\n",
       "NaN                   16322\n",
       "3er                   16140\n",
       "polo                  10082\n",
       "                      ...  \n",
       "kalina                    7\n",
       "rangerover                4\n",
       "serie_3                   3\n",
       "range_rover_evoque        1\n",
       "serie_1                   1\n",
       "Name: count, Length: 251, dtype: int64"
      ]
     },
     "execution_count": 32,
     "metadata": {},
     "output_type": "execute_result"
    }
   ],
   "source": [
    "data['model'].value_counts(dropna=False)"
   ]
  },
  {
   "cell_type": "code",
   "execution_count": 33,
   "metadata": {
    "tags": []
   },
   "outputs": [
    {
     "data": {
      "text/plain": [
       "fuel_type\n",
       "petrol      182332\n",
       "gasoline     83276\n",
       "NaN          27276\n",
       "lpg           4749\n",
       "cng            508\n",
       "hybrid         215\n",
       "other          151\n",
       "electric        86\n",
       "Name: count, dtype: int64"
      ]
     },
     "execution_count": 33,
     "metadata": {},
     "output_type": "execute_result"
    }
   ],
   "source": [
    "data['fuel_type'].value_counts(dropna=False)"
   ]
  },
  {
   "cell_type": "markdown",
   "metadata": {},
   "source": [
    "Заполним пропуск столбца `model` значением-заглушкой \"unknown\""
   ]
  },
  {
   "cell_type": "code",
   "execution_count": 34,
   "metadata": {
    "tags": []
   },
   "outputs": [],
   "source": [
    "data['model'] = data['model'] .fillna(\"unknown\")"
   ]
  },
  {
   "cell_type": "markdown",
   "metadata": {},
   "source": [
    "Заполним пропуск столбца `vehicle_type` значением-заглушкой \"unknown\""
   ]
  },
  {
   "cell_type": "code",
   "execution_count": 35,
   "metadata": {
    "tags": []
   },
   "outputs": [],
   "source": [
    "data['vehicle_type'] = data['vehicle_type'].fillna(\"unknown\")"
   ]
  },
  {
   "cell_type": "code",
   "execution_count": 36,
   "metadata": {
    "tags": []
   },
   "outputs": [
    {
     "data": {
      "image/png": "[encoded data removed]",
      "text/plain": [
       "<Figure size 500x500 with 1 Axes>"
      ]
     },
     "metadata": {},
     "output_type": "display_data"
    }
   ],
   "source": [
    "plt.figure(figsize=(5, 5))\n",
    "\n",
    "plt.hist(data['vehicle_type'], bins=50)\n",
    "plt.title(\"Тип двигателя\")\n",
    "plt.xticks(rotation=90)\n",
    "\n",
    "plt.show()"
   ]
  },
  {
   "cell_type": "markdown",
   "metadata": {},
   "source": [
    "Предположим, что тип коробки передач `gearbox` и тип топлива `fuel_type` зависят от модели авто `model`. Заполним пропуски по наиболее часто встречающемуся типу и топливу в моделях."
   ]
  },
  {
   "cell_type": "code",
   "execution_count": 37,
   "metadata": {
    "tags": []
   },
   "outputs": [],
   "source": [
    "data['gearbox'] = data['gearbox'].fillna(data\n",
    "                                         .groupby('model')['gearbox']\n",
    "                                         .transform(lambda x: x.value_counts().idxmax())\n",
    "                                        )"
   ]
  },
  {
   "cell_type": "code",
   "execution_count": 38,
   "metadata": {},
   "outputs": [
    {
     "data": {
      "image/png": "[encoded data removed]",
      "text/plain": [
       "<Figure size 500x500 with 1 Axes>"
      ]
     },
     "metadata": {},
     "output_type": "display_data"
    }
   ],
   "source": [
    "plt.figure(figsize=(5, 5))\n",
    "\n",
    "plt.hist(data['gearbox'], bins=10)\n",
    "plt.title(\"Коробка передач\")\n",
    "\n",
    "plt.show()"
   ]
  },
  {
   "cell_type": "code",
   "execution_count": 39,
   "metadata": {
    "tags": []
   },
   "outputs": [],
   "source": [
    "data['fuel_type'] = data['fuel_type'].fillna(data\n",
    "                                         .groupby('model')['fuel_type']\n",
    "                                         .transform(lambda x: x.value_counts().idxmax())\n",
    "                                        )"
   ]
  },
  {
   "cell_type": "code",
   "execution_count": 40,
   "metadata": {},
   "outputs": [
    {
     "data": {
      "image/png": "[encoded data removed]",
      "text/plain": [
       "<Figure size 500x500 with 1 Axes>"
      ]
     },
     "metadata": {},
     "output_type": "display_data"
    }
   ],
   "source": [
    "plt.figure(figsize=(5, 5))\n",
    "\n",
    "plt.hist(data['fuel_type'], bins=20)\n",
    "plt.title(\"Тип топлива\")\n",
    "\n",
    "plt.show()"
   ]
  },
  {
   "cell_type": "code",
   "execution_count": 41,
   "metadata": {
    "tags": []
   },
   "outputs": [
    {
     "data": {
      "text/html": [
       "<style type=\"text/css\">\n",
       "#T_1d561_row0_col0, #T_1d561_row1_col0, #T_1d561_row2_col0, #T_1d561_row3_col0, #T_1d561_row4_col0, #T_1d561_row5_col0, #T_1d561_row6_col0, #T_1d561_row7_col0, #T_1d561_row8_col0, #T_1d561_row9_col0, #T_1d561_row10_col0 {\n",
       "  background-color: #3b4cc0;\n",
       "  color: #f1f1f1;\n",
       "}\n",
       "</style>\n",
       "<table id=\"T_1d561\">\n",
       "  <thead>\n",
       "    <tr>\n",
       "      <th class=\"blank level0\" >&nbsp;</th>\n",
       "      <th id=\"T_1d561_level0_col0\" class=\"col_heading level0 col0\" >0</th>\n",
       "    </tr>\n",
       "  </thead>\n",
       "  <tbody>\n",
       "    <tr>\n",
       "      <th id=\"T_1d561_level0_row0\" class=\"row_heading level0 row0\" >price</th>\n",
       "      <td id=\"T_1d561_row0_col0\" class=\"data row0 col0\" >0.000000</td>\n",
       "    </tr>\n",
       "    <tr>\n",
       "      <th id=\"T_1d561_level0_row1\" class=\"row_heading level0 row1\" >vehicle_type</th>\n",
       "      <td id=\"T_1d561_row1_col0\" class=\"data row1 col0\" >0.000000</td>\n",
       "    </tr>\n",
       "    <tr>\n",
       "      <th id=\"T_1d561_level0_row2\" class=\"row_heading level0 row2\" >registration_year</th>\n",
       "      <td id=\"T_1d561_row2_col0\" class=\"data row2 col0\" >0.000000</td>\n",
       "    </tr>\n",
       "    <tr>\n",
       "      <th id=\"T_1d561_level0_row3\" class=\"row_heading level0 row3\" >gearbox</th>\n",
       "      <td id=\"T_1d561_row3_col0\" class=\"data row3 col0\" >0.000000</td>\n",
       "    </tr>\n",
       "    <tr>\n",
       "      <th id=\"T_1d561_level0_row4\" class=\"row_heading level0 row4\" >power</th>\n",
       "      <td id=\"T_1d561_row4_col0\" class=\"data row4 col0\" >0.000000</td>\n",
       "    </tr>\n",
       "    <tr>\n",
       "      <th id=\"T_1d561_level0_row5\" class=\"row_heading level0 row5\" >model</th>\n",
       "      <td id=\"T_1d561_row5_col0\" class=\"data row5 col0\" >0.000000</td>\n",
       "    </tr>\n",
       "    <tr>\n",
       "      <th id=\"T_1d561_level0_row6\" class=\"row_heading level0 row6\" >kilometer</th>\n",
       "      <td id=\"T_1d561_row6_col0\" class=\"data row6 col0\" >0.000000</td>\n",
       "    </tr>\n",
       "    <tr>\n",
       "      <th id=\"T_1d561_level0_row7\" class=\"row_heading level0 row7\" >fuel_type</th>\n",
       "      <td id=\"T_1d561_row7_col0\" class=\"data row7 col0\" >0.000000</td>\n",
       "    </tr>\n",
       "    <tr>\n",
       "      <th id=\"T_1d561_level0_row8\" class=\"row_heading level0 row8\" >brand</th>\n",
       "      <td id=\"T_1d561_row8_col0\" class=\"data row8 col0\" >0.000000</td>\n",
       "    </tr>\n",
       "    <tr>\n",
       "      <th id=\"T_1d561_level0_row9\" class=\"row_heading level0 row9\" >repaired</th>\n",
       "      <td id=\"T_1d561_row9_col0\" class=\"data row9 col0\" >0.000000</td>\n",
       "    </tr>\n",
       "    <tr>\n",
       "      <th id=\"T_1d561_level0_row10\" class=\"row_heading level0 row10\" >year_created</th>\n",
       "      <td id=\"T_1d561_row10_col0\" class=\"data row10 col0\" >0.000000</td>\n",
       "    </tr>\n",
       "  </tbody>\n",
       "</table>\n"
      ],
      "text/plain": [
       "<pandas.io.formats.style.Styler at 0x185b5c88710>"
      ]
     },
     "execution_count": 41,
     "metadata": {},
     "output_type": "execute_result"
    }
   ],
   "source": [
    "pd.DataFrame(round(data.isna().mean()*100,)).style.background_gradient('coolwarm')"
   ]
  },
  {
   "cell_type": "code",
   "execution_count": 42,
   "metadata": {
    "tags": []
   },
   "outputs": [
    {
     "data": {
      "text/html": [
       "<div>\n",
       "<style scoped>\n",
       "    .dataframe tbody tr th:only-of-type {\n",
       "        vertical-align: middle;\n",
       "    }\n",
       "\n",
       "    .dataframe tbody tr th {\n",
       "        vertical-align: top;\n",
       "    }\n",
       "\n",
       "    .dataframe thead th {\n",
       "        text-align: right;\n",
       "    }\n",
       "</style>\n",
       "<table border=\"1\" class=\"dataframe\">\n",
       "  <thead>\n",
       "    <tr style=\"text-align: right;\">\n",
       "      <th></th>\n",
       "      <th>price</th>\n",
       "      <th>vehicle_type</th>\n",
       "      <th>registration_year</th>\n",
       "      <th>gearbox</th>\n",
       "      <th>power</th>\n",
       "      <th>model</th>\n",
       "      <th>kilometer</th>\n",
       "      <th>fuel_type</th>\n",
       "      <th>brand</th>\n",
       "      <th>repaired</th>\n",
       "      <th>year_created</th>\n",
       "    </tr>\n",
       "  </thead>\n",
       "  <tbody>\n",
       "    <tr>\n",
       "      <th>0</th>\n",
       "      <td>480</td>\n",
       "      <td>unknown</td>\n",
       "      <td>1993</td>\n",
       "      <td>manual</td>\n",
       "      <td>0</td>\n",
       "      <td>golf</td>\n",
       "      <td>150000</td>\n",
       "      <td>petrol</td>\n",
       "      <td>volkswagen</td>\n",
       "      <td>unknown</td>\n",
       "      <td>2016</td>\n",
       "    </tr>\n",
       "    <tr>\n",
       "      <th>1</th>\n",
       "      <td>18300</td>\n",
       "      <td>coupe</td>\n",
       "      <td>2011</td>\n",
       "      <td>manual</td>\n",
       "      <td>190</td>\n",
       "      <td>unknown</td>\n",
       "      <td>125000</td>\n",
       "      <td>gasoline</td>\n",
       "      <td>audi</td>\n",
       "      <td>yes</td>\n",
       "      <td>2016</td>\n",
       "    </tr>\n",
       "    <tr>\n",
       "      <th>2</th>\n",
       "      <td>9800</td>\n",
       "      <td>suv</td>\n",
       "      <td>2004</td>\n",
       "      <td>auto</td>\n",
       "      <td>163</td>\n",
       "      <td>grand</td>\n",
       "      <td>125000</td>\n",
       "      <td>gasoline</td>\n",
       "      <td>jeep</td>\n",
       "      <td>unknown</td>\n",
       "      <td>2016</td>\n",
       "    </tr>\n",
       "    <tr>\n",
       "      <th>3</th>\n",
       "      <td>1500</td>\n",
       "      <td>small</td>\n",
       "      <td>2001</td>\n",
       "      <td>manual</td>\n",
       "      <td>75</td>\n",
       "      <td>golf</td>\n",
       "      <td>150000</td>\n",
       "      <td>petrol</td>\n",
       "      <td>volkswagen</td>\n",
       "      <td>no</td>\n",
       "      <td>2016</td>\n",
       "    </tr>\n",
       "    <tr>\n",
       "      <th>4</th>\n",
       "      <td>3600</td>\n",
       "      <td>small</td>\n",
       "      <td>2008</td>\n",
       "      <td>manual</td>\n",
       "      <td>69</td>\n",
       "      <td>fabia</td>\n",
       "      <td>90000</td>\n",
       "      <td>gasoline</td>\n",
       "      <td>skoda</td>\n",
       "      <td>no</td>\n",
       "      <td>2016</td>\n",
       "    </tr>\n",
       "  </tbody>\n",
       "</table>\n",
       "</div>"
      ],
      "text/plain": [
       "   price vehicle_type  registration_year gearbox  power    model  kilometer  \\\n",
       "0    480      unknown               1993  manual      0     golf     150000   \n",
       "1  18300        coupe               2011  manual    190  unknown     125000   \n",
       "2   9800          suv               2004    auto    163    grand     125000   \n",
       "3   1500        small               2001  manual     75     golf     150000   \n",
       "4   3600        small               2008  manual     69    fabia      90000   \n",
       "\n",
       "  fuel_type       brand repaired  year_created  \n",
       "0    petrol  volkswagen  unknown          2016  \n",
       "1  gasoline        audi      yes          2016  \n",
       "2  gasoline        jeep  unknown          2016  \n",
       "3    petrol  volkswagen       no          2016  \n",
       "4  gasoline       skoda       no          2016  "
      ]
     },
     "execution_count": 42,
     "metadata": {},
     "output_type": "execute_result"
    }
   ],
   "source": [
    "data.head()"
   ]
  },
  {
   "cell_type": "markdown",
   "metadata": {
    "tags": []
   },
   "source": [
    "### Рассмотрим аномалии в данных"
   ]
  },
  {
   "cell_type": "markdown",
   "metadata": {},
   "source": [
    "#### Год регистрации автомобиля `registration_year`"
   ]
  },
  {
   "cell_type": "code",
   "execution_count": 43,
   "metadata": {
    "tags": []
   },
   "outputs": [
    {
     "data": {
      "text/plain": [
       "array([1000, 1001, 1039, 1111, 1234, 1255, 1300, 1400, 1500, 1600, 1602,\n",
       "       1800, 1910, 1923, 1925, 1927, 1928, 1929, 1930, 1931, 1932, 1933,\n",
       "       1934, 1935, 1936, 1937, 1938, 1940, 1941, 1942, 1943, 1944, 1945,\n",
       "       1946, 1947, 1948, 1949, 1950, 1951, 1952, 1953, 1954, 1955, 1956,\n",
       "       1957, 1958, 1959, 1960, 1961, 1962, 1963, 1964, 1965, 1966, 1967,\n",
       "       1968, 1969, 1970, 1971, 1972, 1973, 1974, 1975, 1976, 1977, 1978,\n",
       "       1979, 1980, 1981, 1982, 1983, 1984, 1985, 1986, 1987, 1988, 1989,\n",
       "       1990, 1991, 1992, 1993, 1994, 1995, 1996, 1997, 1998, 1999, 2000,\n",
       "       2001, 2002, 2003, 2004, 2005, 2006, 2007, 2008, 2009, 2010, 2011,\n",
       "       2012, 2013, 2014, 2015, 2016, 2017, 2018, 2019, 2066, 2200, 2222,\n",
       "       2290, 2500, 2800, 2900, 3000, 3200, 3700, 3800, 4000, 4100, 4500,\n",
       "       4800, 5000, 5300, 5555, 5600, 5900, 5911, 6000, 7000, 7100, 7800,\n",
       "       8000, 8200, 8500, 8888, 9000, 9450, 9999], dtype=int64)"
      ]
     },
     "execution_count": 43,
     "metadata": {},
     "output_type": "execute_result"
    }
   ],
   "source": [
    "data['registration_year'].sort_values().unique()"
   ]
  },
  {
   "cell_type": "markdown",
   "metadata": {},
   "source": [
    "Первый автомобиль был изобретен в 1885 году, а последний год в нашем датасете 2016 - поэтому остальные года, не входящие в этот промежуток - это аномалии, скорее всего какая-то ошибка при выгрузке данных. Удалим эти данные, так как они могут помешать качественному обучению моделей."
   ]
  },
  {
   "cell_type": "code",
   "execution_count": 44,
   "metadata": {
    "tags": []
   },
   "outputs": [],
   "source": [
    "data = data.loc[(data['registration_year'] <= 2016) & (data['registration_year'] >= 1885)]"
   ]
  },
  {
   "cell_type": "markdown",
   "metadata": {},
   "source": [
    "#### Мощность автомобиля `power`"
   ]
  },
  {
   "cell_type": "code",
   "execution_count": 45,
   "metadata": {
    "scrolled": true,
    "tags": []
   },
   "outputs": [
    {
     "data": {
      "text/plain": [
       "array([    0,     1,     2,     3,     4,     5,     6,     7,     8,\n",
       "           9,    10,    11,    12,    13,    14,    15,    16,    17,\n",
       "          18,    19,    20,    21,    22,    23,    24,    25,    26,\n",
       "          27,    28,    29,    30,    31,    32,    33,    34,    35,\n",
       "          36,    37,    38,    39,    40,    41,    42,    43,    44,\n",
       "          45,    46,    47,    48,    49,    50,    51,    52,    53,\n",
       "          54,    55,    56,    57,    58,    59,    60,    61,    62,\n",
       "          63,    64,    65,    66,    67,    68,    69,    70,    71,\n",
       "          72,    73,    74,    75,    76,    77,    78,    79,    80,\n",
       "          81,    82,    83,    84,    85,    86,    87,    88,    89,\n",
       "          90,    91,    92,    93,    94,    95,    96,    97,    98,\n",
       "          99,   100,   101,   102,   103,   104,   105,   106,   107,\n",
       "         108,   109,   110,   111,   112,   113,   114,   115,   116,\n",
       "         117,   118,   119,   120,   121,   122,   123,   124,   125,\n",
       "         126,   127,   128,   129,   130,   131,   132,   133,   134,\n",
       "         135,   136,   137,   138,   139,   140,   141,   142,   143,\n",
       "         144,   145,   146,   147,   148,   149,   150,   151,   152,\n",
       "         153,   154,   155,   156,   157,   158,   159,   160,   161,\n",
       "         162,   163,   164,   165,   166,   167,   168,   169,   170,\n",
       "         171,   172,   173,   174,   175,   176,   177,   178,   179,\n",
       "         180,   181,   182,   183,   184,   185,   186,   187,   188,\n",
       "         189,   190,   191,   192,   193,   194,   195,   196,   197,\n",
       "         198,   199,   200,   201,   202,   203,   204,   205,   206,\n",
       "         207,   208,   209,   210,   211,   212,   213,   214,   215,\n",
       "         216,   217,   218,   219,   220,   221,   222,   223,   224,\n",
       "         225,   226,   227,   228,   229,   230,   231,   232,   233,\n",
       "         234,   235,   236,   237,   238,   239,   240,   241,   242,\n",
       "         243,   244,   245,   246,   247,   248,   249,   250,   251,\n",
       "         252,   253,   254,   255,   256,   257,   258,   259,   260,\n",
       "         261,   262,   264,   265,   266,   267,   268,   269,   270,\n",
       "         271,   272,   273,   274,   275,   276,   277,   278,   279,\n",
       "         280,   281,   282,   283,   284,   285,   286,   287,   288,\n",
       "         289,   290,   292,   293,   294,   295,   296,   297,   298,\n",
       "         299,   300,   301,   303,   304,   305,   306,   307,   308,\n",
       "         309,   310,   311,   313,   314,   315,   316,   317,   318,\n",
       "         320,   321,   322,   323,   324,   325,   326,   328,   329,\n",
       "         330,   331,   332,   333,   334,   335,   336,   337,   338,\n",
       "         339,   340,   341,   343,   344,   345,   346,   347,   348,\n",
       "         349,   350,   351,   352,   353,   354,   355,   356,   357,\n",
       "         358,   360,   361,   362,   363,   364,   365,   367,   368,\n",
       "         370,   371,   374,   375,   376,   377,   379,   380,   381,\n",
       "         382,   385,   386,   387,   388,   390,   392,   394,   396,\n",
       "         398,   399,   400,   401,   405,   408,   409,   411,   416,\n",
       "         420,   421,   425,   426,   428,   430,   431,   435,   440,\n",
       "         442,   445,   449,   450,   454,   457,   459,   460,   475,\n",
       "         476,   487,   489,   490,   500,   504,   505,   507,   508,\n",
       "         510,   514,   515,   517,   519,   520,   521,   525,   540,\n",
       "         541,   544,   550,   551,   553,   560,   572,   579,   580,\n",
       "         584,   585,   600,   601,   602,   603,   604,   606,   610,\n",
       "         612,   620,   640,   645,   650,   651,   671,   678,   682,\n",
       "         685,   696,   700,   702,   703,   732,   743,   750,   751,\n",
       "         754,   771,   776,   800,   805,   850,   851,   871,   900,\n",
       "         902,   903,   907,   909,   923,   950,   952,   953,   998,\n",
       "         999,  1000,  1001,  1002,  1003,  1004,  1005,  1011,  1012,\n",
       "        1016,  1017,  1021,  1024,  1054,  1055,  1056,  1062,  1079,\n",
       "        1082,  1090,  1100,  1103,  1105,  1115,  1120,  1149,  1151,\n",
       "        1158,  1160,  1162,  1164,  1199,  1200,  1202,  1221,  1223,\n",
       "        1230,  1239,  1240,  1241,  1250,  1256,  1275,  1288,  1299,\n",
       "        1300,  1312,  1317,  1324,  1339,  1360,  1362,  1363,  1367,\n",
       "        1390,  1398,  1399,  1400,  1401,  1403,  1405,  1416,  1432,\n",
       "        1433,  1436,  1500,  1501,  1502,  1503,  1506,  1521,  1548,\n",
       "        1595,  1596,  1597,  1598,  1600,  1625,  1631,  1653,  1659,\n",
       "        1689,  1700,  1701,  1703,  1704,  1707,  1753,  1771,  1779,\n",
       "        1780,  1781,  1783,  1793,  1796,  1799,  1800,  1801,  1870,\n",
       "        1895,  1896,  1900,  1920,  1922,  1933,  1937,  1968,  1988,\n",
       "        1992,  1993,  1995,  1998,  1999,  2000,  2004,  2005,  2007,\n",
       "        2009,  2016,  2017,  2018,  2172,  2331,  2340,  2389,  2402,\n",
       "        2461,  2598,  2729,  2789,  2792,  2799,  3199,  3454,  3500,\n",
       "        3750,  4400,  4507,  4700,  5411,  5420,  5575,  5809,  5815,\n",
       "        5867,  6006,  6010,  6011,  6012,  6018,  6045,  6062,  6226,\n",
       "        6512,  6920,  7508,  7511,  7512,  7515,  7518,  7529,  7544,\n",
       "        8259,  8404,  8500,  9007,  9012,  9013, 10000, 10110, 10218,\n",
       "       10311, 10520, 10522, 10710, 10910, 10912, 11011, 11025, 11111,\n",
       "       11509, 11530, 11635, 12012, 12510, 12512, 12684, 13616, 13636,\n",
       "       14009, 15001, 15017, 15020, 15033, 16051, 16311, 16312, 17011,\n",
       "       17019, 17410, 17700, 17932, 19208, 19211, 19312, 20000],\n",
       "      dtype=int64)"
      ]
     },
     "execution_count": 45,
     "metadata": {},
     "output_type": "execute_result"
    }
   ],
   "source": [
    "data['power'].sort_values().unique()"
   ]
  },
  {
   "cell_type": "markdown",
   "metadata": {},
   "source": [
    "Максимально возможная мощность автомобиля составляет не более 2000 л.с. Самый первый автомобиль имел мощность в 0.9 л.с поэтому мощность в 1 л.с. оставим, 0 л.с. - возможно имеется ввиду, что авто не на ходу, тоже убирать не будем. Видим, что наибольшая отметка имеет цифру 20000 л.с., возможно при выгрузке куда то пропала запятая. Проверим какие автомобили имеют аномальные значения мощности и какую мощность имеют эти авто в реальности."
   ]
  },
  {
   "cell_type": "code",
   "execution_count": 46,
   "metadata": {
    "scrolled": true,
    "tags": []
   },
   "outputs": [
    {
     "data": {
      "text/html": [
       "<div>\n",
       "<style scoped>\n",
       "    .dataframe tbody tr th:only-of-type {\n",
       "        vertical-align: middle;\n",
       "    }\n",
       "\n",
       "    .dataframe tbody tr th {\n",
       "        vertical-align: top;\n",
       "    }\n",
       "\n",
       "    .dataframe thead th {\n",
       "        text-align: right;\n",
       "    }\n",
       "</style>\n",
       "<table border=\"1\" class=\"dataframe\">\n",
       "  <thead>\n",
       "    <tr style=\"text-align: right;\">\n",
       "      <th></th>\n",
       "      <th>price</th>\n",
       "      <th>vehicle_type</th>\n",
       "      <th>registration_year</th>\n",
       "      <th>gearbox</th>\n",
       "      <th>power</th>\n",
       "      <th>model</th>\n",
       "      <th>kilometer</th>\n",
       "      <th>fuel_type</th>\n",
       "      <th>brand</th>\n",
       "      <th>repaired</th>\n",
       "      <th>year_created</th>\n",
       "    </tr>\n",
       "  </thead>\n",
       "  <tbody>\n",
       "    <tr>\n",
       "      <th>24304</th>\n",
       "      <td>10900</td>\n",
       "      <td>bus</td>\n",
       "      <td>2009</td>\n",
       "      <td>manual</td>\n",
       "      <td>10520</td>\n",
       "      <td>caddy</td>\n",
       "      <td>150000</td>\n",
       "      <td>gasoline</td>\n",
       "      <td>volkswagen</td>\n",
       "      <td>no</td>\n",
       "      <td>2016</td>\n",
       "    </tr>\n",
       "    <tr>\n",
       "      <th>43431</th>\n",
       "      <td>15800</td>\n",
       "      <td>convertible</td>\n",
       "      <td>2014</td>\n",
       "      <td>auto</td>\n",
       "      <td>10218</td>\n",
       "      <td>fortwo</td>\n",
       "      <td>30000</td>\n",
       "      <td>petrol</td>\n",
       "      <td>smart</td>\n",
       "      <td>unknown</td>\n",
       "      <td>2016</td>\n",
       "    </tr>\n",
       "    <tr>\n",
       "      <th>54928</th>\n",
       "      <td>1995</td>\n",
       "      <td>wagon</td>\n",
       "      <td>2002</td>\n",
       "      <td>manual</td>\n",
       "      <td>11530</td>\n",
       "      <td>focus</td>\n",
       "      <td>150000</td>\n",
       "      <td>petrol</td>\n",
       "      <td>ford</td>\n",
       "      <td>no</td>\n",
       "      <td>2016</td>\n",
       "    </tr>\n",
       "    <tr>\n",
       "      <th>60706</th>\n",
       "      <td>2200</td>\n",
       "      <td>small</td>\n",
       "      <td>1999</td>\n",
       "      <td>manual</td>\n",
       "      <td>12012</td>\n",
       "      <td>polo</td>\n",
       "      <td>150000</td>\n",
       "      <td>petrol</td>\n",
       "      <td>volkswagen</td>\n",
       "      <td>unknown</td>\n",
       "      <td>2016</td>\n",
       "    </tr>\n",
       "    <tr>\n",
       "      <th>61684</th>\n",
       "      <td>3250</td>\n",
       "      <td>sedan</td>\n",
       "      <td>2001</td>\n",
       "      <td>auto</td>\n",
       "      <td>17932</td>\n",
       "      <td>omega</td>\n",
       "      <td>150000</td>\n",
       "      <td>petrol</td>\n",
       "      <td>opel</td>\n",
       "      <td>unknown</td>\n",
       "      <td>2016</td>\n",
       "    </tr>\n",
       "    <tr>\n",
       "      <th>74980</th>\n",
       "      <td>850</td>\n",
       "      <td>sedan</td>\n",
       "      <td>2000</td>\n",
       "      <td>manual</td>\n",
       "      <td>12510</td>\n",
       "      <td>astra</td>\n",
       "      <td>30000</td>\n",
       "      <td>petrol</td>\n",
       "      <td>opel</td>\n",
       "      <td>no</td>\n",
       "      <td>2016</td>\n",
       "    </tr>\n",
       "    <tr>\n",
       "      <th>81756</th>\n",
       "      <td>1999</td>\n",
       "      <td>sedan</td>\n",
       "      <td>1991</td>\n",
       "      <td>auto</td>\n",
       "      <td>10912</td>\n",
       "      <td>unknown</td>\n",
       "      <td>150000</td>\n",
       "      <td>gasoline</td>\n",
       "      <td>mercedes_benz</td>\n",
       "      <td>no</td>\n",
       "      <td>2016</td>\n",
       "    </tr>\n",
       "    <tr>\n",
       "      <th>92881</th>\n",
       "      <td>1380</td>\n",
       "      <td>convertible</td>\n",
       "      <td>2001</td>\n",
       "      <td>auto</td>\n",
       "      <td>10710</td>\n",
       "      <td>megane</td>\n",
       "      <td>150000</td>\n",
       "      <td>petrol</td>\n",
       "      <td>renault</td>\n",
       "      <td>no</td>\n",
       "      <td>2016</td>\n",
       "    </tr>\n",
       "    <tr>\n",
       "      <th>93090</th>\n",
       "      <td>4700</td>\n",
       "      <td>bus</td>\n",
       "      <td>1997</td>\n",
       "      <td>manual</td>\n",
       "      <td>10522</td>\n",
       "      <td>transporter</td>\n",
       "      <td>150000</td>\n",
       "      <td>gasoline</td>\n",
       "      <td>volkswagen</td>\n",
       "      <td>unknown</td>\n",
       "      <td>2016</td>\n",
       "    </tr>\n",
       "    <tr>\n",
       "      <th>95043</th>\n",
       "      <td>5500</td>\n",
       "      <td>wagon</td>\n",
       "      <td>2010</td>\n",
       "      <td>manual</td>\n",
       "      <td>11509</td>\n",
       "      <td>ceed</td>\n",
       "      <td>150000</td>\n",
       "      <td>petrol</td>\n",
       "      <td>kia</td>\n",
       "      <td>no</td>\n",
       "      <td>2016</td>\n",
       "    </tr>\n",
       "    <tr>\n",
       "      <th>97031</th>\n",
       "      <td>3500</td>\n",
       "      <td>sedan</td>\n",
       "      <td>1993</td>\n",
       "      <td>auto</td>\n",
       "      <td>11635</td>\n",
       "      <td>80</td>\n",
       "      <td>125000</td>\n",
       "      <td>petrol</td>\n",
       "      <td>audi</td>\n",
       "      <td>no</td>\n",
       "      <td>2016</td>\n",
       "    </tr>\n",
       "    <tr>\n",
       "      <th>109974</th>\n",
       "      <td>9999</td>\n",
       "      <td>sedan</td>\n",
       "      <td>2006</td>\n",
       "      <td>manual</td>\n",
       "      <td>19211</td>\n",
       "      <td>1er</td>\n",
       "      <td>125000</td>\n",
       "      <td>gasoline</td>\n",
       "      <td>bmw</td>\n",
       "      <td>unknown</td>\n",
       "      <td>2016</td>\n",
       "    </tr>\n",
       "    <tr>\n",
       "      <th>127678</th>\n",
       "      <td>2100</td>\n",
       "      <td>wagon</td>\n",
       "      <td>2001</td>\n",
       "      <td>manual</td>\n",
       "      <td>19208</td>\n",
       "      <td>5er</td>\n",
       "      <td>150000</td>\n",
       "      <td>gasoline</td>\n",
       "      <td>bmw</td>\n",
       "      <td>yes</td>\n",
       "      <td>2016</td>\n",
       "    </tr>\n",
       "    <tr>\n",
       "      <th>143069</th>\n",
       "      <td>3650</td>\n",
       "      <td>small</td>\n",
       "      <td>2002</td>\n",
       "      <td>auto</td>\n",
       "      <td>15020</td>\n",
       "      <td>147</td>\n",
       "      <td>125000</td>\n",
       "      <td>petrol</td>\n",
       "      <td>alfa_romeo</td>\n",
       "      <td>no</td>\n",
       "      <td>2016</td>\n",
       "    </tr>\n",
       "    <tr>\n",
       "      <th>145205</th>\n",
       "      <td>1700</td>\n",
       "      <td>wagon</td>\n",
       "      <td>1995</td>\n",
       "      <td>manual</td>\n",
       "      <td>17410</td>\n",
       "      <td>80</td>\n",
       "      <td>5000</td>\n",
       "      <td>petrol</td>\n",
       "      <td>audi</td>\n",
       "      <td>yes</td>\n",
       "      <td>2016</td>\n",
       "    </tr>\n",
       "    <tr>\n",
       "      <th>156335</th>\n",
       "      <td>5200</td>\n",
       "      <td>small</td>\n",
       "      <td>2005</td>\n",
       "      <td>manual</td>\n",
       "      <td>15001</td>\n",
       "      <td>fiesta</td>\n",
       "      <td>150000</td>\n",
       "      <td>petrol</td>\n",
       "      <td>ford</td>\n",
       "      <td>no</td>\n",
       "      <td>2016</td>\n",
       "    </tr>\n",
       "    <tr>\n",
       "      <th>157799</th>\n",
       "      <td>9800</td>\n",
       "      <td>unknown</td>\n",
       "      <td>2016</td>\n",
       "      <td>manual</td>\n",
       "      <td>12510</td>\n",
       "      <td>galaxy</td>\n",
       "      <td>150000</td>\n",
       "      <td>gasoline</td>\n",
       "      <td>ford</td>\n",
       "      <td>no</td>\n",
       "      <td>2016</td>\n",
       "    </tr>\n",
       "    <tr>\n",
       "      <th>169072</th>\n",
       "      <td>10900</td>\n",
       "      <td>sedan</td>\n",
       "      <td>2007</td>\n",
       "      <td>auto</td>\n",
       "      <td>17011</td>\n",
       "      <td>a3</td>\n",
       "      <td>5000</td>\n",
       "      <td>gasoline</td>\n",
       "      <td>audi</td>\n",
       "      <td>unknown</td>\n",
       "      <td>2016</td>\n",
       "    </tr>\n",
       "    <tr>\n",
       "      <th>174739</th>\n",
       "      <td>5250</td>\n",
       "      <td>sedan</td>\n",
       "      <td>1967</td>\n",
       "      <td>auto</td>\n",
       "      <td>16051</td>\n",
       "      <td>unknown</td>\n",
       "      <td>90000</td>\n",
       "      <td>petrol</td>\n",
       "      <td>mercedes_benz</td>\n",
       "      <td>no</td>\n",
       "      <td>2016</td>\n",
       "    </tr>\n",
       "    <tr>\n",
       "      <th>176860</th>\n",
       "      <td>650</td>\n",
       "      <td>unknown</td>\n",
       "      <td>2016</td>\n",
       "      <td>manual</td>\n",
       "      <td>10311</td>\n",
       "      <td>bravo</td>\n",
       "      <td>150000</td>\n",
       "      <td>petrol</td>\n",
       "      <td>fiat</td>\n",
       "      <td>no</td>\n",
       "      <td>2016</td>\n",
       "    </tr>\n",
       "    <tr>\n",
       "      <th>180544</th>\n",
       "      <td>1749</td>\n",
       "      <td>wagon</td>\n",
       "      <td>1989</td>\n",
       "      <td>manual</td>\n",
       "      <td>17019</td>\n",
       "      <td>3er</td>\n",
       "      <td>5000</td>\n",
       "      <td>petrol</td>\n",
       "      <td>bmw</td>\n",
       "      <td>unknown</td>\n",
       "      <td>2016</td>\n",
       "    </tr>\n",
       "    <tr>\n",
       "      <th>181161</th>\n",
       "      <td>200</td>\n",
       "      <td>other</td>\n",
       "      <td>1993</td>\n",
       "      <td>manual</td>\n",
       "      <td>12684</td>\n",
       "      <td>unknown</td>\n",
       "      <td>5000</td>\n",
       "      <td>petrol</td>\n",
       "      <td>sonstige_autos</td>\n",
       "      <td>no</td>\n",
       "      <td>2016</td>\n",
       "    </tr>\n",
       "    <tr>\n",
       "      <th>189410</th>\n",
       "      <td>6000</td>\n",
       "      <td>wagon</td>\n",
       "      <td>2004</td>\n",
       "      <td>auto</td>\n",
       "      <td>17700</td>\n",
       "      <td>5er</td>\n",
       "      <td>150000</td>\n",
       "      <td>gasoline</td>\n",
       "      <td>bmw</td>\n",
       "      <td>no</td>\n",
       "      <td>2016</td>\n",
       "    </tr>\n",
       "    <tr>\n",
       "      <th>190718</th>\n",
       "      <td>900</td>\n",
       "      <td>wagon</td>\n",
       "      <td>1997</td>\n",
       "      <td>manual</td>\n",
       "      <td>11011</td>\n",
       "      <td>a4</td>\n",
       "      <td>150000</td>\n",
       "      <td>gasoline</td>\n",
       "      <td>audi</td>\n",
       "      <td>no</td>\n",
       "      <td>2016</td>\n",
       "    </tr>\n",
       "    <tr>\n",
       "      <th>198342</th>\n",
       "      <td>3150</td>\n",
       "      <td>coupe</td>\n",
       "      <td>2007</td>\n",
       "      <td>manual</td>\n",
       "      <td>15033</td>\n",
       "      <td>other</td>\n",
       "      <td>5000</td>\n",
       "      <td>gasoline</td>\n",
       "      <td>alfa_romeo</td>\n",
       "      <td>no</td>\n",
       "      <td>2016</td>\n",
       "    </tr>\n",
       "    <tr>\n",
       "      <th>206393</th>\n",
       "      <td>500</td>\n",
       "      <td>unknown</td>\n",
       "      <td>2016</td>\n",
       "      <td>manual</td>\n",
       "      <td>13616</td>\n",
       "      <td>e_klasse</td>\n",
       "      <td>150000</td>\n",
       "      <td>gasoline</td>\n",
       "      <td>mercedes_benz</td>\n",
       "      <td>unknown</td>\n",
       "      <td>2016</td>\n",
       "    </tr>\n",
       "    <tr>\n",
       "      <th>209105</th>\n",
       "      <td>11950</td>\n",
       "      <td>convertible</td>\n",
       "      <td>2008</td>\n",
       "      <td>manual</td>\n",
       "      <td>16312</td>\n",
       "      <td>a4</td>\n",
       "      <td>20000</td>\n",
       "      <td>petrol</td>\n",
       "      <td>audi</td>\n",
       "      <td>no</td>\n",
       "      <td>2016</td>\n",
       "    </tr>\n",
       "    <tr>\n",
       "      <th>211594</th>\n",
       "      <td>4300</td>\n",
       "      <td>coupe</td>\n",
       "      <td>1999</td>\n",
       "      <td>auto</td>\n",
       "      <td>20000</td>\n",
       "      <td>clk</td>\n",
       "      <td>150000</td>\n",
       "      <td>petrol</td>\n",
       "      <td>mercedes_benz</td>\n",
       "      <td>no</td>\n",
       "      <td>2016</td>\n",
       "    </tr>\n",
       "    <tr>\n",
       "      <th>219342</th>\n",
       "      <td>15499</td>\n",
       "      <td>wagon</td>\n",
       "      <td>2012</td>\n",
       "      <td>manual</td>\n",
       "      <td>13636</td>\n",
       "      <td>c_klasse</td>\n",
       "      <td>125000</td>\n",
       "      <td>gasoline</td>\n",
       "      <td>mercedes_benz</td>\n",
       "      <td>no</td>\n",
       "      <td>2016</td>\n",
       "    </tr>\n",
       "    <tr>\n",
       "      <th>251374</th>\n",
       "      <td>1750</td>\n",
       "      <td>wagon</td>\n",
       "      <td>2003</td>\n",
       "      <td>auto</td>\n",
       "      <td>15017</td>\n",
       "      <td>3er</td>\n",
       "      <td>150000</td>\n",
       "      <td>gasoline</td>\n",
       "      <td>bmw</td>\n",
       "      <td>unknown</td>\n",
       "      <td>2016</td>\n",
       "    </tr>\n",
       "    <tr>\n",
       "      <th>251451</th>\n",
       "      <td>1500</td>\n",
       "      <td>wagon</td>\n",
       "      <td>2006</td>\n",
       "      <td>manual</td>\n",
       "      <td>10910</td>\n",
       "      <td>unknown</td>\n",
       "      <td>20000</td>\n",
       "      <td>petrol</td>\n",
       "      <td>peugeot</td>\n",
       "      <td>yes</td>\n",
       "      <td>2016</td>\n",
       "    </tr>\n",
       "    <tr>\n",
       "      <th>253169</th>\n",
       "      <td>2800</td>\n",
       "      <td>wagon</td>\n",
       "      <td>1998</td>\n",
       "      <td>manual</td>\n",
       "      <td>11025</td>\n",
       "      <td>passat</td>\n",
       "      <td>150000</td>\n",
       "      <td>gasoline</td>\n",
       "      <td>volkswagen</td>\n",
       "      <td>unknown</td>\n",
       "      <td>2016</td>\n",
       "    </tr>\n",
       "    <tr>\n",
       "      <th>261170</th>\n",
       "      <td>9799</td>\n",
       "      <td>sedan</td>\n",
       "      <td>2011</td>\n",
       "      <td>manual</td>\n",
       "      <td>14009</td>\n",
       "      <td>unknown</td>\n",
       "      <td>80000</td>\n",
       "      <td>petrol</td>\n",
       "      <td>opel</td>\n",
       "      <td>no</td>\n",
       "      <td>2016</td>\n",
       "    </tr>\n",
       "    <tr>\n",
       "      <th>262533</th>\n",
       "      <td>125</td>\n",
       "      <td>small</td>\n",
       "      <td>1999</td>\n",
       "      <td>manual</td>\n",
       "      <td>11111</td>\n",
       "      <td>corsa</td>\n",
       "      <td>125000</td>\n",
       "      <td>petrol</td>\n",
       "      <td>opel</td>\n",
       "      <td>unknown</td>\n",
       "      <td>2016</td>\n",
       "    </tr>\n",
       "    <tr>\n",
       "      <th>281636</th>\n",
       "      <td>2000</td>\n",
       "      <td>bus</td>\n",
       "      <td>2003</td>\n",
       "      <td>manual</td>\n",
       "      <td>12512</td>\n",
       "      <td>zafira</td>\n",
       "      <td>150000</td>\n",
       "      <td>petrol</td>\n",
       "      <td>opel</td>\n",
       "      <td>unknown</td>\n",
       "      <td>2016</td>\n",
       "    </tr>\n",
       "    <tr>\n",
       "      <th>288375</th>\n",
       "      <td>1500</td>\n",
       "      <td>wagon</td>\n",
       "      <td>1997</td>\n",
       "      <td>manual</td>\n",
       "      <td>19312</td>\n",
       "      <td>5er</td>\n",
       "      <td>150000</td>\n",
       "      <td>gasoline</td>\n",
       "      <td>bmw</td>\n",
       "      <td>no</td>\n",
       "      <td>2016</td>\n",
       "    </tr>\n",
       "    <tr>\n",
       "      <th>300185</th>\n",
       "      <td>11900</td>\n",
       "      <td>wagon</td>\n",
       "      <td>2007</td>\n",
       "      <td>auto</td>\n",
       "      <td>16311</td>\n",
       "      <td>5er</td>\n",
       "      <td>150000</td>\n",
       "      <td>gasoline</td>\n",
       "      <td>bmw</td>\n",
       "      <td>no</td>\n",
       "      <td>2016</td>\n",
       "    </tr>\n",
       "    <tr>\n",
       "      <th>327408</th>\n",
       "      <td>600</td>\n",
       "      <td>sedan</td>\n",
       "      <td>2000</td>\n",
       "      <td>manual</td>\n",
       "      <td>10110</td>\n",
       "      <td>focus</td>\n",
       "      <td>125000</td>\n",
       "      <td>petrol</td>\n",
       "      <td>ford</td>\n",
       "      <td>unknown</td>\n",
       "      <td>2016</td>\n",
       "    </tr>\n",
       "    <tr>\n",
       "      <th>334160</th>\n",
       "      <td>1300</td>\n",
       "      <td>sedan</td>\n",
       "      <td>2000</td>\n",
       "      <td>manual</td>\n",
       "      <td>12512</td>\n",
       "      <td>carisma</td>\n",
       "      <td>150000</td>\n",
       "      <td>petrol</td>\n",
       "      <td>mitsubishi</td>\n",
       "      <td>unknown</td>\n",
       "      <td>2016</td>\n",
       "    </tr>\n",
       "  </tbody>\n",
       "</table>\n",
       "</div>"
      ],
      "text/plain": [
       "        price vehicle_type  registration_year gearbox  power        model  \\\n",
       "24304   10900          bus               2009  manual  10520        caddy   \n",
       "43431   15800  convertible               2014    auto  10218       fortwo   \n",
       "54928    1995        wagon               2002  manual  11530        focus   \n",
       "60706    2200        small               1999  manual  12012         polo   \n",
       "61684    3250        sedan               2001    auto  17932        omega   \n",
       "74980     850        sedan               2000  manual  12510        astra   \n",
       "81756    1999        sedan               1991    auto  10912      unknown   \n",
       "92881    1380  convertible               2001    auto  10710       megane   \n",
       "93090    4700          bus               1997  manual  10522  transporter   \n",
       "95043    5500        wagon               2010  manual  11509         ceed   \n",
       "97031    3500        sedan               1993    auto  11635           80   \n",
       "109974   9999        sedan               2006  manual  19211          1er   \n",
       "127678   2100        wagon               2001  manual  19208          5er   \n",
       "143069   3650        small               2002    auto  15020          147   \n",
       "145205   1700        wagon               1995  manual  17410           80   \n",
       "156335   5200        small               2005  manual  15001       fiesta   \n",
       "157799   9800      unknown               2016  manual  12510       galaxy   \n",
       "169072  10900        sedan               2007    auto  17011           a3   \n",
       "174739   5250        sedan               1967    auto  16051      unknown   \n",
       "176860    650      unknown               2016  manual  10311        bravo   \n",
       "180544   1749        wagon               1989  manual  17019          3er   \n",
       "181161    200        other               1993  manual  12684      unknown   \n",
       "189410   6000        wagon               2004    auto  17700          5er   \n",
       "190718    900        wagon               1997  manual  11011           a4   \n",
       "198342   3150        coupe               2007  manual  15033        other   \n",
       "206393    500      unknown               2016  manual  13616     e_klasse   \n",
       "209105  11950  convertible               2008  manual  16312           a4   \n",
       "211594   4300        coupe               1999    auto  20000          clk   \n",
       "219342  15499        wagon               2012  manual  13636     c_klasse   \n",
       "251374   1750        wagon               2003    auto  15017          3er   \n",
       "251451   1500        wagon               2006  manual  10910      unknown   \n",
       "253169   2800        wagon               1998  manual  11025       passat   \n",
       "261170   9799        sedan               2011  manual  14009      unknown   \n",
       "262533    125        small               1999  manual  11111        corsa   \n",
       "281636   2000          bus               2003  manual  12512       zafira   \n",
       "288375   1500        wagon               1997  manual  19312          5er   \n",
       "300185  11900        wagon               2007    auto  16311          5er   \n",
       "327408    600        sedan               2000  manual  10110        focus   \n",
       "334160   1300        sedan               2000  manual  12512      carisma   \n",
       "\n",
       "        kilometer fuel_type           brand repaired  year_created  \n",
       "24304      150000  gasoline      volkswagen       no          2016  \n",
       "43431       30000    petrol           smart  unknown          2016  \n",
       "54928      150000    petrol            ford       no          2016  \n",
       "60706      150000    petrol      volkswagen  unknown          2016  \n",
       "61684      150000    petrol            opel  unknown          2016  \n",
       "74980       30000    petrol            opel       no          2016  \n",
       "81756      150000  gasoline   mercedes_benz       no          2016  \n",
       "92881      150000    petrol         renault       no          2016  \n",
       "93090      150000  gasoline      volkswagen  unknown          2016  \n",
       "95043      150000    petrol             kia       no          2016  \n",
       "97031      125000    petrol            audi       no          2016  \n",
       "109974     125000  gasoline             bmw  unknown          2016  \n",
       "127678     150000  gasoline             bmw      yes          2016  \n",
       "143069     125000    petrol      alfa_romeo       no          2016  \n",
       "145205       5000    petrol            audi      yes          2016  \n",
       "156335     150000    petrol            ford       no          2016  \n",
       "157799     150000  gasoline            ford       no          2016  \n",
       "169072       5000  gasoline            audi  unknown          2016  \n",
       "174739      90000    petrol   mercedes_benz       no          2016  \n",
       "176860     150000    petrol            fiat       no          2016  \n",
       "180544       5000    petrol             bmw  unknown          2016  \n",
       "181161       5000    petrol  sonstige_autos       no          2016  \n",
       "189410     150000  gasoline             bmw       no          2016  \n",
       "190718     150000  gasoline            audi       no          2016  \n",
       "198342       5000  gasoline      alfa_romeo       no          2016  \n",
       "206393     150000  gasoline   mercedes_benz  unknown          2016  \n",
       "209105      20000    petrol            audi       no          2016  \n",
       "211594     150000    petrol   mercedes_benz       no          2016  \n",
       "219342     125000  gasoline   mercedes_benz       no          2016  \n",
       "251374     150000  gasoline             bmw  unknown          2016  \n",
       "251451      20000    petrol         peugeot      yes          2016  \n",
       "253169     150000  gasoline      volkswagen  unknown          2016  \n",
       "261170      80000    petrol            opel       no          2016  \n",
       "262533     125000    petrol            opel  unknown          2016  \n",
       "281636     150000    petrol            opel  unknown          2016  \n",
       "288375     150000  gasoline             bmw       no          2016  \n",
       "300185     150000  gasoline             bmw       no          2016  \n",
       "327408     125000    petrol            ford  unknown          2016  \n",
       "334160     150000    petrol      mitsubishi  unknown          2016  "
      ]
     },
     "execution_count": 46,
     "metadata": {},
     "output_type": "execute_result"
    }
   ],
   "source": [
    "data[data['power'] > 10000]"
   ]
  },
  {
   "cell_type": "markdown",
   "metadata": {},
   "source": [
    "При детальном рассмотрении виден порядок ошибки. Например, `alfa_romeo 147` не может иметь мощность 15020, но может иметь мощность 150.02. Так и в остальных случаях. Разделим пятизначные значения мощности на 100."
   ]
  },
  {
   "cell_type": "code",
   "execution_count": 47,
   "metadata": {
    "tags": []
   },
   "outputs": [
    {
     "data": {
      "text/html": [
       "<div>\n",
       "<style scoped>\n",
       "    .dataframe tbody tr th:only-of-type {\n",
       "        vertical-align: middle;\n",
       "    }\n",
       "\n",
       "    .dataframe tbody tr th {\n",
       "        vertical-align: top;\n",
       "    }\n",
       "\n",
       "    .dataframe thead th {\n",
       "        text-align: right;\n",
       "    }\n",
       "</style>\n",
       "<table border=\"1\" class=\"dataframe\">\n",
       "  <thead>\n",
       "    <tr style=\"text-align: right;\">\n",
       "      <th></th>\n",
       "      <th>price</th>\n",
       "      <th>vehicle_type</th>\n",
       "      <th>registration_year</th>\n",
       "      <th>gearbox</th>\n",
       "      <th>power</th>\n",
       "      <th>model</th>\n",
       "      <th>kilometer</th>\n",
       "      <th>fuel_type</th>\n",
       "      <th>brand</th>\n",
       "      <th>repaired</th>\n",
       "      <th>year_created</th>\n",
       "    </tr>\n",
       "  </thead>\n",
       "  <tbody>\n",
       "    <tr>\n",
       "      <th>1751</th>\n",
       "      <td>3200</td>\n",
       "      <td>small</td>\n",
       "      <td>2004</td>\n",
       "      <td>manual</td>\n",
       "      <td>1398</td>\n",
       "      <td>corolla</td>\n",
       "      <td>5000</td>\n",
       "      <td>petrol</td>\n",
       "      <td>toyota</td>\n",
       "      <td>no</td>\n",
       "      <td>2016</td>\n",
       "    </tr>\n",
       "    <tr>\n",
       "      <th>5129</th>\n",
       "      <td>500</td>\n",
       "      <td>wagon</td>\n",
       "      <td>1999</td>\n",
       "      <td>manual</td>\n",
       "      <td>1001</td>\n",
       "      <td>astra</td>\n",
       "      <td>150000</td>\n",
       "      <td>petrol</td>\n",
       "      <td>opel</td>\n",
       "      <td>unknown</td>\n",
       "      <td>2016</td>\n",
       "    </tr>\n",
       "    <tr>\n",
       "      <th>7383</th>\n",
       "      <td>1499</td>\n",
       "      <td>small</td>\n",
       "      <td>1999</td>\n",
       "      <td>manual</td>\n",
       "      <td>7515</td>\n",
       "      <td>lupo</td>\n",
       "      <td>150000</td>\n",
       "      <td>petrol</td>\n",
       "      <td>volkswagen</td>\n",
       "      <td>unknown</td>\n",
       "      <td>2016</td>\n",
       "    </tr>\n",
       "    <tr>\n",
       "      <th>7441</th>\n",
       "      <td>1500</td>\n",
       "      <td>small</td>\n",
       "      <td>2000</td>\n",
       "      <td>manual</td>\n",
       "      <td>1400</td>\n",
       "      <td>unknown</td>\n",
       "      <td>150000</td>\n",
       "      <td>petrol</td>\n",
       "      <td>honda</td>\n",
       "      <td>unknown</td>\n",
       "      <td>2016</td>\n",
       "    </tr>\n",
       "    <tr>\n",
       "      <th>9328</th>\n",
       "      <td>2599</td>\n",
       "      <td>unknown</td>\n",
       "      <td>2016</td>\n",
       "      <td>manual</td>\n",
       "      <td>1779</td>\n",
       "      <td>zafira</td>\n",
       "      <td>150000</td>\n",
       "      <td>petrol</td>\n",
       "      <td>opel</td>\n",
       "      <td>no</td>\n",
       "      <td>2016</td>\n",
       "    </tr>\n",
       "    <tr>\n",
       "      <th>...</th>\n",
       "      <td>...</td>\n",
       "      <td>...</td>\n",
       "      <td>...</td>\n",
       "      <td>...</td>\n",
       "      <td>...</td>\n",
       "      <td>...</td>\n",
       "      <td>...</td>\n",
       "      <td>...</td>\n",
       "      <td>...</td>\n",
       "      <td>...</td>\n",
       "      <td>...</td>\n",
       "    </tr>\n",
       "    <tr>\n",
       "      <th>335701</th>\n",
       "      <td>3000</td>\n",
       "      <td>coupe</td>\n",
       "      <td>2007</td>\n",
       "      <td>manual</td>\n",
       "      <td>2007</td>\n",
       "      <td>corsa</td>\n",
       "      <td>150000</td>\n",
       "      <td>gasoline</td>\n",
       "      <td>opel</td>\n",
       "      <td>yes</td>\n",
       "      <td>2016</td>\n",
       "    </tr>\n",
       "    <tr>\n",
       "      <th>336117</th>\n",
       "      <td>1000</td>\n",
       "      <td>wagon</td>\n",
       "      <td>1996</td>\n",
       "      <td>manual</td>\n",
       "      <td>2598</td>\n",
       "      <td>a6</td>\n",
       "      <td>150000</td>\n",
       "      <td>gasoline</td>\n",
       "      <td>audi</td>\n",
       "      <td>unknown</td>\n",
       "      <td>2016</td>\n",
       "    </tr>\n",
       "    <tr>\n",
       "      <th>336324</th>\n",
       "      <td>7500</td>\n",
       "      <td>sedan</td>\n",
       "      <td>2011</td>\n",
       "      <td>manual</td>\n",
       "      <td>1548</td>\n",
       "      <td>scenic</td>\n",
       "      <td>90000</td>\n",
       "      <td>petrol</td>\n",
       "      <td>renault</td>\n",
       "      <td>unknown</td>\n",
       "      <td>2016</td>\n",
       "    </tr>\n",
       "    <tr>\n",
       "      <th>336405</th>\n",
       "      <td>250</td>\n",
       "      <td>small</td>\n",
       "      <td>1999</td>\n",
       "      <td>manual</td>\n",
       "      <td>1241</td>\n",
       "      <td>ypsilon</td>\n",
       "      <td>150000</td>\n",
       "      <td>petrol</td>\n",
       "      <td>lancia</td>\n",
       "      <td>yes</td>\n",
       "      <td>2016</td>\n",
       "    </tr>\n",
       "    <tr>\n",
       "      <th>339276</th>\n",
       "      <td>1500</td>\n",
       "      <td>bus</td>\n",
       "      <td>2001</td>\n",
       "      <td>manual</td>\n",
       "      <td>1001</td>\n",
       "      <td>zafira</td>\n",
       "      <td>5000</td>\n",
       "      <td>gasoline</td>\n",
       "      <td>opel</td>\n",
       "      <td>no</td>\n",
       "      <td>2016</td>\n",
       "    </tr>\n",
       "  </tbody>\n",
       "</table>\n",
       "<p>215 rows × 11 columns</p>\n",
       "</div>"
      ],
      "text/plain": [
       "        price vehicle_type  registration_year gearbox  power    model  \\\n",
       "1751     3200        small               2004  manual   1398  corolla   \n",
       "5129      500        wagon               1999  manual   1001    astra   \n",
       "7383     1499        small               1999  manual   7515     lupo   \n",
       "7441     1500        small               2000  manual   1400  unknown   \n",
       "9328     2599      unknown               2016  manual   1779   zafira   \n",
       "...       ...          ...                ...     ...    ...      ...   \n",
       "335701   3000        coupe               2007  manual   2007    corsa   \n",
       "336117   1000        wagon               1996  manual   2598       a6   \n",
       "336324   7500        sedan               2011  manual   1548   scenic   \n",
       "336405    250        small               1999  manual   1241  ypsilon   \n",
       "339276   1500          bus               2001  manual   1001   zafira   \n",
       "\n",
       "        kilometer fuel_type       brand repaired  year_created  \n",
       "1751         5000    petrol      toyota       no          2016  \n",
       "5129       150000    petrol        opel  unknown          2016  \n",
       "7383       150000    petrol  volkswagen  unknown          2016  \n",
       "7441       150000    petrol       honda  unknown          2016  \n",
       "9328       150000    petrol        opel       no          2016  \n",
       "...           ...       ...         ...      ...           ...  \n",
       "335701     150000  gasoline        opel      yes          2016  \n",
       "336117     150000  gasoline        audi  unknown          2016  \n",
       "336324      90000    petrol     renault  unknown          2016  \n",
       "336405     150000    petrol      lancia      yes          2016  \n",
       "339276       5000  gasoline        opel       no          2016  \n",
       "\n",
       "[215 rows x 11 columns]"
      ]
     },
     "execution_count": 47,
     "metadata": {},
     "output_type": "execute_result"
    }
   ],
   "source": [
    "data[(data['power'] < 10000) & (data['power'] > 1000)]"
   ]
  },
  {
   "cell_type": "markdown",
   "metadata": {},
   "source": [
    "Также видим, например, что `toyota_corolla` с мощностью 1398 л.с. - это что-то запредельное, скорее всего здесь тоже ошибка порядка, разделим все мощности в промежутке от 1000 дло 10000 на 10."
   ]
  },
  {
   "cell_type": "code",
   "execution_count": 48,
   "metadata": {
    "tags": []
   },
   "outputs": [],
   "source": [
    "warnings.filterwarnings('ignore')\n",
    "def powers (horse_power):\n",
    "    if (horse_power < 1000):\n",
    "        return int(horse_power)\n",
    "    elif (horse_power >= 1000) & (horse_power < 10000):\n",
    "        return int(horse_power / 10)\n",
    "    elif (horse_power >= 10000):\n",
    "        return int(horse_power / 100)\n",
    "\n",
    "data['power'] = data['power'].apply(powers)"
   ]
  },
  {
   "cell_type": "code",
   "execution_count": 49,
   "metadata": {
    "scrolled": true,
    "tags": []
   },
   "outputs": [
    {
     "data": {
      "text/plain": [
       "array([  0,   1,   2,   3,   4,   5,   6,   7,   8,   9,  10,  11,  12,\n",
       "        13,  14,  15,  16,  17,  18,  19,  20,  21,  22,  23,  24,  25,\n",
       "        26,  27,  28,  29,  30,  31,  32,  33,  34,  35,  36,  37,  38,\n",
       "        39,  40,  41,  42,  43,  44,  45,  46,  47,  48,  49,  50,  51,\n",
       "        52,  53,  54,  55,  56,  57,  58,  59,  60,  61,  62,  63,  64,\n",
       "        65,  66,  67,  68,  69,  70,  71,  72,  73,  74,  75,  76,  77,\n",
       "        78,  79,  80,  81,  82,  83,  84,  85,  86,  87,  88,  89,  90,\n",
       "        91,  92,  93,  94,  95,  96,  97,  98,  99, 100, 101, 102, 103,\n",
       "       104, 105, 106, 107, 108, 109, 110, 111, 112, 113, 114, 115, 116,\n",
       "       117, 118, 119, 120, 121, 122, 123, 124, 125, 126, 127, 128, 129,\n",
       "       130, 131, 132, 133, 134, 135, 136, 137, 138, 139, 140, 141, 142,\n",
       "       143, 144, 145, 146, 147, 148, 149, 150, 151, 152, 153, 154, 155,\n",
       "       156, 157, 158, 159, 160, 161, 162, 163, 164, 165, 166, 167, 168,\n",
       "       169, 170, 171, 172, 173, 174, 175, 176, 177, 178, 179, 180, 181,\n",
       "       182, 183, 184, 185, 186, 187, 188, 189, 190, 191, 192, 193, 194,\n",
       "       195, 196, 197, 198, 199, 200, 201, 202, 203, 204, 205, 206, 207,\n",
       "       208, 209, 210, 211, 212, 213, 214, 215, 216, 217, 218, 219, 220,\n",
       "       221, 222, 223, 224, 225, 226, 227, 228, 229, 230, 231, 232, 233,\n",
       "       234, 235, 236, 237, 238, 239, 240, 241, 242, 243, 244, 245, 246,\n",
       "       247, 248, 249, 250, 251, 252, 253, 254, 255, 256, 257, 258, 259,\n",
       "       260, 261, 262, 264, 265, 266, 267, 268, 269, 270, 271, 272, 273,\n",
       "       274, 275, 276, 277, 278, 279, 280, 281, 282, 283, 284, 285, 286,\n",
       "       287, 288, 289, 290, 292, 293, 294, 295, 296, 297, 298, 299, 300,\n",
       "       301, 303, 304, 305, 306, 307, 308, 309, 310, 311, 313, 314, 315,\n",
       "       316, 317, 318, 319, 320, 321, 322, 323, 324, 325, 326, 328, 329,\n",
       "       330, 331, 332, 333, 334, 335, 336, 337, 338, 339, 340, 341, 343,\n",
       "       344, 345, 346, 347, 348, 349, 350, 351, 352, 353, 354, 355, 356,\n",
       "       357, 358, 360, 361, 362, 363, 364, 365, 367, 368, 370, 371, 374,\n",
       "       375, 376, 377, 379, 380, 381, 382, 385, 386, 387, 388, 390, 392,\n",
       "       394, 396, 398, 399, 400, 401, 405, 408, 409, 411, 416, 420, 421,\n",
       "       425, 426, 428, 430, 431, 435, 440, 442, 445, 449, 450, 454, 457,\n",
       "       459, 460, 470, 475, 476, 487, 489, 490, 500, 504, 505, 507, 508,\n",
       "       510, 514, 515, 517, 519, 520, 521, 525, 540, 541, 542, 544, 550,\n",
       "       551, 553, 557, 560, 572, 579, 580, 581, 584, 585, 586, 600, 601,\n",
       "       602, 603, 604, 606, 610, 612, 620, 622, 640, 645, 650, 651, 671,\n",
       "       678, 682, 685, 692, 696, 700, 702, 703, 732, 743, 750, 751, 752,\n",
       "       754, 771, 776, 800, 805, 825, 840, 850, 851, 871, 900, 901, 902,\n",
       "       903, 907, 909, 923, 950, 952, 953, 998, 999], dtype=int64)"
      ]
     },
     "execution_count": 49,
     "metadata": {},
     "output_type": "execute_result"
    }
   ],
   "source": [
    "data['power'].sort_values().unique()"
   ]
  },
  {
   "cell_type": "code",
   "execution_count": 50,
   "metadata": {
    "tags": []
   },
   "outputs": [
    {
     "data": {
      "image/png": "[encoded data removed]",
      "text/plain": [
       "<Figure size 500x500 with 1 Axes>"
      ]
     },
     "metadata": {},
     "output_type": "display_data"
    }
   ],
   "source": [
    "plt.figure(figsize=(5,5))\n",
    "sns.boxplot(data=data['power'])\n",
    "plt.grid()\n",
    "plt.ylim(-10, 1000)\n",
    "plt.show()"
   ]
  },
  {
   "cell_type": "code",
   "execution_count": 51,
   "metadata": {
    "tags": []
   },
   "outputs": [
    {
     "name": "stdout",
     "output_type": "stream",
     "text": [
      "Верхняя граница: power    249.5\n",
      "dtype: float64\n"
     ]
    }
   ],
   "source": [
    "q25 = data[['power']].quantile(0.25)\n",
    "q75 = data[['power']].quantile(0.75)\n",
    "iqr = q75 - q25\n",
    "\n",
    "max_75 = q75+(1.5*iqr)\n",
    "\n",
    "print('Верхняя граница:', max_75)"
   ]
  },
  {
   "cell_type": "code",
   "execution_count": 52,
   "metadata": {
    "tags": []
   },
   "outputs": [
    {
     "data": {
      "text/html": [
       "<div>\n",
       "<style scoped>\n",
       "    .dataframe tbody tr th:only-of-type {\n",
       "        vertical-align: middle;\n",
       "    }\n",
       "\n",
       "    .dataframe tbody tr th {\n",
       "        vertical-align: top;\n",
       "    }\n",
       "\n",
       "    .dataframe thead th {\n",
       "        text-align: right;\n",
       "    }\n",
       "</style>\n",
       "<table border=\"1\" class=\"dataframe\">\n",
       "  <thead>\n",
       "    <tr style=\"text-align: right;\">\n",
       "      <th></th>\n",
       "      <th>price</th>\n",
       "      <th>vehicle_type</th>\n",
       "      <th>registration_year</th>\n",
       "      <th>gearbox</th>\n",
       "      <th>power</th>\n",
       "      <th>model</th>\n",
       "      <th>kilometer</th>\n",
       "      <th>fuel_type</th>\n",
       "      <th>brand</th>\n",
       "      <th>repaired</th>\n",
       "      <th>year_created</th>\n",
       "    </tr>\n",
       "  </thead>\n",
       "  <tbody>\n",
       "    <tr>\n",
       "      <th>3904</th>\n",
       "      <td>3100</td>\n",
       "      <td>sedan</td>\n",
       "      <td>2005</td>\n",
       "      <td>manual</td>\n",
       "      <td>953</td>\n",
       "      <td>colt</td>\n",
       "      <td>150000</td>\n",
       "      <td>gasoline</td>\n",
       "      <td>mitsubishi</td>\n",
       "      <td>no</td>\n",
       "      <td>2016</td>\n",
       "    </tr>\n",
       "    <tr>\n",
       "      <th>6067</th>\n",
       "      <td>599</td>\n",
       "      <td>small</td>\n",
       "      <td>2002</td>\n",
       "      <td>manual</td>\n",
       "      <td>603</td>\n",
       "      <td>matiz</td>\n",
       "      <td>5000</td>\n",
       "      <td>petrol</td>\n",
       "      <td>chevrolet</td>\n",
       "      <td>yes</td>\n",
       "      <td>2016</td>\n",
       "    </tr>\n",
       "    <tr>\n",
       "      <th>6272</th>\n",
       "      <td>3000</td>\n",
       "      <td>small</td>\n",
       "      <td>2009</td>\n",
       "      <td>manual</td>\n",
       "      <td>771</td>\n",
       "      <td>punto</td>\n",
       "      <td>125000</td>\n",
       "      <td>petrol</td>\n",
       "      <td>fiat</td>\n",
       "      <td>unknown</td>\n",
       "      <td>2016</td>\n",
       "    </tr>\n",
       "    <tr>\n",
       "      <th>6400</th>\n",
       "      <td>600</td>\n",
       "      <td>small</td>\n",
       "      <td>1996</td>\n",
       "      <td>manual</td>\n",
       "      <td>603</td>\n",
       "      <td>corsa</td>\n",
       "      <td>150000</td>\n",
       "      <td>petrol</td>\n",
       "      <td>opel</td>\n",
       "      <td>yes</td>\n",
       "      <td>2016</td>\n",
       "    </tr>\n",
       "    <tr>\n",
       "      <th>7383</th>\n",
       "      <td>1499</td>\n",
       "      <td>small</td>\n",
       "      <td>1999</td>\n",
       "      <td>manual</td>\n",
       "      <td>751</td>\n",
       "      <td>lupo</td>\n",
       "      <td>150000</td>\n",
       "      <td>petrol</td>\n",
       "      <td>volkswagen</td>\n",
       "      <td>unknown</td>\n",
       "      <td>2016</td>\n",
       "    </tr>\n",
       "    <tr>\n",
       "      <th>...</th>\n",
       "      <td>...</td>\n",
       "      <td>...</td>\n",
       "      <td>...</td>\n",
       "      <td>...</td>\n",
       "      <td>...</td>\n",
       "      <td>...</td>\n",
       "      <td>...</td>\n",
       "      <td>...</td>\n",
       "      <td>...</td>\n",
       "      <td>...</td>\n",
       "      <td>...</td>\n",
       "    </tr>\n",
       "    <tr>\n",
       "      <th>329028</th>\n",
       "      <td>1899</td>\n",
       "      <td>other</td>\n",
       "      <td>2006</td>\n",
       "      <td>manual</td>\n",
       "      <td>751</td>\n",
       "      <td>berlingo</td>\n",
       "      <td>125000</td>\n",
       "      <td>petrol</td>\n",
       "      <td>citroen</td>\n",
       "      <td>yes</td>\n",
       "      <td>2016</td>\n",
       "    </tr>\n",
       "    <tr>\n",
       "      <th>332270</th>\n",
       "      <td>14900</td>\n",
       "      <td>suv</td>\n",
       "      <td>2006</td>\n",
       "      <td>auto</td>\n",
       "      <td>521</td>\n",
       "      <td>cayenne</td>\n",
       "      <td>150000</td>\n",
       "      <td>petrol</td>\n",
       "      <td>porsche</td>\n",
       "      <td>no</td>\n",
       "      <td>2016</td>\n",
       "    </tr>\n",
       "    <tr>\n",
       "      <th>333704</th>\n",
       "      <td>20000</td>\n",
       "      <td>unknown</td>\n",
       "      <td>2016</td>\n",
       "      <td>auto</td>\n",
       "      <td>507</td>\n",
       "      <td>m_reihe</td>\n",
       "      <td>150000</td>\n",
       "      <td>petrol</td>\n",
       "      <td>bmw</td>\n",
       "      <td>unknown</td>\n",
       "      <td>2016</td>\n",
       "    </tr>\n",
       "    <tr>\n",
       "      <th>335604</th>\n",
       "      <td>850</td>\n",
       "      <td>sedan</td>\n",
       "      <td>1993</td>\n",
       "      <td>auto</td>\n",
       "      <td>901</td>\n",
       "      <td>golf</td>\n",
       "      <td>150000</td>\n",
       "      <td>petrol</td>\n",
       "      <td>volkswagen</td>\n",
       "      <td>unknown</td>\n",
       "      <td>2016</td>\n",
       "    </tr>\n",
       "    <tr>\n",
       "      <th>340905</th>\n",
       "      <td>2400</td>\n",
       "      <td>sedan</td>\n",
       "      <td>2007</td>\n",
       "      <td>manual</td>\n",
       "      <td>650</td>\n",
       "      <td>c2</td>\n",
       "      <td>150000</td>\n",
       "      <td>petrol</td>\n",
       "      <td>citroen</td>\n",
       "      <td>unknown</td>\n",
       "      <td>2016</td>\n",
       "    </tr>\n",
       "  </tbody>\n",
       "</table>\n",
       "<p>153 rows × 11 columns</p>\n",
       "</div>"
      ],
      "text/plain": [
       "        price vehicle_type  registration_year gearbox  power     model  \\\n",
       "3904     3100        sedan               2005  manual    953      colt   \n",
       "6067      599        small               2002  manual    603     matiz   \n",
       "6272     3000        small               2009  manual    771     punto   \n",
       "6400      600        small               1996  manual    603     corsa   \n",
       "7383     1499        small               1999  manual    751      lupo   \n",
       "...       ...          ...                ...     ...    ...       ...   \n",
       "329028   1899        other               2006  manual    751  berlingo   \n",
       "332270  14900          suv               2006    auto    521   cayenne   \n",
       "333704  20000      unknown               2016    auto    507   m_reihe   \n",
       "335604    850        sedan               1993    auto    901      golf   \n",
       "340905   2400        sedan               2007  manual    650        c2   \n",
       "\n",
       "        kilometer fuel_type       brand repaired  year_created  \n",
       "3904       150000  gasoline  mitsubishi       no          2016  \n",
       "6067         5000    petrol   chevrolet      yes          2016  \n",
       "6272       125000    petrol        fiat  unknown          2016  \n",
       "6400       150000    petrol        opel      yes          2016  \n",
       "7383       150000    petrol  volkswagen  unknown          2016  \n",
       "...           ...       ...         ...      ...           ...  \n",
       "329028     125000    petrol     citroen      yes          2016  \n",
       "332270     150000    petrol     porsche       no          2016  \n",
       "333704     150000    petrol         bmw  unknown          2016  \n",
       "335604     150000    petrol  volkswagen  unknown          2016  \n",
       "340905     150000    petrol     citroen  unknown          2016  \n",
       "\n",
       "[153 rows x 11 columns]"
      ]
     },
     "execution_count": 52,
     "metadata": {},
     "output_type": "execute_result"
    }
   ],
   "source": [
    "data[(data['power'] > 500)]"
   ]
  },
  {
   "cell_type": "markdown",
   "metadata": {},
   "source": [
    "Видим, что автомобилей с мощностью более 500 л.с. всего 153, при этом также видно, что если porsche_cayenne еще может иметь мощность 521 л.с., то volkswagen_golf или lupo таких мощностей иметь не могут. Удалим эти 153 строчки."
   ]
  },
  {
   "cell_type": "code",
   "execution_count": 53,
   "metadata": {
    "tags": []
   },
   "outputs": [],
   "source": [
    "data = data.loc[(data['power'] < 500)]"
   ]
  },
  {
   "cell_type": "code",
   "execution_count": 54,
   "metadata": {
    "tags": []
   },
   "outputs": [
    {
     "name": "stdout",
     "output_type": "stream",
     "text": [
      "<class 'pandas.core.frame.DataFrame'>\n",
      "Index: 285523 entries, 0 to 341618\n",
      "Data columns (total 11 columns):\n",
      " #   Column             Non-Null Count   Dtype \n",
      "---  ------             --------------   ----- \n",
      " 0   price              285523 non-null  int64 \n",
      " 1   vehicle_type       285523 non-null  object\n",
      " 2   registration_year  285523 non-null  int64 \n",
      " 3   gearbox            285523 non-null  object\n",
      " 4   power              285523 non-null  int64 \n",
      " 5   model              285523 non-null  object\n",
      " 6   kilometer          285523 non-null  int64 \n",
      " 7   fuel_type          285523 non-null  object\n",
      " 8   brand              285523 non-null  object\n",
      " 9   repaired           285523 non-null  object\n",
      " 10  year_created       285523 non-null  int32 \n",
      "dtypes: int32(1), int64(4), object(6)\n",
      "memory usage: 25.1+ MB\n"
     ]
    }
   ],
   "source": [
    "data.info()"
   ]
  },
  {
   "cell_type": "markdown",
   "metadata": {},
   "source": [
    "**Вывод по предобработке данных:**\n",
    "\n",
    "1. Рассмотрели целевой признак - столбец `price`, удалили аномалию в виде 0 цены.\n",
    "2. Удалили столбцы `postal_code`, `date_crawled`, `last_seen`, `date_created`, `number_of_pictures`, `registration_month` так как эти столбцы не нужны при обучении моделей.\n",
    "3. Проверили и удалили дубликаты. \n",
    "4. Заполнили пропуски а) значениями-заглушками \"unknown\" для `model` и `vehicle_type` и b) заполнили пропуски по наиболее часто встречающемуся типу и топливу в моделях для `gearbox` и `fuel_type`.\n",
    "5. Исправили год регистрации автомобиля `registration_year` - оставили года с 1885 по 2016.\n",
    "6. Исправили мощности автомобилей `power` - сравнив значения реальных авто в гугле со значениями в таблице, пришли к выводу, что при выгрузке данных нарушился порядок чисел. "
   ]
  },
  {
   "cell_type": "markdown",
   "metadata": {},
   "source": [
    "### Создадим выборку с признаками `features` и целевым признаком `target`"
   ]
  },
  {
   "cell_type": "code",
   "execution_count": 55,
   "metadata": {
    "tags": []
   },
   "outputs": [],
   "source": [
    "features = data.drop(['price'], axis=1)\n",
    "target = data['price']"
   ]
  },
  {
   "cell_type": "markdown",
   "metadata": {
    "tags": []
   },
   "source": [
    "### Преобразуем категориальные признаки в численные"
   ]
  },
  {
   "cell_type": "markdown",
   "metadata": {},
   "source": [
    "Преобразуем категориальные признаки в столбцах `gearbox`, `fuel_type`,  `repaired`, `vehicle_type` в численные с помощью техники прямого кодирования, или отображения - **One-Hot Encoding или OHE**. Используем параметр *drop_first=True*, чтобы избежать дамми-ловушки."
   ]
  },
  {
   "cell_type": "code",
   "execution_count": 56,
   "metadata": {
    "tags": []
   },
   "outputs": [
    {
     "data": {
      "text/html": [
       "<div>\n",
       "<style scoped>\n",
       "    .dataframe tbody tr th:only-of-type {\n",
       "        vertical-align: middle;\n",
       "    }\n",
       "\n",
       "    .dataframe tbody tr th {\n",
       "        vertical-align: top;\n",
       "    }\n",
       "\n",
       "    .dataframe thead th {\n",
       "        text-align: right;\n",
       "    }\n",
       "</style>\n",
       "<table border=\"1\" class=\"dataframe\">\n",
       "  <thead>\n",
       "    <tr style=\"text-align: right;\">\n",
       "      <th></th>\n",
       "      <th>registration_year</th>\n",
       "      <th>power</th>\n",
       "      <th>model</th>\n",
       "      <th>kilometer</th>\n",
       "      <th>brand</th>\n",
       "      <th>year_created</th>\n",
       "      <th>gearbox_manual</th>\n",
       "      <th>fuel_type_electric</th>\n",
       "      <th>fuel_type_gasoline</th>\n",
       "      <th>fuel_type_hybrid</th>\n",
       "      <th>...</th>\n",
       "      <th>repaired_unknown</th>\n",
       "      <th>repaired_yes</th>\n",
       "      <th>vehicle_type_convertible</th>\n",
       "      <th>vehicle_type_coupe</th>\n",
       "      <th>vehicle_type_other</th>\n",
       "      <th>vehicle_type_sedan</th>\n",
       "      <th>vehicle_type_small</th>\n",
       "      <th>vehicle_type_suv</th>\n",
       "      <th>vehicle_type_unknown</th>\n",
       "      <th>vehicle_type_wagon</th>\n",
       "    </tr>\n",
       "  </thead>\n",
       "  <tbody>\n",
       "    <tr>\n",
       "      <th>0</th>\n",
       "      <td>1993</td>\n",
       "      <td>0</td>\n",
       "      <td>golf</td>\n",
       "      <td>150000</td>\n",
       "      <td>volkswagen</td>\n",
       "      <td>2016</td>\n",
       "      <td>True</td>\n",
       "      <td>False</td>\n",
       "      <td>False</td>\n",
       "      <td>False</td>\n",
       "      <td>...</td>\n",
       "      <td>True</td>\n",
       "      <td>False</td>\n",
       "      <td>False</td>\n",
       "      <td>False</td>\n",
       "      <td>False</td>\n",
       "      <td>False</td>\n",
       "      <td>False</td>\n",
       "      <td>False</td>\n",
       "      <td>True</td>\n",
       "      <td>False</td>\n",
       "    </tr>\n",
       "    <tr>\n",
       "      <th>1</th>\n",
       "      <td>2011</td>\n",
       "      <td>190</td>\n",
       "      <td>unknown</td>\n",
       "      <td>125000</td>\n",
       "      <td>audi</td>\n",
       "      <td>2016</td>\n",
       "      <td>True</td>\n",
       "      <td>False</td>\n",
       "      <td>True</td>\n",
       "      <td>False</td>\n",
       "      <td>...</td>\n",
       "      <td>False</td>\n",
       "      <td>True</td>\n",
       "      <td>False</td>\n",
       "      <td>True</td>\n",
       "      <td>False</td>\n",
       "      <td>False</td>\n",
       "      <td>False</td>\n",
       "      <td>False</td>\n",
       "      <td>False</td>\n",
       "      <td>False</td>\n",
       "    </tr>\n",
       "    <tr>\n",
       "      <th>2</th>\n",
       "      <td>2004</td>\n",
       "      <td>163</td>\n",
       "      <td>grand</td>\n",
       "      <td>125000</td>\n",
       "      <td>jeep</td>\n",
       "      <td>2016</td>\n",
       "      <td>False</td>\n",
       "      <td>False</td>\n",
       "      <td>True</td>\n",
       "      <td>False</td>\n",
       "      <td>...</td>\n",
       "      <td>True</td>\n",
       "      <td>False</td>\n",
       "      <td>False</td>\n",
       "      <td>False</td>\n",
       "      <td>False</td>\n",
       "      <td>False</td>\n",
       "      <td>False</td>\n",
       "      <td>True</td>\n",
       "      <td>False</td>\n",
       "      <td>False</td>\n",
       "    </tr>\n",
       "    <tr>\n",
       "      <th>3</th>\n",
       "      <td>2001</td>\n",
       "      <td>75</td>\n",
       "      <td>golf</td>\n",
       "      <td>150000</td>\n",
       "      <td>volkswagen</td>\n",
       "      <td>2016</td>\n",
       "      <td>True</td>\n",
       "      <td>False</td>\n",
       "      <td>False</td>\n",
       "      <td>False</td>\n",
       "      <td>...</td>\n",
       "      <td>False</td>\n",
       "      <td>False</td>\n",
       "      <td>False</td>\n",
       "      <td>False</td>\n",
       "      <td>False</td>\n",
       "      <td>False</td>\n",
       "      <td>True</td>\n",
       "      <td>False</td>\n",
       "      <td>False</td>\n",
       "      <td>False</td>\n",
       "    </tr>\n",
       "    <tr>\n",
       "      <th>4</th>\n",
       "      <td>2008</td>\n",
       "      <td>69</td>\n",
       "      <td>fabia</td>\n",
       "      <td>90000</td>\n",
       "      <td>skoda</td>\n",
       "      <td>2016</td>\n",
       "      <td>True</td>\n",
       "      <td>False</td>\n",
       "      <td>True</td>\n",
       "      <td>False</td>\n",
       "      <td>...</td>\n",
       "      <td>False</td>\n",
       "      <td>False</td>\n",
       "      <td>False</td>\n",
       "      <td>False</td>\n",
       "      <td>False</td>\n",
       "      <td>False</td>\n",
       "      <td>True</td>\n",
       "      <td>False</td>\n",
       "      <td>False</td>\n",
       "      <td>False</td>\n",
       "    </tr>\n",
       "  </tbody>\n",
       "</table>\n",
       "<p>5 rows × 23 columns</p>\n",
       "</div>"
      ],
      "text/plain": [
       "   registration_year  power    model  kilometer       brand  year_created  \\\n",
       "0               1993      0     golf     150000  volkswagen          2016   \n",
       "1               2011    190  unknown     125000        audi          2016   \n",
       "2               2004    163    grand     125000        jeep          2016   \n",
       "3               2001     75     golf     150000  volkswagen          2016   \n",
       "4               2008     69    fabia      90000       skoda          2016   \n",
       "\n",
       "   gearbox_manual  fuel_type_electric  fuel_type_gasoline  fuel_type_hybrid  \\\n",
       "0            True               False               False             False   \n",
       "1            True               False                True             False   \n",
       "2           False               False                True             False   \n",
       "3            True               False               False             False   \n",
       "4            True               False                True             False   \n",
       "\n",
       "   ...  repaired_unknown  repaired_yes  vehicle_type_convertible  \\\n",
       "0  ...              True         False                     False   \n",
       "1  ...             False          True                     False   \n",
       "2  ...              True         False                     False   \n",
       "3  ...             False         False                     False   \n",
       "4  ...             False         False                     False   \n",
       "\n",
       "   vehicle_type_coupe  vehicle_type_other  vehicle_type_sedan  \\\n",
       "0               False               False               False   \n",
       "1                True               False               False   \n",
       "2               False               False               False   \n",
       "3               False               False               False   \n",
       "4               False               False               False   \n",
       "\n",
       "   vehicle_type_small  vehicle_type_suv  vehicle_type_unknown  \\\n",
       "0               False             False                  True   \n",
       "1               False             False                 False   \n",
       "2               False              True                 False   \n",
       "3                True             False                 False   \n",
       "4                True             False                 False   \n",
       "\n",
       "   vehicle_type_wagon  \n",
       "0               False  \n",
       "1               False  \n",
       "2               False  \n",
       "3               False  \n",
       "4               False  \n",
       "\n",
       "[5 rows x 23 columns]"
      ]
     },
     "execution_count": 56,
     "metadata": {},
     "output_type": "execute_result"
    }
   ],
   "source": [
    "features = pd.get_dummies(\n",
    "    features, \n",
    "    drop_first=True, \n",
    "    columns=[\"gearbox\", \"fuel_type\",  \"repaired\", \"vehicle_type\"]\n",
    ")\n",
    "\n",
    "features.head()"
   ]
  },
  {
   "cell_type": "markdown",
   "metadata": {},
   "source": [
    "### Разделим исходные данные на обучающую, валидационную и тестовую выборки"
   ]
  },
  {
   "cell_type": "markdown",
   "metadata": {},
   "source": [
    "**Разделим сначала исходные данные на тренировочную (`_train`)  и тестовую 1 (`_test1`) выборки как 60% к 40% . Затем тестовую 1 разделим на тестовую (`_test`) и валидационную (`_valid`) в соотношении 50% на 50%.**"
   ]
  },
  {
   "cell_type": "code",
   "execution_count": 57,
   "metadata": {},
   "outputs": [
    {
     "name": "stdout",
     "output_type": "stream",
     "text": [
      "Размер тренировочной выборки (признаки): (171313, 23)\n",
      "Размер валидационной выборки (признаки): (57105, 23)\n",
      "Размер тестовой выборки (признаки): (57105, 23)\n",
      "Размер тренировочной выборки (целевой признак): (171313,)\n",
      "Размер валидационной выборки (целевой признак): (57105,)\n",
      "Размер тестовой выборки (целевой признак): (57105,)\n"
     ]
    }
   ],
   "source": [
    "features_train, features_test1, target_train, target_test1 = train_test_split(\n",
    "    features, target, test_size=0.4, random_state=12345)\n",
    "\n",
    "features_valid, features_test, target_valid, target_test = train_test_split(\n",
    "    features_test1, target_test1, test_size=0.5, random_state=12345)\n",
    "\n",
    "print('Размер тренировочной выборки (признаки):', features_train.shape)\n",
    "print('Размер валидационной выборки (признаки):', features_valid.shape)\n",
    "print('Размер тестовой выборки (признаки):', features_test.shape)\n",
    "print('Размер тренировочной выборки (целевой признак):', target_train.shape)\n",
    "print('Размер валидационной выборки (целевой признак):', target_valid.shape)\n",
    "print('Размер тестовой выборки (целевой признак):', target_test.shape)"
   ]
  },
  {
   "cell_type": "markdown",
   "metadata": {},
   "source": [
    "**В итоге получили три выборки:**\n",
    "\n",
    "1. Тренировочную выборку `_train` - 60%\n",
    "\n",
    "2. Валидационную выборку `_valid` - 20%\n",
    "\n",
    "3. Тестовую выборку `_test` - 20%"
   ]
  },
  {
   "cell_type": "markdown",
   "metadata": {},
   "source": [
    "**Вывод: получили три выборки для дальнейшего исследования - тренировочную (60% от исходного датасета), валидационную (20%) и тестовую (20%). А также привели к стандартному виду масштабы признаков и преобразовали категориальные признаки в численные с помощью *OHE*.**"
   ]
  },
  {
   "cell_type": "markdown",
   "metadata": {},
   "source": [
    "### Преобразуем категориальные признаки в численные (для `brand` и `model`)"
   ]
  },
  {
   "cell_type": "markdown",
   "metadata": {},
   "source": [
    "Преобразуем категориальные признаки в столбцах `brand` и `model`, в численные с помощью техники *MEstimateEncoder*. Он заключается в замене категориальных значений в переменной средним значением целевой переменной (целевого признака) для каждой категории."
   ]
  },
  {
   "cell_type": "code",
   "execution_count": 58,
   "metadata": {
    "tags": []
   },
   "outputs": [
    {
     "data": {
      "text/html": [
       "<div>\n",
       "<style scoped>\n",
       "    .dataframe tbody tr th:only-of-type {\n",
       "        vertical-align: middle;\n",
       "    }\n",
       "\n",
       "    .dataframe tbody tr th {\n",
       "        vertical-align: top;\n",
       "    }\n",
       "\n",
       "    .dataframe thead th {\n",
       "        text-align: right;\n",
       "    }\n",
       "</style>\n",
       "<table border=\"1\" class=\"dataframe\">\n",
       "  <thead>\n",
       "    <tr style=\"text-align: right;\">\n",
       "      <th></th>\n",
       "      <th>registration_year</th>\n",
       "      <th>power</th>\n",
       "      <th>model</th>\n",
       "      <th>kilometer</th>\n",
       "      <th>brand</th>\n",
       "      <th>year_created</th>\n",
       "      <th>gearbox_manual</th>\n",
       "      <th>fuel_type_electric</th>\n",
       "      <th>fuel_type_gasoline</th>\n",
       "      <th>fuel_type_hybrid</th>\n",
       "      <th>...</th>\n",
       "      <th>repaired_unknown</th>\n",
       "      <th>repaired_yes</th>\n",
       "      <th>vehicle_type_convertible</th>\n",
       "      <th>vehicle_type_coupe</th>\n",
       "      <th>vehicle_type_other</th>\n",
       "      <th>vehicle_type_sedan</th>\n",
       "      <th>vehicle_type_small</th>\n",
       "      <th>vehicle_type_suv</th>\n",
       "      <th>vehicle_type_unknown</th>\n",
       "      <th>vehicle_type_wagon</th>\n",
       "    </tr>\n",
       "  </thead>\n",
       "  <tbody>\n",
       "    <tr>\n",
       "      <th>151579</th>\n",
       "      <td>1993</td>\n",
       "      <td>95</td>\n",
       "      <td>4621.178816</td>\n",
       "      <td>150000</td>\n",
       "      <td>1833.560928</td>\n",
       "      <td>2016</td>\n",
       "      <td>True</td>\n",
       "      <td>False</td>\n",
       "      <td>False</td>\n",
       "      <td>False</td>\n",
       "      <td>...</td>\n",
       "      <td>False</td>\n",
       "      <td>False</td>\n",
       "      <td>False</td>\n",
       "      <td>False</td>\n",
       "      <td>False</td>\n",
       "      <td>False</td>\n",
       "      <td>False</td>\n",
       "      <td>True</td>\n",
       "      <td>False</td>\n",
       "      <td>False</td>\n",
       "    </tr>\n",
       "    <tr>\n",
       "      <th>62910</th>\n",
       "      <td>1997</td>\n",
       "      <td>0</td>\n",
       "      <td>1524.444388</td>\n",
       "      <td>150000</td>\n",
       "      <td>2447.897146</td>\n",
       "      <td>2016</td>\n",
       "      <td>True</td>\n",
       "      <td>False</td>\n",
       "      <td>False</td>\n",
       "      <td>False</td>\n",
       "      <td>...</td>\n",
       "      <td>False</td>\n",
       "      <td>False</td>\n",
       "      <td>False</td>\n",
       "      <td>False</td>\n",
       "      <td>False</td>\n",
       "      <td>False</td>\n",
       "      <td>True</td>\n",
       "      <td>False</td>\n",
       "      <td>False</td>\n",
       "      <td>False</td>\n",
       "    </tr>\n",
       "    <tr>\n",
       "      <th>297159</th>\n",
       "      <td>1999</td>\n",
       "      <td>0</td>\n",
       "      <td>3538.394303</td>\n",
       "      <td>150000</td>\n",
       "      <td>6131.590929</td>\n",
       "      <td>2016</td>\n",
       "      <td>True</td>\n",
       "      <td>False</td>\n",
       "      <td>True</td>\n",
       "      <td>False</td>\n",
       "      <td>...</td>\n",
       "      <td>True</td>\n",
       "      <td>False</td>\n",
       "      <td>False</td>\n",
       "      <td>False</td>\n",
       "      <td>False</td>\n",
       "      <td>False</td>\n",
       "      <td>True</td>\n",
       "      <td>False</td>\n",
       "      <td>False</td>\n",
       "      <td>False</td>\n",
       "    </tr>\n",
       "    <tr>\n",
       "      <th>90206</th>\n",
       "      <td>1998</td>\n",
       "      <td>115</td>\n",
       "      <td>3559.529263</td>\n",
       "      <td>150000</td>\n",
       "      <td>3343.152177</td>\n",
       "      <td>2016</td>\n",
       "      <td>True</td>\n",
       "      <td>False</td>\n",
       "      <td>False</td>\n",
       "      <td>False</td>\n",
       "      <td>...</td>\n",
       "      <td>False</td>\n",
       "      <td>True</td>\n",
       "      <td>False</td>\n",
       "      <td>False</td>\n",
       "      <td>False</td>\n",
       "      <td>False</td>\n",
       "      <td>False</td>\n",
       "      <td>False</td>\n",
       "      <td>False</td>\n",
       "      <td>False</td>\n",
       "    </tr>\n",
       "    <tr>\n",
       "      <th>271491</th>\n",
       "      <td>1998</td>\n",
       "      <td>115</td>\n",
       "      <td>2659.398237</td>\n",
       "      <td>150000</td>\n",
       "      <td>3343.152177</td>\n",
       "      <td>2016</td>\n",
       "      <td>True</td>\n",
       "      <td>False</td>\n",
       "      <td>False</td>\n",
       "      <td>False</td>\n",
       "      <td>...</td>\n",
       "      <td>False</td>\n",
       "      <td>False</td>\n",
       "      <td>False</td>\n",
       "      <td>False</td>\n",
       "      <td>False</td>\n",
       "      <td>False</td>\n",
       "      <td>False</td>\n",
       "      <td>False</td>\n",
       "      <td>False</td>\n",
       "      <td>True</td>\n",
       "    </tr>\n",
       "  </tbody>\n",
       "</table>\n",
       "<p>5 rows × 23 columns</p>\n",
       "</div>"
      ],
      "text/plain": [
       "        registration_year  power        model  kilometer        brand  \\\n",
       "151579               1993     95  4621.178816     150000  1833.560928   \n",
       "62910                1997      0  1524.444388     150000  2447.897146   \n",
       "297159               1999      0  3538.394303     150000  6131.590929   \n",
       "90206                1998    115  3559.529263     150000  3343.152177   \n",
       "271491               1998    115  2659.398237     150000  3343.152177   \n",
       "\n",
       "        year_created  gearbox_manual  fuel_type_electric  fuel_type_gasoline  \\\n",
       "151579          2016            True               False               False   \n",
       "62910           2016            True               False               False   \n",
       "297159          2016            True               False                True   \n",
       "90206           2016            True               False               False   \n",
       "271491          2016            True               False               False   \n",
       "\n",
       "        fuel_type_hybrid  ...  repaired_unknown  repaired_yes  \\\n",
       "151579             False  ...             False         False   \n",
       "62910              False  ...             False         False   \n",
       "297159             False  ...              True         False   \n",
       "90206              False  ...             False          True   \n",
       "271491             False  ...             False         False   \n",
       "\n",
       "        vehicle_type_convertible  vehicle_type_coupe  vehicle_type_other  \\\n",
       "151579                     False               False               False   \n",
       "62910                      False               False               False   \n",
       "297159                     False               False               False   \n",
       "90206                      False               False               False   \n",
       "271491                     False               False               False   \n",
       "\n",
       "        vehicle_type_sedan  vehicle_type_small  vehicle_type_suv  \\\n",
       "151579               False               False              True   \n",
       "62910                False                True             False   \n",
       "297159               False                True             False   \n",
       "90206                False               False             False   \n",
       "271491               False               False             False   \n",
       "\n",
       "        vehicle_type_unknown  vehicle_type_wagon  \n",
       "151579                 False               False  \n",
       "62910                  False               False  \n",
       "297159                 False               False  \n",
       "90206                  False               False  \n",
       "271491                 False                True  \n",
       "\n",
       "[5 rows x 23 columns]"
      ]
     },
     "execution_count": 58,
     "metadata": {},
     "output_type": "execute_result"
    }
   ],
   "source": [
    "categ = [\"brand\", \"model\"]\n",
    "\n",
    "enc = MEstimateEncoder(cols=categ, m=5.0)\n",
    "\n",
    "enc.fit(features_train[categ], target_train)\n",
    "\n",
    "features_train[categ] = enc.transform(features_train[categ])\n",
    "features_valid[categ] = enc.transform(features_valid[categ])\n",
    "features_test[categ] = enc.transform(features_test[categ])\n",
    "\n",
    "features_train.head()"
   ]
  },
  {
   "cell_type": "markdown",
   "metadata": {},
   "source": [
    "### Масштабируем признаки"
   ]
  },
  {
   "cell_type": "code",
   "execution_count": 59,
   "metadata": {
    "tags": []
   },
   "outputs": [
    {
     "data": {
      "text/html": [
       "<div>\n",
       "<style scoped>\n",
       "    .dataframe tbody tr th:only-of-type {\n",
       "        vertical-align: middle;\n",
       "    }\n",
       "\n",
       "    .dataframe tbody tr th {\n",
       "        vertical-align: top;\n",
       "    }\n",
       "\n",
       "    .dataframe thead th {\n",
       "        text-align: right;\n",
       "    }\n",
       "</style>\n",
       "<table border=\"1\" class=\"dataframe\">\n",
       "  <thead>\n",
       "    <tr style=\"text-align: right;\">\n",
       "      <th></th>\n",
       "      <th>registration_year</th>\n",
       "      <th>power</th>\n",
       "      <th>model</th>\n",
       "      <th>kilometer</th>\n",
       "      <th>brand</th>\n",
       "      <th>year_created</th>\n",
       "      <th>gearbox_manual</th>\n",
       "      <th>fuel_type_electric</th>\n",
       "      <th>fuel_type_gasoline</th>\n",
       "      <th>fuel_type_hybrid</th>\n",
       "      <th>...</th>\n",
       "      <th>repaired_unknown</th>\n",
       "      <th>repaired_yes</th>\n",
       "      <th>vehicle_type_convertible</th>\n",
       "      <th>vehicle_type_coupe</th>\n",
       "      <th>vehicle_type_other</th>\n",
       "      <th>vehicle_type_sedan</th>\n",
       "      <th>vehicle_type_small</th>\n",
       "      <th>vehicle_type_suv</th>\n",
       "      <th>vehicle_type_unknown</th>\n",
       "      <th>vehicle_type_wagon</th>\n",
       "    </tr>\n",
       "  </thead>\n",
       "  <tbody>\n",
       "    <tr>\n",
       "      <th>151579</th>\n",
       "      <td>-1.374938</td>\n",
       "      <td>-0.227183</td>\n",
       "      <td>-0.033926</td>\n",
       "      <td>0.598326</td>\n",
       "      <td>-1.892621</td>\n",
       "      <td>0.006834</td>\n",
       "      <td>True</td>\n",
       "      <td>False</td>\n",
       "      <td>False</td>\n",
       "      <td>False</td>\n",
       "      <td>...</td>\n",
       "      <td>False</td>\n",
       "      <td>False</td>\n",
       "      <td>False</td>\n",
       "      <td>False</td>\n",
       "      <td>False</td>\n",
       "      <td>False</td>\n",
       "      <td>False</td>\n",
       "      <td>True</td>\n",
       "      <td>False</td>\n",
       "      <td>False</td>\n",
       "    </tr>\n",
       "    <tr>\n",
       "      <th>62910</th>\n",
       "      <td>-0.804839</td>\n",
       "      <td>-1.744031</td>\n",
       "      <td>-1.334367</td>\n",
       "      <td>0.598326</td>\n",
       "      <td>-1.488427</td>\n",
       "      <td>0.006834</td>\n",
       "      <td>True</td>\n",
       "      <td>False</td>\n",
       "      <td>False</td>\n",
       "      <td>False</td>\n",
       "      <td>...</td>\n",
       "      <td>False</td>\n",
       "      <td>False</td>\n",
       "      <td>False</td>\n",
       "      <td>False</td>\n",
       "      <td>False</td>\n",
       "      <td>False</td>\n",
       "      <td>True</td>\n",
       "      <td>False</td>\n",
       "      <td>False</td>\n",
       "      <td>False</td>\n",
       "    </tr>\n",
       "    <tr>\n",
       "      <th>297159</th>\n",
       "      <td>-0.519790</td>\n",
       "      <td>-1.744031</td>\n",
       "      <td>-0.488630</td>\n",
       "      <td>0.598326</td>\n",
       "      <td>0.935210</td>\n",
       "      <td>0.006834</td>\n",
       "      <td>True</td>\n",
       "      <td>False</td>\n",
       "      <td>True</td>\n",
       "      <td>False</td>\n",
       "      <td>...</td>\n",
       "      <td>True</td>\n",
       "      <td>False</td>\n",
       "      <td>False</td>\n",
       "      <td>False</td>\n",
       "      <td>False</td>\n",
       "      <td>False</td>\n",
       "      <td>True</td>\n",
       "      <td>False</td>\n",
       "      <td>False</td>\n",
       "      <td>False</td>\n",
       "    </tr>\n",
       "    <tr>\n",
       "      <th>90206</th>\n",
       "      <td>-0.662314</td>\n",
       "      <td>0.092154</td>\n",
       "      <td>-0.479754</td>\n",
       "      <td>0.598326</td>\n",
       "      <td>-0.899406</td>\n",
       "      <td>0.006834</td>\n",
       "      <td>True</td>\n",
       "      <td>False</td>\n",
       "      <td>False</td>\n",
       "      <td>False</td>\n",
       "      <td>...</td>\n",
       "      <td>False</td>\n",
       "      <td>True</td>\n",
       "      <td>False</td>\n",
       "      <td>False</td>\n",
       "      <td>False</td>\n",
       "      <td>False</td>\n",
       "      <td>False</td>\n",
       "      <td>False</td>\n",
       "      <td>False</td>\n",
       "      <td>False</td>\n",
       "    </tr>\n",
       "    <tr>\n",
       "      <th>271491</th>\n",
       "      <td>-0.662314</td>\n",
       "      <td>0.092154</td>\n",
       "      <td>-0.857755</td>\n",
       "      <td>0.598326</td>\n",
       "      <td>-0.899406</td>\n",
       "      <td>0.006834</td>\n",
       "      <td>True</td>\n",
       "      <td>False</td>\n",
       "      <td>False</td>\n",
       "      <td>False</td>\n",
       "      <td>...</td>\n",
       "      <td>False</td>\n",
       "      <td>False</td>\n",
       "      <td>False</td>\n",
       "      <td>False</td>\n",
       "      <td>False</td>\n",
       "      <td>False</td>\n",
       "      <td>False</td>\n",
       "      <td>False</td>\n",
       "      <td>False</td>\n",
       "      <td>True</td>\n",
       "    </tr>\n",
       "  </tbody>\n",
       "</table>\n",
       "<p>5 rows × 23 columns</p>\n",
       "</div>"
      ],
      "text/plain": [
       "        registration_year     power     model  kilometer     brand  \\\n",
       "151579          -1.374938 -0.227183 -0.033926   0.598326 -1.892621   \n",
       "62910           -0.804839 -1.744031 -1.334367   0.598326 -1.488427   \n",
       "297159          -0.519790 -1.744031 -0.488630   0.598326  0.935210   \n",
       "90206           -0.662314  0.092154 -0.479754   0.598326 -0.899406   \n",
       "271491          -0.662314  0.092154 -0.857755   0.598326 -0.899406   \n",
       "\n",
       "        year_created  gearbox_manual  fuel_type_electric  fuel_type_gasoline  \\\n",
       "151579      0.006834            True               False               False   \n",
       "62910       0.006834            True               False               False   \n",
       "297159      0.006834            True               False                True   \n",
       "90206       0.006834            True               False               False   \n",
       "271491      0.006834            True               False               False   \n",
       "\n",
       "        fuel_type_hybrid  ...  repaired_unknown  repaired_yes  \\\n",
       "151579             False  ...             False         False   \n",
       "62910              False  ...             False         False   \n",
       "297159             False  ...              True         False   \n",
       "90206              False  ...             False          True   \n",
       "271491             False  ...             False         False   \n",
       "\n",
       "        vehicle_type_convertible  vehicle_type_coupe  vehicle_type_other  \\\n",
       "151579                     False               False               False   \n",
       "62910                      False               False               False   \n",
       "297159                     False               False               False   \n",
       "90206                      False               False               False   \n",
       "271491                     False               False               False   \n",
       "\n",
       "        vehicle_type_sedan  vehicle_type_small  vehicle_type_suv  \\\n",
       "151579               False               False              True   \n",
       "62910                False                True             False   \n",
       "297159               False                True             False   \n",
       "90206                False               False             False   \n",
       "271491               False               False             False   \n",
       "\n",
       "        vehicle_type_unknown  vehicle_type_wagon  \n",
       "151579                 False               False  \n",
       "62910                  False               False  \n",
       "297159                 False               False  \n",
       "90206                  False               False  \n",
       "271491                 False                True  \n",
       "\n",
       "[5 rows x 23 columns]"
      ]
     },
     "execution_count": 59,
     "metadata": {},
     "output_type": "execute_result"
    }
   ],
   "source": [
    "pd.options.mode.chained_assignment = None\n",
    "numeric = ['registration_year', 'power', 'kilometer', 'year_created', 'brand', 'model']\n",
    "\n",
    "scaler = StandardScaler()\n",
    "scaler.fit(features_train[numeric]) \n",
    "\n",
    "features_train[numeric] = scaler.transform(features_train[numeric])\n",
    "features_valid[numeric] = scaler.transform(features_valid[numeric])\n",
    "features_test[numeric] = scaler.transform(features_test[numeric])\n",
    "\n",
    "features_train.head()"
   ]
  },
  {
   "cell_type": "markdown",
   "metadata": {
    "tags": []
   },
   "source": [
    "## Обучение моделей"
   ]
  },
  {
   "cell_type": "markdown",
   "metadata": {},
   "source": [
    "Выберем следующие алгоритмы для обучения модели:\n",
    "\n",
    "- `LinearRegression`\n",
    "- `RandomForestRegressor`\n",
    "- `CatBoostRegressor`\n",
    "- `LGBMRegressor`"
   ]
  },
  {
   "cell_type": "markdown",
   "metadata": {},
   "source": [
    "Создадим метрику, с помощью которой будет определяться работа модели - *RMSE_scorer*, а также определяться время обучения и предсказания модели."
   ]
  },
  {
   "cell_type": "code",
   "execution_count": 60,
   "metadata": {},
   "outputs": [],
   "source": [
    "def RMSE_scorer(model, features_train, target_train, features_valid, target_valid):\n",
    "    \n",
    "    start = time.time() \n",
    "    model.fit(features_train, target_train)\n",
    "    end_time_fit = time.time() - start\n",
    "    \n",
    "    start = time.time() \n",
    "    pred_valid = model.predict(features_valid)\n",
    "    end_time_predict = time.time() - start\n",
    "    \n",
    "    RMSE_valid = mean_squared_error(target_valid, pred_valid, squared=False)\n",
    "\n",
    "    print('RMSE модели на валидационной выборке:', RMSE_valid)\n",
    "    \n",
    "    return RMSE_valid, end_time_fit, end_time_predict"
   ]
  },
  {
   "cell_type": "markdown",
   "metadata": {},
   "source": [
    "Подбор лучших гиперпараметров с помощью GridSearchCV."
   ]
  },
  {
   "cell_type": "code",
   "execution_count": 61,
   "metadata": {},
   "outputs": [],
   "source": [
    "def best_hyper_model(model, parameters_m, features, target):\n",
    "    \n",
    "    # подбор лучших гиперпараметров модели с учетом метрики RMSE\n",
    "    \n",
    "    grid_m = GridSearchCV(model, parameters_m, cv=5, n_jobs=-1, scoring='neg_root_mean_squared_error')\n",
    "    grid_m.fit(features, target)\n",
    "\n",
    "    best_params = grid_m.best_params_\n",
    "\n",
    "    print('Гиперпараметры лучшей модели', best_params)\n",
    "    \n",
    "    # обучение модели с лучшими гиперпараметрами\n",
    "    # функция возвращает модель, гиперпараметры\n",
    "    \n",
    "    best_model = model\n",
    "    best_model.set_params(**best_params) # добавление лучших гиперпараметров\n",
    "\n",
    "    return best_model, best_params"
   ]
  },
  {
   "cell_type": "markdown",
   "metadata": {},
   "source": [
    "### Линейная регрессия (LinearRegression)"
   ]
  },
  {
   "cell_type": "code",
   "execution_count": 62,
   "metadata": {},
   "outputs": [],
   "source": [
    "parameters_LR ={'fit_intercept':[True, False], \n",
    "             'copy_X':[True, False]}"
   ]
  },
  {
   "cell_type": "code",
   "execution_count": 63,
   "metadata": {},
   "outputs": [
    {
     "name": "stdout",
     "output_type": "stream",
     "text": [
      "Гиперпараметры лучшей модели {'copy_X': True, 'fit_intercept': True}\n",
      "CPU times: total: 625 ms\n",
      "Wall time: 3.63 s\n"
     ]
    }
   ],
   "source": [
    "%%time\n",
    "\n",
    "model_LR, params_LR = best_hyper_model(\n",
    "    LinearRegression(), \n",
    "    parameters_LR, \n",
    "    features_train,\n",
    "    target_train\n",
    ")"
   ]
  },
  {
   "cell_type": "code",
   "execution_count": 64,
   "metadata": {},
   "outputs": [
    {
     "name": "stdout",
     "output_type": "stream",
     "text": [
      "RMSE модели на валидационной выборке: 2911.415723617689\n"
     ]
    }
   ],
   "source": [
    "RMSE_scorer_LR, end_time_fit_LR, end_time_predict_LR = RMSE_scorer(\n",
    "    model_LR, features_train, target_train, features_valid, target_valid\n",
    ")"
   ]
  },
  {
   "cell_type": "code",
   "execution_count": 65,
   "metadata": {},
   "outputs": [
    {
     "data": {
      "text/html": [
       "<div>\n",
       "<style scoped>\n",
       "    .dataframe tbody tr th:only-of-type {\n",
       "        vertical-align: middle;\n",
       "    }\n",
       "\n",
       "    .dataframe tbody tr th {\n",
       "        vertical-align: top;\n",
       "    }\n",
       "\n",
       "    .dataframe thead th {\n",
       "        text-align: right;\n",
       "    }\n",
       "</style>\n",
       "<table border=\"1\" class=\"dataframe\">\n",
       "  <thead>\n",
       "    <tr style=\"text-align: right;\">\n",
       "      <th></th>\n",
       "      <th>Модель</th>\n",
       "      <th>Параметры</th>\n",
       "      <th>Время обучения</th>\n",
       "      <th>Скорость предсказания</th>\n",
       "      <th>RMSE</th>\n",
       "    </tr>\n",
       "  </thead>\n",
       "  <tbody>\n",
       "    <tr>\n",
       "      <th>0</th>\n",
       "      <td>LinearRegression</td>\n",
       "      <td>{'copy_X': True, 'fit_intercept': True}</td>\n",
       "      <td>0.094022</td>\n",
       "      <td>0.006001</td>\n",
       "      <td>2911.415724</td>\n",
       "    </tr>\n",
       "  </tbody>\n",
       "</table>\n",
       "</div>"
      ],
      "text/plain": [
       "             Модель                                Параметры  Время обучения  \\\n",
       "0  LinearRegression  {'copy_X': True, 'fit_intercept': True}        0.094022   \n",
       "\n",
       "   Скорость предсказания         RMSE  \n",
       "0               0.006001  2911.415724  "
      ]
     },
     "execution_count": 65,
     "metadata": {},
     "output_type": "execute_result"
    }
   ],
   "source": [
    "results_LR = []\n",
    "results_LR.append({'Модель': 'LinearRegression', \n",
    "                'Параметры': params_LR, \n",
    "                'Время обучения': end_time_fit_LR, \n",
    "                'Скорость предсказания': end_time_predict_LR, \n",
    "                'RMSE': RMSE_scorer_LR})\n",
    "\n",
    "pd.set_option('display.max_colwidth', None)\n",
    "pd.DataFrame(results_LR)"
   ]
  },
  {
   "cell_type": "markdown",
   "metadata": {},
   "source": [
    "С оптимальными гиперпараметрами Линейная регрессия показала RMSE 2911 при времени обучения 0.07 сек и скорости предсказания 0,01 сек"
   ]
  },
  {
   "cell_type": "markdown",
   "metadata": {},
   "source": [
    "### Случайный лес (RandomForestRegressor)"
   ]
  },
  {
   "cell_type": "code",
   "execution_count": 66,
   "metadata": {},
   "outputs": [],
   "source": [
    "parameters_RFR  = {'max_depth': range(1, 10), 'n_estimators': range(1, 41, 10)}"
   ]
  },
  {
   "cell_type": "code",
   "execution_count": 67,
   "metadata": {},
   "outputs": [
    {
     "name": "stdout",
     "output_type": "stream",
     "text": [
      "Гиперпараметры лучшей модели {'max_depth': 9, 'n_estimators': 31}\n",
      "CPU times: total: 11.5 s\n",
      "Wall time: 1min 58s\n"
     ]
    }
   ],
   "source": [
    "%%time\n",
    "\n",
    "model_RFR, params_RFR = best_hyper_model(\n",
    "    RandomForestRegressor(random_state=12345), \n",
    "    parameters_RFR, \n",
    "    features_train,\n",
    "    target_train\n",
    ")"
   ]
  },
  {
   "cell_type": "code",
   "execution_count": 68,
   "metadata": {},
   "outputs": [
    {
     "name": "stdout",
     "output_type": "stream",
     "text": [
      "RMSE модели на валидационной выборке: 1946.0810486734883\n"
     ]
    }
   ],
   "source": [
    "RMSE_scorer_RFR, end_time_fit_RFR, end_time_predict_RFR = RMSE_scorer(\n",
    "    model_RFR, features_train, target_train, features_valid, target_valid\n",
    ")"
   ]
  },
  {
   "cell_type": "code",
   "execution_count": 69,
   "metadata": {},
   "outputs": [
    {
     "data": {
      "text/html": [
       "<div>\n",
       "<style scoped>\n",
       "    .dataframe tbody tr th:only-of-type {\n",
       "        vertical-align: middle;\n",
       "    }\n",
       "\n",
       "    .dataframe tbody tr th {\n",
       "        vertical-align: top;\n",
       "    }\n",
       "\n",
       "    .dataframe thead th {\n",
       "        text-align: right;\n",
       "    }\n",
       "</style>\n",
       "<table border=\"1\" class=\"dataframe\">\n",
       "  <thead>\n",
       "    <tr style=\"text-align: right;\">\n",
       "      <th></th>\n",
       "      <th>Модель</th>\n",
       "      <th>Параметры</th>\n",
       "      <th>Время обучения</th>\n",
       "      <th>Скорость предсказания</th>\n",
       "      <th>RMSE</th>\n",
       "    </tr>\n",
       "  </thead>\n",
       "  <tbody>\n",
       "    <tr>\n",
       "      <th>0</th>\n",
       "      <td>RandomForestRegressor</td>\n",
       "      <td>{'max_depth': 9, 'n_estimators': 31}</td>\n",
       "      <td>5.980927</td>\n",
       "      <td>0.094021</td>\n",
       "      <td>1946.081049</td>\n",
       "    </tr>\n",
       "  </tbody>\n",
       "</table>\n",
       "</div>"
      ],
      "text/plain": [
       "                  Модель                             Параметры  \\\n",
       "0  RandomForestRegressor  {'max_depth': 9, 'n_estimators': 31}   \n",
       "\n",
       "   Время обучения  Скорость предсказания         RMSE  \n",
       "0        5.980927               0.094021  1946.081049  "
      ]
     },
     "execution_count": 69,
     "metadata": {},
     "output_type": "execute_result"
    }
   ],
   "source": [
    "results_RFR = []\n",
    "results_RFR.append({'Модель': 'RandomForestRegressor', \n",
    "                'Параметры': params_RFR, \n",
    "                'Время обучения': end_time_fit_RFR, \n",
    "                'Скорость предсказания': end_time_predict_RFR, \n",
    "                'RMSE': RMSE_scorer_RFR})\n",
    "\n",
    "pd.set_option('display.max_colwidth', None)\n",
    "pd.DataFrame(results_RFR)"
   ]
  },
  {
   "cell_type": "markdown",
   "metadata": {},
   "source": [
    "С оптимальными гиперпараметрами Случайный лес показал RMSE 1946 при времени обучения 6 сек и скорости предсказания 0.09 сек, при гиперпараметрах: `max_depth: 9, n_estimators: 31`."
   ]
  },
  {
   "cell_type": "markdown",
   "metadata": {},
   "source": [
    "### CatBoostRegressor"
   ]
  },
  {
   "cell_type": "code",
   "execution_count": 70,
   "metadata": {},
   "outputs": [],
   "source": [
    "parameters_CBR  = {'iterations': range(10, 101, 20),\n",
    "                   'depth' : range(5, 11, 2)}"
   ]
  },
  {
   "cell_type": "code",
   "execution_count": 71,
   "metadata": {
    "scrolled": true
   },
   "outputs": [
    {
     "name": "stdout",
     "output_type": "stream",
     "text": [
      "Learning rate set to 0.5\n",
      "0:\tlearn: 3116.2276082\ttotal: 151ms\tremaining: 13.4s\n",
      "1:\tlearn: 2445.8941198\ttotal: 164ms\tremaining: 7.23s\n",
      "2:\tlearn: 2153.8452544\ttotal: 179ms\tremaining: 5.2s\n",
      "3:\tlearn: 2026.8230400\ttotal: 193ms\tremaining: 4.14s\n",
      "4:\tlearn: 1962.1398431\ttotal: 209ms\tremaining: 3.56s\n",
      "5:\tlearn: 1914.6300844\ttotal: 224ms\tremaining: 3.13s\n",
      "6:\tlearn: 1869.6272074\ttotal: 239ms\tremaining: 2.83s\n",
      "7:\tlearn: 1847.9210265\ttotal: 253ms\tremaining: 2.59s\n",
      "8:\tlearn: 1831.9424938\ttotal: 267ms\tremaining: 2.4s\n",
      "9:\tlearn: 1810.1779131\ttotal: 281ms\tremaining: 2.25s\n",
      "10:\tlearn: 1796.2212280\ttotal: 294ms\tremaining: 2.11s\n",
      "11:\tlearn: 1786.9770726\ttotal: 308ms\tremaining: 2s\n",
      "12:\tlearn: 1768.4968519\ttotal: 323ms\tremaining: 1.91s\n",
      "13:\tlearn: 1759.3530700\ttotal: 337ms\tremaining: 1.83s\n",
      "14:\tlearn: 1747.7961460\ttotal: 350ms\tremaining: 1.75s\n",
      "15:\tlearn: 1739.9345351\ttotal: 366ms\tremaining: 1.69s\n",
      "16:\tlearn: 1731.6214728\ttotal: 381ms\tremaining: 1.63s\n",
      "17:\tlearn: 1724.9832851\ttotal: 395ms\tremaining: 1.58s\n",
      "18:\tlearn: 1719.8448245\ttotal: 410ms\tremaining: 1.53s\n",
      "19:\tlearn: 1715.2182070\ttotal: 426ms\tremaining: 1.49s\n",
      "20:\tlearn: 1708.4725544\ttotal: 442ms\tremaining: 1.45s\n",
      "21:\tlearn: 1702.7388377\ttotal: 457ms\tremaining: 1.41s\n",
      "22:\tlearn: 1696.6136686\ttotal: 471ms\tremaining: 1.37s\n",
      "23:\tlearn: 1694.0622977\ttotal: 486ms\tremaining: 1.34s\n",
      "24:\tlearn: 1687.4843726\ttotal: 501ms\tremaining: 1.3s\n",
      "25:\tlearn: 1680.8988018\ttotal: 515ms\tremaining: 1.27s\n",
      "26:\tlearn: 1676.0391146\ttotal: 530ms\tremaining: 1.24s\n",
      "27:\tlearn: 1671.1016563\ttotal: 545ms\tremaining: 1.21s\n",
      "28:\tlearn: 1667.3135839\ttotal: 560ms\tremaining: 1.18s\n",
      "29:\tlearn: 1663.2112861\ttotal: 574ms\tremaining: 1.15s\n",
      "30:\tlearn: 1659.8522465\ttotal: 589ms\tremaining: 1.12s\n",
      "31:\tlearn: 1653.8011929\ttotal: 604ms\tremaining: 1.09s\n",
      "32:\tlearn: 1650.8622193\ttotal: 619ms\tremaining: 1.07s\n",
      "33:\tlearn: 1645.6588064\ttotal: 636ms\tremaining: 1.05s\n",
      "34:\tlearn: 1643.6695679\ttotal: 652ms\tremaining: 1.02s\n",
      "35:\tlearn: 1639.9461308\ttotal: 666ms\tremaining: 1000ms\n",
      "36:\tlearn: 1636.1708555\ttotal: 682ms\tremaining: 977ms\n",
      "37:\tlearn: 1633.9678738\ttotal: 696ms\tremaining: 953ms\n",
      "38:\tlearn: 1629.7776396\ttotal: 711ms\tremaining: 930ms\n",
      "39:\tlearn: 1626.6639994\ttotal: 725ms\tremaining: 907ms\n",
      "40:\tlearn: 1624.5682016\ttotal: 740ms\tremaining: 885ms\n",
      "41:\tlearn: 1621.0131221\ttotal: 754ms\tremaining: 862ms\n",
      "42:\tlearn: 1617.0808552\ttotal: 768ms\tremaining: 839ms\n",
      "43:\tlearn: 1615.1574267\ttotal: 782ms\tremaining: 818ms\n",
      "44:\tlearn: 1612.7841872\ttotal: 797ms\tremaining: 797ms\n",
      "45:\tlearn: 1609.4051223\ttotal: 813ms\tremaining: 778ms\n",
      "46:\tlearn: 1604.9773839\ttotal: 828ms\tremaining: 757ms\n",
      "47:\tlearn: 1603.4257208\ttotal: 843ms\tremaining: 737ms\n",
      "48:\tlearn: 1601.0371691\ttotal: 858ms\tremaining: 718ms\n",
      "49:\tlearn: 1598.5754921\ttotal: 873ms\tremaining: 699ms\n",
      "50:\tlearn: 1596.6416340\ttotal: 889ms\tremaining: 680ms\n",
      "51:\tlearn: 1594.9953089\ttotal: 904ms\tremaining: 661ms\n",
      "52:\tlearn: 1591.7278808\ttotal: 920ms\tremaining: 642ms\n",
      "53:\tlearn: 1588.4377412\ttotal: 935ms\tremaining: 623ms\n",
      "54:\tlearn: 1586.1199348\ttotal: 950ms\tremaining: 605ms\n",
      "55:\tlearn: 1584.1618380\ttotal: 966ms\tremaining: 587ms\n",
      "56:\tlearn: 1582.2670112\ttotal: 982ms\tremaining: 568ms\n",
      "57:\tlearn: 1579.3852876\ttotal: 997ms\tremaining: 550ms\n",
      "58:\tlearn: 1577.3888178\ttotal: 1.01s\tremaining: 531ms\n",
      "59:\tlearn: 1575.4647542\ttotal: 1.02s\tremaining: 513ms\n",
      "60:\tlearn: 1572.8123005\ttotal: 1.04s\tremaining: 495ms\n",
      "61:\tlearn: 1569.8683972\ttotal: 1.05s\tremaining: 477ms\n",
      "62:\tlearn: 1567.1684811\ttotal: 1.07s\tremaining: 459ms\n",
      "63:\tlearn: 1564.8794502\ttotal: 1.09s\tremaining: 442ms\n",
      "64:\tlearn: 1563.4216887\ttotal: 1.1s\tremaining: 424ms\n",
      "65:\tlearn: 1561.2736199\ttotal: 1.12s\tremaining: 406ms\n",
      "66:\tlearn: 1558.6830599\ttotal: 1.13s\tremaining: 389ms\n",
      "67:\tlearn: 1556.1712799\ttotal: 1.15s\tremaining: 372ms\n",
      "68:\tlearn: 1553.9295239\ttotal: 1.17s\tremaining: 355ms\n",
      "69:\tlearn: 1551.7320237\ttotal: 1.18s\tremaining: 338ms\n",
      "70:\tlearn: 1549.9088554\ttotal: 1.2s\tremaining: 320ms\n",
      "71:\tlearn: 1547.2763615\ttotal: 1.21s\tremaining: 303ms\n",
      "72:\tlearn: 1546.2598839\ttotal: 1.23s\tremaining: 286ms\n",
      "73:\tlearn: 1544.4856703\ttotal: 1.24s\tremaining: 269ms\n",
      "74:\tlearn: 1542.6506819\ttotal: 1.26s\tremaining: 252ms\n",
      "75:\tlearn: 1541.8539660\ttotal: 1.27s\tremaining: 235ms\n",
      "76:\tlearn: 1540.2997024\ttotal: 1.29s\tremaining: 218ms\n",
      "77:\tlearn: 1538.7830882\ttotal: 1.3s\tremaining: 201ms\n",
      "78:\tlearn: 1537.3244722\ttotal: 1.32s\tremaining: 184ms\n",
      "79:\tlearn: 1535.5803341\ttotal: 1.33s\tremaining: 167ms\n",
      "80:\tlearn: 1533.0532132\ttotal: 1.35s\tremaining: 150ms\n",
      "81:\tlearn: 1531.9773933\ttotal: 1.37s\tremaining: 133ms\n",
      "82:\tlearn: 1530.9296011\ttotal: 1.38s\tremaining: 116ms\n",
      "83:\tlearn: 1530.0380362\ttotal: 1.4s\tremaining: 99.7ms\n",
      "84:\tlearn: 1528.3156362\ttotal: 1.41s\tremaining: 83.1ms\n",
      "85:\tlearn: 1525.9447227\ttotal: 1.43s\tremaining: 66.4ms\n",
      "86:\tlearn: 1524.1119178\ttotal: 1.44s\tremaining: 49.8ms\n",
      "87:\tlearn: 1522.6593447\ttotal: 1.46s\tremaining: 33.1ms\n",
      "88:\tlearn: 1520.8693782\ttotal: 1.47s\tremaining: 16.5ms\n",
      "89:\tlearn: 1519.8037171\ttotal: 1.49s\tremaining: 0us\n",
      "Гиперпараметры лучшей модели {'depth': 9, 'iterations': 90}\n",
      "CPU times: total: 19 s\n",
      "Wall time: 31.5 s\n"
     ]
    }
   ],
   "source": [
    "%%time\n",
    "\n",
    "model_CBR, params_CBR = best_hyper_model(\n",
    "    CatBoostRegressor(random_state=12345, loss_function='RMSE'), \n",
    "    parameters_CBR, \n",
    "    features_train,\n",
    "    target_train\n",
    ")"
   ]
  },
  {
   "cell_type": "code",
   "execution_count": 72,
   "metadata": {
    "scrolled": true,
    "tags": []
   },
   "outputs": [
    {
     "name": "stdout",
     "output_type": "stream",
     "text": [
      "Learning rate set to 0.5\n",
      "0:\tlearn: 3116.2276082\ttotal: 14.2ms\tremaining: 1.26s\n",
      "1:\tlearn: 2445.8941198\ttotal: 28.7ms\tremaining: 1.26s\n",
      "2:\tlearn: 2153.8452544\ttotal: 43.7ms\tremaining: 1.27s\n",
      "3:\tlearn: 2026.8230400\ttotal: 57.4ms\tremaining: 1.23s\n",
      "4:\tlearn: 1962.1398431\ttotal: 72.3ms\tremaining: 1.23s\n",
      "5:\tlearn: 1914.6300844\ttotal: 85.8ms\tremaining: 1.2s\n",
      "6:\tlearn: 1869.6272074\ttotal: 101ms\tremaining: 1.2s\n",
      "7:\tlearn: 1847.9210265\ttotal: 116ms\tremaining: 1.19s\n",
      "8:\tlearn: 1831.9424938\ttotal: 130ms\tremaining: 1.17s\n",
      "9:\tlearn: 1810.1779131\ttotal: 144ms\tremaining: 1.16s\n",
      "10:\tlearn: 1796.2212280\ttotal: 159ms\tremaining: 1.14s\n",
      "11:\tlearn: 1786.9770726\ttotal: 173ms\tremaining: 1.12s\n",
      "12:\tlearn: 1768.4968519\ttotal: 187ms\tremaining: 1.11s\n",
      "13:\tlearn: 1759.3530700\ttotal: 202ms\tremaining: 1.1s\n",
      "14:\tlearn: 1747.7961460\ttotal: 217ms\tremaining: 1.09s\n",
      "15:\tlearn: 1739.9345351\ttotal: 234ms\tremaining: 1.08s\n",
      "16:\tlearn: 1731.6214728\ttotal: 249ms\tremaining: 1.07s\n",
      "17:\tlearn: 1724.9832851\ttotal: 265ms\tremaining: 1.06s\n",
      "18:\tlearn: 1719.8448245\ttotal: 280ms\tremaining: 1.04s\n",
      "19:\tlearn: 1715.2182070\ttotal: 295ms\tremaining: 1.03s\n",
      "20:\tlearn: 1708.4725544\ttotal: 310ms\tremaining: 1.02s\n",
      "21:\tlearn: 1702.7388377\ttotal: 324ms\tremaining: 1s\n",
      "22:\tlearn: 1696.6136686\ttotal: 339ms\tremaining: 987ms\n",
      "23:\tlearn: 1694.0622977\ttotal: 354ms\tremaining: 973ms\n",
      "24:\tlearn: 1687.4843726\ttotal: 369ms\tremaining: 959ms\n",
      "25:\tlearn: 1680.8988018\ttotal: 383ms\tremaining: 942ms\n",
      "26:\tlearn: 1676.0391146\ttotal: 399ms\tremaining: 931ms\n",
      "27:\tlearn: 1671.1016563\ttotal: 415ms\tremaining: 919ms\n",
      "28:\tlearn: 1667.3135839\ttotal: 432ms\tremaining: 908ms\n",
      "29:\tlearn: 1663.2112861\ttotal: 446ms\tremaining: 893ms\n",
      "30:\tlearn: 1659.8522465\ttotal: 462ms\tremaining: 879ms\n",
      "31:\tlearn: 1653.8011929\ttotal: 478ms\tremaining: 866ms\n",
      "32:\tlearn: 1650.8622193\ttotal: 493ms\tremaining: 851ms\n",
      "33:\tlearn: 1645.6588064\ttotal: 510ms\tremaining: 839ms\n",
      "34:\tlearn: 1643.6695679\ttotal: 525ms\tremaining: 825ms\n",
      "35:\tlearn: 1639.9461308\ttotal: 540ms\tremaining: 810ms\n",
      "36:\tlearn: 1636.1708555\ttotal: 555ms\tremaining: 795ms\n",
      "37:\tlearn: 1633.9678738\ttotal: 570ms\tremaining: 779ms\n",
      "38:\tlearn: 1629.7776396\ttotal: 585ms\tremaining: 765ms\n",
      "39:\tlearn: 1626.6639994\ttotal: 600ms\tremaining: 750ms\n",
      "40:\tlearn: 1624.5682016\ttotal: 616ms\tremaining: 736ms\n",
      "41:\tlearn: 1621.0131221\ttotal: 631ms\tremaining: 721ms\n",
      "42:\tlearn: 1617.0808552\ttotal: 645ms\tremaining: 705ms\n",
      "43:\tlearn: 1615.1574267\ttotal: 660ms\tremaining: 690ms\n",
      "44:\tlearn: 1612.7841872\ttotal: 675ms\tremaining: 675ms\n",
      "45:\tlearn: 1609.4051223\ttotal: 692ms\tremaining: 662ms\n",
      "46:\tlearn: 1604.9773839\ttotal: 706ms\tremaining: 646ms\n",
      "47:\tlearn: 1603.4257208\ttotal: 721ms\tremaining: 631ms\n",
      "48:\tlearn: 1601.0371691\ttotal: 737ms\tremaining: 617ms\n",
      "49:\tlearn: 1598.5754921\ttotal: 752ms\tremaining: 601ms\n",
      "50:\tlearn: 1596.6416340\ttotal: 767ms\tremaining: 587ms\n",
      "51:\tlearn: 1594.9953089\ttotal: 783ms\tremaining: 572ms\n",
      "52:\tlearn: 1591.7278808\ttotal: 799ms\tremaining: 557ms\n",
      "53:\tlearn: 1588.4377412\ttotal: 813ms\tremaining: 542ms\n",
      "54:\tlearn: 1586.1199348\ttotal: 829ms\tremaining: 528ms\n",
      "55:\tlearn: 1584.1618380\ttotal: 846ms\tremaining: 514ms\n",
      "56:\tlearn: 1582.2670112\ttotal: 862ms\tremaining: 499ms\n",
      "57:\tlearn: 1579.3852876\ttotal: 876ms\tremaining: 484ms\n",
      "58:\tlearn: 1577.3888178\ttotal: 892ms\tremaining: 469ms\n",
      "59:\tlearn: 1575.4647542\ttotal: 906ms\tremaining: 453ms\n",
      "60:\tlearn: 1572.8123005\ttotal: 922ms\tremaining: 438ms\n",
      "61:\tlearn: 1569.8683972\ttotal: 936ms\tremaining: 423ms\n",
      "62:\tlearn: 1567.1684811\ttotal: 951ms\tremaining: 408ms\n",
      "63:\tlearn: 1564.8794502\ttotal: 967ms\tremaining: 393ms\n",
      "64:\tlearn: 1563.4216887\ttotal: 982ms\tremaining: 378ms\n",
      "65:\tlearn: 1561.2736199\ttotal: 997ms\tremaining: 363ms\n",
      "66:\tlearn: 1558.6830599\ttotal: 1.01s\tremaining: 348ms\n",
      "67:\tlearn: 1556.1712799\ttotal: 1.03s\tremaining: 333ms\n",
      "68:\tlearn: 1553.9295239\ttotal: 1.04s\tremaining: 318ms\n",
      "69:\tlearn: 1551.7320237\ttotal: 1.06s\tremaining: 303ms\n",
      "70:\tlearn: 1549.9088554\ttotal: 1.08s\tremaining: 288ms\n",
      "71:\tlearn: 1547.2763615\ttotal: 1.09s\tremaining: 274ms\n",
      "72:\tlearn: 1546.2598839\ttotal: 1.11s\tremaining: 258ms\n",
      "73:\tlearn: 1544.4856703\ttotal: 1.12s\tremaining: 243ms\n",
      "74:\tlearn: 1542.6506819\ttotal: 1.14s\tremaining: 228ms\n",
      "75:\tlearn: 1541.8539660\ttotal: 1.16s\tremaining: 213ms\n",
      "76:\tlearn: 1540.2997024\ttotal: 1.17s\tremaining: 198ms\n",
      "77:\tlearn: 1538.7830882\ttotal: 1.19s\tremaining: 183ms\n",
      "78:\tlearn: 1537.3244722\ttotal: 1.2s\tremaining: 167ms\n",
      "79:\tlearn: 1535.5803341\ttotal: 1.22s\tremaining: 152ms\n",
      "80:\tlearn: 1533.0532132\ttotal: 1.23s\tremaining: 137ms\n",
      "81:\tlearn: 1531.9773933\ttotal: 1.25s\tremaining: 122ms\n",
      "82:\tlearn: 1530.9296011\ttotal: 1.26s\tremaining: 107ms\n",
      "83:\tlearn: 1530.0380362\ttotal: 1.28s\tremaining: 91.4ms\n",
      "84:\tlearn: 1528.3156362\ttotal: 1.3s\tremaining: 76.3ms\n",
      "85:\tlearn: 1525.9447227\ttotal: 1.31s\tremaining: 61.1ms\n",
      "86:\tlearn: 1524.1119178\ttotal: 1.33s\tremaining: 45.8ms\n",
      "87:\tlearn: 1522.6593447\ttotal: 1.34s\tremaining: 30.5ms\n",
      "88:\tlearn: 1520.8693782\ttotal: 1.36s\tremaining: 15.3ms\n",
      "89:\tlearn: 1519.8037171\ttotal: 1.37s\tremaining: 0us\n",
      "RMSE модели на валидационной выборке: 1695.6751047664159\n"
     ]
    }
   ],
   "source": [
    "RMSE_scorer_CBR, end_time_fit_CBR, end_time_predict_CBR = RMSE_scorer(\n",
    "    model_CBR, features_train, target_train, features_valid, target_valid\n",
    ")"
   ]
  },
  {
   "cell_type": "code",
   "execution_count": 73,
   "metadata": {
    "tags": []
   },
   "outputs": [
    {
     "data": {
      "text/html": [
       "<div>\n",
       "<style scoped>\n",
       "    .dataframe tbody tr th:only-of-type {\n",
       "        vertical-align: middle;\n",
       "    }\n",
       "\n",
       "    .dataframe tbody tr th {\n",
       "        vertical-align: top;\n",
       "    }\n",
       "\n",
       "    .dataframe thead th {\n",
       "        text-align: right;\n",
       "    }\n",
       "</style>\n",
       "<table border=\"1\" class=\"dataframe\">\n",
       "  <thead>\n",
       "    <tr style=\"text-align: right;\">\n",
       "      <th></th>\n",
       "      <th>Модель</th>\n",
       "      <th>Параметры</th>\n",
       "      <th>Время обучения</th>\n",
       "      <th>Скорость предсказания</th>\n",
       "      <th>RMSE</th>\n",
       "    </tr>\n",
       "  </thead>\n",
       "  <tbody>\n",
       "    <tr>\n",
       "      <th>0</th>\n",
       "      <td>CatBoostRegressor</td>\n",
       "      <td>{'depth': 9, 'iterations': 90}</td>\n",
       "      <td>2.207157</td>\n",
       "      <td>0.256392</td>\n",
       "      <td>1695.675105</td>\n",
       "    </tr>\n",
       "  </tbody>\n",
       "</table>\n",
       "</div>"
      ],
      "text/plain": [
       "              Модель                       Параметры  Время обучения  \\\n",
       "0  CatBoostRegressor  {'depth': 9, 'iterations': 90}        2.207157   \n",
       "\n",
       "   Скорость предсказания         RMSE  \n",
       "0               0.256392  1695.675105  "
      ]
     },
     "execution_count": 73,
     "metadata": {},
     "output_type": "execute_result"
    }
   ],
   "source": [
    "results_CBR = []\n",
    "results_CBR.append({'Модель': 'CatBoostRegressor', \n",
    "                'Параметры': params_CBR, \n",
    "                'Время обучения': end_time_fit_CBR, \n",
    "                'Скорость предсказания': end_time_predict_CBR, \n",
    "                'RMSE': RMSE_scorer_CBR})\n",
    "\n",
    "pd.set_option('display.max_colwidth', None)\n",
    "pd.DataFrame(results_CBR)"
   ]
  },
  {
   "cell_type": "markdown",
   "metadata": {},
   "source": [
    "С оптимальными гиперпараметрами CatBoostRegressor показал RMSE 1695 при времени обучения всего 1.4 сек и времени предсказания 0.01 сек, с гиперпараметрами `depth: 9, iterations: 90`."
   ]
  },
  {
   "cell_type": "markdown",
   "metadata": {},
   "source": [
    "### LGBMRegressor"
   ]
  },
  {
   "cell_type": "code",
   "execution_count": 74,
   "metadata": {},
   "outputs": [],
   "source": [
    "parameters_LGBM  = {'max_depth' : range(1, 51, 10),\n",
    "                    'n_estimators' : range(101, 301, 50), \n",
    "                    'num_leaves' : range(1, 51, 10), \n",
    "                    'force_col_wise' : [True, False]}"
   ]
  },
  {
   "cell_type": "code",
   "execution_count": 75,
   "metadata": {},
   "outputs": [
    {
     "name": "stdout",
     "output_type": "stream",
     "text": [
      "[LightGBM] [Info] Total Bins 656\n",
      "[LightGBM] [Info] Number of data points in the train set: 171313, number of used features: 22\n",
      "[LightGBM] [Info] Start training from score 4710.064222\n",
      "Гиперпараметры лучшей модели {'force_col_wise': True, 'max_depth': 21, 'n_estimators': 251, 'num_leaves': 41}\n",
      "CPU times: total: 22.9 s\n",
      "Wall time: 4min 47s\n"
     ]
    }
   ],
   "source": [
    "%%time\n",
    "\n",
    "model_LGBM, params_LGBM = best_hyper_model(\n",
    "    LGBMRegressor(random_state=12345), \n",
    "    parameters_LGBM, \n",
    "    features_train,\n",
    "    target_train\n",
    ")"
   ]
  },
  {
   "cell_type": "code",
   "execution_count": 76,
   "metadata": {},
   "outputs": [
    {
     "name": "stdout",
     "output_type": "stream",
     "text": [
      "[LightGBM] [Info] Total Bins 656\n",
      "[LightGBM] [Info] Number of data points in the train set: 171313, number of used features: 22\n",
      "[LightGBM] [Info] Start training from score 4710.064222\n",
      "RMSE модели на валидационной выборке: 1669.870364008262\n"
     ]
    }
   ],
   "source": [
    "RMSE_scorer_LGBM, end_time_fit_LGBM, end_time_predict_LGBM = RMSE_scorer(\n",
    "    model_LGBM, features_train, target_train, features_valid, target_valid\n",
    ")"
   ]
  },
  {
   "cell_type": "code",
   "execution_count": 77,
   "metadata": {},
   "outputs": [
    {
     "data": {
      "text/html": [
       "<div>\n",
       "<style scoped>\n",
       "    .dataframe tbody tr th:only-of-type {\n",
       "        vertical-align: middle;\n",
       "    }\n",
       "\n",
       "    .dataframe tbody tr th {\n",
       "        vertical-align: top;\n",
       "    }\n",
       "\n",
       "    .dataframe thead th {\n",
       "        text-align: right;\n",
       "    }\n",
       "</style>\n",
       "<table border=\"1\" class=\"dataframe\">\n",
       "  <thead>\n",
       "    <tr style=\"text-align: right;\">\n",
       "      <th></th>\n",
       "      <th>Модель</th>\n",
       "      <th>Параметры</th>\n",
       "      <th>Время обучения</th>\n",
       "      <th>Скорость предсказания</th>\n",
       "      <th>RMSE</th>\n",
       "    </tr>\n",
       "  </thead>\n",
       "  <tbody>\n",
       "    <tr>\n",
       "      <th>0</th>\n",
       "      <td>LGBMRegressor</td>\n",
       "      <td>{'force_col_wise': True, 'max_depth': 21, 'n_estimators': 251, 'num_leaves': 41}</td>\n",
       "      <td>0.680156</td>\n",
       "      <td>0.097022</td>\n",
       "      <td>1669.870364</td>\n",
       "    </tr>\n",
       "  </tbody>\n",
       "</table>\n",
       "</div>"
      ],
      "text/plain": [
       "          Модель  \\\n",
       "0  LGBMRegressor   \n",
       "\n",
       "                                                                          Параметры  \\\n",
       "0  {'force_col_wise': True, 'max_depth': 21, 'n_estimators': 251, 'num_leaves': 41}   \n",
       "\n",
       "   Время обучения  Скорость предсказания         RMSE  \n",
       "0        0.680156               0.097022  1669.870364  "
      ]
     },
     "execution_count": 77,
     "metadata": {},
     "output_type": "execute_result"
    }
   ],
   "source": [
    "results_LGBM = []\n",
    "results_LGBM.append({'Модель': 'LGBMRegressor', \n",
    "                'Параметры': params_LGBM, \n",
    "                'Время обучения': end_time_fit_LGBM, \n",
    "                'Скорость предсказания': end_time_predict_LGBM, \n",
    "                'RMSE': RMSE_scorer_LGBM})\n",
    "\n",
    "pd.set_option('display.max_colwidth', None)\n",
    "pd.DataFrame(results_LGBM)"
   ]
  },
  {
   "cell_type": "markdown",
   "metadata": {},
   "source": [
    "С оптимальными гиперпараметрами LGBMRegressor показал RMSE 1669 при времени обучения всего 0.7 сек и время предсказания 0.1 сек, при гиперпараметрах `force_col_wise: True, max_depth: 21, n_estimators: 251, num_leaves': 41`"
   ]
  },
  {
   "cell_type": "markdown",
   "metadata": {},
   "source": [
    "**Вывод:** Были обучены 4 модели: LinearRegression (Линейная регрессия), RandomForestRegressor (Случайный лес), CatBoostRegressor, LGBMRegressor. Модели градиентного бустинга показали наилучшие результаты. Соберем все результаты в одну таблицу и выберем наилучшую модель."
   ]
  },
  {
   "cell_type": "code",
   "execution_count": 78,
   "metadata": {
    "tags": []
   },
   "outputs": [
    {
     "data": {
      "text/html": [
       "<div>\n",
       "<style scoped>\n",
       "    .dataframe tbody tr th:only-of-type {\n",
       "        vertical-align: middle;\n",
       "    }\n",
       "\n",
       "    .dataframe tbody tr th {\n",
       "        vertical-align: top;\n",
       "    }\n",
       "\n",
       "    .dataframe thead th {\n",
       "        text-align: right;\n",
       "    }\n",
       "</style>\n",
       "<table border=\"1\" class=\"dataframe\">\n",
       "  <thead>\n",
       "    <tr style=\"text-align: right;\">\n",
       "      <th></th>\n",
       "      <th>Параметры</th>\n",
       "      <th>Время обучения</th>\n",
       "      <th>Скорость предсказания</th>\n",
       "      <th>RMSE</th>\n",
       "    </tr>\n",
       "  </thead>\n",
       "  <tbody>\n",
       "    <tr>\n",
       "      <th>LGBMRegressor</th>\n",
       "      <td>{'force_col_wise': True, 'max_depth': 21, 'n_estimators': 251, 'num_leaves': 41}</td>\n",
       "      <td>0.680156</td>\n",
       "      <td>0.097022</td>\n",
       "      <td>1669.870364</td>\n",
       "    </tr>\n",
       "    <tr>\n",
       "      <th>CatBoostRegressor</th>\n",
       "      <td>{'depth': 9, 'iterations': 90}</td>\n",
       "      <td>2.207157</td>\n",
       "      <td>0.256392</td>\n",
       "      <td>1695.675105</td>\n",
       "    </tr>\n",
       "    <tr>\n",
       "      <th>RandomForestRegressor</th>\n",
       "      <td>{'max_depth': 9, 'n_estimators': 31}</td>\n",
       "      <td>5.980927</td>\n",
       "      <td>0.094021</td>\n",
       "      <td>1946.081049</td>\n",
       "    </tr>\n",
       "    <tr>\n",
       "      <th>LinearRegression</th>\n",
       "      <td>{'copy_X': True, 'fit_intercept': True}</td>\n",
       "      <td>0.094022</td>\n",
       "      <td>0.006001</td>\n",
       "      <td>2911.415724</td>\n",
       "    </tr>\n",
       "  </tbody>\n",
       "</table>\n",
       "</div>"
      ],
      "text/plain": [
       "                                                                                              Параметры  \\\n",
       "LGBMRegressor          {'force_col_wise': True, 'max_depth': 21, 'n_estimators': 251, 'num_leaves': 41}   \n",
       "CatBoostRegressor                                                        {'depth': 9, 'iterations': 90}   \n",
       "RandomForestRegressor                                              {'max_depth': 9, 'n_estimators': 31}   \n",
       "LinearRegression                                                {'copy_X': True, 'fit_intercept': True}   \n",
       "\n",
       "                       Время обучения  Скорость предсказания         RMSE  \n",
       "LGBMRegressor                0.680156               0.097022  1669.870364  \n",
       "CatBoostRegressor            2.207157               0.256392  1695.675105  \n",
       "RandomForestRegressor        5.980927               0.094021  1946.081049  \n",
       "LinearRegression             0.094022               0.006001  2911.415724  "
      ]
     },
     "execution_count": 78,
     "metadata": {},
     "output_type": "execute_result"
    }
   ],
   "source": [
    "pd.DataFrame(\n",
    "    {'Параметры': [params_LGBM, params_CBR, params_RFR, params_LR], \n",
    "     'Время обучения': [end_time_fit_LGBM, end_time_fit_CBR, end_time_fit_RFR, end_time_fit_LR], \n",
    "     'Скорость предсказания': [end_time_predict_LGBM, end_time_predict_CBR, end_time_predict_RFR, end_time_predict_LR],\n",
    "     'RMSE': [RMSE_scorer_LGBM, RMSE_scorer_CBR, RMSE_scorer_RFR, RMSE_scorer_LR]},\n",
    "    index=['LGBMRegressor', 'CatBoostRegressor', 'RandomForestRegressor', 'LinearRegression']\n",
    ")"
   ]
  },
  {
   "cell_type": "markdown",
   "metadata": {},
   "source": [
    "**Вывод:** Наилучшей по качеству и времени обучения является алгоритм LightGBMRegressor. Выберем его за основу нашей модели обучения и проверим на тестовой выборке."
   ]
  },
  {
   "cell_type": "markdown",
   "metadata": {
    "tags": []
   },
   "source": [
    "## Анализ моделей"
   ]
  },
  {
   "cell_type": "markdown",
   "metadata": {},
   "source": [
    "Проверим нашу лучшую модель с оптимальными гиперпараметрами на тестовой выборке."
   ]
  },
  {
   "cell_type": "code",
   "execution_count": 79,
   "metadata": {},
   "outputs": [
    {
     "name": "stdout",
     "output_type": "stream",
     "text": [
      "[LightGBM] [Info] Total Bins 656\n",
      "[LightGBM] [Info] Number of data points in the train set: 171313, number of used features: 22\n",
      "[LightGBM] [Info] Start training from score 4710.064222\n",
      "Результат тестовой метрики RMSE для модели LGBMRegressor: 1642.6542922701997\n"
     ]
    }
   ],
   "source": [
    "best_model_test = LGBMRegressor(random_state=12345, force_col_wise=True, max_depth=21, n_estimators=251, num_leaves=41)\n",
    "\n",
    "best_model_test.fit(features_train, target_train)\n",
    "prediction_test = best_model_test.predict(features_test)\n",
    "\n",
    "RMSE_test = mean_squared_error(target_test, prediction_test, squared=False)\n",
    "print(\"Результат тестовой метрики RMSE для модели LGBMRegressor:\", RMSE_test)"
   ]
  },
  {
   "cell_type": "markdown",
   "metadata": {},
   "source": [
    "Тестовая выборка дала неплохие результаты, модель обучилась хорошо. Видим что значение RMSE даже лучше, чем на валидационной выборке."
   ]
  },
  {
   "cell_type": "markdown",
   "metadata": {},
   "source": [
    "### Сравним лучшую модель с константной моделью"
   ]
  },
  {
   "cell_type": "code",
   "execution_count": 80,
   "metadata": {},
   "outputs": [
    {
     "name": "stdout",
     "output_type": "stream",
     "text": [
      "Результат тестовой метрики RMSE для модели CatBoostRegressor: 4878.988119846293\n"
     ]
    }
   ],
   "source": [
    "dummy_model_test = DummyRegressor(strategy=\"median\")\n",
    "\n",
    "dummy_model_test.fit(features_train, target_train)\n",
    "dummy_prediction_test = dummy_model_test.predict(features_test)\n",
    "\n",
    "dummy_RMSE_test = mean_squared_error(target_test, dummy_prediction_test, squared=False)\n",
    "print(\"Результат тестовой метрики RMSE для модели CatBoostRegressor:\", dummy_RMSE_test)"
   ]
  },
  {
   "cell_type": "markdown",
   "metadata": {},
   "source": [
    "Наша обученная модель LGBMRegressor почти в 3 раза лучше константной модели."
   ]
  },
  {
   "cell_type": "markdown",
   "metadata": {
    "tags": []
   },
   "source": [
    "## Общий вывод"
   ]
  },
  {
   "cell_type": "markdown",
   "metadata": {},
   "source": [
    "На анализ был представлен датасет `autos.csv`. При начальном осмотре данных были обнаружены пропуски, аномалии и дубликаты. Данные были откорректированы: удалены дубликаты и столбцы, не участвующие в обучении модели; заполнены пропуски; исправлены аномалии в значениях. Все признаки были отмасштабированы, а категориальные признаки образованы в численные. \n",
    "\n",
    "Были выбраны следующие алгоритмы для обучения модели:\n",
    "\n",
    "- `LinearRegression`\n",
    "- `RandomForestRegressor`\n",
    "- `CatBoostRegressor`\n",
    "- `LGBMRegressor`\n",
    "\n",
    "Качество моделей определялось метрикой RMSE. \n",
    "\n",
    "1. Линейная регрессия (`LinearRegression`) показала RMSE=2911 при времени обучения 0.08 сек.\n",
    "2. Случайный лес (`RandomForestRegressor`) показал RMSE=1946 при времени обучения 6 сек и скорости предсказания 0.09 сек, при гиперпараметрах: `max_depth: 9, n_estimators: 31`.\n",
    "3. `CatBoostRegressor` показал RMSE=1695 при времени обучения 1.4 сек и времени предсказания 0.01 сек, с гиперпараметрами `depth: 9, iterations: 90`.\n",
    "4. `LGBMRegressor` показал RMSE=1669 при времени обучения 0.7 сек и время предсказания 0.1 сек, при гиперпараметрах `force_col_wise: True, max_depth: 21, n_estimators: 251, num_leaves: 41`.\n",
    "\n",
    "В качестве алгоритма для нашей модели был выбран `LGBMRegressor` с оптимальными гиперпараметрами, так как он показал наилучушую метрику RMSE и наименьшие значения времени обучения и предсказания.\n",
    "\n",
    "Наша обученная модель `LGBMRegressor` почти в 3 раза лучше константной `Dummy-модели`."
   ]
  }
 ],
 "metadata": {
  "ExecuteTimeLog": [
   {
    "duration": 1691,
    "start_time": "2023-07-24T17:34:41.080Z"
   },
   {
    "duration": 3101,
    "start_time": "2023-07-24T17:34:44.449Z"
   },
   {
    "duration": 22,
    "start_time": "2023-07-24T17:35:03.443Z"
   },
   {
    "duration": 128,
    "start_time": "2023-07-24T18:00:57.107Z"
   },
   {
    "duration": 1348,
    "start_time": "2023-07-24T18:06:33.234Z"
   },
   {
    "duration": 1016,
    "start_time": "2023-07-24T18:07:19.892Z"
   },
   {
    "duration": 743,
    "start_time": "2023-07-24T18:07:48.663Z"
   },
   {
    "duration": 843,
    "start_time": "2023-07-24T18:08:11.452Z"
   },
   {
    "duration": 904,
    "start_time": "2023-07-24T18:08:20.946Z"
   },
   {
    "duration": 957,
    "start_time": "2023-07-24T18:08:37.791Z"
   },
   {
    "duration": 1454,
    "start_time": "2023-07-24T18:08:48.650Z"
   },
   {
    "duration": 788,
    "start_time": "2023-07-24T18:09:01.890Z"
   },
   {
    "duration": 769,
    "start_time": "2023-07-24T18:11:22.184Z"
   },
   {
    "duration": 779,
    "start_time": "2023-07-24T18:11:44.142Z"
   },
   {
    "duration": 788,
    "start_time": "2023-07-24T18:11:51.856Z"
   },
   {
    "duration": 808,
    "start_time": "2023-07-24T18:12:24.837Z"
   },
   {
    "duration": 1808,
    "start_time": "2023-07-24T18:12:33.845Z"
   },
   {
    "duration": 1025,
    "start_time": "2023-07-24T18:14:07.504Z"
   },
   {
    "duration": 181,
    "start_time": "2023-07-24T18:17:24.989Z"
   },
   {
    "duration": 604,
    "start_time": "2023-07-24T18:23:57.205Z"
   },
   {
    "duration": 322,
    "start_time": "2023-07-24T18:27:01.688Z"
   },
   {
    "duration": 11,
    "start_time": "2023-07-24T18:34:13.046Z"
   },
   {
    "duration": 10,
    "start_time": "2023-07-24T18:34:42.156Z"
   },
   {
    "duration": 33,
    "start_time": "2023-07-24T18:35:08.671Z"
   },
   {
    "duration": 68,
    "start_time": "2023-07-24T18:35:19.816Z"
   },
   {
    "duration": 503,
    "start_time": "2023-07-24T18:38:51.338Z"
   },
   {
    "duration": 1107,
    "start_time": "2023-07-24T18:39:01.154Z"
   },
   {
    "duration": 19,
    "start_time": "2023-07-24T18:42:30.077Z"
   },
   {
    "duration": 13,
    "start_time": "2023-07-24T18:43:04.939Z"
   },
   {
    "duration": 1449,
    "start_time": "2023-07-24T18:43:16.278Z"
   },
   {
    "duration": 3067,
    "start_time": "2023-07-24T18:43:17.729Z"
   },
   {
    "duration": 29,
    "start_time": "2023-07-24T18:43:20.798Z"
   },
   {
    "duration": 127,
    "start_time": "2023-07-24T18:43:20.829Z"
   },
   {
    "duration": 174,
    "start_time": "2023-07-24T18:43:20.958Z"
   },
   {
    "duration": 1159,
    "start_time": "2023-07-24T18:43:21.135Z"
   },
   {
    "duration": 93,
    "start_time": "2023-07-24T18:43:22.296Z"
   },
   {
    "duration": 536,
    "start_time": "2023-07-24T18:43:22.391Z"
   },
   {
    "duration": 986,
    "start_time": "2023-07-24T18:43:22.928Z"
   },
   {
    "duration": 5,
    "start_time": "2023-07-24T18:56:29.711Z"
   },
   {
    "duration": 29,
    "start_time": "2023-07-24T18:57:42.684Z"
   },
   {
    "duration": 23,
    "start_time": "2023-07-24T18:58:03.153Z"
   },
   {
    "duration": 19,
    "start_time": "2023-07-24T18:58:11.437Z"
   },
   {
    "duration": 22,
    "start_time": "2023-07-24T18:58:15.579Z"
   },
   {
    "duration": 21,
    "start_time": "2023-07-24T18:58:20.897Z"
   },
   {
    "duration": 20,
    "start_time": "2023-07-24T18:58:27.234Z"
   },
   {
    "duration": 22,
    "start_time": "2023-07-24T18:58:37.991Z"
   },
   {
    "duration": 33,
    "start_time": "2023-07-24T18:58:42.148Z"
   },
   {
    "duration": 21,
    "start_time": "2023-07-24T18:58:44.496Z"
   },
   {
    "duration": 4,
    "start_time": "2023-07-24T19:05:02.886Z"
   },
   {
    "duration": 14,
    "start_time": "2023-07-24T19:05:12.566Z"
   },
   {
    "duration": 117,
    "start_time": "2023-07-24T19:06:35.315Z"
   },
   {
    "duration": 11,
    "start_time": "2023-07-24T19:06:43.420Z"
   },
   {
    "duration": 3,
    "start_time": "2023-07-24T19:06:48.125Z"
   },
   {
    "duration": 3,
    "start_time": "2023-07-24T19:06:53.203Z"
   },
   {
    "duration": 5,
    "start_time": "2023-07-24T19:06:55.071Z"
   },
   {
    "duration": 1471,
    "start_time": "2023-07-24T19:11:37.423Z"
   },
   {
    "duration": 1285,
    "start_time": "2023-07-24T19:11:38.896Z"
   },
   {
    "duration": 16,
    "start_time": "2023-07-24T19:11:40.183Z"
   },
   {
    "duration": 118,
    "start_time": "2023-07-24T19:11:40.201Z"
   },
   {
    "duration": 164,
    "start_time": "2023-07-24T19:11:40.321Z"
   },
   {
    "duration": 1027,
    "start_time": "2023-07-24T19:11:40.487Z"
   },
   {
    "duration": 78,
    "start_time": "2023-07-24T19:11:41.516Z"
   },
   {
    "duration": 18,
    "start_time": "2023-07-24T19:11:41.595Z"
   },
   {
    "duration": 8,
    "start_time": "2023-07-24T19:11:41.615Z"
   },
   {
    "duration": 183,
    "start_time": "2023-07-24T19:11:41.625Z"
   },
   {
    "duration": 170,
    "start_time": "2023-07-24T19:13:09.750Z"
   },
   {
    "duration": 109,
    "start_time": "2023-07-24T19:14:18.619Z"
   },
   {
    "duration": 94,
    "start_time": "2023-07-24T19:14:19.683Z"
   },
   {
    "duration": 77,
    "start_time": "2023-07-24T19:16:27.036Z"
   },
   {
    "duration": 15,
    "start_time": "2023-07-24T19:16:34.592Z"
   },
   {
    "duration": 307,
    "start_time": "2023-07-24T19:17:01.221Z"
   },
   {
    "duration": 629,
    "start_time": "2023-07-24T19:17:03.703Z"
   },
   {
    "duration": 30,
    "start_time": "2023-07-24T19:18:33.889Z"
   },
   {
    "duration": 32,
    "start_time": "2023-07-24T19:19:56.764Z"
   },
   {
    "duration": 6,
    "start_time": "2023-07-24T19:20:26.444Z"
   },
   {
    "duration": 132,
    "start_time": "2023-07-24T19:21:27.502Z"
   },
   {
    "duration": 14,
    "start_time": "2023-07-24T19:21:34.553Z"
   },
   {
    "duration": 14,
    "start_time": "2023-07-24T19:21:46.082Z"
   },
   {
    "duration": 14,
    "start_time": "2023-07-24T19:21:52.064Z"
   },
   {
    "duration": 82,
    "start_time": "2023-07-24T19:22:16.093Z"
   },
   {
    "duration": 16,
    "start_time": "2023-07-24T19:22:37.710Z"
   },
   {
    "duration": 29,
    "start_time": "2023-07-24T19:22:48.091Z"
   },
   {
    "duration": 15,
    "start_time": "2023-07-24T19:25:28.183Z"
   },
   {
    "duration": 1403,
    "start_time": "2023-07-24T19:26:00.156Z"
   },
   {
    "duration": 925,
    "start_time": "2023-07-24T19:26:01.561Z"
   },
   {
    "duration": 27,
    "start_time": "2023-07-24T19:26:02.488Z"
   },
   {
    "duration": 147,
    "start_time": "2023-07-24T19:26:02.516Z"
   },
   {
    "duration": 159,
    "start_time": "2023-07-24T19:26:02.665Z"
   },
   {
    "duration": 1064,
    "start_time": "2023-07-24T19:26:02.826Z"
   },
   {
    "duration": 92,
    "start_time": "2023-07-24T19:26:03.892Z"
   },
   {
    "duration": 3,
    "start_time": "2023-07-24T19:26:03.986Z"
   },
   {
    "duration": 38,
    "start_time": "2023-07-24T19:26:03.991Z"
   },
   {
    "duration": 307,
    "start_time": "2023-07-24T19:26:04.031Z"
   },
   {
    "duration": 301,
    "start_time": "2023-07-24T19:26:04.340Z"
   },
   {
    "duration": 591,
    "start_time": "2023-07-24T19:26:04.642Z"
   },
   {
    "duration": 202,
    "start_time": "2023-07-24T19:26:05.234Z"
   },
   {
    "duration": 197,
    "start_time": "2023-07-24T19:26:22.851Z"
   },
   {
    "duration": 156,
    "start_time": "2023-07-24T19:27:14.636Z"
   },
   {
    "duration": 151,
    "start_time": "2023-07-24T19:27:21.359Z"
   },
   {
    "duration": 140,
    "start_time": "2023-07-24T19:27:37.142Z"
   },
   {
    "duration": 158,
    "start_time": "2023-07-24T19:27:47.512Z"
   },
   {
    "duration": 148,
    "start_time": "2023-07-24T19:27:56.680Z"
   },
   {
    "duration": 172,
    "start_time": "2023-07-24T19:28:08.299Z"
   },
   {
    "duration": 19,
    "start_time": "2023-07-24T19:29:04.634Z"
   },
   {
    "duration": 2276,
    "start_time": "2023-07-25T07:01:56.248Z"
   },
   {
    "duration": 1934,
    "start_time": "2023-07-25T07:01:58.532Z"
   },
   {
    "duration": 22,
    "start_time": "2023-07-25T07:02:00.468Z"
   },
   {
    "duration": 276,
    "start_time": "2023-07-25T07:02:00.493Z"
   },
   {
    "duration": 225,
    "start_time": "2023-07-25T07:02:00.771Z"
   },
   {
    "duration": 1425,
    "start_time": "2023-07-25T07:02:00.998Z"
   },
   {
    "duration": 115,
    "start_time": "2023-07-25T07:02:02.426Z"
   },
   {
    "duration": 59,
    "start_time": "2023-07-25T07:03:34.430Z"
   },
   {
    "duration": 2001,
    "start_time": "2023-07-25T07:04:42.561Z"
   },
   {
    "duration": 1175,
    "start_time": "2023-07-25T07:04:44.564Z"
   },
   {
    "duration": 26,
    "start_time": "2023-07-25T07:04:45.741Z"
   },
   {
    "duration": 189,
    "start_time": "2023-07-25T07:04:45.769Z"
   },
   {
    "duration": 310,
    "start_time": "2023-07-25T07:04:45.977Z"
   },
   {
    "duration": 1447,
    "start_time": "2023-07-25T07:04:46.289Z"
   },
   {
    "duration": 131,
    "start_time": "2023-07-25T07:04:47.740Z"
   },
   {
    "duration": 6,
    "start_time": "2023-07-25T07:04:47.873Z"
   },
   {
    "duration": 25,
    "start_time": "2023-07-25T07:04:47.881Z"
   },
   {
    "duration": 151,
    "start_time": "2023-07-25T07:04:47.908Z"
   },
   {
    "duration": 69,
    "start_time": "2023-07-25T07:05:08.547Z"
   },
   {
    "duration": 283,
    "start_time": "2023-07-25T07:17:05.951Z"
   },
   {
    "duration": 41,
    "start_time": "2023-07-25T07:17:14.763Z"
   },
   {
    "duration": 9,
    "start_time": "2023-07-25T07:23:36.186Z"
   },
   {
    "duration": 47,
    "start_time": "2023-07-25T07:28:58.147Z"
   },
   {
    "duration": 96,
    "start_time": "2023-07-25T07:31:16.799Z"
   },
   {
    "duration": 141,
    "start_time": "2023-07-25T07:38:52.058Z"
   },
   {
    "duration": 1996,
    "start_time": "2023-07-25T07:39:05.782Z"
   },
   {
    "duration": 1380,
    "start_time": "2023-07-25T07:39:07.782Z"
   },
   {
    "duration": 28,
    "start_time": "2023-07-25T07:39:09.165Z"
   },
   {
    "duration": 192,
    "start_time": "2023-07-25T07:39:09.195Z"
   },
   {
    "duration": 252,
    "start_time": "2023-07-25T07:39:09.390Z"
   },
   {
    "duration": 1329,
    "start_time": "2023-07-25T07:39:09.644Z"
   },
   {
    "duration": 106,
    "start_time": "2023-07-25T07:39:10.975Z"
   },
   {
    "duration": 4,
    "start_time": "2023-07-25T07:39:11.082Z"
   },
   {
    "duration": 11,
    "start_time": "2023-07-25T07:39:11.087Z"
   },
   {
    "duration": 110,
    "start_time": "2023-07-25T07:39:11.110Z"
   },
   {
    "duration": 15,
    "start_time": "2023-07-25T07:39:11.223Z"
   },
   {
    "duration": 120,
    "start_time": "2023-07-25T07:39:11.247Z"
   },
   {
    "duration": 92,
    "start_time": "2023-07-25T07:39:11.369Z"
   },
   {
    "duration": 228,
    "start_time": "2023-07-25T11:05:40.553Z"
   },
   {
    "duration": 500,
    "start_time": "2023-07-25T11:08:45.185Z"
   },
   {
    "duration": 22,
    "start_time": "2023-07-25T11:08:56.554Z"
   },
   {
    "duration": 228,
    "start_time": "2023-07-25T11:08:59.643Z"
   },
   {
    "duration": 1608,
    "start_time": "2023-07-25T11:11:17.245Z"
   },
   {
    "duration": 1085,
    "start_time": "2023-07-25T11:11:18.855Z"
   },
   {
    "duration": 19,
    "start_time": "2023-07-25T11:11:19.942Z"
   },
   {
    "duration": 172,
    "start_time": "2023-07-25T11:11:19.963Z"
   },
   {
    "duration": 191,
    "start_time": "2023-07-25T11:11:20.138Z"
   },
   {
    "duration": 1244,
    "start_time": "2023-07-25T11:11:20.332Z"
   },
   {
    "duration": 108,
    "start_time": "2023-07-25T11:11:21.578Z"
   },
   {
    "duration": 3,
    "start_time": "2023-07-25T11:11:21.688Z"
   },
   {
    "duration": 62,
    "start_time": "2023-07-25T11:11:21.693Z"
   },
   {
    "duration": 131,
    "start_time": "2023-07-25T11:11:21.757Z"
   },
   {
    "duration": 30,
    "start_time": "2023-07-25T11:11:21.890Z"
   },
   {
    "duration": 247,
    "start_time": "2023-07-25T11:11:21.923Z"
   },
   {
    "duration": 167,
    "start_time": "2023-07-25T11:11:30.746Z"
   },
   {
    "duration": 1654,
    "start_time": "2023-07-25T11:23:56.704Z"
   },
   {
    "duration": 1088,
    "start_time": "2023-07-25T11:23:58.360Z"
   },
   {
    "duration": 21,
    "start_time": "2023-07-25T11:23:59.451Z"
   },
   {
    "duration": 183,
    "start_time": "2023-07-25T11:23:59.473Z"
   },
   {
    "duration": 201,
    "start_time": "2023-07-25T11:23:59.659Z"
   },
   {
    "duration": 1279,
    "start_time": "2023-07-25T11:23:59.862Z"
   },
   {
    "duration": 112,
    "start_time": "2023-07-25T11:24:01.142Z"
   },
   {
    "duration": 50,
    "start_time": "2023-07-25T11:24:01.256Z"
   },
   {
    "duration": 81,
    "start_time": "2023-07-25T11:24:01.308Z"
   },
   {
    "duration": 158,
    "start_time": "2023-07-25T11:24:01.391Z"
   },
   {
    "duration": 77,
    "start_time": "2023-07-25T11:24:01.551Z"
   },
   {
    "duration": 235,
    "start_time": "2023-07-25T11:24:01.635Z"
   },
   {
    "duration": 138,
    "start_time": "2023-07-25T11:24:01.873Z"
   },
   {
    "duration": 69,
    "start_time": "2023-07-25T11:24:02.014Z"
   },
   {
    "duration": 59,
    "start_time": "2023-07-25T11:24:16.198Z"
   },
   {
    "duration": 10,
    "start_time": "2023-07-25T11:24:56.785Z"
   },
   {
    "duration": 141,
    "start_time": "2023-07-25T11:26:31.950Z"
   },
   {
    "duration": 6,
    "start_time": "2023-07-25T11:26:37.597Z"
   },
   {
    "duration": 6,
    "start_time": "2023-07-25T11:28:07.090Z"
   },
   {
    "duration": 82,
    "start_time": "2023-07-25T11:28:09.500Z"
   },
   {
    "duration": 17,
    "start_time": "2023-07-25T11:28:27.326Z"
   },
   {
    "duration": 202,
    "start_time": "2023-07-25T11:28:40.493Z"
   },
   {
    "duration": 1845,
    "start_time": "2023-07-25T11:31:39.462Z"
   },
   {
    "duration": 1151,
    "start_time": "2023-07-25T11:31:41.320Z"
   },
   {
    "duration": 20,
    "start_time": "2023-07-25T11:31:42.472Z"
   },
   {
    "duration": 157,
    "start_time": "2023-07-25T11:31:42.493Z"
   },
   {
    "duration": 189,
    "start_time": "2023-07-25T11:31:42.653Z"
   },
   {
    "duration": 1217,
    "start_time": "2023-07-25T11:31:42.844Z"
   },
   {
    "duration": 106,
    "start_time": "2023-07-25T11:31:44.063Z"
   },
   {
    "duration": 603,
    "start_time": "2023-07-25T11:31:44.171Z"
   },
   {
    "duration": 3,
    "start_time": "2023-07-25T11:31:44.776Z"
   },
   {
    "duration": 78,
    "start_time": "2023-07-25T11:31:44.781Z"
   },
   {
    "duration": 71,
    "start_time": "2023-07-25T11:31:44.862Z"
   },
   {
    "duration": 29,
    "start_time": "2023-07-25T11:31:44.934Z"
   },
   {
    "duration": 189,
    "start_time": "2023-07-25T11:31:44.965Z"
   },
   {
    "duration": 131,
    "start_time": "2023-07-25T11:31:45.158Z"
   },
   {
    "duration": 57,
    "start_time": "2023-07-25T11:31:45.290Z"
   },
   {
    "duration": 6,
    "start_time": "2023-07-25T11:31:45.348Z"
   },
   {
    "duration": 14,
    "start_time": "2023-07-25T11:31:45.356Z"
   },
   {
    "duration": 94,
    "start_time": "2023-07-25T11:31:45.372Z"
   },
   {
    "duration": 14,
    "start_time": "2023-07-25T11:31:45.468Z"
   },
   {
    "duration": 237,
    "start_time": "2023-07-25T11:31:45.483Z"
   },
   {
    "duration": 451,
    "start_time": "2023-07-25T11:31:45.728Z"
   },
   {
    "duration": 87,
    "start_time": "2023-07-25T11:38:03.006Z"
   },
   {
    "duration": 83,
    "start_time": "2023-07-25T11:53:14.743Z"
   },
   {
    "duration": 1757,
    "start_time": "2023-07-25T11:53:31.892Z"
   },
   {
    "duration": 1079,
    "start_time": "2023-07-25T11:53:33.651Z"
   },
   {
    "duration": 19,
    "start_time": "2023-07-25T11:53:34.732Z"
   },
   {
    "duration": 174,
    "start_time": "2023-07-25T11:53:34.754Z"
   },
   {
    "duration": 190,
    "start_time": "2023-07-25T11:53:34.937Z"
   },
   {
    "duration": 1263,
    "start_time": "2023-07-25T11:53:35.130Z"
   },
   {
    "duration": 103,
    "start_time": "2023-07-25T11:53:36.395Z"
   },
   {
    "duration": 583,
    "start_time": "2023-07-25T11:53:36.500Z"
   },
   {
    "duration": 4,
    "start_time": "2023-07-25T11:53:37.085Z"
   },
   {
    "duration": 20,
    "start_time": "2023-07-25T11:53:37.090Z"
   },
   {
    "duration": 50,
    "start_time": "2023-07-25T11:53:37.118Z"
   },
   {
    "duration": 21,
    "start_time": "2023-07-25T11:53:37.170Z"
   },
   {
    "duration": 190,
    "start_time": "2023-07-25T11:53:37.193Z"
   },
   {
    "duration": 127,
    "start_time": "2023-07-25T11:53:37.386Z"
   },
   {
    "duration": 51,
    "start_time": "2023-07-25T11:53:37.516Z"
   },
   {
    "duration": 6,
    "start_time": "2023-07-25T11:53:37.569Z"
   },
   {
    "duration": 25,
    "start_time": "2023-07-25T11:53:37.577Z"
   },
   {
    "duration": 118,
    "start_time": "2023-07-25T11:53:37.604Z"
   },
   {
    "duration": 18,
    "start_time": "2023-07-25T11:53:37.729Z"
   },
   {
    "duration": 199,
    "start_time": "2023-07-25T11:53:37.749Z"
   },
   {
    "duration": 392,
    "start_time": "2023-07-25T11:53:37.951Z"
   },
   {
    "duration": 93,
    "start_time": "2023-07-25T11:53:38.345Z"
   },
   {
    "duration": 32,
    "start_time": "2023-07-25T12:38:28.930Z"
   },
   {
    "duration": 17,
    "start_time": "2023-07-25T12:39:23.691Z"
   },
   {
    "duration": 82,
    "start_time": "2023-07-25T12:44:29.215Z"
   },
   {
    "duration": 30,
    "start_time": "2023-07-25T12:49:34.753Z"
   },
   {
    "duration": 42,
    "start_time": "2023-07-25T12:49:57.936Z"
   },
   {
    "duration": 37,
    "start_time": "2023-07-25T12:50:20.731Z"
   },
   {
    "duration": 30,
    "start_time": "2023-07-25T12:50:32.545Z"
   },
   {
    "duration": 18,
    "start_time": "2023-07-25T12:57:08.335Z"
   },
   {
    "duration": 1922,
    "start_time": "2023-07-25T13:06:26.615Z"
   },
   {
    "duration": 1150,
    "start_time": "2023-07-25T13:06:28.540Z"
   },
   {
    "duration": 31,
    "start_time": "2023-07-25T13:06:29.693Z"
   },
   {
    "duration": 146,
    "start_time": "2023-07-25T13:06:29.729Z"
   },
   {
    "duration": 212,
    "start_time": "2023-07-25T13:06:29.878Z"
   },
   {
    "duration": 1261,
    "start_time": "2023-07-25T13:06:30.092Z"
   },
   {
    "duration": 99,
    "start_time": "2023-07-25T13:06:31.355Z"
   },
   {
    "duration": 613,
    "start_time": "2023-07-25T13:06:31.456Z"
   },
   {
    "duration": 3,
    "start_time": "2023-07-25T13:06:32.071Z"
   },
   {
    "duration": 66,
    "start_time": "2023-07-25T13:06:32.076Z"
   },
   {
    "duration": 90,
    "start_time": "2023-07-25T13:06:32.144Z"
   },
   {
    "duration": 21,
    "start_time": "2023-07-25T13:06:32.236Z"
   },
   {
    "duration": 206,
    "start_time": "2023-07-25T13:06:32.259Z"
   },
   {
    "duration": 127,
    "start_time": "2023-07-25T13:06:32.468Z"
   },
   {
    "duration": 55,
    "start_time": "2023-07-25T13:06:32.598Z"
   },
   {
    "duration": 7,
    "start_time": "2023-07-25T13:06:32.655Z"
   },
   {
    "duration": 17,
    "start_time": "2023-07-25T13:06:32.663Z"
   },
   {
    "duration": 101,
    "start_time": "2023-07-25T13:06:32.682Z"
   },
   {
    "duration": 12,
    "start_time": "2023-07-25T13:06:32.786Z"
   },
   {
    "duration": 220,
    "start_time": "2023-07-25T13:06:32.800Z"
   },
   {
    "duration": 401,
    "start_time": "2023-07-25T13:06:33.022Z"
   },
   {
    "duration": 96,
    "start_time": "2023-07-25T13:06:33.425Z"
   },
   {
    "duration": 32,
    "start_time": "2023-07-25T13:06:33.530Z"
   },
   {
    "duration": 21,
    "start_time": "2023-07-25T13:06:33.564Z"
   },
   {
    "duration": 51,
    "start_time": "2023-07-25T13:06:33.587Z"
   },
   {
    "duration": 38,
    "start_time": "2023-07-25T13:06:33.640Z"
   },
   {
    "duration": 50,
    "start_time": "2023-07-25T13:06:33.679Z"
   },
   {
    "duration": 40,
    "start_time": "2023-07-25T13:06:33.730Z"
   },
   {
    "duration": 34,
    "start_time": "2023-07-25T13:06:33.772Z"
   },
   {
    "duration": 20,
    "start_time": "2023-07-25T13:26:57.252Z"
   },
   {
    "duration": 3399,
    "start_time": "2023-07-25T13:27:00.540Z"
   },
   {
    "duration": 35,
    "start_time": "2023-07-25T13:27:33.697Z"
   },
   {
    "duration": 13,
    "start_time": "2023-07-25T13:28:15.140Z"
   },
   {
    "duration": 13,
    "start_time": "2023-07-25T13:29:06.241Z"
   },
   {
    "duration": 16,
    "start_time": "2023-07-25T13:32:22.758Z"
   },
   {
    "duration": 1818,
    "start_time": "2023-07-25T13:52:10.031Z"
   },
   {
    "duration": 1180,
    "start_time": "2023-07-25T13:52:11.852Z"
   },
   {
    "duration": 20,
    "start_time": "2023-07-25T13:52:13.034Z"
   },
   {
    "duration": 159,
    "start_time": "2023-07-25T13:52:13.055Z"
   },
   {
    "duration": 201,
    "start_time": "2023-07-25T13:52:13.217Z"
   },
   {
    "duration": 1227,
    "start_time": "2023-07-25T13:52:13.420Z"
   },
   {
    "duration": 103,
    "start_time": "2023-07-25T13:52:14.649Z"
   },
   {
    "duration": 595,
    "start_time": "2023-07-25T13:52:14.754Z"
   },
   {
    "duration": 4,
    "start_time": "2023-07-25T13:52:15.351Z"
   },
   {
    "duration": 40,
    "start_time": "2023-07-25T13:52:15.357Z"
   },
   {
    "duration": 90,
    "start_time": "2023-07-25T13:52:15.399Z"
   },
   {
    "duration": 36,
    "start_time": "2023-07-25T13:52:15.491Z"
   },
   {
    "duration": 211,
    "start_time": "2023-07-25T13:52:15.530Z"
   },
   {
    "duration": 154,
    "start_time": "2023-07-25T13:52:15.748Z"
   },
   {
    "duration": 64,
    "start_time": "2023-07-25T13:52:15.904Z"
   },
   {
    "duration": 11,
    "start_time": "2023-07-25T13:52:15.970Z"
   },
   {
    "duration": 63,
    "start_time": "2023-07-25T13:52:15.984Z"
   },
   {
    "duration": 114,
    "start_time": "2023-07-25T13:52:16.049Z"
   },
   {
    "duration": 20,
    "start_time": "2023-07-25T13:52:16.168Z"
   },
   {
    "duration": 273,
    "start_time": "2023-07-25T13:52:16.191Z"
   },
   {
    "duration": 451,
    "start_time": "2023-07-25T13:52:16.466Z"
   },
   {
    "duration": 81,
    "start_time": "2023-07-25T13:52:16.926Z"
   },
   {
    "duration": 89,
    "start_time": "2023-07-25T13:52:17.010Z"
   },
   {
    "duration": 95,
    "start_time": "2023-07-25T13:52:17.100Z"
   },
   {
    "duration": 67,
    "start_time": "2023-07-25T13:52:17.197Z"
   },
   {
    "duration": 58,
    "start_time": "2023-07-25T13:52:17.266Z"
   },
   {
    "duration": 70,
    "start_time": "2023-07-25T13:52:17.335Z"
   },
   {
    "duration": 80,
    "start_time": "2023-07-25T13:52:17.407Z"
   },
   {
    "duration": 84,
    "start_time": "2023-07-25T13:52:17.489Z"
   },
   {
    "duration": 28,
    "start_time": "2023-07-25T13:52:17.575Z"
   },
   {
    "duration": 64,
    "start_time": "2023-07-25T13:52:17.605Z"
   },
   {
    "duration": 3448,
    "start_time": "2023-07-25T13:52:17.671Z"
   },
   {
    "duration": 21,
    "start_time": "2023-07-25T13:52:21.121Z"
   },
   {
    "duration": 2839,
    "start_time": "2023-07-26T09:45:52.044Z"
   },
   {
    "duration": 2397,
    "start_time": "2023-07-26T09:45:54.885Z"
   },
   {
    "duration": 16,
    "start_time": "2023-07-26T09:45:57.283Z"
   },
   {
    "duration": 118,
    "start_time": "2023-07-26T09:45:57.301Z"
   },
   {
    "duration": 163,
    "start_time": "2023-07-26T09:45:57.420Z"
   },
   {
    "duration": 976,
    "start_time": "2023-07-26T09:45:57.584Z"
   },
   {
    "duration": 91,
    "start_time": "2023-07-26T09:45:58.562Z"
   },
   {
    "duration": 479,
    "start_time": "2023-07-26T09:45:58.655Z"
   },
   {
    "duration": 3,
    "start_time": "2023-07-26T09:45:59.136Z"
   },
   {
    "duration": 10,
    "start_time": "2023-07-26T09:45:59.141Z"
   },
   {
    "duration": 55,
    "start_time": "2023-07-26T09:45:59.153Z"
   },
   {
    "duration": 18,
    "start_time": "2023-07-26T09:45:59.210Z"
   },
   {
    "duration": 156,
    "start_time": "2023-07-26T09:45:59.230Z"
   },
   {
    "duration": 96,
    "start_time": "2023-07-26T09:45:59.387Z"
   },
   {
    "duration": 38,
    "start_time": "2023-07-26T09:45:59.484Z"
   },
   {
    "duration": 5,
    "start_time": "2023-07-26T09:45:59.532Z"
   },
   {
    "duration": 24,
    "start_time": "2023-07-26T09:45:59.538Z"
   },
   {
    "duration": 146,
    "start_time": "2023-07-26T09:45:59.564Z"
   },
   {
    "duration": 10,
    "start_time": "2023-07-26T09:45:59.712Z"
   },
   {
    "duration": 178,
    "start_time": "2023-07-26T09:45:59.723Z"
   },
   {
    "duration": 368,
    "start_time": "2023-07-26T09:45:59.904Z"
   },
   {
    "duration": 83,
    "start_time": "2023-07-26T09:46:00.274Z"
   },
   {
    "duration": 53,
    "start_time": "2023-07-26T09:46:00.359Z"
   },
   {
    "duration": 40,
    "start_time": "2023-07-26T09:46:00.414Z"
   },
   {
    "duration": 66,
    "start_time": "2023-07-26T09:46:00.456Z"
   },
   {
    "duration": 61,
    "start_time": "2023-07-26T09:46:00.524Z"
   },
   {
    "duration": 82,
    "start_time": "2023-07-26T09:46:00.587Z"
   },
   {
    "duration": 57,
    "start_time": "2023-07-26T09:46:00.672Z"
   },
   {
    "duration": 3005,
    "start_time": "2023-07-26T09:46:00.731Z"
   },
   {
    "duration": 1600,
    "start_time": "2023-07-26T09:47:28.891Z"
   },
   {
    "duration": 866,
    "start_time": "2023-07-26T09:47:30.493Z"
   },
   {
    "duration": 16,
    "start_time": "2023-07-26T09:47:31.361Z"
   },
   {
    "duration": 243,
    "start_time": "2023-07-26T09:47:31.379Z"
   },
   {
    "duration": 193,
    "start_time": "2023-07-26T09:47:31.624Z"
   },
   {
    "duration": 967,
    "start_time": "2023-07-26T09:47:31.818Z"
   },
   {
    "duration": 90,
    "start_time": "2023-07-26T09:47:32.787Z"
   },
   {
    "duration": 452,
    "start_time": "2023-07-26T09:47:32.879Z"
   },
   {
    "duration": 3,
    "start_time": "2023-07-26T09:47:33.333Z"
   },
   {
    "duration": 19,
    "start_time": "2023-07-26T09:47:33.337Z"
   },
   {
    "duration": 74,
    "start_time": "2023-07-26T09:47:33.358Z"
   },
   {
    "duration": 15,
    "start_time": "2023-07-26T09:47:33.434Z"
   },
   {
    "duration": 157,
    "start_time": "2023-07-26T09:47:33.451Z"
   },
   {
    "duration": 102,
    "start_time": "2023-07-26T09:47:33.611Z"
   },
   {
    "duration": 49,
    "start_time": "2023-07-26T09:47:33.714Z"
   },
   {
    "duration": 5,
    "start_time": "2023-07-26T09:47:33.765Z"
   },
   {
    "duration": 14,
    "start_time": "2023-07-26T09:47:33.772Z"
   },
   {
    "duration": 81,
    "start_time": "2023-07-26T09:47:33.788Z"
   },
   {
    "duration": 10,
    "start_time": "2023-07-26T09:47:33.871Z"
   },
   {
    "duration": 197,
    "start_time": "2023-07-26T09:47:33.883Z"
   },
   {
    "duration": 319,
    "start_time": "2023-07-26T09:47:34.082Z"
   },
   {
    "duration": 78,
    "start_time": "2023-07-26T09:47:34.402Z"
   },
   {
    "duration": 28,
    "start_time": "2023-07-26T09:47:34.481Z"
   },
   {
    "duration": 35,
    "start_time": "2023-07-26T09:47:34.511Z"
   },
   {
    "duration": 58,
    "start_time": "2023-07-26T09:47:34.548Z"
   },
   {
    "duration": 65,
    "start_time": "2023-07-26T09:47:34.608Z"
   },
   {
    "duration": 85,
    "start_time": "2023-07-26T09:47:34.676Z"
   },
   {
    "duration": 60,
    "start_time": "2023-07-26T09:47:34.763Z"
   },
   {
    "duration": 27,
    "start_time": "2023-07-26T09:47:34.824Z"
   },
   {
    "duration": 19,
    "start_time": "2023-07-26T09:47:34.853Z"
   },
   {
    "duration": 237,
    "start_time": "2023-07-26T09:47:42.074Z"
   },
   {
    "duration": 129,
    "start_time": "2023-07-26T09:48:02.011Z"
   },
   {
    "duration": 238,
    "start_time": "2023-07-26T09:50:03.026Z"
   },
   {
    "duration": 84,
    "start_time": "2023-07-26T09:50:18.410Z"
   },
   {
    "duration": 10,
    "start_time": "2023-07-26T09:50:29.682Z"
   },
   {
    "duration": 1455,
    "start_time": "2023-07-26T09:52:50.513Z"
   },
   {
    "duration": 820,
    "start_time": "2023-07-26T09:52:51.970Z"
   },
   {
    "duration": 15,
    "start_time": "2023-07-26T09:52:52.791Z"
   },
   {
    "duration": 128,
    "start_time": "2023-07-26T09:52:52.808Z"
   },
   {
    "duration": 156,
    "start_time": "2023-07-26T09:52:52.937Z"
   },
   {
    "duration": 950,
    "start_time": "2023-07-26T09:52:53.094Z"
   },
   {
    "duration": 87,
    "start_time": "2023-07-26T09:52:54.045Z"
   },
   {
    "duration": 433,
    "start_time": "2023-07-26T09:52:54.134Z"
   },
   {
    "duration": 4,
    "start_time": "2023-07-26T09:52:54.569Z"
   },
   {
    "duration": 42,
    "start_time": "2023-07-26T09:52:54.576Z"
   },
   {
    "duration": 103,
    "start_time": "2023-07-26T09:52:54.620Z"
   },
   {
    "duration": 19,
    "start_time": "2023-07-26T09:52:54.725Z"
   },
   {
    "duration": 151,
    "start_time": "2023-07-26T09:52:54.745Z"
   },
   {
    "duration": 94,
    "start_time": "2023-07-26T09:52:54.898Z"
   },
   {
    "duration": 42,
    "start_time": "2023-07-26T09:52:54.994Z"
   },
   {
    "duration": 6,
    "start_time": "2023-07-26T09:52:55.037Z"
   },
   {
    "duration": 28,
    "start_time": "2023-07-26T09:52:55.044Z"
   },
   {
    "duration": 80,
    "start_time": "2023-07-26T09:52:55.074Z"
   },
   {
    "duration": 10,
    "start_time": "2023-07-26T09:52:55.156Z"
   },
   {
    "duration": 166,
    "start_time": "2023-07-26T09:52:55.168Z"
   },
   {
    "duration": 318,
    "start_time": "2023-07-26T09:52:55.335Z"
   },
   {
    "duration": 84,
    "start_time": "2023-07-26T09:52:55.655Z"
   },
   {
    "duration": 53,
    "start_time": "2023-07-26T09:52:55.740Z"
   },
   {
    "duration": 35,
    "start_time": "2023-07-26T09:52:55.795Z"
   },
   {
    "duration": 41,
    "start_time": "2023-07-26T09:52:55.831Z"
   },
   {
    "duration": 32,
    "start_time": "2023-07-26T09:52:55.874Z"
   },
   {
    "duration": 39,
    "start_time": "2023-07-26T09:52:55.908Z"
   },
   {
    "duration": 30,
    "start_time": "2023-07-26T09:52:55.951Z"
   },
   {
    "duration": 22,
    "start_time": "2023-07-26T09:52:55.983Z"
   },
   {
    "duration": 37,
    "start_time": "2023-07-26T09:52:56.006Z"
   },
   {
    "duration": 248,
    "start_time": "2023-07-26T09:52:56.045Z"
   },
   {
    "duration": 245,
    "start_time": "2023-07-26T09:52:56.295Z"
   },
   {
    "duration": 78,
    "start_time": "2023-07-26T09:52:56.542Z"
   },
   {
    "duration": 11,
    "start_time": "2023-07-26T09:52:56.631Z"
   },
   {
    "duration": 10,
    "start_time": "2023-07-26T09:55:45.021Z"
   },
   {
    "duration": 5,
    "start_time": "2023-07-26T09:56:12.564Z"
   },
   {
    "duration": 113,
    "start_time": "2023-07-26T09:56:27.611Z"
   },
   {
    "duration": 25,
    "start_time": "2023-07-26T09:56:35.180Z"
   },
   {
    "duration": 2586,
    "start_time": "2023-07-26T10:01:51.421Z"
   },
   {
    "duration": 18,
    "start_time": "2023-07-26T10:02:06.821Z"
   },
   {
    "duration": 93,
    "start_time": "2023-07-26T10:02:19.061Z"
   },
   {
    "duration": 36,
    "start_time": "2023-07-26T10:03:44.894Z"
   },
   {
    "duration": 20,
    "start_time": "2023-07-26T10:11:00.527Z"
   },
   {
    "duration": 10,
    "start_time": "2023-07-26T10:12:39.600Z"
   },
   {
    "duration": 25,
    "start_time": "2023-07-26T10:13:48.720Z"
   },
   {
    "duration": 11,
    "start_time": "2023-07-26T10:21:01.417Z"
   },
   {
    "duration": 19,
    "start_time": "2023-07-26T10:23:36.853Z"
   },
   {
    "duration": 18,
    "start_time": "2023-07-26T10:25:33.070Z"
   },
   {
    "duration": 39,
    "start_time": "2023-07-26T10:27:30.047Z"
   },
   {
    "duration": 30,
    "start_time": "2023-07-26T10:28:40.198Z"
   },
   {
    "duration": 26,
    "start_time": "2023-07-26T10:29:04.783Z"
   },
   {
    "duration": 18,
    "start_time": "2023-07-26T10:29:27.941Z"
   },
   {
    "duration": 20,
    "start_time": "2023-07-26T10:31:06.752Z"
   },
   {
    "duration": 17,
    "start_time": "2023-07-26T10:31:40.569Z"
   },
   {
    "duration": 18,
    "start_time": "2023-07-26T10:33:22.478Z"
   },
   {
    "duration": 17,
    "start_time": "2023-07-26T10:33:28.033Z"
   },
   {
    "duration": 106,
    "start_time": "2023-07-26T10:42:24.754Z"
   },
   {
    "duration": 34,
    "start_time": "2023-07-26T10:42:48.793Z"
   },
   {
    "duration": 83,
    "start_time": "2023-07-26T10:43:13.994Z"
   },
   {
    "duration": 127,
    "start_time": "2023-07-26T10:46:13.627Z"
   },
   {
    "duration": 34,
    "start_time": "2023-07-26T10:46:26.484Z"
   },
   {
    "duration": 172,
    "start_time": "2023-07-26T10:46:50.189Z"
   },
   {
    "duration": 704,
    "start_time": "2023-07-26T10:48:45.692Z"
   },
   {
    "duration": 100,
    "start_time": "2023-07-26T10:49:10.764Z"
   },
   {
    "duration": 79,
    "start_time": "2023-07-26T10:54:36.417Z"
   },
   {
    "duration": 39,
    "start_time": "2023-07-26T10:54:37.806Z"
   },
   {
    "duration": 66,
    "start_time": "2023-07-26T10:55:11.290Z"
   },
   {
    "duration": 49,
    "start_time": "2023-07-26T10:55:13.550Z"
   },
   {
    "duration": 102,
    "start_time": "2023-07-26T10:55:43.855Z"
   },
   {
    "duration": 34,
    "start_time": "2023-07-26T10:55:46.341Z"
   },
   {
    "duration": 9,
    "start_time": "2023-07-26T11:03:06.153Z"
   },
   {
    "duration": 1382,
    "start_time": "2023-07-26T11:03:15.585Z"
   },
   {
    "duration": 856,
    "start_time": "2023-07-26T11:03:16.969Z"
   },
   {
    "duration": 17,
    "start_time": "2023-07-26T11:03:17.827Z"
   },
   {
    "duration": 153,
    "start_time": "2023-07-26T11:03:17.846Z"
   },
   {
    "duration": 168,
    "start_time": "2023-07-26T11:03:18.001Z"
   },
   {
    "duration": 1017,
    "start_time": "2023-07-26T11:03:18.171Z"
   },
   {
    "duration": 86,
    "start_time": "2023-07-26T11:03:19.190Z"
   },
   {
    "duration": 434,
    "start_time": "2023-07-26T11:03:19.277Z"
   },
   {
    "duration": 3,
    "start_time": "2023-07-26T11:03:19.713Z"
   },
   {
    "duration": 19,
    "start_time": "2023-07-26T11:03:19.719Z"
   },
   {
    "duration": 53,
    "start_time": "2023-07-26T11:03:19.740Z"
   },
   {
    "duration": 16,
    "start_time": "2023-07-26T11:03:19.795Z"
   },
   {
    "duration": 145,
    "start_time": "2023-07-26T11:03:19.812Z"
   },
   {
    "duration": 97,
    "start_time": "2023-07-26T11:03:19.958Z"
   },
   {
    "duration": 37,
    "start_time": "2023-07-26T11:03:20.056Z"
   },
   {
    "duration": 5,
    "start_time": "2023-07-26T11:03:20.095Z"
   },
   {
    "duration": 31,
    "start_time": "2023-07-26T11:03:20.101Z"
   },
   {
    "duration": 68,
    "start_time": "2023-07-26T11:03:20.133Z"
   },
   {
    "duration": 10,
    "start_time": "2023-07-26T11:03:20.203Z"
   },
   {
    "duration": 187,
    "start_time": "2023-07-26T11:03:20.215Z"
   },
   {
    "duration": 330,
    "start_time": "2023-07-26T11:03:20.403Z"
   },
   {
    "duration": 76,
    "start_time": "2023-07-26T11:03:20.735Z"
   },
   {
    "duration": 41,
    "start_time": "2023-07-26T11:03:20.812Z"
   },
   {
    "duration": 29,
    "start_time": "2023-07-26T11:03:20.854Z"
   },
   {
    "duration": 43,
    "start_time": "2023-07-26T11:03:20.885Z"
   },
   {
    "duration": 48,
    "start_time": "2023-07-26T11:03:20.930Z"
   },
   {
    "duration": 40,
    "start_time": "2023-07-26T11:03:20.980Z"
   },
   {
    "duration": 40,
    "start_time": "2023-07-26T11:03:21.022Z"
   },
   {
    "duration": 41,
    "start_time": "2023-07-26T11:03:21.063Z"
   },
   {
    "duration": 25,
    "start_time": "2023-07-26T11:03:21.105Z"
   },
   {
    "duration": 244,
    "start_time": "2023-07-26T11:03:21.132Z"
   },
   {
    "duration": 242,
    "start_time": "2023-07-26T11:03:21.378Z"
   },
   {
    "duration": 77,
    "start_time": "2023-07-26T11:03:21.621Z"
   },
   {
    "duration": 23,
    "start_time": "2023-07-26T11:03:21.700Z"
   },
   {
    "duration": 27,
    "start_time": "2023-07-26T11:03:21.732Z"
   },
   {
    "duration": 19,
    "start_time": "2023-07-26T11:03:21.761Z"
   },
   {
    "duration": 27,
    "start_time": "2023-07-26T11:03:21.782Z"
   },
   {
    "duration": 16,
    "start_time": "2023-07-26T11:03:21.831Z"
   },
   {
    "duration": 23,
    "start_time": "2023-07-26T11:03:21.849Z"
   },
   {
    "duration": 96,
    "start_time": "2023-07-26T11:03:21.874Z"
   },
   {
    "duration": 27,
    "start_time": "2023-07-26T11:03:21.971Z"
   },
   {
    "duration": 13,
    "start_time": "2023-07-26T11:04:59.779Z"
   },
   {
    "duration": 16,
    "start_time": "2023-07-26T11:05:38.073Z"
   },
   {
    "duration": 118,
    "start_time": "2023-07-26T11:06:31.346Z"
   },
   {
    "duration": 100,
    "start_time": "2023-07-26T11:06:46.834Z"
   },
   {
    "duration": 18,
    "start_time": "2023-07-26T11:07:47.593Z"
   },
   {
    "duration": 16,
    "start_time": "2023-07-26T11:11:20.500Z"
   },
   {
    "duration": 22,
    "start_time": "2023-07-26T11:18:09.869Z"
   },
   {
    "duration": 19,
    "start_time": "2023-07-26T11:18:52.150Z"
   },
   {
    "duration": 20,
    "start_time": "2023-07-26T11:19:37.037Z"
   },
   {
    "duration": 28,
    "start_time": "2023-07-26T11:19:54.798Z"
   },
   {
    "duration": 18,
    "start_time": "2023-07-26T11:21:15.741Z"
   },
   {
    "duration": 24,
    "start_time": "2023-07-26T11:27:59.075Z"
   },
   {
    "duration": 8,
    "start_time": "2023-07-26T11:28:08.067Z"
   },
   {
    "duration": 42,
    "start_time": "2023-07-26T11:28:13.569Z"
   },
   {
    "duration": 18,
    "start_time": "2023-07-26T11:30:29.650Z"
   },
   {
    "duration": 86,
    "start_time": "2023-07-26T11:31:31.137Z"
   },
   {
    "duration": 1601,
    "start_time": "2023-07-26T11:35:25.061Z"
   },
   {
    "duration": 880,
    "start_time": "2023-07-26T11:35:26.664Z"
   },
   {
    "duration": 17,
    "start_time": "2023-07-26T11:35:27.547Z"
   },
   {
    "duration": 143,
    "start_time": "2023-07-26T11:35:27.566Z"
   },
   {
    "duration": 191,
    "start_time": "2023-07-26T11:35:27.711Z"
   },
   {
    "duration": 1012,
    "start_time": "2023-07-26T11:35:27.903Z"
   },
   {
    "duration": 89,
    "start_time": "2023-07-26T11:35:28.917Z"
   },
   {
    "duration": 466,
    "start_time": "2023-07-26T11:35:29.008Z"
   },
   {
    "duration": 3,
    "start_time": "2023-07-26T11:35:29.475Z"
   },
   {
    "duration": 18,
    "start_time": "2023-07-26T11:35:29.480Z"
   },
   {
    "duration": 68,
    "start_time": "2023-07-26T11:35:29.499Z"
   },
   {
    "duration": 23,
    "start_time": "2023-07-26T11:35:29.569Z"
   },
   {
    "duration": 180,
    "start_time": "2023-07-26T11:35:29.594Z"
   },
   {
    "duration": 104,
    "start_time": "2023-07-26T11:35:29.777Z"
   },
   {
    "duration": 78,
    "start_time": "2023-07-26T11:35:29.883Z"
   },
   {
    "duration": 5,
    "start_time": "2023-07-26T11:35:29.963Z"
   },
   {
    "duration": 15,
    "start_time": "2023-07-26T11:35:29.969Z"
   },
   {
    "duration": 96,
    "start_time": "2023-07-26T11:35:29.986Z"
   },
   {
    "duration": 10,
    "start_time": "2023-07-26T11:35:30.084Z"
   },
   {
    "duration": 222,
    "start_time": "2023-07-26T11:35:30.096Z"
   },
   {
    "duration": 395,
    "start_time": "2023-07-26T11:35:30.320Z"
   },
   {
    "duration": 94,
    "start_time": "2023-07-26T11:35:30.717Z"
   },
   {
    "duration": 65,
    "start_time": "2023-07-26T11:35:30.813Z"
   },
   {
    "duration": 92,
    "start_time": "2023-07-26T11:35:30.880Z"
   },
   {
    "duration": 79,
    "start_time": "2023-07-26T11:35:30.973Z"
   },
   {
    "duration": 55,
    "start_time": "2023-07-26T11:35:31.056Z"
   },
   {
    "duration": 91,
    "start_time": "2023-07-26T11:35:31.112Z"
   },
   {
    "duration": 71,
    "start_time": "2023-07-26T11:35:31.204Z"
   },
   {
    "duration": 44,
    "start_time": "2023-07-26T11:35:31.277Z"
   },
   {
    "duration": 54,
    "start_time": "2023-07-26T11:35:31.322Z"
   },
   {
    "duration": 303,
    "start_time": "2023-07-26T11:35:31.378Z"
   },
   {
    "duration": 248,
    "start_time": "2023-07-26T11:35:31.682Z"
   },
   {
    "duration": 81,
    "start_time": "2023-07-26T11:35:31.932Z"
   },
   {
    "duration": 33,
    "start_time": "2023-07-26T11:35:32.014Z"
   },
   {
    "duration": 46,
    "start_time": "2023-07-26T11:35:32.049Z"
   },
   {
    "duration": 18,
    "start_time": "2023-07-26T11:35:32.097Z"
   },
   {
    "duration": 37,
    "start_time": "2023-07-26T11:35:32.117Z"
   },
   {
    "duration": 17,
    "start_time": "2023-07-26T11:35:32.155Z"
   },
   {
    "duration": 32,
    "start_time": "2023-07-26T11:35:32.173Z"
   },
   {
    "duration": 107,
    "start_time": "2023-07-26T11:35:32.207Z"
   },
   {
    "duration": 36,
    "start_time": "2023-07-26T11:35:32.317Z"
   },
   {
    "duration": 155,
    "start_time": "2023-07-26T11:35:32.355Z"
   },
   {
    "duration": 32,
    "start_time": "2023-07-26T11:35:32.513Z"
   },
   {
    "duration": 54,
    "start_time": "2023-07-26T11:35:32.547Z"
   },
   {
    "duration": 70,
    "start_time": "2023-07-26T11:35:32.603Z"
   },
   {
    "duration": 86,
    "start_time": "2023-07-26T11:35:32.675Z"
   },
   {
    "duration": 132,
    "start_time": "2023-07-26T13:04:04.531Z"
   },
   {
    "duration": 151,
    "start_time": "2023-07-26T13:05:08.409Z"
   },
   {
    "duration": 153,
    "start_time": "2023-07-26T13:10:42.382Z"
   },
   {
    "duration": 2182,
    "start_time": "2023-07-26T13:11:23.588Z"
   },
   {
    "duration": 1007,
    "start_time": "2023-07-26T13:11:25.779Z"
   },
   {
    "duration": 16,
    "start_time": "2023-07-26T13:11:26.788Z"
   },
   {
    "duration": 186,
    "start_time": "2023-07-26T13:11:26.806Z"
   },
   {
    "duration": 221,
    "start_time": "2023-07-26T13:11:26.995Z"
   },
   {
    "duration": 1090,
    "start_time": "2023-07-26T13:11:27.218Z"
   },
   {
    "duration": 89,
    "start_time": "2023-07-26T13:11:28.310Z"
   },
   {
    "duration": 491,
    "start_time": "2023-07-26T13:11:28.401Z"
   },
   {
    "duration": 4,
    "start_time": "2023-07-26T13:11:28.894Z"
   },
   {
    "duration": 7,
    "start_time": "2023-07-26T13:11:28.900Z"
   },
   {
    "duration": 65,
    "start_time": "2023-07-26T13:11:28.909Z"
   },
   {
    "duration": 21,
    "start_time": "2023-07-26T13:11:28.977Z"
   },
   {
    "duration": 167,
    "start_time": "2023-07-26T13:11:28.999Z"
   },
   {
    "duration": 112,
    "start_time": "2023-07-26T13:11:29.170Z"
   },
   {
    "duration": 82,
    "start_time": "2023-07-26T13:11:29.284Z"
   },
   {
    "duration": 7,
    "start_time": "2023-07-26T13:11:29.368Z"
   },
   {
    "duration": 20,
    "start_time": "2023-07-26T13:11:29.377Z"
   },
   {
    "duration": 93,
    "start_time": "2023-07-26T13:11:29.398Z"
   },
   {
    "duration": 16,
    "start_time": "2023-07-26T13:11:29.493Z"
   },
   {
    "duration": 235,
    "start_time": "2023-07-26T13:11:29.511Z"
   },
   {
    "duration": 421,
    "start_time": "2023-07-26T13:11:29.747Z"
   },
   {
    "duration": 100,
    "start_time": "2023-07-26T13:11:30.171Z"
   },
   {
    "duration": 48,
    "start_time": "2023-07-26T13:11:30.274Z"
   },
   {
    "duration": 68,
    "start_time": "2023-07-26T13:11:30.323Z"
   },
   {
    "duration": 76,
    "start_time": "2023-07-26T13:11:30.394Z"
   },
   {
    "duration": 123,
    "start_time": "2023-07-26T13:11:30.471Z"
   },
   {
    "duration": 92,
    "start_time": "2023-07-26T13:11:30.596Z"
   },
   {
    "duration": 127,
    "start_time": "2023-07-26T13:11:30.690Z"
   },
   {
    "duration": 235,
    "start_time": "2023-07-26T13:11:30.819Z"
   },
   {
    "duration": 218,
    "start_time": "2023-07-26T13:11:31.056Z"
   },
   {
    "duration": 365,
    "start_time": "2023-07-26T13:11:31.276Z"
   },
   {
    "duration": 327,
    "start_time": "2023-07-26T13:11:31.643Z"
   },
   {
    "duration": 103,
    "start_time": "2023-07-26T13:11:31.972Z"
   },
   {
    "duration": 47,
    "start_time": "2023-07-26T13:11:32.076Z"
   },
   {
    "duration": 87,
    "start_time": "2023-07-26T13:11:32.125Z"
   },
   {
    "duration": 36,
    "start_time": "2023-07-26T13:11:32.214Z"
   },
   {
    "duration": 61,
    "start_time": "2023-07-26T13:11:32.254Z"
   },
   {
    "duration": 41,
    "start_time": "2023-07-26T13:11:32.318Z"
   },
   {
    "duration": 130,
    "start_time": "2023-07-26T13:11:32.362Z"
   },
   {
    "duration": 168,
    "start_time": "2023-07-26T13:11:32.493Z"
   },
   {
    "duration": 34,
    "start_time": "2023-07-26T13:11:32.675Z"
   },
   {
    "duration": 183,
    "start_time": "2023-07-26T13:11:32.711Z"
   },
   {
    "duration": 19,
    "start_time": "2023-07-26T13:11:32.896Z"
   },
   {
    "duration": 92,
    "start_time": "2023-07-26T13:11:32.917Z"
   },
   {
    "duration": 51,
    "start_time": "2023-07-26T13:11:33.011Z"
   },
   {
    "duration": 125,
    "start_time": "2023-07-26T13:11:33.064Z"
   },
   {
    "duration": 176,
    "start_time": "2023-07-26T13:11:33.191Z"
   },
   {
    "duration": 407,
    "start_time": "2023-07-26T13:11:33.372Z"
   },
   {
    "duration": 386,
    "start_time": "2023-07-26T13:17:44.931Z"
   },
   {
    "duration": 323,
    "start_time": "2023-07-26T13:18:10.362Z"
   },
   {
    "duration": 1913,
    "start_time": "2023-07-26T18:26:50.699Z"
   },
   {
    "duration": 1433,
    "start_time": "2023-07-26T18:26:52.614Z"
   },
   {
    "duration": 26,
    "start_time": "2023-07-26T18:26:54.049Z"
   },
   {
    "duration": 151,
    "start_time": "2023-07-26T18:26:54.077Z"
   },
   {
    "duration": 185,
    "start_time": "2023-07-26T18:26:54.230Z"
   },
   {
    "duration": 1224,
    "start_time": "2023-07-26T18:26:54.417Z"
   },
   {
    "duration": 98,
    "start_time": "2023-07-26T18:26:55.643Z"
   },
   {
    "duration": 558,
    "start_time": "2023-07-26T18:26:55.742Z"
   },
   {
    "duration": 4,
    "start_time": "2023-07-26T18:26:56.302Z"
   },
   {
    "duration": 7,
    "start_time": "2023-07-26T18:26:56.307Z"
   },
   {
    "duration": 84,
    "start_time": "2023-07-26T18:26:56.316Z"
   },
   {
    "duration": 19,
    "start_time": "2023-07-26T18:26:56.402Z"
   },
   {
    "duration": 199,
    "start_time": "2023-07-26T18:26:56.423Z"
   },
   {
    "duration": 117,
    "start_time": "2023-07-26T18:26:56.625Z"
   },
   {
    "duration": 81,
    "start_time": "2023-07-26T18:26:56.744Z"
   },
   {
    "duration": 7,
    "start_time": "2023-07-26T18:26:56.827Z"
   },
   {
    "duration": 26,
    "start_time": "2023-07-26T18:26:56.852Z"
   },
   {
    "duration": 102,
    "start_time": "2023-07-26T18:26:56.880Z"
   },
   {
    "duration": 16,
    "start_time": "2023-07-26T18:26:56.984Z"
   },
   {
    "duration": 366,
    "start_time": "2023-07-26T18:26:57.001Z"
   },
   {
    "duration": 456,
    "start_time": "2023-07-26T18:26:57.370Z"
   },
   {
    "duration": 90,
    "start_time": "2023-07-26T18:26:57.828Z"
   },
   {
    "duration": 45,
    "start_time": "2023-07-26T18:26:57.920Z"
   },
   {
    "duration": 51,
    "start_time": "2023-07-26T18:26:57.967Z"
   },
   {
    "duration": 60,
    "start_time": "2023-07-26T18:26:58.019Z"
   },
   {
    "duration": 79,
    "start_time": "2023-07-26T18:26:58.080Z"
   },
   {
    "duration": 57,
    "start_time": "2023-07-26T18:26:58.161Z"
   },
   {
    "duration": 70,
    "start_time": "2023-07-26T18:26:58.221Z"
   },
   {
    "duration": 33,
    "start_time": "2023-07-26T18:26:58.293Z"
   },
   {
    "duration": 46,
    "start_time": "2023-07-26T18:26:58.328Z"
   },
   {
    "duration": 381,
    "start_time": "2023-07-26T18:26:58.376Z"
   },
   {
    "duration": 317,
    "start_time": "2023-07-26T18:26:58.759Z"
   },
   {
    "duration": 89,
    "start_time": "2023-07-26T18:26:59.079Z"
   },
   {
    "duration": 17,
    "start_time": "2023-07-26T18:26:59.170Z"
   },
   {
    "duration": 31,
    "start_time": "2023-07-26T18:26:59.190Z"
   },
   {
    "duration": 50,
    "start_time": "2023-07-26T18:26:59.223Z"
   },
   {
    "duration": 36,
    "start_time": "2023-07-26T18:26:59.276Z"
   },
   {
    "duration": 43,
    "start_time": "2023-07-26T18:26:59.314Z"
   },
   {
    "duration": 58,
    "start_time": "2023-07-26T18:26:59.359Z"
   },
   {
    "duration": 190,
    "start_time": "2023-07-26T18:26:59.420Z"
   },
   {
    "duration": 38,
    "start_time": "2023-07-26T18:26:59.615Z"
   },
   {
    "duration": 151,
    "start_time": "2023-07-26T18:26:59.655Z"
   },
   {
    "duration": 18,
    "start_time": "2023-07-26T18:26:59.808Z"
   },
   {
    "duration": 47,
    "start_time": "2023-07-26T18:26:59.828Z"
   },
   {
    "duration": 32,
    "start_time": "2023-07-26T18:26:59.878Z"
   },
   {
    "duration": 98,
    "start_time": "2023-07-26T18:26:59.912Z"
   },
   {
    "duration": 194,
    "start_time": "2023-07-26T18:27:00.012Z"
   },
   {
    "duration": 400,
    "start_time": "2023-07-26T18:27:00.208Z"
   },
   {
    "duration": 692,
    "start_time": "2023-07-26T18:30:18.700Z"
   },
   {
    "duration": 245,
    "start_time": "2023-07-26T18:41:20.208Z"
   },
   {
    "duration": 1758,
    "start_time": "2023-07-26T18:41:33.615Z"
   },
   {
    "duration": 1260,
    "start_time": "2023-07-26T18:41:35.382Z"
   },
   {
    "duration": 54,
    "start_time": "2023-07-26T18:41:36.644Z"
   },
   {
    "duration": 153,
    "start_time": "2023-07-26T18:41:36.702Z"
   },
   {
    "duration": 205,
    "start_time": "2023-07-26T18:41:36.858Z"
   },
   {
    "duration": 1368,
    "start_time": "2023-07-26T18:41:37.065Z"
   },
   {
    "duration": 128,
    "start_time": "2023-07-26T18:41:38.436Z"
   },
   {
    "duration": 889,
    "start_time": "2023-07-26T18:41:38.567Z"
   },
   {
    "duration": 4,
    "start_time": "2023-07-26T18:41:39.459Z"
   },
   {
    "duration": 62,
    "start_time": "2023-07-26T18:41:39.467Z"
   },
   {
    "duration": 63,
    "start_time": "2023-07-26T18:41:39.531Z"
   },
   {
    "duration": 29,
    "start_time": "2023-07-26T18:41:39.601Z"
   },
   {
    "duration": 208,
    "start_time": "2023-07-26T18:41:39.633Z"
   },
   {
    "duration": 154,
    "start_time": "2023-07-26T18:41:39.855Z"
   },
   {
    "duration": 111,
    "start_time": "2023-07-26T18:41:40.012Z"
   },
   {
    "duration": 11,
    "start_time": "2023-07-26T18:41:40.125Z"
   },
   {
    "duration": 18,
    "start_time": "2023-07-26T18:41:40.139Z"
   },
   {
    "duration": 135,
    "start_time": "2023-07-26T18:41:40.166Z"
   },
   {
    "duration": 18,
    "start_time": "2023-07-26T18:41:40.304Z"
   },
   {
    "duration": 415,
    "start_time": "2023-07-26T18:41:40.325Z"
   },
   {
    "duration": 573,
    "start_time": "2023-07-26T18:41:40.743Z"
   },
   {
    "duration": 122,
    "start_time": "2023-07-26T18:41:41.319Z"
   },
   {
    "duration": 59,
    "start_time": "2023-07-26T18:41:41.443Z"
   },
   {
    "duration": 31,
    "start_time": "2023-07-26T18:41:41.505Z"
   },
   {
    "duration": 62,
    "start_time": "2023-07-26T18:41:41.538Z"
   },
   {
    "duration": 40,
    "start_time": "2023-07-26T18:41:41.602Z"
   },
   {
    "duration": 67,
    "start_time": "2023-07-26T18:41:41.644Z"
   },
   {
    "duration": 46,
    "start_time": "2023-07-26T18:41:41.713Z"
   },
   {
    "duration": 54,
    "start_time": "2023-07-26T18:41:41.762Z"
   },
   {
    "duration": 20,
    "start_time": "2023-07-26T18:41:41.818Z"
   },
   {
    "duration": 364,
    "start_time": "2023-07-26T18:41:41.840Z"
   },
   {
    "duration": 325,
    "start_time": "2023-07-26T18:41:42.207Z"
   },
   {
    "duration": 139,
    "start_time": "2023-07-26T18:41:42.534Z"
   },
   {
    "duration": 20,
    "start_time": "2023-07-26T18:41:42.676Z"
   },
   {
    "duration": 66,
    "start_time": "2023-07-26T18:41:42.699Z"
   },
   {
    "duration": 31,
    "start_time": "2023-07-26T18:41:42.767Z"
   },
   {
    "duration": 40,
    "start_time": "2023-07-26T18:41:42.801Z"
   },
   {
    "duration": 31,
    "start_time": "2023-07-26T18:41:42.854Z"
   },
   {
    "duration": 40,
    "start_time": "2023-07-26T18:41:42.886Z"
   },
   {
    "duration": 144,
    "start_time": "2023-07-26T18:41:42.929Z"
   },
   {
    "duration": 44,
    "start_time": "2023-07-26T18:41:43.081Z"
   },
   {
    "duration": 158,
    "start_time": "2023-07-26T18:41:43.127Z"
   },
   {
    "duration": 24,
    "start_time": "2023-07-26T18:41:43.287Z"
   },
   {
    "duration": 48,
    "start_time": "2023-07-26T18:41:43.313Z"
   },
   {
    "duration": 68,
    "start_time": "2023-07-26T18:41:43.363Z"
   },
   {
    "duration": 103,
    "start_time": "2023-07-26T18:41:43.433Z"
   },
   {
    "duration": 260,
    "start_time": "2023-07-26T18:41:43.540Z"
   },
   {
    "duration": 397,
    "start_time": "2023-07-26T18:41:43.802Z"
   },
   {
    "duration": 243,
    "start_time": "2023-07-26T18:41:44.201Z"
   },
   {
    "duration": 1741,
    "start_time": "2023-07-26T18:45:44.002Z"
   },
   {
    "duration": 1319,
    "start_time": "2023-07-26T18:45:45.747Z"
   },
   {
    "duration": 28,
    "start_time": "2023-07-26T18:45:47.070Z"
   },
   {
    "duration": 212,
    "start_time": "2023-07-26T18:45:47.102Z"
   },
   {
    "duration": 297,
    "start_time": "2023-07-26T18:45:47.319Z"
   },
   {
    "duration": 1403,
    "start_time": "2023-07-26T18:45:47.618Z"
   },
   {
    "duration": 111,
    "start_time": "2023-07-26T18:45:49.023Z"
   },
   {
    "duration": 601,
    "start_time": "2023-07-26T18:45:49.135Z"
   },
   {
    "duration": 4,
    "start_time": "2023-07-26T18:45:49.739Z"
   },
   {
    "duration": 59,
    "start_time": "2023-07-26T18:45:49.745Z"
   },
   {
    "duration": 107,
    "start_time": "2023-07-26T18:45:49.806Z"
   },
   {
    "duration": 24,
    "start_time": "2023-07-26T18:45:49.916Z"
   },
   {
    "duration": 276,
    "start_time": "2023-07-26T18:45:49.955Z"
   },
   {
    "duration": 154,
    "start_time": "2023-07-26T18:45:50.236Z"
   },
   {
    "duration": 108,
    "start_time": "2023-07-26T18:45:50.392Z"
   },
   {
    "duration": 11,
    "start_time": "2023-07-26T18:45:50.502Z"
   },
   {
    "duration": 73,
    "start_time": "2023-07-26T18:45:50.515Z"
   },
   {
    "duration": 152,
    "start_time": "2023-07-26T18:45:50.591Z"
   },
   {
    "duration": 31,
    "start_time": "2023-07-26T18:45:50.746Z"
   },
   {
    "duration": 409,
    "start_time": "2023-07-26T18:45:50.779Z"
   },
   {
    "duration": 600,
    "start_time": "2023-07-26T18:45:51.192Z"
   },
   {
    "duration": 92,
    "start_time": "2023-07-26T18:45:51.795Z"
   },
   {
    "duration": 131,
    "start_time": "2023-07-26T18:45:51.889Z"
   },
   {
    "duration": 85,
    "start_time": "2023-07-26T18:45:52.023Z"
   },
   {
    "duration": 84,
    "start_time": "2023-07-26T18:45:52.111Z"
   },
   {
    "duration": 64,
    "start_time": "2023-07-26T18:45:52.198Z"
   },
   {
    "duration": 120,
    "start_time": "2023-07-26T18:45:52.265Z"
   },
   {
    "duration": 52,
    "start_time": "2023-07-26T18:45:52.389Z"
   },
   {
    "duration": 87,
    "start_time": "2023-07-26T18:45:52.443Z"
   },
   {
    "duration": 131,
    "start_time": "2023-07-26T18:45:52.533Z"
   },
   {
    "duration": 361,
    "start_time": "2023-07-26T18:45:52.670Z"
   },
   {
    "duration": 331,
    "start_time": "2023-07-26T18:45:53.033Z"
   },
   {
    "duration": 105,
    "start_time": "2023-07-26T18:45:53.371Z"
   },
   {
    "duration": 35,
    "start_time": "2023-07-26T18:45:53.480Z"
   },
   {
    "duration": 46,
    "start_time": "2023-07-26T18:45:53.518Z"
   },
   {
    "duration": 35,
    "start_time": "2023-07-26T18:45:53.573Z"
   },
   {
    "duration": 59,
    "start_time": "2023-07-26T18:45:53.611Z"
   },
   {
    "duration": 23,
    "start_time": "2023-07-26T18:45:53.677Z"
   },
   {
    "duration": 54,
    "start_time": "2023-07-26T18:45:53.703Z"
   },
   {
    "duration": 139,
    "start_time": "2023-07-26T18:45:53.759Z"
   },
   {
    "duration": 36,
    "start_time": "2023-07-26T18:45:53.903Z"
   },
   {
    "duration": 156,
    "start_time": "2023-07-26T18:45:53.953Z"
   },
   {
    "duration": 26,
    "start_time": "2023-07-26T18:45:54.111Z"
   },
   {
    "duration": 52,
    "start_time": "2023-07-26T18:45:54.141Z"
   },
   {
    "duration": 70,
    "start_time": "2023-07-26T18:45:54.197Z"
   },
   {
    "duration": 76,
    "start_time": "2023-07-26T18:45:54.271Z"
   },
   {
    "duration": 172,
    "start_time": "2023-07-26T18:45:54.351Z"
   },
   {
    "duration": 390,
    "start_time": "2023-07-26T18:45:54.525Z"
   },
   {
    "duration": 296,
    "start_time": "2023-07-26T18:45:54.917Z"
   },
   {
    "duration": 174,
    "start_time": "2023-07-26T18:45:55.217Z"
   },
   {
    "duration": 109,
    "start_time": "2023-07-26T18:46:07.693Z"
   },
   {
    "duration": 1594,
    "start_time": "2023-07-27T06:06:22.006Z"
   },
   {
    "duration": 1002,
    "start_time": "2023-07-27T06:06:23.602Z"
   },
   {
    "duration": 17,
    "start_time": "2023-07-27T06:06:24.605Z"
   },
   {
    "duration": 121,
    "start_time": "2023-07-27T06:06:24.624Z"
   },
   {
    "duration": 173,
    "start_time": "2023-07-27T06:06:24.747Z"
   },
   {
    "duration": 906,
    "start_time": "2023-07-27T06:06:24.921Z"
   },
   {
    "duration": 80,
    "start_time": "2023-07-27T06:06:25.828Z"
   },
   {
    "duration": 394,
    "start_time": "2023-07-27T06:06:25.909Z"
   },
   {
    "duration": 3,
    "start_time": "2023-07-27T06:06:26.305Z"
   },
   {
    "duration": 14,
    "start_time": "2023-07-27T06:06:26.310Z"
   },
   {
    "duration": 58,
    "start_time": "2023-07-27T06:06:26.325Z"
   },
   {
    "duration": 17,
    "start_time": "2023-07-27T06:06:26.385Z"
   },
   {
    "duration": 136,
    "start_time": "2023-07-27T06:06:26.404Z"
   },
   {
    "duration": 93,
    "start_time": "2023-07-27T06:06:26.542Z"
   },
   {
    "duration": 40,
    "start_time": "2023-07-27T06:06:26.637Z"
   },
   {
    "duration": 7,
    "start_time": "2023-07-27T06:06:26.678Z"
   },
   {
    "duration": 26,
    "start_time": "2023-07-27T06:06:26.687Z"
   },
   {
    "duration": 65,
    "start_time": "2023-07-27T06:06:26.720Z"
   },
   {
    "duration": 10,
    "start_time": "2023-07-27T06:06:26.787Z"
   },
   {
    "duration": 189,
    "start_time": "2023-07-27T06:06:26.798Z"
   },
   {
    "duration": 339,
    "start_time": "2023-07-27T06:06:26.989Z"
   },
   {
    "duration": 71,
    "start_time": "2023-07-27T06:06:27.329Z"
   },
   {
    "duration": 41,
    "start_time": "2023-07-27T06:06:27.401Z"
   },
   {
    "duration": 25,
    "start_time": "2023-07-27T06:06:27.444Z"
   },
   {
    "duration": 43,
    "start_time": "2023-07-27T06:06:27.472Z"
   },
   {
    "duration": 31,
    "start_time": "2023-07-27T06:06:27.516Z"
   },
   {
    "duration": 34,
    "start_time": "2023-07-27T06:06:27.548Z"
   },
   {
    "duration": 38,
    "start_time": "2023-07-27T06:06:27.585Z"
   },
   {
    "duration": 31,
    "start_time": "2023-07-27T06:06:27.624Z"
   },
   {
    "duration": 19,
    "start_time": "2023-07-27T06:06:27.657Z"
   },
   {
    "duration": 242,
    "start_time": "2023-07-27T06:06:27.678Z"
   },
   {
    "duration": 234,
    "start_time": "2023-07-27T06:06:27.921Z"
   },
   {
    "duration": 72,
    "start_time": "2023-07-27T06:06:28.157Z"
   },
   {
    "duration": 10,
    "start_time": "2023-07-27T06:06:28.231Z"
   },
   {
    "duration": 36,
    "start_time": "2023-07-27T06:06:28.242Z"
   },
   {
    "duration": 19,
    "start_time": "2023-07-27T06:06:28.280Z"
   },
   {
    "duration": 44,
    "start_time": "2023-07-27T06:06:28.301Z"
   },
   {
    "duration": 17,
    "start_time": "2023-07-27T06:06:28.346Z"
   },
   {
    "duration": 49,
    "start_time": "2023-07-27T06:06:28.365Z"
   },
   {
    "duration": 85,
    "start_time": "2023-07-27T06:06:28.416Z"
   },
   {
    "duration": 33,
    "start_time": "2023-07-27T06:06:28.502Z"
   },
   {
    "duration": 112,
    "start_time": "2023-07-27T06:06:28.537Z"
   },
   {
    "duration": 16,
    "start_time": "2023-07-27T06:06:28.650Z"
   },
   {
    "duration": 17,
    "start_time": "2023-07-27T06:06:28.667Z"
   },
   {
    "duration": 48,
    "start_time": "2023-07-27T06:06:28.686Z"
   },
   {
    "duration": 65,
    "start_time": "2023-07-27T06:06:28.736Z"
   },
   {
    "duration": 105,
    "start_time": "2023-07-27T06:06:28.802Z"
   },
   {
    "duration": 268,
    "start_time": "2023-07-27T06:06:28.909Z"
   },
   {
    "duration": 188,
    "start_time": "2023-07-27T06:06:29.179Z"
   },
   {
    "duration": 106,
    "start_time": "2023-07-27T06:06:29.369Z"
   },
   {
    "duration": 3,
    "start_time": "2023-07-27T06:38:56.939Z"
   },
   {
    "duration": 2,
    "start_time": "2023-07-27T06:40:21.403Z"
   },
   {
    "duration": 3,
    "start_time": "2023-07-27T06:48:59.040Z"
   },
   {
    "duration": 3,
    "start_time": "2023-07-27T06:51:28.606Z"
   },
   {
    "duration": 2,
    "start_time": "2023-07-27T06:55:41.976Z"
   },
   {
    "duration": 3,
    "start_time": "2023-07-27T06:55:43.175Z"
   },
   {
    "duration": 645,
    "start_time": "2023-07-27T06:56:10.639Z"
   },
   {
    "duration": 2474,
    "start_time": "2023-07-27T06:56:47.852Z"
   },
   {
    "duration": 2020,
    "start_time": "2023-07-27T07:04:59.901Z"
   },
   {
    "duration": 953,
    "start_time": "2023-07-27T07:05:01.923Z"
   },
   {
    "duration": 14,
    "start_time": "2023-07-27T07:05:02.878Z"
   },
   {
    "duration": 185,
    "start_time": "2023-07-27T07:05:02.894Z"
   },
   {
    "duration": 145,
    "start_time": "2023-07-27T07:05:03.081Z"
   },
   {
    "duration": 832,
    "start_time": "2023-07-27T07:05:03.227Z"
   },
   {
    "duration": 85,
    "start_time": "2023-07-27T07:05:04.061Z"
   },
   {
    "duration": 403,
    "start_time": "2023-07-27T07:05:04.147Z"
   },
   {
    "duration": 3,
    "start_time": "2023-07-27T07:05:04.551Z"
   },
   {
    "duration": 12,
    "start_time": "2023-07-27T07:05:04.557Z"
   },
   {
    "duration": 43,
    "start_time": "2023-07-27T07:05:04.571Z"
   },
   {
    "duration": 17,
    "start_time": "2023-07-27T07:05:04.616Z"
   },
   {
    "duration": 145,
    "start_time": "2023-07-27T07:05:04.635Z"
   },
   {
    "duration": 91,
    "start_time": "2023-07-27T07:05:04.782Z"
   },
   {
    "duration": 37,
    "start_time": "2023-07-27T07:05:04.876Z"
   },
   {
    "duration": 5,
    "start_time": "2023-07-27T07:05:04.921Z"
   },
   {
    "duration": 10,
    "start_time": "2023-07-27T07:05:04.927Z"
   },
   {
    "duration": 76,
    "start_time": "2023-07-27T07:05:04.939Z"
   },
   {
    "duration": 11,
    "start_time": "2023-07-27T07:05:05.016Z"
   },
   {
    "duration": 211,
    "start_time": "2023-07-27T07:05:05.029Z"
   },
   {
    "duration": 368,
    "start_time": "2023-07-27T07:05:05.242Z"
   },
   {
    "duration": 67,
    "start_time": "2023-07-27T07:05:05.612Z"
   },
   {
    "duration": 28,
    "start_time": "2023-07-27T07:05:05.680Z"
   },
   {
    "duration": 18,
    "start_time": "2023-07-27T07:05:05.719Z"
   },
   {
    "duration": 39,
    "start_time": "2023-07-27T07:05:05.739Z"
   },
   {
    "duration": 43,
    "start_time": "2023-07-27T07:05:05.780Z"
   },
   {
    "duration": 38,
    "start_time": "2023-07-27T07:05:05.825Z"
   },
   {
    "duration": 34,
    "start_time": "2023-07-27T07:05:05.866Z"
   },
   {
    "duration": 26,
    "start_time": "2023-07-27T07:05:05.901Z"
   },
   {
    "duration": 17,
    "start_time": "2023-07-27T07:05:05.928Z"
   },
   {
    "duration": 250,
    "start_time": "2023-07-27T07:05:05.946Z"
   },
   {
    "duration": 228,
    "start_time": "2023-07-27T07:05:06.197Z"
   },
   {
    "duration": 66,
    "start_time": "2023-07-27T07:05:06.427Z"
   },
   {
    "duration": 92,
    "start_time": "2023-07-27T07:05:06.494Z"
   },
   {
    "duration": 101,
    "start_time": "2023-07-27T07:05:06.588Z"
   },
   {
    "duration": 51,
    "start_time": "2023-07-27T07:05:06.691Z"
   },
   {
    "duration": 31,
    "start_time": "2023-07-27T07:05:06.744Z"
   },
   {
    "duration": 19,
    "start_time": "2023-07-27T07:05:06.776Z"
   },
   {
    "duration": 40,
    "start_time": "2023-07-27T07:05:06.797Z"
   },
   {
    "duration": 93,
    "start_time": "2023-07-27T07:05:06.838Z"
   },
   {
    "duration": 28,
    "start_time": "2023-07-27T07:05:06.933Z"
   },
   {
    "duration": 114,
    "start_time": "2023-07-27T07:05:06.963Z"
   },
   {
    "duration": 15,
    "start_time": "2023-07-27T07:05:07.078Z"
   },
   {
    "duration": 30,
    "start_time": "2023-07-27T07:05:07.095Z"
   },
   {
    "duration": 27,
    "start_time": "2023-07-27T07:05:07.127Z"
   },
   {
    "duration": 75,
    "start_time": "2023-07-27T07:05:07.156Z"
   },
   {
    "duration": 101,
    "start_time": "2023-07-27T07:05:07.233Z"
   },
   {
    "duration": 251,
    "start_time": "2023-07-27T07:05:07.336Z"
   },
   {
    "duration": 178,
    "start_time": "2023-07-27T07:05:07.588Z"
   },
   {
    "duration": 95,
    "start_time": "2023-07-27T07:05:07.767Z"
   },
   {
    "duration": 3,
    "start_time": "2023-07-27T07:05:07.863Z"
   },
   {
    "duration": 17,
    "start_time": "2023-07-27T07:05:07.868Z"
   },
   {
    "duration": 14,
    "start_time": "2023-07-27T07:05:07.886Z"
   },
   {
    "duration": 24,
    "start_time": "2023-07-27T07:05:07.902Z"
   },
   {
    "duration": 7,
    "start_time": "2023-07-27T07:05:07.928Z"
   },
   {
    "duration": 1713,
    "start_time": "2023-07-27T07:05:18.110Z"
   },
   {
    "duration": 114,
    "start_time": "2023-07-27T07:05:26.483Z"
   },
   {
    "duration": 4,
    "start_time": "2023-07-27T07:06:40.027Z"
   },
   {
    "duration": 7719,
    "start_time": "2023-07-27T07:06:43.010Z"
   },
   {
    "duration": 1424,
    "start_time": "2023-07-27T07:09:52.002Z"
   },
   {
    "duration": 786,
    "start_time": "2023-07-27T07:09:53.427Z"
   },
   {
    "duration": 15,
    "start_time": "2023-07-27T07:09:54.215Z"
   },
   {
    "duration": 113,
    "start_time": "2023-07-27T07:09:54.231Z"
   },
   {
    "duration": 145,
    "start_time": "2023-07-27T07:09:54.346Z"
   },
   {
    "duration": 874,
    "start_time": "2023-07-27T07:09:54.492Z"
   },
   {
    "duration": 93,
    "start_time": "2023-07-27T07:09:55.368Z"
   },
   {
    "duration": 361,
    "start_time": "2023-07-27T07:09:55.462Z"
   },
   {
    "duration": 3,
    "start_time": "2023-07-27T07:09:55.824Z"
   },
   {
    "duration": 5,
    "start_time": "2023-07-27T07:09:55.830Z"
   },
   {
    "duration": 43,
    "start_time": "2023-07-27T07:09:55.836Z"
   },
   {
    "duration": 17,
    "start_time": "2023-07-27T07:09:55.880Z"
   },
   {
    "duration": 152,
    "start_time": "2023-07-27T07:09:55.899Z"
   },
   {
    "duration": 93,
    "start_time": "2023-07-27T07:09:56.053Z"
   },
   {
    "duration": 39,
    "start_time": "2023-07-27T07:09:56.148Z"
   },
   {
    "duration": 6,
    "start_time": "2023-07-27T07:09:56.189Z"
   },
   {
    "duration": 25,
    "start_time": "2023-07-27T07:09:56.196Z"
   },
   {
    "duration": 62,
    "start_time": "2023-07-27T07:09:56.223Z"
   },
   {
    "duration": 10,
    "start_time": "2023-07-27T07:09:56.287Z"
   },
   {
    "duration": 174,
    "start_time": "2023-07-27T07:09:56.319Z"
   },
   {
    "duration": 329,
    "start_time": "2023-07-27T07:09:56.495Z"
   },
   {
    "duration": 67,
    "start_time": "2023-07-27T07:09:56.826Z"
   },
   {
    "duration": 38,
    "start_time": "2023-07-27T07:09:56.895Z"
   },
   {
    "duration": 18,
    "start_time": "2023-07-27T07:09:56.935Z"
   },
   {
    "duration": 49,
    "start_time": "2023-07-27T07:09:56.954Z"
   },
   {
    "duration": 43,
    "start_time": "2023-07-27T07:09:57.004Z"
   },
   {
    "duration": 28,
    "start_time": "2023-07-27T07:09:57.049Z"
   },
   {
    "duration": 54,
    "start_time": "2023-07-27T07:09:57.080Z"
   },
   {
    "duration": 14,
    "start_time": "2023-07-27T07:09:57.136Z"
   },
   {
    "duration": 24,
    "start_time": "2023-07-27T07:09:57.151Z"
   },
   {
    "duration": 231,
    "start_time": "2023-07-27T07:09:57.177Z"
   },
   {
    "duration": 218,
    "start_time": "2023-07-27T07:09:57.410Z"
   },
   {
    "duration": 65,
    "start_time": "2023-07-27T07:09:57.630Z"
   },
   {
    "duration": 10,
    "start_time": "2023-07-27T07:09:57.696Z"
   },
   {
    "duration": 28,
    "start_time": "2023-07-27T07:09:57.719Z"
   },
   {
    "duration": 26,
    "start_time": "2023-07-27T07:09:57.748Z"
   },
   {
    "duration": 27,
    "start_time": "2023-07-27T07:09:57.775Z"
   },
   {
    "duration": 31,
    "start_time": "2023-07-27T07:09:57.804Z"
   },
   {
    "duration": 31,
    "start_time": "2023-07-27T07:09:57.836Z"
   },
   {
    "duration": 89,
    "start_time": "2023-07-27T07:09:57.868Z"
   },
   {
    "duration": 26,
    "start_time": "2023-07-27T07:09:57.958Z"
   },
   {
    "duration": 116,
    "start_time": "2023-07-27T07:09:57.986Z"
   },
   {
    "duration": 17,
    "start_time": "2023-07-27T07:09:58.104Z"
   },
   {
    "duration": 32,
    "start_time": "2023-07-27T07:09:58.122Z"
   },
   {
    "duration": 26,
    "start_time": "2023-07-27T07:09:58.156Z"
   },
   {
    "duration": 68,
    "start_time": "2023-07-27T07:09:58.184Z"
   },
   {
    "duration": 101,
    "start_time": "2023-07-27T07:09:58.253Z"
   },
   {
    "duration": 249,
    "start_time": "2023-07-27T07:09:58.356Z"
   },
   {
    "duration": 176,
    "start_time": "2023-07-27T07:09:58.606Z"
   },
   {
    "duration": 94,
    "start_time": "2023-07-27T07:09:58.784Z"
   },
   {
    "duration": 3,
    "start_time": "2023-07-27T07:09:58.879Z"
   },
   {
    "duration": 14,
    "start_time": "2023-07-27T07:09:58.884Z"
   },
   {
    "duration": 20,
    "start_time": "2023-07-27T07:09:58.899Z"
   },
   {
    "duration": 20,
    "start_time": "2023-07-27T07:09:58.920Z"
   },
   {
    "duration": 1749,
    "start_time": "2023-07-27T07:10:04.171Z"
   },
   {
    "duration": 26,
    "start_time": "2023-07-27T07:10:09.355Z"
   },
   {
    "duration": 2,
    "start_time": "2023-07-27T07:11:54.756Z"
   },
   {
    "duration": 64781,
    "start_time": "2023-07-27T07:13:30.148Z"
   },
   {
    "duration": 1881,
    "start_time": "2023-07-27T07:17:25.344Z"
   },
   {
    "duration": 15,
    "start_time": "2023-07-27T07:19:23.831Z"
   },
   {
    "duration": 3,
    "start_time": "2023-07-27T07:25:57.056Z"
   },
   {
    "duration": 3265,
    "start_time": "2023-07-27T07:26:15.656Z"
   },
   {
    "duration": 2614,
    "start_time": "2023-07-27T07:26:42.411Z"
   },
   {
    "duration": 2,
    "start_time": "2023-07-27T07:27:47.800Z"
   },
   {
    "duration": 598,
    "start_time": "2023-07-27T07:27:58.024Z"
   },
   {
    "duration": 1786,
    "start_time": "2023-07-27T07:28:57.937Z"
   },
   {
    "duration": 3,
    "start_time": "2023-07-27T07:32:23.809Z"
   },
   {
    "duration": 1882,
    "start_time": "2023-07-27T07:32:27.241Z"
   },
   {
    "duration": 1432,
    "start_time": "2023-07-27T07:39:18.281Z"
   },
   {
    "duration": 755,
    "start_time": "2023-07-27T07:39:19.716Z"
   },
   {
    "duration": 15,
    "start_time": "2023-07-27T07:39:20.472Z"
   },
   {
    "duration": 116,
    "start_time": "2023-07-27T07:39:20.488Z"
   },
   {
    "duration": 154,
    "start_time": "2023-07-27T07:39:20.605Z"
   },
   {
    "duration": 843,
    "start_time": "2023-07-27T07:39:20.760Z"
   },
   {
    "duration": 85,
    "start_time": "2023-07-27T07:39:21.605Z"
   },
   {
    "duration": 375,
    "start_time": "2023-07-27T07:39:21.691Z"
   },
   {
    "duration": 2,
    "start_time": "2023-07-27T07:39:22.068Z"
   },
   {
    "duration": 68,
    "start_time": "2023-07-27T07:39:22.073Z"
   },
   {
    "duration": 73,
    "start_time": "2023-07-27T07:39:22.143Z"
   },
   {
    "duration": 51,
    "start_time": "2023-07-27T07:39:22.217Z"
   },
   {
    "duration": 173,
    "start_time": "2023-07-27T07:39:22.270Z"
   },
   {
    "duration": 95,
    "start_time": "2023-07-27T07:39:22.445Z"
   },
   {
    "duration": 36,
    "start_time": "2023-07-27T07:39:22.542Z"
   },
   {
    "duration": 5,
    "start_time": "2023-07-27T07:39:22.580Z"
   },
   {
    "duration": 6,
    "start_time": "2023-07-27T07:39:22.586Z"
   },
   {
    "duration": 79,
    "start_time": "2023-07-27T07:39:22.594Z"
   },
   {
    "duration": 10,
    "start_time": "2023-07-27T07:39:22.675Z"
   },
   {
    "duration": 186,
    "start_time": "2023-07-27T07:39:22.687Z"
   },
   {
    "duration": 352,
    "start_time": "2023-07-27T07:39:22.874Z"
   },
   {
    "duration": 67,
    "start_time": "2023-07-27T07:39:23.228Z"
   },
   {
    "duration": 36,
    "start_time": "2023-07-27T07:39:23.296Z"
   },
   {
    "duration": 26,
    "start_time": "2023-07-27T07:39:23.333Z"
   },
   {
    "duration": 26,
    "start_time": "2023-07-27T07:39:23.360Z"
   },
   {
    "duration": 32,
    "start_time": "2023-07-27T07:39:23.388Z"
   },
   {
    "duration": 28,
    "start_time": "2023-07-27T07:39:23.422Z"
   },
   {
    "duration": 28,
    "start_time": "2023-07-27T07:39:23.453Z"
   },
   {
    "duration": 40,
    "start_time": "2023-07-27T07:39:23.482Z"
   },
   {
    "duration": 49,
    "start_time": "2023-07-27T07:39:23.524Z"
   },
   {
    "duration": 216,
    "start_time": "2023-07-27T07:39:23.575Z"
   },
   {
    "duration": 221,
    "start_time": "2023-07-27T07:39:23.793Z"
   },
   {
    "duration": 64,
    "start_time": "2023-07-27T07:39:24.016Z"
   },
   {
    "duration": 10,
    "start_time": "2023-07-27T07:39:24.082Z"
   },
   {
    "duration": 43,
    "start_time": "2023-07-27T07:39:24.093Z"
   },
   {
    "duration": 24,
    "start_time": "2023-07-27T07:39:24.138Z"
   },
   {
    "duration": 28,
    "start_time": "2023-07-27T07:39:24.163Z"
   },
   {
    "duration": 31,
    "start_time": "2023-07-27T07:39:24.193Z"
   },
   {
    "duration": 20,
    "start_time": "2023-07-27T07:39:24.225Z"
   },
   {
    "duration": 101,
    "start_time": "2023-07-27T07:39:24.246Z"
   },
   {
    "duration": 24,
    "start_time": "2023-07-27T07:39:24.349Z"
   },
   {
    "duration": 107,
    "start_time": "2023-07-27T07:39:24.375Z"
   },
   {
    "duration": 14,
    "start_time": "2023-07-27T07:39:24.484Z"
   },
   {
    "duration": 26,
    "start_time": "2023-07-27T07:39:24.499Z"
   },
   {
    "duration": 26,
    "start_time": "2023-07-27T07:39:24.526Z"
   },
   {
    "duration": 70,
    "start_time": "2023-07-27T07:39:24.554Z"
   },
   {
    "duration": 100,
    "start_time": "2023-07-27T07:39:24.626Z"
   },
   {
    "duration": 253,
    "start_time": "2023-07-27T07:39:24.727Z"
   },
   {
    "duration": 183,
    "start_time": "2023-07-27T07:39:24.981Z"
   },
   {
    "duration": 107,
    "start_time": "2023-07-27T07:39:25.166Z"
   },
   {
    "duration": 4,
    "start_time": "2023-07-27T07:39:25.275Z"
   },
   {
    "duration": 10,
    "start_time": "2023-07-27T07:39:25.281Z"
   },
   {
    "duration": 12,
    "start_time": "2023-07-27T07:39:25.293Z"
   },
   {
    "duration": 74019,
    "start_time": "2023-07-27T07:39:25.307Z"
   },
   {
    "duration": 302,
    "start_time": "2023-07-27T07:40:39.327Z"
   },
   {
    "duration": 1772,
    "start_time": "2023-07-27T07:41:18.052Z"
   },
   {
    "duration": 1651,
    "start_time": "2023-07-27T07:46:32.677Z"
   },
   {
    "duration": 827,
    "start_time": "2023-07-27T07:46:34.330Z"
   },
   {
    "duration": 17,
    "start_time": "2023-07-27T07:46:35.159Z"
   },
   {
    "duration": 154,
    "start_time": "2023-07-27T07:46:35.178Z"
   },
   {
    "duration": 178,
    "start_time": "2023-07-27T07:46:35.334Z"
   },
   {
    "duration": 908,
    "start_time": "2023-07-27T07:46:35.514Z"
   },
   {
    "duration": 81,
    "start_time": "2023-07-27T07:46:36.423Z"
   },
   {
    "duration": 397,
    "start_time": "2023-07-27T07:46:36.505Z"
   },
   {
    "duration": 3,
    "start_time": "2023-07-27T07:46:36.904Z"
   },
   {
    "duration": 11,
    "start_time": "2023-07-27T07:46:36.909Z"
   },
   {
    "duration": 32,
    "start_time": "2023-07-27T07:46:36.922Z"
   },
   {
    "duration": 17,
    "start_time": "2023-07-27T07:46:36.957Z"
   },
   {
    "duration": 159,
    "start_time": "2023-07-27T07:46:36.976Z"
   },
   {
    "duration": 100,
    "start_time": "2023-07-27T07:46:37.136Z"
   },
   {
    "duration": 37,
    "start_time": "2023-07-27T07:46:37.237Z"
   },
   {
    "duration": 5,
    "start_time": "2023-07-27T07:46:37.275Z"
   },
   {
    "duration": 23,
    "start_time": "2023-07-27T07:46:37.281Z"
   },
   {
    "duration": 79,
    "start_time": "2023-07-27T07:46:37.305Z"
   },
   {
    "duration": 11,
    "start_time": "2023-07-27T07:46:37.385Z"
   },
   {
    "duration": 189,
    "start_time": "2023-07-27T07:46:37.398Z"
   },
   {
    "duration": 353,
    "start_time": "2023-07-27T07:46:37.589Z"
   },
   {
    "duration": 80,
    "start_time": "2023-07-27T07:46:37.943Z"
   },
   {
    "duration": 27,
    "start_time": "2023-07-27T07:46:38.024Z"
   },
   {
    "duration": 26,
    "start_time": "2023-07-27T07:46:38.052Z"
   },
   {
    "duration": 170,
    "start_time": "2023-07-27T07:46:38.080Z"
   },
   {
    "duration": 30,
    "start_time": "2023-07-27T07:46:38.252Z"
   },
   {
    "duration": 33,
    "start_time": "2023-07-27T07:46:38.284Z"
   },
   {
    "duration": 28,
    "start_time": "2023-07-27T07:46:38.322Z"
   },
   {
    "duration": 19,
    "start_time": "2023-07-27T07:46:38.351Z"
   },
   {
    "duration": 17,
    "start_time": "2023-07-27T07:46:38.371Z"
   },
   {
    "duration": 240,
    "start_time": "2023-07-27T07:46:38.390Z"
   },
   {
    "duration": 227,
    "start_time": "2023-07-27T07:46:38.631Z"
   },
   {
    "duration": 67,
    "start_time": "2023-07-27T07:46:38.860Z"
   },
   {
    "duration": 10,
    "start_time": "2023-07-27T07:46:38.929Z"
   },
   {
    "duration": 32,
    "start_time": "2023-07-27T07:46:38.941Z"
   },
   {
    "duration": 23,
    "start_time": "2023-07-27T07:46:38.974Z"
   },
   {
    "duration": 47,
    "start_time": "2023-07-27T07:46:38.998Z"
   },
   {
    "duration": 18,
    "start_time": "2023-07-27T07:46:39.047Z"
   },
   {
    "duration": 21,
    "start_time": "2023-07-27T07:46:39.066Z"
   },
   {
    "duration": 116,
    "start_time": "2023-07-27T07:46:39.088Z"
   },
   {
    "duration": 32,
    "start_time": "2023-07-27T07:46:39.206Z"
   },
   {
    "duration": 107,
    "start_time": "2023-07-27T07:46:39.239Z"
   },
   {
    "duration": 14,
    "start_time": "2023-07-27T07:46:39.348Z"
   },
   {
    "duration": 18,
    "start_time": "2023-07-27T07:46:39.364Z"
   },
   {
    "duration": 47,
    "start_time": "2023-07-27T07:46:39.383Z"
   },
   {
    "duration": 66,
    "start_time": "2023-07-27T07:46:39.431Z"
   },
   {
    "duration": 124,
    "start_time": "2023-07-27T07:46:39.498Z"
   },
   {
    "duration": 254,
    "start_time": "2023-07-27T07:46:39.624Z"
   },
   {
    "duration": 187,
    "start_time": "2023-07-27T07:46:39.880Z"
   },
   {
    "duration": 92,
    "start_time": "2023-07-27T07:46:40.068Z"
   },
   {
    "duration": 3,
    "start_time": "2023-07-27T07:46:40.162Z"
   },
   {
    "duration": 13,
    "start_time": "2023-07-27T07:46:40.166Z"
   },
   {
    "duration": 14,
    "start_time": "2023-07-27T07:46:40.181Z"
   },
   {
    "duration": 1526,
    "start_time": "2023-07-27T07:47:14.183Z"
   },
   {
    "duration": 797,
    "start_time": "2023-07-27T07:47:15.711Z"
   },
   {
    "duration": 18,
    "start_time": "2023-07-27T07:47:16.510Z"
   },
   {
    "duration": 118,
    "start_time": "2023-07-27T07:47:16.529Z"
   },
   {
    "duration": 147,
    "start_time": "2023-07-27T07:47:16.649Z"
   },
   {
    "duration": 861,
    "start_time": "2023-07-27T07:47:16.798Z"
   },
   {
    "duration": 85,
    "start_time": "2023-07-27T07:47:17.660Z"
   },
   {
    "duration": 385,
    "start_time": "2023-07-27T07:47:17.747Z"
   },
   {
    "duration": 4,
    "start_time": "2023-07-27T07:47:18.134Z"
   },
   {
    "duration": 11,
    "start_time": "2023-07-27T07:47:18.139Z"
   },
   {
    "duration": 32,
    "start_time": "2023-07-27T07:47:18.152Z"
   },
   {
    "duration": 16,
    "start_time": "2023-07-27T07:47:18.186Z"
   },
   {
    "duration": 157,
    "start_time": "2023-07-27T07:47:18.203Z"
   },
   {
    "duration": 87,
    "start_time": "2023-07-27T07:47:18.363Z"
   },
   {
    "duration": 36,
    "start_time": "2023-07-27T07:47:18.451Z"
   },
   {
    "duration": 5,
    "start_time": "2023-07-27T07:47:18.488Z"
   },
   {
    "duration": 27,
    "start_time": "2023-07-27T07:47:18.495Z"
   },
   {
    "duration": 67,
    "start_time": "2023-07-27T07:47:18.523Z"
   },
   {
    "duration": 10,
    "start_time": "2023-07-27T07:47:18.592Z"
   },
   {
    "duration": 175,
    "start_time": "2023-07-27T07:47:18.603Z"
   },
   {
    "duration": 346,
    "start_time": "2023-07-27T07:47:18.780Z"
   },
   {
    "duration": 73,
    "start_time": "2023-07-27T07:47:19.128Z"
   },
   {
    "duration": 42,
    "start_time": "2023-07-27T07:47:19.203Z"
   },
   {
    "duration": 20,
    "start_time": "2023-07-27T07:47:19.246Z"
   },
   {
    "duration": 28,
    "start_time": "2023-07-27T07:47:19.268Z"
   },
   {
    "duration": 47,
    "start_time": "2023-07-27T07:47:19.299Z"
   },
   {
    "duration": 41,
    "start_time": "2023-07-27T07:47:19.348Z"
   },
   {
    "duration": 46,
    "start_time": "2023-07-27T07:47:19.391Z"
   },
   {
    "duration": 29,
    "start_time": "2023-07-27T07:47:19.439Z"
   },
   {
    "duration": 23,
    "start_time": "2023-07-27T07:47:19.470Z"
   },
   {
    "duration": 263,
    "start_time": "2023-07-27T07:47:19.495Z"
   },
   {
    "duration": 242,
    "start_time": "2023-07-27T07:47:19.759Z"
   },
   {
    "duration": 72,
    "start_time": "2023-07-27T07:47:20.002Z"
   },
   {
    "duration": 11,
    "start_time": "2023-07-27T07:47:20.076Z"
   },
   {
    "duration": 43,
    "start_time": "2023-07-27T07:47:20.089Z"
   },
   {
    "duration": 24,
    "start_time": "2023-07-27T07:47:20.134Z"
   },
   {
    "duration": 31,
    "start_time": "2023-07-27T07:47:20.159Z"
   },
   {
    "duration": 37,
    "start_time": "2023-07-27T07:47:20.191Z"
   },
   {
    "duration": 19,
    "start_time": "2023-07-27T07:47:20.229Z"
   },
   {
    "duration": 117,
    "start_time": "2023-07-27T07:47:20.249Z"
   },
   {
    "duration": 29,
    "start_time": "2023-07-27T07:47:20.369Z"
   },
   {
    "duration": 125,
    "start_time": "2023-07-27T07:47:20.400Z"
   },
   {
    "duration": 17,
    "start_time": "2023-07-27T07:47:20.527Z"
   },
   {
    "duration": 24,
    "start_time": "2023-07-27T07:47:20.546Z"
   },
   {
    "duration": 48,
    "start_time": "2023-07-27T07:47:20.572Z"
   },
   {
    "duration": 69,
    "start_time": "2023-07-27T07:47:20.621Z"
   },
   {
    "duration": 105,
    "start_time": "2023-07-27T07:47:20.692Z"
   },
   {
    "duration": 274,
    "start_time": "2023-07-27T07:47:20.799Z"
   },
   {
    "duration": 195,
    "start_time": "2023-07-27T07:47:21.074Z"
   },
   {
    "duration": 99,
    "start_time": "2023-07-27T07:47:21.271Z"
   },
   {
    "duration": 4,
    "start_time": "2023-07-27T07:47:21.372Z"
   },
   {
    "duration": 8,
    "start_time": "2023-07-27T07:47:21.377Z"
   },
   {
    "duration": 15,
    "start_time": "2023-07-27T07:47:21.387Z"
   },
   {
    "duration": 63817,
    "start_time": "2023-07-27T07:47:21.404Z"
   },
   {
    "duration": 221,
    "start_time": "2023-07-27T07:48:25.225Z"
   },
   {
    "duration": 0,
    "start_time": "2023-07-27T07:48:25.447Z"
   },
   {
    "duration": 1501,
    "start_time": "2023-07-27T08:29:42.605Z"
   },
   {
    "duration": 846,
    "start_time": "2023-07-27T08:29:44.107Z"
   },
   {
    "duration": 15,
    "start_time": "2023-07-27T08:29:44.955Z"
   },
   {
    "duration": 127,
    "start_time": "2023-07-27T08:29:44.972Z"
   },
   {
    "duration": 151,
    "start_time": "2023-07-27T08:29:45.101Z"
   },
   {
    "duration": 958,
    "start_time": "2023-07-27T08:29:45.254Z"
   },
   {
    "duration": 82,
    "start_time": "2023-07-27T08:29:46.214Z"
   },
   {
    "duration": 393,
    "start_time": "2023-07-27T08:29:46.297Z"
   },
   {
    "duration": 2,
    "start_time": "2023-07-27T08:29:46.692Z"
   },
   {
    "duration": 11,
    "start_time": "2023-07-27T08:29:46.697Z"
   },
   {
    "duration": 40,
    "start_time": "2023-07-27T08:29:46.709Z"
   },
   {
    "duration": 17,
    "start_time": "2023-07-27T08:29:46.751Z"
   },
   {
    "duration": 157,
    "start_time": "2023-07-27T08:29:46.770Z"
   },
   {
    "duration": 99,
    "start_time": "2023-07-27T08:29:46.929Z"
   },
   {
    "duration": 38,
    "start_time": "2023-07-27T08:29:47.030Z"
   },
   {
    "duration": 5,
    "start_time": "2023-07-27T08:29:47.070Z"
   },
   {
    "duration": 10,
    "start_time": "2023-07-27T08:29:47.076Z"
   },
   {
    "duration": 79,
    "start_time": "2023-07-27T08:29:47.088Z"
   },
   {
    "duration": 11,
    "start_time": "2023-07-27T08:29:47.168Z"
   },
   {
    "duration": 190,
    "start_time": "2023-07-27T08:29:47.181Z"
   },
   {
    "duration": 353,
    "start_time": "2023-07-27T08:29:47.372Z"
   },
   {
    "duration": 67,
    "start_time": "2023-07-27T08:29:47.727Z"
   },
   {
    "duration": 41,
    "start_time": "2023-07-27T08:29:47.796Z"
   },
   {
    "duration": 40,
    "start_time": "2023-07-27T08:29:47.839Z"
   },
   {
    "duration": 40,
    "start_time": "2023-07-27T08:29:47.881Z"
   },
   {
    "duration": 33,
    "start_time": "2023-07-27T08:29:47.922Z"
   },
   {
    "duration": 39,
    "start_time": "2023-07-27T08:29:47.956Z"
   },
   {
    "duration": 39,
    "start_time": "2023-07-27T08:29:48.000Z"
   },
   {
    "duration": 23,
    "start_time": "2023-07-27T08:29:48.041Z"
   },
   {
    "duration": 37,
    "start_time": "2023-07-27T08:29:48.066Z"
   },
   {
    "duration": 249,
    "start_time": "2023-07-27T08:29:48.105Z"
   },
   {
    "duration": 238,
    "start_time": "2023-07-27T08:29:48.356Z"
   },
   {
    "duration": 70,
    "start_time": "2023-07-27T08:29:48.596Z"
   },
   {
    "duration": 34,
    "start_time": "2023-07-27T08:29:48.668Z"
   },
   {
    "duration": 48,
    "start_time": "2023-07-27T08:29:48.703Z"
   },
   {
    "duration": 24,
    "start_time": "2023-07-27T08:29:48.753Z"
   },
   {
    "duration": 30,
    "start_time": "2023-07-27T08:29:48.778Z"
   },
   {
    "duration": 26,
    "start_time": "2023-07-27T08:29:48.810Z"
   },
   {
    "duration": 25,
    "start_time": "2023-07-27T08:29:48.837Z"
   },
   {
    "duration": 98,
    "start_time": "2023-07-27T08:29:48.864Z"
   },
   {
    "duration": 27,
    "start_time": "2023-07-27T08:29:48.964Z"
   },
   {
    "duration": 112,
    "start_time": "2023-07-27T08:29:48.992Z"
   },
   {
    "duration": 16,
    "start_time": "2023-07-27T08:29:49.106Z"
   },
   {
    "duration": 19,
    "start_time": "2023-07-27T08:29:49.123Z"
   },
   {
    "duration": 44,
    "start_time": "2023-07-27T08:29:49.144Z"
   },
   {
    "duration": 74,
    "start_time": "2023-07-27T08:29:49.190Z"
   },
   {
    "duration": 117,
    "start_time": "2023-07-27T08:29:49.266Z"
   },
   {
    "duration": 267,
    "start_time": "2023-07-27T08:29:49.385Z"
   },
   {
    "duration": 186,
    "start_time": "2023-07-27T08:29:49.654Z"
   },
   {
    "duration": 97,
    "start_time": "2023-07-27T08:29:49.841Z"
   },
   {
    "duration": 3,
    "start_time": "2023-07-27T08:29:49.940Z"
   },
   {
    "duration": 6,
    "start_time": "2023-07-27T08:29:49.945Z"
   },
   {
    "duration": 20,
    "start_time": "2023-07-27T08:29:49.953Z"
   },
   {
    "duration": 64552,
    "start_time": "2023-07-27T08:29:49.974Z"
   },
   {
    "duration": 2502,
    "start_time": "2023-07-27T08:30:54.528Z"
   },
   {
    "duration": 290,
    "start_time": "2023-07-27T08:30:57.031Z"
   },
   {
    "duration": 4,
    "start_time": "2023-07-27T08:33:59.769Z"
   },
   {
    "duration": 3,
    "start_time": "2023-07-27T08:34:02.034Z"
   },
   {
    "duration": 3,
    "start_time": "2023-07-27T08:34:09.170Z"
   },
   {
    "duration": 69216,
    "start_time": "2023-07-27T08:34:11.209Z"
   },
   {
    "duration": 1755,
    "start_time": "2023-07-27T08:35:25.370Z"
   },
   {
    "duration": 11,
    "start_time": "2023-07-27T08:35:51.781Z"
   },
   {
    "duration": 10,
    "start_time": "2023-07-27T08:36:50.358Z"
   },
   {
    "duration": 9,
    "start_time": "2023-07-27T08:41:40.885Z"
   },
   {
    "duration": 4,
    "start_time": "2023-07-27T08:41:52.628Z"
   },
   {
    "duration": 10,
    "start_time": "2023-07-27T08:42:03.443Z"
   },
   {
    "duration": 9,
    "start_time": "2023-07-27T08:42:24.844Z"
   },
   {
    "duration": 2,
    "start_time": "2023-07-27T08:57:54.144Z"
   },
   {
    "duration": 702430,
    "start_time": "2023-07-27T08:57:56.304Z"
   },
   {
    "duration": 16197,
    "start_time": "2023-07-27T09:09:38.736Z"
   },
   {
    "duration": 9,
    "start_time": "2023-07-27T09:09:54.934Z"
   },
   {
    "duration": 3,
    "start_time": "2023-07-27T09:15:12.813Z"
   },
   {
    "duration": 26694,
    "start_time": "2023-07-27T09:15:46.726Z"
   },
   {
    "duration": 1671,
    "start_time": "2023-07-27T09:25:59.237Z"
   },
   {
    "duration": 1039,
    "start_time": "2023-07-27T09:26:00.910Z"
   },
   {
    "duration": 15,
    "start_time": "2023-07-27T09:26:01.951Z"
   },
   {
    "duration": 152,
    "start_time": "2023-07-27T09:26:01.968Z"
   },
   {
    "duration": 156,
    "start_time": "2023-07-27T09:26:02.121Z"
   },
   {
    "duration": 946,
    "start_time": "2023-07-27T09:26:02.279Z"
   },
   {
    "duration": 94,
    "start_time": "2023-07-27T09:26:03.227Z"
   },
   {
    "duration": 378,
    "start_time": "2023-07-27T09:26:03.322Z"
   },
   {
    "duration": 3,
    "start_time": "2023-07-27T09:26:03.701Z"
   },
   {
    "duration": 15,
    "start_time": "2023-07-27T09:26:03.706Z"
   },
   {
    "duration": 39,
    "start_time": "2023-07-27T09:26:03.723Z"
   },
   {
    "duration": 17,
    "start_time": "2023-07-27T09:26:03.764Z"
   },
   {
    "duration": 139,
    "start_time": "2023-07-27T09:26:03.782Z"
   },
   {
    "duration": 82,
    "start_time": "2023-07-27T09:26:03.922Z"
   },
   {
    "duration": 46,
    "start_time": "2023-07-27T09:26:04.006Z"
   },
   {
    "duration": 7,
    "start_time": "2023-07-27T09:26:04.053Z"
   },
   {
    "duration": 14,
    "start_time": "2023-07-27T09:26:04.061Z"
   },
   {
    "duration": 75,
    "start_time": "2023-07-27T09:26:04.077Z"
   },
   {
    "duration": 10,
    "start_time": "2023-07-27T09:26:04.153Z"
   },
   {
    "duration": 180,
    "start_time": "2023-07-27T09:26:04.164Z"
   },
   {
    "duration": 327,
    "start_time": "2023-07-27T09:26:04.345Z"
   },
   {
    "duration": 68,
    "start_time": "2023-07-27T09:26:04.673Z"
   },
   {
    "duration": 25,
    "start_time": "2023-07-27T09:26:04.743Z"
   },
   {
    "duration": 23,
    "start_time": "2023-07-27T09:26:04.770Z"
   },
   {
    "duration": 44,
    "start_time": "2023-07-27T09:26:04.794Z"
   },
   {
    "duration": 34,
    "start_time": "2023-07-27T09:26:04.840Z"
   },
   {
    "duration": 31,
    "start_time": "2023-07-27T09:26:04.875Z"
   },
   {
    "duration": 32,
    "start_time": "2023-07-27T09:26:04.909Z"
   },
   {
    "duration": 27,
    "start_time": "2023-07-27T09:26:04.943Z"
   },
   {
    "duration": 23,
    "start_time": "2023-07-27T09:26:04.971Z"
   },
   {
    "duration": 244,
    "start_time": "2023-07-27T09:26:04.995Z"
   },
   {
    "duration": 282,
    "start_time": "2023-07-27T09:26:05.240Z"
   },
   {
    "duration": 64,
    "start_time": "2023-07-27T09:26:05.523Z"
   },
   {
    "duration": 10,
    "start_time": "2023-07-27T09:26:05.589Z"
   },
   {
    "duration": 51,
    "start_time": "2023-07-27T09:26:05.601Z"
   },
   {
    "duration": 22,
    "start_time": "2023-07-27T09:26:05.654Z"
   },
   {
    "duration": 33,
    "start_time": "2023-07-27T09:26:05.678Z"
   },
   {
    "duration": 19,
    "start_time": "2023-07-27T09:26:05.713Z"
   },
   {
    "duration": 33,
    "start_time": "2023-07-27T09:26:05.734Z"
   },
   {
    "duration": 92,
    "start_time": "2023-07-27T09:26:05.768Z"
   },
   {
    "duration": 27,
    "start_time": "2023-07-27T09:26:05.862Z"
   },
   {
    "duration": 115,
    "start_time": "2023-07-27T09:26:05.891Z"
   },
   {
    "duration": 23,
    "start_time": "2023-07-27T09:26:06.007Z"
   },
   {
    "duration": 21,
    "start_time": "2023-07-27T09:26:06.031Z"
   },
   {
    "duration": 28,
    "start_time": "2023-07-27T09:26:06.053Z"
   },
   {
    "duration": 81,
    "start_time": "2023-07-27T09:26:06.083Z"
   },
   {
    "duration": 106,
    "start_time": "2023-07-27T09:26:06.165Z"
   },
   {
    "duration": 266,
    "start_time": "2023-07-27T09:26:06.272Z"
   },
   {
    "duration": 183,
    "start_time": "2023-07-27T09:26:06.539Z"
   },
   {
    "duration": 105,
    "start_time": "2023-07-27T09:26:06.723Z"
   },
   {
    "duration": 4,
    "start_time": "2023-07-27T09:26:06.829Z"
   },
   {
    "duration": 23,
    "start_time": "2023-07-27T09:26:06.834Z"
   },
   {
    "duration": 18,
    "start_time": "2023-07-27T09:26:06.859Z"
   },
   {
    "duration": 63242,
    "start_time": "2023-07-27T09:26:06.878Z"
   },
   {
    "duration": 2002,
    "start_time": "2023-07-27T09:27:10.122Z"
   },
   {
    "duration": 97,
    "start_time": "2023-07-27T09:27:12.127Z"
   },
   {
    "duration": 28,
    "start_time": "2023-07-27T09:27:12.226Z"
   },
   {
    "duration": 12,
    "start_time": "2023-07-27T09:27:12.256Z"
   },
   {
    "duration": 23,
    "start_time": "2023-07-27T09:27:12.270Z"
   },
   {
    "duration": 33,
    "start_time": "2023-07-27T09:27:12.294Z"
   },
   {
    "duration": 12,
    "start_time": "2023-07-27T09:27:12.328Z"
   },
   {
    "duration": 355,
    "start_time": "2023-07-27T09:27:12.341Z"
   },
   {
    "duration": 7,
    "start_time": "2023-07-27T09:27:12.698Z"
   },
   {
    "duration": 0,
    "start_time": "2023-07-27T09:27:12.706Z"
   },
   {
    "duration": 3,
    "start_time": "2023-07-27T09:27:52.569Z"
   },
   {
    "duration": 681925,
    "start_time": "2023-07-27T09:27:54.698Z"
   },
   {
    "duration": 13098,
    "start_time": "2023-07-27T09:39:16.625Z"
   },
   {
    "duration": 103,
    "start_time": "2023-07-27T09:39:29.724Z"
   },
   {
    "duration": 92,
    "start_time": "2023-07-27T09:39:29.829Z"
   },
   {
    "duration": 194,
    "start_time": "2023-07-27T09:39:29.923Z"
   },
   {
    "duration": 8,
    "start_time": "2023-07-27T09:39:30.119Z"
   },
   {
    "duration": 0,
    "start_time": "2023-07-27T09:39:30.129Z"
   },
   {
    "duration": 1653,
    "start_time": "2023-07-27T09:45:54.073Z"
   },
   {
    "duration": 849,
    "start_time": "2023-07-27T09:45:55.728Z"
   },
   {
    "duration": 14,
    "start_time": "2023-07-27T09:45:56.579Z"
   },
   {
    "duration": 125,
    "start_time": "2023-07-27T09:45:56.595Z"
   },
   {
    "duration": 147,
    "start_time": "2023-07-27T09:45:56.721Z"
   },
   {
    "duration": 876,
    "start_time": "2023-07-27T09:45:56.870Z"
   },
   {
    "duration": 88,
    "start_time": "2023-07-27T09:45:57.747Z"
   },
   {
    "duration": 400,
    "start_time": "2023-07-27T09:45:57.837Z"
   },
   {
    "duration": 3,
    "start_time": "2023-07-27T09:45:58.239Z"
   },
   {
    "duration": 16,
    "start_time": "2023-07-27T09:45:58.244Z"
   },
   {
    "duration": 41,
    "start_time": "2023-07-27T09:45:58.261Z"
   },
   {
    "duration": 18,
    "start_time": "2023-07-27T09:45:58.304Z"
   },
   {
    "duration": 139,
    "start_time": "2023-07-27T09:45:58.323Z"
   },
   {
    "duration": 91,
    "start_time": "2023-07-27T09:45:58.464Z"
   },
   {
    "duration": 36,
    "start_time": "2023-07-27T09:45:58.556Z"
   },
   {
    "duration": 5,
    "start_time": "2023-07-27T09:45:58.593Z"
   },
   {
    "duration": 22,
    "start_time": "2023-07-27T09:45:58.600Z"
   },
   {
    "duration": 57,
    "start_time": "2023-07-27T09:45:58.623Z"
   },
   {
    "duration": 10,
    "start_time": "2023-07-27T09:45:58.681Z"
   },
   {
    "duration": 182,
    "start_time": "2023-07-27T09:45:58.692Z"
   },
   {
    "duration": 340,
    "start_time": "2023-07-27T09:45:58.875Z"
   },
   {
    "duration": 67,
    "start_time": "2023-07-27T09:45:59.216Z"
   },
   {
    "duration": 36,
    "start_time": "2023-07-27T09:45:59.284Z"
   },
   {
    "duration": 19,
    "start_time": "2023-07-27T09:45:59.322Z"
   },
   {
    "duration": 38,
    "start_time": "2023-07-27T09:45:59.342Z"
   },
   {
    "duration": 39,
    "start_time": "2023-07-27T09:45:59.382Z"
   },
   {
    "duration": 35,
    "start_time": "2023-07-27T09:45:59.422Z"
   },
   {
    "duration": 40,
    "start_time": "2023-07-27T09:45:59.462Z"
   },
   {
    "duration": 23,
    "start_time": "2023-07-27T09:45:59.504Z"
   },
   {
    "duration": 20,
    "start_time": "2023-07-27T09:45:59.528Z"
   },
   {
    "duration": 239,
    "start_time": "2023-07-27T09:45:59.550Z"
   },
   {
    "duration": 253,
    "start_time": "2023-07-27T09:45:59.790Z"
   },
   {
    "duration": 65,
    "start_time": "2023-07-27T09:46:00.044Z"
   },
   {
    "duration": 33,
    "start_time": "2023-07-27T09:46:00.120Z"
   },
   {
    "duration": 50,
    "start_time": "2023-07-27T09:46:00.155Z"
   },
   {
    "duration": 32,
    "start_time": "2023-07-27T09:46:00.207Z"
   },
   {
    "duration": 38,
    "start_time": "2023-07-27T09:46:00.240Z"
   },
   {
    "duration": 17,
    "start_time": "2023-07-27T09:46:00.280Z"
   },
   {
    "duration": 39,
    "start_time": "2023-07-27T09:46:00.299Z"
   },
   {
    "duration": 94,
    "start_time": "2023-07-27T09:46:00.339Z"
   },
   {
    "duration": 26,
    "start_time": "2023-07-27T09:46:00.434Z"
   },
   {
    "duration": 111,
    "start_time": "2023-07-27T09:46:00.461Z"
   },
   {
    "duration": 15,
    "start_time": "2023-07-27T09:46:00.573Z"
   },
   {
    "duration": 156,
    "start_time": "2023-07-27T09:46:00.589Z"
   },
   {
    "duration": 74,
    "start_time": "2023-07-27T09:46:00.746Z"
   },
   {
    "duration": 64,
    "start_time": "2023-07-27T09:46:00.822Z"
   },
   {
    "duration": 137,
    "start_time": "2023-07-27T09:46:00.888Z"
   },
   {
    "duration": 332,
    "start_time": "2023-07-27T09:46:01.027Z"
   },
   {
    "duration": 168,
    "start_time": "2023-07-27T09:46:01.361Z"
   },
   {
    "duration": 93,
    "start_time": "2023-07-27T09:46:01.530Z"
   },
   {
    "duration": 46,
    "start_time": "2023-07-27T09:46:01.624Z"
   },
   {
    "duration": 187,
    "start_time": "2023-07-27T09:46:01.672Z"
   },
   {
    "duration": 276,
    "start_time": "2023-07-27T09:46:01.861Z"
   },
   {
    "duration": 118,
    "start_time": "2023-07-27T09:46:02.138Z"
   },
   {
    "duration": 85,
    "start_time": "2023-07-27T09:46:02.258Z"
   },
   {
    "duration": 44,
    "start_time": "2023-07-27T09:46:02.345Z"
   },
   {
    "duration": 28,
    "start_time": "2023-07-27T09:46:02.392Z"
   },
   {
    "duration": 13,
    "start_time": "2023-07-27T09:46:02.422Z"
   },
   {
    "duration": 17,
    "start_time": "2023-07-27T09:46:02.437Z"
   },
   {
    "duration": 31,
    "start_time": "2023-07-27T09:46:02.455Z"
   },
   {
    "duration": 20,
    "start_time": "2023-07-27T09:46:02.488Z"
   },
   {
    "duration": 21,
    "start_time": "2023-07-27T09:46:02.509Z"
   },
   {
    "duration": 15,
    "start_time": "2023-07-27T09:46:02.532Z"
   },
   {
    "duration": 21,
    "start_time": "2023-07-27T09:46:02.549Z"
   },
   {
    "duration": 28,
    "start_time": "2023-07-27T09:46:02.571Z"
   },
   {
    "duration": 298533,
    "start_time": "2023-07-27T09:46:02.600Z"
   },
   {
    "duration": 5580,
    "start_time": "2023-07-27T09:51:01.134Z"
   },
   {
    "duration": 10,
    "start_time": "2023-07-27T09:51:06.716Z"
   },
   {
    "duration": 2,
    "start_time": "2023-07-27T10:00:03.753Z"
   },
   {
    "duration": 1744,
    "start_time": "2023-07-27T10:39:39.452Z"
   },
   {
    "duration": 765,
    "start_time": "2023-07-27T10:39:41.198Z"
   },
   {
    "duration": 20,
    "start_time": "2023-07-27T10:39:41.965Z"
   },
   {
    "duration": 206,
    "start_time": "2023-07-27T10:39:41.988Z"
   },
   {
    "duration": 154,
    "start_time": "2023-07-27T10:39:42.195Z"
   },
   {
    "duration": 915,
    "start_time": "2023-07-27T10:39:42.350Z"
   },
   {
    "duration": 114,
    "start_time": "2023-07-27T10:39:43.266Z"
   },
   {
    "duration": 410,
    "start_time": "2023-07-27T10:39:43.381Z"
   },
   {
    "duration": 4,
    "start_time": "2023-07-27T10:39:43.793Z"
   },
   {
    "duration": 20,
    "start_time": "2023-07-27T10:39:43.800Z"
   },
   {
    "duration": 67,
    "start_time": "2023-07-27T10:39:43.822Z"
   },
   {
    "duration": 20,
    "start_time": "2023-07-27T10:39:43.891Z"
   },
   {
    "duration": 190,
    "start_time": "2023-07-27T10:39:43.913Z"
   },
   {
    "duration": 154,
    "start_time": "2023-07-27T10:39:44.105Z"
   },
   {
    "duration": 42,
    "start_time": "2023-07-27T10:39:44.261Z"
   },
   {
    "duration": 16,
    "start_time": "2023-07-27T10:39:44.305Z"
   },
   {
    "duration": 42,
    "start_time": "2023-07-27T10:39:44.323Z"
   },
   {
    "duration": 74,
    "start_time": "2023-07-27T10:39:44.368Z"
   },
   {
    "duration": 13,
    "start_time": "2023-07-27T10:39:44.444Z"
   },
   {
    "duration": 293,
    "start_time": "2023-07-27T10:39:44.458Z"
   },
   {
    "duration": 347,
    "start_time": "2023-07-27T10:39:44.753Z"
   },
   {
    "duration": 97,
    "start_time": "2023-07-27T10:39:45.102Z"
   },
   {
    "duration": 48,
    "start_time": "2023-07-27T10:39:45.201Z"
   },
   {
    "duration": 53,
    "start_time": "2023-07-27T10:39:45.251Z"
   },
   {
    "duration": 55,
    "start_time": "2023-07-27T10:39:45.307Z"
   },
   {
    "duration": 61,
    "start_time": "2023-07-27T10:39:45.365Z"
   },
   {
    "duration": 70,
    "start_time": "2023-07-27T10:39:45.428Z"
   },
   {
    "duration": 61,
    "start_time": "2023-07-27T10:39:45.503Z"
   },
   {
    "duration": 34,
    "start_time": "2023-07-27T10:39:45.566Z"
   },
   {
    "duration": 20,
    "start_time": "2023-07-27T10:39:45.602Z"
   },
   {
    "duration": 272,
    "start_time": "2023-07-27T10:39:45.624Z"
   },
   {
    "duration": 266,
    "start_time": "2023-07-27T10:39:45.897Z"
   },
   {
    "duration": 85,
    "start_time": "2023-07-27T10:39:46.166Z"
   },
   {
    "duration": 20,
    "start_time": "2023-07-27T10:39:46.253Z"
   },
   {
    "duration": 58,
    "start_time": "2023-07-27T10:39:46.275Z"
   },
   {
    "duration": 25,
    "start_time": "2023-07-27T10:39:46.335Z"
   },
   {
    "duration": 34,
    "start_time": "2023-07-27T10:39:46.362Z"
   },
   {
    "duration": 42,
    "start_time": "2023-07-27T10:39:46.398Z"
   },
   {
    "duration": 23,
    "start_time": "2023-07-27T10:39:46.443Z"
   },
   {
    "duration": 109,
    "start_time": "2023-07-27T10:39:46.468Z"
   },
   {
    "duration": 32,
    "start_time": "2023-07-27T10:39:46.579Z"
   },
   {
    "duration": 138,
    "start_time": "2023-07-27T10:39:46.613Z"
   },
   {
    "duration": 15,
    "start_time": "2023-07-27T10:39:46.752Z"
   },
   {
    "duration": 19,
    "start_time": "2023-07-27T10:39:46.768Z"
   },
   {
    "duration": 59,
    "start_time": "2023-07-27T10:39:46.789Z"
   },
   {
    "duration": 87,
    "start_time": "2023-07-27T10:39:46.850Z"
   },
   {
    "duration": 108,
    "start_time": "2023-07-27T10:39:46.938Z"
   },
   {
    "duration": 286,
    "start_time": "2023-07-27T10:39:47.047Z"
   },
   {
    "duration": 231,
    "start_time": "2023-07-27T10:39:47.334Z"
   },
   {
    "duration": 111,
    "start_time": "2023-07-27T10:39:47.567Z"
   },
   {
    "duration": 4,
    "start_time": "2023-07-27T10:39:47.681Z"
   },
   {
    "duration": 13,
    "start_time": "2023-07-27T10:39:47.687Z"
   },
   {
    "duration": 12,
    "start_time": "2023-07-27T10:39:47.701Z"
   },
   {
    "duration": 23,
    "start_time": "2023-07-27T10:39:47.714Z"
   },
   {
    "duration": 6,
    "start_time": "2023-07-27T10:39:47.739Z"
   },
   {
    "duration": 8,
    "start_time": "2023-07-27T10:39:47.747Z"
   },
   {
    "duration": 5,
    "start_time": "2023-07-27T10:39:47.756Z"
   },
   {
    "duration": 7,
    "start_time": "2023-07-27T10:39:47.762Z"
   },
   {
    "duration": 7,
    "start_time": "2023-07-27T10:39:47.770Z"
   },
   {
    "duration": 8,
    "start_time": "2023-07-27T10:39:47.779Z"
   },
   {
    "duration": 25,
    "start_time": "2023-07-27T10:39:47.789Z"
   },
   {
    "duration": 18,
    "start_time": "2023-07-27T10:39:47.816Z"
   },
   {
    "duration": 5,
    "start_time": "2023-07-27T10:39:47.836Z"
   },
   {
    "duration": 7,
    "start_time": "2023-07-27T10:39:47.843Z"
   },
   {
    "duration": 9,
    "start_time": "2023-07-27T10:39:47.852Z"
   },
   {
    "duration": 10,
    "start_time": "2023-07-27T10:39:47.862Z"
   },
   {
    "duration": 11,
    "start_time": "2023-07-27T10:39:47.873Z"
   },
   {
    "duration": 6,
    "start_time": "2023-07-27T10:39:47.886Z"
   },
   {
    "duration": 9,
    "start_time": "2023-07-27T10:39:47.893Z"
   },
   {
    "duration": 1474,
    "start_time": "2023-07-27T10:58:59.534Z"
   },
   {
    "duration": 845,
    "start_time": "2023-07-27T10:59:01.009Z"
   },
   {
    "duration": 14,
    "start_time": "2023-07-27T10:59:01.856Z"
   },
   {
    "duration": 172,
    "start_time": "2023-07-27T10:59:01.871Z"
   },
   {
    "duration": 163,
    "start_time": "2023-07-27T10:59:02.046Z"
   },
   {
    "duration": 1021,
    "start_time": "2023-07-27T10:59:02.211Z"
   },
   {
    "duration": 79,
    "start_time": "2023-07-27T10:59:03.233Z"
   },
   {
    "duration": 425,
    "start_time": "2023-07-27T10:59:03.313Z"
   },
   {
    "duration": 3,
    "start_time": "2023-07-27T10:59:03.740Z"
   },
   {
    "duration": 14,
    "start_time": "2023-07-27T10:59:03.747Z"
   },
   {
    "duration": 44,
    "start_time": "2023-07-27T10:59:03.763Z"
   },
   {
    "duration": 24,
    "start_time": "2023-07-27T10:59:03.809Z"
   },
   {
    "duration": 147,
    "start_time": "2023-07-27T10:59:03.837Z"
   },
   {
    "duration": 99,
    "start_time": "2023-07-27T10:59:03.985Z"
   },
   {
    "duration": 50,
    "start_time": "2023-07-27T10:59:04.086Z"
   },
   {
    "duration": 9,
    "start_time": "2023-07-27T10:59:04.137Z"
   },
   {
    "duration": 18,
    "start_time": "2023-07-27T10:59:04.149Z"
   },
   {
    "duration": 63,
    "start_time": "2023-07-27T10:59:04.169Z"
   },
   {
    "duration": 17,
    "start_time": "2023-07-27T10:59:04.233Z"
   },
   {
    "duration": 197,
    "start_time": "2023-07-27T10:59:04.252Z"
   },
   {
    "duration": 357,
    "start_time": "2023-07-27T10:59:04.451Z"
   },
   {
    "duration": 83,
    "start_time": "2023-07-27T10:59:04.810Z"
   },
   {
    "duration": 34,
    "start_time": "2023-07-27T10:59:04.895Z"
   },
   {
    "duration": 36,
    "start_time": "2023-07-27T10:59:04.934Z"
   },
   {
    "duration": 37,
    "start_time": "2023-07-27T10:59:04.971Z"
   },
   {
    "duration": 78,
    "start_time": "2023-07-27T10:59:05.010Z"
   },
   {
    "duration": 123,
    "start_time": "2023-07-27T10:59:05.089Z"
   },
   {
    "duration": 121,
    "start_time": "2023-07-27T10:59:05.217Z"
   },
   {
    "duration": 56,
    "start_time": "2023-07-27T10:59:05.340Z"
   },
   {
    "duration": 168,
    "start_time": "2023-07-27T10:59:05.398Z"
   },
   {
    "duration": 301,
    "start_time": "2023-07-27T10:59:05.568Z"
   },
   {
    "duration": 242,
    "start_time": "2023-07-27T10:59:05.870Z"
   },
   {
    "duration": 86,
    "start_time": "2023-07-27T10:59:06.114Z"
   },
   {
    "duration": 37,
    "start_time": "2023-07-27T10:59:06.201Z"
   },
   {
    "duration": 48,
    "start_time": "2023-07-27T10:59:06.240Z"
   },
   {
    "duration": 25,
    "start_time": "2023-07-27T10:59:06.290Z"
   },
   {
    "duration": 35,
    "start_time": "2023-07-27T10:59:06.317Z"
   },
   {
    "duration": 21,
    "start_time": "2023-07-27T10:59:06.353Z"
   },
   {
    "duration": 25,
    "start_time": "2023-07-27T10:59:06.375Z"
   },
   {
    "duration": 125,
    "start_time": "2023-07-27T10:59:06.401Z"
   },
   {
    "duration": 38,
    "start_time": "2023-07-27T10:59:06.528Z"
   },
   {
    "duration": 179,
    "start_time": "2023-07-27T10:59:06.567Z"
   },
   {
    "duration": 17,
    "start_time": "2023-07-27T10:59:06.748Z"
   },
   {
    "duration": 94,
    "start_time": "2023-07-27T10:59:06.766Z"
   },
   {
    "duration": 32,
    "start_time": "2023-07-27T10:59:06.862Z"
   },
   {
    "duration": 87,
    "start_time": "2023-07-27T10:59:06.896Z"
   },
   {
    "duration": 98,
    "start_time": "2023-07-27T10:59:06.985Z"
   },
   {
    "duration": 301,
    "start_time": "2023-07-27T10:59:07.084Z"
   },
   {
    "duration": 205,
    "start_time": "2023-07-27T10:59:07.387Z"
   },
   {
    "duration": 121,
    "start_time": "2023-07-27T10:59:07.594Z"
   },
   {
    "duration": 3,
    "start_time": "2023-07-27T10:59:07.717Z"
   },
   {
    "duration": 43,
    "start_time": "2023-07-27T10:59:07.722Z"
   },
   {
    "duration": 21,
    "start_time": "2023-07-27T10:59:07.767Z"
   },
   {
    "duration": 28,
    "start_time": "2023-07-27T10:59:07.789Z"
   },
   {
    "duration": 40,
    "start_time": "2023-07-27T10:59:07.819Z"
   },
   {
    "duration": 29,
    "start_time": "2023-07-27T10:59:07.860Z"
   },
   {
    "duration": 26,
    "start_time": "2023-07-27T10:59:07.890Z"
   },
   {
    "duration": 40,
    "start_time": "2023-07-27T10:59:07.918Z"
   },
   {
    "duration": 10,
    "start_time": "2023-07-27T10:59:07.960Z"
   },
   {
    "duration": 17,
    "start_time": "2023-07-27T10:59:07.972Z"
   },
   {
    "duration": 19,
    "start_time": "2023-07-27T10:59:07.990Z"
   },
   {
    "duration": 54,
    "start_time": "2023-07-27T10:59:08.011Z"
   },
   {
    "duration": 25,
    "start_time": "2023-07-27T10:59:08.066Z"
   },
   {
    "duration": 12,
    "start_time": "2023-07-27T10:59:08.093Z"
   },
   {
    "duration": 44,
    "start_time": "2023-07-27T10:59:08.107Z"
   },
   {
    "duration": 40,
    "start_time": "2023-07-27T10:59:08.152Z"
   },
   {
    "duration": 57,
    "start_time": "2023-07-27T10:59:08.194Z"
   },
   {
    "duration": 12,
    "start_time": "2023-07-27T10:59:08.253Z"
   },
   {
    "duration": 9,
    "start_time": "2023-07-27T10:59:08.267Z"
   },
   {
    "duration": 1603,
    "start_time": "2023-07-27T11:18:39.999Z"
   },
   {
    "duration": 941,
    "start_time": "2023-07-27T11:18:41.604Z"
   },
   {
    "duration": 19,
    "start_time": "2023-07-27T11:18:42.551Z"
   },
   {
    "duration": 130,
    "start_time": "2023-07-27T11:18:42.571Z"
   },
   {
    "duration": 181,
    "start_time": "2023-07-27T11:18:42.704Z"
   },
   {
    "duration": 955,
    "start_time": "2023-07-27T11:18:42.886Z"
   },
   {
    "duration": 107,
    "start_time": "2023-07-27T11:18:43.842Z"
   },
   {
    "duration": 441,
    "start_time": "2023-07-27T11:18:43.951Z"
   },
   {
    "duration": 3,
    "start_time": "2023-07-27T11:18:44.394Z"
   },
   {
    "duration": 15,
    "start_time": "2023-07-27T11:18:44.398Z"
   },
   {
    "duration": 73,
    "start_time": "2023-07-27T11:18:44.415Z"
   },
   {
    "duration": 17,
    "start_time": "2023-07-27T11:18:44.490Z"
   },
   {
    "duration": 153,
    "start_time": "2023-07-27T11:18:44.509Z"
   },
   {
    "duration": 93,
    "start_time": "2023-07-27T11:18:44.664Z"
   },
   {
    "duration": 38,
    "start_time": "2023-07-27T11:18:44.759Z"
   },
   {
    "duration": 6,
    "start_time": "2023-07-27T11:18:44.799Z"
   },
   {
    "duration": 14,
    "start_time": "2023-07-27T11:18:44.822Z"
   },
   {
    "duration": 72,
    "start_time": "2023-07-27T11:18:44.842Z"
   },
   {
    "duration": 26,
    "start_time": "2023-07-27T11:18:44.919Z"
   },
   {
    "duration": 226,
    "start_time": "2023-07-27T11:18:44.947Z"
   },
   {
    "duration": 417,
    "start_time": "2023-07-27T11:18:45.175Z"
   },
   {
    "duration": 91,
    "start_time": "2023-07-27T11:18:45.594Z"
   },
   {
    "duration": 43,
    "start_time": "2023-07-27T11:18:45.686Z"
   },
   {
    "duration": 49,
    "start_time": "2023-07-27T11:18:45.730Z"
   },
   {
    "duration": 60,
    "start_time": "2023-07-27T11:18:45.781Z"
   },
   {
    "duration": 58,
    "start_time": "2023-07-27T11:18:45.849Z"
   },
   {
    "duration": 99,
    "start_time": "2023-07-27T11:18:45.909Z"
   },
   {
    "duration": 57,
    "start_time": "2023-07-27T11:18:46.011Z"
   },
   {
    "duration": 31,
    "start_time": "2023-07-27T11:18:46.070Z"
   },
   {
    "duration": 51,
    "start_time": "2023-07-27T11:18:46.103Z"
   },
   {
    "duration": 262,
    "start_time": "2023-07-27T11:18:46.157Z"
   },
   {
    "duration": 234,
    "start_time": "2023-07-27T11:18:46.438Z"
   },
   {
    "duration": 75,
    "start_time": "2023-07-27T11:18:46.674Z"
   },
   {
    "duration": 17,
    "start_time": "2023-07-27T11:18:46.750Z"
   },
   {
    "duration": 31,
    "start_time": "2023-07-27T11:18:46.768Z"
   },
   {
    "duration": 35,
    "start_time": "2023-07-27T11:18:46.800Z"
   },
   {
    "duration": 30,
    "start_time": "2023-07-27T11:18:46.850Z"
   },
   {
    "duration": 18,
    "start_time": "2023-07-27T11:18:46.881Z"
   },
   {
    "duration": 45,
    "start_time": "2023-07-27T11:18:46.900Z"
   },
   {
    "duration": 114,
    "start_time": "2023-07-27T11:18:46.950Z"
   },
   {
    "duration": 25,
    "start_time": "2023-07-27T11:18:47.068Z"
   },
   {
    "duration": 117,
    "start_time": "2023-07-27T11:18:47.094Z"
   },
   {
    "duration": 39,
    "start_time": "2023-07-27T11:18:47.213Z"
   },
   {
    "duration": 40,
    "start_time": "2023-07-27T11:18:47.253Z"
   },
   {
    "duration": 46,
    "start_time": "2023-07-27T11:18:47.295Z"
   },
   {
    "duration": 83,
    "start_time": "2023-07-27T11:18:47.349Z"
   },
   {
    "duration": 99,
    "start_time": "2023-07-27T11:18:47.433Z"
   },
   {
    "duration": 277,
    "start_time": "2023-07-27T11:18:47.534Z"
   },
   {
    "duration": 201,
    "start_time": "2023-07-27T11:18:47.813Z"
   },
   {
    "duration": 114,
    "start_time": "2023-07-27T11:18:48.015Z"
   },
   {
    "duration": 13,
    "start_time": "2023-07-27T11:18:48.138Z"
   },
   {
    "duration": 7,
    "start_time": "2023-07-27T11:18:48.153Z"
   },
   {
    "duration": 12,
    "start_time": "2023-07-27T11:18:48.161Z"
   },
   {
    "duration": 6,
    "start_time": "2023-07-27T11:18:48.175Z"
   },
   {
    "duration": 9,
    "start_time": "2023-07-27T11:18:48.182Z"
   },
   {
    "duration": 14,
    "start_time": "2023-07-27T11:18:48.193Z"
   },
   {
    "duration": 5,
    "start_time": "2023-07-27T11:18:48.208Z"
   },
   {
    "duration": 37,
    "start_time": "2023-07-27T11:18:48.215Z"
   },
   {
    "duration": 14,
    "start_time": "2023-07-27T11:18:48.254Z"
   },
   {
    "duration": 19,
    "start_time": "2023-07-27T11:18:48.269Z"
   },
   {
    "duration": 29,
    "start_time": "2023-07-27T11:18:48.289Z"
   },
   {
    "duration": 43,
    "start_time": "2023-07-27T11:18:48.319Z"
   },
   {
    "duration": 22,
    "start_time": "2023-07-27T11:18:48.364Z"
   },
   {
    "duration": 13,
    "start_time": "2023-07-27T11:18:48.388Z"
   },
   {
    "duration": 50,
    "start_time": "2023-07-27T11:18:48.403Z"
   },
   {
    "duration": 11,
    "start_time": "2023-07-27T11:18:48.455Z"
   },
   {
    "duration": 13,
    "start_time": "2023-07-27T11:18:48.467Z"
   },
   {
    "duration": 11,
    "start_time": "2023-07-27T11:18:48.482Z"
   },
   {
    "duration": 22,
    "start_time": "2023-07-27T11:18:48.495Z"
   },
   {
    "duration": 2060,
    "start_time": "2023-07-27T11:26:48.243Z"
   },
   {
    "duration": 1005,
    "start_time": "2023-07-27T11:26:50.306Z"
   },
   {
    "duration": 49,
    "start_time": "2023-07-27T11:26:51.312Z"
   },
   {
    "duration": 214,
    "start_time": "2023-07-27T11:26:51.363Z"
   },
   {
    "duration": 219,
    "start_time": "2023-07-27T11:26:51.579Z"
   },
   {
    "duration": 1018,
    "start_time": "2023-07-27T11:26:51.800Z"
   },
   {
    "duration": 110,
    "start_time": "2023-07-27T11:26:52.820Z"
   },
   {
    "duration": 462,
    "start_time": "2023-07-27T11:26:52.942Z"
   },
   {
    "duration": 4,
    "start_time": "2023-07-27T11:26:53.406Z"
   },
   {
    "duration": 61,
    "start_time": "2023-07-27T11:26:53.426Z"
   },
   {
    "duration": 117,
    "start_time": "2023-07-27T11:26:53.489Z"
   },
   {
    "duration": 47,
    "start_time": "2023-07-27T11:26:53.607Z"
   },
   {
    "duration": 173,
    "start_time": "2023-07-27T11:26:53.662Z"
   },
   {
    "duration": 103,
    "start_time": "2023-07-27T11:26:53.852Z"
   },
   {
    "duration": 47,
    "start_time": "2023-07-27T11:26:53.958Z"
   },
   {
    "duration": 29,
    "start_time": "2023-07-27T11:26:54.007Z"
   },
   {
    "duration": 8,
    "start_time": "2023-07-27T11:26:54.037Z"
   },
   {
    "duration": 118,
    "start_time": "2023-07-27T11:26:54.047Z"
   },
   {
    "duration": 12,
    "start_time": "2023-07-27T11:26:54.169Z"
   },
   {
    "duration": 250,
    "start_time": "2023-07-27T11:26:54.183Z"
   },
   {
    "duration": 390,
    "start_time": "2023-07-27T11:26:54.435Z"
   },
   {
    "duration": 80,
    "start_time": "2023-07-27T11:26:54.838Z"
   },
   {
    "duration": 48,
    "start_time": "2023-07-27T11:26:54.920Z"
   },
   {
    "duration": 87,
    "start_time": "2023-07-27T11:26:54.970Z"
   },
   {
    "duration": 40,
    "start_time": "2023-07-27T11:26:55.059Z"
   },
   {
    "duration": 69,
    "start_time": "2023-07-27T11:26:55.101Z"
   },
   {
    "duration": 39,
    "start_time": "2023-07-27T11:26:55.172Z"
   },
   {
    "duration": 49,
    "start_time": "2023-07-27T11:26:55.213Z"
   },
   {
    "duration": 89,
    "start_time": "2023-07-27T11:26:55.264Z"
   },
   {
    "duration": 36,
    "start_time": "2023-07-27T11:26:55.355Z"
   },
   {
    "duration": 332,
    "start_time": "2023-07-27T11:26:55.393Z"
   },
   {
    "duration": 317,
    "start_time": "2023-07-27T11:26:55.733Z"
   },
   {
    "duration": 80,
    "start_time": "2023-07-27T11:26:56.052Z"
   },
   {
    "duration": 48,
    "start_time": "2023-07-27T11:26:56.133Z"
   },
   {
    "duration": 30,
    "start_time": "2023-07-27T11:26:56.182Z"
   },
   {
    "duration": 35,
    "start_time": "2023-07-27T11:26:56.213Z"
   },
   {
    "duration": 48,
    "start_time": "2023-07-27T11:26:56.250Z"
   },
   {
    "duration": 53,
    "start_time": "2023-07-27T11:26:56.300Z"
   },
   {
    "duration": 40,
    "start_time": "2023-07-27T11:26:56.355Z"
   },
   {
    "duration": 304,
    "start_time": "2023-07-27T11:26:56.397Z"
   },
   {
    "duration": 55,
    "start_time": "2023-07-27T11:26:56.710Z"
   },
   {
    "duration": 164,
    "start_time": "2023-07-27T11:26:56.778Z"
   },
   {
    "duration": 17,
    "start_time": "2023-07-27T11:26:56.944Z"
   },
   {
    "duration": 123,
    "start_time": "2023-07-27T11:26:56.962Z"
   },
   {
    "duration": 53,
    "start_time": "2023-07-27T11:26:57.087Z"
   },
   {
    "duration": 199,
    "start_time": "2023-07-27T11:26:57.141Z"
   },
   {
    "duration": 132,
    "start_time": "2023-07-27T11:26:57.342Z"
   },
   {
    "duration": 381,
    "start_time": "2023-07-27T11:26:57.476Z"
   },
   {
    "duration": 256,
    "start_time": "2023-07-27T11:26:57.866Z"
   },
   {
    "duration": 161,
    "start_time": "2023-07-27T11:26:58.130Z"
   },
   {
    "duration": 4,
    "start_time": "2023-07-27T11:26:58.292Z"
   },
   {
    "duration": 11,
    "start_time": "2023-07-27T11:26:58.297Z"
   },
   {
    "duration": 20,
    "start_time": "2023-07-27T11:26:58.309Z"
   },
   {
    "duration": 8,
    "start_time": "2023-07-27T11:26:58.345Z"
   },
   {
    "duration": 10,
    "start_time": "2023-07-27T11:26:58.355Z"
   },
   {
    "duration": 26,
    "start_time": "2023-07-27T11:26:58.367Z"
   },
   {
    "duration": 8,
    "start_time": "2023-07-27T11:26:58.395Z"
   },
   {
    "duration": 15,
    "start_time": "2023-07-27T11:26:58.405Z"
   },
   {
    "duration": 45,
    "start_time": "2023-07-27T11:26:58.422Z"
   },
   {
    "duration": 6,
    "start_time": "2023-07-27T11:26:58.468Z"
   },
   {
    "duration": 7,
    "start_time": "2023-07-27T11:26:58.475Z"
   },
   {
    "duration": 9,
    "start_time": "2023-07-27T11:26:58.484Z"
   },
   {
    "duration": 5,
    "start_time": "2023-07-27T11:26:58.495Z"
   },
   {
    "duration": 7,
    "start_time": "2023-07-27T11:26:58.502Z"
   },
   {
    "duration": 35,
    "start_time": "2023-07-27T11:26:58.510Z"
   },
   {
    "duration": 8,
    "start_time": "2023-07-27T11:26:58.561Z"
   },
   {
    "duration": 13,
    "start_time": "2023-07-27T11:26:58.571Z"
   },
   {
    "duration": 5,
    "start_time": "2023-07-27T11:26:58.586Z"
   },
   {
    "duration": 21,
    "start_time": "2023-07-27T11:26:58.593Z"
   },
   {
    "duration": 47,
    "start_time": "2023-07-27T11:26:58.615Z"
   },
   {
    "duration": 13,
    "start_time": "2023-07-27T11:26:58.664Z"
   },
   {
    "duration": 20,
    "start_time": "2023-07-27T11:26:58.679Z"
   },
   {
    "duration": 2052,
    "start_time": "2023-07-27T11:39:37.551Z"
   },
   {
    "duration": 946,
    "start_time": "2023-07-27T11:39:39.604Z"
   },
   {
    "duration": 15,
    "start_time": "2023-07-27T11:39:40.552Z"
   },
   {
    "duration": 129,
    "start_time": "2023-07-27T11:39:40.569Z"
   },
   {
    "duration": 167,
    "start_time": "2023-07-27T11:39:40.700Z"
   },
   {
    "duration": 937,
    "start_time": "2023-07-27T11:39:40.868Z"
   },
   {
    "duration": 106,
    "start_time": "2023-07-27T11:39:41.807Z"
   },
   {
    "duration": 478,
    "start_time": "2023-07-27T11:39:41.915Z"
   },
   {
    "duration": 4,
    "start_time": "2023-07-27T11:39:42.394Z"
   },
   {
    "duration": 17,
    "start_time": "2023-07-27T11:39:42.400Z"
   },
   {
    "duration": 70,
    "start_time": "2023-07-27T11:39:42.418Z"
   },
   {
    "duration": 19,
    "start_time": "2023-07-27T11:39:42.490Z"
   },
   {
    "duration": 151,
    "start_time": "2023-07-27T11:39:42.511Z"
   },
   {
    "duration": 104,
    "start_time": "2023-07-27T11:39:42.664Z"
   },
   {
    "duration": 35,
    "start_time": "2023-07-27T11:39:42.770Z"
   },
   {
    "duration": 5,
    "start_time": "2023-07-27T11:39:42.807Z"
   },
   {
    "duration": 38,
    "start_time": "2023-07-27T11:39:42.813Z"
   },
   {
    "duration": 60,
    "start_time": "2023-07-27T11:39:42.852Z"
   },
   {
    "duration": 34,
    "start_time": "2023-07-27T11:39:42.914Z"
   },
   {
    "duration": 199,
    "start_time": "2023-07-27T11:39:42.949Z"
   },
   {
    "duration": 378,
    "start_time": "2023-07-27T11:39:43.149Z"
   },
   {
    "duration": 80,
    "start_time": "2023-07-27T11:39:43.528Z"
   },
   {
    "duration": 50,
    "start_time": "2023-07-27T11:39:43.610Z"
   },
   {
    "duration": 19,
    "start_time": "2023-07-27T11:39:43.661Z"
   },
   {
    "duration": 27,
    "start_time": "2023-07-27T11:39:43.681Z"
   },
   {
    "duration": 58,
    "start_time": "2023-07-27T11:39:43.710Z"
   },
   {
    "duration": 34,
    "start_time": "2023-07-27T11:39:43.769Z"
   },
   {
    "duration": 45,
    "start_time": "2023-07-27T11:39:43.807Z"
   },
   {
    "duration": 21,
    "start_time": "2023-07-27T11:39:43.853Z"
   },
   {
    "duration": 15,
    "start_time": "2023-07-27T11:39:43.876Z"
   },
   {
    "duration": 268,
    "start_time": "2023-07-27T11:39:43.892Z"
   },
   {
    "duration": 241,
    "start_time": "2023-07-27T11:39:44.161Z"
   },
   {
    "duration": 82,
    "start_time": "2023-07-27T11:39:44.403Z"
   },
   {
    "duration": 24,
    "start_time": "2023-07-27T11:39:44.486Z"
   },
   {
    "duration": 45,
    "start_time": "2023-07-27T11:39:44.511Z"
   },
   {
    "duration": 53,
    "start_time": "2023-07-27T11:39:44.558Z"
   },
   {
    "duration": 61,
    "start_time": "2023-07-27T11:39:44.613Z"
   },
   {
    "duration": 25,
    "start_time": "2023-07-27T11:39:44.676Z"
   },
   {
    "duration": 16,
    "start_time": "2023-07-27T11:39:44.702Z"
   },
   {
    "duration": 102,
    "start_time": "2023-07-27T11:39:44.722Z"
   },
   {
    "duration": 31,
    "start_time": "2023-07-27T11:39:44.825Z"
   },
   {
    "duration": 119,
    "start_time": "2023-07-27T11:39:44.858Z"
   },
   {
    "duration": 15,
    "start_time": "2023-07-27T11:39:44.979Z"
   },
   {
    "duration": 16,
    "start_time": "2023-07-27T11:39:44.996Z"
   },
   {
    "duration": 67,
    "start_time": "2023-07-27T11:39:45.020Z"
   },
   {
    "duration": 83,
    "start_time": "2023-07-27T11:39:45.089Z"
   },
   {
    "duration": 134,
    "start_time": "2023-07-27T11:39:45.174Z"
   },
   {
    "duration": 371,
    "start_time": "2023-07-27T11:39:45.310Z"
   },
   {
    "duration": 204,
    "start_time": "2023-07-27T11:39:45.683Z"
   },
   {
    "duration": 110,
    "start_time": "2023-07-27T11:39:45.888Z"
   },
   {
    "duration": 3,
    "start_time": "2023-07-27T11:39:46.000Z"
   },
   {
    "duration": 34,
    "start_time": "2023-07-27T11:39:46.005Z"
   },
   {
    "duration": 12,
    "start_time": "2023-07-27T11:39:46.041Z"
   },
   {
    "duration": 6,
    "start_time": "2023-07-27T11:39:46.055Z"
   },
   {
    "duration": 6,
    "start_time": "2023-07-27T11:39:46.062Z"
   },
   {
    "duration": 8,
    "start_time": "2023-07-27T11:39:46.069Z"
   },
   {
    "duration": 11,
    "start_time": "2023-07-27T11:39:46.078Z"
   },
   {
    "duration": 6,
    "start_time": "2023-07-27T11:39:46.090Z"
   },
   {
    "duration": 5,
    "start_time": "2023-07-27T11:39:46.097Z"
   },
   {
    "duration": 7,
    "start_time": "2023-07-27T11:39:46.103Z"
   },
   {
    "duration": 23,
    "start_time": "2023-07-27T11:39:46.111Z"
   },
   {
    "duration": 8,
    "start_time": "2023-07-27T11:39:46.135Z"
   },
   {
    "duration": 11,
    "start_time": "2023-07-27T11:39:46.145Z"
   },
   {
    "duration": 6,
    "start_time": "2023-07-27T11:39:46.157Z"
   },
   {
    "duration": 8,
    "start_time": "2023-07-27T11:39:46.164Z"
   },
   {
    "duration": 9,
    "start_time": "2023-07-27T11:39:46.173Z"
   },
   {
    "duration": 7,
    "start_time": "2023-07-27T11:39:46.184Z"
   },
   {
    "duration": 9,
    "start_time": "2023-07-27T11:39:46.192Z"
   },
   {
    "duration": 5,
    "start_time": "2023-07-27T11:39:46.202Z"
   },
   {
    "duration": 4,
    "start_time": "2023-07-27T11:39:46.209Z"
   },
   {
    "duration": 25,
    "start_time": "2023-07-27T11:39:46.215Z"
   },
   {
    "duration": 20,
    "start_time": "2023-07-27T11:39:46.247Z"
   },
   {
    "duration": 1012358,
    "start_time": "2023-07-27T11:39:46.268Z"
   },
   {
    "duration": 190,
    "start_time": "2023-07-27T11:56:38.652Z"
   },
   {
    "duration": 10,
    "start_time": "2023-07-27T11:57:23.072Z"
   },
   {
    "duration": 1538,
    "start_time": "2023-07-27T12:18:23.965Z"
   },
   {
    "duration": 1141,
    "start_time": "2023-07-27T12:18:25.505Z"
   },
   {
    "duration": 23,
    "start_time": "2023-07-27T12:18:26.650Z"
   },
   {
    "duration": 142,
    "start_time": "2023-07-27T12:18:26.676Z"
   },
   {
    "duration": 224,
    "start_time": "2023-07-27T12:18:26.820Z"
   },
   {
    "duration": 915,
    "start_time": "2023-07-27T12:18:27.051Z"
   },
   {
    "duration": 92,
    "start_time": "2023-07-27T12:18:27.968Z"
   },
   {
    "duration": 457,
    "start_time": "2023-07-27T12:18:28.062Z"
   },
   {
    "duration": 4,
    "start_time": "2023-07-27T12:18:28.526Z"
   },
   {
    "duration": 15,
    "start_time": "2023-07-27T12:18:28.541Z"
   },
   {
    "duration": 32,
    "start_time": "2023-07-27T12:18:28.558Z"
   },
   {
    "duration": 17,
    "start_time": "2023-07-27T12:18:28.592Z"
   },
   {
    "duration": 147,
    "start_time": "2023-07-27T12:18:28.611Z"
   },
   {
    "duration": 97,
    "start_time": "2023-07-27T12:18:28.759Z"
   },
   {
    "duration": 37,
    "start_time": "2023-07-27T12:18:28.858Z"
   },
   {
    "duration": 6,
    "start_time": "2023-07-27T12:18:28.897Z"
   },
   {
    "duration": 30,
    "start_time": "2023-07-27T12:18:28.925Z"
   },
   {
    "duration": 60,
    "start_time": "2023-07-27T12:18:28.957Z"
   },
   {
    "duration": 28,
    "start_time": "2023-07-27T12:18:29.019Z"
   },
   {
    "duration": 200,
    "start_time": "2023-07-27T12:18:29.050Z"
   },
   {
    "duration": 388,
    "start_time": "2023-07-27T12:18:29.253Z"
   },
   {
    "duration": 75,
    "start_time": "2023-07-27T12:18:29.643Z"
   },
   {
    "duration": 46,
    "start_time": "2023-07-27T12:18:29.720Z"
   },
   {
    "duration": 25,
    "start_time": "2023-07-27T12:18:29.768Z"
   },
   {
    "duration": 52,
    "start_time": "2023-07-27T12:18:29.795Z"
   },
   {
    "duration": 68,
    "start_time": "2023-07-27T12:18:29.849Z"
   },
   {
    "duration": 87,
    "start_time": "2023-07-27T12:18:29.918Z"
   },
   {
    "duration": 100,
    "start_time": "2023-07-27T12:18:30.010Z"
   },
   {
    "duration": 69,
    "start_time": "2023-07-27T12:18:30.111Z"
   },
   {
    "duration": 116,
    "start_time": "2023-07-27T12:18:30.182Z"
   },
   {
    "duration": 336,
    "start_time": "2023-07-27T12:18:30.300Z"
   },
   {
    "duration": 254,
    "start_time": "2023-07-27T12:18:30.639Z"
   },
   {
    "duration": 96,
    "start_time": "2023-07-27T12:18:30.895Z"
   },
   {
    "duration": 37,
    "start_time": "2023-07-27T12:18:30.993Z"
   },
   {
    "duration": 45,
    "start_time": "2023-07-27T12:18:31.043Z"
   },
   {
    "duration": 31,
    "start_time": "2023-07-27T12:18:31.090Z"
   },
   {
    "duration": 41,
    "start_time": "2023-07-27T12:18:31.134Z"
   },
   {
    "duration": 29,
    "start_time": "2023-07-27T12:18:31.176Z"
   },
   {
    "duration": 38,
    "start_time": "2023-07-27T12:18:31.207Z"
   },
   {
    "duration": 138,
    "start_time": "2023-07-27T12:18:31.247Z"
   },
   {
    "duration": 55,
    "start_time": "2023-07-27T12:18:31.386Z"
   },
   {
    "duration": 124,
    "start_time": "2023-07-27T12:18:31.443Z"
   },
   {
    "duration": 15,
    "start_time": "2023-07-27T12:18:31.568Z"
   },
   {
    "duration": 47,
    "start_time": "2023-07-27T12:18:31.585Z"
   },
   {
    "duration": 52,
    "start_time": "2023-07-27T12:18:31.641Z"
   },
   {
    "duration": 78,
    "start_time": "2023-07-27T12:18:31.694Z"
   },
   {
    "duration": 114,
    "start_time": "2023-07-27T12:18:31.773Z"
   },
   {
    "duration": 271,
    "start_time": "2023-07-27T12:18:31.888Z"
   },
   {
    "duration": 214,
    "start_time": "2023-07-27T12:18:32.160Z"
   },
   {
    "duration": 165,
    "start_time": "2023-07-27T12:18:32.376Z"
   },
   {
    "duration": 8,
    "start_time": "2023-07-27T12:18:32.556Z"
   },
   {
    "duration": 45,
    "start_time": "2023-07-27T12:18:32.565Z"
   },
   {
    "duration": 92,
    "start_time": "2023-07-27T12:18:32.611Z"
   },
   {
    "duration": 125623,
    "start_time": "2023-07-27T12:18:32.705Z"
   },
   {
    "duration": 3390,
    "start_time": "2023-07-27T12:20:38.337Z"
   },
   {
    "duration": 15,
    "start_time": "2023-07-27T12:20:41.745Z"
   },
   {
    "duration": 62,
    "start_time": "2023-07-27T12:20:41.765Z"
   },
   {
    "duration": 816878,
    "start_time": "2023-07-27T12:20:41.832Z"
   },
   {
    "duration": 19536,
    "start_time": "2023-07-27T12:34:18.711Z"
   },
   {
    "duration": 32,
    "start_time": "2023-07-27T12:34:38.250Z"
   },
   {
    "duration": 193,
    "start_time": "2023-07-27T12:34:38.286Z"
   },
   {
    "duration": 0,
    "start_time": "2023-07-27T12:34:38.481Z"
   },
   {
    "duration": 0,
    "start_time": "2023-07-27T12:34:38.482Z"
   },
   {
    "duration": 0,
    "start_time": "2023-07-27T12:34:38.483Z"
   },
   {
    "duration": 0,
    "start_time": "2023-07-27T12:34:38.485Z"
   },
   {
    "duration": 0,
    "start_time": "2023-07-27T12:34:38.486Z"
   },
   {
    "duration": 0,
    "start_time": "2023-07-27T12:34:38.488Z"
   },
   {
    "duration": 0,
    "start_time": "2023-07-27T12:34:38.489Z"
   },
   {
    "duration": 0,
    "start_time": "2023-07-27T12:34:38.490Z"
   },
   {
    "duration": 0,
    "start_time": "2023-07-27T12:34:38.491Z"
   },
   {
    "duration": 0,
    "start_time": "2023-07-27T12:34:38.493Z"
   },
   {
    "duration": 0,
    "start_time": "2023-07-27T12:34:38.494Z"
   },
   {
    "duration": 0,
    "start_time": "2023-07-27T12:34:38.496Z"
   },
   {
    "duration": 0,
    "start_time": "2023-07-27T12:34:38.497Z"
   },
   {
    "duration": 0,
    "start_time": "2023-07-27T12:34:38.498Z"
   },
   {
    "duration": 3,
    "start_time": "2023-07-27T12:41:10.454Z"
   },
   {
    "duration": 3,
    "start_time": "2023-07-27T12:41:18.351Z"
   },
   {
    "duration": 484,
    "start_time": "2023-07-27T12:41:18.363Z"
   },
   {
    "duration": 26,
    "start_time": "2023-07-27T12:41:18.850Z"
   },
   {
    "duration": 0,
    "start_time": "2023-07-27T12:41:18.879Z"
   },
   {
    "duration": 0,
    "start_time": "2023-07-27T12:41:18.884Z"
   },
   {
    "duration": 0,
    "start_time": "2023-07-27T12:41:18.886Z"
   },
   {
    "duration": 0,
    "start_time": "2023-07-27T12:41:18.887Z"
   },
   {
    "duration": 0,
    "start_time": "2023-07-27T12:41:18.889Z"
   },
   {
    "duration": 0,
    "start_time": "2023-07-27T12:41:18.890Z"
   },
   {
    "duration": 0,
    "start_time": "2023-07-27T12:41:18.891Z"
   },
   {
    "duration": 0,
    "start_time": "2023-07-27T12:41:18.893Z"
   },
   {
    "duration": 0,
    "start_time": "2023-07-27T12:41:18.894Z"
   },
   {
    "duration": 0,
    "start_time": "2023-07-27T12:41:18.895Z"
   },
   {
    "duration": 0,
    "start_time": "2023-07-27T12:41:18.897Z"
   },
   {
    "duration": 0,
    "start_time": "2023-07-27T12:41:18.898Z"
   },
   {
    "duration": 0,
    "start_time": "2023-07-27T12:41:18.899Z"
   },
   {
    "duration": 1913167,
    "start_time": "2023-07-27T12:41:35.909Z"
   },
   {
    "duration": 80664,
    "start_time": "2023-07-27T13:13:29.077Z"
   },
   {
    "duration": 102,
    "start_time": "2023-07-27T13:14:49.743Z"
   },
   {
    "duration": 3,
    "start_time": "2023-07-27T13:17:19.611Z"
   },
   {
    "duration": 4,
    "start_time": "2023-07-27T13:17:22.593Z"
   },
   {
    "duration": 1824,
    "start_time": "2023-07-27T14:24:07.587Z"
   },
   {
    "duration": 1181,
    "start_time": "2023-07-27T14:24:09.413Z"
   },
   {
    "duration": 47,
    "start_time": "2023-07-27T14:24:10.597Z"
   },
   {
    "duration": 173,
    "start_time": "2023-07-27T14:24:10.646Z"
   },
   {
    "duration": 236,
    "start_time": "2023-07-27T14:24:10.821Z"
   },
   {
    "duration": 1256,
    "start_time": "2023-07-27T14:24:11.062Z"
   },
   {
    "duration": 127,
    "start_time": "2023-07-27T14:24:12.346Z"
   },
   {
    "duration": 550,
    "start_time": "2023-07-27T14:24:12.479Z"
   },
   {
    "duration": 11,
    "start_time": "2023-07-27T14:24:13.034Z"
   },
   {
    "duration": 46,
    "start_time": "2023-07-27T14:24:13.056Z"
   },
   {
    "duration": 86,
    "start_time": "2023-07-27T14:24:13.104Z"
   },
   {
    "duration": 20,
    "start_time": "2023-07-27T14:24:13.192Z"
   },
   {
    "duration": 239,
    "start_time": "2023-07-27T14:24:13.214Z"
   },
   {
    "duration": 138,
    "start_time": "2023-07-27T14:24:13.455Z"
   },
   {
    "duration": 50,
    "start_time": "2023-07-27T14:24:13.595Z"
   },
   {
    "duration": 7,
    "start_time": "2023-07-27T14:24:13.647Z"
   },
   {
    "duration": 31,
    "start_time": "2023-07-27T14:24:13.655Z"
   },
   {
    "duration": 108,
    "start_time": "2023-07-27T14:24:13.688Z"
   },
   {
    "duration": 11,
    "start_time": "2023-07-27T14:24:13.798Z"
   },
   {
    "duration": 253,
    "start_time": "2023-07-27T14:24:13.811Z"
   },
   {
    "duration": 484,
    "start_time": "2023-07-27T14:24:14.065Z"
   },
   {
    "duration": 102,
    "start_time": "2023-07-27T14:24:14.551Z"
   },
   {
    "duration": 57,
    "start_time": "2023-07-27T14:24:14.658Z"
   },
   {
    "duration": 91,
    "start_time": "2023-07-27T14:24:14.718Z"
   },
   {
    "duration": 55,
    "start_time": "2023-07-27T14:24:14.811Z"
   },
   {
    "duration": 50,
    "start_time": "2023-07-27T14:24:14.868Z"
   },
   {
    "duration": 55,
    "start_time": "2023-07-27T14:24:14.924Z"
   },
   {
    "duration": 35,
    "start_time": "2023-07-27T14:24:14.983Z"
   },
   {
    "duration": 95,
    "start_time": "2023-07-27T14:24:15.021Z"
   },
   {
    "duration": 50,
    "start_time": "2023-07-27T14:24:15.118Z"
   },
   {
    "duration": 356,
    "start_time": "2023-07-27T14:24:15.173Z"
   },
   {
    "duration": 298,
    "start_time": "2023-07-27T14:24:15.533Z"
   },
   {
    "duration": 121,
    "start_time": "2023-07-27T14:24:15.837Z"
   },
   {
    "duration": 45,
    "start_time": "2023-07-27T14:24:15.963Z"
   },
   {
    "duration": 47,
    "start_time": "2023-07-27T14:24:16.010Z"
   },
   {
    "duration": 58,
    "start_time": "2023-07-27T14:24:16.059Z"
   },
   {
    "duration": 97,
    "start_time": "2023-07-27T14:24:16.119Z"
   },
   {
    "duration": 94,
    "start_time": "2023-07-27T14:24:16.218Z"
   },
   {
    "duration": 55,
    "start_time": "2023-07-27T14:24:16.314Z"
   },
   {
    "duration": 228,
    "start_time": "2023-07-27T14:24:16.373Z"
   },
   {
    "duration": 67,
    "start_time": "2023-07-27T14:24:16.603Z"
   },
   {
    "duration": 138,
    "start_time": "2023-07-27T14:24:16.685Z"
   },
   {
    "duration": 16,
    "start_time": "2023-07-27T14:24:16.824Z"
   },
   {
    "duration": 111,
    "start_time": "2023-07-27T14:24:16.842Z"
   },
   {
    "duration": 94,
    "start_time": "2023-07-27T14:24:16.955Z"
   },
   {
    "duration": 152,
    "start_time": "2023-07-27T14:24:17.054Z"
   },
   {
    "duration": 130,
    "start_time": "2023-07-27T14:24:17.207Z"
   },
   {
    "duration": 352,
    "start_time": "2023-07-27T14:24:17.345Z"
   },
   {
    "duration": 278,
    "start_time": "2023-07-27T14:24:17.713Z"
   },
   {
    "duration": 175,
    "start_time": "2023-07-27T14:24:17.993Z"
   },
   {
    "duration": 5,
    "start_time": "2023-07-27T14:24:18.172Z"
   },
   {
    "duration": 30,
    "start_time": "2023-07-27T14:24:18.179Z"
   },
   {
    "duration": 62,
    "start_time": "2023-07-27T14:24:18.211Z"
   },
   {
    "duration": 118397,
    "start_time": "2023-07-27T14:24:18.275Z"
   },
   {
    "duration": 2552,
    "start_time": "2023-07-27T14:26:16.681Z"
   },
   {
    "duration": 87,
    "start_time": "2023-07-27T14:26:19.242Z"
   },
   {
    "duration": 7,
    "start_time": "2023-07-27T14:26:19.334Z"
   },
   {
    "duration": 892838,
    "start_time": "2023-07-27T14:26:19.343Z"
   },
   {
    "duration": 22071,
    "start_time": "2023-07-27T14:41:12.190Z"
   },
   {
    "duration": 13,
    "start_time": "2023-07-27T14:41:34.267Z"
   },
   {
    "duration": 31,
    "start_time": "2023-07-27T14:41:34.282Z"
   },
   {
    "duration": 279493,
    "start_time": "2023-07-27T14:41:34.314Z"
   },
   {
    "duration": 7305,
    "start_time": "2023-07-27T14:46:13.808Z"
   },
   {
    "duration": 30,
    "start_time": "2023-07-27T14:46:21.115Z"
   },
   {
    "duration": 130,
    "start_time": "2023-07-27T14:46:21.147Z"
   },
   {
    "duration": 5,
    "start_time": "2023-07-27T14:46:21.279Z"
   },
   {
    "duration": 67,
    "start_time": "2023-07-27T14:46:21.286Z"
   },
   {
    "duration": 70,
    "start_time": "2023-07-28T12:24:47.272Z"
   },
   {
    "duration": 2148,
    "start_time": "2023-07-28T12:24:51.661Z"
   },
   {
    "duration": 28472,
    "start_time": "2023-07-28T12:25:12.853Z"
   },
   {
    "duration": 17,
    "start_time": "2023-07-28T12:25:47.801Z"
   },
   {
    "duration": 1627,
    "start_time": "2023-07-28T12:26:10.357Z"
   },
   {
    "duration": 1650,
    "start_time": "2023-07-28T12:26:14.597Z"
   },
   {
    "duration": 18,
    "start_time": "2023-07-28T12:27:58.651Z"
   },
   {
    "duration": 247,
    "start_time": "2023-07-28T12:28:01.547Z"
   },
   {
    "duration": 200,
    "start_time": "2023-07-28T12:28:07.917Z"
   },
   {
    "duration": 1199,
    "start_time": "2023-07-28T12:28:18.543Z"
   },
   {
    "duration": 83,
    "start_time": "2023-07-28T12:28:30.789Z"
   },
   {
    "duration": 471,
    "start_time": "2023-07-28T12:28:38.469Z"
   },
   {
    "duration": 4,
    "start_time": "2023-07-28T12:28:56.510Z"
   },
   {
    "duration": 4,
    "start_time": "2023-07-28T12:28:58.748Z"
   },
   {
    "duration": 31,
    "start_time": "2023-07-28T12:31:03.096Z"
   },
   {
    "duration": 18,
    "start_time": "2023-07-28T12:31:30.643Z"
   },
   {
    "duration": 157,
    "start_time": "2023-07-28T12:31:32.246Z"
   },
   {
    "duration": 44,
    "start_time": "2023-07-28T12:31:50.766Z"
   },
   {
    "duration": 32,
    "start_time": "2023-07-28T12:32:00.639Z"
   },
   {
    "duration": 30,
    "start_time": "2023-07-28T12:32:51.296Z"
   },
   {
    "duration": 20,
    "start_time": "2023-07-28T12:33:02.760Z"
   },
   {
    "duration": 24,
    "start_time": "2023-07-28T12:33:39.964Z"
   },
   {
    "duration": 31,
    "start_time": "2023-07-28T12:34:01.544Z"
   },
   {
    "duration": 40,
    "start_time": "2023-07-28T12:34:07.636Z"
   },
   {
    "duration": 24,
    "start_time": "2023-07-28T12:34:15.087Z"
   },
   {
    "duration": 24,
    "start_time": "2023-07-28T12:42:30.321Z"
   },
   {
    "duration": 1560,
    "start_time": "2023-07-28T13:18:13.143Z"
   },
   {
    "duration": 948,
    "start_time": "2023-07-28T13:18:14.705Z"
   },
   {
    "duration": 21,
    "start_time": "2023-07-28T13:18:15.655Z"
   },
   {
    "duration": 144,
    "start_time": "2023-07-28T13:18:15.679Z"
   },
   {
    "duration": 160,
    "start_time": "2023-07-28T13:18:15.825Z"
   },
   {
    "duration": 932,
    "start_time": "2023-07-28T13:18:15.987Z"
   },
   {
    "duration": 81,
    "start_time": "2023-07-28T13:18:16.920Z"
   },
   {
    "duration": 446,
    "start_time": "2023-07-28T13:18:17.002Z"
   },
   {
    "duration": 4,
    "start_time": "2023-07-28T13:18:17.450Z"
   },
   {
    "duration": 8,
    "start_time": "2023-07-28T13:18:17.456Z"
   },
   {
    "duration": 35,
    "start_time": "2023-07-28T13:18:24.613Z"
   },
   {
    "duration": 26,
    "start_time": "2023-07-28T13:21:49.818Z"
   },
   {
    "duration": 29,
    "start_time": "2023-07-28T13:22:05.234Z"
   },
   {
    "duration": 17,
    "start_time": "2023-07-28T13:27:24.464Z"
   },
   {
    "duration": 120,
    "start_time": "2023-07-28T13:27:32.059Z"
   },
   {
    "duration": 18,
    "start_time": "2023-07-28T13:27:46.116Z"
   },
   {
    "duration": 19,
    "start_time": "2023-07-28T13:27:53.555Z"
   },
   {
    "duration": 15,
    "start_time": "2023-07-28T13:28:11.134Z"
   },
   {
    "duration": 27,
    "start_time": "2023-07-28T13:28:15.956Z"
   },
   {
    "duration": 28,
    "start_time": "2023-07-28T13:28:51.697Z"
   },
   {
    "duration": 27,
    "start_time": "2023-07-28T13:37:33.185Z"
   },
   {
    "duration": 31,
    "start_time": "2023-07-28T13:38:32.742Z"
   },
   {
    "duration": 18,
    "start_time": "2023-07-28T13:42:38.653Z"
   },
   {
    "duration": 180,
    "start_time": "2023-07-28T13:42:44.548Z"
   },
   {
    "duration": 90,
    "start_time": "2023-07-28T13:43:13.570Z"
   },
   {
    "duration": 68,
    "start_time": "2023-07-28T13:43:14.797Z"
   },
   {
    "duration": 6,
    "start_time": "2023-07-28T13:43:17.201Z"
   },
   {
    "duration": 5,
    "start_time": "2023-07-28T13:43:20.040Z"
   },
   {
    "duration": 88,
    "start_time": "2023-07-28T13:47:52.253Z"
   },
   {
    "duration": 11,
    "start_time": "2023-07-28T13:47:58.197Z"
   },
   {
    "duration": 2004,
    "start_time": "2023-07-28T13:49:05.509Z"
   },
   {
    "duration": 1070,
    "start_time": "2023-07-28T13:49:07.515Z"
   },
   {
    "duration": 15,
    "start_time": "2023-07-28T13:49:08.586Z"
   },
   {
    "duration": 138,
    "start_time": "2023-07-28T13:49:08.603Z"
   },
   {
    "duration": 167,
    "start_time": "2023-07-28T13:49:08.743Z"
   },
   {
    "duration": 953,
    "start_time": "2023-07-28T13:49:08.911Z"
   },
   {
    "duration": 83,
    "start_time": "2023-07-28T13:49:09.865Z"
   },
   {
    "duration": 425,
    "start_time": "2023-07-28T13:49:09.950Z"
   },
   {
    "duration": 3,
    "start_time": "2023-07-28T13:49:10.376Z"
   },
   {
    "duration": 10,
    "start_time": "2023-07-28T13:49:10.380Z"
   },
   {
    "duration": 39,
    "start_time": "2023-07-28T13:49:10.392Z"
   },
   {
    "duration": 32,
    "start_time": "2023-07-28T13:49:10.432Z"
   },
   {
    "duration": 17,
    "start_time": "2023-07-28T13:49:10.465Z"
   },
   {
    "duration": 159,
    "start_time": "2023-07-28T13:49:10.485Z"
   },
   {
    "duration": 100,
    "start_time": "2023-07-28T13:49:10.646Z"
   },
   {
    "duration": 36,
    "start_time": "2023-07-28T13:49:10.748Z"
   },
   {
    "duration": 21,
    "start_time": "2023-07-28T13:49:10.786Z"
   },
   {
    "duration": 37,
    "start_time": "2023-07-28T13:49:10.808Z"
   },
   {
    "duration": 60,
    "start_time": "2023-07-28T13:49:46.854Z"
   },
   {
    "duration": 11,
    "start_time": "2023-07-28T13:49:49.701Z"
   },
   {
    "duration": 155,
    "start_time": "2023-07-28T13:50:03.649Z"
   },
   {
    "duration": 297,
    "start_time": "2023-07-28T13:50:29.245Z"
   },
   {
    "duration": 70,
    "start_time": "2023-07-28T13:50:34.141Z"
   },
   {
    "duration": 28,
    "start_time": "2023-07-28T13:50:53.430Z"
   },
   {
    "duration": 18,
    "start_time": "2023-07-28T13:52:33.341Z"
   },
   {
    "duration": 26,
    "start_time": "2023-07-28T13:52:36.417Z"
   },
   {
    "duration": 27,
    "start_time": "2023-07-28T13:52:59.597Z"
   },
   {
    "duration": 1545,
    "start_time": "2023-07-28T13:53:13.497Z"
   },
   {
    "duration": 961,
    "start_time": "2023-07-28T13:53:15.045Z"
   },
   {
    "duration": 24,
    "start_time": "2023-07-28T13:53:16.007Z"
   },
   {
    "duration": 158,
    "start_time": "2023-07-28T13:53:16.033Z"
   },
   {
    "duration": 187,
    "start_time": "2023-07-28T13:53:16.194Z"
   },
   {
    "duration": 1078,
    "start_time": "2023-07-28T13:53:16.383Z"
   },
   {
    "duration": 90,
    "start_time": "2023-07-28T13:53:17.463Z"
   },
   {
    "duration": 488,
    "start_time": "2023-07-28T13:53:17.555Z"
   },
   {
    "duration": 3,
    "start_time": "2023-07-28T13:53:18.045Z"
   },
   {
    "duration": 18,
    "start_time": "2023-07-28T13:53:18.049Z"
   },
   {
    "duration": 56,
    "start_time": "2023-07-28T13:53:18.068Z"
   },
   {
    "duration": 31,
    "start_time": "2023-07-28T13:53:18.125Z"
   },
   {
    "duration": 15,
    "start_time": "2023-07-28T13:53:18.157Z"
   },
   {
    "duration": 152,
    "start_time": "2023-07-28T13:53:18.175Z"
   },
   {
    "duration": 85,
    "start_time": "2023-07-28T13:53:18.331Z"
   },
   {
    "duration": 45,
    "start_time": "2023-07-28T13:53:18.417Z"
   },
   {
    "duration": 5,
    "start_time": "2023-07-28T13:53:18.463Z"
   },
   {
    "duration": 9,
    "start_time": "2023-07-28T13:53:18.469Z"
   },
   {
    "duration": 77,
    "start_time": "2023-07-28T13:53:18.479Z"
   },
   {
    "duration": 10,
    "start_time": "2023-07-28T13:53:18.557Z"
   },
   {
    "duration": 163,
    "start_time": "2023-07-28T13:53:18.568Z"
   },
   {
    "duration": 322,
    "start_time": "2023-07-28T13:53:18.733Z"
   },
   {
    "duration": 78,
    "start_time": "2023-07-28T13:53:19.057Z"
   },
   {
    "duration": 27,
    "start_time": "2023-07-28T13:53:23.833Z"
   },
   {
    "duration": 19,
    "start_time": "2023-07-28T13:53:52.438Z"
   },
   {
    "duration": 45,
    "start_time": "2023-07-28T13:53:55.134Z"
   },
   {
    "duration": 28,
    "start_time": "2023-07-28T13:54:22.835Z"
   },
   {
    "duration": 29,
    "start_time": "2023-07-28T13:54:26.947Z"
   },
   {
    "duration": 29,
    "start_time": "2023-07-28T13:54:36.154Z"
   },
   {
    "duration": 3351,
    "start_time": "2023-07-29T10:10:39.190Z"
   },
   {
    "duration": 28882,
    "start_time": "2023-07-29T10:10:42.543Z"
   },
   {
    "duration": 18,
    "start_time": "2023-07-29T10:11:11.427Z"
   },
   {
    "duration": 142,
    "start_time": "2023-07-29T10:11:11.447Z"
   },
   {
    "duration": 412,
    "start_time": "2023-07-29T10:11:11.591Z"
   },
   {
    "duration": 2046,
    "start_time": "2023-07-29T10:11:12.004Z"
   },
   {
    "duration": 166,
    "start_time": "2023-07-29T10:11:14.051Z"
   },
   {
    "duration": 748,
    "start_time": "2023-07-29T10:11:14.219Z"
   },
   {
    "duration": 3,
    "start_time": "2023-07-29T10:11:14.969Z"
   },
   {
    "duration": 20,
    "start_time": "2023-07-29T10:11:14.974Z"
   },
   {
    "duration": 105,
    "start_time": "2023-07-29T10:11:14.996Z"
   },
   {
    "duration": 92,
    "start_time": "2023-07-29T10:11:15.103Z"
   },
   {
    "duration": 21,
    "start_time": "2023-07-29T10:11:15.196Z"
   },
   {
    "duration": 204,
    "start_time": "2023-07-29T10:11:15.218Z"
   },
   {
    "duration": 97,
    "start_time": "2023-07-29T10:11:15.424Z"
   },
   {
    "duration": 32,
    "start_time": "2023-07-29T10:11:15.523Z"
   },
   {
    "duration": 6,
    "start_time": "2023-07-29T10:11:15.557Z"
   },
   {
    "duration": 21,
    "start_time": "2023-07-29T10:11:15.564Z"
   },
   {
    "duration": 90,
    "start_time": "2023-07-29T10:11:15.587Z"
   },
   {
    "duration": 9,
    "start_time": "2023-07-29T10:11:15.679Z"
   },
   {
    "duration": 210,
    "start_time": "2023-07-29T10:11:15.690Z"
   },
   {
    "duration": 387,
    "start_time": "2023-07-29T10:11:15.902Z"
   },
   {
    "duration": 96,
    "start_time": "2023-07-29T10:11:16.291Z"
   },
   {
    "duration": 89,
    "start_time": "2023-07-29T10:11:16.388Z"
   },
   {
    "duration": 44,
    "start_time": "2023-07-29T10:11:16.479Z"
   },
   {
    "duration": 32,
    "start_time": "2023-07-29T10:11:16.524Z"
   },
   {
    "duration": 212,
    "start_time": "2023-07-29T10:11:16.557Z"
   },
   {
    "duration": 49,
    "start_time": "2023-07-29T10:11:16.773Z"
   },
   {
    "duration": 28,
    "start_time": "2023-07-29T10:11:16.831Z"
   },
   {
    "duration": 28,
    "start_time": "2023-07-29T10:11:16.860Z"
   },
   {
    "duration": 74,
    "start_time": "2023-07-29T10:11:16.890Z"
   },
   {
    "duration": 14,
    "start_time": "2023-07-29T10:11:16.965Z"
   },
   {
    "duration": 15,
    "start_time": "2023-07-29T10:11:16.981Z"
   },
   {
    "duration": 271,
    "start_time": "2023-07-29T10:11:16.998Z"
   },
   {
    "duration": 255,
    "start_time": "2023-07-29T10:11:17.270Z"
   },
   {
    "duration": 180,
    "start_time": "2023-07-29T10:11:17.533Z"
   },
   {
    "duration": 237,
    "start_time": "2023-07-29T10:11:17.714Z"
   },
   {
    "duration": 213,
    "start_time": "2023-07-29T10:11:17.952Z"
   },
   {
    "duration": 90,
    "start_time": "2023-07-29T10:11:18.167Z"
   },
   {
    "duration": 13,
    "start_time": "2023-07-29T10:11:18.258Z"
   },
   {
    "duration": 36,
    "start_time": "2023-07-29T10:11:18.272Z"
   },
   {
    "duration": 21,
    "start_time": "2023-07-29T10:11:18.309Z"
   },
   {
    "duration": 40,
    "start_time": "2023-07-29T10:11:18.332Z"
   },
   {
    "duration": 18,
    "start_time": "2023-07-29T10:11:18.373Z"
   },
   {
    "duration": 25,
    "start_time": "2023-07-29T10:11:18.393Z"
   },
   {
    "duration": 120,
    "start_time": "2023-07-29T10:11:18.420Z"
   },
   {
    "duration": 25,
    "start_time": "2023-07-29T10:11:18.542Z"
   },
   {
    "duration": 117,
    "start_time": "2023-07-29T10:11:18.569Z"
   },
   {
    "duration": 24,
    "start_time": "2023-07-29T10:11:18.688Z"
   },
   {
    "duration": 46,
    "start_time": "2023-07-29T10:11:18.714Z"
   },
   {
    "duration": 72,
    "start_time": "2023-07-29T10:11:18.762Z"
   },
   {
    "duration": 61,
    "start_time": "2023-07-29T10:11:18.836Z"
   },
   {
    "duration": 24,
    "start_time": "2023-07-29T10:11:18.902Z"
   },
   {
    "duration": 1009,
    "start_time": "2023-07-29T10:11:18.928Z"
   },
   {
    "duration": 7,
    "start_time": "2023-07-29T10:11:19.939Z"
   },
   {
    "duration": 25,
    "start_time": "2023-07-29T10:11:19.950Z"
   },
   {
    "duration": 283,
    "start_time": "2023-07-29T10:11:20.017Z"
   },
   {
    "duration": 288,
    "start_time": "2023-07-29T10:11:20.302Z"
   },
   {
    "duration": 4,
    "start_time": "2023-07-29T10:11:20.591Z"
   },
   {
    "duration": 47,
    "start_time": "2023-07-29T10:11:20.596Z"
   },
   {
    "duration": 7,
    "start_time": "2023-07-29T10:11:20.645Z"
   },
   {
    "duration": 317921,
    "start_time": "2023-07-29T10:11:20.653Z"
   },
   {
    "duration": 10,
    "start_time": "2023-07-29T10:16:38.576Z"
   },
   {
    "duration": 0,
    "start_time": "2023-07-29T10:16:38.588Z"
   },
   {
    "duration": 0,
    "start_time": "2023-07-29T10:16:38.590Z"
   },
   {
    "duration": 0,
    "start_time": "2023-07-29T10:16:38.591Z"
   },
   {
    "duration": 0,
    "start_time": "2023-07-29T10:16:38.592Z"
   },
   {
    "duration": 0,
    "start_time": "2023-07-29T10:16:38.593Z"
   },
   {
    "duration": 0,
    "start_time": "2023-07-29T10:16:38.594Z"
   },
   {
    "duration": 0,
    "start_time": "2023-07-29T10:16:38.595Z"
   },
   {
    "duration": 0,
    "start_time": "2023-07-29T10:16:38.597Z"
   },
   {
    "duration": 0,
    "start_time": "2023-07-29T10:16:38.597Z"
   },
   {
    "duration": 0,
    "start_time": "2023-07-29T10:16:38.598Z"
   },
   {
    "duration": 0,
    "start_time": "2023-07-29T10:16:38.600Z"
   },
   {
    "duration": 0,
    "start_time": "2023-07-29T10:16:38.600Z"
   },
   {
    "duration": 0,
    "start_time": "2023-07-29T10:16:38.601Z"
   },
   {
    "duration": 0,
    "start_time": "2023-07-29T10:16:38.602Z"
   },
   {
    "duration": 0,
    "start_time": "2023-07-29T10:16:38.603Z"
   },
   {
    "duration": 0,
    "start_time": "2023-07-29T10:16:38.605Z"
   }
  ],
  "kernelspec": {
   "display_name": "Python 3 (ipykernel)",
   "language": "python",
   "name": "python3"
  },
  "language_info": {
   "codemirror_mode": {
    "name": "ipython",
    "version": 3
   },
   "file_extension": ".py",
   "mimetype": "text/x-python",
   "name": "python",
   "nbconvert_exporter": "python",
   "pygments_lexer": "ipython3",
   "version": "3.11.2"
  },
  "toc": {
   "base_numbering": 1,
   "nav_menu": {},
   "number_sections": true,
   "sideBar": true,
   "skip_h1_title": true,
   "title_cell": "Содержание",
   "title_sidebar": "Contents",
   "toc_cell": true,
   "toc_position": {},
   "toc_section_display": true,
   "toc_window_display": true
  },
  "toc-autonumbering": false
 },
 "nbformat": 4,
 "nbformat_minor": 4
}
