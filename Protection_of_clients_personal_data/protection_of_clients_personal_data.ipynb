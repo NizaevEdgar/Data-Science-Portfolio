{
 "cells": [
  {
   "cell_type": "markdown",
   "metadata": {
    "toc": true
   },
   "source": [
    "<h1>Содержание<span class=\"tocSkip\"></span></h1>\n",
    "<div class=\"toc\"><ul class=\"toc-item\"><li><span><a href=\"#Загрузка-и-подготовка-данных\" data-toc-modified-id=\"Загрузка-и-подготовка-данных-1\"><span class=\"toc-item-num\">1&nbsp;&nbsp;</span>Загрузка и подготовка данных</a></span><ul class=\"toc-item\"><li><span><a href=\"#Считаем-данные-из-csv-файла-и-сохраним-в-переменную.\" data-toc-modified-id=\"Считаем-данные-из-csv-файла-и-сохраним-в-переменную.-1.1\"><span class=\"toc-item-num\">1.1&nbsp;&nbsp;</span>Считаем данные из csv-файла и сохраним в переменную.</a></span></li><li><span><a href=\"#Выведем-первые-5-строчек-и-общую-информацию-датасетов-на-экран.\" data-toc-modified-id=\"Выведем-первые-5-строчек-и-общую-информацию-датасетов-на-экран.-1.2\"><span class=\"toc-item-num\">1.2&nbsp;&nbsp;</span>Выведем первые 5 строчек и общую информацию датасетов на экран.</a></span></li><li><span><a href=\"#Проверим-наличие-дубликатов\" data-toc-modified-id=\"Проверим-наличие-дубликатов-1.3\"><span class=\"toc-item-num\">1.3&nbsp;&nbsp;</span>Проверим наличие дубликатов</a></span></li><li><span><a href=\"#Создадим-описательную-статистику-с-помощью-метода-describe()\" data-toc-modified-id=\"Создадим-описательную-статистику-с-помощью-метода-describe()-1.4\"><span class=\"toc-item-num\">1.4&nbsp;&nbsp;</span>Создадим описательную статистику с помощью метода <em>describe()</em></a></span></li><li><span><a href=\"#Проверим-корреляцию-методом-corr()\" data-toc-modified-id=\"Проверим-корреляцию-методом-corr()-1.5\"><span class=\"toc-item-num\">1.5&nbsp;&nbsp;</span>Проверим корреляцию методом <em>corr()</em></a></span></li></ul></li><li><span><a href=\"#Умножение-матриц\" data-toc-modified-id=\"Умножение-матриц-2\"><span class=\"toc-item-num\">2&nbsp;&nbsp;</span>Умножение матриц</a></span></li><li><span><a href=\"#Алгоритм-преобразования\" data-toc-modified-id=\"Алгоритм-преобразования-3\"><span class=\"toc-item-num\">3&nbsp;&nbsp;</span>Алгоритм преобразования</a></span></li><li><span><a href=\"#Проверка-алгоритма\" data-toc-modified-id=\"Проверка-алгоритма-4\"><span class=\"toc-item-num\">4&nbsp;&nbsp;</span>Проверка алгоритма</a></span><ul class=\"toc-item\"><li><span><a href=\"#Разобьем-данные-на-обучающую-и-тестовую-выборки\" data-toc-modified-id=\"Разобьем-данные-на-обучающую-и-тестовую-выборки-4.1\"><span class=\"toc-item-num\">4.1&nbsp;&nbsp;</span>Разобьем данные на обучающую и тестовую выборки</a></span></li><li><span><a href=\"#Выделим-признаки-и-целевой-признак\" data-toc-modified-id=\"Выделим-признаки-и-целевой-признак-4.2\"><span class=\"toc-item-num\">4.2&nbsp;&nbsp;</span>Выделим признаки и целевой признак</a></span></li><li><span><a href=\"#Обучим-модель-Линейной-регрессии-на-исходных-данных-и-найдем-значение-метрики-R2\" data-toc-modified-id=\"Обучим-модель-Линейной-регрессии-на-исходных-данных-и-найдем-значение-метрики-R2-4.3\"><span class=\"toc-item-num\">4.3&nbsp;&nbsp;</span>Обучим модель Линейной регрессии на исходных данных и найдем значение метрики <em>R2</em></a></span></li><li><span><a href=\"#Создадим-обратимую-матрицу\" data-toc-modified-id=\"Создадим-обратимую-матрицу-4.4\"><span class=\"toc-item-num\">4.4&nbsp;&nbsp;</span>Создадим обратимую матрицу</a></span></li><li><span><a href=\"#Умножим-признаки-на-созданную-случайную-матрицу\" data-toc-modified-id=\"Умножим-признаки-на-созданную-случайную-матрицу-4.5\"><span class=\"toc-item-num\">4.5&nbsp;&nbsp;</span>Умножим признаки на созданную случайную матрицу</a></span></li><li><span><a href=\"#Обучим-модель--Линейной-регрессии-на-преобразованных-данных-и-найдем-значение-метрики-R2\" data-toc-modified-id=\"Обучим-модель--Линейной-регрессии-на-преобразованных-данных-и-найдем-значение-метрики-R2-4.6\"><span class=\"toc-item-num\">4.6&nbsp;&nbsp;</span>Обучим модель  Линейной регрессии на преобразованных данных и найдем значение метрики <em>R2</em></a></span></li></ul></li><li><span><a href=\"#Общий-вывод\" data-toc-modified-id=\"Общий-вывод-5\"><span class=\"toc-item-num\">5&nbsp;&nbsp;</span>Общий вывод</a></span></li><li><span><a href=\"#Чек-лист-проверки\" data-toc-modified-id=\"Чек-лист-проверки-6\"><span class=\"toc-item-num\">6&nbsp;&nbsp;</span>Чек-лист проверки</a></span></li></ul></div>"
   ]
  },
  {
   "cell_type": "markdown",
   "metadata": {},
   "source": [
    "# Защита персональных данных клиентов"
   ]
  },
  {
   "cell_type": "markdown",
   "metadata": {},
   "source": [
    "**Цель:** защитить данные клиентов страховой компании. \n",
    "\n",
    "**Задача исследования:** разработать такой метод преобразования данных, чтобы по ним было сложно восстановить персональную информацию и обосновать корректность работы данного метода.\n",
    "\n",
    "Необходимо защитить данные таким образом, чтобы при преобразовании качество моделей машинного обучения не ухудшилось.\n",
    "\n",
    "Данные для исследования я получу из файла — `insurance.csv`. \n",
    "\n",
    "**Признаки:** пол, возраст и зарплата застрахованного лица, количество членов его семьи.\n",
    "\n",
    "**Целевой признак:** количество страховых выплат клиенту за последние 5 лет.\n",
    "\n",
    "**Ход исследования:**\n",
    "\n",
    "1. Загрузим и проведем предподготовку данных.\n",
    "2. Признаки умножим на обратимую матрицу. Ответим на вопрос: изменится ли качество Линейной регрессии?\n",
    "3. Предложим алгоритм преобразования данных для решения задачи.\n",
    "4. Проверим, что качество Линейной регрессии не отличается до и после преобразования.\n",
    "6. Напишем общие выводы."
   ]
  },
  {
   "cell_type": "markdown",
   "metadata": {},
   "source": [
    "## Загрузка и подготовка данных"
   ]
  },
  {
   "cell_type": "markdown",
   "metadata": {},
   "source": [
    "### Считаем данные из csv-файла и сохраним в переменную."
   ]
  },
  {
   "cell_type": "code",
   "execution_count": 1,
   "metadata": {},
   "outputs": [],
   "source": [
    "import pandas as pd\n",
    "import numpy as np\n",
    "import matplotlib.pyplot as plt\n",
    "from sklearn.metrics import r2_score\n",
    "from sklearn.linear_model import LinearRegression\n",
    "from sklearn.model_selection import train_test_split"
   ]
  },
  {
   "cell_type": "code",
   "execution_count": 2,
   "metadata": {},
   "outputs": [],
   "source": [
    "try:\n",
    "    data = pd.read_csv('insurance.csv')\n",
    "except:\n",
    "    data = pd.read_csv('/datasets/insurance.csv')\n",
    "else: \n",
    "    data = pd.read_csv('https://docs.google.com/spreadsheets/d/e/2PACX-1vR15icBsJTYre_L6XPgVMWz28Es8-ej_etWxjQfOXeZVEU1g_hFInj4KSArFD3gGU2j9GVdn0uFGVDL/pub?output=csv')"
   ]
  },
  {
   "cell_type": "markdown",
   "metadata": {},
   "source": [
    "### Выведем первые 5 строчек и общую информацию датасетов на экран."
   ]
  },
  {
   "cell_type": "code",
   "execution_count": 3,
   "metadata": {},
   "outputs": [
    {
     "data": {
      "text/html": [
       "<div>\n",
       "<style scoped>\n",
       "    .dataframe tbody tr th:only-of-type {\n",
       "        vertical-align: middle;\n",
       "    }\n",
       "\n",
       "    .dataframe tbody tr th {\n",
       "        vertical-align: top;\n",
       "    }\n",
       "\n",
       "    .dataframe thead th {\n",
       "        text-align: right;\n",
       "    }\n",
       "</style>\n",
       "<table border=\"1\" class=\"dataframe\">\n",
       "  <thead>\n",
       "    <tr style=\"text-align: right;\">\n",
       "      <th></th>\n",
       "      <th>Пол</th>\n",
       "      <th>Возраст</th>\n",
       "      <th>Зарплата</th>\n",
       "      <th>Члены семьи</th>\n",
       "      <th>Страховые выплаты</th>\n",
       "    </tr>\n",
       "  </thead>\n",
       "  <tbody>\n",
       "    <tr>\n",
       "      <th>0</th>\n",
       "      <td>1</td>\n",
       "      <td>41.0</td>\n",
       "      <td>49600.0</td>\n",
       "      <td>1</td>\n",
       "      <td>0</td>\n",
       "    </tr>\n",
       "    <tr>\n",
       "      <th>1</th>\n",
       "      <td>0</td>\n",
       "      <td>46.0</td>\n",
       "      <td>38000.0</td>\n",
       "      <td>1</td>\n",
       "      <td>1</td>\n",
       "    </tr>\n",
       "    <tr>\n",
       "      <th>2</th>\n",
       "      <td>0</td>\n",
       "      <td>29.0</td>\n",
       "      <td>21000.0</td>\n",
       "      <td>0</td>\n",
       "      <td>0</td>\n",
       "    </tr>\n",
       "    <tr>\n",
       "      <th>3</th>\n",
       "      <td>0</td>\n",
       "      <td>21.0</td>\n",
       "      <td>41700.0</td>\n",
       "      <td>2</td>\n",
       "      <td>0</td>\n",
       "    </tr>\n",
       "    <tr>\n",
       "      <th>4</th>\n",
       "      <td>1</td>\n",
       "      <td>28.0</td>\n",
       "      <td>26100.0</td>\n",
       "      <td>0</td>\n",
       "      <td>0</td>\n",
       "    </tr>\n",
       "  </tbody>\n",
       "</table>\n",
       "</div>"
      ],
      "text/plain": [
       "   Пол  Возраст  Зарплата  Члены семьи  Страховые выплаты\n",
       "0    1     41.0   49600.0            1                  0\n",
       "1    0     46.0   38000.0            1                  1\n",
       "2    0     29.0   21000.0            0                  0\n",
       "3    0     21.0   41700.0            2                  0\n",
       "4    1     28.0   26100.0            0                  0"
      ]
     },
     "execution_count": 3,
     "metadata": {},
     "output_type": "execute_result"
    }
   ],
   "source": [
    "data.head()"
   ]
  },
  {
   "cell_type": "code",
   "execution_count": 4,
   "metadata": {},
   "outputs": [
    {
     "name": "stdout",
     "output_type": "stream",
     "text": [
      "<class 'pandas.core.frame.DataFrame'>\n",
      "RangeIndex: 5000 entries, 0 to 4999\n",
      "Data columns (total 5 columns):\n",
      " #   Column             Non-Null Count  Dtype  \n",
      "---  ------             --------------  -----  \n",
      " 0   Пол                5000 non-null   int64  \n",
      " 1   Возраст            5000 non-null   float64\n",
      " 2   Зарплата           5000 non-null   float64\n",
      " 3   Члены семьи        5000 non-null   int64  \n",
      " 4   Страховые выплаты  5000 non-null   int64  \n",
      "dtypes: float64(2), int64(3)\n",
      "memory usage: 195.4 KB\n"
     ]
    }
   ],
   "source": [
    "data.info()"
   ]
  },
  {
   "cell_type": "code",
   "execution_count": 5,
   "metadata": {},
   "outputs": [
    {
     "data": {
      "image/png": "[encoded data removed]",
      "text/plain": [
       "<Figure size 1080x720 with 5 Axes>"
      ]
     },
     "metadata": {
      "needs_background": "light"
     },
     "output_type": "display_data"
    }
   ],
   "source": [
    "plt.figure(figsize=(15, 10))\n",
    "\n",
    "plt.subplot(2, 3, 1)\n",
    "plt.hist(data['Пол'], bins=50)\n",
    "plt.title(\"Пол\")\n",
    "\n",
    "plt.subplot(2, 3, 2)\n",
    "plt.hist(data['Возраст'], bins=50)\n",
    "plt.title(\"Возраст\")\n",
    "\n",
    "\n",
    "plt.subplot(2, 3, 3)\n",
    "plt.hist(data['Зарплата'], bins=50)\n",
    "plt.title(\"Зарплата\")\n",
    "\n",
    "\n",
    "plt.subplot(2, 3, 4)\n",
    "plt.hist(data['Члены семьи'], bins=50)\n",
    "plt.title(\"Члены семьи\")\n",
    "\n",
    "plt.subplot(2, 3, 5)\n",
    "plt.hist(data['Страховые выплаты'], bins=50)\n",
    "plt.title(\"Страховые выплаты\")\n",
    "\n",
    "plt.show()"
   ]
  },
  {
   "cell_type": "markdown",
   "metadata": {},
   "source": [
    "### Проверим наличие дубликатов"
   ]
  },
  {
   "cell_type": "code",
   "execution_count": 6,
   "metadata": {},
   "outputs": [
    {
     "name": "stdout",
     "output_type": "stream",
     "text": [
      "Количество дубликатов: 153\n"
     ]
    }
   ],
   "source": [
    "print('Количество дубликатов:', data.duplicated().sum())"
   ]
  },
  {
   "cell_type": "markdown",
   "metadata": {},
   "source": [
    "Возможен такой вариант, что есть люди с полностью одинаковыми данными, поэтому удалять дубликаты не будем, они никак не помешают дальнейшему исследованию. "
   ]
  },
  {
   "cell_type": "code",
   "execution_count": 7,
   "metadata": {},
   "outputs": [
    {
     "name": "stdout",
     "output_type": "stream",
     "text": [
      "Размер таблицы: (5000, 5)\n"
     ]
    }
   ],
   "source": [
    "print(\"Размер таблицы:\", data.shape)"
   ]
  },
  {
   "cell_type": "markdown",
   "metadata": {},
   "source": [
    "### Создадим описательную статистику с помощью метода *describe()*"
   ]
  },
  {
   "cell_type": "code",
   "execution_count": 8,
   "metadata": {},
   "outputs": [
    {
     "data": {
      "text/html": [
       "<div>\n",
       "<style scoped>\n",
       "    .dataframe tbody tr th:only-of-type {\n",
       "        vertical-align: middle;\n",
       "    }\n",
       "\n",
       "    .dataframe tbody tr th {\n",
       "        vertical-align: top;\n",
       "    }\n",
       "\n",
       "    .dataframe thead th {\n",
       "        text-align: right;\n",
       "    }\n",
       "</style>\n",
       "<table border=\"1\" class=\"dataframe\">\n",
       "  <thead>\n",
       "    <tr style=\"text-align: right;\">\n",
       "      <th></th>\n",
       "      <th>Пол</th>\n",
       "      <th>Возраст</th>\n",
       "      <th>Зарплата</th>\n",
       "      <th>Члены семьи</th>\n",
       "      <th>Страховые выплаты</th>\n",
       "    </tr>\n",
       "  </thead>\n",
       "  <tbody>\n",
       "    <tr>\n",
       "      <th>count</th>\n",
       "      <td>5000.000000</td>\n",
       "      <td>5000.000000</td>\n",
       "      <td>5000.000000</td>\n",
       "      <td>5000.000000</td>\n",
       "      <td>5000.000000</td>\n",
       "    </tr>\n",
       "    <tr>\n",
       "      <th>mean</th>\n",
       "      <td>0.499000</td>\n",
       "      <td>30.952800</td>\n",
       "      <td>39916.360000</td>\n",
       "      <td>1.194200</td>\n",
       "      <td>0.148000</td>\n",
       "    </tr>\n",
       "    <tr>\n",
       "      <th>std</th>\n",
       "      <td>0.500049</td>\n",
       "      <td>8.440807</td>\n",
       "      <td>9900.083569</td>\n",
       "      <td>1.091387</td>\n",
       "      <td>0.463183</td>\n",
       "    </tr>\n",
       "    <tr>\n",
       "      <th>min</th>\n",
       "      <td>0.000000</td>\n",
       "      <td>18.000000</td>\n",
       "      <td>5300.000000</td>\n",
       "      <td>0.000000</td>\n",
       "      <td>0.000000</td>\n",
       "    </tr>\n",
       "    <tr>\n",
       "      <th>25%</th>\n",
       "      <td>0.000000</td>\n",
       "      <td>24.000000</td>\n",
       "      <td>33300.000000</td>\n",
       "      <td>0.000000</td>\n",
       "      <td>0.000000</td>\n",
       "    </tr>\n",
       "    <tr>\n",
       "      <th>50%</th>\n",
       "      <td>0.000000</td>\n",
       "      <td>30.000000</td>\n",
       "      <td>40200.000000</td>\n",
       "      <td>1.000000</td>\n",
       "      <td>0.000000</td>\n",
       "    </tr>\n",
       "    <tr>\n",
       "      <th>75%</th>\n",
       "      <td>1.000000</td>\n",
       "      <td>37.000000</td>\n",
       "      <td>46600.000000</td>\n",
       "      <td>2.000000</td>\n",
       "      <td>0.000000</td>\n",
       "    </tr>\n",
       "    <tr>\n",
       "      <th>max</th>\n",
       "      <td>1.000000</td>\n",
       "      <td>65.000000</td>\n",
       "      <td>79000.000000</td>\n",
       "      <td>6.000000</td>\n",
       "      <td>5.000000</td>\n",
       "    </tr>\n",
       "  </tbody>\n",
       "</table>\n",
       "</div>"
      ],
      "text/plain": [
       "               Пол      Возраст      Зарплата  Члены семьи  Страховые выплаты\n",
       "count  5000.000000  5000.000000   5000.000000  5000.000000        5000.000000\n",
       "mean      0.499000    30.952800  39916.360000     1.194200           0.148000\n",
       "std       0.500049     8.440807   9900.083569     1.091387           0.463183\n",
       "min       0.000000    18.000000   5300.000000     0.000000           0.000000\n",
       "25%       0.000000    24.000000  33300.000000     0.000000           0.000000\n",
       "50%       0.000000    30.000000  40200.000000     1.000000           0.000000\n",
       "75%       1.000000    37.000000  46600.000000     2.000000           0.000000\n",
       "max       1.000000    65.000000  79000.000000     6.000000           5.000000"
      ]
     },
     "execution_count": 8,
     "metadata": {},
     "output_type": "execute_result"
    }
   ],
   "source": [
    "data.describe()"
   ]
  },
  {
   "cell_type": "markdown",
   "metadata": {},
   "source": [
    "### Проверим корреляцию методом *corr()*"
   ]
  },
  {
   "cell_type": "code",
   "execution_count": 9,
   "metadata": {},
   "outputs": [
    {
     "data": {
      "text/html": [
       "<div>\n",
       "<style scoped>\n",
       "    .dataframe tbody tr th:only-of-type {\n",
       "        vertical-align: middle;\n",
       "    }\n",
       "\n",
       "    .dataframe tbody tr th {\n",
       "        vertical-align: top;\n",
       "    }\n",
       "\n",
       "    .dataframe thead th {\n",
       "        text-align: right;\n",
       "    }\n",
       "</style>\n",
       "<table border=\"1\" class=\"dataframe\">\n",
       "  <thead>\n",
       "    <tr style=\"text-align: right;\">\n",
       "      <th></th>\n",
       "      <th>Пол</th>\n",
       "      <th>Возраст</th>\n",
       "      <th>Зарплата</th>\n",
       "      <th>Члены семьи</th>\n",
       "      <th>Страховые выплаты</th>\n",
       "    </tr>\n",
       "  </thead>\n",
       "  <tbody>\n",
       "    <tr>\n",
       "      <th>Пол</th>\n",
       "      <td>1.000000</td>\n",
       "      <td>0.002074</td>\n",
       "      <td>0.014910</td>\n",
       "      <td>-0.008991</td>\n",
       "      <td>0.010140</td>\n",
       "    </tr>\n",
       "    <tr>\n",
       "      <th>Возраст</th>\n",
       "      <td>0.002074</td>\n",
       "      <td>1.000000</td>\n",
       "      <td>-0.019093</td>\n",
       "      <td>-0.006692</td>\n",
       "      <td>0.651030</td>\n",
       "    </tr>\n",
       "    <tr>\n",
       "      <th>Зарплата</th>\n",
       "      <td>0.014910</td>\n",
       "      <td>-0.019093</td>\n",
       "      <td>1.000000</td>\n",
       "      <td>-0.030296</td>\n",
       "      <td>-0.014963</td>\n",
       "    </tr>\n",
       "    <tr>\n",
       "      <th>Члены семьи</th>\n",
       "      <td>-0.008991</td>\n",
       "      <td>-0.006692</td>\n",
       "      <td>-0.030296</td>\n",
       "      <td>1.000000</td>\n",
       "      <td>-0.036290</td>\n",
       "    </tr>\n",
       "    <tr>\n",
       "      <th>Страховые выплаты</th>\n",
       "      <td>0.010140</td>\n",
       "      <td>0.651030</td>\n",
       "      <td>-0.014963</td>\n",
       "      <td>-0.036290</td>\n",
       "      <td>1.000000</td>\n",
       "    </tr>\n",
       "  </tbody>\n",
       "</table>\n",
       "</div>"
      ],
      "text/plain": [
       "                        Пол   Возраст  Зарплата  Члены семьи  \\\n",
       "Пол                1.000000  0.002074  0.014910    -0.008991   \n",
       "Возраст            0.002074  1.000000 -0.019093    -0.006692   \n",
       "Зарплата           0.014910 -0.019093  1.000000    -0.030296   \n",
       "Члены семьи       -0.008991 -0.006692 -0.030296     1.000000   \n",
       "Страховые выплаты  0.010140  0.651030 -0.014963    -0.036290   \n",
       "\n",
       "                   Страховые выплаты  \n",
       "Пол                         0.010140  \n",
       "Возраст                     0.651030  \n",
       "Зарплата                   -0.014963  \n",
       "Члены семьи                -0.036290  \n",
       "Страховые выплаты           1.000000  "
      ]
     },
     "execution_count": 9,
     "metadata": {},
     "output_type": "execute_result"
    }
   ],
   "source": [
    "data.corr()"
   ]
  },
  {
   "cell_type": "markdown",
   "metadata": {},
   "source": [
    "**Вывод, исходя из общих данных таблицы `insurance.csv`:**\n",
    "\n",
    "1. Отсутствуют пропуски в данных.\n",
    "2. Таблица сбалансированна по Полу.\n",
    "3. Средний возраст застрахованных лиц 31 год. Минимальный возраст - 18 лет, максимальный - 65 лет.\n",
    "4. Средняя зарплата около 40 тыс.\n",
    "5. Большинство застрахованных лиц имеют 1 члена семьи либо 0. \n",
    "6. Большая часть застрахованных лиц не имела страховых выплат.\n",
    "7. Были найдены дубликаты, но они никак не помешают нам провести исследование по кодированию данных, поэтому их оставляем.\n",
    "8. Видим, что есть связь между *Возрастом* и *Страховыми выплатами*, корреляция порядка 0.65."
   ]
  },
  {
   "cell_type": "markdown",
   "metadata": {},
   "source": [
    "## Умножение матриц"
   ]
  },
  {
   "cell_type": "markdown",
   "metadata": {},
   "source": [
    "Обозначения:\n",
    "\n",
    "- $X$ — матрица признаков (нулевой столбец состоит из единиц)\n",
    "\n",
    "- $y$ — вектор целевого признака\n",
    "\n",
    "- $P$ — матрица, на которую умножаются признаки\n",
    "\n",
    "- $w$ — вектор весов линейной регрессии (нулевой элемент равен сдвигу)"
   ]
  },
  {
   "cell_type": "markdown",
   "metadata": {},
   "source": [
    "Предсказания:\n",
    "\n",
    "$$\n",
    "a = Xw\n",
    "$$\n",
    "\n",
    "Задача обучения:\n",
    "\n",
    "$$\n",
    "w = \\arg\\min_w MSE(Xw, y)\n",
    "$$\n",
    "\n",
    "Формула обучения:\n",
    "\n",
    "$$\n",
    "w = (X^T X)^{-1} X^T y\n",
    "$$"
   ]
  },
  {
   "cell_type": "markdown",
   "metadata": {},
   "source": [
    "**Вопрос:** Изменится ли качество линейной регрессии?\n",
    "\n",
    "**Ответ:** При умножении на обратимую матрицу качество модели не изменится - значение метрики остаётся прежним.\n",
    "\n",
    "**Обоснование №1:** \n",
    "\n",
    "1. Умножим матрицу признаков $X$ на cлучайную обратимую матрицу $P$ в формуле обучения:\n",
    "\n",
    "$$\n",
    "w_P = ((XP)^T) XP)^{-1} (XP)^T y\n",
    "$$\n",
    "\n",
    "2. Раскроем произведения в скобках:\n",
    "\n",
    "$$\n",
    "w_P = (P^T X^T XP)^{-1} P^T X^T y\n",
    "$$\n",
    "\n",
    "3. Сгруппируем множители:\n",
    "\n",
    "$$\n",
    "w_P = (P^T (X^T X) P)^{-1} P^T X^T y\n",
    "$$\n",
    "\n",
    "4. Раскроем скобки, возведем в степень (-1):\n",
    "\n",
    "$$\n",
    "w_P = P^{-1} (X^T X)^{-1} (P^T)^{-1} P^T X^T y\n",
    "$$\n",
    "\n",
    "\n",
    "5. Произведение $(P^T)^{-1} P^T$ равно единичной матрице. Если любую матрицу умножить на единичную (или наоборот), получится эта же матрица:\n",
    "\n",
    "$$\n",
    "w_P = P^{-1} (X^T X)^{-1} X^T y\n",
    "$$\n",
    "\n",
    "6. А произведение $(X^T X)^{-1} X^T y$ равно нашей начальной формуле обучения $w$, поэтому получаем:\n",
    "\n",
    "$$\n",
    "w_P = P^{-1} w\n",
    "$$\n",
    "\n",
    "7. Подставим новое значение в формулу для нахождения предсказаний для матрицы признаков $XP$:\n",
    "\n",
    "$$\n",
    "a_P = XP w_P = XP P^{-1} w\n",
    "$$\n",
    "\n",
    "8. Произведение $P P^{-1}$ равно единичной матрице. Получаем:\n",
    "\n",
    "$$\n",
    "a_P = X w = a\n",
    "$$\n",
    "\n",
    "**Значения предсказаний останутся прежними, соответственно и значения метрик совпадут.**"
   ]
  },
  {
   "cell_type": "markdown",
   "metadata": {},
   "source": [
    "**Обоснование №2:** \n",
    "\n",
    "Рассмотрим задачу обучения Линейной регрессии для функции потерь MSE:\n",
    "\n",
    "$$\n",
    "w = \\arg\\min_w MSE(Xw, y)\n",
    "$$\n",
    "\n",
    "Функция *argmin()* находит минимум и возвращает, при каком аргументе он был достигнут. Минимальное значение *MSE* получается, когда веса равны величине $w = (X^T X)^{-1} X^T y$\n",
    "\n",
    "1. Умножим матрицу признаков $𝑋$ на cлучайную обратимую матрицу $𝑃$ в задаче обучения:\n",
    "$$\n",
    "w_P = \\arg\\min_w MSE(XPw_p, y)\n",
    "$$\n",
    "\n",
    "$$\n",
    "w_P = ((XP)^T) XP)^{-1} (XP)^T y\n",
    "$$\n",
    "\n",
    "2. Из **Обоснования №1** получили, что $w_P = P^{-1} w$, подставим данное выражение в нашу задачу обучения:\n",
    "\n",
    "$$\n",
    "w_P = \\arg\\min_w MSE(X P P^{-1} w, y)\n",
    "$$\n",
    "\n",
    "3. Произведение $P P^{-1}$ равно единичной матрице. Получаем:\n",
    "\n",
    "$$\n",
    "w_P = \\arg\\min_w MSE(Xw, y) = w\n",
    "$$\n",
    "\n",
    "**Задача обучения также осталась прежней, соответственно и значения метрик совпадут в данном случае тоже.**"
   ]
  },
  {
   "cell_type": "markdown",
   "metadata": {},
   "source": [
    "## Алгоритм преобразования"
   ]
  },
  {
   "cell_type": "markdown",
   "metadata": {},
   "source": [
    "**Алгоритм:**\n",
    "\n",
    "1. Cоздать случайную матрицу с размерностью, равной числу признаков.\n",
    "2. Проверить случайную матрицу на обратимость. Матрица будет необратимой, если ее определитель равен нулю. Чтобы такого не допустить, напишем функцию, которая будет возвращать ненулевой определитель при помощи метода `numpy.linalg.det()` и формировать обратимую матрицу.\n",
    "3. Умножить признаки на случайную матрицу.\n",
    "4. Найти метрику *R2* на исходных и преобразованных данных и сравнить между собой."
   ]
  },
  {
   "cell_type": "markdown",
   "metadata": {},
   "source": [
    "**Обоснование:** ранее в пункте 2 мы доказали, что при умножении на обратимую матрицу качество модели не изменится - значение метрики остаётся прежним. Докажем это на практике."
   ]
  },
  {
   "cell_type": "markdown",
   "metadata": {},
   "source": [
    "## Проверка алгоритма"
   ]
  },
  {
   "cell_type": "markdown",
   "metadata": {},
   "source": [
    "### Разобьем данные на обучающую и тестовую выборки"
   ]
  },
  {
   "cell_type": "code",
   "execution_count": 10,
   "metadata": {},
   "outputs": [],
   "source": [
    "data_train, data_test = train_test_split(data, test_size=0.3, random_state=12345)"
   ]
  },
  {
   "cell_type": "code",
   "execution_count": 11,
   "metadata": {},
   "outputs": [
    {
     "name": "stdout",
     "output_type": "stream",
     "text": [
      "Размер обучающей выборки: (3500, 5)\n",
      "Размер тестовой выборки: (1500, 5)\n"
     ]
    }
   ],
   "source": [
    "print(\"Размер обучающей выборки:\", data_train.shape)\n",
    "print(\"Размер тестовой выборки:\", data_test.shape)"
   ]
  },
  {
   "cell_type": "markdown",
   "metadata": {},
   "source": [
    "### Выделим признаки и целевой признак"
   ]
  },
  {
   "cell_type": "code",
   "execution_count": 12,
   "metadata": {},
   "outputs": [],
   "source": [
    "features_train = data_train.drop('Страховые выплаты', axis=1)\n",
    "target_train = data_train['Страховые выплаты']\n",
    "\n",
    "features_test = data_test.drop('Страховые выплаты', axis=1)\n",
    "target_test= data_test['Страховые выплаты']"
   ]
  },
  {
   "cell_type": "code",
   "execution_count": 13,
   "metadata": {},
   "outputs": [
    {
     "name": "stdout",
     "output_type": "stream",
     "text": [
      "Размер обучающей выборки (признак): (3500, 4)\n",
      "Размер тестовой выборки (признак): (1500, 4)\n",
      "Размер обучающей выборки (целевой признак): (3500,)\n",
      "Размер тестовой выборки (целевой признак): (1500,)\n"
     ]
    }
   ],
   "source": [
    "print(\"Размер обучающей выборки (признак):\", features_train.shape)\n",
    "print(\"Размер тестовой выборки (признак):\", features_test.shape)\n",
    "print(\"Размер обучающей выборки (целевой признак):\", target_train.shape)\n",
    "print(\"Размер тестовой выборки (целевой признак):\", target_test.shape)"
   ]
  },
  {
   "cell_type": "markdown",
   "metadata": {},
   "source": [
    "### Обучим модель Линейной регрессии на исходных данных и найдем значение метрики *R2*"
   ]
  },
  {
   "cell_type": "code",
   "execution_count": 14,
   "metadata": {},
   "outputs": [
    {
     "name": "stdout",
     "output_type": "stream",
     "text": [
      "Метрика R2 для Линейной регрессии (исходные данные): 0.4305278542485165\n"
     ]
    }
   ],
   "source": [
    "model = LinearRegression() \n",
    "model.fit(features_train, target_train) \n",
    "predictions = model.predict(features_test) \n",
    "r2 = r2_score(target_test, predictions)\n",
    "print(\"Метрика R2 для Линейной регрессии (исходные данные):\", r2)"
   ]
  },
  {
   "cell_type": "markdown",
   "metadata": {},
   "source": [
    "### Создадим обратимую матрицу"
   ]
  },
  {
   "cell_type": "markdown",
   "metadata": {},
   "source": [
    "Создадим обратимую матрицу с размерностью, равной числу признаков. Для этого будем генерировать случайную матрицу функцией `numpy.random.normal()`. Напишем функцию, которая будет возвращать ненулевой определитель при помощи метода `numpy.linalg.det()` и формировать обратимую матрицу."
   ]
  },
  {
   "cell_type": "code",
   "execution_count": 16,
   "metadata": {},
   "outputs": [],
   "source": [
    "def get_rand_matrix():\n",
    "    det = 0\n",
    "    while det == 0:\n",
    "        matrix = np.random.normal(size=(features_test.shape[1], features_test.shape[1]))\n",
    "        det = np.linalg.det(matrix)\n",
    "    return matrix"
   ]
  },
  {
   "cell_type": "code",
   "execution_count": 17,
   "metadata": {},
   "outputs": [
    {
     "data": {
      "text/plain": [
       "array([[ 0.64726409, -1.12087223,  0.24628542, -0.78588853],\n",
       "       [-0.82934249, -0.71617893, -1.40466787, -1.423913  ],\n",
       "       [ 1.16001864, -1.14496768,  0.57683525,  0.79214446],\n",
       "       [ 1.08632124,  0.78760533,  1.33921627,  0.7507229 ]])"
      ]
     },
     "execution_count": 17,
     "metadata": {},
     "output_type": "execute_result"
    }
   ],
   "source": [
    "random_matrix = get_rand_matrix()\n",
    "random_matrix"
   ]
  },
  {
   "cell_type": "markdown",
   "metadata": {},
   "source": [
    "Чтобы найти обратную матрицу, вызовем функцию `numpy.linalg.inv()`."
   ]
  },
  {
   "cell_type": "code",
   "execution_count": 18,
   "metadata": {},
   "outputs": [
    {
     "data": {
      "text/plain": [
       "array([[-1.06661982e+00,  2.34621801e+00,  1.08335817e+00,\n",
       "         2.19040856e+00],\n",
       "       [-6.99662925e-01,  1.01417281e+00, -1.98707585e-03,\n",
       "         1.19326429e+00],\n",
       "       [ 1.63568468e+00, -2.35778717e+00, -1.17326220e+00,\n",
       "        -1.52176629e+00],\n",
       "       [-6.40430097e-01, -2.52992717e-01,  5.27414141e-01,\n",
       "        -3.74751430e-01]])"
      ]
     },
     "execution_count": 18,
     "metadata": {},
     "output_type": "execute_result"
    }
   ],
   "source": [
    "random_matrix_inv = np.linalg.inv(random_matrix)\n",
    "random_matrix_inv"
   ]
  },
  {
   "cell_type": "markdown",
   "metadata": {},
   "source": [
    "### Умножим признаки на созданную случайную матрицу"
   ]
  },
  {
   "cell_type": "code",
   "execution_count": 19,
   "metadata": {},
   "outputs": [
    {
     "data": {
      "text/html": [
       "<div>\n",
       "<style scoped>\n",
       "    .dataframe tbody tr th:only-of-type {\n",
       "        vertical-align: middle;\n",
       "    }\n",
       "\n",
       "    .dataframe tbody tr th {\n",
       "        vertical-align: top;\n",
       "    }\n",
       "\n",
       "    .dataframe thead th {\n",
       "        text-align: right;\n",
       "    }\n",
       "</style>\n",
       "<table border=\"1\" class=\"dataframe\">\n",
       "  <thead>\n",
       "    <tr style=\"text-align: right;\">\n",
       "      <th></th>\n",
       "      <th>0</th>\n",
       "      <th>1</th>\n",
       "      <th>2</th>\n",
       "      <th>3</th>\n",
       "    </tr>\n",
       "  </thead>\n",
       "  <tbody>\n",
       "    <tr>\n",
       "      <th>509</th>\n",
       "      <td>23408.325529</td>\n",
       "      <td>-23149.116231</td>\n",
       "      <td>11611.336751</td>\n",
       "      <td>15960.024647</td>\n",
       "    </tr>\n",
       "    <tr>\n",
       "      <th>3847</th>\n",
       "      <td>43240.182119</td>\n",
       "      <td>-42732.217701</td>\n",
       "      <td>21466.660674</td>\n",
       "      <td>29495.805082</td>\n",
       "    </tr>\n",
       "    <tr>\n",
       "      <th>3417</th>\n",
       "      <td>37442.576963</td>\n",
       "      <td>-37005.230787</td>\n",
       "      <td>18586.698410</td>\n",
       "      <td>25539.354513</td>\n",
       "    </tr>\n",
       "    <tr>\n",
       "      <th>382</th>\n",
       "      <td>53100.730816</td>\n",
       "      <td>-52465.635240</td>\n",
       "      <td>26370.072065</td>\n",
       "      <td>36228.920307</td>\n",
       "    </tr>\n",
       "    <tr>\n",
       "      <th>1345</th>\n",
       "      <td>43352.352655</td>\n",
       "      <td>-42849.722037</td>\n",
       "      <td>21518.856431</td>\n",
       "      <td>29570.670257</td>\n",
       "    </tr>\n",
       "  </tbody>\n",
       "</table>\n",
       "</div>"
      ],
      "text/plain": [
       "                 0             1             2             3\n",
       "509   23408.325529 -23149.116231  11611.336751  15960.024647\n",
       "3847  43240.182119 -42732.217701  21466.660674  29495.805082\n",
       "3417  37442.576963 -37005.230787  18586.698410  25539.354513\n",
       "382   53100.730816 -52465.635240  26370.072065  36228.920307\n",
       "1345  43352.352655 -42849.722037  21518.856431  29570.670257"
      ]
     },
     "execution_count": 19,
     "metadata": {},
     "output_type": "execute_result"
    }
   ],
   "source": [
    "features_train_new = features_train @ random_matrix\n",
    "features_test_new = features_test @ random_matrix\n",
    "\n",
    "features_train_new.head()"
   ]
  },
  {
   "cell_type": "markdown",
   "metadata": {},
   "source": [
    "**Расшифровать данные можно, умножив на обратную матрицу `random_matrix_inv`, округлив значения с помощью `np.round()`  и использовав функцию модуля `abs()`:**"
   ]
  },
  {
   "cell_type": "code",
   "execution_count": 20,
   "metadata": {},
   "outputs": [
    {
     "data": {
      "text/html": [
       "<div>\n",
       "<style scoped>\n",
       "    .dataframe tbody tr th:only-of-type {\n",
       "        vertical-align: middle;\n",
       "    }\n",
       "\n",
       "    .dataframe tbody tr th {\n",
       "        vertical-align: top;\n",
       "    }\n",
       "\n",
       "    .dataframe thead th {\n",
       "        text-align: right;\n",
       "    }\n",
       "</style>\n",
       "<table border=\"1\" class=\"dataframe\">\n",
       "  <thead>\n",
       "    <tr style=\"text-align: right;\">\n",
       "      <th></th>\n",
       "      <th>0</th>\n",
       "      <th>1</th>\n",
       "      <th>2</th>\n",
       "      <th>3</th>\n",
       "    </tr>\n",
       "  </thead>\n",
       "  <tbody>\n",
       "    <tr>\n",
       "      <th>509</th>\n",
       "      <td>0.0</td>\n",
       "      <td>29.0</td>\n",
       "      <td>20200.0</td>\n",
       "      <td>0.0</td>\n",
       "    </tr>\n",
       "    <tr>\n",
       "      <th>3847</th>\n",
       "      <td>0.0</td>\n",
       "      <td>37.0</td>\n",
       "      <td>37300.0</td>\n",
       "      <td>2.0</td>\n",
       "    </tr>\n",
       "    <tr>\n",
       "      <th>3417</th>\n",
       "      <td>0.0</td>\n",
       "      <td>34.0</td>\n",
       "      <td>32300.0</td>\n",
       "      <td>2.0</td>\n",
       "    </tr>\n",
       "    <tr>\n",
       "      <th>382</th>\n",
       "      <td>1.0</td>\n",
       "      <td>36.0</td>\n",
       "      <td>45800.0</td>\n",
       "      <td>1.0</td>\n",
       "    </tr>\n",
       "    <tr>\n",
       "      <th>1345</th>\n",
       "      <td>0.0</td>\n",
       "      <td>39.0</td>\n",
       "      <td>37400.0</td>\n",
       "      <td>0.0</td>\n",
       "    </tr>\n",
       "  </tbody>\n",
       "</table>\n",
       "</div>"
      ],
      "text/plain": [
       "        0     1        2    3\n",
       "509   0.0  29.0  20200.0  0.0\n",
       "3847  0.0  37.0  37300.0  2.0\n",
       "3417  0.0  34.0  32300.0  2.0\n",
       "382   1.0  36.0  45800.0  1.0\n",
       "1345  0.0  39.0  37400.0  0.0"
      ]
     },
     "execution_count": 20,
     "metadata": {},
     "output_type": "execute_result"
    }
   ],
   "source": [
    "abs(np.round(features_train_new @ random_matrix_inv)).head()"
   ]
  },
  {
   "cell_type": "markdown",
   "metadata": {},
   "source": [
    "### Обучим модель  Линейной регрессии на преобразованных данных и найдем значение метрики *R2*"
   ]
  },
  {
   "cell_type": "code",
   "execution_count": 21,
   "metadata": {},
   "outputs": [
    {
     "name": "stdout",
     "output_type": "stream",
     "text": [
      "Метрика R2 для Линейной регрессии (закодированные данные): 0.4305278542485964\n",
      "Метрика R2 для Линейной регрессии (исходные данные): 0.4305278542485165\n"
     ]
    }
   ],
   "source": [
    "model = LinearRegression() \n",
    "model.fit(features_train_new, target_train) \n",
    "predictions = model.predict(features_test_new) \n",
    "r2_new = r2_score(target_test, predictions)\n",
    "print(\"Метрика R2 для Линейной регрессии (закодированные данные):\", r2_new)\n",
    "print(\"Метрика R2 для Линейной регрессии (исходные данные):\", r2)"
   ]
  },
  {
   "cell_type": "markdown",
   "metadata": {},
   "source": [
    "**Вывод:** Метрика *R2* практически не изменилась, значит качество Линейной регрессии никак не пострадало от кодировки данных."
   ]
  },
  {
   "cell_type": "markdown",
   "metadata": {},
   "source": [
    "## Общий вывод"
   ]
  },
  {
   "cell_type": "markdown",
   "metadata": {},
   "source": [
    "Для исследования была предоставлена таблица `insurance.csv`. Предобработка данных не выявила каких-то серьезных ошибок в данных.\n",
    "\n",
    "Было математически доказано, что при умножении на обратимую матрицу качество модели не изменится. \n",
    "\n",
    "На основе данного доказательства был разработан алгоритм преобразования данных:\n",
    "\n",
    "1. Cоздать случайную матрицу с размерностью, равной числу признаков.\n",
    "2. Проверить случайную матрицу на обратимость. Матрица будет необратимой, если ее определитель равен нулю. Чтобы такого не допустить, напишем функцию, которая будет возвращать ненулевой определитель и формировать обратимую матрицу.\n",
    "3. Умножить признаки на случайную матрицу - тем самым мы кодируем данные.\n",
    "4. Для расшифровки данных необходимо умножить закодированные данные на обратную матрицу нашей случайной матрицы.\n",
    "\n",
    "Была обучена модель Линейной регрессии на исходных и преобразованных данных. Метрика *R2* практически не изменилась, значит качество Линейной регрессии никак не пострадало от кодировки данных."
   ]
  },
  {
   "cell_type": "code",
   "execution_count": null,
   "metadata": {},
   "outputs": [],
   "source": []
  }
 ],
 "metadata": {
  "ExecuteTimeLog": [
   {
    "duration": 1393,
    "start_time": "2023-07-12T11:57:47.837Z"
   },
   {
    "duration": 176,
    "start_time": "2023-07-12T11:59:10.385Z"
   },
   {
    "duration": 15,
    "start_time": "2023-07-12T11:59:38.997Z"
   },
   {
    "duration": 13,
    "start_time": "2023-07-12T12:01:59.223Z"
   },
   {
    "duration": 486,
    "start_time": "2023-07-12T12:04:37.120Z"
   },
   {
    "duration": 431,
    "start_time": "2023-07-12T12:04:51.412Z"
   },
   {
    "duration": 864,
    "start_time": "2023-07-12T12:09:51.486Z"
   },
   {
    "duration": 796,
    "start_time": "2023-07-12T12:11:34.884Z"
   },
   {
    "duration": 927,
    "start_time": "2023-07-12T12:11:41.880Z"
   },
   {
    "duration": 6,
    "start_time": "2023-07-12T12:12:32.768Z"
   },
   {
    "duration": 792,
    "start_time": "2023-07-12T12:13:59.009Z"
   },
   {
    "duration": 6,
    "start_time": "2023-07-12T12:17:52.945Z"
   },
   {
    "duration": 12,
    "start_time": "2023-07-12T12:18:01.801Z"
   },
   {
    "duration": 6,
    "start_time": "2023-07-12T12:21:31.299Z"
   },
   {
    "duration": 4,
    "start_time": "2023-07-12T12:23:04.242Z"
   },
   {
    "duration": 178,
    "start_time": "2023-07-12T12:26:02.799Z"
   },
   {
    "duration": 28,
    "start_time": "2023-07-12T12:26:24.896Z"
   },
   {
    "duration": 11,
    "start_time": "2023-07-12T12:27:58.355Z"
   },
   {
    "duration": 1273,
    "start_time": "2023-07-12T12:31:18.804Z"
   },
   {
    "duration": 63,
    "start_time": "2023-07-12T12:31:20.079Z"
   },
   {
    "duration": 17,
    "start_time": "2023-07-12T12:31:20.144Z"
   },
   {
    "duration": 18,
    "start_time": "2023-07-12T12:31:20.162Z"
   },
   {
    "duration": 940,
    "start_time": "2023-07-12T12:31:20.182Z"
   },
   {
    "duration": 7,
    "start_time": "2023-07-12T12:31:21.124Z"
   },
   {
    "duration": 17,
    "start_time": "2023-07-12T12:31:21.133Z"
   },
   {
    "duration": 24,
    "start_time": "2023-07-12T12:31:21.152Z"
   },
   {
    "duration": 40,
    "start_time": "2023-07-12T12:31:21.179Z"
   },
   {
    "duration": 20,
    "start_time": "2023-07-12T12:31:21.221Z"
   },
   {
    "duration": 1437,
    "start_time": "2023-07-12T18:34:18.019Z"
   },
   {
    "duration": 119,
    "start_time": "2023-07-12T18:34:19.458Z"
   },
   {
    "duration": 13,
    "start_time": "2023-07-12T18:34:19.579Z"
   },
   {
    "duration": 14,
    "start_time": "2023-07-12T18:34:19.595Z"
   },
   {
    "duration": 785,
    "start_time": "2023-07-12T18:34:19.611Z"
   },
   {
    "duration": 6,
    "start_time": "2023-07-12T18:34:20.399Z"
   },
   {
    "duration": 12,
    "start_time": "2023-07-12T18:34:20.406Z"
   },
   {
    "duration": 4,
    "start_time": "2023-07-12T18:34:20.419Z"
   },
   {
    "duration": 50,
    "start_time": "2023-07-12T18:34:20.424Z"
   },
   {
    "duration": 10,
    "start_time": "2023-07-12T18:34:20.476Z"
   },
   {
    "duration": 3,
    "start_time": "2023-07-12T18:34:20.488Z"
   },
   {
    "duration": 1453,
    "start_time": "2023-07-12T18:58:14.261Z"
   },
   {
    "duration": 61,
    "start_time": "2023-07-12T18:58:15.717Z"
   },
   {
    "duration": 17,
    "start_time": "2023-07-12T18:58:15.781Z"
   },
   {
    "duration": 51,
    "start_time": "2023-07-12T18:58:15.801Z"
   },
   {
    "duration": 805,
    "start_time": "2023-07-12T18:58:15.855Z"
   },
   {
    "duration": 6,
    "start_time": "2023-07-12T18:58:16.662Z"
   },
   {
    "duration": 8,
    "start_time": "2023-07-12T18:58:16.670Z"
   },
   {
    "duration": 3,
    "start_time": "2023-07-12T18:58:16.680Z"
   },
   {
    "duration": 136,
    "start_time": "2023-07-12T18:58:16.685Z"
   },
   {
    "duration": 15,
    "start_time": "2023-07-12T18:58:16.825Z"
   },
   {
    "duration": 6,
    "start_time": "2023-07-12T18:58:16.855Z"
   },
   {
    "duration": 1895,
    "start_time": "2023-07-13T04:21:03.631Z"
   },
   {
    "duration": 175,
    "start_time": "2023-07-13T04:21:05.528Z"
   },
   {
    "duration": 15,
    "start_time": "2023-07-13T04:21:05.705Z"
   },
   {
    "duration": 24,
    "start_time": "2023-07-13T04:21:05.722Z"
   },
   {
    "duration": 938,
    "start_time": "2023-07-13T04:21:05.750Z"
   },
   {
    "duration": 7,
    "start_time": "2023-07-13T04:21:06.689Z"
   },
   {
    "duration": 21,
    "start_time": "2023-07-13T04:21:06.698Z"
   },
   {
    "duration": 58,
    "start_time": "2023-07-13T04:21:06.721Z"
   },
   {
    "duration": 12,
    "start_time": "2023-07-13T04:21:06.781Z"
   },
   {
    "duration": 5,
    "start_time": "2023-07-13T04:21:06.795Z"
   },
   {
    "duration": 3,
    "start_time": "2023-07-13T04:24:16.589Z"
   },
   {
    "duration": 1557,
    "start_time": "2023-07-13T05:41:22.517Z"
   },
   {
    "duration": 80,
    "start_time": "2023-07-13T05:41:24.076Z"
   },
   {
    "duration": 13,
    "start_time": "2023-07-13T05:41:24.158Z"
   },
   {
    "duration": 16,
    "start_time": "2023-07-13T05:41:24.173Z"
   },
   {
    "duration": 862,
    "start_time": "2023-07-13T05:41:24.192Z"
   },
   {
    "duration": 7,
    "start_time": "2023-07-13T05:41:25.055Z"
   },
   {
    "duration": 44,
    "start_time": "2023-07-13T05:41:25.064Z"
   },
   {
    "duration": 61,
    "start_time": "2023-07-13T05:41:25.110Z"
   },
   {
    "duration": 141,
    "start_time": "2023-07-13T05:41:25.173Z"
   },
   {
    "duration": 46,
    "start_time": "2023-07-13T05:41:25.316Z"
   },
   {
    "duration": 5,
    "start_time": "2023-07-13T05:42:40.899Z"
   },
   {
    "duration": 6,
    "start_time": "2023-07-13T05:44:56.254Z"
   },
   {
    "duration": 144,
    "start_time": "2023-07-13T05:48:25.748Z"
   },
   {
    "duration": 5,
    "start_time": "2023-07-13T05:48:33.290Z"
   },
   {
    "duration": 269,
    "start_time": "2023-07-13T05:51:05.660Z"
   },
   {
    "duration": 11,
    "start_time": "2023-07-13T05:51:14.252Z"
   },
   {
    "duration": 9,
    "start_time": "2023-07-13T05:51:35.061Z"
   },
   {
    "duration": 11,
    "start_time": "2023-07-13T05:54:53.923Z"
   },
   {
    "duration": 4,
    "start_time": "2023-07-13T05:55:06.836Z"
   },
   {
    "duration": 110,
    "start_time": "2023-07-13T05:55:15.107Z"
   },
   {
    "duration": 6,
    "start_time": "2023-07-13T05:56:33.020Z"
   },
   {
    "duration": 1497,
    "start_time": "2023-07-13T05:56:52.622Z"
   },
   {
    "duration": 74,
    "start_time": "2023-07-13T05:56:54.121Z"
   },
   {
    "duration": 15,
    "start_time": "2023-07-13T05:56:54.197Z"
   },
   {
    "duration": 14,
    "start_time": "2023-07-13T05:56:54.214Z"
   },
   {
    "duration": 854,
    "start_time": "2023-07-13T05:56:54.231Z"
   },
   {
    "duration": 6,
    "start_time": "2023-07-13T05:56:55.087Z"
   },
   {
    "duration": 25,
    "start_time": "2023-07-13T05:56:55.095Z"
   },
   {
    "duration": 38,
    "start_time": "2023-07-13T05:56:55.121Z"
   },
   {
    "duration": 13,
    "start_time": "2023-07-13T05:56:55.162Z"
   },
   {
    "duration": 7,
    "start_time": "2023-07-13T05:56:55.177Z"
   },
   {
    "duration": 132,
    "start_time": "2023-07-13T05:56:55.186Z"
   },
   {
    "duration": 20,
    "start_time": "2023-07-13T05:56:55.321Z"
   },
   {
    "duration": 30,
    "start_time": "2023-07-13T05:56:55.343Z"
   },
   {
    "duration": 49,
    "start_time": "2023-07-13T05:56:55.376Z"
   },
   {
    "duration": 28,
    "start_time": "2023-07-13T05:56:55.427Z"
   },
   {
    "duration": 6,
    "start_time": "2023-07-13T06:00:04.502Z"
   },
   {
    "duration": 1664,
    "start_time": "2023-07-13T06:00:13.254Z"
   },
   {
    "duration": 341,
    "start_time": "2023-07-13T06:00:14.920Z"
   },
   {
    "duration": 15,
    "start_time": "2023-07-13T06:00:15.263Z"
   },
   {
    "duration": 15,
    "start_time": "2023-07-13T06:00:15.280Z"
   },
   {
    "duration": 988,
    "start_time": "2023-07-13T06:00:15.298Z"
   },
   {
    "duration": 21,
    "start_time": "2023-07-13T06:00:16.288Z"
   },
   {
    "duration": 5,
    "start_time": "2023-07-13T06:00:16.312Z"
   },
   {
    "duration": 48,
    "start_time": "2023-07-13T06:00:16.319Z"
   },
   {
    "duration": 13,
    "start_time": "2023-07-13T06:00:16.370Z"
   },
   {
    "duration": 25,
    "start_time": "2023-07-13T06:00:16.387Z"
   },
   {
    "duration": 123,
    "start_time": "2023-07-13T06:00:16.414Z"
   },
   {
    "duration": 24,
    "start_time": "2023-07-13T06:00:16.540Z"
   },
   {
    "duration": 32,
    "start_time": "2023-07-13T06:00:16.566Z"
   },
   {
    "duration": 33,
    "start_time": "2023-07-13T06:00:16.601Z"
   },
   {
    "duration": 14,
    "start_time": "2023-07-13T06:00:16.637Z"
   },
   {
    "duration": 3,
    "start_time": "2023-07-13T06:12:27.640Z"
   },
   {
    "duration": 6,
    "start_time": "2023-07-13T06:12:33.601Z"
   },
   {
    "duration": 11,
    "start_time": "2023-07-13T06:16:38.848Z"
   },
   {
    "duration": 13,
    "start_time": "2023-07-13T06:18:50.713Z"
   },
   {
    "duration": 14,
    "start_time": "2023-07-13T06:20:52.342Z"
   },
   {
    "duration": 1532,
    "start_time": "2023-07-13T06:24:42.092Z"
   },
   {
    "duration": 79,
    "start_time": "2023-07-13T06:24:43.626Z"
   },
   {
    "duration": 15,
    "start_time": "2023-07-13T06:24:43.707Z"
   },
   {
    "duration": 21,
    "start_time": "2023-07-13T06:24:43.723Z"
   },
   {
    "duration": 875,
    "start_time": "2023-07-13T06:24:43.747Z"
   },
   {
    "duration": 7,
    "start_time": "2023-07-13T06:24:44.625Z"
   },
   {
    "duration": 4,
    "start_time": "2023-07-13T06:24:44.634Z"
   },
   {
    "duration": 29,
    "start_time": "2023-07-13T06:24:44.640Z"
   },
   {
    "duration": 39,
    "start_time": "2023-07-13T06:24:44.672Z"
   },
   {
    "duration": 6,
    "start_time": "2023-07-13T06:24:44.713Z"
   },
   {
    "duration": 126,
    "start_time": "2023-07-13T06:24:44.720Z"
   },
   {
    "duration": 7,
    "start_time": "2023-07-13T06:24:44.848Z"
   },
   {
    "duration": 19,
    "start_time": "2023-07-13T06:24:44.857Z"
   },
   {
    "duration": 135,
    "start_time": "2023-07-13T06:24:44.879Z"
   },
   {
    "duration": 0,
    "start_time": "2023-07-13T06:24:45.016Z"
   },
   {
    "duration": 0,
    "start_time": "2023-07-13T06:24:45.018Z"
   },
   {
    "duration": 0,
    "start_time": "2023-07-13T06:24:45.019Z"
   },
   {
    "duration": 0,
    "start_time": "2023-07-13T06:24:45.020Z"
   },
   {
    "duration": 11,
    "start_time": "2023-07-13T06:25:18.065Z"
   },
   {
    "duration": 6,
    "start_time": "2023-07-13T06:25:27.295Z"
   },
   {
    "duration": 16,
    "start_time": "2023-07-13T06:25:27.303Z"
   },
   {
    "duration": 96,
    "start_time": "2023-07-13T06:25:27.320Z"
   },
   {
    "duration": 101,
    "start_time": "2023-07-13T06:25:27.418Z"
   },
   {
    "duration": 11,
    "start_time": "2023-07-13T06:27:20.394Z"
   },
   {
    "duration": 1627,
    "start_time": "2023-07-13T06:44:21.324Z"
   },
   {
    "duration": 134,
    "start_time": "2023-07-13T06:44:22.953Z"
   },
   {
    "duration": 16,
    "start_time": "2023-07-13T06:44:23.089Z"
   },
   {
    "duration": 77,
    "start_time": "2023-07-13T06:44:23.107Z"
   },
   {
    "duration": 884,
    "start_time": "2023-07-13T06:44:23.186Z"
   },
   {
    "duration": 6,
    "start_time": "2023-07-13T06:44:24.072Z"
   },
   {
    "duration": 27,
    "start_time": "2023-07-13T06:44:24.079Z"
   },
   {
    "duration": 33,
    "start_time": "2023-07-13T06:44:24.109Z"
   },
   {
    "duration": 11,
    "start_time": "2023-07-13T06:44:24.144Z"
   },
   {
    "duration": 56,
    "start_time": "2023-07-13T06:44:24.158Z"
   },
   {
    "duration": 33,
    "start_time": "2023-07-13T06:44:24.216Z"
   },
   {
    "duration": 25,
    "start_time": "2023-07-13T06:44:24.251Z"
   },
   {
    "duration": 24,
    "start_time": "2023-07-13T06:44:24.278Z"
   },
   {
    "duration": 29,
    "start_time": "2023-07-13T06:44:24.304Z"
   },
   {
    "duration": 21,
    "start_time": "2023-07-13T06:44:24.336Z"
   },
   {
    "duration": 29,
    "start_time": "2023-07-13T06:44:24.360Z"
   },
   {
    "duration": 31,
    "start_time": "2023-07-13T06:44:24.391Z"
   },
   {
    "duration": 100,
    "start_time": "2023-07-13T06:44:24.425Z"
   },
   {
    "duration": 29,
    "start_time": "2023-07-13T06:44:24.527Z"
   },
   {
    "duration": 3139,
    "start_time": "2023-07-13T07:16:03.401Z"
   },
   {
    "duration": 866,
    "start_time": "2023-07-13T07:16:06.542Z"
   },
   {
    "duration": 23,
    "start_time": "2023-07-13T07:16:07.410Z"
   },
   {
    "duration": 44,
    "start_time": "2023-07-13T07:16:07.435Z"
   },
   {
    "duration": 2115,
    "start_time": "2023-07-13T07:16:07.481Z"
   },
   {
    "duration": 0,
    "start_time": "2023-07-13T07:16:09.598Z"
   },
   {
    "duration": 0,
    "start_time": "2023-07-13T07:16:09.599Z"
   },
   {
    "duration": 0,
    "start_time": "2023-07-13T07:16:09.600Z"
   },
   {
    "duration": 0,
    "start_time": "2023-07-13T07:16:09.602Z"
   },
   {
    "duration": 0,
    "start_time": "2023-07-13T07:16:09.603Z"
   },
   {
    "duration": 0,
    "start_time": "2023-07-13T07:16:09.604Z"
   },
   {
    "duration": 0,
    "start_time": "2023-07-13T07:16:09.605Z"
   },
   {
    "duration": 0,
    "start_time": "2023-07-13T07:16:09.607Z"
   },
   {
    "duration": 1,
    "start_time": "2023-07-13T07:16:09.607Z"
   },
   {
    "duration": 0,
    "start_time": "2023-07-13T07:16:09.609Z"
   },
   {
    "duration": 0,
    "start_time": "2023-07-13T07:16:09.610Z"
   },
   {
    "duration": 0,
    "start_time": "2023-07-13T07:16:09.611Z"
   },
   {
    "duration": 0,
    "start_time": "2023-07-13T07:16:09.612Z"
   },
   {
    "duration": 0,
    "start_time": "2023-07-13T07:16:09.613Z"
   },
   {
    "duration": 21,
    "start_time": "2023-07-13T07:16:30.724Z"
   },
   {
    "duration": 810,
    "start_time": "2023-07-13T07:16:33.530Z"
   },
   {
    "duration": 24,
    "start_time": "2023-07-13T07:16:34.465Z"
   },
   {
    "duration": 1971,
    "start_time": "2023-07-13T12:23:01.500Z"
   },
   {
    "duration": 128,
    "start_time": "2023-07-13T12:23:03.473Z"
   },
   {
    "duration": 18,
    "start_time": "2023-07-13T12:23:03.603Z"
   },
   {
    "duration": 49,
    "start_time": "2023-07-13T12:23:03.622Z"
   },
   {
    "duration": 903,
    "start_time": "2023-07-13T12:23:03.675Z"
   },
   {
    "duration": 7,
    "start_time": "2023-07-13T12:23:04.580Z"
   },
   {
    "duration": 18,
    "start_time": "2023-07-13T12:23:04.589Z"
   },
   {
    "duration": 42,
    "start_time": "2023-07-13T12:23:04.609Z"
   },
   {
    "duration": 14,
    "start_time": "2023-07-13T12:23:04.653Z"
   },
   {
    "duration": 39,
    "start_time": "2023-07-13T12:23:04.669Z"
   },
   {
    "duration": 18,
    "start_time": "2023-07-13T12:23:04.711Z"
   },
   {
    "duration": 29,
    "start_time": "2023-07-13T12:23:04.731Z"
   },
   {
    "duration": 24,
    "start_time": "2023-07-13T12:23:04.763Z"
   },
   {
    "duration": 19,
    "start_time": "2023-07-13T12:23:04.791Z"
   },
   {
    "duration": 19,
    "start_time": "2023-07-13T12:23:04.812Z"
   },
   {
    "duration": 15,
    "start_time": "2023-07-13T12:23:04.833Z"
   },
   {
    "duration": 67,
    "start_time": "2023-07-13T12:23:04.850Z"
   },
   {
    "duration": 95,
    "start_time": "2023-07-13T12:23:04.921Z"
   },
   {
    "duration": 27,
    "start_time": "2023-07-13T12:23:05.018Z"
   },
   {
    "duration": 3,
    "start_time": "2023-07-13T13:26:08.546Z"
   },
   {
    "duration": 117,
    "start_time": "2023-07-13T13:27:08.709Z"
   },
   {
    "duration": 3,
    "start_time": "2023-07-13T13:29:19.654Z"
   },
   {
    "duration": 6,
    "start_time": "2023-07-13T13:29:26.249Z"
   },
   {
    "duration": 1718,
    "start_time": "2023-07-13T13:29:40.123Z"
   },
   {
    "duration": 71,
    "start_time": "2023-07-13T13:29:41.843Z"
   },
   {
    "duration": 15,
    "start_time": "2023-07-13T13:29:41.916Z"
   },
   {
    "duration": 34,
    "start_time": "2023-07-13T13:29:41.932Z"
   },
   {
    "duration": 821,
    "start_time": "2023-07-13T13:29:41.969Z"
   },
   {
    "duration": 13,
    "start_time": "2023-07-13T13:29:42.792Z"
   },
   {
    "duration": 19,
    "start_time": "2023-07-13T13:29:42.807Z"
   },
   {
    "duration": 49,
    "start_time": "2023-07-13T13:29:42.827Z"
   },
   {
    "duration": 12,
    "start_time": "2023-07-13T13:29:42.877Z"
   },
   {
    "duration": 10,
    "start_time": "2023-07-13T13:29:42.891Z"
   },
   {
    "duration": 19,
    "start_time": "2023-07-13T13:29:42.903Z"
   },
   {
    "duration": 24,
    "start_time": "2023-07-13T13:29:42.924Z"
   },
   {
    "duration": 30,
    "start_time": "2023-07-13T13:29:42.951Z"
   },
   {
    "duration": 15,
    "start_time": "2023-07-13T13:29:42.985Z"
   },
   {
    "duration": 19,
    "start_time": "2023-07-13T13:29:43.001Z"
   },
   {
    "duration": 21,
    "start_time": "2023-07-13T13:29:43.022Z"
   },
   {
    "duration": 25,
    "start_time": "2023-07-13T13:29:43.045Z"
   },
   {
    "duration": 39,
    "start_time": "2023-07-13T13:29:43.072Z"
   },
   {
    "duration": 8,
    "start_time": "2023-07-13T13:32:28.617Z"
   },
   {
    "duration": 12,
    "start_time": "2023-07-13T13:37:26.835Z"
   },
   {
    "duration": 14,
    "start_time": "2023-07-13T13:37:31.025Z"
   },
   {
    "duration": 11,
    "start_time": "2023-07-13T13:37:38.318Z"
   },
   {
    "duration": 1942,
    "start_time": "2023-07-13T13:39:25.517Z"
   },
   {
    "duration": 133,
    "start_time": "2023-07-13T13:39:27.461Z"
   },
   {
    "duration": 26,
    "start_time": "2023-07-13T13:39:27.595Z"
   },
   {
    "duration": 18,
    "start_time": "2023-07-13T13:39:27.623Z"
   },
   {
    "duration": 901,
    "start_time": "2023-07-13T13:39:27.643Z"
   },
   {
    "duration": 7,
    "start_time": "2023-07-13T13:39:28.546Z"
   },
   {
    "duration": 7,
    "start_time": "2023-07-13T13:39:28.555Z"
   },
   {
    "duration": 59,
    "start_time": "2023-07-13T13:39:28.564Z"
   },
   {
    "duration": 12,
    "start_time": "2023-07-13T13:39:28.625Z"
   },
   {
    "duration": 6,
    "start_time": "2023-07-13T13:39:28.639Z"
   },
   {
    "duration": 13,
    "start_time": "2023-07-13T13:39:28.647Z"
   },
   {
    "duration": 10,
    "start_time": "2023-07-13T13:39:28.662Z"
   },
   {
    "duration": 32,
    "start_time": "2023-07-13T13:39:28.673Z"
   },
   {
    "duration": 11,
    "start_time": "2023-07-13T13:39:28.717Z"
   },
   {
    "duration": 5,
    "start_time": "2023-07-13T13:39:28.730Z"
   },
   {
    "duration": 23,
    "start_time": "2023-07-13T13:39:28.736Z"
   },
   {
    "duration": 13,
    "start_time": "2023-07-13T13:39:28.761Z"
   },
   {
    "duration": 14,
    "start_time": "2023-07-13T13:39:28.776Z"
   },
   {
    "duration": 100,
    "start_time": "2023-07-13T13:39:28.817Z"
   },
   {
    "duration": 19,
    "start_time": "2023-07-13T13:39:28.926Z"
   },
   {
    "duration": 64,
    "start_time": "2023-07-13T13:39:28.947Z"
   },
   {
    "duration": 1605,
    "start_time": "2023-07-13T13:44:01.566Z"
   },
   {
    "duration": 88,
    "start_time": "2023-07-13T13:44:03.174Z"
   },
   {
    "duration": 22,
    "start_time": "2023-07-13T13:44:03.264Z"
   },
   {
    "duration": 41,
    "start_time": "2023-07-13T13:44:03.289Z"
   },
   {
    "duration": 933,
    "start_time": "2023-07-13T13:44:03.334Z"
   },
   {
    "duration": 6,
    "start_time": "2023-07-13T13:44:04.269Z"
   },
   {
    "duration": 19,
    "start_time": "2023-07-13T13:44:04.276Z"
   },
   {
    "duration": 42,
    "start_time": "2023-07-13T13:44:04.297Z"
   },
   {
    "duration": 14,
    "start_time": "2023-07-13T13:44:04.341Z"
   },
   {
    "duration": 17,
    "start_time": "2023-07-13T13:44:04.358Z"
   },
   {
    "duration": 20,
    "start_time": "2023-07-13T13:44:04.377Z"
   },
   {
    "duration": 39,
    "start_time": "2023-07-13T13:44:04.399Z"
   },
   {
    "duration": 24,
    "start_time": "2023-07-13T13:44:04.440Z"
   },
   {
    "duration": 33,
    "start_time": "2023-07-13T13:44:04.466Z"
   },
   {
    "duration": 41,
    "start_time": "2023-07-13T13:44:04.501Z"
   },
   {
    "duration": 48,
    "start_time": "2023-07-13T13:44:04.544Z"
   },
   {
    "duration": 34,
    "start_time": "2023-07-13T13:44:04.594Z"
   },
   {
    "duration": 25,
    "start_time": "2023-07-13T13:44:04.631Z"
   },
   {
    "duration": 161,
    "start_time": "2023-07-13T13:44:04.659Z"
   },
   {
    "duration": 36,
    "start_time": "2023-07-13T13:44:04.823Z"
   },
   {
    "duration": 21,
    "start_time": "2023-07-13T13:44:04.861Z"
   },
   {
    "duration": 3119,
    "start_time": "2023-07-13T19:09:01.785Z"
   },
   {
    "duration": 684,
    "start_time": "2023-07-13T19:09:04.906Z"
   },
   {
    "duration": 27,
    "start_time": "2023-07-13T19:09:05.592Z"
   },
   {
    "duration": 37,
    "start_time": "2023-07-13T19:09:05.621Z"
   },
   {
    "duration": 2174,
    "start_time": "2023-07-13T19:09:05.659Z"
   },
   {
    "duration": 0,
    "start_time": "2023-07-13T19:09:07.835Z"
   },
   {
    "duration": 0,
    "start_time": "2023-07-13T19:09:07.836Z"
   },
   {
    "duration": 0,
    "start_time": "2023-07-13T19:09:07.837Z"
   },
   {
    "duration": 0,
    "start_time": "2023-07-13T19:09:07.838Z"
   },
   {
    "duration": 0,
    "start_time": "2023-07-13T19:09:07.839Z"
   },
   {
    "duration": 0,
    "start_time": "2023-07-13T19:09:07.840Z"
   },
   {
    "duration": 0,
    "start_time": "2023-07-13T19:09:07.841Z"
   },
   {
    "duration": 0,
    "start_time": "2023-07-13T19:09:07.842Z"
   },
   {
    "duration": 0,
    "start_time": "2023-07-13T19:09:07.843Z"
   },
   {
    "duration": 0,
    "start_time": "2023-07-13T19:09:07.844Z"
   },
   {
    "duration": 0,
    "start_time": "2023-07-13T19:09:07.845Z"
   },
   {
    "duration": 0,
    "start_time": "2023-07-13T19:09:07.846Z"
   },
   {
    "duration": 0,
    "start_time": "2023-07-13T19:09:07.847Z"
   },
   {
    "duration": 0,
    "start_time": "2023-07-13T19:09:07.848Z"
   },
   {
    "duration": 0,
    "start_time": "2023-07-13T19:09:07.849Z"
   },
   {
    "duration": 0,
    "start_time": "2023-07-13T19:09:07.850Z"
   },
   {
    "duration": 46,
    "start_time": "2023-07-13T19:10:51.350Z"
   },
   {
    "duration": 48,
    "start_time": "2023-07-13T19:10:58.483Z"
   },
   {
    "duration": 578,
    "start_time": "2023-07-13T19:11:05.543Z"
   },
   {
    "duration": 32,
    "start_time": "2023-07-13T19:11:59.357Z"
   },
   {
    "duration": 10,
    "start_time": "2023-07-13T19:12:01.296Z"
   },
   {
    "duration": 2875,
    "start_time": "2023-07-13T19:12:10.555Z"
   },
   {
    "duration": 33,
    "start_time": "2023-07-13T19:12:13.431Z"
   },
   {
    "duration": 14,
    "start_time": "2023-07-13T19:12:13.465Z"
   },
   {
    "duration": 14,
    "start_time": "2023-07-13T19:12:13.481Z"
   },
   {
    "duration": 842,
    "start_time": "2023-07-13T19:12:13.496Z"
   },
   {
    "duration": 7,
    "start_time": "2023-07-13T19:12:14.339Z"
   },
   {
    "duration": 36,
    "start_time": "2023-07-13T19:12:14.347Z"
   },
   {
    "duration": 36,
    "start_time": "2023-07-13T19:12:14.385Z"
   },
   {
    "duration": 13,
    "start_time": "2023-07-13T19:12:14.423Z"
   },
   {
    "duration": 6,
    "start_time": "2023-07-13T19:12:14.439Z"
   },
   {
    "duration": 17,
    "start_time": "2023-07-13T19:12:14.446Z"
   },
   {
    "duration": 14,
    "start_time": "2023-07-13T19:12:14.464Z"
   },
   {
    "duration": 33,
    "start_time": "2023-07-13T19:12:14.480Z"
   },
   {
    "duration": 11,
    "start_time": "2023-07-13T19:12:14.515Z"
   },
   {
    "duration": 15,
    "start_time": "2023-07-13T19:12:14.527Z"
   },
   {
    "duration": 8,
    "start_time": "2023-07-13T19:12:14.544Z"
   },
   {
    "duration": 13,
    "start_time": "2023-07-13T19:12:14.554Z"
   },
   {
    "duration": 12,
    "start_time": "2023-07-13T19:12:14.568Z"
   },
   {
    "duration": 120,
    "start_time": "2023-07-13T19:12:14.582Z"
   },
   {
    "duration": 13,
    "start_time": "2023-07-13T19:12:14.704Z"
   },
   {
    "duration": 20,
    "start_time": "2023-07-13T19:12:14.718Z"
   },
   {
    "duration": 1624,
    "start_time": "2023-07-14T03:54:22.820Z"
   },
   {
    "duration": 3,
    "start_time": "2023-07-14T03:54:24.446Z"
   },
   {
    "duration": 793,
    "start_time": "2023-07-14T03:54:24.451Z"
   },
   {
    "duration": 14,
    "start_time": "2023-07-14T03:54:25.246Z"
   },
   {
    "duration": 24,
    "start_time": "2023-07-14T03:54:25.263Z"
   },
   {
    "duration": 826,
    "start_time": "2023-07-14T03:54:25.289Z"
   },
   {
    "duration": 6,
    "start_time": "2023-07-14T03:54:26.118Z"
   },
   {
    "duration": 8,
    "start_time": "2023-07-14T03:54:26.126Z"
   },
   {
    "duration": 41,
    "start_time": "2023-07-14T03:54:26.136Z"
   },
   {
    "duration": 10,
    "start_time": "2023-07-14T03:54:26.179Z"
   },
   {
    "duration": 4,
    "start_time": "2023-07-14T03:54:26.191Z"
   },
   {
    "duration": 13,
    "start_time": "2023-07-14T03:54:26.197Z"
   },
   {
    "duration": 12,
    "start_time": "2023-07-14T03:54:26.213Z"
   },
   {
    "duration": 5,
    "start_time": "2023-07-14T03:54:26.228Z"
   },
   {
    "duration": 28,
    "start_time": "2023-07-14T03:54:26.235Z"
   },
   {
    "duration": 3,
    "start_time": "2023-07-14T03:54:26.265Z"
   },
   {
    "duration": 9,
    "start_time": "2023-07-14T03:54:26.270Z"
   },
   {
    "duration": 11,
    "start_time": "2023-07-14T03:54:26.281Z"
   },
   {
    "duration": 9,
    "start_time": "2023-07-14T03:54:26.294Z"
   },
   {
    "duration": 155,
    "start_time": "2023-07-14T03:54:26.305Z"
   },
   {
    "duration": 18,
    "start_time": "2023-07-14T03:54:26.462Z"
   },
   {
    "duration": 10,
    "start_time": "2023-07-14T03:54:26.482Z"
   },
   {
    "duration": 1422,
    "start_time": "2023-07-14T03:55:05.097Z"
   },
   {
    "duration": 121,
    "start_time": "2023-07-14T03:55:06.521Z"
   },
   {
    "duration": 21,
    "start_time": "2023-07-14T03:55:06.644Z"
   },
   {
    "duration": 13,
    "start_time": "2023-07-14T03:55:06.667Z"
   },
   {
    "duration": 804,
    "start_time": "2023-07-14T03:55:06.683Z"
   },
   {
    "duration": 5,
    "start_time": "2023-07-14T03:55:07.489Z"
   },
   {
    "duration": 4,
    "start_time": "2023-07-14T03:55:07.495Z"
   },
   {
    "duration": 25,
    "start_time": "2023-07-14T03:55:07.500Z"
   },
   {
    "duration": 39,
    "start_time": "2023-07-14T03:55:07.527Z"
   },
   {
    "duration": 5,
    "start_time": "2023-07-14T03:55:07.568Z"
   },
   {
    "duration": 8,
    "start_time": "2023-07-14T03:55:07.575Z"
   },
   {
    "duration": 10,
    "start_time": "2023-07-14T03:55:07.585Z"
   },
   {
    "duration": 6,
    "start_time": "2023-07-14T03:55:07.597Z"
   },
   {
    "duration": 9,
    "start_time": "2023-07-14T03:55:07.606Z"
   },
   {
    "duration": 2,
    "start_time": "2023-07-14T03:55:07.617Z"
   },
   {
    "duration": 50,
    "start_time": "2023-07-14T03:55:07.621Z"
   },
   {
    "duration": 10,
    "start_time": "2023-07-14T03:55:07.673Z"
   },
   {
    "duration": 12,
    "start_time": "2023-07-14T03:55:07.685Z"
   },
   {
    "duration": 66,
    "start_time": "2023-07-14T03:55:07.699Z"
   },
   {
    "duration": 13,
    "start_time": "2023-07-14T03:55:07.767Z"
   },
   {
    "duration": 10,
    "start_time": "2023-07-14T03:55:07.860Z"
   }
  ],
  "kernelspec": {
   "display_name": "Python 3 (ipykernel)",
   "language": "python",
   "name": "python3"
  },
  "language_info": {
   "codemirror_mode": {
    "name": "ipython",
    "version": 3
   },
   "file_extension": ".py",
   "mimetype": "text/x-python",
   "name": "python",
   "nbconvert_exporter": "python",
   "pygments_lexer": "ipython3",
   "version": "3.11.2"
  },
  "toc": {
   "base_numbering": 1,
   "nav_menu": {},
   "number_sections": true,
   "sideBar": true,
   "skip_h1_title": true,
   "title_cell": "Содержание",
   "title_sidebar": "Contents",
   "toc_cell": true,
   "toc_position": {},
   "toc_section_display": true,
   "toc_window_display": true
  }
 },
 "nbformat": 4,
 "nbformat_minor": 4
}
