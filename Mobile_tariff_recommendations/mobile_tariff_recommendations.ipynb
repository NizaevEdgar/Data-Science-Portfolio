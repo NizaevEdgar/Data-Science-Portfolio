{
 "cells": [
  {
   "cell_type": "markdown",
   "metadata": {},
   "source": [
    "# Содержание\n",
    "\n",
    "[Введение. Рекомендация тарифов для оператора мобильной связи](#1)\n",
    "\n",
    "[1 Откроем файл с данными и изучим общую информацию.](#2)\n",
    "\n",
    "[2 Разделим исходные данные на обучающую, валидационную и тестовую выборки.](#3)\n",
    "\n",
    "[3 Исследуем качество разных моделей, меняя гиперпараметры.](#4)\n",
    "\n",
    "[4 Проверим модель на тестовой выборке.](#5)\n",
    "\n",
    "[5 Проверим модели на адекватность](#6)\n",
    "\n",
    "[6 Общий вывод](#7)\n",
    "\n",
    "[7 Чек-лист готовности проекта](#8)"
   ]
  },
  {
   "cell_type": "markdown",
   "metadata": {},
   "source": [
    "<a id=1></a>\n",
    "# Введение. Рекомендация тарифов для оператора мобильной связи"
   ]
  },
  {
   "cell_type": "markdown",
   "metadata": {},
   "source": [
    "Оператор мобильной связи выяснил: многие клиенты пользуются архивными тарифами. И поэтому хочет построить систему, способную проанализировать поведение клиентов и предложить пользователям новый тариф: «Смарт» или «Ультра».\n",
    "\n",
    "**Цель исследования:**\n",
    "\n",
    "Построить модель для задачи классификации, которая выберет подходящий тариф.\n",
    "\n",
    "**Ход исследования:**\n",
    "\n",
    "Данные для исследования я получу из файла — `users_behavior.csv`.\n",
    "\n",
    "*Описание данных:*\n",
    "\n",
    "`сalls` — количество звонков\n",
    "\n",
    "`minutes` — суммарная длительность звонков в минутах\n",
    "\n",
    "`messages` — количество sms-сообщений\n",
    "\n",
    "`mb_used` — израсходованный интернет-трафик в Мб\n",
    "\n",
    "`is_ultra` — каким тарифом пользовался в течение месяца («Ультра» — 1, «Смарт» — 0).\n",
    "\n",
    "Таким образом, моё исследование пройдет в несколько этапов:\n",
    "\n",
    "1. Откроем файл и проведем обзор данных.\n",
    "\n",
    "2. Разделим исходные данные на обучающую, валидационную и тестовую выборки.\n",
    "\n",
    "3. Исследуем качество разных моделей, меняя гиперпараметры.\n",
    "\n",
    "4. Проверим качество модели на тестовой выборке.\n",
    "\n",
    "5. Проверим модели на вменяемость.\n",
    "\n",
    "6. Напишем общий вывод."
   ]
  },
  {
   "cell_type": "markdown",
   "metadata": {},
   "source": [
    "<a id=2></a>\n",
    "## Откроем файл с данными и изучим общую информацию. "
   ]
  },
  {
   "cell_type": "markdown",
   "metadata": {},
   "source": [
    "### Считаем данные из csv-файла и сохраним в переменную."
   ]
  },
  {
   "cell_type": "code",
   "execution_count": 1,
   "metadata": {},
   "outputs": [],
   "source": [
    "import pandas as pd\n",
    "import matplotlib.pyplot as plt\n",
    "from sklearn.model_selection import train_test_split\n",
    "from sklearn.tree import DecisionTreeClassifier\n",
    "from sklearn.metrics import accuracy_score\n",
    "from sklearn.ensemble import RandomForestClassifier\n",
    "from sklearn.linear_model import LogisticRegression\n",
    "from sklearn.dummy import DummyClassifier"
   ]
  },
  {
   "cell_type": "code",
   "execution_count": 2,
   "metadata": {},
   "outputs": [],
   "source": [
    "try:\n",
    "    df = pd.read_csv('users_behavior.csv')\n",
    "except:\n",
    "    df = pd.read_csv('/datasets/users_behavior.csv')"
   ]
  },
  {
   "cell_type": "markdown",
   "metadata": {},
   "source": [
    "### Выведем первые 5 строчек и общую информацию датафрейма `df` на экран."
   ]
  },
  {
   "cell_type": "code",
   "execution_count": 3,
   "metadata": {},
   "outputs": [
    {
     "data": {
      "text/html": [
       "<div>\n",
       "<style scoped>\n",
       "    .dataframe tbody tr th:only-of-type {\n",
       "        vertical-align: middle;\n",
       "    }\n",
       "\n",
       "    .dataframe tbody tr th {\n",
       "        vertical-align: top;\n",
       "    }\n",
       "\n",
       "    .dataframe thead th {\n",
       "        text-align: right;\n",
       "    }\n",
       "</style>\n",
       "<table border=\"1\" class=\"dataframe\">\n",
       "  <thead>\n",
       "    <tr style=\"text-align: right;\">\n",
       "      <th></th>\n",
       "      <th>calls</th>\n",
       "      <th>minutes</th>\n",
       "      <th>messages</th>\n",
       "      <th>mb_used</th>\n",
       "      <th>is_ultra</th>\n",
       "    </tr>\n",
       "  </thead>\n",
       "  <tbody>\n",
       "    <tr>\n",
       "      <th>0</th>\n",
       "      <td>40.0</td>\n",
       "      <td>311.90</td>\n",
       "      <td>83.0</td>\n",
       "      <td>19915.42</td>\n",
       "      <td>0</td>\n",
       "    </tr>\n",
       "    <tr>\n",
       "      <th>1</th>\n",
       "      <td>85.0</td>\n",
       "      <td>516.75</td>\n",
       "      <td>56.0</td>\n",
       "      <td>22696.96</td>\n",
       "      <td>0</td>\n",
       "    </tr>\n",
       "    <tr>\n",
       "      <th>2</th>\n",
       "      <td>77.0</td>\n",
       "      <td>467.66</td>\n",
       "      <td>86.0</td>\n",
       "      <td>21060.45</td>\n",
       "      <td>0</td>\n",
       "    </tr>\n",
       "    <tr>\n",
       "      <th>3</th>\n",
       "      <td>106.0</td>\n",
       "      <td>745.53</td>\n",
       "      <td>81.0</td>\n",
       "      <td>8437.39</td>\n",
       "      <td>1</td>\n",
       "    </tr>\n",
       "    <tr>\n",
       "      <th>4</th>\n",
       "      <td>66.0</td>\n",
       "      <td>418.74</td>\n",
       "      <td>1.0</td>\n",
       "      <td>14502.75</td>\n",
       "      <td>0</td>\n",
       "    </tr>\n",
       "  </tbody>\n",
       "</table>\n",
       "</div>"
      ],
      "text/plain": [
       "   calls  minutes  messages   mb_used  is_ultra\n",
       "0   40.0   311.90      83.0  19915.42         0\n",
       "1   85.0   516.75      56.0  22696.96         0\n",
       "2   77.0   467.66      86.0  21060.45         0\n",
       "3  106.0   745.53      81.0   8437.39         1\n",
       "4   66.0   418.74       1.0  14502.75         0"
      ]
     },
     "execution_count": 3,
     "metadata": {},
     "output_type": "execute_result"
    }
   ],
   "source": [
    "df.head()"
   ]
  },
  {
   "cell_type": "code",
   "execution_count": 4,
   "metadata": {},
   "outputs": [
    {
     "name": "stdout",
     "output_type": "stream",
     "text": [
      "<class 'pandas.core.frame.DataFrame'>\n",
      "RangeIndex: 3214 entries, 0 to 3213\n",
      "Data columns (total 5 columns):\n",
      " #   Column    Non-Null Count  Dtype  \n",
      "---  ------    --------------  -----  \n",
      " 0   calls     3214 non-null   float64\n",
      " 1   minutes   3214 non-null   float64\n",
      " 2   messages  3214 non-null   float64\n",
      " 3   mb_used   3214 non-null   float64\n",
      " 4   is_ultra  3214 non-null   int64  \n",
      "dtypes: float64(4), int64(1)\n",
      "memory usage: 125.7 KB\n"
     ]
    }
   ],
   "source": [
    "df.info()"
   ]
  },
  {
   "cell_type": "markdown",
   "metadata": {},
   "source": [
    "### Построим гистограммы для всех числовых столбцов."
   ]
  },
  {
   "cell_type": "code",
   "execution_count": 5,
   "metadata": {},
   "outputs": [
    {
     "data": {
      "image/png": "[encoded data removed]",
      "text/plain": [
       "<Figure size 720x360 with 1 Axes>"
      ]
     },
     "metadata": {
      "needs_background": "light"
     },
     "output_type": "display_data"
    },
    {
     "data": {
      "image/png": "[encoded data removed]",
      "text/plain": [
       "<Figure size 720x360 with 1 Axes>"
      ]
     },
     "metadata": {
      "needs_background": "light"
     },
     "output_type": "display_data"
    },
    {
     "data": {
      "image/png": "[encoded data removed]",
      "text/plain": [
       "<Figure size 720x360 with 1 Axes>"
      ]
     },
     "metadata": {
      "needs_background": "light"
     },
     "output_type": "display_data"
    },
    {
     "data": {
      "image/png": "[encoded data removed]",
      "text/plain": [
       "<Figure size 720x360 with 1 Axes>"
      ]
     },
     "metadata": {
      "needs_background": "light"
     },
     "output_type": "display_data"
    },
    {
     "data": {
      "image/png": "[encoded data removed]",
      "text/plain": [
       "<Figure size 720x360 with 1 Axes>"
      ]
     },
     "metadata": {
      "needs_background": "light"
     },
     "output_type": "display_data"
    }
   ],
   "source": [
    "df.hist('calls', bins=50, figsize=(10, 5))\n",
    "plt.title('Количество звонков')\n",
    "plt.xlabel('Количество звонков')\n",
    "plt.ylabel('Количество')\n",
    "plt.show()\n",
    "\n",
    "df.hist('minutes', bins=50, figsize=(10, 5))\n",
    "plt.title('Cуммарная длительность звонков в минутах')\n",
    "plt.xlabel('Минуты')\n",
    "plt.ylabel('Количество')\n",
    "plt.show()\n",
    "\n",
    "df.hist('messages', bins=50, figsize=(10, 5))\n",
    "plt.title('Количество sms-сообщений')\n",
    "plt.xlabel('Количество sms-сообщений')\n",
    "plt.ylabel('Количество')\n",
    "plt.show()\n",
    "\n",
    "df.hist('mb_used', bins=50, figsize=(10, 5))\n",
    "plt.title('Израсходованный интернет-трафик в Мб')\n",
    "plt.xlabel('Интернет-трафик в Мб')\n",
    "plt.ylabel('Количество')\n",
    "plt.show()\n",
    "\n",
    "df.groupby('is_ultra')['is_ultra'].count().plot(\n",
    "    x='is_ultra', \n",
    "    kind='bar', \n",
    "    figsize=(10, 5), \n",
    "    grid=True,\n",
    "    title = 'Каким тарифом пользовались в течение месяца («Ультра» — 1, «Смарт» — 0)'\n",
    ")\n",
    "plt.xticks(rotation=0)\n",
    "plt.xlabel('Тариф')\n",
    "plt.ylabel('Количество пользователей')\n",
    "plt.show()"
   ]
  },
  {
   "cell_type": "markdown",
   "metadata": {},
   "source": [
    "### Проверим количество дубликатов в таблице `df`."
   ]
  },
  {
   "cell_type": "code",
   "execution_count": 6,
   "metadata": {},
   "outputs": [
    {
     "name": "stdout",
     "output_type": "stream",
     "text": [
      "Количество дубликатов: 0\n"
     ]
    }
   ],
   "source": [
    "print('Количество дубликатов:', df.duplicated().sum())"
   ]
  },
  {
   "cell_type": "markdown",
   "metadata": {},
   "source": [
    "**Вывод, исходя из общих данных датафрейма `df`:**\n",
    "\n",
    "1. пропусков нет;\n",
    "\n",
    "2. дубликатов нет;\n",
    "\n",
    "3. по гистограммам не видны какие-то большие разбросы данных или выбросы (если не считать гистограмму с sms-сообщениями, но кто их вообще до сих пор отправляет? Поэтому логично, что там на пике 0);\n",
    "\n",
    "4. пользователи больше предпочитают тариф Смарт, чем Ультра, причем более чем в 2 раза.\n",
    "\n",
    "**Данные готовы для дальнейшего исследования.**"
   ]
  },
  {
   "cell_type": "markdown",
   "metadata": {},
   "source": [
    "<a id=3></a>\n",
    "## Разделим исходные данные на обучающую, валидационную и тестовую выборки."
   ]
  },
  {
   "cell_type": "markdown",
   "metadata": {},
   "source": [
    "**Разделим сначала исходные данные на тренировочную (`df_train`)  и тестовую 1 (`df_test1`) выборки как 60% к 40% . Затем тестовую 1 разделим на тестовую (`df_test`) и валидационную (`df_valid`) в соотношении 50% на 50%. Так как наши исходные данные несбалансированные, то используем параметр - *stratify* (стратификация): разбиение на выборки, сохраняющее соотношение классов, представленное в исходном датасете.**"
   ]
  },
  {
   "cell_type": "code",
   "execution_count": 7,
   "metadata": {},
   "outputs": [],
   "source": [
    "df_train, df_test1 =train_test_split(df, test_size=0.4, random_state=12345, stratify=df['is_ultra'])\n",
    "df_test, df_valid=train_test_split(df_test1, test_size=0.5, random_state=12345, stratify=df_test1['is_ultra'])"
   ]
  },
  {
   "cell_type": "code",
   "execution_count": 8,
   "metadata": {},
   "outputs": [
    {
     "name": "stdout",
     "output_type": "stream",
     "text": [
      "Размер тренировочной выборки: (1928, 5)\n",
      "Размер валидационной выборки: (643, 5)\n",
      "Размер тестовой выборки: (643, 5)\n"
     ]
    }
   ],
   "source": [
    "print('Размер тренировочной выборки:', df_train.shape)\n",
    "print('Размер валидационной выборки:', df_valid.shape)\n",
    "print('Размер тестовой выборки:', df_test.shape)"
   ]
  },
  {
   "cell_type": "markdown",
   "metadata": {},
   "source": [
    "**В итоге получили три выборки:**\n",
    "\n",
    "1. Тренировочную выборку `df_train` - 60%\n",
    "\n",
    "2. Валидационную выборку `df_valid` - 20%\n",
    "\n",
    "3. Тестовую выборку `df_test` - 20%"
   ]
  },
  {
   "cell_type": "markdown",
   "metadata": {},
   "source": [
    "**Проверим, что пропорции того, что на тарифе Смарт пользователей больше, чем на тарифе Ультра сохраняются и в наших выборках.**"
   ]
  },
  {
   "cell_type": "code",
   "execution_count": 9,
   "metadata": {},
   "outputs": [
    {
     "data": {
      "image/png": "[encoded data removed]",
      "text/plain": [
       "<Figure size 720x360 with 1 Axes>"
      ]
     },
     "metadata": {
      "needs_background": "light"
     },
     "output_type": "display_data"
    },
    {
     "data": {
      "image/png": "[encoded data removed]",
      "text/plain": [
       "<Figure size 720x360 with 1 Axes>"
      ]
     },
     "metadata": {
      "needs_background": "light"
     },
     "output_type": "display_data"
    },
    {
     "data": {
      "image/png": "[encoded data removed]",
      "text/plain": [
       "<Figure size 720x360 with 1 Axes>"
      ]
     },
     "metadata": {
      "needs_background": "light"
     },
     "output_type": "display_data"
    }
   ],
   "source": [
    "df_train.groupby('is_ultra')['is_ultra'].count().plot(\n",
    "    x='is_ultra', \n",
    "    kind='bar', \n",
    "    figsize=(10, 5), \n",
    "    grid=True,\n",
    "    title = 'Тренировочная выборка'\n",
    ")\n",
    "plt.xticks(rotation=0)\n",
    "plt.xlabel('Тариф')\n",
    "plt.ylabel('Количество пользователей')\n",
    "plt.show()\n",
    "\n",
    "df_valid.groupby('is_ultra')['is_ultra'].count().plot(\n",
    "    x='is_ultra', \n",
    "    kind='bar', \n",
    "    figsize=(10, 5), \n",
    "    grid=True,\n",
    "    title = 'Валидационная выборка'\n",
    ")\n",
    "plt.xticks(rotation=0)\n",
    "plt.xlabel('Тариф')\n",
    "plt.ylabel('Количество пользователей')\n",
    "plt.show()\n",
    "\n",
    "df_test.groupby('is_ultra')['is_ultra'].count().plot(\n",
    "    x='is_ultra', \n",
    "    kind='bar', \n",
    "    figsize=(10, 5), \n",
    "    grid=True,\n",
    "    title = 'Тестовая выборка'\n",
    ")\n",
    "plt.xticks(rotation=0)\n",
    "plt.xlabel('Тариф')\n",
    "plt.ylabel('Количество пользователей')\n",
    "plt.show()"
   ]
  },
  {
   "cell_type": "markdown",
   "metadata": {},
   "source": [
    "**Сохраним обучающий набор данных в переменных features (признаки) и target (целевой признак).**"
   ]
  },
  {
   "cell_type": "code",
   "execution_count": 10,
   "metadata": {},
   "outputs": [],
   "source": [
    "#Для тренировочной выборки\n",
    "features_train = df_train.drop('is_ultra', axis=1)\n",
    "target_train = df_train['is_ultra']\n",
    "\n",
    "#Для валидационной выборки\n",
    "features_valid = df_valid.drop('is_ultra', axis=1)\n",
    "target_valid = df_valid['is_ultra']\n",
    "\n",
    "#Для тестовой выборки\n",
    "features_test = df_test.drop('is_ultra', axis=1)\n",
    "target_test = df_test['is_ultra']"
   ]
  },
  {
   "cell_type": "markdown",
   "metadata": {},
   "source": [
    "**Вывод: Мы разделили исходные данные на обучающую, валидационную и тестовую выборки. А также разделили наборы данных на признаки и целевые признаки. Эти операции будут необходимы для дальнейшего исследования качества разных моделей и для итогового теста нашей модели.**"
   ]
  },
  {
   "cell_type": "markdown",
   "metadata": {},
   "source": [
    "<a id=4></a>\n",
    "## Исследуем качество разных моделей, меняя гиперпараметры."
   ]
  },
  {
   "cell_type": "markdown",
   "metadata": {},
   "source": [
    "### Начнем с `Дерева решений`, подберем оптимальный гиперпараметр *max_depth*."
   ]
  },
  {
   "cell_type": "code",
   "execution_count": 11,
   "metadata": {},
   "outputs": [
    {
     "name": "stdout",
     "output_type": "stream",
     "text": [
      "Accuracy наилучшей модели на валидационной выборке: 0.8118195956454122 Лучшая глубина дерева: 5\n"
     ]
    }
   ],
   "source": [
    "best_model_DT = None\n",
    "best_result_DT = 0\n",
    "best_depth = 0\n",
    "for depth in range(1, 100):\n",
    "    model = DecisionTreeClassifier(random_state=12345, max_depth=depth)\n",
    "    model.fit(features_train, target_train)\n",
    "    predictions_valid = model.predict(features_valid)\n",
    "    result = accuracy_score(target_valid, predictions_valid)\n",
    "    if result > best_result_DT:\n",
    "        best_model_DT = model # наилучшая модель\n",
    "        best_result_DT = result # наилучшее значение метрики accuracy на валидационных данных\n",
    "        best_depth = depth # лучшая глубина дерева\n",
    "\n",
    "print(\"Accuracy наилучшей модели на валидационной выборке:\", best_result_DT, \"Лучшая глубина дерева:\", best_depth)"
   ]
  },
  {
   "cell_type": "markdown",
   "metadata": {},
   "source": [
    "**Доля правильных ответов (*accuracy*) при глубине дерева 5 - наибольшая. Примем это значение гиперпараметра для нашей модели и алгоритма `Дерево решений`. Причем, было бы логично предположить, что если бы значение *accuracy* показало наибольшее значение при *max_depth* около 100, то такая модель могла бы страдать переобучением.**"
   ]
  },
  {
   "cell_type": "markdown",
   "metadata": {},
   "source": [
    "### Попробуем алгоритм классификации — `Случайный лес`."
   ]
  },
  {
   "cell_type": "code",
   "execution_count": 12,
   "metadata": {},
   "outputs": [
    {
     "name": "stdout",
     "output_type": "stream",
     "text": [
      "Accuracy наилучшей модели на валидационной выборке: 0.8164852255054432 Количество деревьев: 75\n"
     ]
    }
   ],
   "source": [
    "best_model_RF = None\n",
    "best_result_RF = 0\n",
    "best_est = 0\n",
    "for est in range(1, 100):\n",
    "    model = RandomForestClassifier(random_state=12345, n_estimators=est)\n",
    "    model.fit(features_train, target_train)\n",
    "    result = model.score(features_valid, target_valid) # качество модели на валидационной выборке\n",
    "    if result > best_result_RF:\n",
    "        best_model_RF = model # наилучшая модель\n",
    "        best_result_RF = result # наилучшее значение метрики accuracy на валидационных данных\n",
    "        best_est = est # количество деревьев\n",
    "\n",
    "print(\"Accuracy наилучшей модели на валидационной выборке:\", best_result_RF, \"Количество деревьев:\", best_est)"
   ]
  },
  {
   "cell_type": "markdown",
   "metadata": {},
   "source": [
    "**Доля правильных ответов (*accuracy*) при количестве деревьев 75 - наибольшая. Примем это значение гиперпараметра для нашей модели и алгоритма `Случайный лес`. Алгоритм обучает большое количество независимых друг от друга деревьев, а потом принимает решение на основе голосования. `Случайный лес` помогает улучшить результат предсказания и избежать переобучения.**"
   ]
  },
  {
   "cell_type": "markdown",
   "metadata": {},
   "source": [
    "### Попробуем алгоритм классификации — `Логистическая регрессия`."
   ]
  },
  {
   "cell_type": "code",
   "execution_count": 13,
   "metadata": {},
   "outputs": [
    {
     "name": "stdout",
     "output_type": "stream",
     "text": [
      "Accuracy на валидационной выборке: 0.7465007776049767\n"
     ]
    }
   ],
   "source": [
    "model = LogisticRegression(random_state=12345, solver='lbfgs', max_iter=1000)\n",
    "model.fit(features_train, target_train)\n",
    "model.predict(features_valid)\n",
    "print(\"Accuracy на валидационной выборке:\", model.score(features_valid, target_valid))"
   ]
  },
  {
   "cell_type": "code",
   "execution_count": 14,
   "metadata": {},
   "outputs": [
    {
     "name": "stdout",
     "output_type": "stream",
     "text": [
      "Accuracy на валидационной выборке: 0.7107309486780715\n"
     ]
    }
   ],
   "source": [
    "model = LogisticRegression(random_state=12345, solver='liblinear', max_iter=1000)\n",
    "model.fit(features_train, target_train)\n",
    "model.predict(features_valid)\n",
    "print(\"Accuracy на валидационной выборке:\", model.score(features_valid, target_valid))"
   ]
  },
  {
   "cell_type": "markdown",
   "metadata": {},
   "source": [
    "**Доля правильных ответов (*accuracy*) при `Логистической регрессии` намного меньше, чем у `Дерева решений` и `Случайного леса`. Смена алгоритмов решения lbfgs и liblinear практически не дали разницы.**"
   ]
  },
  {
   "cell_type": "markdown",
   "metadata": {},
   "source": [
    "**Вывод:**\n",
    "\n",
    "**Доля правильных ответов (*accuracy*) при использовании алгоритмов `Дерево решений` и `Случайный лес` практически одинаковая - более 81%. При этом известно, что самое высокое качество у `Случайного леса`: вместо одного `Дерева решений` используется целый лес. Но при этом страдает скорость решения. Нам скорость решения на данный момент не важна, но важно качество, поэтому выберем модель `Случайны лес`.**"
   ]
  },
  {
   "cell_type": "markdown",
   "metadata": {},
   "source": [
    "<a id=5></a>\n",
    "## Проверим модель на тестовой выборке."
   ]
  },
  {
   "cell_type": "markdown",
   "metadata": {},
   "source": [
    "**Используем алгоритм `Случайный лес` с найденным ранее параметром *n_estimators=75*:**"
   ]
  },
  {
   "cell_type": "code",
   "execution_count": 15,
   "metadata": {},
   "outputs": [
    {
     "name": "stdout",
     "output_type": "stream",
     "text": [
      "Случайный лес - Accuracy на тестовой выборке: 0.7978227060653188\n"
     ]
    }
   ],
   "source": [
    "model = RandomForestClassifier(random_state=12345, n_estimators=75)\n",
    "model.fit(features_train, target_train)\n",
    "prediction_test = model.predict(features_test)\n",
    "test_result = accuracy_score(target_test, prediction_test)\n",
    "print(\"Случайный лес - Accuracy на тестовой выборке:\", test_result)"
   ]
  },
  {
   "cell_type": "markdown",
   "metadata": {},
   "source": [
    "**Вывод: выбранная нами модель, использующая алгоритм `Случайный лес`, при тестовом прогоне показала долю правильных ответов (*accuracy*) практически равную доле при валидационной выборке. Модель не переобучена.** "
   ]
  },
  {
   "cell_type": "markdown",
   "metadata": {},
   "source": [
    "<a id=6></a>\n",
    "## Проверим модели на вменяемость."
   ]
  },
  {
   "cell_type": "markdown",
   "metadata": {},
   "source": [
    "**Для этого используем модель `DummyClassifier`. Она представляет собой простейшую (dummy) модель, которая всегда предсказывает наиболее часто встречающийся класс. Так мы получим контрольные данные для сравнительной оценки построенной нами более сложной модели. К тому же мы сможем убедиться в качестве ее работы, например, в том, что она выдает не просто набор случайно подобранных данных.**"
   ]
  },
  {
   "cell_type": "code",
   "execution_count": 16,
   "metadata": {},
   "outputs": [
    {
     "name": "stdout",
     "output_type": "stream",
     "text": [
      "Accuracy модели DummyClassifier: 0.6936236391912908\n"
     ]
    }
   ],
   "source": [
    "model_clf = DummyClassifier(strategy='most_frequent', random_state=12345)\n",
    "model_clf.fit(features_train, target_train)\n",
    "result_clf = model_clf.score(features_test, target_test)\n",
    "print('Accuracy модели DummyClassifier:', result_clf)"
   ]
  },
  {
   "cell_type": "markdown",
   "metadata": {},
   "source": [
    "***Accuracy* модели `DummyClassifier` ниже, чем у модели `Случайный лес (RandomForestClassifier)` - модель вменяема и эффективна.**"
   ]
  },
  {
   "cell_type": "markdown",
   "metadata": {},
   "source": [
    "<a id=7></a>\n",
    "## Общий вывод."
   ]
  },
  {
   "cell_type": "markdown",
   "metadata": {},
   "source": [
    "На анализ была представлена таблица `users_behavior.csv`. Исходные данные таблицы были разделены на три выборки: обучающую, валидационную и тестовую. А также были разделены наборы данных на признаки и целевые признаки.\n",
    "\n",
    "**Было проведено исследование качества трех разных моделей:**\n",
    "\n",
    "1. `Дерево решений (DecisionTreeClassifier)`. Был найден максимально эффективный гиперпараметр *max_depth = 5 (глубина дерева решений)*, при которой модель показывала наибольшую долю правильных ответов (accuracy) = 81.2% на тестовой выборке.\n",
    "\n",
    "\n",
    "2. `Случайный лес (RandomForestClassifier)`. Был найден максимально эффективный гиперпараметр *n_estimators = 75 (количество деревьев)*, при которой модель показывала наибольшую долю правильных ответов (accuracy) = 81.6% на тестовой выборке.\n",
    "\n",
    "\n",
    "3. `Логистическая регрессия (LogisticRegression)`. Были рассмотрены два алгоритма решения - *lbfgs* и *liblinear*, но доля правильных ответов у данной модели все равно меньше, чем у двух предыдущих - 74.7% и 71.1% на тестовой выборке.\n",
    "\n",
    "Таким образом, наиболее точный прогноз дает модель `Случайный лес`. Так как мы имеем несбалансированные исходные данные (людей на тарифе Смарт изначально намного больше, чем на тарифе Ультра), то `Случайный лес` отлично подходит для решения таких задач, так как алгоритм обучает большое количество независимых друг от друга деревьев, а потом принимает решение на основе голосования.\n",
    "\n",
    "Также модель `Случайный лес` была проверена на вменяемость - для проверки использовалась простейшая модель `DummyClassifier`, которая показала результат Accuracy - 69.4%, что меньше полученнных тестовых значений нашей модели, значит наша модель вменяема и эффективна."
   ]
  },
  {
   "cell_type": "code",
   "execution_count": null,
   "metadata": {},
   "outputs": [],
   "source": []
  }
 ],
 "metadata": {
  "ExecuteTimeLog": [
   {
    "duration": 465,
    "start_time": "2023-05-16T06:29:14.954Z"
   },
   {
    "duration": 112,
    "start_time": "2023-05-16T06:30:32.467Z"
   },
   {
    "duration": 25,
    "start_time": "2023-05-16T06:30:48.489Z"
   },
   {
    "duration": 13,
    "start_time": "2023-05-16T06:31:06.666Z"
   },
   {
    "duration": 8,
    "start_time": "2023-05-16T06:31:57.455Z"
   },
   {
    "duration": 8,
    "start_time": "2023-05-16T06:32:28.098Z"
   },
   {
    "duration": 7,
    "start_time": "2023-05-16T06:32:38.795Z"
   },
   {
    "duration": 629,
    "start_time": "2023-05-16T06:40:51.479Z"
   },
   {
    "duration": 615,
    "start_time": "2023-05-16T06:41:38.116Z"
   },
   {
    "duration": 60,
    "start_time": "2023-05-16T06:41:38.733Z"
   },
   {
    "duration": 14,
    "start_time": "2023-05-16T06:41:38.795Z"
   },
   {
    "duration": 11,
    "start_time": "2023-05-16T06:41:38.811Z"
   },
   {
    "duration": 871,
    "start_time": "2023-05-16T06:41:38.824Z"
   },
   {
    "duration": 846,
    "start_time": "2023-05-16T06:41:53.107Z"
   },
   {
    "duration": 878,
    "start_time": "2023-05-16T06:42:01.567Z"
   },
   {
    "duration": 998,
    "start_time": "2023-05-16T06:43:31.380Z"
   },
   {
    "duration": 829,
    "start_time": "2023-05-16T06:43:57.169Z"
   },
   {
    "duration": 907,
    "start_time": "2023-05-16T06:47:18.010Z"
   },
   {
    "duration": 829,
    "start_time": "2023-05-16T06:47:47.797Z"
   },
   {
    "duration": 894,
    "start_time": "2023-05-16T06:53:37.421Z"
   },
   {
    "duration": 52,
    "start_time": "2023-05-16T06:53:38.319Z"
   },
   {
    "duration": 22,
    "start_time": "2023-05-16T06:53:38.373Z"
   },
   {
    "duration": 19,
    "start_time": "2023-05-16T06:53:38.402Z"
   },
   {
    "duration": 1464,
    "start_time": "2023-05-16T06:53:38.423Z"
   },
   {
    "duration": 9,
    "start_time": "2023-05-16T06:53:39.890Z"
   },
   {
    "duration": 970,
    "start_time": "2023-05-16T07:19:37.511Z"
   },
   {
    "duration": 1180,
    "start_time": "2023-05-16T07:22:06.886Z"
   },
   {
    "duration": 978,
    "start_time": "2023-05-16T07:23:16.562Z"
   },
   {
    "duration": 1081,
    "start_time": "2023-05-16T07:23:29.990Z"
   },
   {
    "duration": 602,
    "start_time": "2023-05-16T07:25:52.919Z"
   },
   {
    "duration": 50,
    "start_time": "2023-05-16T07:25:53.523Z"
   },
   {
    "duration": 21,
    "start_time": "2023-05-16T07:25:53.576Z"
   },
   {
    "duration": 19,
    "start_time": "2023-05-16T07:25:53.599Z"
   },
   {
    "duration": 1301,
    "start_time": "2023-05-16T07:25:53.622Z"
   },
   {
    "duration": 7,
    "start_time": "2023-05-16T07:25:54.924Z"
   },
   {
    "duration": 76,
    "start_time": "2023-05-16T07:31:03.422Z"
   },
   {
    "duration": 1310,
    "start_time": "2023-05-16T07:31:39.528Z"
   },
   {
    "duration": 60,
    "start_time": "2023-05-16T07:31:40.840Z"
   },
   {
    "duration": 12,
    "start_time": "2023-05-16T07:31:40.902Z"
   },
   {
    "duration": 13,
    "start_time": "2023-05-16T07:31:40.916Z"
   },
   {
    "duration": 940,
    "start_time": "2023-05-16T07:31:40.931Z"
   },
   {
    "duration": 5,
    "start_time": "2023-05-16T07:31:41.873Z"
   },
   {
    "duration": 5,
    "start_time": "2023-05-16T07:31:41.879Z"
   },
   {
    "duration": 1263,
    "start_time": "2023-05-16T07:37:35.847Z"
   },
   {
    "duration": 56,
    "start_time": "2023-05-16T07:37:37.112Z"
   },
   {
    "duration": 13,
    "start_time": "2023-05-16T07:37:37.169Z"
   },
   {
    "duration": 10,
    "start_time": "2023-05-16T07:37:37.184Z"
   },
   {
    "duration": 981,
    "start_time": "2023-05-16T07:37:37.196Z"
   },
   {
    "duration": 6,
    "start_time": "2023-05-16T07:37:38.179Z"
   },
   {
    "duration": 7,
    "start_time": "2023-05-16T07:37:38.187Z"
   },
   {
    "duration": 4,
    "start_time": "2023-05-16T07:42:34.569Z"
   },
   {
    "duration": 3,
    "start_time": "2023-05-16T07:47:42.691Z"
   },
   {
    "duration": 6,
    "start_time": "2023-05-16T08:54:25.929Z"
   },
   {
    "duration": 494,
    "start_time": "2023-05-16T08:56:21.159Z"
   },
   {
    "duration": 402,
    "start_time": "2023-05-16T08:57:41.649Z"
   },
   {
    "duration": 1207,
    "start_time": "2023-05-16T09:00:32.703Z"
   },
   {
    "duration": 53,
    "start_time": "2023-05-16T09:00:33.912Z"
   },
   {
    "duration": 13,
    "start_time": "2023-05-16T09:00:33.967Z"
   },
   {
    "duration": 12,
    "start_time": "2023-05-16T09:00:33.981Z"
   },
   {
    "duration": 989,
    "start_time": "2023-05-16T09:00:33.995Z"
   },
   {
    "duration": 5,
    "start_time": "2023-05-16T09:00:34.986Z"
   },
   {
    "duration": 9,
    "start_time": "2023-05-16T09:00:34.993Z"
   },
   {
    "duration": 7,
    "start_time": "2023-05-16T09:00:35.004Z"
   },
   {
    "duration": 453,
    "start_time": "2023-05-16T09:00:35.012Z"
   },
   {
    "duration": 6,
    "start_time": "2023-05-16T09:00:35.466Z"
   },
   {
    "duration": 1397,
    "start_time": "2023-05-16T11:27:34.072Z"
   },
   {
    "duration": 55,
    "start_time": "2023-05-16T11:27:35.471Z"
   },
   {
    "duration": 14,
    "start_time": "2023-05-16T11:27:35.528Z"
   },
   {
    "duration": 15,
    "start_time": "2023-05-16T11:27:35.543Z"
   },
   {
    "duration": 1126,
    "start_time": "2023-05-16T11:27:35.565Z"
   },
   {
    "duration": 6,
    "start_time": "2023-05-16T11:27:36.693Z"
   },
   {
    "duration": 14,
    "start_time": "2023-05-16T11:27:36.701Z"
   },
   {
    "duration": 4,
    "start_time": "2023-05-16T11:27:36.717Z"
   },
   {
    "duration": 411,
    "start_time": "2023-05-16T11:27:36.723Z"
   },
   {
    "duration": 5,
    "start_time": "2023-05-16T11:27:37.136Z"
   },
   {
    "duration": 41,
    "start_time": "2023-05-16T11:27:37.143Z"
   },
   {
    "duration": 59,
    "start_time": "2023-05-16T11:30:02.471Z"
   },
   {
    "duration": 63,
    "start_time": "2023-05-16T11:30:16.168Z"
   },
   {
    "duration": 1670,
    "start_time": "2023-05-16T11:40:33.722Z"
   },
   {
    "duration": 55,
    "start_time": "2023-05-16T11:40:35.394Z"
   },
   {
    "duration": 21,
    "start_time": "2023-05-16T11:40:35.463Z"
   },
   {
    "duration": 13,
    "start_time": "2023-05-16T11:40:35.487Z"
   },
   {
    "duration": 1149,
    "start_time": "2023-05-16T11:40:35.502Z"
   },
   {
    "duration": 6,
    "start_time": "2023-05-16T11:40:36.654Z"
   },
   {
    "duration": 10,
    "start_time": "2023-05-16T11:40:36.662Z"
   },
   {
    "duration": 5,
    "start_time": "2023-05-16T11:40:36.675Z"
   },
   {
    "duration": 464,
    "start_time": "2023-05-16T11:40:36.682Z"
   },
   {
    "duration": 18,
    "start_time": "2023-05-16T11:40:37.148Z"
   },
   {
    "duration": 108,
    "start_time": "2023-05-16T11:40:37.168Z"
   },
   {
    "duration": 306,
    "start_time": "2023-05-16T11:40:37.278Z"
   },
   {
    "duration": 1452,
    "start_time": "2023-05-16T11:42:34.865Z"
   },
   {
    "duration": 66,
    "start_time": "2023-05-16T11:42:36.319Z"
   },
   {
    "duration": 14,
    "start_time": "2023-05-16T11:42:36.387Z"
   },
   {
    "duration": 11,
    "start_time": "2023-05-16T11:42:36.403Z"
   },
   {
    "duration": 1081,
    "start_time": "2023-05-16T11:42:36.416Z"
   },
   {
    "duration": 6,
    "start_time": "2023-05-16T11:42:37.499Z"
   },
   {
    "duration": 6,
    "start_time": "2023-05-16T11:42:37.507Z"
   },
   {
    "duration": 4,
    "start_time": "2023-05-16T11:42:37.514Z"
   },
   {
    "duration": 418,
    "start_time": "2023-05-16T11:42:37.519Z"
   },
   {
    "duration": 17,
    "start_time": "2023-05-16T11:42:37.938Z"
   },
   {
    "duration": 70,
    "start_time": "2023-05-16T11:42:37.961Z"
   },
   {
    "duration": 311,
    "start_time": "2023-05-16T11:42:38.032Z"
   },
   {
    "duration": 314,
    "start_time": "2023-05-16T11:46:04.410Z"
   },
   {
    "duration": 275,
    "start_time": "2023-05-16T11:46:55.523Z"
   },
   {
    "duration": 1336,
    "start_time": "2023-05-16T11:54:12.489Z"
   },
   {
    "duration": 65,
    "start_time": "2023-05-16T11:54:13.827Z"
   },
   {
    "duration": 16,
    "start_time": "2023-05-16T11:54:13.893Z"
   },
   {
    "duration": 12,
    "start_time": "2023-05-16T11:54:13.911Z"
   },
   {
    "duration": 1147,
    "start_time": "2023-05-16T11:54:13.926Z"
   },
   {
    "duration": 6,
    "start_time": "2023-05-16T11:54:15.074Z"
   },
   {
    "duration": 9,
    "start_time": "2023-05-16T11:54:15.081Z"
   },
   {
    "duration": 6,
    "start_time": "2023-05-16T11:54:15.091Z"
   },
   {
    "duration": 406,
    "start_time": "2023-05-16T11:54:15.098Z"
   },
   {
    "duration": 7,
    "start_time": "2023-05-16T11:54:15.506Z"
   },
   {
    "duration": 164,
    "start_time": "2023-05-16T11:54:15.515Z"
   },
   {
    "duration": 63,
    "start_time": "2023-05-16T11:54:26.792Z"
   },
   {
    "duration": 261,
    "start_time": "2023-05-16T11:54:58.766Z"
   },
   {
    "duration": 161,
    "start_time": "2023-05-16T11:55:18.786Z"
   },
   {
    "duration": 844,
    "start_time": "2023-05-16T11:55:21.557Z"
   },
   {
    "duration": 61,
    "start_time": "2023-05-16T11:55:32.776Z"
   },
   {
    "duration": 233,
    "start_time": "2023-05-16T11:55:35.063Z"
   },
   {
    "duration": 63,
    "start_time": "2023-05-16T11:56:16.960Z"
   },
   {
    "duration": 232,
    "start_time": "2023-05-16T11:56:22.702Z"
   },
   {
    "duration": 30,
    "start_time": "2023-05-16T12:08:06.729Z"
   },
   {
    "duration": 29,
    "start_time": "2023-05-16T12:09:25.621Z"
   },
   {
    "duration": 1504,
    "start_time": "2023-05-16T12:13:03.406Z"
   },
   {
    "duration": 59,
    "start_time": "2023-05-16T12:13:04.912Z"
   },
   {
    "duration": 16,
    "start_time": "2023-05-16T12:13:04.973Z"
   },
   {
    "duration": 23,
    "start_time": "2023-05-16T12:13:04.991Z"
   },
   {
    "duration": 1164,
    "start_time": "2023-05-16T12:13:05.017Z"
   },
   {
    "duration": 10,
    "start_time": "2023-05-16T12:13:06.183Z"
   },
   {
    "duration": 12,
    "start_time": "2023-05-16T12:13:06.196Z"
   },
   {
    "duration": 6,
    "start_time": "2023-05-16T12:13:06.211Z"
   },
   {
    "duration": 462,
    "start_time": "2023-05-16T12:13:06.219Z"
   },
   {
    "duration": 6,
    "start_time": "2023-05-16T12:13:06.684Z"
   },
   {
    "duration": 1060,
    "start_time": "2023-05-16T12:13:06.692Z"
   },
   {
    "duration": 22003,
    "start_time": "2023-05-16T12:13:07.754Z"
   },
   {
    "duration": 33,
    "start_time": "2023-05-16T12:13:29.762Z"
   },
   {
    "duration": 1464,
    "start_time": "2023-05-16T12:34:30.624Z"
   },
   {
    "duration": 49,
    "start_time": "2023-05-16T12:34:32.090Z"
   },
   {
    "duration": 26,
    "start_time": "2023-05-16T12:34:32.141Z"
   },
   {
    "duration": 13,
    "start_time": "2023-05-16T12:34:32.172Z"
   },
   {
    "duration": 1321,
    "start_time": "2023-05-16T12:34:32.188Z"
   },
   {
    "duration": 8,
    "start_time": "2023-05-16T12:34:33.511Z"
   },
   {
    "duration": 8,
    "start_time": "2023-05-16T12:34:33.521Z"
   },
   {
    "duration": 29,
    "start_time": "2023-05-16T12:34:33.531Z"
   },
   {
    "duration": 379,
    "start_time": "2023-05-16T12:34:33.562Z"
   },
   {
    "duration": 9,
    "start_time": "2023-05-16T12:34:33.950Z"
   },
   {
    "duration": 1138,
    "start_time": "2023-05-16T12:34:33.960Z"
   },
   {
    "duration": 22868,
    "start_time": "2023-05-16T12:34:52.356Z"
   },
   {
    "duration": 1478,
    "start_time": "2023-05-16T12:38:09.476Z"
   },
   {
    "duration": 62,
    "start_time": "2023-05-16T12:38:10.957Z"
   },
   {
    "duration": 21,
    "start_time": "2023-05-16T12:38:11.021Z"
   },
   {
    "duration": 34,
    "start_time": "2023-05-16T12:38:11.044Z"
   },
   {
    "duration": 1158,
    "start_time": "2023-05-16T12:38:11.081Z"
   },
   {
    "duration": 13,
    "start_time": "2023-05-16T12:38:12.240Z"
   },
   {
    "duration": 11,
    "start_time": "2023-05-16T12:38:12.263Z"
   },
   {
    "duration": 4,
    "start_time": "2023-05-16T12:38:12.277Z"
   },
   {
    "duration": 429,
    "start_time": "2023-05-16T12:38:12.283Z"
   },
   {
    "duration": 7,
    "start_time": "2023-05-16T12:38:12.714Z"
   },
   {
    "duration": 1043,
    "start_time": "2023-05-16T12:38:12.724Z"
   },
   {
    "duration": 21466,
    "start_time": "2023-05-16T12:38:13.768Z"
   },
   {
    "duration": 46,
    "start_time": "2023-05-16T12:38:35.237Z"
   },
   {
    "duration": 290,
    "start_time": "2023-05-16T12:52:15.788Z"
   },
   {
    "duration": 321,
    "start_time": "2023-05-16T12:54:32.208Z"
   },
   {
    "duration": 291,
    "start_time": "2023-05-16T12:58:06.597Z"
   },
   {
    "duration": 1791,
    "start_time": "2023-05-16T12:58:25.221Z"
   },
   {
    "duration": 69,
    "start_time": "2023-05-16T12:58:27.015Z"
   },
   {
    "duration": 24,
    "start_time": "2023-05-16T12:58:27.086Z"
   },
   {
    "duration": 22,
    "start_time": "2023-05-16T12:58:27.115Z"
   },
   {
    "duration": 1378,
    "start_time": "2023-05-16T12:58:27.141Z"
   },
   {
    "duration": 7,
    "start_time": "2023-05-16T12:58:28.521Z"
   },
   {
    "duration": 23,
    "start_time": "2023-05-16T12:58:28.531Z"
   },
   {
    "duration": 7,
    "start_time": "2023-05-16T12:58:28.556Z"
   },
   {
    "duration": 573,
    "start_time": "2023-05-16T12:58:28.565Z"
   },
   {
    "duration": 16,
    "start_time": "2023-05-16T12:58:29.140Z"
   },
   {
    "duration": 1243,
    "start_time": "2023-05-16T12:58:29.159Z"
   },
   {
    "duration": 23866,
    "start_time": "2023-05-16T12:58:30.405Z"
   },
   {
    "duration": 40,
    "start_time": "2023-05-16T12:58:54.273Z"
   },
   {
    "duration": 301,
    "start_time": "2023-05-16T12:58:54.316Z"
   },
   {
    "duration": 284,
    "start_time": "2023-05-16T13:06:54.249Z"
   },
   {
    "duration": 29,
    "start_time": "2023-05-16T13:08:59.796Z"
   },
   {
    "duration": 22,
    "start_time": "2023-05-16T13:10:25.752Z"
   },
   {
    "duration": 1853,
    "start_time": "2023-05-16T13:12:24.560Z"
   },
   {
    "duration": 56,
    "start_time": "2023-05-16T13:12:26.415Z"
   },
   {
    "duration": 25,
    "start_time": "2023-05-16T13:12:26.473Z"
   },
   {
    "duration": 17,
    "start_time": "2023-05-16T13:12:26.501Z"
   },
   {
    "duration": 1310,
    "start_time": "2023-05-16T13:12:26.521Z"
   },
   {
    "duration": 17,
    "start_time": "2023-05-16T13:12:27.833Z"
   },
   {
    "duration": 9,
    "start_time": "2023-05-16T13:12:27.853Z"
   },
   {
    "duration": 8,
    "start_time": "2023-05-16T13:12:27.864Z"
   },
   {
    "duration": 450,
    "start_time": "2023-05-16T13:12:27.874Z"
   },
   {
    "duration": 7,
    "start_time": "2023-05-16T13:12:28.329Z"
   },
   {
    "duration": 1185,
    "start_time": "2023-05-16T13:12:28.337Z"
   },
   {
    "duration": 6379,
    "start_time": "2023-05-16T13:12:29.524Z"
   },
   {
    "duration": 33,
    "start_time": "2023-05-16T13:12:35.905Z"
   },
   {
    "duration": 298,
    "start_time": "2023-05-16T13:12:35.942Z"
   },
   {
    "duration": 13,
    "start_time": "2023-05-16T13:12:36.242Z"
   },
   {
    "duration": 31,
    "start_time": "2023-05-16T13:12:36.257Z"
   },
   {
    "duration": 40,
    "start_time": "2023-05-16T13:31:31.389Z"
   },
   {
    "duration": 1679,
    "start_time": "2023-05-16T13:31:49.549Z"
   },
   {
    "duration": 70,
    "start_time": "2023-05-16T13:31:51.232Z"
   },
   {
    "duration": 22,
    "start_time": "2023-05-16T13:31:51.305Z"
   },
   {
    "duration": 20,
    "start_time": "2023-05-16T13:31:51.329Z"
   },
   {
    "duration": 1446,
    "start_time": "2023-05-16T13:31:51.352Z"
   },
   {
    "duration": 7,
    "start_time": "2023-05-16T13:31:52.800Z"
   },
   {
    "duration": 8,
    "start_time": "2023-05-16T13:31:52.809Z"
   },
   {
    "duration": 5,
    "start_time": "2023-05-16T13:31:52.819Z"
   },
   {
    "duration": 566,
    "start_time": "2023-05-16T13:31:52.849Z"
   },
   {
    "duration": 9,
    "start_time": "2023-05-16T13:31:53.418Z"
   },
   {
    "duration": 1224,
    "start_time": "2023-05-16T13:31:53.429Z"
   },
   {
    "duration": 6134,
    "start_time": "2023-05-16T13:31:54.656Z"
   },
   {
    "duration": 41,
    "start_time": "2023-05-16T13:32:00.793Z"
   },
   {
    "duration": 237,
    "start_time": "2023-05-16T13:32:00.863Z"
   },
   {
    "duration": 18,
    "start_time": "2023-05-16T13:32:01.103Z"
   },
   {
    "duration": 59,
    "start_time": "2023-05-16T13:32:01.124Z"
   },
   {
    "duration": 1557,
    "start_time": "2023-05-16T13:33:37.993Z"
   },
   {
    "duration": 1142,
    "start_time": "2023-05-16T13:36:32.892Z"
   },
   {
    "duration": 41,
    "start_time": "2023-05-16T13:57:17.451Z"
   },
   {
    "duration": 1712,
    "start_time": "2023-05-16T13:57:27.411Z"
   },
   {
    "duration": 52,
    "start_time": "2023-05-16T13:57:29.125Z"
   },
   {
    "duration": 15,
    "start_time": "2023-05-16T13:57:29.179Z"
   },
   {
    "duration": 16,
    "start_time": "2023-05-16T13:57:29.196Z"
   },
   {
    "duration": 1276,
    "start_time": "2023-05-16T13:57:29.215Z"
   },
   {
    "duration": 8,
    "start_time": "2023-05-16T13:57:30.493Z"
   },
   {
    "duration": 23,
    "start_time": "2023-05-16T13:57:30.503Z"
   },
   {
    "duration": 37,
    "start_time": "2023-05-16T13:57:30.528Z"
   },
   {
    "duration": 522,
    "start_time": "2023-05-16T13:57:30.567Z"
   },
   {
    "duration": 6,
    "start_time": "2023-05-16T13:57:31.091Z"
   },
   {
    "duration": 1163,
    "start_time": "2023-05-16T13:57:31.099Z"
   },
   {
    "duration": 5755,
    "start_time": "2023-05-16T13:57:32.264Z"
   },
   {
    "duration": 39,
    "start_time": "2023-05-16T13:57:38.021Z"
   },
   {
    "duration": 216,
    "start_time": "2023-05-16T13:57:38.065Z"
   },
   {
    "duration": 18,
    "start_time": "2023-05-16T13:57:38.282Z"
   },
   {
    "duration": 35,
    "start_time": "2023-05-16T13:57:38.303Z"
   },
   {
    "duration": 111,
    "start_time": "2023-05-16T14:10:07.110Z"
   },
   {
    "duration": 44,
    "start_time": "2023-05-16T14:10:37.097Z"
   },
   {
    "duration": 1361,
    "start_time": "2023-05-16T14:10:45.212Z"
   },
   {
    "duration": 55,
    "start_time": "2023-05-16T14:10:46.576Z"
   },
   {
    "duration": 14,
    "start_time": "2023-05-16T14:10:46.633Z"
   },
   {
    "duration": 16,
    "start_time": "2023-05-16T14:10:46.648Z"
   },
   {
    "duration": 1128,
    "start_time": "2023-05-16T14:10:46.667Z"
   },
   {
    "duration": 7,
    "start_time": "2023-05-16T14:10:47.796Z"
   },
   {
    "duration": 8,
    "start_time": "2023-05-16T14:10:47.804Z"
   },
   {
    "duration": 5,
    "start_time": "2023-05-16T14:10:47.814Z"
   },
   {
    "duration": 483,
    "start_time": "2023-05-16T14:10:47.820Z"
   },
   {
    "duration": 10,
    "start_time": "2023-05-16T14:10:48.305Z"
   },
   {
    "duration": 1134,
    "start_time": "2023-05-16T14:10:48.318Z"
   },
   {
    "duration": 5155,
    "start_time": "2023-05-16T14:10:49.455Z"
   },
   {
    "duration": 54,
    "start_time": "2023-05-16T14:10:54.612Z"
   },
   {
    "duration": 215,
    "start_time": "2023-05-16T14:10:54.670Z"
   },
   {
    "duration": 14,
    "start_time": "2023-05-16T14:10:54.887Z"
   },
   {
    "duration": 59,
    "start_time": "2023-05-16T14:10:54.903Z"
   },
   {
    "duration": 7,
    "start_time": "2023-05-16T14:10:54.964Z"
   },
   {
    "duration": 1457,
    "start_time": "2023-05-17T04:03:51.454Z"
   },
   {
    "duration": 194,
    "start_time": "2023-05-17T04:03:52.913Z"
   },
   {
    "duration": 15,
    "start_time": "2023-05-17T04:03:53.108Z"
   },
   {
    "duration": 10,
    "start_time": "2023-05-17T04:03:53.124Z"
   },
   {
    "duration": 888,
    "start_time": "2023-05-17T04:03:53.136Z"
   },
   {
    "duration": 5,
    "start_time": "2023-05-17T04:03:54.025Z"
   },
   {
    "duration": 5,
    "start_time": "2023-05-17T04:03:54.031Z"
   },
   {
    "duration": 11,
    "start_time": "2023-05-17T04:03:54.038Z"
   },
   {
    "duration": 377,
    "start_time": "2023-05-17T04:03:54.050Z"
   },
   {
    "duration": 6,
    "start_time": "2023-05-17T04:03:54.428Z"
   },
   {
    "duration": 971,
    "start_time": "2023-05-17T04:03:54.435Z"
   },
   {
    "duration": 4728,
    "start_time": "2023-05-17T04:03:55.409Z"
   },
   {
    "duration": 19,
    "start_time": "2023-05-17T04:04:00.138Z"
   },
   {
    "duration": 203,
    "start_time": "2023-05-17T04:04:00.159Z"
   },
   {
    "duration": 12,
    "start_time": "2023-05-17T04:04:00.363Z"
   },
   {
    "duration": 67,
    "start_time": "2023-05-17T04:04:00.377Z"
   },
   {
    "duration": 19,
    "start_time": "2023-05-17T04:04:00.445Z"
   },
   {
    "duration": 9,
    "start_time": "2023-05-17T04:04:20.308Z"
   },
   {
    "duration": 5,
    "start_time": "2023-05-17T04:09:29.658Z"
   },
   {
    "duration": 16,
    "start_time": "2023-05-17T04:37:12.120Z"
   },
   {
    "duration": 1433,
    "start_time": "2023-05-17T04:37:39.411Z"
   },
   {
    "duration": 83,
    "start_time": "2023-05-17T04:37:40.846Z"
   },
   {
    "duration": 15,
    "start_time": "2023-05-17T04:37:40.931Z"
   },
   {
    "duration": 11,
    "start_time": "2023-05-17T04:37:40.948Z"
   },
   {
    "duration": 1060,
    "start_time": "2023-05-17T04:37:40.962Z"
   },
   {
    "duration": 8,
    "start_time": "2023-05-17T04:37:42.031Z"
   },
   {
    "duration": 12,
    "start_time": "2023-05-17T04:37:42.041Z"
   },
   {
    "duration": 9,
    "start_time": "2023-05-17T04:37:42.055Z"
   },
   {
    "duration": 422,
    "start_time": "2023-05-17T04:37:42.065Z"
   },
   {
    "duration": 13,
    "start_time": "2023-05-17T04:37:42.489Z"
   },
   {
    "duration": 1039,
    "start_time": "2023-05-17T04:37:42.511Z"
   },
   {
    "duration": 5279,
    "start_time": "2023-05-17T04:37:43.551Z"
   },
   {
    "duration": 22,
    "start_time": "2023-05-17T04:37:48.831Z"
   },
   {
    "duration": 10,
    "start_time": "2023-05-17T04:37:48.855Z"
   },
   {
    "duration": 216,
    "start_time": "2023-05-17T04:37:48.867Z"
   },
   {
    "duration": 26,
    "start_time": "2023-05-17T04:37:49.086Z"
   },
   {
    "duration": 41,
    "start_time": "2023-05-17T04:37:49.113Z"
   },
   {
    "duration": 4,
    "start_time": "2023-05-17T04:37:49.155Z"
   },
   {
    "duration": 1540,
    "start_time": "2023-05-17T04:48:41.082Z"
   },
   {
    "duration": 98,
    "start_time": "2023-05-17T04:48:42.624Z"
   },
   {
    "duration": 16,
    "start_time": "2023-05-17T04:48:42.723Z"
   },
   {
    "duration": 11,
    "start_time": "2023-05-17T04:48:42.741Z"
   },
   {
    "duration": 953,
    "start_time": "2023-05-17T04:48:42.753Z"
   },
   {
    "duration": 6,
    "start_time": "2023-05-17T04:48:43.707Z"
   },
   {
    "duration": 31,
    "start_time": "2023-05-17T04:48:43.714Z"
   },
   {
    "duration": 6,
    "start_time": "2023-05-17T04:48:43.746Z"
   },
   {
    "duration": 328,
    "start_time": "2023-05-17T04:48:43.753Z"
   },
   {
    "duration": 20,
    "start_time": "2023-05-17T04:48:44.082Z"
   },
   {
    "duration": 1127,
    "start_time": "2023-05-17T04:48:44.111Z"
   },
   {
    "duration": 5636,
    "start_time": "2023-05-17T04:48:45.239Z"
   },
   {
    "duration": 43,
    "start_time": "2023-05-17T04:48:50.876Z"
   },
   {
    "duration": 40,
    "start_time": "2023-05-17T04:48:50.921Z"
   },
   {
    "duration": 251,
    "start_time": "2023-05-17T04:48:50.963Z"
   },
   {
    "duration": 17,
    "start_time": "2023-05-17T04:48:51.216Z"
   },
   {
    "duration": 37,
    "start_time": "2023-05-17T04:48:51.234Z"
   },
   {
    "duration": 30,
    "start_time": "2023-05-17T04:48:51.273Z"
   },
   {
    "duration": 23,
    "start_time": "2023-05-17T04:48:51.318Z"
   },
   {
    "duration": 1561,
    "start_time": "2023-05-17T05:04:12.670Z"
   },
   {
    "duration": 106,
    "start_time": "2023-05-17T05:04:14.233Z"
   },
   {
    "duration": 13,
    "start_time": "2023-05-17T05:04:14.340Z"
   },
   {
    "duration": 12,
    "start_time": "2023-05-17T05:04:14.354Z"
   },
   {
    "duration": 1040,
    "start_time": "2023-05-17T05:04:14.369Z"
   },
   {
    "duration": 9,
    "start_time": "2023-05-17T05:04:15.411Z"
   },
   {
    "duration": 8,
    "start_time": "2023-05-17T05:04:15.422Z"
   },
   {
    "duration": 294,
    "start_time": "2023-05-17T05:04:15.431Z"
   },
   {
    "duration": 389,
    "start_time": "2023-05-17T05:04:15.727Z"
   },
   {
    "duration": 5,
    "start_time": "2023-05-17T05:04:16.118Z"
   },
   {
    "duration": 1091,
    "start_time": "2023-05-17T05:04:16.125Z"
   },
   {
    "duration": 5190,
    "start_time": "2023-05-17T05:04:17.218Z"
   },
   {
    "duration": 27,
    "start_time": "2023-05-17T05:04:22.414Z"
   },
   {
    "duration": 21,
    "start_time": "2023-05-17T05:04:22.444Z"
   },
   {
    "duration": 230,
    "start_time": "2023-05-17T05:04:22.466Z"
   },
   {
    "duration": 19,
    "start_time": "2023-05-17T05:04:22.698Z"
   },
   {
    "duration": 42,
    "start_time": "2023-05-17T05:04:22.719Z"
   },
   {
    "duration": 9,
    "start_time": "2023-05-17T05:04:22.763Z"
   },
   {
    "duration": 56,
    "start_time": "2023-05-17T05:04:22.774Z"
   },
   {
    "duration": 1817,
    "start_time": "2023-05-17T05:23:07.577Z"
   },
   {
    "duration": 116,
    "start_time": "2023-05-17T05:23:09.396Z"
   },
   {
    "duration": 19,
    "start_time": "2023-05-17T05:23:10.588Z"
   },
   {
    "duration": 15,
    "start_time": "2023-05-17T05:23:10.854Z"
   },
   {
    "duration": 1090,
    "start_time": "2023-05-17T05:23:13.372Z"
   },
   {
    "duration": 6,
    "start_time": "2023-05-17T05:23:17.158Z"
   },
   {
    "duration": 6,
    "start_time": "2023-05-17T05:23:50.548Z"
   },
   {
    "duration": 5,
    "start_time": "2023-05-17T05:23:50.965Z"
   },
   {
    "duration": 371,
    "start_time": "2023-05-17T05:23:56.246Z"
   },
   {
    "duration": 6,
    "start_time": "2023-05-17T05:24:02.963Z"
   },
   {
    "duration": 944,
    "start_time": "2023-05-17T05:24:58.196Z"
   },
   {
    "duration": 4840,
    "start_time": "2023-05-17T05:25:03.652Z"
   },
   {
    "duration": 34,
    "start_time": "2023-05-17T05:25:14.069Z"
   },
   {
    "duration": 14,
    "start_time": "2023-05-17T05:25:14.357Z"
   },
   {
    "duration": 1867,
    "start_time": "2023-05-17T08:52:27.032Z"
   },
   {
    "duration": 387,
    "start_time": "2023-05-17T08:52:28.903Z"
   },
   {
    "duration": 22,
    "start_time": "2023-05-17T08:52:29.291Z"
   },
   {
    "duration": 31,
    "start_time": "2023-05-17T08:52:29.315Z"
   },
   {
    "duration": 1117,
    "start_time": "2023-05-17T08:52:29.348Z"
   },
   {
    "duration": 6,
    "start_time": "2023-05-17T08:52:30.467Z"
   },
   {
    "duration": 68,
    "start_time": "2023-05-17T08:52:30.474Z"
   },
   {
    "duration": 78,
    "start_time": "2023-05-17T08:52:30.544Z"
   },
   {
    "duration": 398,
    "start_time": "2023-05-17T08:53:06.132Z"
   },
   {
    "duration": 5,
    "start_time": "2023-05-17T08:53:11.870Z"
   },
   {
    "duration": 1629,
    "start_time": "2023-05-17T08:53:21.721Z"
   },
   {
    "duration": 221,
    "start_time": "2023-05-17T08:53:23.351Z"
   },
   {
    "duration": 12,
    "start_time": "2023-05-17T08:53:23.574Z"
   },
   {
    "duration": 16,
    "start_time": "2023-05-17T08:53:23.587Z"
   },
   {
    "duration": 1091,
    "start_time": "2023-05-17T08:53:23.606Z"
   },
   {
    "duration": 7,
    "start_time": "2023-05-17T08:53:24.698Z"
   },
   {
    "duration": 40,
    "start_time": "2023-05-17T08:53:24.707Z"
   },
   {
    "duration": 13,
    "start_time": "2023-05-17T08:53:24.749Z"
   },
   {
    "duration": 397,
    "start_time": "2023-05-17T08:53:24.764Z"
   },
   {
    "duration": 5,
    "start_time": "2023-05-17T08:53:25.163Z"
   },
   {
    "duration": 1018,
    "start_time": "2023-05-17T08:53:25.170Z"
   },
   {
    "duration": 5078,
    "start_time": "2023-05-17T08:53:26.194Z"
   },
   {
    "duration": 47,
    "start_time": "2023-05-17T08:53:31.273Z"
   },
   {
    "duration": 31,
    "start_time": "2023-05-17T08:53:31.330Z"
   },
   {
    "duration": 281,
    "start_time": "2023-05-17T08:53:31.363Z"
   },
   {
    "duration": 12,
    "start_time": "2023-05-17T08:53:31.645Z"
   },
   {
    "duration": 114,
    "start_time": "2023-05-17T08:53:31.659Z"
   },
   {
    "duration": 18,
    "start_time": "2023-05-17T08:53:31.775Z"
   },
   {
    "duration": 65,
    "start_time": "2023-05-17T08:53:31.801Z"
   },
   {
    "duration": 1670,
    "start_time": "2023-05-17T09:02:38.366Z"
   },
   {
    "duration": 96,
    "start_time": "2023-05-17T09:02:40.039Z"
   },
   {
    "duration": 15,
    "start_time": "2023-05-17T09:02:40.137Z"
   },
   {
    "duration": 12,
    "start_time": "2023-05-17T09:02:40.155Z"
   },
   {
    "duration": 1168,
    "start_time": "2023-05-17T09:02:40.170Z"
   },
   {
    "duration": 5,
    "start_time": "2023-05-17T09:02:41.339Z"
   },
   {
    "duration": 13,
    "start_time": "2023-05-17T09:02:41.346Z"
   },
   {
    "duration": 21,
    "start_time": "2023-05-17T09:02:41.361Z"
   },
   {
    "duration": 389,
    "start_time": "2023-05-17T09:02:41.384Z"
   },
   {
    "duration": 5,
    "start_time": "2023-05-17T09:02:41.774Z"
   },
   {
    "duration": 1003,
    "start_time": "2023-05-17T09:02:41.781Z"
   },
   {
    "duration": 19016,
    "start_time": "2023-05-17T09:02:42.786Z"
   },
   {
    "duration": 39,
    "start_time": "2023-05-17T09:04:32.120Z"
   },
   {
    "duration": 11,
    "start_time": "2023-05-17T09:04:36.076Z"
   },
   {
    "duration": 207,
    "start_time": "2023-05-17T09:08:15.750Z"
   },
   {
    "duration": 295,
    "start_time": "2023-05-17T09:08:47.758Z"
   },
   {
    "duration": 1557,
    "start_time": "2023-05-17T09:22:30.677Z"
   },
   {
    "duration": 97,
    "start_time": "2023-05-17T09:22:32.236Z"
   },
   {
    "duration": 15,
    "start_time": "2023-05-17T09:22:32.335Z"
   },
   {
    "duration": 32,
    "start_time": "2023-05-17T09:22:32.352Z"
   },
   {
    "duration": 1085,
    "start_time": "2023-05-17T09:22:32.387Z"
   },
   {
    "duration": 6,
    "start_time": "2023-05-17T09:22:33.474Z"
   },
   {
    "duration": 40,
    "start_time": "2023-05-17T09:22:33.497Z"
   },
   {
    "duration": 18,
    "start_time": "2023-05-17T09:22:33.539Z"
   },
   {
    "duration": 430,
    "start_time": "2023-05-17T09:22:33.558Z"
   },
   {
    "duration": 13,
    "start_time": "2023-05-17T09:22:33.989Z"
   },
   {
    "duration": 1046,
    "start_time": "2023-05-17T09:22:34.008Z"
   },
   {
    "duration": 20448,
    "start_time": "2023-05-17T09:22:35.056Z"
   },
   {
    "duration": 41,
    "start_time": "2023-05-17T09:22:55.509Z"
   },
   {
    "duration": 11,
    "start_time": "2023-05-17T09:22:55.552Z"
   },
   {
    "duration": 306,
    "start_time": "2023-05-17T09:22:55.565Z"
   },
   {
    "duration": 5,
    "start_time": "2023-05-17T09:22:55.873Z"
   },
   {
    "duration": 10,
    "start_time": "2023-05-17T09:24:43.212Z"
   },
   {
    "duration": 131,
    "start_time": "2023-05-17T12:06:11.321Z"
   }
  ],
  "kernelspec": {
   "display_name": "Python 3 (ipykernel)",
   "language": "python",
   "name": "python3"
  },
  "language_info": {
   "codemirror_mode": {
    "name": "ipython",
    "version": 3
   },
   "file_extension": ".py",
   "mimetype": "text/x-python",
   "name": "python",
   "nbconvert_exporter": "python",
   "pygments_lexer": "ipython3",
   "version": "3.11.2"
  },
  "toc": {
   "base_numbering": 1,
   "nav_menu": {},
   "number_sections": true,
   "sideBar": true,
   "skip_h1_title": true,
   "title_cell": "Table of Contents",
   "title_sidebar": "Contents",
   "toc_cell": false,
   "toc_position": {},
   "toc_section_display": true,
   "toc_window_display": true
  }
 },
 "nbformat": 4,
 "nbformat_minor": 4
}
