{
 "cells": [
  {
   "cell_type": "markdown",
   "metadata": {
    "toc": true
   },
   "source": [
    "<h1>Содержание<span class=\"tocSkip\"></span></h1>\n",
    "<div class=\"toc\"><ul class=\"toc-item\"><li><span><a href=\"#Обзор-данных\" data-toc-modified-id=\"Обзор-данных-1\"><span class=\"toc-item-num\">1&nbsp;&nbsp;</span>Обзор данных</a></span><ul class=\"toc-item\"><li><span><a href=\"#Считаем-данные-из-csv-файла-и-сохраним-в-переменную.\" data-toc-modified-id=\"Считаем-данные-из-csv-файла-и-сохраним-в-переменную.-1.1\"><span class=\"toc-item-num\">1.1&nbsp;&nbsp;</span>Считаем данные из csv-файла и сохраним в переменную.</a></span></li><li><span><a href=\"#Выведем-первые-5-строчек-и-общую-информацию-датафрейма-data-на-экран.\" data-toc-modified-id=\"Выведем-первые-5-строчек-и-общую-информацию-датафрейма-data-на-экран.-1.2\"><span class=\"toc-item-num\">1.2&nbsp;&nbsp;</span>Выведем первые 5 строчек и общую информацию датафрейма <code>data</code> на экран.</a></span></li><li><span><a href=\"#Построим-гистограммы-для-всех-числовых-столбцов.\" data-toc-modified-id=\"Построим-гистограммы-для-всех-числовых-столбцов.-1.3\"><span class=\"toc-item-num\">1.3&nbsp;&nbsp;</span>Построим гистограммы для всех числовых столбцов.</a></span></li></ul></li><li><span><a href=\"#Предобработка-данных\" data-toc-modified-id=\"Предобработка-данных-2\"><span class=\"toc-item-num\">2&nbsp;&nbsp;</span>Предобработка данных</a></span><ul class=\"toc-item\"><li><span><a href=\"#Заменим-названия-столбцов-(приведем-все-названия-столбцов-к-нижнему-регистру-и-откорректируем-названия).\" data-toc-modified-id=\"Заменим-названия-столбцов-(приведем-все-названия-столбцов-к-нижнему-регистру-и-откорректируем-названия).-2.1\"><span class=\"toc-item-num\">2.1&nbsp;&nbsp;</span>Заменим названия столбцов (приведем все названия столбцов к нижнему регистру и откорректируем названия).</a></span></li><li><span><a href=\"#Приведем-значения-столбцов-surname,-geography,-gender-также-к-нижнему-регистру.\" data-toc-modified-id=\"Приведем-значения-столбцов-surname,-geography,-gender-также-к-нижнему-регистру.-2.2\"><span class=\"toc-item-num\">2.2&nbsp;&nbsp;</span>Приведем значения столбцов <code>surname</code>, <code>geography</code>, <code>gender</code> также к нижнему регистру.</a></span></li><li><span><a href=\"#Проверим-пропуски\" data-toc-modified-id=\"Проверим-пропуски-2.3\"><span class=\"toc-item-num\">2.3&nbsp;&nbsp;</span>Проверим пропуски</a></span></li><li><span><a href=\"#Проверим-наличие-дубликатов-в-таблице.\" data-toc-modified-id=\"Проверим-наличие-дубликатов-в-таблице.-2.4\"><span class=\"toc-item-num\">2.4&nbsp;&nbsp;</span>Проверим наличие дубликатов в таблице.</a></span></li><li><span><a href=\"#Удалим-столбцы,-которые-не-будут-использоваться-при-обучении-модели\" data-toc-modified-id=\"Удалим-столбцы,-которые-не-будут-использоваться-при-обучении-модели-2.5\"><span class=\"toc-item-num\">2.5&nbsp;&nbsp;</span>Удалим столбцы, которые не будут использоваться при обучении модели</a></span></li></ul></li><li><span><a href=\"#Разделим-исходные-данные-на-обучающую,-валидационную-и-тестовую-выборки.\" data-toc-modified-id=\"Разделим-исходные-данные-на-обучающую,-валидационную-и-тестовую-выборки.-3\"><span class=\"toc-item-num\">3&nbsp;&nbsp;</span>Разделим исходные данные на обучающую, валидационную и тестовую выборки.</a></span><ul class=\"toc-item\"><li><span><a href=\"#Масштабируем-признаки.\" data-toc-modified-id=\"Масштабируем-признаки.-3.1\"><span class=\"toc-item-num\">3.1&nbsp;&nbsp;</span>Масштабируем признаки.</a></span></li><li><span><a href=\"#Преобразуем-категориальные-признаки-в-численные.\" data-toc-modified-id=\"Преобразуем-категориальные-признаки-в-численные.-3.2\"><span class=\"toc-item-num\">3.2&nbsp;&nbsp;</span>Преобразуем категориальные признаки в численные.</a></span></li></ul></li><li><span><a href=\"#Обучим-модели-без-учета-дисбаланса.\" data-toc-modified-id=\"Обучим-модели-без-учета-дисбаланса.-4\"><span class=\"toc-item-num\">4&nbsp;&nbsp;</span>Обучим модели без учета дисбаланса.</a></span><ul class=\"toc-item\"><li><span><a href=\"#Первая-модель---Решающее-дерево,-подберем-оптимальные-гиперпараметры.\" data-toc-modified-id=\"Первая-модель---Решающее-дерево,-подберем-оптимальные-гиперпараметры.-4.1\"><span class=\"toc-item-num\">4.1&nbsp;&nbsp;</span>Первая модель - <code>Решающее дерево</code>, подберем оптимальные гиперпараметры.</a></span></li><li><span><a href=\"#Вторая-модель---Случайный-лес,-подберем-оптимальные-гиперпараметры.\" data-toc-modified-id=\"Вторая-модель---Случайный-лес,-подберем-оптимальные-гиперпараметры.-4.2\"><span class=\"toc-item-num\">4.2&nbsp;&nbsp;</span>Вторая модель - <code>Случайный лес</code>, подберем оптимальные гиперпараметры.</a></span></li><li><span><a href=\"#Третья-модель---Логистическая-регрессия.\" data-toc-modified-id=\"Третья-модель---Логистическая-регрессия.-4.3\"><span class=\"toc-item-num\">4.3&nbsp;&nbsp;</span>Третья модель - <code>Логистическая регрессия</code>.</a></span></li></ul></li><li><span><a href=\"#Обучим-модели-с-учетом-дисбаланса.\" data-toc-modified-id=\"Обучим-модели-с-учетом-дисбаланса.-5\"><span class=\"toc-item-num\">5&nbsp;&nbsp;</span>Обучим модели с учетом дисбаланса.</a></span><ul class=\"toc-item\"><li><span><a href=\"#Рассмотрим-дисбаланс-классов.\" data-toc-modified-id=\"Рассмотрим-дисбаланс-классов.-5.1\"><span class=\"toc-item-num\">5.1&nbsp;&nbsp;</span>Рассмотрим дисбаланс классов.</a></span></li><li><span><a href=\"#Первый-метод---Взвешивание-классов.\" data-toc-modified-id=\"Первый-метод---Взвешивание-классов.-5.2\"><span class=\"toc-item-num\">5.2&nbsp;&nbsp;</span>Первый метод - <em>Взвешивание классов</em>.</a></span><ul class=\"toc-item\"><li><span><a href=\"#Модель---Решающее-дерево.\" data-toc-modified-id=\"Модель---Решающее-дерево.-5.2.1\"><span class=\"toc-item-num\">5.2.1&nbsp;&nbsp;</span>Модель - <code>Решающее дерево</code>.</a></span></li><li><span><a href=\"#Модель---Случайный-лес.\" data-toc-modified-id=\"Модель---Случайный-лес.-5.2.2\"><span class=\"toc-item-num\">5.2.2&nbsp;&nbsp;</span>Модель - <code>Случайный лес</code>.</a></span></li><li><span><a href=\"#Модель---Логистическая-регрессия.\" data-toc-modified-id=\"Модель---Логистическая-регрессия.-5.2.3\"><span class=\"toc-item-num\">5.2.3&nbsp;&nbsp;</span>Модель - <code>Логистическая регрессия</code>.</a></span></li></ul></li><li><span><a href=\"#Второй-метод---Уменьшение-выборки.\" data-toc-modified-id=\"Второй-метод---Уменьшение-выборки.-5.3\"><span class=\"toc-item-num\">5.3&nbsp;&nbsp;</span>Второй метод - <em>Уменьшение выборки</em>.</a></span><ul class=\"toc-item\"><li><span><a href=\"#Модель---Решающее-дерево.\" data-toc-modified-id=\"Модель---Решающее-дерево.-5.3.1\"><span class=\"toc-item-num\">5.3.1&nbsp;&nbsp;</span>Модель - <code>Решающее дерево</code>.</a></span></li><li><span><a href=\"#Модель---Случайный-лес.\" data-toc-modified-id=\"Модель---Случайный-лес.-5.3.2\"><span class=\"toc-item-num\">5.3.2&nbsp;&nbsp;</span>Модель - <code>Случайный лес</code>.</a></span></li><li><span><a href=\"#Модель---Логистическая-регрессия.\" data-toc-modified-id=\"Модель---Логистическая-регрессия.-5.3.3\"><span class=\"toc-item-num\">5.3.3&nbsp;&nbsp;</span>Модель - <code>Логистическая регрессия</code>.</a></span></li></ul></li><li><span><a href=\"#Третий-метод---Увеличение-выборки.\" data-toc-modified-id=\"Третий-метод---Увеличение-выборки.-5.4\"><span class=\"toc-item-num\">5.4&nbsp;&nbsp;</span>Третий метод - <em>Увеличение выборки</em>.</a></span><ul class=\"toc-item\"><li><span><a href=\"#Модель---Решающее-дерево.\" data-toc-modified-id=\"Модель---Решающее-дерево.-5.4.1\"><span class=\"toc-item-num\">5.4.1&nbsp;&nbsp;</span>Модель - <code>Решающее дерево</code>.</a></span></li><li><span><a href=\"#Модель---Случайный-лес.\" data-toc-modified-id=\"Модель---Случайный-лес.-5.4.2\"><span class=\"toc-item-num\">5.4.2&nbsp;&nbsp;</span>Модель - <code>Случайный лес</code>.</a></span></li><li><span><a href=\"#Модель---Логистическая-регрессия.\" data-toc-modified-id=\"Модель---Логистическая-регрессия.-5.4.3\"><span class=\"toc-item-num\">5.4.3&nbsp;&nbsp;</span>Модель - <code>Логистическая регрессия</code>.</a></span></li></ul></li></ul></li><li><span><a href=\"#Тестирование-модели\" data-toc-modified-id=\"Тестирование-модели-6\"><span class=\"toc-item-num\">6&nbsp;&nbsp;</span>Тестирование модели</a></span></li><li><span><a href=\"#Общий-вывод\" data-toc-modified-id=\"Общий-вывод-7\"><span class=\"toc-item-num\">7&nbsp;&nbsp;</span>Общий вывод</a></span></li></ul></div>"
   ]
  },
  {
   "cell_type": "markdown",
   "metadata": {},
   "source": [
    "# Исследование оттока клиентов из банка"
   ]
  },
  {
   "cell_type": "markdown",
   "metadata": {},
   "source": [
    "Банковские маркетологи посчитали: сохранять текущих клиентов дешевле, чем привлекать новых.\n",
    "\n",
    "**Цель исследования:**\n",
    "\n",
    "1. Спрогнозировать, уйдёт клиент из банка в ближайшее время или нет.\n",
    "\n",
    "2. Построить модель с предельно большим значением *F1*-меры.\n",
    "\n",
    "3. Дополнительно измерить *AUC-ROC* и сравнивить её значение с *F1*-мерой.\n",
    "\n",
    "**Ход исследования:**\n",
    "\n",
    "Данные для исследования я получу из файла — `Churn.csv`.\n",
    "\n",
    "*Описание данных:*\n",
    "\n",
    "`Признаки`\n",
    "\n",
    "RowNumber — индекс строки в данных\n",
    "\n",
    "CustomerId — уникальный идентификатор клиента\n",
    "\n",
    "Surname — фамилия\n",
    "\n",
    "CreditScore — кредитный рейтинг\n",
    "\n",
    "Geography — страна проживания\n",
    "\n",
    "Gender — пол\n",
    "\n",
    "Age — возраст\n",
    "\n",
    "Tenure — сколько лет человек является клиентом банка\n",
    "\n",
    "Balance — баланс на счёте\n",
    "\n",
    "NumOfProducts — количество продуктов банка, используемых клиентом\n",
    "\n",
    "HasCrCard — наличие кредитной карты\n",
    "\n",
    "IsActiveMember — активность клиента\n",
    "\n",
    "EstimatedSalary — предполагаемая зарплата\n",
    "\n",
    "`Целевой признак`\n",
    "\n",
    "Exited — факт ухода клиента\n",
    "\n",
    "Таким образом, моё исследование пройдет в несколько этапов:\n",
    "\n",
    "1. Откроем файл и проведем обзор данных. Проведем необходимую предобработку данных.\n",
    "\n",
    "2. Разделим исходные данные на обучающую, валидационную и тестовую выборки.\n",
    "\n",
    "3. Исследуем качество разных моделей, меняя гиперпараметры.\n",
    "\n",
    "4. Исследуем баланс классов. Изучим модели без учёта дисбаланса и применим несколько способов борьбы с дисбалансом.\n",
    "\n",
    "5. Проверим качество модели на тестовой выборке.\n",
    "\n",
    "6. Попробуем достичь F1-меры не менее 0.59.\n",
    "\n",
    "7. Исследуем метрику AUC-ROC.\n",
    "\n",
    "8. Напишем общий вывод."
   ]
  },
  {
   "cell_type": "markdown",
   "metadata": {},
   "source": [
    "## Обзор данных"
   ]
  },
  {
   "cell_type": "markdown",
   "metadata": {},
   "source": [
    "### Считаем данные из csv-файла и сохраним в переменную."
   ]
  },
  {
   "cell_type": "code",
   "execution_count": 1,
   "metadata": {},
   "outputs": [],
   "source": [
    "import pandas as pd\n",
    "import numpy as np\n",
    "import matplotlib.pyplot as plt\n",
    "from sklearn.model_selection import train_test_split\n",
    "from sklearn.tree import DecisionTreeClassifier\n",
    "from sklearn.metrics import roc_auc_score, roc_curve, f1_score, precision_score, recall_score\n",
    "from sklearn.ensemble import RandomForestClassifier\n",
    "from sklearn.linear_model import LogisticRegression\n",
    "from sklearn.utils import shuffle\n",
    "from sklearn.preprocessing import StandardScaler "
   ]
  },
  {
   "cell_type": "code",
   "execution_count": 2,
   "metadata": {},
   "outputs": [],
   "source": [
    "try:\n",
    "    data = pd.read_csv('Churn.csv')\n",
    "except:\n",
    "    data = pd.read_csv('/datasets/Churn.csv')"
   ]
  },
  {
   "cell_type": "markdown",
   "metadata": {},
   "source": [
    "### Выведем первые 5 строчек и общую информацию датафрейма `data` на экран."
   ]
  },
  {
   "cell_type": "code",
   "execution_count": 3,
   "metadata": {},
   "outputs": [
    {
     "data": {
      "text/html": [
       "<div>\n",
       "<style scoped>\n",
       "    .dataframe tbody tr th:only-of-type {\n",
       "        vertical-align: middle;\n",
       "    }\n",
       "\n",
       "    .dataframe tbody tr th {\n",
       "        vertical-align: top;\n",
       "    }\n",
       "\n",
       "    .dataframe thead th {\n",
       "        text-align: right;\n",
       "    }\n",
       "</style>\n",
       "<table border=\"1\" class=\"dataframe\">\n",
       "  <thead>\n",
       "    <tr style=\"text-align: right;\">\n",
       "      <th></th>\n",
       "      <th>RowNumber</th>\n",
       "      <th>CustomerId</th>\n",
       "      <th>Surname</th>\n",
       "      <th>CreditScore</th>\n",
       "      <th>Geography</th>\n",
       "      <th>Gender</th>\n",
       "      <th>Age</th>\n",
       "      <th>Tenure</th>\n",
       "      <th>Balance</th>\n",
       "      <th>NumOfProducts</th>\n",
       "      <th>HasCrCard</th>\n",
       "      <th>IsActiveMember</th>\n",
       "      <th>EstimatedSalary</th>\n",
       "      <th>Exited</th>\n",
       "    </tr>\n",
       "  </thead>\n",
       "  <tbody>\n",
       "    <tr>\n",
       "      <th>0</th>\n",
       "      <td>1</td>\n",
       "      <td>15634602</td>\n",
       "      <td>Hargrave</td>\n",
       "      <td>619</td>\n",
       "      <td>France</td>\n",
       "      <td>Female</td>\n",
       "      <td>42</td>\n",
       "      <td>2.0</td>\n",
       "      <td>0.00</td>\n",
       "      <td>1</td>\n",
       "      <td>1</td>\n",
       "      <td>1</td>\n",
       "      <td>101348.88</td>\n",
       "      <td>1</td>\n",
       "    </tr>\n",
       "    <tr>\n",
       "      <th>1</th>\n",
       "      <td>2</td>\n",
       "      <td>15647311</td>\n",
       "      <td>Hill</td>\n",
       "      <td>608</td>\n",
       "      <td>Spain</td>\n",
       "      <td>Female</td>\n",
       "      <td>41</td>\n",
       "      <td>1.0</td>\n",
       "      <td>83807.86</td>\n",
       "      <td>1</td>\n",
       "      <td>0</td>\n",
       "      <td>1</td>\n",
       "      <td>112542.58</td>\n",
       "      <td>0</td>\n",
       "    </tr>\n",
       "    <tr>\n",
       "      <th>2</th>\n",
       "      <td>3</td>\n",
       "      <td>15619304</td>\n",
       "      <td>Onio</td>\n",
       "      <td>502</td>\n",
       "      <td>France</td>\n",
       "      <td>Female</td>\n",
       "      <td>42</td>\n",
       "      <td>8.0</td>\n",
       "      <td>159660.80</td>\n",
       "      <td>3</td>\n",
       "      <td>1</td>\n",
       "      <td>0</td>\n",
       "      <td>113931.57</td>\n",
       "      <td>1</td>\n",
       "    </tr>\n",
       "    <tr>\n",
       "      <th>3</th>\n",
       "      <td>4</td>\n",
       "      <td>15701354</td>\n",
       "      <td>Boni</td>\n",
       "      <td>699</td>\n",
       "      <td>France</td>\n",
       "      <td>Female</td>\n",
       "      <td>39</td>\n",
       "      <td>1.0</td>\n",
       "      <td>0.00</td>\n",
       "      <td>2</td>\n",
       "      <td>0</td>\n",
       "      <td>0</td>\n",
       "      <td>93826.63</td>\n",
       "      <td>0</td>\n",
       "    </tr>\n",
       "    <tr>\n",
       "      <th>4</th>\n",
       "      <td>5</td>\n",
       "      <td>15737888</td>\n",
       "      <td>Mitchell</td>\n",
       "      <td>850</td>\n",
       "      <td>Spain</td>\n",
       "      <td>Female</td>\n",
       "      <td>43</td>\n",
       "      <td>2.0</td>\n",
       "      <td>125510.82</td>\n",
       "      <td>1</td>\n",
       "      <td>1</td>\n",
       "      <td>1</td>\n",
       "      <td>79084.10</td>\n",
       "      <td>0</td>\n",
       "    </tr>\n",
       "  </tbody>\n",
       "</table>\n",
       "</div>"
      ],
      "text/plain": [
       "   RowNumber  CustomerId   Surname  CreditScore Geography  Gender  Age  \\\n",
       "0          1    15634602  Hargrave          619    France  Female   42   \n",
       "1          2    15647311      Hill          608     Spain  Female   41   \n",
       "2          3    15619304      Onio          502    France  Female   42   \n",
       "3          4    15701354      Boni          699    France  Female   39   \n",
       "4          5    15737888  Mitchell          850     Spain  Female   43   \n",
       "\n",
       "   Tenure    Balance  NumOfProducts  HasCrCard  IsActiveMember  \\\n",
       "0     2.0       0.00              1          1               1   \n",
       "1     1.0   83807.86              1          0               1   \n",
       "2     8.0  159660.80              3          1               0   \n",
       "3     1.0       0.00              2          0               0   \n",
       "4     2.0  125510.82              1          1               1   \n",
       "\n",
       "   EstimatedSalary  Exited  \n",
       "0        101348.88       1  \n",
       "1        112542.58       0  \n",
       "2        113931.57       1  \n",
       "3         93826.63       0  \n",
       "4         79084.10       0  "
      ]
     },
     "execution_count": 3,
     "metadata": {},
     "output_type": "execute_result"
    }
   ],
   "source": [
    "data.head()"
   ]
  },
  {
   "cell_type": "code",
   "execution_count": 4,
   "metadata": {},
   "outputs": [
    {
     "name": "stdout",
     "output_type": "stream",
     "text": [
      "<class 'pandas.core.frame.DataFrame'>\n",
      "RangeIndex: 10000 entries, 0 to 9999\n",
      "Data columns (total 14 columns):\n",
      " #   Column           Non-Null Count  Dtype  \n",
      "---  ------           --------------  -----  \n",
      " 0   RowNumber        10000 non-null  int64  \n",
      " 1   CustomerId       10000 non-null  int64  \n",
      " 2   Surname          10000 non-null  object \n",
      " 3   CreditScore      10000 non-null  int64  \n",
      " 4   Geography        10000 non-null  object \n",
      " 5   Gender           10000 non-null  object \n",
      " 6   Age              10000 non-null  int64  \n",
      " 7   Tenure           9091 non-null   float64\n",
      " 8   Balance          10000 non-null  float64\n",
      " 9   NumOfProducts    10000 non-null  int64  \n",
      " 10  HasCrCard        10000 non-null  int64  \n",
      " 11  IsActiveMember   10000 non-null  int64  \n",
      " 12  EstimatedSalary  10000 non-null  float64\n",
      " 13  Exited           10000 non-null  int64  \n",
      "dtypes: float64(3), int64(8), object(3)\n",
      "memory usage: 1.1+ MB\n"
     ]
    }
   ],
   "source": [
    "data.info()"
   ]
  },
  {
   "cell_type": "markdown",
   "metadata": {},
   "source": [
    "### Построим гистограммы для всех числовых столбцов."
   ]
  },
  {
   "cell_type": "code",
   "execution_count": 5,
   "metadata": {},
   "outputs": [
    {
     "data": {
      "image/png": "[encoded data removed]",
      "text/plain": [
       "<Figure size 720x360 with 1 Axes>"
      ]
     },
     "metadata": {
      "needs_background": "light"
     },
     "output_type": "display_data"
    },
    {
     "data": {
      "image/png": "[encoded data removed]",
      "text/plain": [
       "<Figure size 720x360 with 1 Axes>"
      ]
     },
     "metadata": {
      "needs_background": "light"
     },
     "output_type": "display_data"
    },
    {
     "data": {
      "image/png": "[encoded data removed]",
      "text/plain": [
       "<Figure size 720x360 with 1 Axes>"
      ]
     },
     "metadata": {
      "needs_background": "light"
     },
     "output_type": "display_data"
    },
    {
     "data": {
      "image/png": "[encoded data removed]",
      "text/plain": [
       "<Figure size 720x360 with 1 Axes>"
      ]
     },
     "metadata": {
      "needs_background": "light"
     },
     "output_type": "display_data"
    },
    {
     "data": {
      "image/png": "[encoded data removed]",
      "text/plain": [
       "<Figure size 720x360 with 1 Axes>"
      ]
     },
     "metadata": {
      "needs_background": "light"
     },
     "output_type": "display_data"
    },
    {
     "data": {
      "image/png": "[encoded data removed]",
      "text/plain": [
       "<Figure size 720x360 with 1 Axes>"
      ]
     },
     "metadata": {
      "needs_background": "light"
     },
     "output_type": "display_data"
    },
    {
     "data": {
      "image/png": "[encoded data removed]",
      "text/plain": [
       "<Figure size 720x360 with 1 Axes>"
      ]
     },
     "metadata": {
      "needs_background": "light"
     },
     "output_type": "display_data"
    },
    {
     "data": {
      "image/png": "[encoded data removed]",
      "text/plain": [
       "<Figure size 720x360 with 1 Axes>"
      ]
     },
     "metadata": {
      "needs_background": "light"
     },
     "output_type": "display_data"
    },
    {
     "data": {
      "image/png": "[encoded data removed]",
      "text/plain": [
       "<Figure size 720x360 with 1 Axes>"
      ]
     },
     "metadata": {
      "needs_background": "light"
     },
     "output_type": "display_data"
    }
   ],
   "source": [
    "data.hist('CreditScore', bins=50, figsize=(10, 5))\n",
    "plt.title('Кредитный рейтинг')\n",
    "plt.xlabel('Кредитный рейтинг')\n",
    "plt.ylabel('Количество')\n",
    "plt.show()\n",
    "\n",
    "data.hist('Age', bins=50, figsize=(10, 5))\n",
    "plt.title('Возраст')\n",
    "plt.xlabel('Возраст')\n",
    "plt.ylabel('Количество')\n",
    "plt.show()\n",
    "\n",
    "data.hist('Tenure', bins=50, figsize=(10, 5))\n",
    "plt.title('Сколько лет человек является клиентом банка')\n",
    "plt.xlabel('Количество лет')\n",
    "plt.ylabel('Количество')\n",
    "plt.show()\n",
    "\n",
    "data.hist('Balance', bins=50, figsize=(10, 5))\n",
    "plt.title('Баланс на счете')\n",
    "plt.xlabel('Баланс на счете')\n",
    "plt.ylabel('Количество')\n",
    "plt.show()\n",
    "\n",
    "data.hist('EstimatedSalary', bins=50, figsize=(10, 5))\n",
    "plt.title('Предполагаемая зарплата')\n",
    "plt.xlabel('Предполагаемая зарплата')\n",
    "plt.ylabel('Количество')\n",
    "plt.show()\n",
    "\n",
    "data.groupby('NumOfProducts')['NumOfProducts'].count().plot(\n",
    "    x='NumOfProducts', \n",
    "    kind='bar', \n",
    "    figsize=(10, 5), \n",
    "    grid=True,\n",
    "    title = 'Количество продуктов банка, используемых клиентом'\n",
    ")\n",
    "plt.xticks(rotation=0)\n",
    "plt.xlabel('Количество продуктов банка')\n",
    "plt.ylabel('Количество клиентов')\n",
    "plt.show()\n",
    "\n",
    "data.groupby('HasCrCard')['HasCrCard'].count().plot(\n",
    "    x='HasCrCard', \n",
    "    kind='bar', \n",
    "    figsize=(10, 5), \n",
    "    grid=True,\n",
    "    title = 'Наличие кредитной карты («Да» — 1, «Нет» — 0)'\n",
    ")\n",
    "plt.xticks(rotation=0)\n",
    "plt.xlabel('Наличие кредитной карты')\n",
    "plt.ylabel('Количество клиентов')\n",
    "plt.show()\n",
    "\n",
    "data.groupby('IsActiveMember')['IsActiveMember'].count().plot(\n",
    "    x='IsActiveMember', \n",
    "    kind='bar', \n",
    "    figsize=(10, 5), \n",
    "    grid=True,\n",
    "    title = 'Активность клиента («Активный» — 1, «Неактивный» — 0)'\n",
    ")\n",
    "plt.xticks(rotation=0)\n",
    "plt.xlabel('Активность клиента')\n",
    "plt.ylabel('Количество клиентов')\n",
    "plt.show()\n",
    "\n",
    "data.groupby('Exited')['Exited'].count().plot(\n",
    "    x='Exited', \n",
    "    kind='bar', \n",
    "    figsize=(10, 5), \n",
    "    grid=True,\n",
    "    title = 'Факт ухода клиента («Ушел» — 1, «Не ушел» — 0)'\n",
    ")\n",
    "plt.xticks(rotation=0)\n",
    "plt.xlabel('Факт ухода')\n",
    "plt.ylabel('Количество клиентов')\n",
    "plt.show()"
   ]
  },
  {
   "cell_type": "markdown",
   "metadata": {},
   "source": [
    "По гистограммам видно, что имеются \"выбросы\", которые могут искажать средние значения при исследовании. Также видим дисбаланс данных."
   ]
  },
  {
   "cell_type": "code",
   "execution_count": 6,
   "metadata": {},
   "outputs": [
    {
     "data": {
      "text/html": [
       "<div>\n",
       "<style scoped>\n",
       "    .dataframe tbody tr th:only-of-type {\n",
       "        vertical-align: middle;\n",
       "    }\n",
       "\n",
       "    .dataframe tbody tr th {\n",
       "        vertical-align: top;\n",
       "    }\n",
       "\n",
       "    .dataframe thead th {\n",
       "        text-align: right;\n",
       "    }\n",
       "</style>\n",
       "<table border=\"1\" class=\"dataframe\">\n",
       "  <thead>\n",
       "    <tr style=\"text-align: right;\">\n",
       "      <th></th>\n",
       "      <th>RowNumber</th>\n",
       "      <th>CustomerId</th>\n",
       "      <th>CreditScore</th>\n",
       "      <th>Age</th>\n",
       "      <th>Tenure</th>\n",
       "      <th>Balance</th>\n",
       "      <th>NumOfProducts</th>\n",
       "      <th>HasCrCard</th>\n",
       "      <th>IsActiveMember</th>\n",
       "      <th>EstimatedSalary</th>\n",
       "      <th>Exited</th>\n",
       "    </tr>\n",
       "  </thead>\n",
       "  <tbody>\n",
       "    <tr>\n",
       "      <th>count</th>\n",
       "      <td>10000.00000</td>\n",
       "      <td>1.000000e+04</td>\n",
       "      <td>10000.000000</td>\n",
       "      <td>10000.000000</td>\n",
       "      <td>9091.000000</td>\n",
       "      <td>10000.000000</td>\n",
       "      <td>10000.000000</td>\n",
       "      <td>10000.00000</td>\n",
       "      <td>10000.000000</td>\n",
       "      <td>10000.000000</td>\n",
       "      <td>10000.000000</td>\n",
       "    </tr>\n",
       "    <tr>\n",
       "      <th>mean</th>\n",
       "      <td>5000.50000</td>\n",
       "      <td>1.569094e+07</td>\n",
       "      <td>650.528800</td>\n",
       "      <td>38.921800</td>\n",
       "      <td>4.997690</td>\n",
       "      <td>76485.889288</td>\n",
       "      <td>1.530200</td>\n",
       "      <td>0.70550</td>\n",
       "      <td>0.515100</td>\n",
       "      <td>100090.239881</td>\n",
       "      <td>0.203700</td>\n",
       "    </tr>\n",
       "    <tr>\n",
       "      <th>std</th>\n",
       "      <td>2886.89568</td>\n",
       "      <td>7.193619e+04</td>\n",
       "      <td>96.653299</td>\n",
       "      <td>10.487806</td>\n",
       "      <td>2.894723</td>\n",
       "      <td>62397.405202</td>\n",
       "      <td>0.581654</td>\n",
       "      <td>0.45584</td>\n",
       "      <td>0.499797</td>\n",
       "      <td>57510.492818</td>\n",
       "      <td>0.402769</td>\n",
       "    </tr>\n",
       "    <tr>\n",
       "      <th>min</th>\n",
       "      <td>1.00000</td>\n",
       "      <td>1.556570e+07</td>\n",
       "      <td>350.000000</td>\n",
       "      <td>18.000000</td>\n",
       "      <td>0.000000</td>\n",
       "      <td>0.000000</td>\n",
       "      <td>1.000000</td>\n",
       "      <td>0.00000</td>\n",
       "      <td>0.000000</td>\n",
       "      <td>11.580000</td>\n",
       "      <td>0.000000</td>\n",
       "    </tr>\n",
       "    <tr>\n",
       "      <th>25%</th>\n",
       "      <td>2500.75000</td>\n",
       "      <td>1.562853e+07</td>\n",
       "      <td>584.000000</td>\n",
       "      <td>32.000000</td>\n",
       "      <td>2.000000</td>\n",
       "      <td>0.000000</td>\n",
       "      <td>1.000000</td>\n",
       "      <td>0.00000</td>\n",
       "      <td>0.000000</td>\n",
       "      <td>51002.110000</td>\n",
       "      <td>0.000000</td>\n",
       "    </tr>\n",
       "    <tr>\n",
       "      <th>50%</th>\n",
       "      <td>5000.50000</td>\n",
       "      <td>1.569074e+07</td>\n",
       "      <td>652.000000</td>\n",
       "      <td>37.000000</td>\n",
       "      <td>5.000000</td>\n",
       "      <td>97198.540000</td>\n",
       "      <td>1.000000</td>\n",
       "      <td>1.00000</td>\n",
       "      <td>1.000000</td>\n",
       "      <td>100193.915000</td>\n",
       "      <td>0.000000</td>\n",
       "    </tr>\n",
       "    <tr>\n",
       "      <th>75%</th>\n",
       "      <td>7500.25000</td>\n",
       "      <td>1.575323e+07</td>\n",
       "      <td>718.000000</td>\n",
       "      <td>44.000000</td>\n",
       "      <td>7.000000</td>\n",
       "      <td>127644.240000</td>\n",
       "      <td>2.000000</td>\n",
       "      <td>1.00000</td>\n",
       "      <td>1.000000</td>\n",
       "      <td>149388.247500</td>\n",
       "      <td>0.000000</td>\n",
       "    </tr>\n",
       "    <tr>\n",
       "      <th>max</th>\n",
       "      <td>10000.00000</td>\n",
       "      <td>1.581569e+07</td>\n",
       "      <td>850.000000</td>\n",
       "      <td>92.000000</td>\n",
       "      <td>10.000000</td>\n",
       "      <td>250898.090000</td>\n",
       "      <td>4.000000</td>\n",
       "      <td>1.00000</td>\n",
       "      <td>1.000000</td>\n",
       "      <td>199992.480000</td>\n",
       "      <td>1.000000</td>\n",
       "    </tr>\n",
       "  </tbody>\n",
       "</table>\n",
       "</div>"
      ],
      "text/plain": [
       "         RowNumber    CustomerId   CreditScore           Age       Tenure  \\\n",
       "count  10000.00000  1.000000e+04  10000.000000  10000.000000  9091.000000   \n",
       "mean    5000.50000  1.569094e+07    650.528800     38.921800     4.997690   \n",
       "std     2886.89568  7.193619e+04     96.653299     10.487806     2.894723   \n",
       "min        1.00000  1.556570e+07    350.000000     18.000000     0.000000   \n",
       "25%     2500.75000  1.562853e+07    584.000000     32.000000     2.000000   \n",
       "50%     5000.50000  1.569074e+07    652.000000     37.000000     5.000000   \n",
       "75%     7500.25000  1.575323e+07    718.000000     44.000000     7.000000   \n",
       "max    10000.00000  1.581569e+07    850.000000     92.000000    10.000000   \n",
       "\n",
       "             Balance  NumOfProducts    HasCrCard  IsActiveMember  \\\n",
       "count   10000.000000   10000.000000  10000.00000    10000.000000   \n",
       "mean    76485.889288       1.530200      0.70550        0.515100   \n",
       "std     62397.405202       0.581654      0.45584        0.499797   \n",
       "min         0.000000       1.000000      0.00000        0.000000   \n",
       "25%         0.000000       1.000000      0.00000        0.000000   \n",
       "50%     97198.540000       1.000000      1.00000        1.000000   \n",
       "75%    127644.240000       2.000000      1.00000        1.000000   \n",
       "max    250898.090000       4.000000      1.00000        1.000000   \n",
       "\n",
       "       EstimatedSalary        Exited  \n",
       "count     10000.000000  10000.000000  \n",
       "mean     100090.239881      0.203700  \n",
       "std       57510.492818      0.402769  \n",
       "min          11.580000      0.000000  \n",
       "25%       51002.110000      0.000000  \n",
       "50%      100193.915000      0.000000  \n",
       "75%      149388.247500      0.000000  \n",
       "max      199992.480000      1.000000  "
      ]
     },
     "execution_count": 6,
     "metadata": {},
     "output_type": "execute_result"
    }
   ],
   "source": [
    "data.describe()"
   ]
  },
  {
   "cell_type": "markdown",
   "metadata": {},
   "source": [
    "**Вывод, исходя из общих данных датафрейма `data`:**\n",
    "1. в некоторых столбцах имеются пропуски данных (надо изучить характер данных пропусков и решить - удалить данные строки или откорректировать);\n",
    "2. некорректное отображение некоторых данных в таблице (верхние регистры названий столбцов и данных);\n",
    "3. необходимо будет проверить наличие дубликатов;\n",
    "4. по гистограммам виден разброс данных в некоторых столбцах, необходимо проверить их на наличие \"выбросов\" и откорректировать при необходимости.\n",
    "5. виден дисбаланс данных - доля фактически ушедших клиентов практически в 4 раза меньше доли тех, кто не ушел."
   ]
  },
  {
   "cell_type": "markdown",
   "metadata": {},
   "source": [
    "## Предобработка данных"
   ]
  },
  {
   "cell_type": "markdown",
   "metadata": {},
   "source": [
    "### Заменим названия столбцов (приведем все названия столбцов к нижнему регистру и откорректируем названия)."
   ]
  },
  {
   "cell_type": "code",
   "execution_count": 7,
   "metadata": {},
   "outputs": [],
   "source": [
    "data.columns = data.columns.str.lower()"
   ]
  },
  {
   "cell_type": "code",
   "execution_count": 8,
   "metadata": {},
   "outputs": [],
   "source": [
    "data.rename(columns={'rownumber' : 'row_number',\n",
    "                     'customerid' : 'customer_id', \n",
    "                     'creditscore' : 'credit_score', \n",
    "                     'numofproducts' : 'num_of_products',\n",
    "                     'hascrcard' : 'has_cr_card',\n",
    "                     'isactivemember' : 'is_active_member',\n",
    "                     'estimatedsalary' : 'estimated_salary'},\n",
    "    inplace=True\n",
    "    )"
   ]
  },
  {
   "cell_type": "markdown",
   "metadata": {},
   "source": [
    "### Приведем значения столбцов `surname`, `geography`, `gender` также к нижнему регистру."
   ]
  },
  {
   "cell_type": "code",
   "execution_count": 9,
   "metadata": {},
   "outputs": [],
   "source": [
    "data['surname'] = data['surname'].str.lower()\n",
    "data['geography'] = data['geography'].str.lower()\n",
    "data['gender'] = data['gender'].str.lower()"
   ]
  },
  {
   "cell_type": "code",
   "execution_count": 10,
   "metadata": {},
   "outputs": [
    {
     "data": {
      "text/html": [
       "<div>\n",
       "<style scoped>\n",
       "    .dataframe tbody tr th:only-of-type {\n",
       "        vertical-align: middle;\n",
       "    }\n",
       "\n",
       "    .dataframe tbody tr th {\n",
       "        vertical-align: top;\n",
       "    }\n",
       "\n",
       "    .dataframe thead th {\n",
       "        text-align: right;\n",
       "    }\n",
       "</style>\n",
       "<table border=\"1\" class=\"dataframe\">\n",
       "  <thead>\n",
       "    <tr style=\"text-align: right;\">\n",
       "      <th></th>\n",
       "      <th>row_number</th>\n",
       "      <th>customer_id</th>\n",
       "      <th>surname</th>\n",
       "      <th>credit_score</th>\n",
       "      <th>geography</th>\n",
       "      <th>gender</th>\n",
       "      <th>age</th>\n",
       "      <th>tenure</th>\n",
       "      <th>balance</th>\n",
       "      <th>num_of_products</th>\n",
       "      <th>has_cr_card</th>\n",
       "      <th>is_active_member</th>\n",
       "      <th>estimated_salary</th>\n",
       "      <th>exited</th>\n",
       "    </tr>\n",
       "  </thead>\n",
       "  <tbody>\n",
       "    <tr>\n",
       "      <th>0</th>\n",
       "      <td>1</td>\n",
       "      <td>15634602</td>\n",
       "      <td>hargrave</td>\n",
       "      <td>619</td>\n",
       "      <td>france</td>\n",
       "      <td>female</td>\n",
       "      <td>42</td>\n",
       "      <td>2.0</td>\n",
       "      <td>0.00</td>\n",
       "      <td>1</td>\n",
       "      <td>1</td>\n",
       "      <td>1</td>\n",
       "      <td>101348.88</td>\n",
       "      <td>1</td>\n",
       "    </tr>\n",
       "    <tr>\n",
       "      <th>1</th>\n",
       "      <td>2</td>\n",
       "      <td>15647311</td>\n",
       "      <td>hill</td>\n",
       "      <td>608</td>\n",
       "      <td>spain</td>\n",
       "      <td>female</td>\n",
       "      <td>41</td>\n",
       "      <td>1.0</td>\n",
       "      <td>83807.86</td>\n",
       "      <td>1</td>\n",
       "      <td>0</td>\n",
       "      <td>1</td>\n",
       "      <td>112542.58</td>\n",
       "      <td>0</td>\n",
       "    </tr>\n",
       "    <tr>\n",
       "      <th>2</th>\n",
       "      <td>3</td>\n",
       "      <td>15619304</td>\n",
       "      <td>onio</td>\n",
       "      <td>502</td>\n",
       "      <td>france</td>\n",
       "      <td>female</td>\n",
       "      <td>42</td>\n",
       "      <td>8.0</td>\n",
       "      <td>159660.80</td>\n",
       "      <td>3</td>\n",
       "      <td>1</td>\n",
       "      <td>0</td>\n",
       "      <td>113931.57</td>\n",
       "      <td>1</td>\n",
       "    </tr>\n",
       "    <tr>\n",
       "      <th>3</th>\n",
       "      <td>4</td>\n",
       "      <td>15701354</td>\n",
       "      <td>boni</td>\n",
       "      <td>699</td>\n",
       "      <td>france</td>\n",
       "      <td>female</td>\n",
       "      <td>39</td>\n",
       "      <td>1.0</td>\n",
       "      <td>0.00</td>\n",
       "      <td>2</td>\n",
       "      <td>0</td>\n",
       "      <td>0</td>\n",
       "      <td>93826.63</td>\n",
       "      <td>0</td>\n",
       "    </tr>\n",
       "    <tr>\n",
       "      <th>4</th>\n",
       "      <td>5</td>\n",
       "      <td>15737888</td>\n",
       "      <td>mitchell</td>\n",
       "      <td>850</td>\n",
       "      <td>spain</td>\n",
       "      <td>female</td>\n",
       "      <td>43</td>\n",
       "      <td>2.0</td>\n",
       "      <td>125510.82</td>\n",
       "      <td>1</td>\n",
       "      <td>1</td>\n",
       "      <td>1</td>\n",
       "      <td>79084.10</td>\n",
       "      <td>0</td>\n",
       "    </tr>\n",
       "  </tbody>\n",
       "</table>\n",
       "</div>"
      ],
      "text/plain": [
       "   row_number  customer_id   surname  credit_score geography  gender  age  \\\n",
       "0           1     15634602  hargrave           619    france  female   42   \n",
       "1           2     15647311      hill           608     spain  female   41   \n",
       "2           3     15619304      onio           502    france  female   42   \n",
       "3           4     15701354      boni           699    france  female   39   \n",
       "4           5     15737888  mitchell           850     spain  female   43   \n",
       "\n",
       "   tenure    balance  num_of_products  has_cr_card  is_active_member  \\\n",
       "0     2.0       0.00                1            1                 1   \n",
       "1     1.0   83807.86                1            0                 1   \n",
       "2     8.0  159660.80                3            1                 0   \n",
       "3     1.0       0.00                2            0                 0   \n",
       "4     2.0  125510.82                1            1                 1   \n",
       "\n",
       "   estimated_salary  exited  \n",
       "0         101348.88       1  \n",
       "1         112542.58       0  \n",
       "2         113931.57       1  \n",
       "3          93826.63       0  \n",
       "4          79084.10       0  "
      ]
     },
     "execution_count": 10,
     "metadata": {},
     "output_type": "execute_result"
    }
   ],
   "source": [
    "data.head()"
   ]
  },
  {
   "cell_type": "markdown",
   "metadata": {},
   "source": [
    "### Проверим пропуски"
   ]
  },
  {
   "cell_type": "code",
   "execution_count": 11,
   "metadata": {},
   "outputs": [
    {
     "data": {
      "text/plain": [
       "row_number            0\n",
       "customer_id           0\n",
       "surname               0\n",
       "credit_score          0\n",
       "geography             0\n",
       "gender                0\n",
       "age                   0\n",
       "tenure              909\n",
       "balance               0\n",
       "num_of_products       0\n",
       "has_cr_card           0\n",
       "is_active_member      0\n",
       "estimated_salary      0\n",
       "exited                0\n",
       "dtype: int64"
      ]
     },
     "execution_count": 11,
     "metadata": {},
     "output_type": "execute_result"
    }
   ],
   "source": [
    "data.isna().sum()"
   ]
  },
  {
   "cell_type": "code",
   "execution_count": 12,
   "metadata": {},
   "outputs": [
    {
     "data": {
      "text/html": [
       "<style  type=\"text/css\" >\n",
       "#T_8c808_row0_col0,#T_8c808_row1_col0,#T_8c808_row2_col0,#T_8c808_row3_col0,#T_8c808_row4_col0,#T_8c808_row5_col0,#T_8c808_row6_col0,#T_8c808_row8_col0,#T_8c808_row9_col0,#T_8c808_row10_col0,#T_8c808_row11_col0,#T_8c808_row12_col0,#T_8c808_row13_col0{\n",
       "            background-color:  #3b4cc0;\n",
       "            color:  #f1f1f1;\n",
       "        }#T_8c808_row7_col0{\n",
       "            background-color:  #b40426;\n",
       "            color:  #f1f1f1;\n",
       "        }</style><table id=\"T_8c808_\" ><thead>    <tr>        <th class=\"blank level0\" ></th>        <th class=\"col_heading level0 col0\" >0</th>    </tr></thead><tbody>\n",
       "                <tr>\n",
       "                        <th id=\"T_8c808_level0_row0\" class=\"row_heading level0 row0\" >row_number</th>\n",
       "                        <td id=\"T_8c808_row0_col0\" class=\"data row0 col0\" >0.000000</td>\n",
       "            </tr>\n",
       "            <tr>\n",
       "                        <th id=\"T_8c808_level0_row1\" class=\"row_heading level0 row1\" >customer_id</th>\n",
       "                        <td id=\"T_8c808_row1_col0\" class=\"data row1 col0\" >0.000000</td>\n",
       "            </tr>\n",
       "            <tr>\n",
       "                        <th id=\"T_8c808_level0_row2\" class=\"row_heading level0 row2\" >surname</th>\n",
       "                        <td id=\"T_8c808_row2_col0\" class=\"data row2 col0\" >0.000000</td>\n",
       "            </tr>\n",
       "            <tr>\n",
       "                        <th id=\"T_8c808_level0_row3\" class=\"row_heading level0 row3\" >credit_score</th>\n",
       "                        <td id=\"T_8c808_row3_col0\" class=\"data row3 col0\" >0.000000</td>\n",
       "            </tr>\n",
       "            <tr>\n",
       "                        <th id=\"T_8c808_level0_row4\" class=\"row_heading level0 row4\" >geography</th>\n",
       "                        <td id=\"T_8c808_row4_col0\" class=\"data row4 col0\" >0.000000</td>\n",
       "            </tr>\n",
       "            <tr>\n",
       "                        <th id=\"T_8c808_level0_row5\" class=\"row_heading level0 row5\" >gender</th>\n",
       "                        <td id=\"T_8c808_row5_col0\" class=\"data row5 col0\" >0.000000</td>\n",
       "            </tr>\n",
       "            <tr>\n",
       "                        <th id=\"T_8c808_level0_row6\" class=\"row_heading level0 row6\" >age</th>\n",
       "                        <td id=\"T_8c808_row6_col0\" class=\"data row6 col0\" >0.000000</td>\n",
       "            </tr>\n",
       "            <tr>\n",
       "                        <th id=\"T_8c808_level0_row7\" class=\"row_heading level0 row7\" >tenure</th>\n",
       "                        <td id=\"T_8c808_row7_col0\" class=\"data row7 col0\" >9.000000</td>\n",
       "            </tr>\n",
       "            <tr>\n",
       "                        <th id=\"T_8c808_level0_row8\" class=\"row_heading level0 row8\" >balance</th>\n",
       "                        <td id=\"T_8c808_row8_col0\" class=\"data row8 col0\" >0.000000</td>\n",
       "            </tr>\n",
       "            <tr>\n",
       "                        <th id=\"T_8c808_level0_row9\" class=\"row_heading level0 row9\" >num_of_products</th>\n",
       "                        <td id=\"T_8c808_row9_col0\" class=\"data row9 col0\" >0.000000</td>\n",
       "            </tr>\n",
       "            <tr>\n",
       "                        <th id=\"T_8c808_level0_row10\" class=\"row_heading level0 row10\" >has_cr_card</th>\n",
       "                        <td id=\"T_8c808_row10_col0\" class=\"data row10 col0\" >0.000000</td>\n",
       "            </tr>\n",
       "            <tr>\n",
       "                        <th id=\"T_8c808_level0_row11\" class=\"row_heading level0 row11\" >is_active_member</th>\n",
       "                        <td id=\"T_8c808_row11_col0\" class=\"data row11 col0\" >0.000000</td>\n",
       "            </tr>\n",
       "            <tr>\n",
       "                        <th id=\"T_8c808_level0_row12\" class=\"row_heading level0 row12\" >estimated_salary</th>\n",
       "                        <td id=\"T_8c808_row12_col0\" class=\"data row12 col0\" >0.000000</td>\n",
       "            </tr>\n",
       "            <tr>\n",
       "                        <th id=\"T_8c808_level0_row13\" class=\"row_heading level0 row13\" >exited</th>\n",
       "                        <td id=\"T_8c808_row13_col0\" class=\"data row13 col0\" >0.000000</td>\n",
       "            </tr>\n",
       "    </tbody></table>"
      ],
      "text/plain": [
       "<pandas.io.formats.style.Styler at 0x7fdeabb858b0>"
      ]
     },
     "execution_count": 12,
     "metadata": {},
     "output_type": "execute_result"
    }
   ],
   "source": [
    "pd.DataFrame(round(data.isna().mean()*100,)).style.background_gradient('coolwarm')"
   ]
  },
  {
   "cell_type": "code",
   "execution_count": 13,
   "metadata": {},
   "outputs": [
    {
     "data": {
      "text/html": [
       "<div>\n",
       "<style scoped>\n",
       "    .dataframe tbody tr th:only-of-type {\n",
       "        vertical-align: middle;\n",
       "    }\n",
       "\n",
       "    .dataframe tbody tr th {\n",
       "        vertical-align: top;\n",
       "    }\n",
       "\n",
       "    .dataframe thead th {\n",
       "        text-align: right;\n",
       "    }\n",
       "</style>\n",
       "<table border=\"1\" class=\"dataframe\">\n",
       "  <thead>\n",
       "    <tr style=\"text-align: right;\">\n",
       "      <th></th>\n",
       "      <th>row_number</th>\n",
       "      <th>customer_id</th>\n",
       "      <th>surname</th>\n",
       "      <th>credit_score</th>\n",
       "      <th>geography</th>\n",
       "      <th>gender</th>\n",
       "      <th>age</th>\n",
       "      <th>tenure</th>\n",
       "      <th>balance</th>\n",
       "      <th>num_of_products</th>\n",
       "      <th>has_cr_card</th>\n",
       "      <th>is_active_member</th>\n",
       "      <th>estimated_salary</th>\n",
       "      <th>exited</th>\n",
       "    </tr>\n",
       "  </thead>\n",
       "  <tbody>\n",
       "    <tr>\n",
       "      <th>30</th>\n",
       "      <td>31</td>\n",
       "      <td>15589475</td>\n",
       "      <td>azikiwe</td>\n",
       "      <td>591</td>\n",
       "      <td>spain</td>\n",
       "      <td>female</td>\n",
       "      <td>39</td>\n",
       "      <td>NaN</td>\n",
       "      <td>0.00</td>\n",
       "      <td>3</td>\n",
       "      <td>1</td>\n",
       "      <td>0</td>\n",
       "      <td>140469.38</td>\n",
       "      <td>1</td>\n",
       "    </tr>\n",
       "    <tr>\n",
       "      <th>48</th>\n",
       "      <td>49</td>\n",
       "      <td>15766205</td>\n",
       "      <td>yin</td>\n",
       "      <td>550</td>\n",
       "      <td>germany</td>\n",
       "      <td>male</td>\n",
       "      <td>38</td>\n",
       "      <td>NaN</td>\n",
       "      <td>103391.38</td>\n",
       "      <td>1</td>\n",
       "      <td>0</td>\n",
       "      <td>1</td>\n",
       "      <td>90878.13</td>\n",
       "      <td>0</td>\n",
       "    </tr>\n",
       "    <tr>\n",
       "      <th>51</th>\n",
       "      <td>52</td>\n",
       "      <td>15768193</td>\n",
       "      <td>trevisani</td>\n",
       "      <td>585</td>\n",
       "      <td>germany</td>\n",
       "      <td>male</td>\n",
       "      <td>36</td>\n",
       "      <td>NaN</td>\n",
       "      <td>146050.97</td>\n",
       "      <td>2</td>\n",
       "      <td>0</td>\n",
       "      <td>0</td>\n",
       "      <td>86424.57</td>\n",
       "      <td>0</td>\n",
       "    </tr>\n",
       "    <tr>\n",
       "      <th>53</th>\n",
       "      <td>54</td>\n",
       "      <td>15702298</td>\n",
       "      <td>parkhill</td>\n",
       "      <td>655</td>\n",
       "      <td>germany</td>\n",
       "      <td>male</td>\n",
       "      <td>41</td>\n",
       "      <td>NaN</td>\n",
       "      <td>125561.97</td>\n",
       "      <td>1</td>\n",
       "      <td>0</td>\n",
       "      <td>0</td>\n",
       "      <td>164040.94</td>\n",
       "      <td>1</td>\n",
       "    </tr>\n",
       "    <tr>\n",
       "      <th>60</th>\n",
       "      <td>61</td>\n",
       "      <td>15651280</td>\n",
       "      <td>hunter</td>\n",
       "      <td>742</td>\n",
       "      <td>germany</td>\n",
       "      <td>male</td>\n",
       "      <td>35</td>\n",
       "      <td>NaN</td>\n",
       "      <td>136857.00</td>\n",
       "      <td>1</td>\n",
       "      <td>0</td>\n",
       "      <td>0</td>\n",
       "      <td>84509.57</td>\n",
       "      <td>0</td>\n",
       "    </tr>\n",
       "  </tbody>\n",
       "</table>\n",
       "</div>"
      ],
      "text/plain": [
       "    row_number  customer_id    surname  credit_score geography  gender  age  \\\n",
       "30          31     15589475    azikiwe           591     spain  female   39   \n",
       "48          49     15766205        yin           550   germany    male   38   \n",
       "51          52     15768193  trevisani           585   germany    male   36   \n",
       "53          54     15702298   parkhill           655   germany    male   41   \n",
       "60          61     15651280     hunter           742   germany    male   35   \n",
       "\n",
       "    tenure    balance  num_of_products  has_cr_card  is_active_member  \\\n",
       "30     NaN       0.00                3            1                 0   \n",
       "48     NaN  103391.38                1            0                 1   \n",
       "51     NaN  146050.97                2            0                 0   \n",
       "53     NaN  125561.97                1            0                 0   \n",
       "60     NaN  136857.00                1            0                 0   \n",
       "\n",
       "    estimated_salary  exited  \n",
       "30         140469.38       1  \n",
       "48          90878.13       0  \n",
       "51          86424.57       0  \n",
       "53         164040.94       1  \n",
       "60          84509.57       0  "
      ]
     },
     "execution_count": 13,
     "metadata": {},
     "output_type": "execute_result"
    }
   ],
   "source": [
    "data[data['tenure'].isnull()].head()"
   ]
  },
  {
   "cell_type": "code",
   "execution_count": 14,
   "metadata": {},
   "outputs": [
    {
     "data": {
      "text/plain": [
       "array([ 0.,  1.,  2.,  3.,  4.,  5.,  6.,  7.,  8.,  9., 10., nan])"
      ]
     },
     "execution_count": 14,
     "metadata": {},
     "output_type": "execute_result"
    }
   ],
   "source": [
    "data['tenure'].sort_values().unique()"
   ]
  },
  {
   "cell_type": "code",
   "execution_count": 15,
   "metadata": {},
   "outputs": [
    {
     "data": {
      "text/plain": [
       "1.0     952\n",
       "2.0     950\n",
       "8.0     933\n",
       "3.0     928\n",
       "5.0     927\n",
       "7.0     925\n",
       "4.0     885\n",
       "9.0     882\n",
       "6.0     881\n",
       "10.0    446\n",
       "0.0     382\n",
       "Name: tenure, dtype: int64"
      ]
     },
     "execution_count": 15,
     "metadata": {},
     "output_type": "execute_result"
    }
   ],
   "source": [
    "data['tenure'].value_counts()"
   ]
  },
  {
   "cell_type": "markdown",
   "metadata": {},
   "source": [
    "**Видим, что в столбце `tenure` имеются пропуски (доля 9% от всех данных), при этом остальные значения в хорошем состоянии, удалять такие строки не будем, а заменим пропуски на случайные значения.**"
   ]
  },
  {
   "cell_type": "code",
   "execution_count": 16,
   "metadata": {},
   "outputs": [],
   "source": [
    "np.random.seed(42)\n",
    "data['tenure'] = data['tenure'].mask(data['tenure'].isna(), np.random.uniform(0, 11, size=len(data))).astype('int64')"
   ]
  },
  {
   "cell_type": "markdown",
   "metadata": {},
   "source": [
    "### Проверим наличие дубликатов в таблице."
   ]
  },
  {
   "cell_type": "code",
   "execution_count": 17,
   "metadata": {},
   "outputs": [
    {
     "name": "stdout",
     "output_type": "stream",
     "text": [
      "Количество дубликатов: 0\n"
     ]
    }
   ],
   "source": [
    "print('Количество дубликатов:', data.duplicated().sum())"
   ]
  },
  {
   "cell_type": "markdown",
   "metadata": {},
   "source": [
    "### Удалим столбцы, которые не будут использоваться при обучении модели"
   ]
  },
  {
   "cell_type": "code",
   "execution_count": 18,
   "metadata": {},
   "outputs": [
    {
     "data": {
      "text/html": [
       "<div>\n",
       "<style scoped>\n",
       "    .dataframe tbody tr th:only-of-type {\n",
       "        vertical-align: middle;\n",
       "    }\n",
       "\n",
       "    .dataframe tbody tr th {\n",
       "        vertical-align: top;\n",
       "    }\n",
       "\n",
       "    .dataframe thead th {\n",
       "        text-align: right;\n",
       "    }\n",
       "</style>\n",
       "<table border=\"1\" class=\"dataframe\">\n",
       "  <thead>\n",
       "    <tr style=\"text-align: right;\">\n",
       "      <th></th>\n",
       "      <th>credit_score</th>\n",
       "      <th>geography</th>\n",
       "      <th>gender</th>\n",
       "      <th>age</th>\n",
       "      <th>tenure</th>\n",
       "      <th>balance</th>\n",
       "      <th>num_of_products</th>\n",
       "      <th>has_cr_card</th>\n",
       "      <th>is_active_member</th>\n",
       "      <th>estimated_salary</th>\n",
       "      <th>exited</th>\n",
       "    </tr>\n",
       "  </thead>\n",
       "  <tbody>\n",
       "    <tr>\n",
       "      <th>0</th>\n",
       "      <td>619</td>\n",
       "      <td>france</td>\n",
       "      <td>female</td>\n",
       "      <td>42</td>\n",
       "      <td>2</td>\n",
       "      <td>0.00</td>\n",
       "      <td>1</td>\n",
       "      <td>1</td>\n",
       "      <td>1</td>\n",
       "      <td>101348.88</td>\n",
       "      <td>1</td>\n",
       "    </tr>\n",
       "    <tr>\n",
       "      <th>1</th>\n",
       "      <td>608</td>\n",
       "      <td>spain</td>\n",
       "      <td>female</td>\n",
       "      <td>41</td>\n",
       "      <td>1</td>\n",
       "      <td>83807.86</td>\n",
       "      <td>1</td>\n",
       "      <td>0</td>\n",
       "      <td>1</td>\n",
       "      <td>112542.58</td>\n",
       "      <td>0</td>\n",
       "    </tr>\n",
       "    <tr>\n",
       "      <th>2</th>\n",
       "      <td>502</td>\n",
       "      <td>france</td>\n",
       "      <td>female</td>\n",
       "      <td>42</td>\n",
       "      <td>8</td>\n",
       "      <td>159660.80</td>\n",
       "      <td>3</td>\n",
       "      <td>1</td>\n",
       "      <td>0</td>\n",
       "      <td>113931.57</td>\n",
       "      <td>1</td>\n",
       "    </tr>\n",
       "    <tr>\n",
       "      <th>3</th>\n",
       "      <td>699</td>\n",
       "      <td>france</td>\n",
       "      <td>female</td>\n",
       "      <td>39</td>\n",
       "      <td>1</td>\n",
       "      <td>0.00</td>\n",
       "      <td>2</td>\n",
       "      <td>0</td>\n",
       "      <td>0</td>\n",
       "      <td>93826.63</td>\n",
       "      <td>0</td>\n",
       "    </tr>\n",
       "    <tr>\n",
       "      <th>4</th>\n",
       "      <td>850</td>\n",
       "      <td>spain</td>\n",
       "      <td>female</td>\n",
       "      <td>43</td>\n",
       "      <td>2</td>\n",
       "      <td>125510.82</td>\n",
       "      <td>1</td>\n",
       "      <td>1</td>\n",
       "      <td>1</td>\n",
       "      <td>79084.10</td>\n",
       "      <td>0</td>\n",
       "    </tr>\n",
       "  </tbody>\n",
       "</table>\n",
       "</div>"
      ],
      "text/plain": [
       "   credit_score geography  gender  age  tenure    balance  num_of_products  \\\n",
       "0           619    france  female   42       2       0.00                1   \n",
       "1           608     spain  female   41       1   83807.86                1   \n",
       "2           502    france  female   42       8  159660.80                3   \n",
       "3           699    france  female   39       1       0.00                2   \n",
       "4           850     spain  female   43       2  125510.82                1   \n",
       "\n",
       "   has_cr_card  is_active_member  estimated_salary  exited  \n",
       "0            1                 1         101348.88       1  \n",
       "1            0                 1         112542.58       0  \n",
       "2            1                 0         113931.57       1  \n",
       "3            0                 0          93826.63       0  \n",
       "4            1                 1          79084.10       0  "
      ]
     },
     "execution_count": 18,
     "metadata": {},
     "output_type": "execute_result"
    }
   ],
   "source": [
    "data = data.drop(columns=['row_number', 'customer_id', 'surname'])\n",
    "\n",
    "data.head()"
   ]
  },
  {
   "cell_type": "markdown",
   "metadata": {},
   "source": [
    "**Вывод по предобработке данных:**\n",
    "\n",
    "1. Все значения столбцов были приведены к нижнему регистру.\n",
    "\n",
    "2. Были заменены пропуски в данных на случайные числа. Пропуски в данных могли появиться из-за некорректной выгрузки данных или в следствие ошибок при заполнении таблицы.\n",
    "\n",
    "3. Дубликаты отсутствуют.\n",
    "\n",
    "4. Удалили лишние столбцы, которые не нужны для обучения модели.\n",
    "\n",
    "5. Имеется дисбаланс в данных, в дальнейшем при построении модели будем иметь это ввиду.\n",
    "\n",
    "**В целом таблица готова к дальнейшему исследованию.**"
   ]
  },
  {
   "cell_type": "markdown",
   "metadata": {},
   "source": [
    "## Разделим исходные данные на обучающую, валидационную и тестовую выборки."
   ]
  },
  {
   "cell_type": "markdown",
   "metadata": {},
   "source": [
    "**Разделим сначала исходные данные на тренировочную (`_train`)  и тестовую 1 (`_test1`) выборки как 60% к 40% . Затем тестовую 1 разделим на тестовую (`_test`) и валидационную (`_valid`) в соотношении 50% на 50%.**"
   ]
  },
  {
   "cell_type": "code",
   "execution_count": 19,
   "metadata": {},
   "outputs": [
    {
     "name": "stdout",
     "output_type": "stream",
     "text": [
      "Размер тренировочной выборки (признаки): (6000, 10)\n",
      "Размер валидационной выборки (признаки): (2000, 10)\n",
      "Размер тестовой выборки (признаки): (2000, 10)\n",
      "Размер тренировочной выборки (целевой признак): (6000,)\n",
      "Размер валидационной выборки (целевой признак): (2000,)\n",
      "Размер тестовой выборки (целевой признак): (2000,)\n"
     ]
    }
   ],
   "source": [
    "features = data.drop(['exited'], axis=1)\n",
    "target = data['exited']\n",
    "\n",
    "features_train, features_test1, target_train, target_test1 = train_test_split(\n",
    "    features, target, test_size=0.4, random_state=1811)\n",
    "\n",
    "features_valid, features_test, target_valid, target_test = train_test_split(\n",
    "    features_test1, target_test1, test_size=0.5, random_state=1811)\n",
    "\n",
    "print('Размер тренировочной выборки (признаки):', features_train.shape)\n",
    "print('Размер валидационной выборки (признаки):', features_valid.shape)\n",
    "print('Размер тестовой выборки (признаки):', features_test.shape)\n",
    "print('Размер тренировочной выборки (целевой признак):', target_train.shape)\n",
    "print('Размер валидационной выборки (целевой признак):', target_valid.shape)\n",
    "print('Размер тестовой выборки (целевой признак):', target_test.shape)"
   ]
  },
  {
   "cell_type": "markdown",
   "metadata": {},
   "source": [
    "**В итоге получили три выборки:**\n",
    "\n",
    "1. Тренировочную выборку `_train` - 60%\n",
    "\n",
    "2. Валидационную выборку `_valid` - 20%\n",
    "\n",
    "3. Тестовую выборку `_test` - 20%"
   ]
  },
  {
   "cell_type": "markdown",
   "metadata": {},
   "source": [
    "### Масштабируем признаки."
   ]
  },
  {
   "cell_type": "code",
   "execution_count": 20,
   "metadata": {},
   "outputs": [
    {
     "data": {
      "text/html": [
       "<div>\n",
       "<style scoped>\n",
       "    .dataframe tbody tr th:only-of-type {\n",
       "        vertical-align: middle;\n",
       "    }\n",
       "\n",
       "    .dataframe tbody tr th {\n",
       "        vertical-align: top;\n",
       "    }\n",
       "\n",
       "    .dataframe thead th {\n",
       "        text-align: right;\n",
       "    }\n",
       "</style>\n",
       "<table border=\"1\" class=\"dataframe\">\n",
       "  <thead>\n",
       "    <tr style=\"text-align: right;\">\n",
       "      <th></th>\n",
       "      <th>credit_score</th>\n",
       "      <th>geography</th>\n",
       "      <th>gender</th>\n",
       "      <th>age</th>\n",
       "      <th>tenure</th>\n",
       "      <th>balance</th>\n",
       "      <th>num_of_products</th>\n",
       "      <th>has_cr_card</th>\n",
       "      <th>is_active_member</th>\n",
       "      <th>estimated_salary</th>\n",
       "    </tr>\n",
       "  </thead>\n",
       "  <tbody>\n",
       "    <tr>\n",
       "      <th>1035</th>\n",
       "      <td>0.272259</td>\n",
       "      <td>spain</td>\n",
       "      <td>male</td>\n",
       "      <td>-0.854542</td>\n",
       "      <td>-1.709348</td>\n",
       "      <td>-1.229010</td>\n",
       "      <td>1</td>\n",
       "      <td>1</td>\n",
       "      <td>0</td>\n",
       "      <td>-1.141325</td>\n",
       "    </tr>\n",
       "    <tr>\n",
       "      <th>531</th>\n",
       "      <td>0.521545</td>\n",
       "      <td>spain</td>\n",
       "      <td>female</td>\n",
       "      <td>-1.233147</td>\n",
       "      <td>-0.339541</td>\n",
       "      <td>0.939511</td>\n",
       "      <td>1</td>\n",
       "      <td>0</td>\n",
       "      <td>1</td>\n",
       "      <td>-0.714738</td>\n",
       "    </tr>\n",
       "    <tr>\n",
       "      <th>460</th>\n",
       "      <td>-1.908997</td>\n",
       "      <td>germany</td>\n",
       "      <td>male</td>\n",
       "      <td>-0.949194</td>\n",
       "      <td>-1.366896</td>\n",
       "      <td>0.562038</td>\n",
       "      <td>2</td>\n",
       "      <td>1</td>\n",
       "      <td>1</td>\n",
       "      <td>1.639689</td>\n",
       "    </tr>\n",
       "    <tr>\n",
       "      <th>1018</th>\n",
       "      <td>2.058811</td>\n",
       "      <td>germany</td>\n",
       "      <td>female</td>\n",
       "      <td>0.565225</td>\n",
       "      <td>0.002911</td>\n",
       "      <td>0.437396</td>\n",
       "      <td>1</td>\n",
       "      <td>1</td>\n",
       "      <td>0</td>\n",
       "      <td>-0.708929</td>\n",
       "    </tr>\n",
       "    <tr>\n",
       "      <th>7478</th>\n",
       "      <td>-1.119590</td>\n",
       "      <td>spain</td>\n",
       "      <td>male</td>\n",
       "      <td>-1.611752</td>\n",
       "      <td>-0.339541</td>\n",
       "      <td>-1.229010</td>\n",
       "      <td>2</td>\n",
       "      <td>1</td>\n",
       "      <td>0</td>\n",
       "      <td>-0.537069</td>\n",
       "    </tr>\n",
       "  </tbody>\n",
       "</table>\n",
       "</div>"
      ],
      "text/plain": [
       "      credit_score geography  gender       age    tenure   balance  \\\n",
       "1035      0.272259     spain    male -0.854542 -1.709348 -1.229010   \n",
       "531       0.521545     spain  female -1.233147 -0.339541  0.939511   \n",
       "460      -1.908997   germany    male -0.949194 -1.366896  0.562038   \n",
       "1018      2.058811   germany  female  0.565225  0.002911  0.437396   \n",
       "7478     -1.119590     spain    male -1.611752 -0.339541 -1.229010   \n",
       "\n",
       "      num_of_products  has_cr_card  is_active_member  estimated_salary  \n",
       "1035                1            1                 0         -1.141325  \n",
       "531                 1            0                 1         -0.714738  \n",
       "460                 2            1                 1          1.639689  \n",
       "1018                1            1                 0         -0.708929  \n",
       "7478                2            1                 0         -0.537069  "
      ]
     },
     "execution_count": 20,
     "metadata": {},
     "output_type": "execute_result"
    }
   ],
   "source": [
    "pd.options.mode.chained_assignment = None\n",
    "numeric = ['credit_score', 'age', 'tenure', 'balance', 'estimated_salary']\n",
    "\n",
    "scaler = StandardScaler()\n",
    "scaler.fit(features_train[numeric]) \n",
    "\n",
    "features_train[numeric] = scaler.transform(features_train[numeric])\n",
    "features_valid[numeric] = scaler.transform(features_valid[numeric])\n",
    "features_test[numeric] = scaler.transform(features_test[numeric])\n",
    "\n",
    "features_train.head()\n"
   ]
  },
  {
   "cell_type": "markdown",
   "metadata": {},
   "source": [
    "### Преобразуем категориальные признаки в численные."
   ]
  },
  {
   "cell_type": "markdown",
   "metadata": {},
   "source": [
    "Преобразуем категориальные признаки в численные с помощью техники прямого кодирования, или отображения - **One-Hot Encoding или OHE**). Используем параметр *drop_first=True*, чтобы избежать дамми-ловушки."
   ]
  },
  {
   "cell_type": "code",
   "execution_count": 21,
   "metadata": {},
   "outputs": [
    {
     "data": {
      "text/html": [
       "<div>\n",
       "<style scoped>\n",
       "    .dataframe tbody tr th:only-of-type {\n",
       "        vertical-align: middle;\n",
       "    }\n",
       "\n",
       "    .dataframe tbody tr th {\n",
       "        vertical-align: top;\n",
       "    }\n",
       "\n",
       "    .dataframe thead th {\n",
       "        text-align: right;\n",
       "    }\n",
       "</style>\n",
       "<table border=\"1\" class=\"dataframe\">\n",
       "  <thead>\n",
       "    <tr style=\"text-align: right;\">\n",
       "      <th></th>\n",
       "      <th>credit_score</th>\n",
       "      <th>age</th>\n",
       "      <th>tenure</th>\n",
       "      <th>balance</th>\n",
       "      <th>num_of_products</th>\n",
       "      <th>has_cr_card</th>\n",
       "      <th>is_active_member</th>\n",
       "      <th>estimated_salary</th>\n",
       "      <th>geography_germany</th>\n",
       "      <th>geography_spain</th>\n",
       "      <th>gender_male</th>\n",
       "    </tr>\n",
       "  </thead>\n",
       "  <tbody>\n",
       "    <tr>\n",
       "      <th>1035</th>\n",
       "      <td>0.272259</td>\n",
       "      <td>-0.854542</td>\n",
       "      <td>-1.709348</td>\n",
       "      <td>-1.229010</td>\n",
       "      <td>1</td>\n",
       "      <td>1</td>\n",
       "      <td>0</td>\n",
       "      <td>-1.141325</td>\n",
       "      <td>0</td>\n",
       "      <td>1</td>\n",
       "      <td>1</td>\n",
       "    </tr>\n",
       "    <tr>\n",
       "      <th>531</th>\n",
       "      <td>0.521545</td>\n",
       "      <td>-1.233147</td>\n",
       "      <td>-0.339541</td>\n",
       "      <td>0.939511</td>\n",
       "      <td>1</td>\n",
       "      <td>0</td>\n",
       "      <td>1</td>\n",
       "      <td>-0.714738</td>\n",
       "      <td>0</td>\n",
       "      <td>1</td>\n",
       "      <td>0</td>\n",
       "    </tr>\n",
       "    <tr>\n",
       "      <th>460</th>\n",
       "      <td>-1.908997</td>\n",
       "      <td>-0.949194</td>\n",
       "      <td>-1.366896</td>\n",
       "      <td>0.562038</td>\n",
       "      <td>2</td>\n",
       "      <td>1</td>\n",
       "      <td>1</td>\n",
       "      <td>1.639689</td>\n",
       "      <td>1</td>\n",
       "      <td>0</td>\n",
       "      <td>1</td>\n",
       "    </tr>\n",
       "    <tr>\n",
       "      <th>1018</th>\n",
       "      <td>2.058811</td>\n",
       "      <td>0.565225</td>\n",
       "      <td>0.002911</td>\n",
       "      <td>0.437396</td>\n",
       "      <td>1</td>\n",
       "      <td>1</td>\n",
       "      <td>0</td>\n",
       "      <td>-0.708929</td>\n",
       "      <td>1</td>\n",
       "      <td>0</td>\n",
       "      <td>0</td>\n",
       "    </tr>\n",
       "    <tr>\n",
       "      <th>7478</th>\n",
       "      <td>-1.119590</td>\n",
       "      <td>-1.611752</td>\n",
       "      <td>-0.339541</td>\n",
       "      <td>-1.229010</td>\n",
       "      <td>2</td>\n",
       "      <td>1</td>\n",
       "      <td>0</td>\n",
       "      <td>-0.537069</td>\n",
       "      <td>0</td>\n",
       "      <td>1</td>\n",
       "      <td>1</td>\n",
       "    </tr>\n",
       "  </tbody>\n",
       "</table>\n",
       "</div>"
      ],
      "text/plain": [
       "      credit_score       age    tenure   balance  num_of_products  \\\n",
       "1035      0.272259 -0.854542 -1.709348 -1.229010                1   \n",
       "531       0.521545 -1.233147 -0.339541  0.939511                1   \n",
       "460      -1.908997 -0.949194 -1.366896  0.562038                2   \n",
       "1018      2.058811  0.565225  0.002911  0.437396                1   \n",
       "7478     -1.119590 -1.611752 -0.339541 -1.229010                2   \n",
       "\n",
       "      has_cr_card  is_active_member  estimated_salary  geography_germany  \\\n",
       "1035            1                 0         -1.141325                  0   \n",
       "531             0                 1         -0.714738                  0   \n",
       "460             1                 1          1.639689                  1   \n",
       "1018            1                 0         -0.708929                  1   \n",
       "7478            1                 0         -0.537069                  0   \n",
       "\n",
       "      geography_spain  gender_male  \n",
       "1035                1            1  \n",
       "531                 1            0  \n",
       "460                 0            1  \n",
       "1018                0            0  \n",
       "7478                1            1  "
      ]
     },
     "execution_count": 21,
     "metadata": {},
     "output_type": "execute_result"
    }
   ],
   "source": [
    "features_train = pd.get_dummies(features_train, drop_first=True)\n",
    "features_valid = pd.get_dummies(features_valid, drop_first=True)\n",
    "features_test = pd.get_dummies(features_test, drop_first=True)\n",
    "\n",
    "features_train.head()"
   ]
  },
  {
   "cell_type": "markdown",
   "metadata": {},
   "source": [
    "**Вывод: получили три выборки для дальнейшего исследования - тренировочную (60% от исходного датасета), валидационную (20%) и тестовую (20%). А также привели к стандартному виду масштабы признаков и преобразовали категориальные признаки в численные с помощью *OHE*.**"
   ]
  },
  {
   "cell_type": "markdown",
   "metadata": {},
   "source": [
    "## Обучим модели без учета дисбаланса."
   ]
  },
  {
   "cell_type": "markdown",
   "metadata": {},
   "source": [
    "**Исследуем качество разных моделей, меняя гиперпараметры.**"
   ]
  },
  {
   "cell_type": "markdown",
   "metadata": {},
   "source": [
    "### Первая модель - `Решающее дерево`, подберем оптимальные гиперпараметры."
   ]
  },
  {
   "cell_type": "code",
   "execution_count": 22,
   "metadata": {},
   "outputs": [
    {
     "name": "stdout",
     "output_type": "stream",
     "text": [
      "F1 наилучшей модели на валидационной выборке: 0.5852272727272728 Лучшая глубина дерева: 7\n"
     ]
    }
   ],
   "source": [
    "best_model_DT = None\n",
    "best_result_DT = 0\n",
    "best_depth_DT = 0\n",
    "for depth in range(1, 100):\n",
    "    model = DecisionTreeClassifier(random_state=1811, max_depth=depth)\n",
    "    model.fit(features_train, target_train)\n",
    "    predictions_valid = model.predict(features_valid)\n",
    "    result = f1_score(target_valid, predictions_valid)\n",
    "    if result > best_result_DT:\n",
    "        best_model_DT = model # наилучшая модель\n",
    "        best_result_DT = result # наилучшее значение метрики f1 на валидационных данных\n",
    "        best_depth_DT = depth # лучшая глубина дерева\n",
    "\n",
    "print(\"F1 наилучшей модели на валидационной выборке:\", best_result_DT, \"Лучшая глубина дерева:\", best_depth_DT)"
   ]
  },
  {
   "cell_type": "code",
   "execution_count": 23,
   "metadata": {},
   "outputs": [
    {
     "name": "stdout",
     "output_type": "stream",
     "text": [
      "AUC-ROC лучшей модели DT на валидационной выборке: 0.8198686886167957\n"
     ]
    }
   ],
   "source": [
    "model_DT = DecisionTreeClassifier(random_state=1811, max_depth=best_depth_DT) \n",
    "model_DT.fit(features_train, target_train) \n",
    "\n",
    "probabilities_valid_DT = model_DT.predict_proba(features_valid)\n",
    "probabilities_one_valid_DT = probabilities_valid_DT[:, 1]\n",
    "\n",
    "auc_roc_DT = roc_auc_score(target_valid, probabilities_one_valid_DT)\n",
    "\n",
    "print(\"AUC-ROC лучшей модели DT на валидационной выборке:\", auc_roc_DT)"
   ]
  },
  {
   "cell_type": "markdown",
   "metadata": {},
   "source": [
    "### Вторая модель - `Случайный лес`, подберем оптимальные гиперпараметры."
   ]
  },
  {
   "cell_type": "code",
   "execution_count": 24,
   "metadata": {},
   "outputs": [
    {
     "name": "stdout",
     "output_type": "stream",
     "text": [
      "F1 наилучшей модели на валидационной выборке: 0.5903083700440529 Количество деревьев: 25 Глубина дерева 25\n",
      "CPU times: user 20.6 s, sys: 62.4 ms, total: 20.7 s\n",
      "Wall time: 20.7 s\n"
     ]
    }
   ],
   "source": [
    "%%time\n",
    "\n",
    "best_model_RF = None\n",
    "best_result_RF = 0\n",
    "best_est_RF = 0\n",
    "best_depth_RF = 0\n",
    "for est in range(1, 31, 2):\n",
    "    for depth in range(1, 31, 2):\n",
    "        model = RandomForestClassifier(random_state=1811, n_estimators=est, max_depth=depth)\n",
    "        model.fit(features_train, target_train)\n",
    "        predictions_valid = model.predict(features_valid)\n",
    "        result = f1_score(target_valid, predictions_valid) # качество модели на валидационной выборке\n",
    "        if result > best_result_RF:\n",
    "            best_model_RF = model # наилучшая модель\n",
    "            best_result_RF = result # наилучшее значение метрики f1 на валидационных данных\n",
    "            best_est_RF = est # количество деревьев\n",
    "            best_depth_RF = depth # лучшая глубина дерева\n",
    "\n",
    "print(\"F1 наилучшей модели на валидационной выборке:\", best_result_RF, \n",
    "      \"Количество деревьев:\", best_est_RF, \n",
    "      \"Глубина дерева\", best_depth_RF\n",
    "     )"
   ]
  },
  {
   "cell_type": "code",
   "execution_count": 25,
   "metadata": {},
   "outputs": [
    {
     "name": "stdout",
     "output_type": "stream",
     "text": [
      "AUC-ROC лучшей модели RF на валидационной выборке: 0.8341764993108394\n"
     ]
    }
   ],
   "source": [
    "model_RF = RandomForestClassifier(random_state=1811, n_estimators=best_est_RF, max_depth=best_depth_RF) \n",
    "model_RF.fit(features_train, target_train) \n",
    "\n",
    "probabilities_valid_RF = model_RF.predict_proba(features_valid)\n",
    "probabilities_one_valid_RF = probabilities_valid_RF[:, 1]\n",
    "\n",
    "auc_roc_RF = roc_auc_score(target_valid, probabilities_one_valid_RF)\n",
    "\n",
    "print(\"AUC-ROC лучшей модели RF на валидационной выборке:\", auc_roc_RF)"
   ]
  },
  {
   "cell_type": "markdown",
   "metadata": {},
   "source": [
    "### Третья модель - `Логистическая регрессия`."
   ]
  },
  {
   "cell_type": "code",
   "execution_count": 26,
   "metadata": {
    "scrolled": true
   },
   "outputs": [
    {
     "name": "stdout",
     "output_type": "stream",
     "text": [
      "Порог = 0.00 | Точность = 0.203, Полнота = 1.000, F1 = 0.337, AUC-ROC = 0.757\n",
      "Порог = 0.02 | Точность = 0.204, Полнота = 1.000, F1 = 0.339, AUC-ROC = 0.757\n",
      "Порог = 0.04 | Точность = 0.217, Полнота = 0.993, F1 = 0.357, AUC-ROC = 0.757\n",
      "Порог = 0.06 | Точность = 0.234, Полнота = 0.961, F1 = 0.377, AUC-ROC = 0.757\n",
      "Порог = 0.08 | Точность = 0.252, Полнота = 0.924, F1 = 0.396, AUC-ROC = 0.757\n",
      "Порог = 0.10 | Точность = 0.270, Полнота = 0.894, F1 = 0.415, AUC-ROC = 0.757\n",
      "Порог = 0.12 | Точность = 0.285, Полнота = 0.842, F1 = 0.426, AUC-ROC = 0.757\n",
      "Порог = 0.14 | Точность = 0.306, Полнота = 0.818, F1 = 0.445, AUC-ROC = 0.757\n",
      "Порог = 0.16 | Точность = 0.329, Полнота = 0.786, F1 = 0.464, AUC-ROC = 0.757\n",
      "Порог = 0.18 | Точность = 0.346, Полнота = 0.739, F1 = 0.472, AUC-ROC = 0.757\n",
      "Порог = 0.20 | Точность = 0.359, Полнота = 0.677, F1 = 0.470, AUC-ROC = 0.757\n",
      "Порог = 0.22 | Точность = 0.384, Полнота = 0.648, F1 = 0.482, AUC-ROC = 0.757\n",
      "Порог = 0.24 | Точность = 0.400, Полнота = 0.596, F1 = 0.479, AUC-ROC = 0.757\n",
      "Порог = 0.26 | Точность = 0.422, Полнота = 0.557, F1 = 0.480, AUC-ROC = 0.757\n",
      "Порог = 0.28 | Точность = 0.446, Полнота = 0.530, F1 = 0.484, AUC-ROC = 0.757\n",
      "Порог = 0.30 | Точность = 0.471, Полнота = 0.495, F1 = 0.483, AUC-ROC = 0.757\n",
      "Порог = 0.32 | Точность = 0.478, Полнота = 0.461, F1 = 0.469, AUC-ROC = 0.757\n",
      "Порог = 0.34 | Точность = 0.499, Полнота = 0.421, F1 = 0.457, AUC-ROC = 0.757\n",
      "Порог = 0.36 | Точность = 0.505, Полнота = 0.387, F1 = 0.438, AUC-ROC = 0.757\n",
      "Порог = 0.38 | Точность = 0.517, Полнота = 0.365, F1 = 0.428, AUC-ROC = 0.757\n",
      "Порог = 0.40 | Точность = 0.533, Полнота = 0.337, F1 = 0.413, AUC-ROC = 0.757\n",
      "Порог = 0.42 | Точность = 0.537, Полнота = 0.300, F1 = 0.385, AUC-ROC = 0.757\n",
      "Порог = 0.44 | Точность = 0.554, Полнота = 0.278, F1 = 0.370, AUC-ROC = 0.757\n",
      "Порог = 0.46 | Точность = 0.583, Полнота = 0.259, F1 = 0.358, AUC-ROC = 0.757\n",
      "Порог = 0.48 | Точность = 0.577, Полнота = 0.239, F1 = 0.338, AUC-ROC = 0.757\n"
     ]
    }
   ],
   "source": [
    "model_LR = LogisticRegression(random_state=1811, solver='liblinear', max_iter=1000)\n",
    "model_LR.fit(features_train, target_train)\n",
    "predictions_valid_LR = model_LR.predict(features_valid)\n",
    "\n",
    "probabilities_valid_LR = model_LR.predict_proba(features_valid)\n",
    "probabilities_one_valid_LR = probabilities_valid_LR[:, 1]\n",
    "\n",
    "for threshold in np.arange(0, 0.5, 0.02): # рассмотрим изменение значений порога для LR \n",
    "    predictions_valid_LR = probabilities_one_valid_LR > threshold \n",
    "    precision = precision_score(target_valid, predictions_valid_LR) # точность\n",
    "    recall = recall_score(target_valid, predictions_valid_LR) # полнота\n",
    "    \n",
    "    print(\"Порог = {:.2f} | Точность = {:.3f}, Полнота = {:.3f}, F1 = {:.3f}, AUC-ROC = {:.3f}\".format(\n",
    "        threshold, \n",
    "        precision, \n",
    "        recall, \n",
    "        f1_score(target_valid, predictions_valid_LR),\n",
    "        roc_auc_score(target_valid, probabilities_one_valid_LR))\n",
    "         )"
   ]
  },
  {
   "cell_type": "markdown",
   "metadata": {},
   "source": [
    "**Вывод:**\n",
    "\n",
    "В ходе исследования были рассмотрены 3 модели, решающие задачу классификации:\n",
    "\n",
    "- Логистическая регрессия;\n",
    "\n",
    "- Дерево решений;\n",
    "\n",
    "- Случайный лес.\n",
    "\n",
    "Модели - `Случайный лес` и `Решающее дерево` показали наибольшие значения метрик *F1 = 0.59* и *AUC-ROC = 0.83 (0.82)* на валидационной выборке.\n",
    "\n",
    "Модель `Случайный лес` показала наибольшее значение метрик при параметрах: *n_estimators=25, max_depth=25*.\n",
    "\n",
    "Модель `Решающее дерево` показала наибольшее значение метрик при параметрах: *max_depth=7*.\n",
    "\n",
    "Модель `Логистическая регрессия` показывает наибольшие значения метрик *F1 = 0.484* и *AUC-ROC = 0.757* при пороговом значении 0.28."
   ]
  },
  {
   "cell_type": "markdown",
   "metadata": {},
   "source": [
    "## Обучим модели с учетом дисбаланса."
   ]
  },
  {
   "cell_type": "markdown",
   "metadata": {},
   "source": [
    "### Рассмотрим дисбаланс классов."
   ]
  },
  {
   "cell_type": "code",
   "execution_count": 27,
   "metadata": {},
   "outputs": [
    {
     "data": {
      "image/png": "[encoded data removed]",
      "text/plain": [
       "<Figure size 432x288 with 1 Axes>"
      ]
     },
     "metadata": {
      "needs_background": "light"
     },
     "output_type": "display_data"
    }
   ],
   "source": [
    "data['exited'].value_counts().sort_index().plot(kind='bar')\n",
    "plt.xlabel('Статус клиента')\n",
    "plt.xticks(rotation=0)\n",
    "plt.ylabel('Количество клиентов')\n",
    "plt.grid(linewidth=0.3)\n",
    "plt.title('Уход клиента (1 - \"Ушел\", 0 - \"Не ушел\")')\n",
    "plt.show()"
   ]
  },
  {
   "cell_type": "code",
   "execution_count": 28,
   "metadata": {},
   "outputs": [
    {
     "data": {
      "text/plain": [
       "0    7963\n",
       "1    2037\n",
       "Name: exited, dtype: int64"
      ]
     },
     "execution_count": 28,
     "metadata": {},
     "output_type": "execute_result"
    }
   ],
   "source": [
    "data['exited'].value_counts()"
   ]
  },
  {
   "cell_type": "code",
   "execution_count": 29,
   "metadata": {},
   "outputs": [
    {
     "data": {
      "text/plain": [
       "(7963, 10)"
      ]
     },
     "execution_count": 29,
     "metadata": {},
     "output_type": "execute_result"
    }
   ],
   "source": [
    "# Посмотрим количество объектов отрицательного класса\n",
    "features_zeros = features[target == 0]\n",
    "features_zeros.shape"
   ]
  },
  {
   "cell_type": "code",
   "execution_count": 30,
   "metadata": {},
   "outputs": [
    {
     "data": {
      "text/plain": [
       "(2037, 10)"
      ]
     },
     "execution_count": 30,
     "metadata": {},
     "output_type": "execute_result"
    }
   ],
   "source": [
    "# Посмотрим количество объектов положительного класса\n",
    "features_ones = features[target == 1]\n",
    "features_ones.shape"
   ]
  },
  {
   "cell_type": "markdown",
   "metadata": {},
   "source": [
    "**На графике распределения клиентов по целевому признаку видно, что выборка имеет ярко выраженный дисбаланс классов - соотношение количества клиентов, у которых не зафиксирован факт ухода и клиентов, у которых факт зафиксирован, примерно равно 4:1.**"
   ]
  },
  {
   "cell_type": "markdown",
   "metadata": {},
   "source": [
    "Попробуем решить проблему дисбаланса классов с помощью трех методов - взвешивания классов, уменьшения и увеличения выборки. С помощью *F1* выберем лучший метод."
   ]
  },
  {
   "cell_type": "markdown",
   "metadata": {},
   "source": [
    "### Первый метод - *Взвешивание классов*."
   ]
  },
  {
   "cell_type": "markdown",
   "metadata": {},
   "source": [
    "Алгоритмы машинного обучения считают все объекты обучающей выборки равнозначными по умолчанию. Если важно указать, что какие-то объекты важнее, их классу присваивается вес - *class_weight*, вес класса. Используем данный параметр у наших моделей (`class_weight='balanced'`)."
   ]
  },
  {
   "cell_type": "markdown",
   "metadata": {},
   "source": [
    "#### Модель - `Решающее дерево`."
   ]
  },
  {
   "cell_type": "code",
   "execution_count": 31,
   "metadata": {},
   "outputs": [
    {
     "name": "stdout",
     "output_type": "stream",
     "text": [
      "F1 наилучшей модели на валидационной выборке: 0.5902992776057792 Лучшая глубина дерева: 7\n"
     ]
    }
   ],
   "source": [
    "best_model_DT = None\n",
    "best_result_DT = 0\n",
    "best_depth_DT = 0\n",
    "for depth in range(1, 100):\n",
    "    model = DecisionTreeClassifier(random_state=1811, \n",
    "                                   max_depth=depth, \n",
    "                                   class_weight='balanced'\n",
    "                                  )\n",
    "    model.fit(features_train, target_train)\n",
    "    predictions_valid = model.predict(features_valid)\n",
    "    result = f1_score(target_valid, predictions_valid)\n",
    "    if result > best_result_DT:\n",
    "        best_model_DT = model # наилучшая модель\n",
    "        best_result_DT = result # наилучшее значение метрики f1 на валидационных данных\n",
    "        best_depth_DT = depth # лучшая глубина дерева\n",
    "\n",
    "print(\"F1 наилучшей модели на валидационной выборке:\", best_result_DT, \"Лучшая глубина дерева:\", best_depth_DT)"
   ]
  },
  {
   "cell_type": "code",
   "execution_count": 32,
   "metadata": {},
   "outputs": [
    {
     "name": "stdout",
     "output_type": "stream",
     "text": [
      "AUC-ROC лучшей модели DT на валидационной выборке: 0.8356251274792789\n"
     ]
    }
   ],
   "source": [
    "model_DT = DecisionTreeClassifier(random_state=1811, \n",
    "                                  max_depth=best_depth_DT, \n",
    "                                  class_weight='balanced'\n",
    "                                 ) \n",
    "model_DT.fit(features_train, target_train) \n",
    "\n",
    "probabilities_valid_DT = model_DT.predict_proba(features_valid)\n",
    "probabilities_one_valid_DT = probabilities_valid_DT[:, 1]\n",
    "\n",
    "auc_roc_DT = roc_auc_score(target_valid, probabilities_one_valid_DT)\n",
    "\n",
    "print(\"AUC-ROC лучшей модели DT на валидационной выборке:\", auc_roc_DT)"
   ]
  },
  {
   "cell_type": "markdown",
   "metadata": {},
   "source": [
    "#### Модель - `Случайный лес`."
   ]
  },
  {
   "cell_type": "code",
   "execution_count": 33,
   "metadata": {},
   "outputs": [
    {
     "name": "stdout",
     "output_type": "stream",
     "text": [
      "F1 наилучшей модели на валидационной выборке: 0.6304604486422669 Количество деревьев: 29 Глубина дерева 9\n",
      "CPU times: user 20.7 s, sys: 47.5 ms, total: 20.8 s\n",
      "Wall time: 20.8 s\n"
     ]
    }
   ],
   "source": [
    "%%time\n",
    "\n",
    "best_model_RF = None\n",
    "best_result_RF = 0\n",
    "best_est_RF = 0\n",
    "best_depth_RF = 0\n",
    "for est in range(1, 31, 2):\n",
    "    for depth in range(1, 31, 2):\n",
    "        model = RandomForestClassifier(random_state=1811, \n",
    "                                       n_estimators=est, \n",
    "                                       max_depth=depth, \n",
    "                                       class_weight='balanced'\n",
    "                                      )\n",
    "        model.fit(features_train, target_train)\n",
    "        predictions_valid = model.predict(features_valid)\n",
    "        result = f1_score(target_valid, predictions_valid) # качество модели на валидационной выборке\n",
    "        if result > best_result_RF:\n",
    "            best_model_RF = model # наилучшая модель\n",
    "            best_result_RF = result # наилучшее значение метрики f1 на валидационных данных\n",
    "            best_est_RF = est # количество деревьев\n",
    "            best_depth_RF = depth # лучшая глубина дерева\n",
    "\n",
    "print(\"F1 наилучшей модели на валидационной выборке:\", best_result_RF, \n",
    "      \"Количество деревьев:\", best_est_RF, \n",
    "      \"Глубина дерева\", best_depth_RF\n",
    "     )"
   ]
  },
  {
   "cell_type": "code",
   "execution_count": 34,
   "metadata": {},
   "outputs": [
    {
     "name": "stdout",
     "output_type": "stream",
     "text": [
      "AUC-ROC лучшей модели RF на валидационной выборке: 0.8550807832326891\n"
     ]
    }
   ],
   "source": [
    "model_RF = RandomForestClassifier(\n",
    "    random_state=1811, \n",
    "    n_estimators=best_est_RF, \n",
    "    max_depth=best_depth_RF, \n",
    "    class_weight='balanced'\n",
    ") \n",
    "model_RF.fit(features_train, target_train) \n",
    "\n",
    "probabilities_valid_RF = model_RF.predict_proba(features_valid)\n",
    "probabilities_one_valid_RF = probabilities_valid_RF[:, 1]\n",
    "\n",
    "auc_roc_RF = roc_auc_score(target_valid, probabilities_one_valid_RF)\n",
    "\n",
    "print(\"AUC-ROC лучшей модели RF на валидационной выборке:\", auc_roc_RF)"
   ]
  },
  {
   "cell_type": "markdown",
   "metadata": {},
   "source": [
    "#### Модель - `Логистическая регрессия`."
   ]
  },
  {
   "cell_type": "code",
   "execution_count": 35,
   "metadata": {
    "scrolled": true
   },
   "outputs": [
    {
     "name": "stdout",
     "output_type": "stream",
     "text": [
      "Порог = 0.00 | Точность = 0.203, Полнота = 1.000, F1 = 0.337, AUC-ROC = 0.763\n",
      "Порог = 0.02 | Точность = 0.203, Полнота = 1.000, F1 = 0.337, AUC-ROC = 0.763\n",
      "Порог = 0.04 | Точность = 0.203, Полнота = 1.000, F1 = 0.337, AUC-ROC = 0.763\n",
      "Порог = 0.06 | Точность = 0.204, Полнота = 1.000, F1 = 0.338, AUC-ROC = 0.763\n",
      "Порог = 0.08 | Точность = 0.205, Полнота = 1.000, F1 = 0.340, AUC-ROC = 0.763\n",
      "Порог = 0.10 | Точность = 0.208, Полнота = 0.998, F1 = 0.344, AUC-ROC = 0.763\n",
      "Порог = 0.12 | Точность = 0.211, Полнота = 0.995, F1 = 0.348, AUC-ROC = 0.763\n",
      "Порог = 0.14 | Точность = 0.217, Полнота = 0.993, F1 = 0.356, AUC-ROC = 0.763\n",
      "Порог = 0.16 | Точность = 0.221, Полнота = 0.988, F1 = 0.362, AUC-ROC = 0.763\n",
      "Порог = 0.18 | Точность = 0.226, Полнота = 0.970, F1 = 0.366, AUC-ROC = 0.763\n",
      "Порог = 0.20 | Точность = 0.234, Полнота = 0.968, F1 = 0.376, AUC-ROC = 0.763\n",
      "Порог = 0.22 | Точность = 0.239, Полнота = 0.946, F1 = 0.381, AUC-ROC = 0.763\n",
      "Порог = 0.24 | Точность = 0.249, Полнота = 0.938, F1 = 0.393, AUC-ROC = 0.763\n",
      "Порог = 0.26 | Точность = 0.256, Полнота = 0.929, F1 = 0.401, AUC-ROC = 0.763\n",
      "Порог = 0.28 | Точность = 0.263, Полнота = 0.909, F1 = 0.408, AUC-ROC = 0.763\n",
      "Порог = 0.30 | Точность = 0.269, Полнота = 0.892, F1 = 0.413, AUC-ROC = 0.763\n",
      "Порог = 0.32 | Точность = 0.280, Полнота = 0.887, F1 = 0.426, AUC-ROC = 0.763\n",
      "Порог = 0.34 | Точность = 0.288, Полнота = 0.869, F1 = 0.432, AUC-ROC = 0.763\n",
      "Порог = 0.36 | Точность = 0.296, Полнота = 0.847, F1 = 0.438, AUC-ROC = 0.763\n",
      "Порог = 0.38 | Точность = 0.309, Полнота = 0.830, F1 = 0.450, AUC-ROC = 0.763\n",
      "Порог = 0.40 | Точность = 0.323, Полнота = 0.823, F1 = 0.464, AUC-ROC = 0.763\n",
      "Порог = 0.42 | Точность = 0.335, Полнота = 0.808, F1 = 0.473, AUC-ROC = 0.763\n",
      "Порог = 0.44 | Точность = 0.343, Полнота = 0.768, F1 = 0.475, AUC-ROC = 0.763\n",
      "Порог = 0.46 | Точность = 0.353, Полнота = 0.734, F1 = 0.477, AUC-ROC = 0.763\n",
      "Порог = 0.48 | Точность = 0.362, Полнота = 0.702, F1 = 0.477, AUC-ROC = 0.763\n",
      "Порог = 0.50 | Точность = 0.377, Полнота = 0.680, F1 = 0.485, AUC-ROC = 0.763\n",
      "Порог = 0.52 | Точность = 0.386, Полнота = 0.645, F1 = 0.483, AUC-ROC = 0.763\n",
      "Порог = 0.54 | Точность = 0.402, Полнота = 0.618, F1 = 0.487, AUC-ROC = 0.763\n",
      "Порог = 0.56 | Точность = 0.417, Полнота = 0.584, F1 = 0.486, AUC-ROC = 0.763\n",
      "Порог = 0.58 | Точность = 0.439, Полнота = 0.562, F1 = 0.493, AUC-ROC = 0.763\n",
      "Порог = 0.60 | Точность = 0.455, Полнота = 0.537, F1 = 0.493, AUC-ROC = 0.763\n",
      "Порог = 0.62 | Точность = 0.463, Полнота = 0.500, F1 = 0.481, AUC-ROC = 0.763\n",
      "Порог = 0.64 | Точность = 0.481, Полнота = 0.470, F1 = 0.476, AUC-ROC = 0.763\n",
      "Порог = 0.66 | Точность = 0.497, Полнота = 0.436, F1 = 0.465, AUC-ROC = 0.763\n",
      "Порог = 0.68 | Точность = 0.500, Полнота = 0.409, F1 = 0.450, AUC-ROC = 0.763\n"
     ]
    }
   ],
   "source": [
    "model_LR = LogisticRegression(random_state=1811, solver='liblinear', max_iter=1000, class_weight='balanced')\n",
    "model_LR.fit(features_train, target_train)\n",
    "predictions_valid_LR = model_LR.predict(features_valid)\n",
    "\n",
    "probabilities_valid_LR = model_LR.predict_proba(features_valid)\n",
    "probabilities_one_valid_LR = probabilities_valid_LR[:, 1]\n",
    "\n",
    "for threshold in np.arange(0, 0.7, 0.02): # изменение значений порога \n",
    "    predictions_valid_LR = probabilities_one_valid_LR > threshold \n",
    "    precision = precision_score(target_valid, predictions_valid_LR) # точность\n",
    "    recall = recall_score(target_valid, predictions_valid_LR) # полнота\n",
    "    \n",
    "    print(\"Порог = {:.2f} | Точность = {:.3f}, Полнота = {:.3f}, F1 = {:.3f}, AUC-ROC = {:.3f}\".format(\n",
    "        threshold, \n",
    "        precision, \n",
    "        recall, \n",
    "        f1_score(target_valid, predictions_valid_LR),\n",
    "        roc_auc_score(target_valid, probabilities_one_valid_LR))\n",
    "         )"
   ]
  },
  {
   "cell_type": "markdown",
   "metadata": {},
   "source": [
    "**Вывод:**\n",
    "\n",
    "Модель `Решающее дерево` показала наибольшее значение метрик *F1 = 0.59* и *AUC-ROC = 0.84* при параметрах: *max_depth=7* - значения метрик и параметров практически не отличаются от полученных при несбалансированных данных.\n",
    "\n",
    "Модель `Случайный лес` показала наибольшее значение метрик *F1 = 0.63* и *AUC-ROC = 0.86* при параметрах: *n_estimators=29, max_depth=9* - в данном случае взвешивание класса повысило значение метрик.\n",
    "\n",
    "Модель `Логистическая регрессия` показывает наибольшие значения метрик *F1 = 0.493* и *AUC-ROC = 0.763* при пороговом значении 0.6 - метрики не сильно изменились."
   ]
  },
  {
   "cell_type": "markdown",
   "metadata": {},
   "source": [
    "### Второй метод - *Уменьшение выборки*."
   ]
  },
  {
   "cell_type": "markdown",
   "metadata": {},
   "source": [
    "Преобразование проходит в несколько этапов:\n",
    "\n",
    "- Разделить обучающую выборку на отрицательные и положительные объекты;\n",
    "\n",
    "- Случайным образом отбросить часть из отрицательных объектов;\n",
    "\n",
    "- С учётом полученных данных создать новую обучающую выборку;\n",
    "\n",
    "- Перемешать данные. Положительные не должны идти следом за отрицательными: алгоритмам будет сложнее обучаться."
   ]
  },
  {
   "cell_type": "code",
   "execution_count": 36,
   "metadata": {},
   "outputs": [],
   "source": [
    "def downsample(features, target, fraction):\n",
    "    features_zeros = features[target == 0]\n",
    "    features_ones = features[target == 1]\n",
    "    target_zeros = target[target == 0]\n",
    "    target_ones = target[target == 1]\n",
    "\n",
    "    features_downsampled = pd.concat(\n",
    "        [features_zeros.sample(frac=fraction, random_state=1811)] + [features_ones])\n",
    "    target_downsampled = pd.concat(\n",
    "        [target_zeros.sample(frac=fraction, random_state=1811)] + [target_ones])\n",
    "    \n",
    "    features_downsampled, target_downsampled = shuffle(\n",
    "        features_downsampled, target_downsampled, random_state=1811)\n",
    "    \n",
    "    return features_downsampled, target_downsampled # признаки и целевое значение уменьшенной обучающей выборки\n",
    "\n",
    "features_downsampled, target_downsampled = downsample(features_train, target_train, 0.25)"
   ]
  },
  {
   "cell_type": "markdown",
   "metadata": {},
   "source": [
    "#### Модель - `Решающее дерево`."
   ]
  },
  {
   "cell_type": "code",
   "execution_count": 37,
   "metadata": {},
   "outputs": [
    {
     "name": "stdout",
     "output_type": "stream",
     "text": [
      "F1 наилучшей модели на валидационной выборке: 0.5552407932011332 Лучшая глубина дерева: 7\n"
     ]
    }
   ],
   "source": [
    "best_model_DT = None\n",
    "best_result_DT = 0\n",
    "best_depth_DT = 0\n",
    "for depth in range(1, 100):\n",
    "    model = DecisionTreeClassifier(random_state=1811, \n",
    "                                   max_depth=depth\n",
    "                                  )\n",
    "    model.fit(features_downsampled, target_downsampled)\n",
    "    predictions_valid = model.predict(features_valid)\n",
    "    result = f1_score(target_valid, predictions_valid)\n",
    "    if result > best_result_DT:\n",
    "        best_model_DT = model # наилучшая модель\n",
    "        best_result_DT = result # наилучшее значение метрики f1 на валидационных данных\n",
    "        best_depth_DT = depth # лучшая глубина дерева\n",
    "\n",
    "print(\"F1 наилучшей модели на валидационной выборке:\", best_result_DT, \"Лучшая глубина дерева:\", best_depth_DT)"
   ]
  },
  {
   "cell_type": "code",
   "execution_count": 38,
   "metadata": {},
   "outputs": [
    {
     "name": "stdout",
     "output_type": "stream",
     "text": [
      "AUC-ROC лучшей модели DT на валидационной выборке: 0.7968266158191741\n"
     ]
    }
   ],
   "source": [
    "model_DT = DecisionTreeClassifier(random_state=1811, \n",
    "                                  max_depth=best_depth_DT\n",
    "                                 ) \n",
    "model_DT.fit(features_downsampled, target_downsampled) \n",
    "\n",
    "probabilities_valid_DT = model_DT.predict_proba(features_valid)\n",
    "probabilities_one_valid_DT = probabilities_valid_DT[:, 1]\n",
    "\n",
    "auc_roc_DT = roc_auc_score(target_valid, probabilities_one_valid_DT)\n",
    "\n",
    "print(\"AUC-ROC лучшей модели DT на валидационной выборке:\", auc_roc_DT)"
   ]
  },
  {
   "cell_type": "markdown",
   "metadata": {},
   "source": [
    "#### Модель - `Случайный лес`."
   ]
  },
  {
   "cell_type": "code",
   "execution_count": 39,
   "metadata": {},
   "outputs": [
    {
     "name": "stdout",
     "output_type": "stream",
     "text": [
      "F1 наилучшей модели на валидационной выборке: 0.599609375 Количество деревьев: 25 Глубина дерева 9\n",
      "CPU times: user 12.1 s, sys: 56 ms, total: 12.1 s\n",
      "Wall time: 12.1 s\n"
     ]
    }
   ],
   "source": [
    "%%time\n",
    "\n",
    "best_model_RF = None\n",
    "best_result_RF = 0\n",
    "best_est_RF = 0\n",
    "best_depth_RF = 0\n",
    "for est in range(1, 31, 2):\n",
    "    for depth in range(1, 31, 2):\n",
    "        model = RandomForestClassifier(random_state=1811, \n",
    "                                       n_estimators=est, \n",
    "                                       max_depth=depth\n",
    "                                      )\n",
    "        model.fit(features_downsampled, target_downsampled)\n",
    "        predictions_valid = model.predict(features_valid)\n",
    "        result = f1_score(target_valid, predictions_valid) # качество модели на валидационной выборке\n",
    "        if result > best_result_RF:\n",
    "            best_model_RF = model # наилучшая модель\n",
    "            best_result_RF = result # наилучшее значение метрики f1 на валидационных данных\n",
    "            best_est_RF = est # количество деревьев\n",
    "            best_depth_RF = depth # лучшая глубина дерева\n",
    "\n",
    "print(\"F1 наилучшей модели на валидационной выборке:\", best_result_RF, \n",
    "      \"Количество деревьев:\", best_est_RF, \n",
    "      \"Глубина дерева\", best_depth_RF\n",
    "     )"
   ]
  },
  {
   "cell_type": "code",
   "execution_count": 40,
   "metadata": {},
   "outputs": [
    {
     "name": "stdout",
     "output_type": "stream",
     "text": [
      "AUC-ROC лучшей модели RF на валидационной выборке: 0.8530635202205314\n"
     ]
    }
   ],
   "source": [
    "model_RF = RandomForestClassifier(\n",
    "    random_state=1811, \n",
    "    n_estimators=best_est_RF, \n",
    "    max_depth=best_depth_RF\n",
    ") \n",
    "model_RF.fit(features_downsampled, target_downsampled) \n",
    "\n",
    "probabilities_valid_RF = model_RF.predict_proba(features_valid)\n",
    "probabilities_one_valid_RF = probabilities_valid_RF[:, 1]\n",
    "\n",
    "auc_roc_RF = roc_auc_score(target_valid, probabilities_one_valid_RF)\n",
    "\n",
    "print(\"AUC-ROC лучшей модели RF на валидационной выборке:\", auc_roc_RF)"
   ]
  },
  {
   "cell_type": "markdown",
   "metadata": {},
   "source": [
    "#### Модель - `Логистическая регрессия`."
   ]
  },
  {
   "cell_type": "code",
   "execution_count": 41,
   "metadata": {
    "scrolled": true
   },
   "outputs": [
    {
     "name": "stdout",
     "output_type": "stream",
     "text": [
      "Порог = 0.00 | Точность = 0.203, Полнота = 1.000, F1 = 0.337, AUC-ROC = 0.761\n",
      "Порог = 0.02 | Точность = 0.203, Полнота = 1.000, F1 = 0.337, AUC-ROC = 0.761\n",
      "Порог = 0.04 | Точность = 0.203, Полнота = 1.000, F1 = 0.337, AUC-ROC = 0.761\n",
      "Порог = 0.06 | Точность = 0.203, Полнота = 1.000, F1 = 0.338, AUC-ROC = 0.761\n",
      "Порог = 0.08 | Точность = 0.204, Полнота = 1.000, F1 = 0.339, AUC-ROC = 0.761\n",
      "Порог = 0.10 | Точность = 0.206, Полнота = 0.998, F1 = 0.342, AUC-ROC = 0.761\n",
      "Порог = 0.12 | Точность = 0.210, Полнота = 0.998, F1 = 0.347, AUC-ROC = 0.761\n",
      "Порог = 0.14 | Точность = 0.214, Полнота = 0.995, F1 = 0.352, AUC-ROC = 0.761\n",
      "Порог = 0.16 | Точность = 0.219, Полнота = 0.988, F1 = 0.358, AUC-ROC = 0.761\n",
      "Порог = 0.18 | Точность = 0.224, Полнота = 0.975, F1 = 0.364, AUC-ROC = 0.761\n",
      "Порог = 0.20 | Точность = 0.230, Полнота = 0.968, F1 = 0.371, AUC-ROC = 0.761\n",
      "Порог = 0.22 | Точность = 0.235, Полнота = 0.948, F1 = 0.376, AUC-ROC = 0.761\n",
      "Порог = 0.24 | Точность = 0.244, Полнота = 0.938, F1 = 0.387, AUC-ROC = 0.761\n",
      "Порог = 0.26 | Точность = 0.251, Полнота = 0.921, F1 = 0.394, AUC-ROC = 0.761\n",
      "Порог = 0.28 | Точность = 0.260, Полнота = 0.914, F1 = 0.405, AUC-ROC = 0.761\n",
      "Порог = 0.30 | Точность = 0.266, Полнота = 0.894, F1 = 0.410, AUC-ROC = 0.761\n",
      "Порог = 0.32 | Точность = 0.275, Полнота = 0.892, F1 = 0.421, AUC-ROC = 0.761\n",
      "Порог = 0.34 | Точность = 0.285, Полнота = 0.874, F1 = 0.430, AUC-ROC = 0.761\n",
      "Порог = 0.36 | Точность = 0.292, Полнота = 0.860, F1 = 0.436, AUC-ROC = 0.761\n",
      "Порог = 0.38 | Точность = 0.300, Полнота = 0.840, F1 = 0.442, AUC-ROC = 0.761\n",
      "Порог = 0.40 | Точность = 0.311, Полнота = 0.823, F1 = 0.452, AUC-ROC = 0.761\n",
      "Порог = 0.42 | Точность = 0.323, Полнота = 0.800, F1 = 0.460, AUC-ROC = 0.761\n",
      "Порог = 0.44 | Точность = 0.337, Полнота = 0.783, F1 = 0.471, AUC-ROC = 0.761\n",
      "Порог = 0.46 | Точность = 0.347, Полнота = 0.749, F1 = 0.474, AUC-ROC = 0.761\n",
      "Порог = 0.48 | Точность = 0.359, Полнота = 0.714, F1 = 0.478, AUC-ROC = 0.761\n",
      "Порог = 0.50 | Точность = 0.370, Полнота = 0.677, F1 = 0.479, AUC-ROC = 0.761\n",
      "Порог = 0.52 | Точность = 0.383, Полнота = 0.658, F1 = 0.484, AUC-ROC = 0.761\n",
      "Порог = 0.54 | Точность = 0.392, Полнота = 0.633, F1 = 0.484, AUC-ROC = 0.761\n",
      "Порог = 0.56 | Точность = 0.417, Полнота = 0.603, F1 = 0.493, AUC-ROC = 0.761\n",
      "Порог = 0.58 | Точность = 0.439, Полнота = 0.581, F1 = 0.500, AUC-ROC = 0.761\n",
      "Порог = 0.60 | Точность = 0.453, Полнота = 0.542, F1 = 0.493, AUC-ROC = 0.761\n",
      "Порог = 0.62 | Точность = 0.467, Полнота = 0.505, F1 = 0.485, AUC-ROC = 0.761\n",
      "Порог = 0.64 | Точность = 0.490, Полнота = 0.480, F1 = 0.485, AUC-ROC = 0.761\n",
      "Порог = 0.66 | Точность = 0.485, Полнота = 0.426, F1 = 0.453, AUC-ROC = 0.761\n",
      "Порог = 0.68 | Точность = 0.495, Полнота = 0.394, F1 = 0.439, AUC-ROC = 0.761\n",
      "Порог = 0.70 | Точность = 0.503, Полнота = 0.365, F1 = 0.423, AUC-ROC = 0.761\n",
      "Порог = 0.72 | Точность = 0.518, Полнота = 0.328, F1 = 0.401, AUC-ROC = 0.761\n",
      "Порог = 0.74 | Точность = 0.523, Полнота = 0.278, F1 = 0.363, AUC-ROC = 0.761\n",
      "Порог = 0.76 | Точность = 0.551, Полнота = 0.251, F1 = 0.345, AUC-ROC = 0.761\n",
      "Порог = 0.78 | Точность = 0.571, Полнота = 0.229, F1 = 0.327, AUC-ROC = 0.761\n",
      "Порог = 0.80 | Точность = 0.600, Полнота = 0.200, F1 = 0.299, AUC-ROC = 0.761\n",
      "Порог = 0.82 | Точность = 0.647, Полнота = 0.185, F1 = 0.287, AUC-ROC = 0.761\n",
      "Порог = 0.84 | Точность = 0.643, Полнота = 0.133, F1 = 0.220, AUC-ROC = 0.761\n",
      "Порог = 0.86 | Точность = 0.646, Полнота = 0.103, F1 = 0.178, AUC-ROC = 0.761\n",
      "Порог = 0.88 | Точность = 0.630, Полнота = 0.071, F1 = 0.128, AUC-ROC = 0.761\n"
     ]
    }
   ],
   "source": [
    "model_LR = LogisticRegression(random_state=1811, solver='liblinear', max_iter=1000)\n",
    "model_LR.fit(features_downsampled, target_downsampled)\n",
    "predictions_valid_LR = model_LR.predict(features_valid)\n",
    "\n",
    "probabilities_valid_LR = model_LR.predict_proba(features_valid)\n",
    "probabilities_one_valid_LR = probabilities_valid_LR[:, 1]\n",
    "\n",
    "for threshold in np.arange(0, 0.9, 0.02): # изменение значений порога \n",
    "    predictions_valid_LR = probabilities_one_valid_LR > threshold \n",
    "    precision = precision_score(target_valid, predictions_valid_LR) # точность\n",
    "    recall = recall_score(target_valid, predictions_valid_LR) # полнота\n",
    "    \n",
    "    print(\"Порог = {:.2f} | Точность = {:.3f}, Полнота = {:.3f}, F1 = {:.3f}, AUC-ROC = {:.3f}\".format(\n",
    "        threshold, \n",
    "        precision, \n",
    "        recall, \n",
    "        f1_score(target_valid, predictions_valid_LR),\n",
    "        roc_auc_score(target_valid, probabilities_one_valid_LR))\n",
    "         )"
   ]
  },
  {
   "cell_type": "markdown",
   "metadata": {},
   "source": [
    "**Вывод:**\n",
    "\n",
    "Модель `Решающее дерево` показала наибольшее значение метрик *F1 = 0.56* и *AUC-ROC = 0.80* при параметрах: *max_depth=7* - значения метрик ниже, модель переучилась.\n",
    "\n",
    "Модель `Случайный лес` показала наибольшее значение метрик *F1 = 0.6* и *AUC-ROC = 0.85* при параметрах: *n_estimators=25, max_depth=9* - метрики почти не изменились.\n",
    "\n",
    "Модель `Логистическая регрессия` показывает наибольшие значения метрик *F1 = 0.5* и *AUC-ROC = 0.761* при пороговом значении 0.58 - метрики немного подросли, но не сильно."
   ]
  },
  {
   "cell_type": "markdown",
   "metadata": {},
   "source": [
    "### Третий метод - *Увеличение выборки*."
   ]
  },
  {
   "cell_type": "markdown",
   "metadata": {},
   "source": [
    "Преобразование проходит в несколько этапов:\n",
    "\n",
    "- Разделить обучающую выборку на отрицательные и положительные объекты;\n",
    "\n",
    "- Случайным образом отбросить часть из отрицательных объектов;\n",
    "\n",
    "- С учётом полученных данных создать новую обучающую выборку;\n",
    "\n",
    "- Перемешать данные."
   ]
  },
  {
   "cell_type": "code",
   "execution_count": 42,
   "metadata": {},
   "outputs": [],
   "source": [
    "def upsample(features, target, repeat):\n",
    "    features_zeros = features[target == 0]\n",
    "    features_ones = features[target == 1]\n",
    "    target_zeros = target[target == 0]\n",
    "    target_ones = target[target == 1]\n",
    "\n",
    "    features_upsampled = pd.concat([features_zeros] + [features_ones] * repeat)\n",
    "    target_upsampled = pd.concat([target_zeros] + [target_ones] * repeat)\n",
    "    \n",
    "    features_upsampled, target_upsampled = shuffle(\n",
    "        features_upsampled, target_upsampled, random_state=1811)\n",
    "    \n",
    "    return features_upsampled, target_upsampled # признаки и целевое значение увеличенной обучающей выборки\n",
    "\n",
    "features_upsampled, target_upsampled = upsample(features_train, target_train, 4)"
   ]
  },
  {
   "cell_type": "markdown",
   "metadata": {},
   "source": [
    "#### Модель - `Решающее дерево`."
   ]
  },
  {
   "cell_type": "code",
   "execution_count": 43,
   "metadata": {},
   "outputs": [
    {
     "name": "stdout",
     "output_type": "stream",
     "text": [
      "F1 наилучшей модели на валидационной выборке: 0.5902992776057792 Лучшая глубина дерева: 7\n"
     ]
    }
   ],
   "source": [
    "best_model_DT = None\n",
    "best_result_DT = 0\n",
    "best_depth_DT = 0\n",
    "for depth in range(1, 100):\n",
    "    model = DecisionTreeClassifier(random_state=1811, \n",
    "                                   max_depth=depth\n",
    "                                  )\n",
    "    model.fit(features_upsampled, target_upsampled)\n",
    "    predictions_valid = model.predict(features_valid)\n",
    "    result = f1_score(target_valid, predictions_valid)\n",
    "    if result > best_result_DT:\n",
    "        best_model_DT = model # наилучшая модель\n",
    "        best_result_DT = result # наилучшее значение метрики f1 на валидационных данных\n",
    "        best_depth_DT = depth # лучшая глубина дерева\n",
    "\n",
    "print(\"F1 наилучшей модели на валидационной выборке:\", best_result_DT, \"Лучшая глубина дерева:\", best_depth_DT)"
   ]
  },
  {
   "cell_type": "code",
   "execution_count": 44,
   "metadata": {},
   "outputs": [
    {
     "name": "stdout",
     "output_type": "stream",
     "text": [
      "AUC-ROC лучшей модели DT на валидационной выборке: 0.8357556971648609\n"
     ]
    }
   ],
   "source": [
    "model_DT = DecisionTreeClassifier(random_state=1811, \n",
    "                                  max_depth=best_depth_DT\n",
    "                                 ) \n",
    "model_DT.fit(features_upsampled, target_upsampled) \n",
    "\n",
    "probabilities_valid_DT = model_DT.predict_proba(features_valid)\n",
    "probabilities_one_valid_DT = probabilities_valid_DT[:, 1]\n",
    "\n",
    "auc_roc_DT = roc_auc_score(target_valid, probabilities_one_valid_DT)\n",
    "\n",
    "print(\"AUC-ROC лучшей модели DT на валидационной выборке:\", auc_roc_DT)"
   ]
  },
  {
   "cell_type": "markdown",
   "metadata": {},
   "source": [
    "#### Модель - `Случайный лес`."
   ]
  },
  {
   "cell_type": "code",
   "execution_count": 45,
   "metadata": {},
   "outputs": [
    {
     "name": "stdout",
     "output_type": "stream",
     "text": [
      "F1 наилучшей модели на валидационной выборке: 0.6317103620474408 Количество деревьев: 29 Глубина дерева 13\n",
      "CPU times: user 27.9 s, sys: 79.8 ms, total: 28 s\n",
      "Wall time: 28 s\n"
     ]
    }
   ],
   "source": [
    "%%time\n",
    "\n",
    "best_model_RF = None\n",
    "best_result_RF = 0\n",
    "best_est_RF = 0\n",
    "best_depth_RF = 0\n",
    "for est in range(1, 31, 2):\n",
    "    for depth in range(1, 31, 2):\n",
    "        model = RandomForestClassifier(random_state=1811, \n",
    "                                       n_estimators=est, \n",
    "                                       max_depth=depth\n",
    "                                      )\n",
    "        model.fit(features_upsampled, target_upsampled)\n",
    "        predictions_valid = model.predict(features_valid)\n",
    "        result = f1_score(target_valid, predictions_valid) # качество модели на валидационной выборке\n",
    "        if result > best_result_RF:\n",
    "            best_model_RF = model # наилучшая модель\n",
    "            best_result_RF = result # наилучшее значение метрики f1 на валидационных данных\n",
    "            best_est_RF = est # количество деревьев\n",
    "            best_depth_RF = depth # лучшая глубина дерева\n",
    "\n",
    "print(\"F1 наилучшей модели на валидационной выборке:\", best_result_RF, \n",
    "      \"Количество деревьев:\", best_est_RF, \n",
    "      \"Глубина дерева\", best_depth_RF\n",
    "     )"
   ]
  },
  {
   "cell_type": "code",
   "execution_count": 46,
   "metadata": {},
   "outputs": [
    {
     "name": "stdout",
     "output_type": "stream",
     "text": [
      "AUC-ROC лучшей модели RF на валидационной выборке: 0.8463820608068435\n"
     ]
    }
   ],
   "source": [
    "model_RF = RandomForestClassifier(\n",
    "    random_state=1811, \n",
    "    n_estimators=best_est_RF, \n",
    "    max_depth=best_depth_RF\n",
    ") \n",
    "model_RF.fit(features_upsampled, target_upsampled) \n",
    "\n",
    "probabilities_valid_RF = model_RF.predict_proba(features_valid)\n",
    "probabilities_one_valid_RF = probabilities_valid_RF[:, 1]\n",
    "\n",
    "auc_roc_RF = roc_auc_score(target_valid, probabilities_one_valid_RF)\n",
    "\n",
    "print(\"AUC-ROC лучшей модели RF на валидационной выборке:\", auc_roc_RF)"
   ]
  },
  {
   "cell_type": "markdown",
   "metadata": {},
   "source": [
    "#### Модель - `Логистическая регрессия`."
   ]
  },
  {
   "cell_type": "code",
   "execution_count": 47,
   "metadata": {
    "scrolled": true
   },
   "outputs": [
    {
     "name": "stdout",
     "output_type": "stream",
     "text": [
      "Порог = 0.00 | Точность = 0.203, Полнота = 1.000, F1 = 0.337, AUC-ROC = 0.764\n",
      "Порог = 0.02 | Точность = 0.203, Полнота = 1.000, F1 = 0.337, AUC-ROC = 0.764\n",
      "Порог = 0.04 | Точность = 0.203, Полнота = 1.000, F1 = 0.337, AUC-ROC = 0.764\n",
      "Порог = 0.06 | Точность = 0.203, Полнота = 1.000, F1 = 0.338, AUC-ROC = 0.764\n",
      "Порог = 0.08 | Точность = 0.204, Полнота = 1.000, F1 = 0.339, AUC-ROC = 0.764\n",
      "Порог = 0.10 | Точность = 0.207, Полнота = 0.998, F1 = 0.343, AUC-ROC = 0.764\n",
      "Порог = 0.12 | Точность = 0.211, Полнота = 0.998, F1 = 0.348, AUC-ROC = 0.764\n",
      "Порог = 0.14 | Точность = 0.216, Полнота = 0.993, F1 = 0.354, AUC-ROC = 0.764\n",
      "Порог = 0.16 | Точность = 0.221, Полнота = 0.990, F1 = 0.361, AUC-ROC = 0.764\n",
      "Порог = 0.18 | Точность = 0.226, Полнота = 0.980, F1 = 0.367, AUC-ROC = 0.764\n",
      "Порог = 0.20 | Точность = 0.232, Полнота = 0.968, F1 = 0.375, AUC-ROC = 0.764\n",
      "Порог = 0.22 | Точность = 0.237, Полнота = 0.951, F1 = 0.379, AUC-ROC = 0.764\n",
      "Порог = 0.24 | Точность = 0.247, Полнота = 0.938, F1 = 0.391, AUC-ROC = 0.764\n",
      "Порог = 0.26 | Точность = 0.255, Полнота = 0.931, F1 = 0.400, AUC-ROC = 0.764\n",
      "Порог = 0.28 | Точность = 0.260, Полнота = 0.914, F1 = 0.405, AUC-ROC = 0.764\n",
      "Порог = 0.30 | Точность = 0.267, Полнота = 0.897, F1 = 0.411, AUC-ROC = 0.764\n",
      "Порог = 0.32 | Точность = 0.277, Полнота = 0.889, F1 = 0.422, AUC-ROC = 0.764\n",
      "Порог = 0.34 | Точность = 0.287, Полнота = 0.877, F1 = 0.432, AUC-ROC = 0.764\n",
      "Порог = 0.36 | Точность = 0.293, Полнота = 0.852, F1 = 0.436, AUC-ROC = 0.764\n",
      "Порог = 0.38 | Точность = 0.304, Полнота = 0.833, F1 = 0.445, AUC-ROC = 0.764\n",
      "Порог = 0.40 | Точность = 0.319, Полнота = 0.825, F1 = 0.460, AUC-ROC = 0.764\n",
      "Порог = 0.42 | Точность = 0.330, Полнота = 0.808, F1 = 0.469, AUC-ROC = 0.764\n",
      "Порог = 0.44 | Точность = 0.344, Полнота = 0.796, F1 = 0.480, AUC-ROC = 0.764\n",
      "Порог = 0.46 | Точность = 0.351, Полнота = 0.746, F1 = 0.478, AUC-ROC = 0.764\n",
      "Порог = 0.48 | Точность = 0.359, Полнота = 0.712, F1 = 0.478, AUC-ROC = 0.764\n",
      "Порог = 0.50 | Точность = 0.370, Полнота = 0.687, F1 = 0.481, AUC-ROC = 0.764\n",
      "Порог = 0.52 | Точность = 0.388, Полнота = 0.658, F1 = 0.488, AUC-ROC = 0.764\n",
      "Порог = 0.54 | Точность = 0.395, Полнота = 0.628, F1 = 0.485, AUC-ROC = 0.764\n",
      "Порог = 0.56 | Точность = 0.412, Полнота = 0.599, F1 = 0.488, AUC-ROC = 0.764\n",
      "Порог = 0.58 | Точность = 0.429, Полнота = 0.569, F1 = 0.489, AUC-ROC = 0.764\n",
      "Порог = 0.60 | Точность = 0.449, Полнота = 0.547, F1 = 0.493, AUC-ROC = 0.764\n",
      "Порог = 0.62 | Точность = 0.465, Полнота = 0.520, F1 = 0.491, AUC-ROC = 0.764\n",
      "Порог = 0.64 | Точность = 0.475, Полнота = 0.483, F1 = 0.479, AUC-ROC = 0.764\n",
      "Порог = 0.66 | Точность = 0.495, Полнота = 0.443, F1 = 0.468, AUC-ROC = 0.764\n",
      "Порог = 0.68 | Точность = 0.501, Полнота = 0.419, F1 = 0.456, AUC-ROC = 0.764\n",
      "Порог = 0.70 | Точность = 0.503, Полнота = 0.392, F1 = 0.440, AUC-ROC = 0.764\n",
      "Порог = 0.72 | Точность = 0.515, Полнота = 0.345, F1 = 0.413, AUC-ROC = 0.764\n",
      "Порог = 0.74 | Точность = 0.525, Полнота = 0.305, F1 = 0.386, AUC-ROC = 0.764\n",
      "Порог = 0.76 | Точность = 0.556, Полнота = 0.271, F1 = 0.364, AUC-ROC = 0.764\n",
      "Порог = 0.78 | Точность = 0.570, Полнота = 0.251, F1 = 0.349, AUC-ROC = 0.764\n",
      "Порог = 0.80 | Точность = 0.603, Полнота = 0.209, F1 = 0.311, AUC-ROC = 0.764\n",
      "Порог = 0.82 | Точность = 0.611, Полнота = 0.190, F1 = 0.289, AUC-ROC = 0.764\n",
      "Порог = 0.84 | Точность = 0.624, Полнота = 0.155, F1 = 0.249, AUC-ROC = 0.764\n",
      "Порог = 0.86 | Точность = 0.635, Полнота = 0.116, F1 = 0.196, AUC-ROC = 0.764\n",
      "Порог = 0.88 | Точность = 0.640, Полнота = 0.079, F1 = 0.140, AUC-ROC = 0.764\n"
     ]
    }
   ],
   "source": [
    "model_LR = LogisticRegression(random_state=1811, solver='liblinear', max_iter=1000)\n",
    "model_LR.fit(features_upsampled, target_upsampled)\n",
    "predictions_valid_LR = model_LR.predict(features_valid)\n",
    "\n",
    "probabilities_valid_LR = model_LR.predict_proba(features_valid)\n",
    "probabilities_one_valid_LR = probabilities_valid_LR[:, 1]\n",
    "\n",
    "for threshold in np.arange(0, 0.9, 0.02): # изменение значений порога \n",
    "    predictions_valid_LR = probabilities_one_valid_LR > threshold \n",
    "    precision = precision_score(target_valid, predictions_valid_LR) # точность\n",
    "    recall = recall_score(target_valid, predictions_valid_LR) # полнота\n",
    "    \n",
    "    print(\"Порог = {:.2f} | Точность = {:.3f}, Полнота = {:.3f}, F1 = {:.3f}, AUC-ROC = {:.3f}\".format(\n",
    "        threshold, \n",
    "        precision, \n",
    "        recall, \n",
    "        f1_score(target_valid, predictions_valid_LR),\n",
    "        roc_auc_score(target_valid, probabilities_one_valid_LR))\n",
    "         )"
   ]
  },
  {
   "cell_type": "markdown",
   "metadata": {},
   "source": [
    "**Вывод:**\n",
    "\n",
    "Модель `Решающее дерево` показала наибольшее значение метрик *F1 = 0.59* и *AUC-ROC = 0.84* при параметрах: *max_depth=7* - значение метрики практически не изменились.\n",
    "\n",
    "Модель `Случайный лес` показала наибольшее значение метрик *F1 = 0.63* и *AUC-ROC = 0.85* при параметрах: *n_estimators=29, max_depth=13* - метрики на уровне взвешивания классов и выше несбалансированных данных.\n",
    "\n",
    "Модель `Логистическая регрессия` показывает наибольшие значения метрик *F1 = 0.493* и *AUC-ROC = 0.764* при пороговом значении 0.6 - метрики не сильно изменились."
   ]
  },
  {
   "cell_type": "markdown",
   "metadata": {},
   "source": [
    "**Вывод по разделу 5:**\n",
    "Все используемые ранее модели были переобучены с учетом дисбаланса классов. Балансировка классов была проведена 3-мя способами:\n",
    "\n",
    "- Взвешивание классов;\n",
    "\n",
    "- Увеличение выборки (upsampling);\n",
    "\n",
    "- Уменьшение выборки (downsampling).\n",
    "\n",
    "На основе метрики *F1* можно сделать следующие выводы:\n",
    "\n",
    "1. уменьшение выборки (downsampling) хоть и дает некие результаты, но модели, обученные на данных с этим типом балансировки, почти ничем не отличаются от модели с несбалансированными данными;\n",
    "\n",
    "2. для *Решающего дерева* балансировка практически не дала результатов - метрика *F1* не смогла подняться выше `0.59`;\n",
    "\n",
    "4. для *Случайного леса* балансировка дала несколько более значимый прирост *F1*, чем у *Дерева решений*, но все равно сравнительно небольшой - *F1* увеличилась на `0.03-0.04`;\n",
    "\n",
    "5. на *AUC-ROC* балансировка практически не влияет.\n",
    "\n",
    "В результате лучший результат (по *F1*) показал `Cлучайный лес` с взвешиванием классов или увеличением выборки - `F1 = 0.63, AUC-ROC = 0.86`. Остановимся на взвешивании классов, так как увеличение выборки также склонно к переобучению."
   ]
  },
  {
   "cell_type": "markdown",
   "metadata": {},
   "source": [
    "## Тестирование модели"
   ]
  },
  {
   "cell_type": "code",
   "execution_count": 49,
   "metadata": {},
   "outputs": [
    {
     "name": "stdout",
     "output_type": "stream",
     "text": [
      "F1_Test = 0.604, AUC-ROC_Test = 0.849\n",
      "F1_Valid = 0.630, AUC-ROC_Valid = 0.855\n"
     ]
    }
   ],
   "source": [
    "top_model = RandomForestClassifier(random_state=1811, \n",
    "                                       n_estimators=29, \n",
    "                                       max_depth=9,\n",
    "                                       class_weight='balanced'\n",
    "                                      )\n",
    "\n",
    "top_model.fit(features_train, target_train)\n",
    "predictions_test = top_model.predict(features_test)\n",
    "\n",
    "probabilities_test = top_model.predict_proba(features_test)\n",
    "probabilities_one_test = probabilities_test[:, 1]\n",
    "\n",
    "print(\"F1_Test = {:.3f}, AUC-ROC_Test = {:.3f}\".format(\n",
    "        f1_score(target_test, predictions_test),\n",
    "        roc_auc_score(target_test, probabilities_one_test))\n",
    "         )\n",
    "\n",
    "predictions_valid = top_model.predict(features_valid)\n",
    "\n",
    "probabilities_valid = top_model.predict_proba(features_valid)\n",
    "probabilities_one_valid = probabilities_valid[:, 1]\n",
    "\n",
    "print(\"F1_Valid = {:.3f}, AUC-ROC_Valid = {:.3f}\".format(\n",
    "        f1_score(target_valid, predictions_valid),\n",
    "        roc_auc_score(target_valid, probabilities_one_valid))\n",
    "         )"
   ]
  },
  {
   "cell_type": "markdown",
   "metadata": {},
   "source": [
    "**Тест на модели `Случайный лес` с параметрами *n_estimators=29, max_depth=9, class_weight='balanced'* показал значения метрик F1 = 0.604 и AUC-ROC = 0.849. Значения метрики *F1* упали больше, чем значения *AUC_ROC*, по сравнению с валидационными.**\n",
    "\n",
    "Для решения нашей задачи данные метрики подойдут, но для практической задачи лучше эти метрики еще подтянуть."
   ]
  },
  {
   "cell_type": "markdown",
   "metadata": {},
   "source": [
    "## Общий вывод"
   ]
  },
  {
   "cell_type": "markdown",
   "metadata": {},
   "source": [
    "На анализ была представлена таблица `Churn.csv`. \n",
    "\n",
    "Провели предварительную обработку исходных данных таблицы: заполнили пропуски значений в столбце `tenure`, удалили лишние столбцы, которые не использовались бы при обучении модели.\n",
    "\n",
    "Далее разделили исходный датасет на три выборки: обучающую, валидационную и тестовую. А также были разделены наборы данных на признаки и целевые признаки. Преобразовали категориальные признаки в численные с помощью техники прямого кодирования или отображения - *One-Hot Encoding* или *OHE* и смасштабировали численные признаки.\n",
    "\n",
    "Было проведено исследование качества трех разных моделей - `Решающее дерево (DecisionTreeClassifier)`, `Случайный лес (RandomForestClassifier)`, `Логистическая регрессия (LogisticRegression)`.\n",
    "\n",
    "Проверили качество моделей без учета дисбаланса данных метриками *F1* и *AUC-ROC*.\n",
    "\n",
    "1. `Решающее дерево (DecisionTreeClassifier)`. Был найден максимально эффективный гиперпараметр *max_depth = 7 (глубина дерева решений)*, при которой модель показывала наибольшие метрики *F1 = 0.59* и *AUC-ROC = 0.82* на валидационных данных.\n",
    "\n",
    "2. `Случайный лес (RandomForestClassifier)`. Были найдены максимально эффективные гиперпараметры *n_estimators = 25 (количество деревьев)* и *max_depth = 25*, при которой модель показывала наибольшие метрики *F1 = 0.59* и *AUC-ROC = 0.83* на валидационных данных.\n",
    "\n",
    "3. `Логистическая регрессия (LogisticRegression)` показывает наибольшие значения метрик *F1 = 0.484* и *AUC-ROC = 0.757* при пороговом значении 0.28.\n",
    "\n",
    "Все используемые ранее модели были переобучены с учетом дисбаланса классов. Балансировка классов была проведена 3-мя способами:\n",
    "\n",
    "- Взвешивание классов;\n",
    "\n",
    "- Увеличение выборки (upsampling);\n",
    "\n",
    "- Уменьшение выборки (downsampling).\n",
    "\n",
    "При взвешивании классов наибольшее значение метрики *F1* получила модель `Случайного леса`: *F1 = 0.63* и *AUC-ROC = 0.86* при параметрах: *n_estimators=29, max_depth=9*.\n",
    "\n",
    "При уменьшении выборки наибольшее значение метрики *F1* получила модель `Случайного леса`: *F1= 0.6 и AUC-ROC = 0.85* при параметрах: *n_estimators=25, max_depth=9*.\n",
    "\n",
    "При увеличении выборки наибольшее значение метрики *F1* получила модель `Случайный лес`: *F1 = 0.63* и *AUC-ROC = 0.85* при параметрах: *n_estimators=29, max_depth=13*.\n",
    "\n",
    "Таким образом, для прогноза выбираем модель `Случайный лес` при балансировке взвешиванием классов.\n",
    "\n",
    "Тест на модели `Случайный лес` с параметрами *n_estimators=29, max_depth=9, class_weight='balanced'* показал значения метрик *F1 = 0.604 и AUC-ROC = 0.849*."
   ]
  },
  {
   "cell_type": "code",
   "execution_count": null,
   "metadata": {},
   "outputs": [],
   "source": []
  }
 ],
 "metadata": {
  "ExecuteTimeLog": [
   {
    "duration": 1589,
    "start_time": "2023-05-30T05:42:49.798Z"
   },
   {
    "duration": 119,
    "start_time": "2023-05-30T05:44:10.489Z"
   },
   {
    "duration": 86,
    "start_time": "2023-05-30T05:44:44.003Z"
   },
   {
    "duration": 17,
    "start_time": "2023-05-30T05:45:15.538Z"
   },
   {
    "duration": 18,
    "start_time": "2023-05-30T05:45:22.705Z"
   },
   {
    "duration": 1542,
    "start_time": "2023-05-30T05:55:39.689Z"
   },
   {
    "duration": 1713,
    "start_time": "2023-05-30T06:02:13.242Z"
   },
   {
    "duration": 1390,
    "start_time": "2023-05-30T06:04:01.844Z"
   },
   {
    "duration": 98,
    "start_time": "2023-05-30T06:23:37.349Z"
   },
   {
    "duration": 3,
    "start_time": "2023-05-30T06:23:52.659Z"
   },
   {
    "duration": 8,
    "start_time": "2023-05-30T06:24:11.334Z"
   },
   {
    "duration": 4,
    "start_time": "2023-05-30T06:39:16.133Z"
   },
   {
    "duration": 12,
    "start_time": "2023-05-30T06:39:29.991Z"
   },
   {
    "duration": 12,
    "start_time": "2023-05-30T06:41:22.903Z"
   },
   {
    "duration": 16,
    "start_time": "2023-05-30T06:41:30.216Z"
   },
   {
    "duration": 22,
    "start_time": "2023-05-30T06:41:47.730Z"
   },
   {
    "duration": 12,
    "start_time": "2023-05-30T06:41:50.263Z"
   },
   {
    "duration": 1301,
    "start_time": "2023-05-30T06:42:17.473Z"
   },
   {
    "duration": 86,
    "start_time": "2023-05-30T06:42:18.776Z"
   },
   {
    "duration": 20,
    "start_time": "2023-05-30T06:42:18.864Z"
   },
   {
    "duration": 29,
    "start_time": "2023-05-30T06:42:18.886Z"
   },
   {
    "duration": 1665,
    "start_time": "2023-05-30T06:42:18.917Z"
   },
   {
    "duration": 4,
    "start_time": "2023-05-30T06:42:20.584Z"
   },
   {
    "duration": 22,
    "start_time": "2023-05-30T06:42:20.590Z"
   },
   {
    "duration": 42,
    "start_time": "2023-05-30T06:42:20.613Z"
   },
   {
    "duration": 29,
    "start_time": "2023-05-30T06:42:20.657Z"
   },
   {
    "duration": 9,
    "start_time": "2023-05-30T06:43:42.135Z"
   },
   {
    "duration": 6,
    "start_time": "2023-05-30T06:45:40.440Z"
   },
   {
    "duration": 82,
    "start_time": "2023-05-30T06:47:53.424Z"
   },
   {
    "duration": 117,
    "start_time": "2023-05-30T06:48:52.936Z"
   },
   {
    "duration": 31,
    "start_time": "2023-05-30T06:52:31.896Z"
   },
   {
    "duration": 27,
    "start_time": "2023-05-30T06:54:17.120Z"
   },
   {
    "duration": 8,
    "start_time": "2023-05-30T06:59:37.419Z"
   },
   {
    "duration": 15,
    "start_time": "2023-05-30T07:00:03.521Z"
   },
   {
    "duration": 11,
    "start_time": "2023-05-30T07:00:10.450Z"
   },
   {
    "duration": 22,
    "start_time": "2023-05-30T07:00:47.881Z"
   },
   {
    "duration": 26,
    "start_time": "2023-05-30T07:04:17.978Z"
   },
   {
    "duration": 25,
    "start_time": "2023-05-30T07:04:32.299Z"
   },
   {
    "duration": 6,
    "start_time": "2023-05-30T07:08:37.786Z"
   },
   {
    "duration": 12,
    "start_time": "2023-05-30T07:08:54.506Z"
   },
   {
    "duration": 20,
    "start_time": "2023-05-30T07:09:56.115Z"
   },
   {
    "duration": 22,
    "start_time": "2023-05-30T07:12:03.284Z"
   },
   {
    "duration": 10,
    "start_time": "2023-05-30T07:12:27.948Z"
   },
   {
    "duration": 13,
    "start_time": "2023-05-30T07:14:26.603Z"
   },
   {
    "duration": 15,
    "start_time": "2023-05-30T07:19:01.860Z"
   },
   {
    "duration": 13,
    "start_time": "2023-05-30T07:19:07.956Z"
   },
   {
    "duration": 21,
    "start_time": "2023-05-30T07:19:51.083Z"
   },
   {
    "duration": 4,
    "start_time": "2023-05-30T07:21:23.500Z"
   },
   {
    "duration": 6,
    "start_time": "2023-05-30T07:21:48.700Z"
   },
   {
    "duration": 7,
    "start_time": "2023-05-30T07:22:10.308Z"
   },
   {
    "duration": 7,
    "start_time": "2023-05-30T07:23:18.942Z"
   },
   {
    "duration": 1840,
    "start_time": "2023-05-30T07:23:32.094Z"
   },
   {
    "duration": 137,
    "start_time": "2023-05-30T07:23:33.937Z"
   },
   {
    "duration": 20,
    "start_time": "2023-05-30T07:23:34.076Z"
   },
   {
    "duration": 20,
    "start_time": "2023-05-30T07:23:34.098Z"
   },
   {
    "duration": 1682,
    "start_time": "2023-05-30T07:23:34.119Z"
   },
   {
    "duration": 4,
    "start_time": "2023-05-30T07:23:35.804Z"
   },
   {
    "duration": 16,
    "start_time": "2023-05-30T07:23:35.811Z"
   },
   {
    "duration": 49,
    "start_time": "2023-05-30T07:23:35.829Z"
   },
   {
    "duration": 30,
    "start_time": "2023-05-30T07:23:35.879Z"
   },
   {
    "duration": 24,
    "start_time": "2023-05-30T07:23:35.911Z"
   },
   {
    "duration": 86,
    "start_time": "2023-05-30T07:23:35.937Z"
   },
   {
    "duration": 16,
    "start_time": "2023-05-30T07:23:36.025Z"
   },
   {
    "duration": 62,
    "start_time": "2023-05-30T07:23:36.043Z"
   },
   {
    "duration": 33,
    "start_time": "2023-05-30T07:23:36.106Z"
   },
   {
    "duration": 34,
    "start_time": "2023-05-30T07:23:36.141Z"
   },
   {
    "duration": 9,
    "start_time": "2023-05-30T07:24:10.197Z"
   },
   {
    "duration": 41,
    "start_time": "2023-05-30T07:32:17.165Z"
   },
   {
    "duration": 1471,
    "start_time": "2023-05-30T07:33:42.167Z"
   },
   {
    "duration": 78,
    "start_time": "2023-05-30T07:33:43.640Z"
   },
   {
    "duration": 18,
    "start_time": "2023-05-30T07:33:43.720Z"
   },
   {
    "duration": 41,
    "start_time": "2023-05-30T07:33:43.739Z"
   },
   {
    "duration": 1563,
    "start_time": "2023-05-30T07:33:43.782Z"
   },
   {
    "duration": 38,
    "start_time": "2023-05-30T07:33:45.347Z"
   },
   {
    "duration": 4,
    "start_time": "2023-05-30T07:33:45.387Z"
   },
   {
    "duration": 64,
    "start_time": "2023-05-30T07:33:45.392Z"
   },
   {
    "duration": 90,
    "start_time": "2023-05-30T07:33:45.457Z"
   },
   {
    "duration": 18,
    "start_time": "2023-05-30T07:33:45.549Z"
   },
   {
    "duration": 20,
    "start_time": "2023-05-30T07:33:45.568Z"
   },
   {
    "duration": 70,
    "start_time": "2023-05-30T07:33:45.590Z"
   },
   {
    "duration": 15,
    "start_time": "2023-05-30T07:33:45.663Z"
   },
   {
    "duration": 7,
    "start_time": "2023-05-30T07:33:45.681Z"
   },
   {
    "duration": 15,
    "start_time": "2023-05-30T07:33:45.689Z"
   },
   {
    "duration": 15,
    "start_time": "2023-05-30T07:39:11.302Z"
   },
   {
    "duration": 11,
    "start_time": "2023-05-30T07:45:40.753Z"
   },
   {
    "duration": 1820,
    "start_time": "2023-05-30T18:00:53.483Z"
   },
   {
    "duration": 129,
    "start_time": "2023-05-30T18:00:55.305Z"
   },
   {
    "duration": 22,
    "start_time": "2023-05-30T18:00:55.436Z"
   },
   {
    "duration": 14,
    "start_time": "2023-05-30T18:00:55.460Z"
   },
   {
    "duration": 1492,
    "start_time": "2023-05-30T18:00:55.476Z"
   },
   {
    "duration": 58,
    "start_time": "2023-05-30T18:00:56.970Z"
   },
   {
    "duration": 4,
    "start_time": "2023-05-30T18:00:57.030Z"
   },
   {
    "duration": 12,
    "start_time": "2023-05-30T18:00:57.036Z"
   },
   {
    "duration": 25,
    "start_time": "2023-05-30T18:00:57.050Z"
   },
   {
    "duration": 24,
    "start_time": "2023-05-30T18:00:57.078Z"
   },
   {
    "duration": 24,
    "start_time": "2023-05-30T18:00:57.104Z"
   },
   {
    "duration": 64,
    "start_time": "2023-05-30T18:00:57.130Z"
   },
   {
    "duration": 17,
    "start_time": "2023-05-30T18:00:57.196Z"
   },
   {
    "duration": 6,
    "start_time": "2023-05-30T18:00:57.217Z"
   },
   {
    "duration": 23,
    "start_time": "2023-05-30T18:00:57.225Z"
   },
   {
    "duration": 16,
    "start_time": "2023-05-30T18:00:57.250Z"
   },
   {
    "duration": 13,
    "start_time": "2023-05-30T18:00:57.269Z"
   },
   {
    "duration": 148,
    "start_time": "2023-05-30T18:00:57.297Z"
   },
   {
    "duration": 73,
    "start_time": "2023-05-30T19:11:44.089Z"
   },
   {
    "duration": 12,
    "start_time": "2023-05-30T19:11:48.183Z"
   },
   {
    "duration": 13,
    "start_time": "2023-05-30T19:11:50.686Z"
   },
   {
    "duration": 153,
    "start_time": "2023-05-30T19:12:21.592Z"
   },
   {
    "duration": 113,
    "start_time": "2023-05-30T19:12:43.311Z"
   },
   {
    "duration": 1383,
    "start_time": "2023-05-30T19:13:00.775Z"
   },
   {
    "duration": 75,
    "start_time": "2023-05-30T19:13:02.160Z"
   },
   {
    "duration": 16,
    "start_time": "2023-05-30T19:13:02.236Z"
   },
   {
    "duration": 14,
    "start_time": "2023-05-30T19:13:02.254Z"
   },
   {
    "duration": 1527,
    "start_time": "2023-05-30T19:13:02.270Z"
   },
   {
    "duration": 39,
    "start_time": "2023-05-30T19:13:03.798Z"
   },
   {
    "duration": 3,
    "start_time": "2023-05-30T19:13:03.838Z"
   },
   {
    "duration": 10,
    "start_time": "2023-05-30T19:13:03.843Z"
   },
   {
    "duration": 17,
    "start_time": "2023-05-30T19:13:03.855Z"
   },
   {
    "duration": 25,
    "start_time": "2023-05-30T19:13:03.874Z"
   },
   {
    "duration": 12,
    "start_time": "2023-05-30T19:13:03.900Z"
   },
   {
    "duration": 56,
    "start_time": "2023-05-30T19:13:03.914Z"
   },
   {
    "duration": 29,
    "start_time": "2023-05-30T19:13:03.972Z"
   },
   {
    "duration": 6,
    "start_time": "2023-05-30T19:13:04.003Z"
   },
   {
    "duration": 17,
    "start_time": "2023-05-30T19:13:04.011Z"
   },
   {
    "duration": 14,
    "start_time": "2023-05-30T19:13:04.030Z"
   },
   {
    "duration": 8,
    "start_time": "2023-05-30T19:13:04.046Z"
   },
   {
    "duration": 678,
    "start_time": "2023-05-30T19:18:26.045Z"
   },
   {
    "duration": 1410,
    "start_time": "2023-05-30T19:24:59.827Z"
   },
   {
    "duration": 96,
    "start_time": "2023-05-30T19:25:01.239Z"
   },
   {
    "duration": 1038,
    "start_time": "2023-05-30T19:25:01.336Z"
   },
   {
    "duration": 1128,
    "start_time": "2023-05-30T19:26:03.592Z"
   },
   {
    "duration": 935,
    "start_time": "2023-05-30T19:27:29.322Z"
   },
   {
    "duration": 1419,
    "start_time": "2023-05-30T19:31:55.050Z"
   },
   {
    "duration": 86,
    "start_time": "2023-05-30T19:31:56.471Z"
   },
   {
    "duration": 1020,
    "start_time": "2023-05-30T19:31:56.558Z"
   },
   {
    "duration": 12,
    "start_time": "2023-05-30T19:31:57.580Z"
   },
   {
    "duration": 45,
    "start_time": "2023-05-30T19:31:57.595Z"
   },
   {
    "duration": 1635,
    "start_time": "2023-05-30T19:31:57.642Z"
   },
   {
    "duration": 65,
    "start_time": "2023-05-30T19:31:59.278Z"
   },
   {
    "duration": 4,
    "start_time": "2023-05-30T19:31:59.345Z"
   },
   {
    "duration": 5,
    "start_time": "2023-05-30T19:31:59.351Z"
   },
   {
    "duration": 15,
    "start_time": "2023-05-30T19:31:59.358Z"
   },
   {
    "duration": 31,
    "start_time": "2023-05-30T19:31:59.374Z"
   },
   {
    "duration": 35,
    "start_time": "2023-05-30T19:31:59.410Z"
   },
   {
    "duration": 65,
    "start_time": "2023-05-30T19:31:59.447Z"
   },
   {
    "duration": 16,
    "start_time": "2023-05-30T19:31:59.515Z"
   },
   {
    "duration": 5,
    "start_time": "2023-05-30T19:31:59.533Z"
   },
   {
    "duration": 17,
    "start_time": "2023-05-30T19:31:59.540Z"
   },
   {
    "duration": 15,
    "start_time": "2023-05-30T19:31:59.559Z"
   },
   {
    "duration": 7,
    "start_time": "2023-05-30T19:31:59.576Z"
   },
   {
    "duration": 138,
    "start_time": "2023-05-30T19:32:03.140Z"
   },
   {
    "duration": 1498,
    "start_time": "2023-05-31T05:44:50.195Z"
   },
   {
    "duration": 143,
    "start_time": "2023-05-31T05:44:51.695Z"
   },
   {
    "duration": 15,
    "start_time": "2023-05-31T05:44:51.839Z"
   },
   {
    "duration": 52,
    "start_time": "2023-05-31T05:44:51.856Z"
   },
   {
    "duration": 1421,
    "start_time": "2023-05-31T05:44:51.910Z"
   },
   {
    "duration": 34,
    "start_time": "2023-05-31T05:44:53.332Z"
   },
   {
    "duration": 13,
    "start_time": "2023-05-31T05:44:53.367Z"
   },
   {
    "duration": 38,
    "start_time": "2023-05-31T05:44:53.382Z"
   },
   {
    "duration": 43,
    "start_time": "2023-05-31T05:44:53.421Z"
   },
   {
    "duration": 32,
    "start_time": "2023-05-31T05:44:53.465Z"
   },
   {
    "duration": 42,
    "start_time": "2023-05-31T05:44:53.499Z"
   },
   {
    "duration": 90,
    "start_time": "2023-05-31T05:44:53.543Z"
   },
   {
    "duration": 13,
    "start_time": "2023-05-31T05:44:53.635Z"
   },
   {
    "duration": 16,
    "start_time": "2023-05-31T05:44:53.651Z"
   },
   {
    "duration": 38,
    "start_time": "2023-05-31T05:44:53.669Z"
   },
   {
    "duration": 46,
    "start_time": "2023-05-31T05:44:53.708Z"
   },
   {
    "duration": 71,
    "start_time": "2023-05-31T05:44:53.756Z"
   },
   {
    "duration": 6,
    "start_time": "2023-05-31T05:55:29.090Z"
   },
   {
    "duration": 130,
    "start_time": "2023-05-31T05:55:43.111Z"
   },
   {
    "duration": 18,
    "start_time": "2023-05-31T05:56:39.962Z"
   },
   {
    "duration": 12,
    "start_time": "2023-05-31T05:56:46.386Z"
   },
   {
    "duration": 1310,
    "start_time": "2023-05-31T05:57:06.940Z"
   },
   {
    "duration": 94,
    "start_time": "2023-05-31T05:57:08.252Z"
   },
   {
    "duration": 17,
    "start_time": "2023-05-31T05:57:08.347Z"
   },
   {
    "duration": 111,
    "start_time": "2023-05-31T05:57:08.366Z"
   },
   {
    "duration": 1539,
    "start_time": "2023-05-31T05:57:08.479Z"
   },
   {
    "duration": 43,
    "start_time": "2023-05-31T05:57:10.024Z"
   },
   {
    "duration": 96,
    "start_time": "2023-05-31T05:57:10.068Z"
   },
   {
    "duration": 44,
    "start_time": "2023-05-31T05:57:10.166Z"
   },
   {
    "duration": 45,
    "start_time": "2023-05-31T05:57:10.211Z"
   },
   {
    "duration": 47,
    "start_time": "2023-05-31T05:57:10.258Z"
   },
   {
    "duration": 23,
    "start_time": "2023-05-31T05:57:10.307Z"
   },
   {
    "duration": 70,
    "start_time": "2023-05-31T05:57:10.332Z"
   },
   {
    "duration": 14,
    "start_time": "2023-05-31T05:57:10.403Z"
   },
   {
    "duration": 38,
    "start_time": "2023-05-31T05:57:10.419Z"
   },
   {
    "duration": 7,
    "start_time": "2023-05-31T05:57:31.898Z"
   },
   {
    "duration": 115,
    "start_time": "2023-05-31T06:06:04.555Z"
   },
   {
    "duration": 1393,
    "start_time": "2023-05-31T06:06:42.547Z"
   },
   {
    "duration": 123,
    "start_time": "2023-05-31T06:06:43.942Z"
   },
   {
    "duration": 17,
    "start_time": "2023-05-31T06:06:44.066Z"
   },
   {
    "duration": 23,
    "start_time": "2023-05-31T06:06:44.085Z"
   },
   {
    "duration": 1565,
    "start_time": "2023-05-31T06:06:44.111Z"
   },
   {
    "duration": 64,
    "start_time": "2023-05-31T06:06:45.677Z"
   },
   {
    "duration": 4,
    "start_time": "2023-05-31T06:06:45.742Z"
   },
   {
    "duration": 15,
    "start_time": "2023-05-31T06:06:45.747Z"
   },
   {
    "duration": 33,
    "start_time": "2023-05-31T06:06:45.763Z"
   },
   {
    "duration": 33,
    "start_time": "2023-05-31T06:06:45.797Z"
   },
   {
    "duration": 37,
    "start_time": "2023-05-31T06:06:45.834Z"
   },
   {
    "duration": 68,
    "start_time": "2023-05-31T06:06:45.873Z"
   },
   {
    "duration": 21,
    "start_time": "2023-05-31T06:06:45.943Z"
   },
   {
    "duration": 25,
    "start_time": "2023-05-31T06:06:45.967Z"
   },
   {
    "duration": 65,
    "start_time": "2023-05-31T06:06:45.994Z"
   },
   {
    "duration": 195,
    "start_time": "2023-05-31T06:07:25.308Z"
   },
   {
    "duration": 1310,
    "start_time": "2023-05-31T06:09:35.414Z"
   },
   {
    "duration": 75,
    "start_time": "2023-05-31T06:09:36.737Z"
   },
   {
    "duration": 27,
    "start_time": "2023-05-31T06:09:36.814Z"
   },
   {
    "duration": 15,
    "start_time": "2023-05-31T06:09:36.842Z"
   },
   {
    "duration": 1440,
    "start_time": "2023-05-31T06:09:36.859Z"
   },
   {
    "duration": 45,
    "start_time": "2023-05-31T06:09:38.301Z"
   },
   {
    "duration": 22,
    "start_time": "2023-05-31T06:09:38.348Z"
   },
   {
    "duration": 26,
    "start_time": "2023-05-31T06:09:38.371Z"
   },
   {
    "duration": 25,
    "start_time": "2023-05-31T06:09:38.398Z"
   },
   {
    "duration": 35,
    "start_time": "2023-05-31T06:09:38.425Z"
   },
   {
    "duration": 16,
    "start_time": "2023-05-31T06:09:38.461Z"
   },
   {
    "duration": 64,
    "start_time": "2023-05-31T06:09:38.479Z"
   },
   {
    "duration": 15,
    "start_time": "2023-05-31T06:09:38.545Z"
   },
   {
    "duration": 14,
    "start_time": "2023-05-31T06:09:38.562Z"
   },
   {
    "duration": 23,
    "start_time": "2023-05-31T06:09:38.578Z"
   },
   {
    "duration": 24,
    "start_time": "2023-05-31T06:09:38.603Z"
   },
   {
    "duration": 51,
    "start_time": "2023-05-31T06:09:38.629Z"
   },
   {
    "duration": 9,
    "start_time": "2023-05-31T06:09:38.683Z"
   },
   {
    "duration": 157,
    "start_time": "2023-05-31T06:09:38.694Z"
   },
   {
    "duration": 16,
    "start_time": "2023-05-31T06:10:29.045Z"
   },
   {
    "duration": 11,
    "start_time": "2023-05-31T06:11:49.157Z"
   },
   {
    "duration": 1348,
    "start_time": "2023-05-31T06:14:41.073Z"
   },
   {
    "duration": 82,
    "start_time": "2023-05-31T06:14:42.423Z"
   },
   {
    "duration": 51,
    "start_time": "2023-05-31T06:14:42.506Z"
   },
   {
    "duration": 20,
    "start_time": "2023-05-31T06:14:42.560Z"
   },
   {
    "duration": 1691,
    "start_time": "2023-05-31T06:14:42.583Z"
   },
   {
    "duration": 37,
    "start_time": "2023-05-31T06:14:44.276Z"
   },
   {
    "duration": 5,
    "start_time": "2023-05-31T06:14:44.324Z"
   },
   {
    "duration": 28,
    "start_time": "2023-05-31T06:14:44.330Z"
   },
   {
    "duration": 32,
    "start_time": "2023-05-31T06:14:44.360Z"
   },
   {
    "duration": 23,
    "start_time": "2023-05-31T06:14:44.394Z"
   },
   {
    "duration": 32,
    "start_time": "2023-05-31T06:14:44.419Z"
   },
   {
    "duration": 53,
    "start_time": "2023-05-31T06:14:44.453Z"
   },
   {
    "duration": 14,
    "start_time": "2023-05-31T06:14:44.509Z"
   },
   {
    "duration": 11,
    "start_time": "2023-05-31T06:14:44.525Z"
   },
   {
    "duration": 30,
    "start_time": "2023-05-31T06:14:44.539Z"
   },
   {
    "duration": 30,
    "start_time": "2023-05-31T06:14:44.571Z"
   },
   {
    "duration": 14,
    "start_time": "2023-05-31T06:16:41.221Z"
   },
   {
    "duration": 7,
    "start_time": "2023-05-31T06:20:03.533Z"
   },
   {
    "duration": 21,
    "start_time": "2023-05-31T06:23:37.950Z"
   },
   {
    "duration": 16,
    "start_time": "2023-05-31T06:23:49.078Z"
   },
   {
    "duration": 1285,
    "start_time": "2023-05-31T06:25:36.185Z"
   },
   {
    "duration": 92,
    "start_time": "2023-05-31T06:25:37.472Z"
   },
   {
    "duration": 16,
    "start_time": "2023-05-31T06:25:37.565Z"
   },
   {
    "duration": 15,
    "start_time": "2023-05-31T06:25:37.582Z"
   },
   {
    "duration": 1421,
    "start_time": "2023-05-31T06:25:37.599Z"
   },
   {
    "duration": 36,
    "start_time": "2023-05-31T06:25:39.024Z"
   },
   {
    "duration": 3,
    "start_time": "2023-05-31T06:25:39.062Z"
   },
   {
    "duration": 7,
    "start_time": "2023-05-31T06:25:39.066Z"
   },
   {
    "duration": 22,
    "start_time": "2023-05-31T06:25:39.074Z"
   },
   {
    "duration": 29,
    "start_time": "2023-05-31T06:25:39.097Z"
   },
   {
    "duration": 8,
    "start_time": "2023-05-31T06:25:39.127Z"
   },
   {
    "duration": 56,
    "start_time": "2023-05-31T06:25:39.136Z"
   },
   {
    "duration": 13,
    "start_time": "2023-05-31T06:25:39.194Z"
   },
   {
    "duration": 5,
    "start_time": "2023-05-31T06:25:39.226Z"
   },
   {
    "duration": 9,
    "start_time": "2023-05-31T06:25:39.232Z"
   },
   {
    "duration": 22,
    "start_time": "2023-05-31T06:25:39.243Z"
   },
   {
    "duration": 13,
    "start_time": "2023-05-31T06:25:39.268Z"
   },
   {
    "duration": 19,
    "start_time": "2023-05-31T06:25:39.283Z"
   },
   {
    "duration": 30,
    "start_time": "2023-05-31T06:25:39.304Z"
   },
   {
    "duration": 12,
    "start_time": "2023-05-31T06:32:29.686Z"
   },
   {
    "duration": 11,
    "start_time": "2023-05-31T06:32:41.047Z"
   },
   {
    "duration": 28,
    "start_time": "2023-05-31T06:35:35.293Z"
   },
   {
    "duration": 2921,
    "start_time": "2023-05-31T06:48:17.168Z"
   },
   {
    "duration": 3129,
    "start_time": "2023-05-31T06:49:34.977Z"
   },
   {
    "duration": 3162,
    "start_time": "2023-05-31T06:50:59.633Z"
   },
   {
    "duration": 38,
    "start_time": "2023-05-31T06:52:57.729Z"
   },
   {
    "duration": 1389,
    "start_time": "2023-05-31T07:04:47.428Z"
   },
   {
    "duration": 74,
    "start_time": "2023-05-31T07:04:48.819Z"
   },
   {
    "duration": 44,
    "start_time": "2023-05-31T07:04:48.895Z"
   },
   {
    "duration": 45,
    "start_time": "2023-05-31T07:04:48.941Z"
   },
   {
    "duration": 1402,
    "start_time": "2023-05-31T07:04:48.988Z"
   },
   {
    "duration": 44,
    "start_time": "2023-05-31T07:04:50.391Z"
   },
   {
    "duration": 17,
    "start_time": "2023-05-31T07:04:50.437Z"
   },
   {
    "duration": 40,
    "start_time": "2023-05-31T07:04:50.455Z"
   },
   {
    "duration": 25,
    "start_time": "2023-05-31T07:04:50.496Z"
   },
   {
    "duration": 32,
    "start_time": "2023-05-31T07:04:50.522Z"
   },
   {
    "duration": 31,
    "start_time": "2023-05-31T07:04:50.555Z"
   },
   {
    "duration": 71,
    "start_time": "2023-05-31T07:04:50.587Z"
   },
   {
    "duration": 18,
    "start_time": "2023-05-31T07:04:50.660Z"
   },
   {
    "duration": 19,
    "start_time": "2023-05-31T07:04:50.680Z"
   },
   {
    "duration": 23,
    "start_time": "2023-05-31T07:04:50.701Z"
   },
   {
    "duration": 48,
    "start_time": "2023-05-31T07:04:50.725Z"
   },
   {
    "duration": 55,
    "start_time": "2023-05-31T07:04:50.775Z"
   },
   {
    "duration": 30,
    "start_time": "2023-05-31T07:04:50.831Z"
   },
   {
    "duration": 56,
    "start_time": "2023-05-31T07:04:50.862Z"
   },
   {
    "duration": 15,
    "start_time": "2023-05-31T07:04:50.920Z"
   },
   {
    "duration": 17,
    "start_time": "2023-05-31T07:04:50.937Z"
   },
   {
    "duration": 82,
    "start_time": "2023-05-31T07:04:50.956Z"
   },
   {
    "duration": 2988,
    "start_time": "2023-05-31T07:04:51.039Z"
   },
   {
    "duration": 28,
    "start_time": "2023-05-31T07:04:54.029Z"
   },
   {
    "duration": 1490,
    "start_time": "2023-05-31T07:19:38.728Z"
   },
   {
    "duration": 124,
    "start_time": "2023-05-31T07:19:40.220Z"
   },
   {
    "duration": 18,
    "start_time": "2023-05-31T07:19:40.346Z"
   },
   {
    "duration": 23,
    "start_time": "2023-05-31T07:19:40.366Z"
   },
   {
    "duration": 1659,
    "start_time": "2023-05-31T07:19:40.392Z"
   },
   {
    "duration": 43,
    "start_time": "2023-05-31T07:19:42.053Z"
   },
   {
    "duration": 4,
    "start_time": "2023-05-31T07:19:42.098Z"
   },
   {
    "duration": 32,
    "start_time": "2023-05-31T07:19:42.103Z"
   },
   {
    "duration": 29,
    "start_time": "2023-05-31T07:19:42.137Z"
   },
   {
    "duration": 20,
    "start_time": "2023-05-31T07:19:42.168Z"
   },
   {
    "duration": 17,
    "start_time": "2023-05-31T07:19:42.190Z"
   },
   {
    "duration": 74,
    "start_time": "2023-05-31T07:19:42.210Z"
   },
   {
    "duration": 16,
    "start_time": "2023-05-31T07:19:42.286Z"
   },
   {
    "duration": 20,
    "start_time": "2023-05-31T07:19:42.306Z"
   },
   {
    "duration": 7,
    "start_time": "2023-05-31T07:19:42.328Z"
   },
   {
    "duration": 20,
    "start_time": "2023-05-31T07:19:42.337Z"
   },
   {
    "duration": 14,
    "start_time": "2023-05-31T07:19:42.358Z"
   },
   {
    "duration": 18,
    "start_time": "2023-05-31T07:19:42.374Z"
   },
   {
    "duration": 44,
    "start_time": "2023-05-31T07:19:42.393Z"
   },
   {
    "duration": 14,
    "start_time": "2023-05-31T07:19:42.439Z"
   },
   {
    "duration": 9,
    "start_time": "2023-05-31T07:19:42.454Z"
   },
   {
    "duration": 63,
    "start_time": "2023-05-31T07:19:42.465Z"
   },
   {
    "duration": 3267,
    "start_time": "2023-05-31T07:19:42.530Z"
   },
   {
    "duration": 38,
    "start_time": "2023-05-31T07:19:45.799Z"
   },
   {
    "duration": 13233,
    "start_time": "2023-05-31T07:19:45.839Z"
   },
   {
    "duration": 137384,
    "start_time": "2023-05-31T07:22:49.973Z"
   },
   {
    "duration": 1382,
    "start_time": "2023-05-31T07:27:16.667Z"
   },
   {
    "duration": 77,
    "start_time": "2023-05-31T07:27:18.051Z"
   },
   {
    "duration": 17,
    "start_time": "2023-05-31T07:27:18.130Z"
   },
   {
    "duration": 18,
    "start_time": "2023-05-31T07:27:18.148Z"
   },
   {
    "duration": 1666,
    "start_time": "2023-05-31T07:27:18.168Z"
   },
   {
    "duration": 38,
    "start_time": "2023-05-31T07:27:19.836Z"
   },
   {
    "duration": 3,
    "start_time": "2023-05-31T07:27:19.876Z"
   },
   {
    "duration": 28,
    "start_time": "2023-05-31T07:27:19.880Z"
   },
   {
    "duration": 49,
    "start_time": "2023-05-31T07:27:19.910Z"
   },
   {
    "duration": 26,
    "start_time": "2023-05-31T07:27:19.961Z"
   },
   {
    "duration": 41,
    "start_time": "2023-05-31T07:27:19.988Z"
   },
   {
    "duration": 142,
    "start_time": "2023-05-31T07:27:20.031Z"
   },
   {
    "duration": 13,
    "start_time": "2023-05-31T07:27:20.174Z"
   },
   {
    "duration": 60,
    "start_time": "2023-05-31T07:27:20.189Z"
   },
   {
    "duration": 76,
    "start_time": "2023-05-31T07:27:20.251Z"
   },
   {
    "duration": 26,
    "start_time": "2023-05-31T07:27:20.329Z"
   },
   {
    "duration": 30,
    "start_time": "2023-05-31T07:27:20.356Z"
   },
   {
    "duration": 20,
    "start_time": "2023-05-31T07:27:20.388Z"
   },
   {
    "duration": 110,
    "start_time": "2023-05-31T07:27:20.410Z"
   },
   {
    "duration": 73,
    "start_time": "2023-05-31T07:27:20.522Z"
   },
   {
    "duration": 77,
    "start_time": "2023-05-31T07:27:20.597Z"
   },
   {
    "duration": 80,
    "start_time": "2023-05-31T07:27:20.676Z"
   },
   {
    "duration": 3209,
    "start_time": "2023-05-31T07:27:20.758Z"
   },
   {
    "duration": 31,
    "start_time": "2023-05-31T07:27:23.969Z"
   },
   {
    "duration": 63306,
    "start_time": "2023-05-31T07:27:24.001Z"
   },
   {
    "duration": 51306,
    "start_time": "2023-05-31T07:29:13.695Z"
   },
   {
    "duration": 1388,
    "start_time": "2023-05-31T07:42:14.097Z"
   },
   {
    "duration": 89,
    "start_time": "2023-05-31T07:42:15.486Z"
   },
   {
    "duration": 14,
    "start_time": "2023-05-31T07:42:15.577Z"
   },
   {
    "duration": 12,
    "start_time": "2023-05-31T07:42:15.592Z"
   },
   {
    "duration": 1376,
    "start_time": "2023-05-31T07:42:15.606Z"
   },
   {
    "duration": 41,
    "start_time": "2023-05-31T07:42:16.984Z"
   },
   {
    "duration": 2,
    "start_time": "2023-05-31T07:42:17.027Z"
   },
   {
    "duration": 5,
    "start_time": "2023-05-31T07:42:17.031Z"
   },
   {
    "duration": 14,
    "start_time": "2023-05-31T07:42:17.038Z"
   },
   {
    "duration": 11,
    "start_time": "2023-05-31T07:42:17.054Z"
   },
   {
    "duration": 10,
    "start_time": "2023-05-31T07:42:17.066Z"
   },
   {
    "duration": 62,
    "start_time": "2023-05-31T07:42:17.077Z"
   },
   {
    "duration": 13,
    "start_time": "2023-05-31T07:42:17.141Z"
   },
   {
    "duration": 5,
    "start_time": "2023-05-31T07:42:17.157Z"
   },
   {
    "duration": 6,
    "start_time": "2023-05-31T07:42:17.164Z"
   },
   {
    "duration": 12,
    "start_time": "2023-05-31T07:42:17.171Z"
   },
   {
    "duration": 41,
    "start_time": "2023-05-31T07:42:17.185Z"
   },
   {
    "duration": 8,
    "start_time": "2023-05-31T07:42:17.228Z"
   },
   {
    "duration": 29,
    "start_time": "2023-05-31T07:42:17.238Z"
   },
   {
    "duration": 16,
    "start_time": "2023-05-31T07:42:17.269Z"
   },
   {
    "duration": 7,
    "start_time": "2023-05-31T07:42:17.287Z"
   },
   {
    "duration": 53,
    "start_time": "2023-05-31T07:42:17.295Z"
   },
   {
    "duration": 2905,
    "start_time": "2023-05-31T07:42:17.350Z"
   },
   {
    "duration": 28,
    "start_time": "2023-05-31T07:42:20.256Z"
   },
   {
    "duration": 3,
    "start_time": "2023-05-31T07:42:20.285Z"
   },
   {
    "duration": 19956,
    "start_time": "2023-05-31T07:42:20.289Z"
   },
   {
    "duration": 22370,
    "start_time": "2023-05-31T07:44:49.416Z"
   },
   {
    "duration": 1381,
    "start_time": "2023-05-31T07:48:43.290Z"
   },
   {
    "duration": 89,
    "start_time": "2023-05-31T07:48:44.673Z"
   },
   {
    "duration": 21,
    "start_time": "2023-05-31T07:48:44.764Z"
   },
   {
    "duration": 28,
    "start_time": "2023-05-31T07:48:44.788Z"
   },
   {
    "duration": 1534,
    "start_time": "2023-05-31T07:48:44.819Z"
   },
   {
    "duration": 34,
    "start_time": "2023-05-31T07:48:46.355Z"
   },
   {
    "duration": 18,
    "start_time": "2023-05-31T07:48:46.391Z"
   },
   {
    "duration": 20,
    "start_time": "2023-05-31T07:48:46.410Z"
   },
   {
    "duration": 44,
    "start_time": "2023-05-31T07:48:46.431Z"
   },
   {
    "duration": 23,
    "start_time": "2023-05-31T07:48:46.478Z"
   },
   {
    "duration": 22,
    "start_time": "2023-05-31T07:48:46.503Z"
   },
   {
    "duration": 56,
    "start_time": "2023-05-31T07:48:46.527Z"
   },
   {
    "duration": 13,
    "start_time": "2023-05-31T07:48:46.585Z"
   },
   {
    "duration": 21,
    "start_time": "2023-05-31T07:48:46.600Z"
   },
   {
    "duration": 16,
    "start_time": "2023-05-31T07:48:46.623Z"
   },
   {
    "duration": 22,
    "start_time": "2023-05-31T07:48:46.640Z"
   },
   {
    "duration": 11,
    "start_time": "2023-05-31T07:48:46.664Z"
   },
   {
    "duration": 15,
    "start_time": "2023-05-31T07:48:46.677Z"
   },
   {
    "duration": 20,
    "start_time": "2023-05-31T07:48:46.694Z"
   },
   {
    "duration": 12,
    "start_time": "2023-05-31T07:48:46.716Z"
   },
   {
    "duration": 13,
    "start_time": "2023-05-31T07:48:46.729Z"
   },
   {
    "duration": 32,
    "start_time": "2023-05-31T07:48:46.744Z"
   },
   {
    "duration": 2932,
    "start_time": "2023-05-31T07:48:46.777Z"
   },
   {
    "duration": 37,
    "start_time": "2023-05-31T07:48:49.711Z"
   },
   {
    "duration": 2,
    "start_time": "2023-05-31T07:48:49.749Z"
   },
   {
    "duration": 21920,
    "start_time": "2023-05-31T07:48:49.753Z"
   },
   {
    "duration": 153,
    "start_time": "2023-05-31T07:49:11.675Z"
   },
   {
    "duration": 27,
    "start_time": "2023-05-31T08:47:38.967Z"
   },
   {
    "duration": 3520,
    "start_time": "2023-05-31T09:15:42.291Z"
   },
   {
    "duration": 25,
    "start_time": "2023-05-31T09:15:50.393Z"
   },
   {
    "duration": 1493,
    "start_time": "2023-05-31T09:36:54.193Z"
   },
   {
    "duration": 85,
    "start_time": "2023-05-31T09:36:55.688Z"
   },
   {
    "duration": 24,
    "start_time": "2023-05-31T09:36:55.775Z"
   },
   {
    "duration": 17,
    "start_time": "2023-05-31T09:36:55.801Z"
   },
   {
    "duration": 1661,
    "start_time": "2023-05-31T09:36:55.821Z"
   },
   {
    "duration": 63,
    "start_time": "2023-05-31T09:36:57.483Z"
   },
   {
    "duration": 3,
    "start_time": "2023-05-31T09:36:57.548Z"
   },
   {
    "duration": 6,
    "start_time": "2023-05-31T09:36:57.555Z"
   },
   {
    "duration": 22,
    "start_time": "2023-05-31T09:36:57.562Z"
   },
   {
    "duration": 18,
    "start_time": "2023-05-31T09:36:57.586Z"
   },
   {
    "duration": 7,
    "start_time": "2023-05-31T09:36:57.606Z"
   },
   {
    "duration": 84,
    "start_time": "2023-05-31T09:36:57.615Z"
   },
   {
    "duration": 13,
    "start_time": "2023-05-31T09:36:57.701Z"
   },
   {
    "duration": 5,
    "start_time": "2023-05-31T09:36:57.717Z"
   },
   {
    "duration": 23,
    "start_time": "2023-05-31T09:36:57.723Z"
   },
   {
    "duration": 15,
    "start_time": "2023-05-31T09:36:57.748Z"
   },
   {
    "duration": 21,
    "start_time": "2023-05-31T09:36:57.765Z"
   },
   {
    "duration": 11,
    "start_time": "2023-05-31T09:36:57.788Z"
   },
   {
    "duration": 24,
    "start_time": "2023-05-31T09:36:57.801Z"
   },
   {
    "duration": 20,
    "start_time": "2023-05-31T09:36:57.827Z"
   },
   {
    "duration": 18,
    "start_time": "2023-05-31T09:36:57.849Z"
   },
   {
    "duration": 38,
    "start_time": "2023-05-31T09:36:57.872Z"
   },
   {
    "duration": 3125,
    "start_time": "2023-05-31T09:36:57.912Z"
   },
   {
    "duration": 42,
    "start_time": "2023-05-31T09:37:01.040Z"
   },
   {
    "duration": 23597,
    "start_time": "2023-05-31T09:37:01.085Z"
   },
   {
    "duration": 19,
    "start_time": "2023-05-31T09:37:24.685Z"
   },
   {
    "duration": 51,
    "start_time": "2023-05-31T09:37:24.705Z"
   },
   {
    "duration": 3417,
    "start_time": "2023-05-31T09:37:24.758Z"
   },
   {
    "duration": 22,
    "start_time": "2023-05-31T09:37:28.177Z"
   },
   {
    "duration": 23594,
    "start_time": "2023-05-31T09:37:28.201Z"
   },
   {
    "duration": 117,
    "start_time": "2023-05-31T09:37:51.798Z"
   },
   {
    "duration": 29,
    "start_time": "2023-05-31T09:40:53.246Z"
   },
   {
    "duration": 1348,
    "start_time": "2023-05-31T09:50:20.139Z"
   },
   {
    "duration": 79,
    "start_time": "2023-05-31T09:50:21.489Z"
   },
   {
    "duration": 16,
    "start_time": "2023-05-31T09:50:21.569Z"
   },
   {
    "duration": 14,
    "start_time": "2023-05-31T09:50:21.586Z"
   },
   {
    "duration": 1585,
    "start_time": "2023-05-31T09:50:21.602Z"
   },
   {
    "duration": 61,
    "start_time": "2023-05-31T09:50:23.189Z"
   },
   {
    "duration": 3,
    "start_time": "2023-05-31T09:50:23.252Z"
   },
   {
    "duration": 13,
    "start_time": "2023-05-31T09:50:23.257Z"
   },
   {
    "duration": 20,
    "start_time": "2023-05-31T09:50:23.272Z"
   },
   {
    "duration": 30,
    "start_time": "2023-05-31T09:50:23.294Z"
   },
   {
    "duration": 10,
    "start_time": "2023-05-31T09:50:23.326Z"
   },
   {
    "duration": 69,
    "start_time": "2023-05-31T09:50:23.339Z"
   },
   {
    "duration": 20,
    "start_time": "2023-05-31T09:50:23.424Z"
   },
   {
    "duration": 6,
    "start_time": "2023-05-31T09:50:23.448Z"
   },
   {
    "duration": 6,
    "start_time": "2023-05-31T09:50:23.456Z"
   },
   {
    "duration": 16,
    "start_time": "2023-05-31T09:50:23.464Z"
   },
   {
    "duration": 45,
    "start_time": "2023-05-31T09:50:23.482Z"
   },
   {
    "duration": 8,
    "start_time": "2023-05-31T09:50:23.529Z"
   },
   {
    "duration": 24,
    "start_time": "2023-05-31T09:50:23.538Z"
   },
   {
    "duration": 12,
    "start_time": "2023-05-31T09:50:23.564Z"
   },
   {
    "duration": 7,
    "start_time": "2023-05-31T09:50:23.577Z"
   },
   {
    "duration": 51,
    "start_time": "2023-05-31T09:50:23.585Z"
   },
   {
    "duration": 3115,
    "start_time": "2023-05-31T09:50:23.638Z"
   },
   {
    "duration": 30,
    "start_time": "2023-05-31T09:50:26.755Z"
   },
   {
    "duration": 21634,
    "start_time": "2023-05-31T09:50:26.787Z"
   },
   {
    "duration": 87,
    "start_time": "2023-05-31T09:50:48.425Z"
   },
   {
    "duration": 290,
    "start_time": "2023-05-31T09:50:48.514Z"
   },
   {
    "duration": 270,
    "start_time": "2023-05-31T09:52:30.913Z"
   },
   {
    "duration": 322,
    "start_time": "2023-05-31T09:52:48.312Z"
   },
   {
    "duration": 343,
    "start_time": "2023-05-31T09:54:51.282Z"
   },
   {
    "duration": 346,
    "start_time": "2023-05-31T09:56:02.490Z"
   },
   {
    "duration": 431,
    "start_time": "2023-05-31T09:56:40.593Z"
   },
   {
    "duration": 1351,
    "start_time": "2023-05-31T09:57:03.287Z"
   },
   {
    "duration": 76,
    "start_time": "2023-05-31T09:57:04.640Z"
   },
   {
    "duration": 15,
    "start_time": "2023-05-31T09:57:04.717Z"
   },
   {
    "duration": 60,
    "start_time": "2023-05-31T09:57:04.734Z"
   },
   {
    "duration": 1503,
    "start_time": "2023-05-31T09:57:04.797Z"
   },
   {
    "duration": 48,
    "start_time": "2023-05-31T09:57:06.302Z"
   },
   {
    "duration": 3,
    "start_time": "2023-05-31T09:57:06.351Z"
   },
   {
    "duration": 9,
    "start_time": "2023-05-31T09:57:06.356Z"
   },
   {
    "duration": 16,
    "start_time": "2023-05-31T09:57:06.366Z"
   },
   {
    "duration": 16,
    "start_time": "2023-05-31T09:57:06.384Z"
   },
   {
    "duration": 9,
    "start_time": "2023-05-31T09:57:06.401Z"
   },
   {
    "duration": 55,
    "start_time": "2023-05-31T09:57:06.411Z"
   },
   {
    "duration": 12,
    "start_time": "2023-05-31T09:57:06.468Z"
   },
   {
    "duration": 8,
    "start_time": "2023-05-31T09:57:06.482Z"
   },
   {
    "duration": 9,
    "start_time": "2023-05-31T09:57:06.491Z"
   },
   {
    "duration": 23,
    "start_time": "2023-05-31T09:57:06.502Z"
   },
   {
    "duration": 11,
    "start_time": "2023-05-31T09:57:06.527Z"
   },
   {
    "duration": 13,
    "start_time": "2023-05-31T09:57:06.539Z"
   },
   {
    "duration": 21,
    "start_time": "2023-05-31T09:57:06.553Z"
   },
   {
    "duration": 12,
    "start_time": "2023-05-31T09:57:06.575Z"
   },
   {
    "duration": 8,
    "start_time": "2023-05-31T09:57:06.589Z"
   },
   {
    "duration": 46,
    "start_time": "2023-05-31T09:57:06.598Z"
   },
   {
    "duration": 2933,
    "start_time": "2023-05-31T09:57:06.645Z"
   },
   {
    "duration": 31,
    "start_time": "2023-05-31T09:57:09.580Z"
   },
   {
    "duration": 21338,
    "start_time": "2023-05-31T09:57:09.613Z"
   },
   {
    "duration": 57,
    "start_time": "2023-05-31T09:57:30.953Z"
   },
   {
    "duration": 323,
    "start_time": "2023-05-31T09:57:31.023Z"
   },
   {
    "duration": 3029,
    "start_time": "2023-05-31T09:57:31.348Z"
   },
   {
    "duration": 23,
    "start_time": "2023-05-31T09:57:34.379Z"
   },
   {
    "duration": 21200,
    "start_time": "2023-05-31T09:57:34.404Z"
   },
   {
    "duration": 89,
    "start_time": "2023-05-31T09:57:55.606Z"
   },
   {
    "duration": 374,
    "start_time": "2023-05-31T09:57:55.697Z"
   },
   {
    "duration": 21682,
    "start_time": "2023-05-31T10:00:30.514Z"
   },
   {
    "duration": 1450,
    "start_time": "2023-05-31T10:01:04.108Z"
   },
   {
    "duration": 79,
    "start_time": "2023-05-31T10:01:05.560Z"
   },
   {
    "duration": 18,
    "start_time": "2023-05-31T10:01:05.641Z"
   },
   {
    "duration": 65,
    "start_time": "2023-05-31T10:01:05.661Z"
   },
   {
    "duration": 1530,
    "start_time": "2023-05-31T10:01:05.728Z"
   },
   {
    "duration": 45,
    "start_time": "2023-05-31T10:01:07.260Z"
   },
   {
    "duration": 18,
    "start_time": "2023-05-31T10:01:07.307Z"
   },
   {
    "duration": 61,
    "start_time": "2023-05-31T10:01:07.326Z"
   },
   {
    "duration": 96,
    "start_time": "2023-05-31T10:01:07.389Z"
   },
   {
    "duration": 37,
    "start_time": "2023-05-31T10:01:07.488Z"
   },
   {
    "duration": 13,
    "start_time": "2023-05-31T10:01:07.527Z"
   },
   {
    "duration": 68,
    "start_time": "2023-05-31T10:01:07.542Z"
   },
   {
    "duration": 14,
    "start_time": "2023-05-31T10:01:07.611Z"
   },
   {
    "duration": 32,
    "start_time": "2023-05-31T10:01:07.626Z"
   },
   {
    "duration": 77,
    "start_time": "2023-05-31T10:01:07.659Z"
   },
   {
    "duration": 22,
    "start_time": "2023-05-31T10:01:07.737Z"
   },
   {
    "duration": 25,
    "start_time": "2023-05-31T10:01:07.760Z"
   },
   {
    "duration": 25,
    "start_time": "2023-05-31T10:01:07.787Z"
   },
   {
    "duration": 129,
    "start_time": "2023-05-31T10:01:07.814Z"
   },
   {
    "duration": 20,
    "start_time": "2023-05-31T10:01:07.945Z"
   },
   {
    "duration": 40,
    "start_time": "2023-05-31T10:01:07.966Z"
   },
   {
    "duration": 122,
    "start_time": "2023-05-31T10:01:08.007Z"
   },
   {
    "duration": 3094,
    "start_time": "2023-05-31T10:01:08.131Z"
   },
   {
    "duration": 32,
    "start_time": "2023-05-31T10:01:11.227Z"
   },
   {
    "duration": 22367,
    "start_time": "2023-05-31T10:01:11.261Z"
   },
   {
    "duration": 128,
    "start_time": "2023-05-31T10:01:33.629Z"
   },
   {
    "duration": 290,
    "start_time": "2023-05-31T10:01:33.759Z"
   },
   {
    "duration": 3299,
    "start_time": "2023-05-31T10:01:34.052Z"
   },
   {
    "duration": 21,
    "start_time": "2023-05-31T10:01:37.352Z"
   },
   {
    "duration": 21989,
    "start_time": "2023-05-31T10:01:37.374Z"
   },
   {
    "duration": 77,
    "start_time": "2023-05-31T10:01:59.364Z"
   },
   {
    "duration": 967,
    "start_time": "2023-05-31T10:01:59.443Z"
   },
   {
    "duration": 1488,
    "start_time": "2023-05-31T10:10:39.518Z"
   },
   {
    "duration": 117,
    "start_time": "2023-05-31T10:10:41.009Z"
   },
   {
    "duration": 20,
    "start_time": "2023-05-31T10:10:41.127Z"
   },
   {
    "duration": 28,
    "start_time": "2023-05-31T10:10:41.149Z"
   },
   {
    "duration": 1650,
    "start_time": "2023-05-31T10:10:41.179Z"
   },
   {
    "duration": 42,
    "start_time": "2023-05-31T10:10:42.831Z"
   },
   {
    "duration": 4,
    "start_time": "2023-05-31T10:10:42.875Z"
   },
   {
    "duration": 11,
    "start_time": "2023-05-31T10:10:42.881Z"
   },
   {
    "duration": 32,
    "start_time": "2023-05-31T10:10:42.894Z"
   },
   {
    "duration": 14,
    "start_time": "2023-05-31T10:10:42.928Z"
   },
   {
    "duration": 65,
    "start_time": "2023-05-31T10:10:42.944Z"
   },
   {
    "duration": 98,
    "start_time": "2023-05-31T10:10:43.011Z"
   },
   {
    "duration": 16,
    "start_time": "2023-05-31T10:10:43.111Z"
   },
   {
    "duration": 26,
    "start_time": "2023-05-31T10:10:43.130Z"
   },
   {
    "duration": 30,
    "start_time": "2023-05-31T10:10:43.158Z"
   },
   {
    "duration": 25,
    "start_time": "2023-05-31T10:10:43.189Z"
   },
   {
    "duration": 35,
    "start_time": "2023-05-31T10:10:43.216Z"
   },
   {
    "duration": 12,
    "start_time": "2023-05-31T10:10:43.254Z"
   },
   {
    "duration": 47,
    "start_time": "2023-05-31T10:10:43.268Z"
   },
   {
    "duration": 2448,
    "start_time": "2023-05-31T10:10:43.317Z"
   },
   {
    "duration": 18,
    "start_time": "2023-05-31T10:10:54.242Z"
   },
   {
    "duration": 10,
    "start_time": "2023-05-31T10:12:16.244Z"
   },
   {
    "duration": 13,
    "start_time": "2023-05-31T10:14:11.428Z"
   },
   {
    "duration": 19,
    "start_time": "2023-05-31T10:15:58.396Z"
   },
   {
    "duration": 26,
    "start_time": "2023-05-31T10:16:51.405Z"
   },
   {
    "duration": 18,
    "start_time": "2023-05-31T10:17:11.057Z"
   },
   {
    "duration": 1590,
    "start_time": "2023-05-31T10:17:53.750Z"
   },
   {
    "duration": 166,
    "start_time": "2023-05-31T10:17:55.342Z"
   },
   {
    "duration": 24,
    "start_time": "2023-05-31T10:17:55.510Z"
   },
   {
    "duration": 37,
    "start_time": "2023-05-31T10:17:55.538Z"
   },
   {
    "duration": 1758,
    "start_time": "2023-05-31T10:17:55.577Z"
   },
   {
    "duration": 53,
    "start_time": "2023-05-31T10:17:57.341Z"
   },
   {
    "duration": 4,
    "start_time": "2023-05-31T10:17:57.396Z"
   },
   {
    "duration": 61,
    "start_time": "2023-05-31T10:17:57.402Z"
   },
   {
    "duration": 51,
    "start_time": "2023-05-31T10:17:57.465Z"
   },
   {
    "duration": 58,
    "start_time": "2023-05-31T10:17:57.519Z"
   },
   {
    "duration": 43,
    "start_time": "2023-05-31T10:17:57.579Z"
   },
   {
    "duration": 112,
    "start_time": "2023-05-31T10:17:57.623Z"
   },
   {
    "duration": 15,
    "start_time": "2023-05-31T10:17:57.738Z"
   },
   {
    "duration": 21,
    "start_time": "2023-05-31T10:17:57.755Z"
   },
   {
    "duration": 40,
    "start_time": "2023-05-31T10:17:57.778Z"
   },
   {
    "duration": 57,
    "start_time": "2023-05-31T10:17:57.820Z"
   },
   {
    "duration": 40,
    "start_time": "2023-05-31T10:17:57.878Z"
   },
   {
    "duration": 35,
    "start_time": "2023-05-31T10:17:57.919Z"
   },
   {
    "duration": 46,
    "start_time": "2023-05-31T10:17:57.956Z"
   },
   {
    "duration": 57,
    "start_time": "2023-05-31T10:17:58.004Z"
   },
   {
    "duration": 59,
    "start_time": "2023-05-31T10:17:58.063Z"
   },
   {
    "duration": 50,
    "start_time": "2023-05-31T10:17:58.124Z"
   },
   {
    "duration": 79,
    "start_time": "2023-05-31T10:17:58.176Z"
   },
   {
    "duration": 3915,
    "start_time": "2023-05-31T10:17:58.258Z"
   },
   {
    "duration": 33,
    "start_time": "2023-05-31T10:18:02.175Z"
   },
   {
    "duration": 25359,
    "start_time": "2023-05-31T10:18:02.210Z"
   },
   {
    "duration": 226,
    "start_time": "2023-05-31T10:18:27.571Z"
   },
   {
    "duration": 365,
    "start_time": "2023-05-31T10:18:27.800Z"
   },
   {
    "duration": 3693,
    "start_time": "2023-05-31T10:18:28.166Z"
   },
   {
    "duration": 30,
    "start_time": "2023-05-31T10:18:31.861Z"
   },
   {
    "duration": 25968,
    "start_time": "2023-05-31T10:18:31.894Z"
   },
   {
    "duration": 202,
    "start_time": "2023-05-31T10:18:57.864Z"
   },
   {
    "duration": 454,
    "start_time": "2023-05-31T10:18:58.068Z"
   },
   {
    "duration": 22,
    "start_time": "2023-05-31T10:18:58.523Z"
   },
   {
    "duration": 24,
    "start_time": "2023-05-31T10:20:23.701Z"
   },
   {
    "duration": 42,
    "start_time": "2023-05-31T10:20:42.893Z"
   },
   {
    "duration": 1443,
    "start_time": "2023-05-31T10:21:58.591Z"
   },
   {
    "duration": 105,
    "start_time": "2023-05-31T10:22:00.041Z"
   },
   {
    "duration": 17,
    "start_time": "2023-05-31T10:22:00.148Z"
   },
   {
    "duration": 27,
    "start_time": "2023-05-31T10:22:00.166Z"
   },
   {
    "duration": 1766,
    "start_time": "2023-05-31T10:22:00.195Z"
   },
   {
    "duration": 71,
    "start_time": "2023-05-31T10:22:01.963Z"
   },
   {
    "duration": 5,
    "start_time": "2023-05-31T10:22:02.036Z"
   },
   {
    "duration": 31,
    "start_time": "2023-05-31T10:22:02.043Z"
   },
   {
    "duration": 48,
    "start_time": "2023-05-31T10:22:02.076Z"
   },
   {
    "duration": 35,
    "start_time": "2023-05-31T10:22:02.131Z"
   },
   {
    "duration": 76,
    "start_time": "2023-05-31T10:22:02.168Z"
   },
   {
    "duration": 112,
    "start_time": "2023-05-31T10:22:02.246Z"
   },
   {
    "duration": 72,
    "start_time": "2023-05-31T10:22:02.360Z"
   },
   {
    "duration": 116,
    "start_time": "2023-05-31T10:22:02.439Z"
   },
   {
    "duration": 147,
    "start_time": "2023-05-31T10:22:02.557Z"
   },
   {
    "duration": 158,
    "start_time": "2023-05-31T10:22:02.705Z"
   },
   {
    "duration": 37,
    "start_time": "2023-05-31T10:22:02.865Z"
   },
   {
    "duration": 23,
    "start_time": "2023-05-31T10:22:02.903Z"
   },
   {
    "duration": 49,
    "start_time": "2023-05-31T10:22:02.927Z"
   },
   {
    "duration": 16,
    "start_time": "2023-05-31T10:22:02.978Z"
   },
   {
    "duration": 48,
    "start_time": "2023-05-31T10:22:02.996Z"
   },
   {
    "duration": 3703,
    "start_time": "2023-05-31T10:22:03.046Z"
   },
   {
    "duration": 29,
    "start_time": "2023-05-31T10:22:06.751Z"
   },
   {
    "duration": 25265,
    "start_time": "2023-05-31T10:22:06.781Z"
   },
   {
    "duration": 159,
    "start_time": "2023-05-31T10:22:32.047Z"
   },
   {
    "duration": 352,
    "start_time": "2023-05-31T10:22:32.207Z"
   },
   {
    "duration": 3704,
    "start_time": "2023-05-31T10:22:32.562Z"
   },
   {
    "duration": 29,
    "start_time": "2023-05-31T10:22:36.268Z"
   },
   {
    "duration": 25272,
    "start_time": "2023-05-31T10:22:36.299Z"
   },
   {
    "duration": 214,
    "start_time": "2023-05-31T10:23:01.573Z"
   },
   {
    "duration": 436,
    "start_time": "2023-05-31T10:23:01.789Z"
   },
   {
    "duration": 17,
    "start_time": "2023-05-31T10:23:02.226Z"
   },
   {
    "duration": 1098,
    "start_time": "2023-05-31T10:41:57.992Z"
   },
   {
    "duration": 14,
    "start_time": "2023-05-31T10:42:19.552Z"
   },
   {
    "duration": 11437,
    "start_time": "2023-05-31T10:45:32.848Z"
   },
   {
    "duration": 32,
    "start_time": "2023-05-31T10:45:55.048Z"
   },
   {
    "duration": 10008,
    "start_time": "2023-05-31T10:46:59.833Z"
   },
   {
    "duration": 60,
    "start_time": "2023-05-31T10:47:14.377Z"
   },
   {
    "duration": 349,
    "start_time": "2023-05-31T10:47:47.553Z"
   },
   {
    "duration": 424,
    "start_time": "2023-05-31T10:48:01.921Z"
   },
   {
    "duration": 12,
    "start_time": "2023-05-31T10:52:12.985Z"
   },
   {
    "duration": 5946,
    "start_time": "2023-05-31T10:54:44.930Z"
   },
   {
    "duration": 80,
    "start_time": "2023-05-31T10:54:54.722Z"
   },
   {
    "duration": 41000,
    "start_time": "2023-05-31T10:55:45.586Z"
   },
   {
    "duration": 382,
    "start_time": "2023-05-31T10:56:34.162Z"
   },
   {
    "duration": 457,
    "start_time": "2023-05-31T10:57:46.682Z"
   },
   {
    "duration": 1355,
    "start_time": "2023-05-31T10:58:50.204Z"
   },
   {
    "duration": 93,
    "start_time": "2023-05-31T10:58:51.561Z"
   },
   {
    "duration": 16,
    "start_time": "2023-05-31T10:58:51.655Z"
   },
   {
    "duration": 43,
    "start_time": "2023-05-31T10:58:51.673Z"
   },
   {
    "duration": 1599,
    "start_time": "2023-05-31T10:58:51.718Z"
   },
   {
    "duration": 41,
    "start_time": "2023-05-31T10:58:53.319Z"
   },
   {
    "duration": 3,
    "start_time": "2023-05-31T10:58:53.361Z"
   },
   {
    "duration": 24,
    "start_time": "2023-05-31T10:58:53.366Z"
   },
   {
    "duration": 34,
    "start_time": "2023-05-31T10:58:53.392Z"
   },
   {
    "duration": 14,
    "start_time": "2023-05-31T10:58:53.429Z"
   },
   {
    "duration": 34,
    "start_time": "2023-05-31T10:58:53.444Z"
   },
   {
    "duration": 56,
    "start_time": "2023-05-31T10:58:53.480Z"
   },
   {
    "duration": 14,
    "start_time": "2023-05-31T10:58:53.537Z"
   },
   {
    "duration": 6,
    "start_time": "2023-05-31T10:58:53.553Z"
   },
   {
    "duration": 20,
    "start_time": "2023-05-31T10:58:53.561Z"
   },
   {
    "duration": 20,
    "start_time": "2023-05-31T10:58:53.582Z"
   },
   {
    "duration": 12,
    "start_time": "2023-05-31T10:58:53.604Z"
   },
   {
    "duration": 7,
    "start_time": "2023-05-31T10:58:53.625Z"
   },
   {
    "duration": 52,
    "start_time": "2023-05-31T10:58:53.633Z"
   },
   {
    "duration": 13,
    "start_time": "2023-05-31T10:58:53.686Z"
   },
   {
    "duration": 54,
    "start_time": "2023-05-31T10:58:53.700Z"
   },
   {
    "duration": 3438,
    "start_time": "2023-05-31T10:58:53.756Z"
   },
   {
    "duration": 37,
    "start_time": "2023-05-31T10:58:57.197Z"
   },
   {
    "duration": 23472,
    "start_time": "2023-05-31T10:58:57.235Z"
   },
   {
    "duration": 144,
    "start_time": "2023-05-31T10:59:20.709Z"
   },
   {
    "duration": 323,
    "start_time": "2023-05-31T10:59:20.855Z"
   },
   {
    "duration": 3552,
    "start_time": "2023-05-31T10:59:21.181Z"
   },
   {
    "duration": 28,
    "start_time": "2023-05-31T10:59:24.736Z"
   },
   {
    "duration": 24336,
    "start_time": "2023-05-31T10:59:24.765Z"
   },
   {
    "duration": 189,
    "start_time": "2023-05-31T10:59:49.102Z"
   },
   {
    "duration": 398,
    "start_time": "2023-05-31T10:59:49.293Z"
   },
   {
    "duration": 12,
    "start_time": "2023-05-31T10:59:49.693Z"
   },
   {
    "duration": 1148,
    "start_time": "2023-05-31T10:59:49.706Z"
   },
   {
    "duration": 17,
    "start_time": "2023-05-31T10:59:50.856Z"
   },
   {
    "duration": 10287,
    "start_time": "2023-05-31T10:59:50.874Z"
   },
   {
    "duration": 70,
    "start_time": "2023-05-31T11:00:01.163Z"
   },
   {
    "duration": 429,
    "start_time": "2023-05-31T11:00:01.240Z"
   },
   {
    "duration": 14,
    "start_time": "2023-05-31T11:00:01.671Z"
   },
   {
    "duration": 5883,
    "start_time": "2023-05-31T11:00:01.686Z"
   },
   {
    "duration": 72,
    "start_time": "2023-05-31T11:00:07.571Z"
   },
   {
    "duration": 44173,
    "start_time": "2023-05-31T11:00:07.644Z"
   },
   {
    "duration": 237,
    "start_time": "2023-05-31T11:00:51.819Z"
   },
   {
    "duration": 520,
    "start_time": "2023-05-31T11:00:52.057Z"
   },
   {
    "duration": 6,
    "start_time": "2023-05-31T11:18:36.557Z"
   },
   {
    "duration": 6,
    "start_time": "2023-05-31T11:18:52.189Z"
   },
   {
    "duration": 8,
    "start_time": "2023-05-31T11:19:13.037Z"
   },
   {
    "duration": 1414,
    "start_time": "2023-05-31T11:19:21.734Z"
   },
   {
    "duration": 109,
    "start_time": "2023-05-31T11:19:23.150Z"
   },
   {
    "duration": 17,
    "start_time": "2023-05-31T11:19:23.261Z"
   },
   {
    "duration": 14,
    "start_time": "2023-05-31T11:19:23.281Z"
   },
   {
    "duration": 1733,
    "start_time": "2023-05-31T11:19:23.297Z"
   },
   {
    "duration": 45,
    "start_time": "2023-05-31T11:19:25.032Z"
   },
   {
    "duration": 4,
    "start_time": "2023-05-31T11:19:25.079Z"
   },
   {
    "duration": 8,
    "start_time": "2023-05-31T11:19:25.085Z"
   },
   {
    "duration": 36,
    "start_time": "2023-05-31T11:19:25.094Z"
   },
   {
    "duration": 13,
    "start_time": "2023-05-31T11:19:25.133Z"
   },
   {
    "duration": 13,
    "start_time": "2023-05-31T11:19:25.147Z"
   },
   {
    "duration": 83,
    "start_time": "2023-05-31T11:19:25.161Z"
   },
   {
    "duration": 36,
    "start_time": "2023-05-31T11:19:25.246Z"
   },
   {
    "duration": 34,
    "start_time": "2023-05-31T11:19:25.285Z"
   },
   {
    "duration": 13,
    "start_time": "2023-05-31T11:19:25.321Z"
   },
   {
    "duration": 57,
    "start_time": "2023-05-31T11:19:25.335Z"
   },
   {
    "duration": 7,
    "start_time": "2023-05-31T11:19:41.076Z"
   },
   {
    "duration": 1523,
    "start_time": "2023-05-31T11:21:57.196Z"
   },
   {
    "duration": 7,
    "start_time": "2023-05-31T11:22:06.597Z"
   },
   {
    "duration": 5,
    "start_time": "2023-05-31T11:22:15.309Z"
   },
   {
    "duration": 6,
    "start_time": "2023-05-31T11:22:37.788Z"
   },
   {
    "duration": 1406,
    "start_time": "2023-05-31T11:23:28.777Z"
   },
   {
    "duration": 94,
    "start_time": "2023-05-31T11:23:30.185Z"
   },
   {
    "duration": 20,
    "start_time": "2023-05-31T11:23:30.281Z"
   },
   {
    "duration": 38,
    "start_time": "2023-05-31T11:23:30.303Z"
   },
   {
    "duration": 1771,
    "start_time": "2023-05-31T11:23:30.344Z"
   },
   {
    "duration": 40,
    "start_time": "2023-05-31T11:23:32.125Z"
   },
   {
    "duration": 38,
    "start_time": "2023-05-31T11:23:32.166Z"
   },
   {
    "duration": 14,
    "start_time": "2023-05-31T11:23:32.205Z"
   },
   {
    "duration": 31,
    "start_time": "2023-05-31T11:23:32.221Z"
   },
   {
    "duration": 32,
    "start_time": "2023-05-31T11:23:32.253Z"
   },
   {
    "duration": 21,
    "start_time": "2023-05-31T11:23:32.287Z"
   },
   {
    "duration": 58,
    "start_time": "2023-05-31T11:23:32.310Z"
   },
   {
    "duration": 13,
    "start_time": "2023-05-31T11:23:32.370Z"
   },
   {
    "duration": 20,
    "start_time": "2023-05-31T11:23:32.385Z"
   },
   {
    "duration": 11,
    "start_time": "2023-05-31T11:23:32.407Z"
   },
   {
    "duration": 4,
    "start_time": "2023-05-31T11:28:48.475Z"
   },
   {
    "duration": 122,
    "start_time": "2023-05-31T11:28:59.813Z"
   },
   {
    "duration": 1477,
    "start_time": "2023-05-31T11:39:15.609Z"
   },
   {
    "duration": 77,
    "start_time": "2023-05-31T11:39:17.088Z"
   },
   {
    "duration": 19,
    "start_time": "2023-05-31T11:39:17.166Z"
   },
   {
    "duration": 27,
    "start_time": "2023-05-31T11:39:17.188Z"
   },
   {
    "duration": 1779,
    "start_time": "2023-05-31T11:39:17.217Z"
   },
   {
    "duration": 58,
    "start_time": "2023-05-31T11:39:18.998Z"
   },
   {
    "duration": 4,
    "start_time": "2023-05-31T11:39:19.058Z"
   },
   {
    "duration": 16,
    "start_time": "2023-05-31T11:39:19.064Z"
   },
   {
    "duration": 33,
    "start_time": "2023-05-31T11:39:19.083Z"
   },
   {
    "duration": 22,
    "start_time": "2023-05-31T11:39:19.119Z"
   },
   {
    "duration": 25,
    "start_time": "2023-05-31T11:39:19.143Z"
   },
   {
    "duration": 73,
    "start_time": "2023-05-31T11:39:19.170Z"
   },
   {
    "duration": 17,
    "start_time": "2023-05-31T11:39:19.245Z"
   },
   {
    "duration": 20,
    "start_time": "2023-05-31T11:39:19.264Z"
   },
   {
    "duration": 18,
    "start_time": "2023-05-31T11:39:19.286Z"
   },
   {
    "duration": 44,
    "start_time": "2023-05-31T11:39:19.307Z"
   },
   {
    "duration": 16,
    "start_time": "2023-05-31T11:39:19.353Z"
   },
   {
    "duration": 13,
    "start_time": "2023-05-31T11:39:19.371Z"
   },
   {
    "duration": 14,
    "start_time": "2023-05-31T11:39:19.386Z"
   },
   {
    "duration": 44,
    "start_time": "2023-05-31T11:39:19.402Z"
   },
   {
    "duration": 22,
    "start_time": "2023-05-31T11:39:19.447Z"
   },
   {
    "duration": 38,
    "start_time": "2023-05-31T11:39:19.471Z"
   },
   {
    "duration": 3635,
    "start_time": "2023-05-31T11:39:19.510Z"
   },
   {
    "duration": 32,
    "start_time": "2023-05-31T11:39:23.147Z"
   },
   {
    "duration": 26190,
    "start_time": "2023-05-31T11:39:23.181Z"
   },
   {
    "duration": 164,
    "start_time": "2023-05-31T11:39:49.372Z"
   },
   {
    "duration": 333,
    "start_time": "2023-05-31T11:39:49.538Z"
   },
   {
    "duration": 3746,
    "start_time": "2023-05-31T11:39:49.875Z"
   },
   {
    "duration": 34,
    "start_time": "2023-05-31T11:39:53.625Z"
   },
   {
    "duration": 25825,
    "start_time": "2023-05-31T11:39:53.661Z"
   },
   {
    "duration": 178,
    "start_time": "2023-05-31T11:40:19.488Z"
   },
   {
    "duration": 393,
    "start_time": "2023-05-31T11:40:19.669Z"
   },
   {
    "duration": 11,
    "start_time": "2023-05-31T11:40:20.064Z"
   },
   {
    "duration": 1242,
    "start_time": "2023-05-31T11:40:20.077Z"
   },
   {
    "duration": 20,
    "start_time": "2023-05-31T11:40:21.321Z"
   },
   {
    "duration": 11189,
    "start_time": "2023-05-31T11:40:21.343Z"
   },
   {
    "duration": 59,
    "start_time": "2023-05-31T11:40:32.533Z"
   },
   {
    "duration": 480,
    "start_time": "2023-05-31T11:40:32.593Z"
   },
   {
    "duration": 15,
    "start_time": "2023-05-31T11:40:33.075Z"
   },
   {
    "duration": 6360,
    "start_time": "2023-05-31T11:40:33.092Z"
   },
   {
    "duration": 59,
    "start_time": "2023-05-31T11:40:39.454Z"
   },
   {
    "duration": 46475,
    "start_time": "2023-05-31T11:40:39.527Z"
   },
   {
    "duration": 467,
    "start_time": "2023-05-31T11:41:26.004Z"
   },
   {
    "duration": 484,
    "start_time": "2023-05-31T11:41:26.472Z"
   },
   {
    "duration": 616,
    "start_time": "2023-05-31T11:57:08.480Z"
   },
   {
    "duration": 6,
    "start_time": "2023-05-31T11:57:19.817Z"
   },
   {
    "duration": 12,
    "start_time": "2023-05-31T11:57:40.880Z"
   },
   {
    "duration": 6,
    "start_time": "2023-05-31T11:58:08.639Z"
   },
   {
    "duration": 4,
    "start_time": "2023-05-31T12:02:50.257Z"
   },
   {
    "duration": 1410,
    "start_time": "2023-05-31T12:03:38.638Z"
   },
   {
    "duration": 95,
    "start_time": "2023-05-31T12:03:40.050Z"
   },
   {
    "duration": 17,
    "start_time": "2023-05-31T12:03:40.147Z"
   },
   {
    "duration": 29,
    "start_time": "2023-05-31T12:03:40.166Z"
   },
   {
    "duration": 1700,
    "start_time": "2023-05-31T12:03:40.198Z"
   },
   {
    "duration": 76,
    "start_time": "2023-05-31T12:03:41.900Z"
   },
   {
    "duration": 4,
    "start_time": "2023-05-31T12:03:41.978Z"
   },
   {
    "duration": 11,
    "start_time": "2023-05-31T12:03:41.985Z"
   },
   {
    "duration": 29,
    "start_time": "2023-05-31T12:03:41.998Z"
   },
   {
    "duration": 17,
    "start_time": "2023-05-31T12:03:42.029Z"
   },
   {
    "duration": 9,
    "start_time": "2023-05-31T12:03:42.048Z"
   },
   {
    "duration": 98,
    "start_time": "2023-05-31T12:03:42.058Z"
   },
   {
    "duration": 17,
    "start_time": "2023-05-31T12:03:42.158Z"
   },
   {
    "duration": 13,
    "start_time": "2023-05-31T12:03:42.178Z"
   },
   {
    "duration": 8,
    "start_time": "2023-05-31T12:03:42.193Z"
   },
   {
    "duration": 5,
    "start_time": "2023-05-31T12:04:01.360Z"
   },
   {
    "duration": 5,
    "start_time": "2023-05-31T12:06:39.208Z"
   },
   {
    "duration": 3,
    "start_time": "2023-05-31T12:06:48.847Z"
   },
   {
    "duration": 7,
    "start_time": "2023-05-31T12:07:07.088Z"
   },
   {
    "duration": 6,
    "start_time": "2023-05-31T12:07:10.145Z"
   },
   {
    "duration": 8,
    "start_time": "2023-05-31T12:09:11.058Z"
   },
   {
    "duration": 7,
    "start_time": "2023-05-31T12:09:18.593Z"
   },
   {
    "duration": 117,
    "start_time": "2023-05-31T12:18:32.298Z"
   },
   {
    "duration": 11,
    "start_time": "2023-05-31T12:27:35.362Z"
   },
   {
    "duration": 6,
    "start_time": "2023-05-31T12:27:48.890Z"
   },
   {
    "duration": 1460,
    "start_time": "2023-05-31T12:28:17.343Z"
   },
   {
    "duration": 84,
    "start_time": "2023-05-31T12:28:18.806Z"
   },
   {
    "duration": 16,
    "start_time": "2023-05-31T12:28:18.892Z"
   },
   {
    "duration": 15,
    "start_time": "2023-05-31T12:28:18.909Z"
   },
   {
    "duration": 1629,
    "start_time": "2023-05-31T12:28:18.926Z"
   },
   {
    "duration": 43,
    "start_time": "2023-05-31T12:28:20.556Z"
   },
   {
    "duration": 2,
    "start_time": "2023-05-31T12:28:20.601Z"
   },
   {
    "duration": 20,
    "start_time": "2023-05-31T12:28:20.605Z"
   },
   {
    "duration": 17,
    "start_time": "2023-05-31T12:28:20.626Z"
   },
   {
    "duration": 49,
    "start_time": "2023-05-31T12:28:20.644Z"
   },
   {
    "duration": 28,
    "start_time": "2023-05-31T12:28:20.695Z"
   },
   {
    "duration": 78,
    "start_time": "2023-05-31T12:28:20.725Z"
   },
   {
    "duration": 13,
    "start_time": "2023-05-31T12:28:20.805Z"
   },
   {
    "duration": 17,
    "start_time": "2023-05-31T12:28:20.820Z"
   },
   {
    "duration": 22,
    "start_time": "2023-05-31T12:28:20.839Z"
   },
   {
    "duration": 19,
    "start_time": "2023-05-31T12:28:20.863Z"
   },
   {
    "duration": 31,
    "start_time": "2023-05-31T12:28:20.884Z"
   },
   {
    "duration": 45,
    "start_time": "2023-05-31T12:28:20.916Z"
   },
   {
    "duration": 122,
    "start_time": "2023-05-31T12:42:31.046Z"
   },
   {
    "duration": 15,
    "start_time": "2023-05-31T12:43:49.386Z"
   },
   {
    "duration": 10,
    "start_time": "2023-05-31T12:46:24.205Z"
   },
   {
    "duration": 118,
    "start_time": "2023-05-31T12:46:34.285Z"
   },
   {
    "duration": 1539,
    "start_time": "2023-05-31T12:54:54.096Z"
   },
   {
    "duration": 89,
    "start_time": "2023-05-31T12:54:55.637Z"
   },
   {
    "duration": 19,
    "start_time": "2023-05-31T12:54:55.727Z"
   },
   {
    "duration": 33,
    "start_time": "2023-05-31T12:54:55.748Z"
   },
   {
    "duration": 1637,
    "start_time": "2023-05-31T12:54:55.783Z"
   },
   {
    "duration": 40,
    "start_time": "2023-05-31T12:54:57.421Z"
   },
   {
    "duration": 3,
    "start_time": "2023-05-31T12:54:57.463Z"
   },
   {
    "duration": 13,
    "start_time": "2023-05-31T12:54:57.467Z"
   },
   {
    "duration": 15,
    "start_time": "2023-05-31T12:54:57.481Z"
   },
   {
    "duration": 28,
    "start_time": "2023-05-31T12:54:57.498Z"
   },
   {
    "duration": 13,
    "start_time": "2023-05-31T12:54:57.528Z"
   },
   {
    "duration": 49,
    "start_time": "2023-05-31T12:54:57.542Z"
   },
   {
    "duration": 31,
    "start_time": "2023-05-31T12:54:57.593Z"
   },
   {
    "duration": 8,
    "start_time": "2023-05-31T12:54:57.626Z"
   },
   {
    "duration": 5,
    "start_time": "2023-05-31T12:54:57.636Z"
   },
   {
    "duration": 7,
    "start_time": "2023-05-31T12:54:57.642Z"
   },
   {
    "duration": 14,
    "start_time": "2023-05-31T12:54:57.650Z"
   },
   {
    "duration": 13,
    "start_time": "2023-05-31T12:54:57.665Z"
   },
   {
    "duration": 29,
    "start_time": "2023-05-31T12:54:57.679Z"
   },
   {
    "duration": 30,
    "start_time": "2023-05-31T12:54:57.710Z"
   },
   {
    "duration": 12,
    "start_time": "2023-05-31T12:54:57.742Z"
   },
   {
    "duration": 33,
    "start_time": "2023-05-31T12:54:57.755Z"
   },
   {
    "duration": 3462,
    "start_time": "2023-05-31T12:54:57.790Z"
   },
   {
    "duration": 44,
    "start_time": "2023-05-31T12:55:01.253Z"
   },
   {
    "duration": 23515,
    "start_time": "2023-05-31T12:55:01.299Z"
   },
   {
    "duration": 123,
    "start_time": "2023-05-31T12:55:24.817Z"
   },
   {
    "duration": 310,
    "start_time": "2023-05-31T12:55:24.942Z"
   },
   {
    "duration": 3396,
    "start_time": "2023-05-31T12:55:25.256Z"
   },
   {
    "duration": 26,
    "start_time": "2023-05-31T12:55:28.654Z"
   },
   {
    "duration": 23264,
    "start_time": "2023-05-31T12:55:28.682Z"
   },
   {
    "duration": 189,
    "start_time": "2023-05-31T12:55:51.948Z"
   },
   {
    "duration": 354,
    "start_time": "2023-05-31T12:55:52.139Z"
   },
   {
    "duration": 11,
    "start_time": "2023-05-31T12:55:52.494Z"
   },
   {
    "duration": 1082,
    "start_time": "2023-05-31T12:55:52.506Z"
   },
   {
    "duration": 12,
    "start_time": "2023-05-31T12:55:53.589Z"
   },
   {
    "duration": 9916,
    "start_time": "2023-05-31T12:55:53.602Z"
   },
   {
    "duration": 43,
    "start_time": "2023-05-31T12:56:03.520Z"
   },
   {
    "duration": 495,
    "start_time": "2023-05-31T12:56:03.564Z"
   },
   {
    "duration": 13,
    "start_time": "2023-05-31T12:56:04.060Z"
   },
   {
    "duration": 5428,
    "start_time": "2023-05-31T12:56:04.075Z"
   },
   {
    "duration": 69,
    "start_time": "2023-05-31T12:56:09.505Z"
   },
   {
    "duration": 41675,
    "start_time": "2023-05-31T12:56:09.576Z"
   },
   {
    "duration": 421,
    "start_time": "2023-05-31T12:56:51.253Z"
   },
   {
    "duration": 472,
    "start_time": "2023-05-31T12:56:51.675Z"
   },
   {
    "duration": 224,
    "start_time": "2023-05-31T13:17:15.207Z"
   },
   {
    "duration": 1432,
    "start_time": "2023-05-31T13:17:40.171Z"
   },
   {
    "duration": 102,
    "start_time": "2023-05-31T13:17:41.605Z"
   },
   {
    "duration": 17,
    "start_time": "2023-05-31T13:17:41.709Z"
   },
   {
    "duration": 18,
    "start_time": "2023-05-31T13:17:41.728Z"
   },
   {
    "duration": 1702,
    "start_time": "2023-05-31T13:17:41.748Z"
   },
   {
    "duration": 43,
    "start_time": "2023-05-31T13:17:43.451Z"
   },
   {
    "duration": 3,
    "start_time": "2023-05-31T13:17:43.496Z"
   },
   {
    "duration": 25,
    "start_time": "2023-05-31T13:17:43.500Z"
   },
   {
    "duration": 37,
    "start_time": "2023-05-31T13:17:43.526Z"
   },
   {
    "duration": 38,
    "start_time": "2023-05-31T13:17:43.566Z"
   },
   {
    "duration": 31,
    "start_time": "2023-05-31T13:17:43.606Z"
   },
   {
    "duration": 70,
    "start_time": "2023-05-31T13:17:43.638Z"
   },
   {
    "duration": 13,
    "start_time": "2023-05-31T13:17:43.709Z"
   },
   {
    "duration": 31,
    "start_time": "2023-05-31T13:17:43.724Z"
   },
   {
    "duration": 25,
    "start_time": "2023-05-31T13:17:43.757Z"
   },
   {
    "duration": 31,
    "start_time": "2023-05-31T13:17:43.784Z"
   },
   {
    "duration": 27,
    "start_time": "2023-05-31T13:17:43.817Z"
   },
   {
    "duration": 32,
    "start_time": "2023-05-31T13:17:43.845Z"
   },
   {
    "duration": 31,
    "start_time": "2023-05-31T13:17:43.878Z"
   },
   {
    "duration": 61,
    "start_time": "2023-05-31T13:17:43.910Z"
   },
   {
    "duration": 44,
    "start_time": "2023-05-31T13:17:43.973Z"
   },
   {
    "duration": 66,
    "start_time": "2023-05-31T13:17:44.019Z"
   },
   {
    "duration": 3494,
    "start_time": "2023-05-31T13:17:44.086Z"
   },
   {
    "duration": 30,
    "start_time": "2023-05-31T13:17:47.582Z"
   },
   {
    "duration": 22669,
    "start_time": "2023-05-31T13:17:47.625Z"
   },
   {
    "duration": 214,
    "start_time": "2023-05-31T13:18:10.295Z"
   },
   {
    "duration": 456,
    "start_time": "2023-05-31T13:18:10.511Z"
   },
   {
    "duration": 3373,
    "start_time": "2023-05-31T13:18:10.972Z"
   },
   {
    "duration": 26,
    "start_time": "2023-05-31T13:18:14.347Z"
   },
   {
    "duration": 23290,
    "start_time": "2023-05-31T13:18:14.374Z"
   },
   {
    "duration": 161,
    "start_time": "2023-05-31T13:18:37.666Z"
   },
   {
    "duration": 407,
    "start_time": "2023-05-31T13:18:37.829Z"
   },
   {
    "duration": 10,
    "start_time": "2023-05-31T13:18:38.238Z"
   },
   {
    "duration": 1152,
    "start_time": "2023-05-31T13:18:38.249Z"
   },
   {
    "duration": 21,
    "start_time": "2023-05-31T13:18:39.403Z"
   },
   {
    "duration": 10614,
    "start_time": "2023-05-31T13:18:39.426Z"
   },
   {
    "duration": 70,
    "start_time": "2023-05-31T13:18:50.041Z"
   },
   {
    "duration": 442,
    "start_time": "2023-05-31T13:18:50.113Z"
   },
   {
    "duration": 12,
    "start_time": "2023-05-31T13:18:50.557Z"
   },
   {
    "duration": 5787,
    "start_time": "2023-05-31T13:18:50.571Z"
   },
   {
    "duration": 74,
    "start_time": "2023-05-31T13:18:56.359Z"
   },
   {
    "duration": 43162,
    "start_time": "2023-05-31T13:18:56.434Z"
   },
   {
    "duration": 431,
    "start_time": "2023-05-31T13:19:39.598Z"
   },
   {
    "duration": 443,
    "start_time": "2023-05-31T13:19:40.031Z"
   },
   {
    "duration": 222,
    "start_time": "2023-05-31T13:19:40.476Z"
   },
   {
    "duration": 1367,
    "start_time": "2023-05-31T13:20:52.862Z"
   },
   {
    "duration": 122,
    "start_time": "2023-05-31T13:20:54.231Z"
   },
   {
    "duration": 16,
    "start_time": "2023-05-31T13:20:54.354Z"
   },
   {
    "duration": 12,
    "start_time": "2023-05-31T13:20:54.371Z"
   },
   {
    "duration": 1555,
    "start_time": "2023-05-31T13:20:54.385Z"
   },
   {
    "duration": 37,
    "start_time": "2023-05-31T13:20:55.942Z"
   },
   {
    "duration": 3,
    "start_time": "2023-05-31T13:20:55.980Z"
   },
   {
    "duration": 7,
    "start_time": "2023-05-31T13:20:55.984Z"
   },
   {
    "duration": 31,
    "start_time": "2023-05-31T13:20:55.993Z"
   },
   {
    "duration": 12,
    "start_time": "2023-05-31T13:20:56.026Z"
   },
   {
    "duration": 20,
    "start_time": "2023-05-31T13:20:56.040Z"
   },
   {
    "duration": 49,
    "start_time": "2023-05-31T13:20:56.062Z"
   },
   {
    "duration": 12,
    "start_time": "2023-05-31T13:20:56.113Z"
   },
   {
    "duration": 9,
    "start_time": "2023-05-31T13:20:56.127Z"
   },
   {
    "duration": 9,
    "start_time": "2023-05-31T13:20:56.137Z"
   },
   {
    "duration": 7,
    "start_time": "2023-05-31T13:20:56.147Z"
   },
   {
    "duration": 13,
    "start_time": "2023-05-31T13:20:56.156Z"
   },
   {
    "duration": 12,
    "start_time": "2023-05-31T13:20:56.171Z"
   },
   {
    "duration": 8,
    "start_time": "2023-05-31T13:20:56.184Z"
   },
   {
    "duration": 43,
    "start_time": "2023-05-31T13:20:56.193Z"
   },
   {
    "duration": 12,
    "start_time": "2023-05-31T13:20:56.238Z"
   },
   {
    "duration": 34,
    "start_time": "2023-05-31T13:20:56.252Z"
   },
   {
    "duration": 3208,
    "start_time": "2023-05-31T13:20:56.288Z"
   },
   {
    "duration": 36,
    "start_time": "2023-05-31T13:20:59.498Z"
   },
   {
    "duration": 22372,
    "start_time": "2023-05-31T13:20:59.535Z"
   },
   {
    "duration": 236,
    "start_time": "2023-05-31T13:21:21.908Z"
   },
   {
    "duration": 344,
    "start_time": "2023-05-31T13:21:22.146Z"
   },
   {
    "duration": 3453,
    "start_time": "2023-05-31T13:21:22.495Z"
   },
   {
    "duration": 26,
    "start_time": "2023-05-31T13:21:25.950Z"
   },
   {
    "duration": 22860,
    "start_time": "2023-05-31T13:21:25.978Z"
   },
   {
    "duration": 187,
    "start_time": "2023-05-31T13:21:48.839Z"
   },
   {
    "duration": 366,
    "start_time": "2023-05-31T13:21:49.027Z"
   },
   {
    "duration": 10,
    "start_time": "2023-05-31T13:21:49.395Z"
   },
   {
    "duration": 1040,
    "start_time": "2023-05-31T13:21:49.406Z"
   },
   {
    "duration": 16,
    "start_time": "2023-05-31T13:21:50.447Z"
   },
   {
    "duration": 9848,
    "start_time": "2023-05-31T13:21:50.465Z"
   },
   {
    "duration": 42,
    "start_time": "2023-05-31T13:22:00.315Z"
   },
   {
    "duration": 494,
    "start_time": "2023-05-31T13:22:00.358Z"
   },
   {
    "duration": 11,
    "start_time": "2023-05-31T13:22:00.854Z"
   },
   {
    "duration": 5665,
    "start_time": "2023-05-31T13:22:00.867Z"
   },
   {
    "duration": 52,
    "start_time": "2023-05-31T13:22:06.534Z"
   },
   {
    "duration": 44051,
    "start_time": "2023-05-31T13:22:06.588Z"
   },
   {
    "duration": 482,
    "start_time": "2023-05-31T13:22:50.640Z"
   },
   {
    "duration": 440,
    "start_time": "2023-05-31T13:22:51.125Z"
   },
   {
    "duration": 213,
    "start_time": "2023-05-31T13:22:51.567Z"
   },
   {
    "duration": 221,
    "start_time": "2023-05-31T13:23:45.241Z"
   },
   {
    "duration": 6,
    "start_time": "2023-05-31T13:24:41.825Z"
   },
   {
    "duration": 1446,
    "start_time": "2023-05-31T13:25:06.923Z"
   },
   {
    "duration": 91,
    "start_time": "2023-05-31T13:25:08.371Z"
   },
   {
    "duration": 16,
    "start_time": "2023-05-31T13:25:08.463Z"
   },
   {
    "duration": 29,
    "start_time": "2023-05-31T13:25:08.482Z"
   },
   {
    "duration": 1639,
    "start_time": "2023-05-31T13:25:08.513Z"
   },
   {
    "duration": 40,
    "start_time": "2023-05-31T13:25:10.153Z"
   },
   {
    "duration": 3,
    "start_time": "2023-05-31T13:25:10.194Z"
   },
   {
    "duration": 84,
    "start_time": "2023-05-31T13:25:10.199Z"
   },
   {
    "duration": 78,
    "start_time": "2023-05-31T13:25:10.285Z"
   },
   {
    "duration": 27,
    "start_time": "2023-05-31T13:25:10.365Z"
   },
   {
    "duration": 56,
    "start_time": "2023-05-31T13:25:10.394Z"
   },
   {
    "duration": 87,
    "start_time": "2023-05-31T13:25:10.452Z"
   },
   {
    "duration": 20,
    "start_time": "2023-05-31T13:25:10.541Z"
   },
   {
    "duration": 36,
    "start_time": "2023-05-31T13:25:10.562Z"
   },
   {
    "duration": 28,
    "start_time": "2023-05-31T13:25:10.599Z"
   },
   {
    "duration": 30,
    "start_time": "2023-05-31T13:25:10.628Z"
   },
   {
    "duration": 5,
    "start_time": "2023-05-31T13:25:17.560Z"
   },
   {
    "duration": 6,
    "start_time": "2023-05-31T13:25:26.904Z"
   },
   {
    "duration": 5,
    "start_time": "2023-05-31T13:26:27.137Z"
   },
   {
    "duration": 7,
    "start_time": "2023-05-31T13:26:29.344Z"
   },
   {
    "duration": 1481,
    "start_time": "2023-05-31T13:26:44.204Z"
   },
   {
    "duration": 125,
    "start_time": "2023-05-31T13:26:45.687Z"
   },
   {
    "duration": 18,
    "start_time": "2023-05-31T13:26:45.814Z"
   },
   {
    "duration": 41,
    "start_time": "2023-05-31T13:26:45.834Z"
   },
   {
    "duration": 1596,
    "start_time": "2023-05-31T13:26:45.877Z"
   },
   {
    "duration": 50,
    "start_time": "2023-05-31T13:26:47.475Z"
   },
   {
    "duration": 44,
    "start_time": "2023-05-31T13:26:47.527Z"
   },
   {
    "duration": 20,
    "start_time": "2023-05-31T13:26:47.572Z"
   },
   {
    "duration": 29,
    "start_time": "2023-05-31T13:26:47.593Z"
   },
   {
    "duration": 41,
    "start_time": "2023-05-31T13:26:47.624Z"
   },
   {
    "duration": 30,
    "start_time": "2023-05-31T13:26:47.667Z"
   },
   {
    "duration": 83,
    "start_time": "2023-05-31T13:26:47.698Z"
   },
   {
    "duration": 21,
    "start_time": "2023-05-31T13:26:47.783Z"
   },
   {
    "duration": 39,
    "start_time": "2023-05-31T13:26:47.805Z"
   },
   {
    "duration": 35,
    "start_time": "2023-05-31T13:26:47.846Z"
   },
   {
    "duration": 34,
    "start_time": "2023-05-31T13:26:47.883Z"
   },
   {
    "duration": 72,
    "start_time": "2023-05-31T13:26:47.919Z"
   },
   {
    "duration": 1481,
    "start_time": "2023-05-31T13:30:34.186Z"
   },
   {
    "duration": 81,
    "start_time": "2023-05-31T13:30:35.669Z"
   },
   {
    "duration": 16,
    "start_time": "2023-05-31T13:30:35.752Z"
   },
   {
    "duration": 75,
    "start_time": "2023-05-31T13:30:35.771Z"
   },
   {
    "duration": 1694,
    "start_time": "2023-05-31T13:30:35.848Z"
   },
   {
    "duration": 45,
    "start_time": "2023-05-31T13:30:37.544Z"
   },
   {
    "duration": 3,
    "start_time": "2023-05-31T13:30:37.590Z"
   },
   {
    "duration": 22,
    "start_time": "2023-05-31T13:30:37.595Z"
   },
   {
    "duration": 17,
    "start_time": "2023-05-31T13:30:37.624Z"
   },
   {
    "duration": 15,
    "start_time": "2023-05-31T13:30:37.643Z"
   },
   {
    "duration": 12,
    "start_time": "2023-05-31T13:30:37.660Z"
   },
   {
    "duration": 65,
    "start_time": "2023-05-31T13:30:37.674Z"
   },
   {
    "duration": 13,
    "start_time": "2023-05-31T13:30:37.741Z"
   },
   {
    "duration": 8,
    "start_time": "2023-05-31T13:30:37.756Z"
   },
   {
    "duration": 8,
    "start_time": "2023-05-31T13:30:37.766Z"
   },
   {
    "duration": 9,
    "start_time": "2023-05-31T13:30:37.776Z"
   },
   {
    "duration": 17,
    "start_time": "2023-05-31T13:30:37.787Z"
   },
   {
    "duration": 29,
    "start_time": "2023-05-31T13:30:37.806Z"
   },
   {
    "duration": 9,
    "start_time": "2023-05-31T13:30:37.836Z"
   },
   {
    "duration": 20,
    "start_time": "2023-05-31T13:30:37.847Z"
   },
   {
    "duration": 12,
    "start_time": "2023-05-31T13:30:37.869Z"
   },
   {
    "duration": 60,
    "start_time": "2023-05-31T13:30:37.883Z"
   },
   {
    "duration": 3511,
    "start_time": "2023-05-31T13:30:37.945Z"
   },
   {
    "duration": 31,
    "start_time": "2023-05-31T13:30:41.457Z"
   },
   {
    "duration": 23384,
    "start_time": "2023-05-31T13:30:41.489Z"
   },
   {
    "duration": 204,
    "start_time": "2023-05-31T13:31:04.875Z"
   },
   {
    "duration": 378,
    "start_time": "2023-05-31T13:31:05.081Z"
   },
   {
    "duration": 3366,
    "start_time": "2023-05-31T13:31:05.465Z"
   },
   {
    "duration": 24,
    "start_time": "2023-05-31T13:31:08.833Z"
   },
   {
    "duration": 23428,
    "start_time": "2023-05-31T13:31:08.858Z"
   },
   {
    "duration": 203,
    "start_time": "2023-05-31T13:31:32.288Z"
   },
   {
    "duration": 426,
    "start_time": "2023-05-31T13:31:32.493Z"
   },
   {
    "duration": 11,
    "start_time": "2023-05-31T13:31:32.924Z"
   },
   {
    "duration": 1169,
    "start_time": "2023-05-31T13:31:32.941Z"
   },
   {
    "duration": 18,
    "start_time": "2023-05-31T13:31:34.112Z"
   },
   {
    "duration": 11072,
    "start_time": "2023-05-31T13:31:34.133Z"
   },
   {
    "duration": 39,
    "start_time": "2023-05-31T13:31:45.207Z"
   },
   {
    "duration": 515,
    "start_time": "2023-05-31T13:31:45.249Z"
   },
   {
    "duration": 13,
    "start_time": "2023-05-31T13:31:45.767Z"
   },
   {
    "duration": 5745,
    "start_time": "2023-05-31T13:31:45.782Z"
   },
   {
    "duration": 58,
    "start_time": "2023-05-31T13:31:51.529Z"
   },
   {
    "duration": 44656,
    "start_time": "2023-05-31T13:31:51.589Z"
   },
   {
    "duration": 339,
    "start_time": "2023-05-31T13:32:36.247Z"
   },
   {
    "duration": 465,
    "start_time": "2023-05-31T13:32:36.587Z"
   },
   {
    "duration": 217,
    "start_time": "2023-05-31T13:32:37.053Z"
   },
   {
    "duration": 1394,
    "start_time": "2023-05-31T18:28:06.728Z"
   },
   {
    "duration": 121,
    "start_time": "2023-05-31T18:28:08.123Z"
   },
   {
    "duration": 16,
    "start_time": "2023-05-31T18:28:08.246Z"
   },
   {
    "duration": 42,
    "start_time": "2023-05-31T18:28:08.263Z"
   },
   {
    "duration": 1524,
    "start_time": "2023-05-31T18:28:08.306Z"
   },
   {
    "duration": 48,
    "start_time": "2023-05-31T18:28:09.832Z"
   },
   {
    "duration": 3,
    "start_time": "2023-05-31T18:28:09.882Z"
   },
   {
    "duration": 18,
    "start_time": "2023-05-31T18:28:09.887Z"
   },
   {
    "duration": 25,
    "start_time": "2023-05-31T18:28:09.906Z"
   },
   {
    "duration": 21,
    "start_time": "2023-05-31T18:28:09.934Z"
   },
   {
    "duration": 37,
    "start_time": "2023-05-31T18:28:09.957Z"
   },
   {
    "duration": 61,
    "start_time": "2023-05-31T18:28:09.996Z"
   },
   {
    "duration": 18,
    "start_time": "2023-05-31T18:28:10.059Z"
   },
   {
    "duration": 38,
    "start_time": "2023-05-31T18:28:10.078Z"
   },
   {
    "duration": 20,
    "start_time": "2023-05-31T18:28:10.118Z"
   },
   {
    "duration": 13,
    "start_time": "2023-05-31T18:28:10.139Z"
   },
   {
    "duration": 12,
    "start_time": "2023-05-31T18:28:33.879Z"
   },
   {
    "duration": 6,
    "start_time": "2023-05-31T18:28:43.118Z"
   },
   {
    "duration": 6,
    "start_time": "2023-05-31T18:29:00.357Z"
   },
   {
    "duration": 5,
    "start_time": "2023-05-31T18:29:01.978Z"
   },
   {
    "duration": 1350,
    "start_time": "2023-05-31T18:29:44.981Z"
   },
   {
    "duration": 81,
    "start_time": "2023-05-31T18:29:46.333Z"
   },
   {
    "duration": 23,
    "start_time": "2023-05-31T18:29:46.416Z"
   },
   {
    "duration": 17,
    "start_time": "2023-05-31T18:29:46.441Z"
   },
   {
    "duration": 1443,
    "start_time": "2023-05-31T18:29:46.460Z"
   },
   {
    "duration": 43,
    "start_time": "2023-05-31T18:29:47.905Z"
   },
   {
    "duration": 3,
    "start_time": "2023-05-31T18:29:47.950Z"
   },
   {
    "duration": 15,
    "start_time": "2023-05-31T18:29:47.955Z"
   },
   {
    "duration": 39,
    "start_time": "2023-05-31T18:29:47.971Z"
   },
   {
    "duration": 26,
    "start_time": "2023-05-31T18:29:48.013Z"
   },
   {
    "duration": 20,
    "start_time": "2023-05-31T18:29:48.041Z"
   },
   {
    "duration": 52,
    "start_time": "2023-05-31T18:29:48.062Z"
   },
   {
    "duration": 13,
    "start_time": "2023-05-31T18:29:48.115Z"
   },
   {
    "duration": 25,
    "start_time": "2023-05-31T18:29:48.129Z"
   },
   {
    "duration": 13,
    "start_time": "2023-05-31T18:29:48.156Z"
   },
   {
    "duration": 39,
    "start_time": "2023-05-31T18:29:48.171Z"
   },
   {
    "duration": 21,
    "start_time": "2023-05-31T18:29:48.212Z"
   },
   {
    "duration": 24,
    "start_time": "2023-05-31T18:29:48.235Z"
   },
   {
    "duration": 18,
    "start_time": "2023-05-31T18:29:48.260Z"
   },
   {
    "duration": 31,
    "start_time": "2023-05-31T18:29:48.279Z"
   },
   {
    "duration": 12,
    "start_time": "2023-05-31T18:29:48.311Z"
   },
   {
    "duration": 38,
    "start_time": "2023-05-31T18:29:48.325Z"
   },
   {
    "duration": 3085,
    "start_time": "2023-05-31T18:29:48.364Z"
   },
   {
    "duration": 25,
    "start_time": "2023-05-31T18:29:51.451Z"
   },
   {
    "duration": 20847,
    "start_time": "2023-05-31T18:29:51.478Z"
   },
   {
    "duration": 134,
    "start_time": "2023-05-31T18:30:12.327Z"
   },
   {
    "duration": 303,
    "start_time": "2023-05-31T18:30:12.462Z"
   },
   {
    "duration": 3150,
    "start_time": "2023-05-31T18:30:12.767Z"
   },
   {
    "duration": 23,
    "start_time": "2023-05-31T18:30:15.924Z"
   },
   {
    "duration": 22011,
    "start_time": "2023-05-31T18:30:15.948Z"
   },
   {
    "duration": 130,
    "start_time": "2023-05-31T18:30:37.961Z"
   },
   {
    "duration": 451,
    "start_time": "2023-05-31T18:30:38.093Z"
   },
   {
    "duration": 10,
    "start_time": "2023-05-31T18:30:38.545Z"
   },
   {
    "duration": 1027,
    "start_time": "2023-05-31T18:30:38.556Z"
   },
   {
    "duration": 12,
    "start_time": "2023-05-31T18:30:39.584Z"
   },
   {
    "duration": 9696,
    "start_time": "2023-05-31T18:30:39.597Z"
   },
   {
    "duration": 57,
    "start_time": "2023-05-31T18:30:49.294Z"
   },
   {
    "duration": 394,
    "start_time": "2023-05-31T18:30:49.353Z"
   },
   {
    "duration": 12,
    "start_time": "2023-05-31T18:30:49.749Z"
   },
   {
    "duration": 5275,
    "start_time": "2023-05-31T18:30:49.763Z"
   },
   {
    "duration": 88,
    "start_time": "2023-05-31T18:30:55.040Z"
   },
   {
    "duration": 41869,
    "start_time": "2023-05-31T18:30:55.130Z"
   },
   {
    "duration": 396,
    "start_time": "2023-05-31T18:31:37.001Z"
   },
   {
    "duration": 461,
    "start_time": "2023-05-31T18:31:37.399Z"
   },
   {
    "duration": 201,
    "start_time": "2023-05-31T18:31:37.861Z"
   },
   {
    "duration": 129,
    "start_time": "2023-05-31T18:36:46.816Z"
   },
   {
    "duration": 1274,
    "start_time": "2023-05-31T18:37:21.181Z"
   },
   {
    "duration": 76,
    "start_time": "2023-05-31T18:37:22.457Z"
   },
   {
    "duration": 48,
    "start_time": "2023-05-31T18:37:22.535Z"
   },
   {
    "duration": 97,
    "start_time": "2023-05-31T18:37:22.585Z"
   },
   {
    "duration": 1481,
    "start_time": "2023-05-31T18:37:22.684Z"
   },
   {
    "duration": 34,
    "start_time": "2023-05-31T18:37:24.166Z"
   },
   {
    "duration": 3,
    "start_time": "2023-05-31T18:37:24.202Z"
   },
   {
    "duration": 18,
    "start_time": "2023-05-31T18:37:24.206Z"
   },
   {
    "duration": 42,
    "start_time": "2023-05-31T18:37:24.226Z"
   },
   {
    "duration": 22,
    "start_time": "2023-05-31T18:37:24.270Z"
   },
   {
    "duration": 16,
    "start_time": "2023-05-31T18:37:24.294Z"
   },
   {
    "duration": 51,
    "start_time": "2023-05-31T18:37:24.311Z"
   },
   {
    "duration": 15,
    "start_time": "2023-05-31T18:37:24.363Z"
   },
   {
    "duration": 15,
    "start_time": "2023-05-31T18:37:24.381Z"
   },
   {
    "duration": 12,
    "start_time": "2023-05-31T18:37:24.397Z"
   },
   {
    "duration": 16,
    "start_time": "2023-05-31T18:37:24.411Z"
   },
   {
    "duration": 32,
    "start_time": "2023-05-31T18:37:24.428Z"
   },
   {
    "duration": 22,
    "start_time": "2023-05-31T18:37:24.461Z"
   },
   {
    "duration": 25,
    "start_time": "2023-05-31T18:37:24.484Z"
   },
   {
    "duration": 50,
    "start_time": "2023-05-31T18:37:24.510Z"
   },
   {
    "duration": 23,
    "start_time": "2023-05-31T18:37:24.561Z"
   },
   {
    "duration": 63,
    "start_time": "2023-05-31T18:37:24.586Z"
   },
   {
    "duration": 3290,
    "start_time": "2023-05-31T18:37:24.651Z"
   },
   {
    "duration": 26,
    "start_time": "2023-05-31T18:37:27.942Z"
   },
   {
    "duration": 21340,
    "start_time": "2023-05-31T18:37:27.970Z"
   },
   {
    "duration": 134,
    "start_time": "2023-05-31T18:37:49.312Z"
   },
   {
    "duration": 293,
    "start_time": "2023-05-31T18:37:49.448Z"
   },
   {
    "duration": 3059,
    "start_time": "2023-05-31T18:37:49.742Z"
   },
   {
    "duration": 27,
    "start_time": "2023-05-31T18:37:52.803Z"
   },
   {
    "duration": 21682,
    "start_time": "2023-05-31T18:37:52.832Z"
   },
   {
    "duration": 130,
    "start_time": "2023-05-31T18:38:14.515Z"
   },
   {
    "duration": 383,
    "start_time": "2023-05-31T18:38:14.647Z"
   },
   {
    "duration": 11,
    "start_time": "2023-05-31T18:38:15.031Z"
   },
   {
    "duration": 1014,
    "start_time": "2023-05-31T18:38:15.043Z"
   },
   {
    "duration": 11,
    "start_time": "2023-05-31T18:38:16.058Z"
   },
   {
    "duration": 9187,
    "start_time": "2023-05-31T18:38:16.070Z"
   },
   {
    "duration": 67,
    "start_time": "2023-05-31T18:38:25.259Z"
   },
   {
    "duration": 433,
    "start_time": "2023-05-31T18:38:25.328Z"
   },
   {
    "duration": 16,
    "start_time": "2023-05-31T18:38:25.763Z"
   },
   {
    "duration": 5220,
    "start_time": "2023-05-31T18:38:25.780Z"
   },
   {
    "duration": 90,
    "start_time": "2023-05-31T18:38:31.004Z"
   },
   {
    "duration": 40016,
    "start_time": "2023-05-31T18:38:31.096Z"
   },
   {
    "duration": 352,
    "start_time": "2023-05-31T18:39:11.113Z"
   },
   {
    "duration": 472,
    "start_time": "2023-05-31T18:39:11.467Z"
   },
   {
    "duration": 139,
    "start_time": "2023-05-31T18:39:11.941Z"
   },
   {
    "duration": 329,
    "start_time": "2023-05-31T18:42:02.571Z"
   },
   {
    "duration": 10,
    "start_time": "2023-05-31T18:45:49.646Z"
   },
   {
    "duration": 1284,
    "start_time": "2023-05-31T18:46:05.416Z"
   },
   {
    "duration": 94,
    "start_time": "2023-05-31T18:46:06.702Z"
   },
   {
    "duration": 15,
    "start_time": "2023-05-31T18:46:06.798Z"
   },
   {
    "duration": 11,
    "start_time": "2023-05-31T18:46:06.814Z"
   },
   {
    "duration": 1476,
    "start_time": "2023-05-31T18:46:06.828Z"
   },
   {
    "duration": 46,
    "start_time": "2023-05-31T18:46:08.306Z"
   },
   {
    "duration": 3,
    "start_time": "2023-05-31T18:46:08.353Z"
   },
   {
    "duration": 9,
    "start_time": "2023-05-31T18:46:08.357Z"
   },
   {
    "duration": 16,
    "start_time": "2023-05-31T18:46:08.367Z"
   },
   {
    "duration": 10,
    "start_time": "2023-05-31T18:46:08.384Z"
   },
   {
    "duration": 7,
    "start_time": "2023-05-31T18:46:08.396Z"
   },
   {
    "duration": 63,
    "start_time": "2023-05-31T18:46:08.405Z"
   },
   {
    "duration": 13,
    "start_time": "2023-05-31T18:46:08.469Z"
   },
   {
    "duration": 6,
    "start_time": "2023-05-31T18:46:08.485Z"
   },
   {
    "duration": 35,
    "start_time": "2023-05-31T18:46:08.492Z"
   },
   {
    "duration": 5,
    "start_time": "2023-05-31T18:46:08.528Z"
   },
   {
    "duration": 13,
    "start_time": "2023-05-31T18:46:08.535Z"
   },
   {
    "duration": 13,
    "start_time": "2023-05-31T18:46:08.550Z"
   },
   {
    "duration": 8,
    "start_time": "2023-05-31T18:46:08.565Z"
   },
   {
    "duration": 16,
    "start_time": "2023-05-31T18:46:08.574Z"
   },
   {
    "duration": 14,
    "start_time": "2023-05-31T18:46:08.625Z"
   },
   {
    "duration": 24,
    "start_time": "2023-05-31T18:46:08.641Z"
   },
   {
    "duration": 2814,
    "start_time": "2023-05-31T18:46:08.667Z"
   },
   {
    "duration": 23,
    "start_time": "2023-05-31T18:46:11.482Z"
   },
   {
    "duration": 18994,
    "start_time": "2023-05-31T18:46:11.507Z"
   },
   {
    "duration": 92,
    "start_time": "2023-05-31T18:46:30.503Z"
   },
   {
    "duration": 362,
    "start_time": "2023-05-31T18:46:30.597Z"
   },
   {
    "duration": 2818,
    "start_time": "2023-05-31T18:46:30.960Z"
   },
   {
    "duration": 25,
    "start_time": "2023-05-31T18:46:33.780Z"
   },
   {
    "duration": 19209,
    "start_time": "2023-05-31T18:46:33.806Z"
   },
   {
    "duration": 150,
    "start_time": "2023-05-31T18:46:53.016Z"
   },
   {
    "duration": 391,
    "start_time": "2023-05-31T18:46:53.168Z"
   },
   {
    "duration": 12,
    "start_time": "2023-05-31T18:46:53.560Z"
   },
   {
    "duration": 912,
    "start_time": "2023-05-31T18:46:53.573Z"
   },
   {
    "duration": 13,
    "start_time": "2023-05-31T18:46:54.486Z"
   },
   {
    "duration": 9131,
    "start_time": "2023-05-31T18:46:54.500Z"
   },
   {
    "duration": 105,
    "start_time": "2023-05-31T18:47:03.634Z"
   },
   {
    "duration": 442,
    "start_time": "2023-05-31T18:47:03.740Z"
   },
   {
    "duration": 12,
    "start_time": "2023-05-31T18:47:04.184Z"
   },
   {
    "duration": 4649,
    "start_time": "2023-05-31T18:47:04.197Z"
   },
   {
    "duration": 33,
    "start_time": "2023-05-31T18:47:08.849Z"
   },
   {
    "duration": 35405,
    "start_time": "2023-05-31T18:47:08.884Z"
   },
   {
    "duration": 293,
    "start_time": "2023-05-31T18:47:44.291Z"
   },
   {
    "duration": 528,
    "start_time": "2023-05-31T18:47:44.586Z"
   },
   {
    "duration": 348,
    "start_time": "2023-05-31T18:51:14.819Z"
   },
   {
    "duration": 189,
    "start_time": "2023-05-31T18:53:21.163Z"
   },
   {
    "duration": 456,
    "start_time": "2023-05-31T18:55:01.772Z"
   },
   {
    "duration": 193,
    "start_time": "2023-05-31T19:46:17.739Z"
   },
   {
    "duration": 1324,
    "start_time": "2023-05-31T19:47:43.182Z"
   },
   {
    "duration": 72,
    "start_time": "2023-05-31T19:47:44.509Z"
   },
   {
    "duration": 15,
    "start_time": "2023-05-31T19:47:44.583Z"
   },
   {
    "duration": 16,
    "start_time": "2023-05-31T19:47:44.600Z"
   },
   {
    "duration": 1615,
    "start_time": "2023-05-31T19:47:44.618Z"
   },
   {
    "duration": 39,
    "start_time": "2023-05-31T19:47:46.235Z"
   },
   {
    "duration": 4,
    "start_time": "2023-05-31T19:47:46.275Z"
   },
   {
    "duration": 17,
    "start_time": "2023-05-31T19:47:46.280Z"
   },
   {
    "duration": 35,
    "start_time": "2023-05-31T19:47:46.299Z"
   },
   {
    "duration": 24,
    "start_time": "2023-05-31T19:47:46.336Z"
   },
   {
    "duration": 19,
    "start_time": "2023-05-31T19:47:46.362Z"
   },
   {
    "duration": 58,
    "start_time": "2023-05-31T19:47:46.382Z"
   },
   {
    "duration": 13,
    "start_time": "2023-05-31T19:47:46.442Z"
   },
   {
    "duration": 29,
    "start_time": "2023-05-31T19:47:46.459Z"
   },
   {
    "duration": 25,
    "start_time": "2023-05-31T19:47:46.490Z"
   },
   {
    "duration": 13,
    "start_time": "2023-05-31T19:47:46.517Z"
   },
   {
    "duration": 32,
    "start_time": "2023-05-31T19:47:46.532Z"
   },
   {
    "duration": 27,
    "start_time": "2023-05-31T19:47:46.566Z"
   },
   {
    "duration": 9,
    "start_time": "2023-05-31T19:47:46.594Z"
   },
   {
    "duration": 29,
    "start_time": "2023-05-31T19:47:46.604Z"
   },
   {
    "duration": 17,
    "start_time": "2023-05-31T19:47:46.634Z"
   },
   {
    "duration": 47,
    "start_time": "2023-05-31T19:47:46.652Z"
   },
   {
    "duration": 2795,
    "start_time": "2023-05-31T19:47:46.701Z"
   },
   {
    "duration": 32,
    "start_time": "2023-05-31T19:47:49.498Z"
   },
   {
    "duration": 19021,
    "start_time": "2023-05-31T19:47:49.532Z"
   },
   {
    "duration": 86,
    "start_time": "2023-05-31T19:48:08.555Z"
   },
   {
    "duration": 309,
    "start_time": "2023-05-31T19:48:08.642Z"
   },
   {
    "duration": 2695,
    "start_time": "2023-05-31T19:48:08.952Z"
   },
   {
    "duration": 23,
    "start_time": "2023-05-31T19:48:11.649Z"
   },
   {
    "duration": 19205,
    "start_time": "2023-05-31T19:48:11.674Z"
   },
   {
    "duration": 153,
    "start_time": "2023-05-31T19:48:30.881Z"
   },
   {
    "duration": 376,
    "start_time": "2023-05-31T19:48:31.036Z"
   },
   {
    "duration": 18,
    "start_time": "2023-05-31T19:48:31.414Z"
   },
   {
    "duration": 944,
    "start_time": "2023-05-31T19:48:31.434Z"
   },
   {
    "duration": 11,
    "start_time": "2023-05-31T19:48:32.380Z"
   },
   {
    "duration": 9475,
    "start_time": "2023-05-31T19:48:32.393Z"
   },
   {
    "duration": 97,
    "start_time": "2023-05-31T19:48:41.869Z"
   },
   {
    "duration": 410,
    "start_time": "2023-05-31T19:48:41.967Z"
   },
   {
    "duration": 12,
    "start_time": "2023-05-31T19:48:42.379Z"
   },
   {
    "duration": 4572,
    "start_time": "2023-05-31T19:48:42.393Z"
   },
   {
    "duration": 29,
    "start_time": "2023-05-31T19:48:46.968Z"
   },
   {
    "duration": 35050,
    "start_time": "2023-05-31T19:48:46.998Z"
   },
   {
    "duration": 301,
    "start_time": "2023-05-31T19:49:22.050Z"
   },
   {
    "duration": 407,
    "start_time": "2023-05-31T19:49:22.353Z"
   },
   {
    "duration": 203,
    "start_time": "2023-05-31T19:49:22.762Z"
   },
   {
    "duration": 401,
    "start_time": "2023-05-31T19:54:05.885Z"
   },
   {
    "duration": 398,
    "start_time": "2023-05-31T20:04:01.960Z"
   },
   {
    "duration": 360,
    "start_time": "2023-05-31T20:06:45.452Z"
   },
   {
    "duration": 143,
    "start_time": "2023-05-31T20:07:07.486Z"
   },
   {
    "duration": 1358,
    "start_time": "2023-05-31T20:07:24.749Z"
   },
   {
    "duration": 72,
    "start_time": "2023-05-31T20:07:26.109Z"
   },
   {
    "duration": 15,
    "start_time": "2023-05-31T20:07:26.183Z"
   },
   {
    "duration": 11,
    "start_time": "2023-05-31T20:07:26.200Z"
   },
   {
    "duration": 1421,
    "start_time": "2023-05-31T20:07:26.212Z"
   },
   {
    "duration": 37,
    "start_time": "2023-05-31T20:07:27.635Z"
   },
   {
    "duration": 5,
    "start_time": "2023-05-31T20:07:27.673Z"
   },
   {
    "duration": 14,
    "start_time": "2023-05-31T20:07:27.680Z"
   },
   {
    "duration": 37,
    "start_time": "2023-05-31T20:07:27.695Z"
   },
   {
    "duration": 32,
    "start_time": "2023-05-31T20:07:27.734Z"
   },
   {
    "duration": 25,
    "start_time": "2023-05-31T20:07:27.767Z"
   },
   {
    "duration": 49,
    "start_time": "2023-05-31T20:07:27.794Z"
   },
   {
    "duration": 13,
    "start_time": "2023-05-31T20:07:27.845Z"
   },
   {
    "duration": 35,
    "start_time": "2023-05-31T20:07:27.859Z"
   },
   {
    "duration": 25,
    "start_time": "2023-05-31T20:07:27.896Z"
   },
   {
    "duration": 13,
    "start_time": "2023-05-31T20:07:27.922Z"
   },
   {
    "duration": 32,
    "start_time": "2023-05-31T20:07:27.936Z"
   },
   {
    "duration": 18,
    "start_time": "2023-05-31T20:07:27.970Z"
   },
   {
    "duration": 23,
    "start_time": "2023-05-31T20:07:27.989Z"
   },
   {
    "duration": 21,
    "start_time": "2023-05-31T20:07:28.013Z"
   },
   {
    "duration": 11,
    "start_time": "2023-05-31T20:07:28.036Z"
   },
   {
    "duration": 38,
    "start_time": "2023-05-31T20:07:28.048Z"
   },
   {
    "duration": 2662,
    "start_time": "2023-05-31T20:07:28.087Z"
   },
   {
    "duration": 23,
    "start_time": "2023-05-31T20:07:30.750Z"
   },
   {
    "duration": 18816,
    "start_time": "2023-05-31T20:07:30.775Z"
   },
   {
    "duration": 83,
    "start_time": "2023-05-31T20:07:49.592Z"
   },
   {
    "duration": 351,
    "start_time": "2023-05-31T20:07:49.677Z"
   },
   {
    "duration": 2555,
    "start_time": "2023-05-31T20:07:50.032Z"
   },
   {
    "duration": 25,
    "start_time": "2023-05-31T20:07:52.588Z"
   },
   {
    "duration": 18348,
    "start_time": "2023-05-31T20:07:52.624Z"
   },
   {
    "duration": 167,
    "start_time": "2023-05-31T20:08:10.974Z"
   },
   {
    "duration": 372,
    "start_time": "2023-05-31T20:08:11.143Z"
   },
   {
    "duration": 11,
    "start_time": "2023-05-31T20:08:11.525Z"
   },
   {
    "duration": 869,
    "start_time": "2023-05-31T20:08:11.537Z"
   },
   {
    "duration": 19,
    "start_time": "2023-05-31T20:08:12.408Z"
   },
   {
    "duration": 8542,
    "start_time": "2023-05-31T20:08:12.428Z"
   },
   {
    "duration": 105,
    "start_time": "2023-05-31T20:08:20.971Z"
   },
   {
    "duration": 375,
    "start_time": "2023-05-31T20:08:21.078Z"
   },
   {
    "duration": 14,
    "start_time": "2023-05-31T20:08:21.455Z"
   },
   {
    "duration": 4327,
    "start_time": "2023-05-31T20:08:21.471Z"
   },
   {
    "duration": 34,
    "start_time": "2023-05-31T20:08:25.801Z"
   },
   {
    "duration": 33939,
    "start_time": "2023-05-31T20:08:25.837Z"
   },
   {
    "duration": 296,
    "start_time": "2023-05-31T20:08:59.778Z"
   },
   {
    "duration": 498,
    "start_time": "2023-05-31T20:09:00.075Z"
   },
   {
    "duration": 453,
    "start_time": "2023-05-31T20:09:00.575Z"
   },
   {
    "duration": 154,
    "start_time": "2023-05-31T20:09:01.030Z"
   },
   {
    "duration": 1328,
    "start_time": "2023-05-31T20:17:55.193Z"
   },
   {
    "duration": 78,
    "start_time": "2023-05-31T20:17:56.523Z"
   },
   {
    "duration": 17,
    "start_time": "2023-05-31T20:17:56.603Z"
   },
   {
    "duration": 13,
    "start_time": "2023-05-31T20:17:56.623Z"
   },
   {
    "duration": 1527,
    "start_time": "2023-05-31T20:17:56.638Z"
   },
   {
    "duration": 41,
    "start_time": "2023-05-31T20:17:58.167Z"
   },
   {
    "duration": 15,
    "start_time": "2023-05-31T20:17:58.210Z"
   },
   {
    "duration": 6,
    "start_time": "2023-05-31T20:17:58.227Z"
   },
   {
    "duration": 15,
    "start_time": "2023-05-31T20:17:58.234Z"
   },
   {
    "duration": 11,
    "start_time": "2023-05-31T20:17:58.251Z"
   },
   {
    "duration": 13,
    "start_time": "2023-05-31T20:17:58.264Z"
   },
   {
    "duration": 64,
    "start_time": "2023-05-31T20:17:58.279Z"
   },
   {
    "duration": 14,
    "start_time": "2023-05-31T20:17:58.344Z"
   },
   {
    "duration": 5,
    "start_time": "2023-05-31T20:17:58.359Z"
   },
   {
    "duration": 15,
    "start_time": "2023-05-31T20:17:58.366Z"
   },
   {
    "duration": 12,
    "start_time": "2023-05-31T20:17:58.382Z"
   },
   {
    "duration": 29,
    "start_time": "2023-05-31T20:17:58.395Z"
   },
   {
    "duration": 12,
    "start_time": "2023-05-31T20:17:58.425Z"
   },
   {
    "duration": 8,
    "start_time": "2023-05-31T20:17:58.438Z"
   },
   {
    "duration": 27,
    "start_time": "2023-05-31T20:17:58.447Z"
   },
   {
    "duration": 12,
    "start_time": "2023-05-31T20:17:58.475Z"
   },
   {
    "duration": 47,
    "start_time": "2023-05-31T20:17:58.488Z"
   },
   {
    "duration": 3054,
    "start_time": "2023-05-31T20:17:58.536Z"
   },
   {
    "duration": 34,
    "start_time": "2023-05-31T20:18:01.592Z"
   },
   {
    "duration": 143589,
    "start_time": "2023-05-31T20:18:01.628Z"
   },
   {
    "duration": 212,
    "start_time": "2023-05-31T20:20:25.219Z"
   },
   {
    "duration": 314,
    "start_time": "2023-05-31T20:20:25.433Z"
   },
   {
    "duration": 2590,
    "start_time": "2023-05-31T20:20:25.750Z"
   },
   {
    "duration": 24,
    "start_time": "2023-05-31T20:20:28.341Z"
   },
   {
    "duration": 139046,
    "start_time": "2023-05-31T20:20:28.367Z"
   },
   {
    "duration": 347,
    "start_time": "2023-05-31T20:22:47.415Z"
   },
   {
    "duration": 362,
    "start_time": "2023-05-31T20:22:47.764Z"
   },
   {
    "duration": 10,
    "start_time": "2023-05-31T20:22:48.127Z"
   },
   {
    "duration": 903,
    "start_time": "2023-05-31T20:22:48.139Z"
   },
   {
    "duration": 13,
    "start_time": "2023-05-31T20:22:49.043Z"
   },
   {
    "duration": 61239,
    "start_time": "2023-05-31T20:22:49.057Z"
   },
   {
    "duration": 34,
    "start_time": "2023-05-31T20:23:50.297Z"
   },
   {
    "duration": 418,
    "start_time": "2023-05-31T20:23:50.333Z"
   },
   {
    "duration": 11,
    "start_time": "2023-05-31T20:23:50.753Z"
   },
   {
    "duration": 4417,
    "start_time": "2023-05-31T20:23:50.765Z"
   },
   {
    "duration": 42,
    "start_time": "2023-05-31T20:23:55.184Z"
   },
   {
    "duration": 266441,
    "start_time": "2023-05-31T20:23:55.228Z"
   },
   {
    "duration": 835,
    "start_time": "2023-05-31T20:28:21.671Z"
   },
   {
    "duration": 447,
    "start_time": "2023-05-31T20:28:22.508Z"
   },
   {
    "duration": 356,
    "start_time": "2023-05-31T20:29:40.292Z"
   },
   {
    "duration": 1656,
    "start_time": "2023-06-01T03:45:28.917Z"
   },
   {
    "duration": 123,
    "start_time": "2023-06-01T03:45:30.575Z"
   },
   {
    "duration": 19,
    "start_time": "2023-06-01T03:45:30.700Z"
   },
   {
    "duration": 33,
    "start_time": "2023-06-01T03:45:30.721Z"
   },
   {
    "duration": 1712,
    "start_time": "2023-06-01T03:45:30.757Z"
   },
   {
    "duration": 43,
    "start_time": "2023-06-01T03:45:32.471Z"
   },
   {
    "duration": 11,
    "start_time": "2023-06-01T03:45:32.517Z"
   },
   {
    "duration": 44,
    "start_time": "2023-06-01T03:45:32.542Z"
   },
   {
    "duration": 47,
    "start_time": "2023-06-01T03:45:32.588Z"
   },
   {
    "duration": 38,
    "start_time": "2023-06-01T03:45:32.639Z"
   },
   {
    "duration": 20,
    "start_time": "2023-06-01T03:45:32.679Z"
   },
   {
    "duration": 76,
    "start_time": "2023-06-01T03:45:32.701Z"
   },
   {
    "duration": 16,
    "start_time": "2023-06-01T03:45:32.780Z"
   },
   {
    "duration": 7,
    "start_time": "2023-06-01T03:45:32.799Z"
   },
   {
    "duration": 14,
    "start_time": "2023-06-01T03:45:32.807Z"
   },
   {
    "duration": 19,
    "start_time": "2023-06-01T03:45:32.822Z"
   },
   {
    "duration": 27,
    "start_time": "2023-06-01T03:45:32.844Z"
   },
   {
    "duration": 22,
    "start_time": "2023-06-01T03:45:32.872Z"
   },
   {
    "duration": 9,
    "start_time": "2023-06-01T03:45:32.896Z"
   },
   {
    "duration": 45,
    "start_time": "2023-06-01T03:45:32.906Z"
   },
   {
    "duration": 13,
    "start_time": "2023-06-01T03:45:32.953Z"
   },
   {
    "duration": 40,
    "start_time": "2023-06-01T03:45:32.968Z"
   },
   {
    "duration": 2850,
    "start_time": "2023-06-01T03:45:33.009Z"
   },
   {
    "duration": 25,
    "start_time": "2023-06-01T03:45:35.861Z"
   },
   {
    "duration": 20482,
    "start_time": "2023-06-01T03:45:35.888Z"
   },
   {
    "duration": 91,
    "start_time": "2023-06-01T03:45:56.372Z"
   },
   {
    "duration": 318,
    "start_time": "2023-06-01T03:45:56.464Z"
   },
   {
    "duration": 2922,
    "start_time": "2023-06-01T03:45:56.785Z"
   },
   {
    "duration": 37,
    "start_time": "2023-06-01T03:45:59.709Z"
   },
   {
    "duration": 21245,
    "start_time": "2023-06-01T03:45:59.748Z"
   },
   {
    "duration": 161,
    "start_time": "2023-06-01T03:46:20.995Z"
   },
   {
    "duration": 398,
    "start_time": "2023-06-01T03:46:21.158Z"
   },
   {
    "duration": 13,
    "start_time": "2023-06-01T03:46:21.558Z"
   },
   {
    "duration": 992,
    "start_time": "2023-06-01T03:46:21.573Z"
   },
   {
    "duration": 15,
    "start_time": "2023-06-01T03:46:22.567Z"
   },
   {
    "duration": 9888,
    "start_time": "2023-06-01T03:46:22.583Z"
   },
   {
    "duration": 100,
    "start_time": "2023-06-01T03:46:32.472Z"
   },
   {
    "duration": 433,
    "start_time": "2023-06-01T03:46:32.574Z"
   },
   {
    "duration": 14,
    "start_time": "2023-06-01T03:46:33.009Z"
   },
   {
    "duration": 4631,
    "start_time": "2023-06-01T03:46:33.025Z"
   },
   {
    "duration": 32,
    "start_time": "2023-06-01T03:46:37.658Z"
   },
   {
    "duration": 38507,
    "start_time": "2023-06-01T03:46:37.692Z"
   },
   {
    "duration": 334,
    "start_time": "2023-06-01T03:47:16.201Z"
   },
   {
    "duration": 460,
    "start_time": "2023-06-01T03:47:16.541Z"
   },
   {
    "duration": 146,
    "start_time": "2023-06-01T03:50:41.676Z"
   },
   {
    "duration": 173,
    "start_time": "2023-06-01T04:02:42.495Z"
   },
   {
    "duration": 190,
    "start_time": "2023-06-01T04:03:49.896Z"
   },
   {
    "duration": 177,
    "start_time": "2023-06-01T04:15:40.929Z"
   },
   {
    "duration": 380,
    "start_time": "2023-06-01T04:20:01.284Z"
   },
   {
    "duration": 187,
    "start_time": "2023-06-01T04:20:16.578Z"
   },
   {
    "duration": 180,
    "start_time": "2023-06-01T04:21:05.535Z"
   },
   {
    "duration": 1463,
    "start_time": "2023-06-01T04:30:23.645Z"
   },
   {
    "duration": 73,
    "start_time": "2023-06-01T04:30:25.110Z"
   },
   {
    "duration": 18,
    "start_time": "2023-06-01T04:30:25.185Z"
   },
   {
    "duration": 12,
    "start_time": "2023-06-01T04:30:25.205Z"
   },
   {
    "duration": 1617,
    "start_time": "2023-06-01T04:30:25.219Z"
   },
   {
    "duration": 41,
    "start_time": "2023-06-01T04:30:26.841Z"
   },
   {
    "duration": 3,
    "start_time": "2023-06-01T04:30:26.883Z"
   },
   {
    "duration": 5,
    "start_time": "2023-06-01T04:30:26.888Z"
   },
   {
    "duration": 14,
    "start_time": "2023-06-01T04:30:26.895Z"
   },
   {
    "duration": 60,
    "start_time": "2023-06-01T04:30:26.911Z"
   },
   {
    "duration": 11,
    "start_time": "2023-06-01T04:30:26.973Z"
   },
   {
    "duration": 50,
    "start_time": "2023-06-01T04:30:26.986Z"
   },
   {
    "duration": 14,
    "start_time": "2023-06-01T04:30:27.038Z"
   },
   {
    "duration": 10,
    "start_time": "2023-06-01T04:30:27.054Z"
   },
   {
    "duration": 5,
    "start_time": "2023-06-01T04:30:27.066Z"
   },
   {
    "duration": 9,
    "start_time": "2023-06-01T04:30:27.073Z"
   },
   {
    "duration": 15,
    "start_time": "2023-06-01T04:30:27.084Z"
   },
   {
    "duration": 14,
    "start_time": "2023-06-01T04:30:27.101Z"
   },
   {
    "duration": 9,
    "start_time": "2023-06-01T04:30:27.142Z"
   },
   {
    "duration": 25,
    "start_time": "2023-06-01T04:30:27.152Z"
   },
   {
    "duration": 13,
    "start_time": "2023-06-01T04:30:27.178Z"
   },
   {
    "duration": 53,
    "start_time": "2023-06-01T04:30:27.193Z"
   },
   {
    "duration": 2838,
    "start_time": "2023-06-01T04:30:27.248Z"
   },
   {
    "duration": 28,
    "start_time": "2023-06-01T04:30:30.088Z"
   },
   {
    "duration": 20153,
    "start_time": "2023-06-01T04:30:30.117Z"
   },
   {
    "duration": 86,
    "start_time": "2023-06-01T04:30:50.272Z"
   },
   {
    "duration": 422,
    "start_time": "2023-06-01T04:30:50.359Z"
   },
   {
    "duration": 2726,
    "start_time": "2023-06-01T04:30:50.785Z"
   },
   {
    "duration": 33,
    "start_time": "2023-06-01T04:30:53.512Z"
   },
   {
    "duration": 20362,
    "start_time": "2023-06-01T04:30:53.549Z"
   },
   {
    "duration": 167,
    "start_time": "2023-06-01T04:31:13.913Z"
   },
   {
    "duration": 447,
    "start_time": "2023-06-01T04:31:14.081Z"
   },
   {
    "duration": 19,
    "start_time": "2023-06-01T04:31:14.530Z"
   },
   {
    "duration": 980,
    "start_time": "2023-06-01T04:31:14.550Z"
   },
   {
    "duration": 22,
    "start_time": "2023-06-01T04:31:15.532Z"
   },
   {
    "duration": 9449,
    "start_time": "2023-06-01T04:31:15.556Z"
   },
   {
    "duration": 99,
    "start_time": "2023-06-01T04:31:25.007Z"
   },
   {
    "duration": 480,
    "start_time": "2023-06-01T04:31:25.107Z"
   },
   {
    "duration": 12,
    "start_time": "2023-06-01T04:31:25.589Z"
   },
   {
    "duration": 4604,
    "start_time": "2023-06-01T04:31:25.603Z"
   },
   {
    "duration": 39,
    "start_time": "2023-06-01T04:31:30.209Z"
   },
   {
    "duration": 37694,
    "start_time": "2023-06-01T04:31:30.250Z"
   },
   {
    "duration": 352,
    "start_time": "2023-06-01T04:32:07.946Z"
   },
   {
    "duration": 484,
    "start_time": "2023-06-01T04:32:08.300Z"
   },
   {
    "duration": 197,
    "start_time": "2023-06-01T04:32:08.786Z"
   },
   {
    "duration": 7,
    "start_time": "2023-06-01T04:32:08.984Z"
   },
   {
    "duration": 7,
    "start_time": "2023-06-01T04:38:15.666Z"
   },
   {
    "duration": 7,
    "start_time": "2023-06-01T04:38:33.733Z"
   },
   {
    "duration": 1427,
    "start_time": "2023-06-01T04:39:01.457Z"
   },
   {
    "duration": 80,
    "start_time": "2023-06-01T04:39:02.886Z"
   },
   {
    "duration": 17,
    "start_time": "2023-06-01T04:39:02.968Z"
   },
   {
    "duration": 190,
    "start_time": "2023-06-01T04:39:02.987Z"
   },
   {
    "duration": 1599,
    "start_time": "2023-06-01T04:39:03.179Z"
   },
   {
    "duration": 41,
    "start_time": "2023-06-01T04:39:04.779Z"
   },
   {
    "duration": 20,
    "start_time": "2023-06-01T04:39:04.822Z"
   },
   {
    "duration": 8,
    "start_time": "2023-06-01T04:39:04.844Z"
   },
   {
    "duration": 14,
    "start_time": "2023-06-01T04:39:04.854Z"
   },
   {
    "duration": 13,
    "start_time": "2023-06-01T04:39:04.870Z"
   },
   {
    "duration": 13,
    "start_time": "2023-06-01T04:39:04.884Z"
   },
   {
    "duration": 67,
    "start_time": "2023-06-01T04:39:04.899Z"
   },
   {
    "duration": 14,
    "start_time": "2023-06-01T04:39:04.969Z"
   },
   {
    "duration": 10,
    "start_time": "2023-06-01T04:39:04.986Z"
   },
   {
    "duration": 10,
    "start_time": "2023-06-01T04:39:04.997Z"
   },
   {
    "duration": 17,
    "start_time": "2023-06-01T04:39:05.008Z"
   },
   {
    "duration": 36,
    "start_time": "2023-06-01T04:39:05.027Z"
   },
   {
    "duration": 17,
    "start_time": "2023-06-01T04:39:05.065Z"
   },
   {
    "duration": 18,
    "start_time": "2023-06-01T04:39:05.083Z"
   },
   {
    "duration": 23,
    "start_time": "2023-06-01T04:39:05.103Z"
   },
   {
    "duration": 13,
    "start_time": "2023-06-01T04:39:05.128Z"
   },
   {
    "duration": 32,
    "start_time": "2023-06-01T04:39:05.142Z"
   },
   {
    "duration": 2812,
    "start_time": "2023-06-01T04:39:05.176Z"
   },
   {
    "duration": 26,
    "start_time": "2023-06-01T04:39:07.990Z"
   },
   {
    "duration": 20290,
    "start_time": "2023-06-01T04:39:08.018Z"
   },
   {
    "duration": 113,
    "start_time": "2023-06-01T04:39:28.311Z"
   },
   {
    "duration": 355,
    "start_time": "2023-06-01T04:39:28.425Z"
   },
   {
    "duration": 2805,
    "start_time": "2023-06-01T04:39:28.781Z"
   },
   {
    "duration": 25,
    "start_time": "2023-06-01T04:39:31.587Z"
   },
   {
    "duration": 20351,
    "start_time": "2023-06-01T04:39:31.614Z"
   },
   {
    "duration": 154,
    "start_time": "2023-06-01T04:39:51.966Z"
   },
   {
    "duration": 402,
    "start_time": "2023-06-01T04:39:52.122Z"
   },
   {
    "duration": 17,
    "start_time": "2023-06-01T04:39:52.526Z"
   },
   {
    "duration": 962,
    "start_time": "2023-06-01T04:39:52.544Z"
   },
   {
    "duration": 14,
    "start_time": "2023-06-01T04:39:53.508Z"
   },
   {
    "duration": 9536,
    "start_time": "2023-06-01T04:39:53.524Z"
   },
   {
    "duration": 101,
    "start_time": "2023-06-01T04:40:03.062Z"
   },
   {
    "duration": 440,
    "start_time": "2023-06-01T04:40:03.165Z"
   },
   {
    "duration": 13,
    "start_time": "2023-06-01T04:40:03.606Z"
   },
   {
    "duration": 4643,
    "start_time": "2023-06-01T04:40:03.621Z"
   },
   {
    "duration": 39,
    "start_time": "2023-06-01T04:40:08.268Z"
   },
   {
    "duration": 37026,
    "start_time": "2023-06-01T04:40:08.309Z"
   },
   {
    "duration": 326,
    "start_time": "2023-06-01T04:40:45.341Z"
   },
   {
    "duration": 424,
    "start_time": "2023-06-01T04:40:45.669Z"
   },
   {
    "duration": 189,
    "start_time": "2023-06-01T04:40:46.095Z"
   },
   {
    "duration": 1498,
    "start_time": "2023-06-01T04:59:22.932Z"
   },
   {
    "duration": 88,
    "start_time": "2023-06-01T04:59:24.431Z"
   },
   {
    "duration": 18,
    "start_time": "2023-06-01T04:59:24.522Z"
   },
   {
    "duration": 13,
    "start_time": "2023-06-01T04:59:24.542Z"
   },
   {
    "duration": 1625,
    "start_time": "2023-06-01T04:59:24.556Z"
   },
   {
    "duration": 41,
    "start_time": "2023-06-01T04:59:26.183Z"
   },
   {
    "duration": 17,
    "start_time": "2023-06-01T04:59:26.226Z"
   },
   {
    "duration": 5,
    "start_time": "2023-06-01T04:59:26.245Z"
   },
   {
    "duration": 15,
    "start_time": "2023-06-01T04:59:26.253Z"
   },
   {
    "duration": 14,
    "start_time": "2023-06-01T04:59:26.269Z"
   },
   {
    "duration": 9,
    "start_time": "2023-06-01T04:59:26.285Z"
   },
   {
    "duration": 79,
    "start_time": "2023-06-01T04:59:26.296Z"
   },
   {
    "duration": 16,
    "start_time": "2023-06-01T04:59:26.377Z"
   },
   {
    "duration": 11,
    "start_time": "2023-06-01T04:59:26.395Z"
   },
   {
    "duration": 8,
    "start_time": "2023-06-01T04:59:26.408Z"
   },
   {
    "duration": 24,
    "start_time": "2023-06-01T04:59:26.418Z"
   },
   {
    "duration": 13,
    "start_time": "2023-06-01T04:59:26.444Z"
   },
   {
    "duration": 14,
    "start_time": "2023-06-01T04:59:26.459Z"
   },
   {
    "duration": 8,
    "start_time": "2023-06-01T04:59:26.475Z"
   },
   {
    "duration": 58,
    "start_time": "2023-06-01T04:59:26.485Z"
   },
   {
    "duration": 18,
    "start_time": "2023-06-01T04:59:26.545Z"
   },
   {
    "duration": 44,
    "start_time": "2023-06-01T04:59:26.565Z"
   },
   {
    "duration": 2908,
    "start_time": "2023-06-01T04:59:26.611Z"
   },
   {
    "duration": 29,
    "start_time": "2023-06-01T04:59:29.521Z"
   },
   {
    "duration": 20407,
    "start_time": "2023-06-01T04:59:29.552Z"
   },
   {
    "duration": 101,
    "start_time": "2023-06-01T04:59:49.961Z"
   },
   {
    "duration": 332,
    "start_time": "2023-06-01T04:59:50.067Z"
   },
   {
    "duration": 2872,
    "start_time": "2023-06-01T04:59:50.401Z"
   },
   {
    "duration": 26,
    "start_time": "2023-06-01T04:59:53.275Z"
   },
   {
    "duration": 20545,
    "start_time": "2023-06-01T04:59:53.303Z"
   },
   {
    "duration": 153,
    "start_time": "2023-06-01T05:00:13.849Z"
   },
   {
    "duration": 417,
    "start_time": "2023-06-01T05:00:14.004Z"
   },
   {
    "duration": 22,
    "start_time": "2023-06-01T05:00:14.422Z"
   },
   {
    "duration": 974,
    "start_time": "2023-06-01T05:00:14.445Z"
   },
   {
    "duration": 21,
    "start_time": "2023-06-01T05:00:15.421Z"
   },
   {
    "duration": 9496,
    "start_time": "2023-06-01T05:00:15.443Z"
   },
   {
    "duration": 90,
    "start_time": "2023-06-01T05:00:24.942Z"
   },
   {
    "duration": 461,
    "start_time": "2023-06-01T05:00:25.042Z"
   },
   {
    "duration": 15,
    "start_time": "2023-06-01T05:00:25.505Z"
   },
   {
    "duration": 4550,
    "start_time": "2023-06-01T05:00:25.522Z"
   },
   {
    "duration": 35,
    "start_time": "2023-06-01T05:00:30.074Z"
   },
   {
    "duration": 37079,
    "start_time": "2023-06-01T05:00:30.110Z"
   },
   {
    "duration": 326,
    "start_time": "2023-06-01T05:01:07.191Z"
   },
   {
    "duration": 472,
    "start_time": "2023-06-01T05:01:07.519Z"
   },
   {
    "duration": 202,
    "start_time": "2023-06-01T05:01:07.993Z"
   },
   {
    "duration": 1635,
    "start_time": "2023-06-01T07:22:32.801Z"
   },
   {
    "duration": 200,
    "start_time": "2023-06-01T07:22:34.438Z"
   },
   {
    "duration": 18,
    "start_time": "2023-06-01T07:22:34.640Z"
   },
   {
    "duration": 22,
    "start_time": "2023-06-01T07:22:34.661Z"
   },
   {
    "duration": 1675,
    "start_time": "2023-06-01T07:22:34.684Z"
   },
   {
    "duration": 47,
    "start_time": "2023-06-01T07:22:36.361Z"
   },
   {
    "duration": 3,
    "start_time": "2023-06-01T07:22:36.409Z"
   },
   {
    "duration": 6,
    "start_time": "2023-06-01T07:22:36.414Z"
   },
   {
    "duration": 13,
    "start_time": "2023-06-01T07:22:36.422Z"
   },
   {
    "duration": 13,
    "start_time": "2023-06-01T07:22:36.437Z"
   },
   {
    "duration": 31,
    "start_time": "2023-06-01T07:22:36.452Z"
   },
   {
    "duration": 52,
    "start_time": "2023-06-01T07:22:36.488Z"
   },
   {
    "duration": 14,
    "start_time": "2023-06-01T07:22:36.542Z"
   },
   {
    "duration": 27,
    "start_time": "2023-06-01T07:22:36.558Z"
   },
   {
    "duration": 7,
    "start_time": "2023-06-01T07:22:36.590Z"
   },
   {
    "duration": 22,
    "start_time": "2023-06-01T07:22:36.598Z"
   },
   {
    "duration": 15,
    "start_time": "2023-06-01T07:22:36.621Z"
   },
   {
    "duration": 14,
    "start_time": "2023-06-01T07:22:36.637Z"
   },
   {
    "duration": 118,
    "start_time": "2023-06-01T07:22:36.652Z"
   },
   {
    "duration": 0,
    "start_time": "2023-06-01T07:22:36.771Z"
   },
   {
    "duration": 0,
    "start_time": "2023-06-01T07:22:36.773Z"
   },
   {
    "duration": 0,
    "start_time": "2023-06-01T07:22:36.775Z"
   },
   {
    "duration": 0,
    "start_time": "2023-06-01T07:22:36.775Z"
   },
   {
    "duration": 0,
    "start_time": "2023-06-01T07:22:36.776Z"
   },
   {
    "duration": 0,
    "start_time": "2023-06-01T07:22:36.776Z"
   },
   {
    "duration": 0,
    "start_time": "2023-06-01T07:22:36.784Z"
   },
   {
    "duration": 1630,
    "start_time": "2023-06-01T07:23:46.090Z"
   },
   {
    "duration": 227,
    "start_time": "2023-06-01T07:23:47.722Z"
   },
   {
    "duration": 16,
    "start_time": "2023-06-01T07:23:47.950Z"
   },
   {
    "duration": 18,
    "start_time": "2023-06-01T07:23:47.967Z"
   },
   {
    "duration": 1584,
    "start_time": "2023-06-01T07:23:47.988Z"
   },
   {
    "duration": 42,
    "start_time": "2023-06-01T07:23:49.575Z"
   },
   {
    "duration": 3,
    "start_time": "2023-06-01T07:23:49.618Z"
   },
   {
    "duration": 10,
    "start_time": "2023-06-01T07:23:49.622Z"
   },
   {
    "duration": 13,
    "start_time": "2023-06-01T07:23:49.633Z"
   },
   {
    "duration": 40,
    "start_time": "2023-06-01T07:23:49.648Z"
   },
   {
    "duration": 7,
    "start_time": "2023-06-01T07:23:49.690Z"
   },
   {
    "duration": 48,
    "start_time": "2023-06-01T07:23:49.699Z"
   },
   {
    "duration": 13,
    "start_time": "2023-06-01T07:23:49.748Z"
   },
   {
    "duration": 7,
    "start_time": "2023-06-01T07:23:49.789Z"
   },
   {
    "duration": 7,
    "start_time": "2023-06-01T07:23:49.797Z"
   },
   {
    "duration": 8,
    "start_time": "2023-06-01T07:23:49.805Z"
   },
   {
    "duration": 13,
    "start_time": "2023-06-01T07:23:49.814Z"
   },
   {
    "duration": 12,
    "start_time": "2023-06-01T07:23:49.829Z"
   },
   {
    "duration": 44,
    "start_time": "2023-06-01T07:23:49.843Z"
   },
   {
    "duration": 31,
    "start_time": "2023-06-01T07:23:49.889Z"
   },
   {
    "duration": 32,
    "start_time": "2023-06-01T07:23:49.922Z"
   },
   {
    "duration": 2906,
    "start_time": "2023-06-01T07:23:49.955Z"
   },
   {
    "duration": 33,
    "start_time": "2023-06-01T07:23:52.863Z"
   },
   {
    "duration": 20686,
    "start_time": "2023-06-01T07:23:52.899Z"
   },
   {
    "duration": 192,
    "start_time": "2023-06-01T07:24:13.590Z"
   },
   {
    "duration": 370,
    "start_time": "2023-06-01T07:24:13.785Z"
   },
   {
    "duration": 121,
    "start_time": "2023-06-01T07:38:57.212Z"
   },
   {
    "duration": 126,
    "start_time": "2023-06-01T07:40:39.082Z"
   },
   {
    "duration": 6,
    "start_time": "2023-06-01T07:41:04.886Z"
   },
   {
    "duration": 6,
    "start_time": "2023-06-01T08:30:39.551Z"
   },
   {
    "duration": 6,
    "start_time": "2023-06-01T08:30:41.486Z"
   },
   {
    "duration": 1396,
    "start_time": "2023-06-01T08:35:33.254Z"
   },
   {
    "duration": 71,
    "start_time": "2023-06-01T08:35:34.652Z"
   },
   {
    "duration": 17,
    "start_time": "2023-06-01T08:35:34.725Z"
   },
   {
    "duration": 15,
    "start_time": "2023-06-01T08:35:34.744Z"
   },
   {
    "duration": 1562,
    "start_time": "2023-06-01T08:35:34.761Z"
   },
   {
    "duration": 39,
    "start_time": "2023-06-01T08:35:36.325Z"
   },
   {
    "duration": 10,
    "start_time": "2023-06-01T08:35:36.365Z"
   },
   {
    "duration": 14,
    "start_time": "2023-06-01T08:35:36.382Z"
   },
   {
    "duration": 20,
    "start_time": "2023-06-01T08:35:36.397Z"
   },
   {
    "duration": 17,
    "start_time": "2023-06-01T08:35:36.418Z"
   },
   {
    "duration": 15,
    "start_time": "2023-06-01T08:35:36.437Z"
   },
   {
    "duration": 56,
    "start_time": "2023-06-01T08:35:36.455Z"
   },
   {
    "duration": 13,
    "start_time": "2023-06-01T08:35:36.512Z"
   },
   {
    "duration": 13,
    "start_time": "2023-06-01T08:35:36.528Z"
   },
   {
    "duration": 11,
    "start_time": "2023-06-01T08:35:36.542Z"
   },
   {
    "duration": 19,
    "start_time": "2023-06-01T08:35:36.554Z"
   },
   {
    "duration": 32,
    "start_time": "2023-06-01T08:35:36.576Z"
   },
   {
    "duration": 12,
    "start_time": "2023-06-01T08:35:36.609Z"
   },
   {
    "duration": 11,
    "start_time": "2023-06-01T08:35:36.622Z"
   },
   {
    "duration": 32,
    "start_time": "2023-06-01T08:35:36.634Z"
   },
   {
    "duration": 46,
    "start_time": "2023-06-01T08:35:36.667Z"
   },
   {
    "duration": 2883,
    "start_time": "2023-06-01T08:35:36.715Z"
   },
   {
    "duration": 23,
    "start_time": "2023-06-01T08:35:39.599Z"
   },
   {
    "duration": 20701,
    "start_time": "2023-06-01T08:35:39.624Z"
   },
   {
    "duration": 199,
    "start_time": "2023-06-01T08:36:00.327Z"
   },
   {
    "duration": 367,
    "start_time": "2023-06-01T08:36:00.529Z"
   },
   {
    "duration": 139,
    "start_time": "2023-06-01T08:36:00.898Z"
   },
   {
    "duration": 6,
    "start_time": "2023-06-01T08:36:01.040Z"
   },
   {
    "duration": 37,
    "start_time": "2023-06-01T08:36:01.048Z"
   },
   {
    "duration": 47,
    "start_time": "2023-06-01T08:36:01.087Z"
   },
   {
    "duration": 2885,
    "start_time": "2023-06-01T08:36:01.135Z"
   },
   {
    "duration": 24,
    "start_time": "2023-06-01T08:36:04.022Z"
   },
   {
    "duration": 20812,
    "start_time": "2023-06-01T08:36:04.048Z"
   },
   {
    "duration": 180,
    "start_time": "2023-06-01T08:36:24.862Z"
   },
   {
    "duration": 427,
    "start_time": "2023-06-01T08:36:25.044Z"
   },
   {
    "duration": 19,
    "start_time": "2023-06-01T08:36:25.474Z"
   },
   {
    "duration": 1450,
    "start_time": "2023-06-01T08:36:25.495Z"
   },
   {
    "duration": 15,
    "start_time": "2023-06-01T08:36:26.947Z"
   },
   {
    "duration": 12144,
    "start_time": "2023-06-01T08:36:26.964Z"
   },
   {
    "duration": 93,
    "start_time": "2023-06-01T08:36:39.110Z"
   },
   {
    "duration": 536,
    "start_time": "2023-06-01T08:36:39.207Z"
   },
   {
    "duration": 12,
    "start_time": "2023-06-01T08:36:39.745Z"
   },
   {
    "duration": 3594,
    "start_time": "2023-06-01T08:36:39.758Z"
   },
   {
    "duration": 39,
    "start_time": "2023-06-01T08:36:43.353Z"
   },
   {
    "duration": 28010,
    "start_time": "2023-06-01T08:36:43.394Z"
   },
   {
    "duration": 284,
    "start_time": "2023-06-01T08:37:11.406Z"
   },
   {
    "duration": 456,
    "start_time": "2023-06-01T08:37:11.692Z"
   },
   {
    "duration": 191,
    "start_time": "2023-06-01T08:37:12.150Z"
   },
   {
    "duration": 204,
    "start_time": "2023-06-01T08:38:52.524Z"
   }
  ],
  "kernelspec": {
   "display_name": "Python 3 (ipykernel)",
   "language": "python",
   "name": "python3"
  },
  "language_info": {
   "codemirror_mode": {
    "name": "ipython",
    "version": 3
   },
   "file_extension": ".py",
   "mimetype": "text/x-python",
   "name": "python",
   "nbconvert_exporter": "python",
   "pygments_lexer": "ipython3",
   "version": "3.11.2"
  },
  "toc": {
   "base_numbering": 1,
   "nav_menu": {},
   "number_sections": true,
   "sideBar": true,
   "skip_h1_title": true,
   "title_cell": "Содержание",
   "title_sidebar": "Contents",
   "toc_cell": true,
   "toc_position": {
    "height": "calc(100% - 180px)",
    "left": "10px",
    "top": "150px",
    "width": "243.316px"
   },
   "toc_section_display": true,
   "toc_window_display": true
  }
 },
 "nbformat": 4,
 "nbformat_minor": 4
}
