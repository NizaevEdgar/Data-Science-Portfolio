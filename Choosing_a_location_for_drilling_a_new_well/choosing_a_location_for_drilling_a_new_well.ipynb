{
 "cells": [
  {
   "cell_type": "markdown",
   "metadata": {
    "toc": true
   },
   "source": [
    "<h1>Содержание<span class=\"tocSkip\"></span></h1>\n",
    "<div class=\"toc\"><ul class=\"toc-item\"><li><span><a href=\"#Загрузка-и-подготовка-данных\" data-toc-modified-id=\"Загрузка-и-подготовка-данных-1\"><span class=\"toc-item-num\">1&nbsp;&nbsp;</span>Загрузка и подготовка данных</a></span><ul class=\"toc-item\"><li><span><a href=\"#Считаем-данные-из-csv-файлов-и-сохраним-в-переменные.\" data-toc-modified-id=\"Считаем-данные-из-csv-файлов-и-сохраним-в-переменные.-1.1\"><span class=\"toc-item-num\">1.1&nbsp;&nbsp;</span>Считаем данные из csv-файлов и сохраним в переменные.</a></span></li><li><span><a href=\"#Выведем-первые-5-строчек-и-общую-информацию-датафреймов-на-экран.\" data-toc-modified-id=\"Выведем-первые-5-строчек-и-общую-информацию-датафреймов-на-экран.-1.2\"><span class=\"toc-item-num\">1.2&nbsp;&nbsp;</span>Выведем первые 5 строчек и общую информацию датафреймов на экран.</a></span></li><li><span><a href=\"#Построим-гистограммы-для-числовых-столбцов.\" data-toc-modified-id=\"Построим-гистограммы-для-числовых-столбцов.-1.3\"><span class=\"toc-item-num\">1.3&nbsp;&nbsp;</span>Построим гистограммы для числовых столбцов.</a></span></li></ul></li><li><span><a href=\"#Обучение-и-проверка-модели\" data-toc-modified-id=\"Обучение-и-проверка-модели-2\"><span class=\"toc-item-num\">2&nbsp;&nbsp;</span>Обучение и проверка модели</a></span><ul class=\"toc-item\"><li><span><a href=\"#Удалим-столбцы,-которые-не-будут-использоваться-при-обучении-модели.\" data-toc-modified-id=\"Удалим-столбцы,-которые-не-будут-использоваться-при-обучении-модели.-2.1\"><span class=\"toc-item-num\">2.1&nbsp;&nbsp;</span>Удалим столбцы, которые не будут использоваться при обучении модели.</a></span></li><li><span><a href=\"#Разделим-исходные-данные-на-обучающую-и-валидационную-выборки.\" data-toc-modified-id=\"Разделим-исходные-данные-на-обучающую-и-валидационную-выборки.-2.2\"><span class=\"toc-item-num\">2.2&nbsp;&nbsp;</span>Разделим исходные данные на обучающую и валидационную выборки.</a></span></li><li><span><a href=\"#Обучим-модель-и-сделаем-предсказания-на-валидационной-выборке.\" data-toc-modified-id=\"Обучим-модель-и-сделаем-предсказания-на-валидационной-выборке.-2.3\"><span class=\"toc-item-num\">2.3&nbsp;&nbsp;</span>Обучим модель и сделаем предсказания на валидационной выборке.</a></span></li></ul></li><li><span><a href=\"#Подготовка-к-расчёту-прибыли\" data-toc-modified-id=\"Подготовка-к-расчёту-прибыли-3\"><span class=\"toc-item-num\">3&nbsp;&nbsp;</span>Подготовка к расчёту прибыли</a></span><ul class=\"toc-item\"><li><span><a href=\"#Все-ключевые-значения-для-расчётов-сохраним-в-отдельных-переменных.\" data-toc-modified-id=\"Все-ключевые-значения-для-расчётов-сохраним-в-отдельных-переменных.-3.1\"><span class=\"toc-item-num\">3.1&nbsp;&nbsp;</span>Все ключевые значения для расчётов сохраним в отдельных переменных.</a></span></li><li><span><a href=\"#Расчет-достаточного-объёма-сырья-для-безубыточной-разработки-новой-скважины.\" data-toc-modified-id=\"Расчет-достаточного-объёма-сырья-для-безубыточной-разработки-новой-скважины.-3.2\"><span class=\"toc-item-num\">3.2&nbsp;&nbsp;</span>Расчет достаточного объёма сырья для безубыточной разработки новой скважины.</a></span></li></ul></li><li><span><a href=\"#Расчёт-прибыли-и-рисков\" data-toc-modified-id=\"Расчёт-прибыли-и-рисков-4\"><span class=\"toc-item-num\">4&nbsp;&nbsp;</span>Расчёт прибыли и рисков</a></span><ul class=\"toc-item\"><li><span><a href=\"#Напишем-функцию-для-расчёта-прибыли-и-рисков-по-выбранным-скважинам-и-предсказаниям-модели.\" data-toc-modified-id=\"Напишем-функцию-для-расчёта-прибыли-и-рисков-по-выбранным-скважинам-и-предсказаниям-модели.-4.1\"><span class=\"toc-item-num\">4.1&nbsp;&nbsp;</span>Напишем функцию для расчёта прибыли и рисков по выбранным скважинам и предсказаниям модели.</a></span></li></ul></li><li><span><a href=\"#Общий-вывод\" data-toc-modified-id=\"Общий-вывод-5\"><span class=\"toc-item-num\">5&nbsp;&nbsp;</span>Общий вывод</a></span></li><li><span><a href=\"#Чек-лист-готовности-проекта\" data-toc-modified-id=\"Чек-лист-готовности-проекта-6\"><span class=\"toc-item-num\">6&nbsp;&nbsp;</span>Чек-лист готовности проекта</a></span></li></ul></div>"
   ]
  },
  {
   "cell_type": "markdown",
   "metadata": {},
   "source": [
    "# Выбор локации для скважины"
   ]
  },
  {
   "cell_type": "markdown",
   "metadata": {},
   "source": [
    "Задача: необходимо решить где бурить новую скважину.\n",
    "\n",
    "Предоставлены пробы нефти в трёх регионах: в каждом 10 000 месторождений, где измерили качество нефти и объём её запасов.\n",
    "\n",
    "**Цель исследования:** Построить модель машинного обучения, которая поможет определить регион, где добыча принесёт наибольшую прибыль. \n",
    "\n",
    "Проанализируем возможную прибыль и риски техникой *Bootstrap.*\n",
    "\n",
    "**Шаги для выбора локации:**\n",
    "\n",
    "- В избранном регионе ищут месторождения, для каждого определяют значения признаков;\n",
    "- Строят модель и оценивают объём запасов;\n",
    "- Выбирают месторождения с самым высокими оценками значений. Количество месторождений зависит от бюджета компании и стоимости разработки одной скважины;\n",
    "- Прибыль равна суммарной прибыли отобранных месторождений.\n",
    "\n",
    "Данные для исследования я получу из файлов — `geo_data_0.csv`, `geo_data_1.csv`, `geo_data_2.csv`.\n",
    "\n",
    "*Описание данных*\n",
    "\n",
    "*id* — уникальный идентификатор скважины;\n",
    "\n",
    "*f0, f1, f2* — три признака точек;\n",
    "\n",
    "*product* — объём запасов в скважине (тыс. баррелей).\n",
    "\n",
    "**Ход исследования:**\n",
    "\n",
    "1. Загрузим и подготовим данные.\n",
    "2. Обучим и проверим модель для каждого региона. Проанализируем результаты.\n",
    "3. Подготовимся к расчёту прибыли.\n",
    "4. Напишем функцию для расчёта прибыли по выбранным скважинам и предсказаниям модели.\n",
    "5. Посчитаем риски и прибыль для каждого региона. Примените технику *Bootstrap*.\n",
    "6. Напишем общие выводы: предложим регион для разработки скважин.\n",
    "\n",
    "**Условия задачи:**\n",
    "\n",
    "- При разведке региона исследуют 500 точек, из которых с помощью машинного обучения выбирают 200 лучших для разработки.\n",
    "- Бюджет на разработку скважин в регионе — 10 млрд рублей.\n",
    "- При нынешних ценах один баррель сырья приносит 450 рублей дохода. Доход с каждой единицы продукта составляет 450 тыс. рублей, поскольку объём указан в тысячах баррелей.\n",
    "- После оценки рисков нужно оставить лишь те регионы, в которых вероятность убытков меньше 2.5%. Среди них выбирают регион с наибольшей средней прибылью."
   ]
  },
  {
   "cell_type": "markdown",
   "metadata": {},
   "source": [
    "## Загрузка и подготовка данных"
   ]
  },
  {
   "cell_type": "markdown",
   "metadata": {},
   "source": [
    "### Считаем данные из csv-файлов и сохраним в переменные."
   ]
  },
  {
   "cell_type": "code",
   "execution_count": 1,
   "metadata": {},
   "outputs": [],
   "source": [
    "import pandas as pd\n",
    "import numpy as np\n",
    "import matplotlib.pyplot as plt\n",
    "from sklearn.model_selection import train_test_split\n",
    "from sklearn.metrics import mean_squared_error\n",
    "from sklearn.preprocessing import StandardScaler \n",
    "from sklearn.linear_model import LinearRegression\n",
    "from scipy import stats as st"
   ]
  },
  {
   "cell_type": "code",
   "execution_count": 2,
   "metadata": {},
   "outputs": [],
   "source": [
    "try:\n",
    "    data_0 = pd.read_csv('geo_data_0.csv')\n",
    "except:\n",
    "    data_0 = pd.read_csv('/datasets/geo_data_0.csv')"
   ]
  },
  {
   "cell_type": "code",
   "execution_count": 3,
   "metadata": {},
   "outputs": [],
   "source": [
    "try:\n",
    "    data_1 = pd.read_csv('geo_data_1.csv')\n",
    "except:\n",
    "    data_1 = pd.read_csv('/datasets/geo_data_1.csv')"
   ]
  },
  {
   "cell_type": "code",
   "execution_count": 4,
   "metadata": {},
   "outputs": [],
   "source": [
    "try:\n",
    "    data_2 = pd.read_csv('geo_data_2.csv')\n",
    "except:\n",
    "    data_2 = pd.read_csv('/datasets/geo_data_2.csv')"
   ]
  },
  {
   "cell_type": "markdown",
   "metadata": {},
   "source": [
    "### Выведем первые 5 строчек и общую информацию датафреймов на экран."
   ]
  },
  {
   "cell_type": "code",
   "execution_count": 5,
   "metadata": {},
   "outputs": [
    {
     "name": "stdout",
     "output_type": "stream",
     "text": [
      "data_0\n",
      "      id        f0        f1        f2     product\n",
      "0  txEyH  0.705745 -0.497823  1.221170  105.280062\n",
      "1  2acmU  1.334711 -0.340164  4.365080   73.037750\n",
      "2  409Wp  1.022732  0.151990  1.419926   85.265647\n",
      "3  iJLyR -0.032172  0.139033  2.978566  168.620776\n",
      "4  Xdl7t  1.988431  0.155413  4.751769  154.036647\n",
      "\n",
      "data_1\n",
      "      id         f0         f1        f2     product\n",
      "0  kBEdx -15.001348  -8.276000 -0.005876    3.179103\n",
      "1  62mP7  14.272088  -3.475083  0.999183   26.953261\n",
      "2  vyE1P   6.263187  -5.948386  5.001160  134.766305\n",
      "3  KcrkZ -13.081196 -11.506057  4.999415  137.945408\n",
      "4  AHL4O  12.702195  -8.147433  5.004363  134.766305\n",
      "\n",
      "data_2\n",
      "      id        f0        f1        f2     product\n",
      "0  fwXo0 -1.146987  0.963328 -0.828965   27.758673\n",
      "1  WJtFt  0.262778  0.269839 -2.530187   56.069697\n",
      "2  ovLUW  0.194587  0.289035 -5.586433   62.871910\n",
      "3  q6cA6  2.236060 -0.553760  0.930038  114.572842\n",
      "4  WPMUX -0.515993  1.716266  5.899011  149.600746\n"
     ]
    }
   ],
   "source": [
    "print(\"data_0\")\n",
    "print(data_0.head())\n",
    "print()\n",
    "print(\"data_1\")\n",
    "print(data_1.head())\n",
    "print()\n",
    "print(\"data_2\")\n",
    "print(data_2.head())"
   ]
  },
  {
   "cell_type": "code",
   "execution_count": 6,
   "metadata": {},
   "outputs": [
    {
     "name": "stdout",
     "output_type": "stream",
     "text": [
      "<class 'pandas.core.frame.DataFrame'>\n",
      "RangeIndex: 100000 entries, 0 to 99999\n",
      "Data columns (total 5 columns):\n",
      " #   Column   Non-Null Count   Dtype  \n",
      "---  ------   --------------   -----  \n",
      " 0   id       100000 non-null  object \n",
      " 1   f0       100000 non-null  float64\n",
      " 2   f1       100000 non-null  float64\n",
      " 3   f2       100000 non-null  float64\n",
      " 4   product  100000 non-null  float64\n",
      "dtypes: float64(4), object(1)\n",
      "memory usage: 3.8+ MB\n"
     ]
    }
   ],
   "source": [
    "data_0.info()"
   ]
  },
  {
   "cell_type": "code",
   "execution_count": 7,
   "metadata": {},
   "outputs": [
    {
     "name": "stdout",
     "output_type": "stream",
     "text": [
      "<class 'pandas.core.frame.DataFrame'>\n",
      "RangeIndex: 100000 entries, 0 to 99999\n",
      "Data columns (total 5 columns):\n",
      " #   Column   Non-Null Count   Dtype  \n",
      "---  ------   --------------   -----  \n",
      " 0   id       100000 non-null  object \n",
      " 1   f0       100000 non-null  float64\n",
      " 2   f1       100000 non-null  float64\n",
      " 3   f2       100000 non-null  float64\n",
      " 4   product  100000 non-null  float64\n",
      "dtypes: float64(4), object(1)\n",
      "memory usage: 3.8+ MB\n"
     ]
    }
   ],
   "source": [
    "data_1.info()"
   ]
  },
  {
   "cell_type": "code",
   "execution_count": 8,
   "metadata": {},
   "outputs": [
    {
     "name": "stdout",
     "output_type": "stream",
     "text": [
      "<class 'pandas.core.frame.DataFrame'>\n",
      "RangeIndex: 100000 entries, 0 to 99999\n",
      "Data columns (total 5 columns):\n",
      " #   Column   Non-Null Count   Dtype  \n",
      "---  ------   --------------   -----  \n",
      " 0   id       100000 non-null  object \n",
      " 1   f0       100000 non-null  float64\n",
      " 2   f1       100000 non-null  float64\n",
      " 3   f2       100000 non-null  float64\n",
      " 4   product  100000 non-null  float64\n",
      "dtypes: float64(4), object(1)\n",
      "memory usage: 3.8+ MB\n"
     ]
    }
   ],
   "source": [
    "data_2.info()"
   ]
  },
  {
   "cell_type": "markdown",
   "metadata": {},
   "source": [
    "### Построим гистограммы для числовых столбцов."
   ]
  },
  {
   "cell_type": "code",
   "execution_count": 9,
   "metadata": {},
   "outputs": [
    {
     "data": {
      "image/png": "[encoded data removed]",
      "text/plain": [
       "<Figure size 1440x360 with 4 Axes>"
      ]
     },
     "metadata": {
      "needs_background": "light"
     },
     "output_type": "display_data"
    }
   ],
   "source": [
    "plt.figure(figsize=(20, 5))\n",
    "\n",
    "plt.subplot(1, 4, 1)\n",
    "plt.hist(data_0['f0'], bins=50)\n",
    "plt.title(\"data_0, f0\")\n",
    "\n",
    "plt.subplot(1, 4, 2)\n",
    "plt.hist(data_0['f1'], bins=50)\n",
    "plt.title(\"data_0, f1\")\n",
    "\n",
    "\n",
    "plt.subplot(1, 4, 3)\n",
    "plt.hist(data_0['f2'], bins=50)\n",
    "plt.title(\"data_0, f2\")\n",
    "\n",
    "\n",
    "plt.subplot(1, 4, 4)\n",
    "plt.hist(data_0['product'], bins=50)\n",
    "plt.title(\"data_0, product\")\n",
    "\n",
    "plt.show()"
   ]
  },
  {
   "cell_type": "code",
   "execution_count": 10,
   "metadata": {},
   "outputs": [
    {
     "data": {
      "image/png": "[encoded data removed]",
      "text/plain": [
       "<Figure size 1440x360 with 4 Axes>"
      ]
     },
     "metadata": {
      "needs_background": "light"
     },
     "output_type": "display_data"
    }
   ],
   "source": [
    "plt.figure(figsize=(20, 5))\n",
    "\n",
    "plt.subplot(1, 4, 1)\n",
    "plt.hist(data_1['f0'], bins=50)\n",
    "plt.title(\"data_1, f0\")\n",
    "\n",
    "plt.subplot(1, 4, 2)\n",
    "plt.hist(data_1['f1'], bins=50)\n",
    "plt.title(\"data_1, f1\")\n",
    "\n",
    "\n",
    "plt.subplot(1, 4, 3)\n",
    "plt.hist(data_1['f2'], bins=10)\n",
    "plt.title(\"data_1, f2\")\n",
    "\n",
    "\n",
    "plt.subplot(1, 4, 4)\n",
    "plt.hist(data_1['product'], bins=10)\n",
    "plt.title(\"data_1, product\")\n",
    "\n",
    "plt.show()"
   ]
  },
  {
   "cell_type": "code",
   "execution_count": 11,
   "metadata": {
    "scrolled": true
   },
   "outputs": [
    {
     "data": {
      "image/png": "[encoded data removed]",
      "text/plain": [
       "<Figure size 1440x360 with 4 Axes>"
      ]
     },
     "metadata": {
      "needs_background": "light"
     },
     "output_type": "display_data"
    }
   ],
   "source": [
    "plt.figure(figsize=(20, 5))\n",
    "\n",
    "plt.subplot(1, 4, 1)\n",
    "plt.hist(data_2['f0'], bins=50)\n",
    "plt.title(\"data_2, f0\")\n",
    "\n",
    "plt.subplot(1, 4, 2)\n",
    "plt.hist(data_2['f1'], bins=50)\n",
    "plt.title(\"data_2, f1\")\n",
    "\n",
    "\n",
    "plt.subplot(1, 4, 3)\n",
    "plt.hist(data_2['f2'], bins=50)\n",
    "plt.title(\"data_2, f2\")\n",
    "\n",
    "\n",
    "plt.subplot(1, 4, 4)\n",
    "plt.hist(data_2['product'], bins=50)\n",
    "plt.title(\"data_2, product\")\n",
    "\n",
    "plt.show()"
   ]
  },
  {
   "cell_type": "code",
   "execution_count": 12,
   "metadata": {},
   "outputs": [
    {
     "name": "stdout",
     "output_type": "stream",
     "text": [
      "data_0\n",
      "               f0        f1        f2   product\n",
      "f0       1.000000 -0.440723 -0.003153  0.143536\n",
      "f1      -0.440723  1.000000  0.001724 -0.192356\n",
      "f2      -0.003153  0.001724  1.000000  0.483663\n",
      "product  0.143536 -0.192356  0.483663  1.000000\n",
      "\n",
      "data_1\n",
      "               f0        f1        f2   product\n",
      "f0       1.000000  0.182287 -0.001777 -0.030491\n",
      "f1       0.182287  1.000000 -0.002595 -0.010155\n",
      "f2      -0.001777 -0.002595  1.000000  0.999397\n",
      "product -0.030491 -0.010155  0.999397  1.000000\n",
      "\n",
      "data_2\n",
      "               f0        f1        f2   product\n",
      "f0       1.000000  0.000528 -0.000448 -0.001987\n",
      "f1       0.000528  1.000000  0.000779 -0.001012\n",
      "f2      -0.000448  0.000779  1.000000  0.445871\n",
      "product -0.001987 -0.001012  0.445871  1.000000\n"
     ]
    }
   ],
   "source": [
    "print(\"data_0\")\n",
    "print(data_0.corr())\n",
    "print()\n",
    "print(\"data_1\")\n",
    "print(data_1.corr())\n",
    "print()\n",
    "print(\"data_2\")\n",
    "print(data_2.corr())"
   ]
  },
  {
   "cell_type": "code",
   "execution_count": 13,
   "metadata": {},
   "outputs": [
    {
     "name": "stdout",
     "output_type": "stream",
     "text": [
      "Количество дубликатов у data_0: 0\n",
      "Количество дубликатов у data_1: 0\n",
      "Количество дубликатов у data_2: 0\n"
     ]
    }
   ],
   "source": [
    "print('Количество дубликатов у data_0:', data_0.duplicated().sum())\n",
    "print('Количество дубликатов у data_1:', data_1.duplicated().sum())\n",
    "print('Количество дубликатов у data_2:', data_2.duplicated().sum())"
   ]
  },
  {
   "cell_type": "markdown",
   "metadata": {},
   "source": [
    "**Вывод, исходя из общих данных датафреймов `data_0, data_1, data_2`:**\n",
    "1. пропусков в данных нет;\n",
    "2. дубликатов нет;\n",
    "3. признак f0 для 3х датасетов имеет интересное распределение: для `data_0` имеет 4 вершины, для `data_1` - 2 вершины, для `data_2` - 1 вершину на гистограмме;\n",
    "4. признак f1 имеет 3 пика у `data_0` и 1 пик у `data_1` и `data_2`;\n",
    "5. признак f2 у `data_0` и `data_2` распределен практически одинаково, а у `data_1` имеет отличные значения. Но так как мы не знаем, что это за признаки и что они означают, оставим как есть;\n",
    "6. по столбцу *product* тоже аномалии у `data_1`, которые сильно отличаются от `data_0` и `data_2` - возможно регион `data_1` имеет высокие отличительные признаки по сравнению с регионами `data_0` и `data_2`.\n",
    "7. видим, что значения столбца *product* хорошо коррелируют (имеют связь) с признаком *f2*, особенно в `data_1` - там коэффициент корреляции практически равен единице. Это вполне допустимая ситуация, которая означает, что объем сырья в данном регионе напрямую определяется признаком *f2*."
   ]
  },
  {
   "cell_type": "markdown",
   "metadata": {},
   "source": [
    "## Обучение и проверка модели"
   ]
  },
  {
   "cell_type": "markdown",
   "metadata": {},
   "source": [
    "### Удалим столбцы, которые не будут использоваться при обучении модели."
   ]
  },
  {
   "cell_type": "code",
   "execution_count": 14,
   "metadata": {},
   "outputs": [],
   "source": [
    "data_0 = data_0.drop('id', axis=1)\n",
    "data_1 = data_1.drop('id', axis=1)\n",
    "data_2 = data_2.drop('id', axis=1)"
   ]
  },
  {
   "cell_type": "markdown",
   "metadata": {},
   "source": [
    "### Разделим исходные данные на обучающую и валидационную выборки."
   ]
  },
  {
   "cell_type": "markdown",
   "metadata": {},
   "source": [
    "Подготовим данные. Изначально выделим признаки и целевой признак, далее разделим на обучающую и валидационную выборки в соотношении 75:25 и отмасштабируем."
   ]
  },
  {
   "cell_type": "code",
   "execution_count": 15,
   "metadata": {},
   "outputs": [],
   "source": [
    "def separation (data_region):\n",
    "    features = data_region.drop('product', axis=1)\n",
    "    target = data_region['product']\n",
    "    \n",
    "    features_train, features_valid, target_train, target_valid = train_test_split(features, target, \n",
    "                                                                                  test_size=0.25, random_state=12345)\n",
    "    # Масштабируем данные:\n",
    "    \n",
    "    numeric = ['f0', 'f1', 'f2']\n",
    "    scaler = StandardScaler()\n",
    "    scaler.fit(features_train[numeric])\n",
    "\n",
    "    features_train[numeric] = scaler.transform(features_train[numeric])\n",
    "    features_valid[numeric] = scaler.transform(features_valid[numeric])\n",
    "    \n",
    "    return features_train, features_valid, target_train, target_valid "
   ]
  },
  {
   "cell_type": "code",
   "execution_count": 16,
   "metadata": {},
   "outputs": [
    {
     "name": "stdout",
     "output_type": "stream",
     "text": [
      "Размер таблицы features_train_0: (75000, 3)\n",
      "Размер таблицы features_valid_0: (25000, 3)\n",
      "Размер таблицы target_train_0: (75000,)\n",
      "Размер таблицы target_valid_0: (25000,)\n"
     ]
    }
   ],
   "source": [
    "pd.options.mode.chained_assignment = None\n",
    "features_train_0, features_valid_0, target_train_0, target_valid_0 = separation(data_0)\n",
    "features_train_1, features_valid_1, target_train_1, target_valid_1 = separation(data_1)\n",
    "features_train_2, features_valid_2, target_train_2, target_valid_2 = separation(data_2)\n",
    "\n",
    "print(\"Размер таблицы features_train_0:\", features_train_0.shape)\n",
    "print(\"Размер таблицы features_valid_0:\", features_valid_0.shape)\n",
    "print(\"Размер таблицы target_train_0:\", target_train_0.shape)\n",
    "print(\"Размер таблицы target_valid_0:\", target_valid_0.shape)"
   ]
  },
  {
   "cell_type": "markdown",
   "metadata": {},
   "source": [
    "Проверим, как прошло масштабирование признаков."
   ]
  },
  {
   "cell_type": "code",
   "execution_count": 17,
   "metadata": {
    "scrolled": true
   },
   "outputs": [
    {
     "data": {
      "text/html": [
       "<div>\n",
       "<style scoped>\n",
       "    .dataframe tbody tr th:only-of-type {\n",
       "        vertical-align: middle;\n",
       "    }\n",
       "\n",
       "    .dataframe tbody tr th {\n",
       "        vertical-align: top;\n",
       "    }\n",
       "\n",
       "    .dataframe thead th {\n",
       "        text-align: right;\n",
       "    }\n",
       "</style>\n",
       "<table border=\"1\" class=\"dataframe\">\n",
       "  <thead>\n",
       "    <tr style=\"text-align: right;\">\n",
       "      <th></th>\n",
       "      <th>f0</th>\n",
       "      <th>f1</th>\n",
       "      <th>f2</th>\n",
       "    </tr>\n",
       "  </thead>\n",
       "  <tbody>\n",
       "    <tr>\n",
       "      <th>count</th>\n",
       "      <td>7.500000e+04</td>\n",
       "      <td>7.500000e+04</td>\n",
       "      <td>7.500000e+04</td>\n",
       "    </tr>\n",
       "    <tr>\n",
       "      <th>mean</th>\n",
       "      <td>1.680907e-16</td>\n",
       "      <td>-3.474554e-17</td>\n",
       "      <td>6.442254e-18</td>\n",
       "    </tr>\n",
       "    <tr>\n",
       "      <th>std</th>\n",
       "      <td>1.000007e+00</td>\n",
       "      <td>1.000007e+00</td>\n",
       "      <td>1.000007e+00</td>\n",
       "    </tr>\n",
       "    <tr>\n",
       "      <th>min</th>\n",
       "      <td>-2.186288e+00</td>\n",
       "      <td>-2.178269e+00</td>\n",
       "      <td>-3.890945e+00</td>\n",
       "    </tr>\n",
       "    <tr>\n",
       "      <th>25%</th>\n",
       "      <td>-6.575544e-01</td>\n",
       "      <td>-8.925344e-01</td>\n",
       "      <td>-6.799576e-01</td>\n",
       "    </tr>\n",
       "    <tr>\n",
       "      <th>50%</th>\n",
       "      <td>1.878842e-03</td>\n",
       "      <td>-7.407961e-04</td>\n",
       "      <td>4.288679e-03</td>\n",
       "    </tr>\n",
       "    <tr>\n",
       "      <th>75%</th>\n",
       "      <td>6.571176e-01</td>\n",
       "      <td>8.928514e-01</td>\n",
       "      <td>6.829752e-01</td>\n",
       "    </tr>\n",
       "    <tr>\n",
       "      <th>max</th>\n",
       "      <td>2.139081e+00</td>\n",
       "      <td>2.169192e+00</td>\n",
       "      <td>4.153623e+00</td>\n",
       "    </tr>\n",
       "  </tbody>\n",
       "</table>\n",
       "</div>"
      ],
      "text/plain": [
       "                 f0            f1            f2\n",
       "count  7.500000e+04  7.500000e+04  7.500000e+04\n",
       "mean   1.680907e-16 -3.474554e-17  6.442254e-18\n",
       "std    1.000007e+00  1.000007e+00  1.000007e+00\n",
       "min   -2.186288e+00 -2.178269e+00 -3.890945e+00\n",
       "25%   -6.575544e-01 -8.925344e-01 -6.799576e-01\n",
       "50%    1.878842e-03 -7.407961e-04  4.288679e-03\n",
       "75%    6.571176e-01  8.928514e-01  6.829752e-01\n",
       "max    2.139081e+00  2.169192e+00  4.153623e+00"
      ]
     },
     "execution_count": 17,
     "metadata": {},
     "output_type": "execute_result"
    }
   ],
   "source": [
    "features_train_0.describe()"
   ]
  },
  {
   "cell_type": "markdown",
   "metadata": {},
   "source": [
    "### Обучим модель и сделаем предсказания на валидационной выборке."
   ]
  },
  {
   "cell_type": "markdown",
   "metadata": {},
   "source": [
    "Для обучения модели используем Линейную регрессию (`LinearRegression`)."
   ]
  },
  {
   "cell_type": "code",
   "execution_count": 18,
   "metadata": {},
   "outputs": [],
   "source": [
    "def linear_model(features_train, features_valid, target_train, target_valid):\n",
    "    \n",
    "    model = LinearRegression() \n",
    "    model.fit(features_train, target_train) \n",
    "    predictions_valid = pd.Series(model.predict(features_valid)) # предсказания модели на валидационной выборке\n",
    "\n",
    "    rmse = mean_squared_error(target_valid, predictions_valid)**0.5 # считаем значение метрики RMSE на валидационной выборке\n",
    "    mean_pred = predictions_valid.mean()\n",
    "    \n",
    "    return predictions_valid, rmse, mean_pred"
   ]
  },
  {
   "cell_type": "markdown",
   "metadata": {},
   "source": [
    "Напечатаем на экране средний запас предсказанного сырья и *RMSE* модели."
   ]
  },
  {
   "cell_type": "code",
   "execution_count": 19,
   "metadata": {},
   "outputs": [
    {
     "name": "stdout",
     "output_type": "stream",
     "text": [
      "Для региона 0 средний запас предсказанного сырья составил 92.59 тыс. баррелей, а RMSE модели 37.58\n",
      "Для региона 1 средний запас предсказанного сырья составил 68.73 тыс. баррелей, а RMSE модели 0.89\n",
      "Для региона 2 средний запас предсказанного сырья составил 94.97 тыс. баррелей, а RMSE модели 40.03\n"
     ]
    }
   ],
   "source": [
    "predictions_valid_0, rmse_0, mean_pred_0 = linear_model(features_train_0, features_valid_0, target_train_0, target_valid_0)\n",
    "predictions_valid_1, rmse_1, mean_pred_1 = linear_model(features_train_1, features_valid_1, target_train_1, target_valid_1)\n",
    "predictions_valid_2, rmse_2, mean_pred_2 = linear_model(features_train_2, features_valid_2, target_train_2, target_valid_2)\n",
    "\n",
    "print('Для региона 0 средний запас предсказанного сырья составил {:.2f} тыс. баррелей, а RMSE модели {:.2f}'.format(mean_pred_0, rmse_0))\n",
    "print('Для региона 1 средний запас предсказанного сырья составил {:.2f} тыс. баррелей, а RMSE модели {:.2f}'.format(mean_pred_1, rmse_1))\n",
    "print('Для региона 2 средний запас предсказанного сырья составил {:.2f} тыс. баррелей, а RMSE модели {:.2f}'.format(mean_pred_2, rmse_2))"
   ]
  },
  {
   "cell_type": "markdown",
   "metadata": {},
   "source": [
    "Для оценки правильности работы модели покажем истинные средние запасы по каждому региону."
   ]
  },
  {
   "cell_type": "code",
   "execution_count": 20,
   "metadata": {},
   "outputs": [
    {
     "name": "stdout",
     "output_type": "stream",
     "text": [
      "Для региона 0 истинный средний запас сырья равен 92.08 тыс. баррелей\n",
      "Для региона 1 истинный средний запас сырья равен 68.72 тыс. баррелей\n",
      "Для региона 2 истинный средний запас сырья равен 94.88 тыс. баррелей\n"
     ]
    }
   ],
   "source": [
    "print('Для региона 0 истинный средний запас сырья равен {:.2f} тыс. баррелей'.format(target_valid_0.mean()))\n",
    "print('Для региона 1 истинный средний запас сырья равен {:.2f} тыс. баррелей'.format(target_valid_1.mean()))\n",
    "print('Для региона 2 истинный средний запас сырья равен {:.2f} тыс. баррелей'.format(target_valid_2.mean()))"
   ]
  },
  {
   "cell_type": "markdown",
   "metadata": {},
   "source": [
    "**Вывод:**\n",
    "\n",
    "1. Все 3 модели предсказывают близкие к истинным значения и истинные средние запасы отличаются от предсказанных для каждой модели всего на несколько сотых.\n",
    "2. Наилучшими прогнозными свойствами обладает модель для региона 1, так как она имеет наименьшее и близкое к нулю значение *RMSE*.\n",
    "3. Предсказания моделей для регионов 0 и 2 примерно одинаковые (согласно параметрам *RMSE*)."
   ]
  },
  {
   "cell_type": "markdown",
   "metadata": {},
   "source": [
    "## Подготовка к расчёту прибыли"
   ]
  },
  {
   "cell_type": "markdown",
   "metadata": {},
   "source": [
    "### Все ключевые значения для расчётов сохраним в отдельных переменных."
   ]
  },
  {
   "cell_type": "code",
   "execution_count": 21,
   "metadata": {},
   "outputs": [],
   "source": [
    "RESEARCH_POINTS = 500 # количество скважин для исследования\n",
    "DEVELOPMENT_POINTS = 200 # количество скважин для разработки\n",
    "DEVELOPMENT_BUDGET = 10000 # бюджет на разработку скважин в регионе в млн. руб.\n",
    "REVENUE_PER_BARREL = 0.45 # доход с 1 тыс баррель в млн. руб\n",
    "LOSS_PROBABILITY = 0.025 # максимальная вероятность убытков (2.5%)\n",
    "BOOTSTRAP_SAMPLES = 1000"
   ]
  },
  {
   "cell_type": "markdown",
   "metadata": {},
   "source": [
    "### Расчет достаточного объёма сырья для безубыточной разработки новой скважины."
   ]
  },
  {
   "cell_type": "markdown",
   "metadata": {},
   "source": [
    "**Для расчета достаточного объема сырья для безубыточной разработки новой скважины необходимо:**\n",
    "\n",
    "- Вычислить допустимые средние затраты на разработку одной скважины - разделить бюджет на количество скважин.\n",
    "- Вычислить какое количество в тыс. баррель необходимо для покрытия затрат на одну скважину."
   ]
  },
  {
   "cell_type": "code",
   "execution_count": 22,
   "metadata": {},
   "outputs": [
    {
     "name": "stdout",
     "output_type": "stream",
     "text": [
      "Необходимый объем сырья для безубыточной разработки 1 скважины - 111.11 тыс. баррелей\n"
     ]
    }
   ],
   "source": [
    "budget_for_point = DEVELOPMENT_BUDGET / DEVELOPMENT_POINTS # затраты на разработку одной скважины\n",
    "\n",
    "# необходимый объем сырья для безубыточной разработки 1 скважины в тыс. баррелей\n",
    "\n",
    "product_volume_for_point = budget_for_point / REVENUE_PER_BARREL\n",
    "print('Необходимый объем сырья для безубыточной разработки 1 скважины - {:.2f} тыс. баррелей'.format(product_volume_for_point))"
   ]
  },
  {
   "cell_type": "markdown",
   "metadata": {},
   "source": [
    "**Вывод:**\n",
    "\n",
    "Необходимый объем сырья для безубыточной разработки одной скважины - 111 тыс. баррелей. Наши средние показатели запаса сырья ниже необходимого объема, что говорит о том, что при осуществлении разработки скважин, выбранных случайным образом, имеется высокая доля риска не окупить затраченный бюджет. Поэтому важно иметь модель, которая наиболее корректно предсказывала бы объем продукта в зависимости от известных факторов с максимальными значениями предсказаний."
   ]
  },
  {
   "cell_type": "markdown",
   "metadata": {},
   "source": [
    "## Расчёт прибыли и рисков"
   ]
  },
  {
   "cell_type": "markdown",
   "metadata": {},
   "source": [
    "Произведем выбор скважин с максимальными значениями предсказаний. По условиям задачи для разработки берутся `200` лучших скважин. Для выбранных скважин найдем соответствующие им истинные значения и по ним рассчитаем прибыли. "
   ]
  },
  {
   "cell_type": "markdown",
   "metadata": {},
   "source": [
    "### Напишем функцию для расчёта прибыли и рисков по выбранным скважинам и предсказаниям модели."
   ]
  },
  {
   "cell_type": "code",
   "execution_count": 23,
   "metadata": {},
   "outputs": [],
   "source": [
    "# метод для приведения к типу Series\n",
    "def series_type(target, predict):\n",
    "    target = target.reset_index(drop=True)\n",
    "    predict = pd.Series(predict)\n",
    "    return target, predict"
   ]
  },
  {
   "cell_type": "code",
   "execution_count": 24,
   "metadata": {},
   "outputs": [],
   "source": [
    "# приведем целевые и прогнозные значения по всем регионам к одному типу\n",
    "target_valid_0, predictions_valid_0 = series_type(target_valid_0, predictions_valid_0)\n",
    "target_valid_1, predictions_valid_1 = series_type(target_valid_1, predictions_valid_1)\n",
    "target_valid_2, predictions_valid_2 = series_type(target_valid_2, predictions_valid_2)"
   ]
  },
  {
   "cell_type": "markdown",
   "metadata": {},
   "source": [
    "Определим распределение прибыли с помощью техники *Bootstrap* для 1000 выборок. Внутри каждой выборки будем считать выручку и оценивать не убыточна ли она. По итогу 1000 циклов получим распределение выручек, из которых определим среднюю выручку для региона, доверительный интервал и вероятность получить отрицательную выручку."
   ]
  },
  {
   "cell_type": "code",
   "execution_count": 25,
   "metadata": {},
   "outputs": [],
   "source": [
    "#Задаем количество скважин, по которым производится поиск наибольших значений продукта.\n",
    "def total_income(target_valid, predictions_valid, DEVELOPMENT_POINTS, REVENUE_PER_BARREL, DEVELOPMENT_BUDGET):\n",
    "    predict_choice = predictions_valid.sort_values(ascending=False)\n",
    "    target_choice = target_valid[predict_choice.index][:DEVELOPMENT_POINTS] \n",
    "    return round((target_choice.sum() * REVENUE_PER_BARREL - DEVELOPMENT_BUDGET), 3)\n",
    "\n",
    "def bootstrap_regions(target_valid, predictions_valid, DEVELOPMENT_POINTS, REVENUE_PER_BARREL, DEVELOPMENT_BUDGET):\n",
    "    \n",
    "    state = np.random.RandomState(12345)\n",
    "    values = []\n",
    "    \n",
    "    for i in range(BOOTSTRAP_SAMPLES):\n",
    "        \n",
    "        target_subsample = target_valid.sample(RESEARCH_POINTS, replace=True, random_state=state)\n",
    "        pred_subsample = predictions_valid[target_subsample.index]\n",
    "        values.append(\n",
    "            total_income(target_subsample, pred_subsample, DEVELOPMENT_POINTS, REVENUE_PER_BARREL, DEVELOPMENT_BUDGET)\n",
    "        )\n",
    "    values = pd.Series(values)\n",
    "    values_mean = round(values.mean(), 3) # среднее значение прибыли\n",
    "    print('Среднее значение прибыли - {:.3f} млн. руб.'.format(values_mean))\n",
    "    \n",
    "    lower = round(values.quantile(q=0.025), 3) # нижняя граница 2.5%-квантиль полученных значений прибыли\n",
    "    upper = round(values.quantile(q=0.975), 3) # верхняя граница 97.5%-квантиль полученных значений прибыли\n",
    "    print('95% доверительный интервал: {:.3f} ... {:.3f} млн. руб'.format(lower, upper))\n",
    "    \n",
    "    risk = (values < 0).mean() * 100 # риски получить отрицательную выручку\n",
    "    print('Риск убытков равен:', risk, '%')\n",
    "    \n",
    "    return values_mean, lower, upper, risk"
   ]
  },
  {
   "cell_type": "code",
   "execution_count": 26,
   "metadata": {},
   "outputs": [
    {
     "name": "stdout",
     "output_type": "stream",
     "text": [
      "Прибыль с 200 выбранных по предсказаниям модели скважин составит:\n",
      "для Региона 0 - 3320.826 млн. руб.\n",
      "для Региона 1 - 2415.087 млн. руб.\n",
      "для Региона 2 - 2710.350 млн. руб.\n"
     ]
    }
   ],
   "source": [
    "print('Прибыль с 200 выбранных по предсказаниям модели скважин составит:')\n",
    "print('для Региона 0 - {:.3f} млн. руб.'.format(\n",
    "    total_income(target_valid_0, predictions_valid_0, DEVELOPMENT_POINTS, REVENUE_PER_BARREL, DEVELOPMENT_BUDGET)\n",
    ")\n",
    "     )\n",
    "print('для Региона 1 - {:.3f} млн. руб.'.format(\n",
    "    total_income(target_valid_1, predictions_valid_1, DEVELOPMENT_POINTS, REVENUE_PER_BARREL, DEVELOPMENT_BUDGET)\n",
    ")\n",
    "     )\n",
    "print('для Региона 2 - {:.3f} млн. руб.'.format(\n",
    "    total_income(target_valid_2, predictions_valid_2, DEVELOPMENT_POINTS, REVENUE_PER_BARREL, DEVELOPMENT_BUDGET)\n",
    ")\n",
    "     )"
   ]
  },
  {
   "cell_type": "markdown",
   "metadata": {},
   "source": [
    "Данные значения прибыли мы можем получить, если проведем разведку по 25 000 точкам (наша валидационная выборка), что повлечет за собой несоизмеримые с вложениями затраты. Согласно требованиям заказчика мы можем провести разведку только по 500 точкам из которых можем выбрать наши 200 скважин для бурения."
   ]
  },
  {
   "cell_type": "code",
   "execution_count": 27,
   "metadata": {},
   "outputs": [
    {
     "name": "stdout",
     "output_type": "stream",
     "text": [
      "для Региона 0\n",
      "Среднее значение прибыли - 425.939 млн. руб.\n",
      "95% доверительный интервал: -102.090 ... 947.976 млн. руб\n",
      "Риск убытков равен: 6.0 %\n",
      "------------------------------\n",
      "для Региона 1\n",
      "Среднее значение прибыли - 515.223 млн. руб.\n",
      "95% доверительный интервал: 68.873 ... 931.547 млн. руб\n",
      "Риск убытков равен: 1.0 %\n",
      "------------------------------\n",
      "для Региона 2\n",
      "Среднее значение прибыли - 435.008 млн. руб.\n",
      "95% доверительный интервал: -128.880 ... 969.707 млн. руб\n",
      "Риск убытков равен: 6.4 %\n"
     ]
    }
   ],
   "source": [
    "#Посчитаем основные параметры для трёх регионов\n",
    "\n",
    "print('для Региона 0')\n",
    "values_mean_0, lower_0, upper_0, risk_0  = bootstrap_regions(\n",
    "    target_valid_0, \n",
    "    predictions_valid_0, \n",
    "    DEVELOPMENT_POINTS, \n",
    "    REVENUE_PER_BARREL, \n",
    "    DEVELOPMENT_BUDGET\n",
    ")\n",
    "print('---'*10)\n",
    "\n",
    "print('для Региона 1')\n",
    "values_mean_1, lower_1, upper_1, risk_1  = bootstrap_regions(\n",
    "    target_valid_1,\n",
    "    predictions_valid_1, \n",
    "    DEVELOPMENT_POINTS, \n",
    "    REVENUE_PER_BARREL, \n",
    "    DEVELOPMENT_BUDGET\n",
    ")\n",
    "print('---'*10)\n",
    "\n",
    "print('для Региона 2')\n",
    "values_mean_2, lower_2, upper_2, risk_2  = bootstrap_regions(\n",
    "    target_valid_2, \n",
    "    predictions_valid_2, \n",
    "    DEVELOPMENT_POINTS, \n",
    "    REVENUE_PER_BARREL, \n",
    "    DEVELOPMENT_BUDGET\n",
    ")"
   ]
  },
  {
   "cell_type": "markdown",
   "metadata": {},
   "source": [
    "Видим, что у `Региона 1` нет отрицательных значений прибыли, в отличии от других регионов, согласно 95% доверительного интервала.  "
   ]
  },
  {
   "cell_type": "markdown",
   "metadata": {},
   "source": [
    "**Вывод:** Так как по условию задачи нужно оставить лишь те регионы, в которых вероятность убытков меньше 2.5%, то нам подходит лишь `Регион 1`, где вероятность убытков равна 1%, средняя выручка получилась 515 млн рублей и данный регион имеет наиболее узкие рамки доверительного интервала."
   ]
  },
  {
   "cell_type": "markdown",
   "metadata": {},
   "source": [
    "## Общий вывод"
   ]
  },
  {
   "cell_type": "markdown",
   "metadata": {},
   "source": [
    "На анализ были представлены три датасета с данными: `geo_data_0.csv`, `geo_data_1.csv`, `geo_data_2.csv`.\n",
    "\n",
    "Провели предварительный анализ данных, удалили лишние столбцы, которые не учитываются при обучении модели. Далее разделили исходные датасеты на две выборки: обучающую и валидационную. А также были разделены наборы данных на признаки (*features*) и целевые признаки (*target*). Cмасштабировали численные признаки.\n",
    "\n",
    "Для обучения модели использовали Линейную регрессию (`LinearRegression`). \n",
    "\n",
    "Наилучшими прогнозными свойствами обладает модель для `Региона 1`, так как она имеет наименьшее и близкое к нулю значение *RMSE=0.89*. Средний запас предсказанного сырья составил 68.73 тыс. баррелей.\n",
    "\n",
    "Необходимый объем сырья для безубыточной разработки одной скважины - 111 тыс. баррелей. Наши средние показатели запаса сырья (`Регион 0` - 92 тыс. баррелей, `Регион 1` - 69 тыс. баррелей, `Регион 2` - 95 тыс. баррелей) ниже необходимого объема, что говорит о том, что при осуществлении разработки скважин, выбранных случайным образом, имеется высокая доля риска не окупить затраченный бюджет. Поэтому важно иметь модель, которая наиболее корректно предсказывала бы объем продукта в зависимости от известных факторов с максимальными значениями предсказаний.\n",
    "\n",
    "Для `Региона 0` при случайном выборе 500 скважин получаются следующие показатели:\n",
    "\n",
    "- Средняя выручка: 426 млн рублей.\n",
    "- 95%-ый доверительный интервал: (-102.090 ... 947.976) млн рублей.\n",
    "- Вероятность убытков равна 6.00%.\n",
    "\n",
    "Для `Региона 1` при случайном выборе 500 скважин получаются следующие показатели:\n",
    "\n",
    "- Средняя выручка: 515 млн рублей.\n",
    "- 95%-ый доверительный интервал: (68.873 ... 931.547) млн рублей.\n",
    "- Вероятность убытков равна 1.00%.\n",
    "\n",
    "Для `Региона 2` при случайном выборе 500 скважин получаются следующие показатели:\n",
    "\n",
    "- Средняя выручка: 435 млн рублей.\n",
    "- 95%-ый доверительный интервал: (-128.880 ... 969.707) млн рублей.\n",
    "- Вероятность убытков равна 6.40%.\n",
    "\n",
    "Таким образом, получили, что наибольшую среднюю выручку и наименьшую вероятность убытков имеет `Регион 1`. "
   ]
  },
  {
   "cell_type": "code",
   "execution_count": null,
   "metadata": {},
   "outputs": [],
   "source": []
  }
 ],
 "metadata": {
  "ExecuteTimeLog": [
   {
    "duration": 1707,
    "start_time": "2023-06-14T12:26:30.588Z"
   },
   {
    "duration": 675,
    "start_time": "2023-06-14T12:29:33.289Z"
   },
   {
    "duration": 635,
    "start_time": "2023-06-14T12:29:35.650Z"
   },
   {
    "duration": 635,
    "start_time": "2023-06-14T12:29:38.210Z"
   },
   {
    "duration": 13,
    "start_time": "2023-06-14T12:30:15.482Z"
   },
   {
    "duration": 14,
    "start_time": "2023-06-14T12:31:26.306Z"
   },
   {
    "duration": 23,
    "start_time": "2023-06-14T12:31:46.643Z"
   },
   {
    "duration": 16,
    "start_time": "2023-06-14T12:31:48.867Z"
   },
   {
    "duration": 14,
    "start_time": "2023-06-14T12:33:48.295Z"
   },
   {
    "duration": 13,
    "start_time": "2023-06-14T12:34:35.860Z"
   },
   {
    "duration": 13,
    "start_time": "2023-06-14T12:35:05.800Z"
   },
   {
    "duration": 275,
    "start_time": "2023-06-14T12:38:22.499Z"
   },
   {
    "duration": 322,
    "start_time": "2023-06-14T12:44:15.226Z"
   },
   {
    "duration": 31,
    "start_time": "2023-06-14T12:44:58.831Z"
   },
   {
    "duration": 236,
    "start_time": "2023-06-14T12:45:19.197Z"
   },
   {
    "duration": 119,
    "start_time": "2023-06-14T12:47:04.392Z"
   },
   {
    "duration": 96,
    "start_time": "2023-06-14T12:47:21.835Z"
   },
   {
    "duration": 32,
    "start_time": "2023-06-14T12:48:03.321Z"
   },
   {
    "duration": 1424,
    "start_time": "2023-06-14T12:52:02.212Z"
   },
   {
    "duration": 181,
    "start_time": "2023-06-14T12:52:03.639Z"
   },
   {
    "duration": 203,
    "start_time": "2023-06-14T12:52:03.822Z"
   },
   {
    "duration": 221,
    "start_time": "2023-06-14T12:52:04.027Z"
   },
   {
    "duration": 23,
    "start_time": "2023-06-14T12:52:04.252Z"
   },
   {
    "duration": 21,
    "start_time": "2023-06-14T12:52:04.277Z"
   },
   {
    "duration": 16,
    "start_time": "2023-06-14T12:52:04.300Z"
   },
   {
    "duration": 33,
    "start_time": "2023-06-14T12:52:04.318Z"
   },
   {
    "duration": 330,
    "start_time": "2023-06-14T12:52:04.353Z"
   },
   {
    "duration": 1510,
    "start_time": "2023-06-14T12:53:21.121Z"
   },
   {
    "duration": 195,
    "start_time": "2023-06-14T12:53:22.634Z"
   },
   {
    "duration": 180,
    "start_time": "2023-06-14T12:53:22.831Z"
   },
   {
    "duration": 161,
    "start_time": "2023-06-14T12:53:23.013Z"
   },
   {
    "duration": 14,
    "start_time": "2023-06-14T12:53:23.176Z"
   },
   {
    "duration": 39,
    "start_time": "2023-06-14T12:53:23.192Z"
   },
   {
    "duration": 14,
    "start_time": "2023-06-14T12:53:23.232Z"
   },
   {
    "duration": 23,
    "start_time": "2023-06-14T12:53:23.248Z"
   },
   {
    "duration": 285,
    "start_time": "2023-06-14T12:53:23.273Z"
   },
   {
    "duration": 173,
    "start_time": "2023-06-14T12:58:26.064Z"
   },
   {
    "duration": 475,
    "start_time": "2023-06-14T12:59:06.292Z"
   },
   {
    "duration": 416,
    "start_time": "2023-06-14T12:59:49.864Z"
   },
   {
    "duration": 420,
    "start_time": "2023-06-14T13:01:04.087Z"
   },
   {
    "duration": 344,
    "start_time": "2023-06-14T13:04:20.535Z"
   },
   {
    "duration": 542,
    "start_time": "2023-06-14T13:32:45.549Z"
   },
   {
    "duration": 604,
    "start_time": "2023-06-14T13:33:06.788Z"
   },
   {
    "duration": 930,
    "start_time": "2023-06-14T13:33:22.681Z"
   },
   {
    "duration": 830,
    "start_time": "2023-06-14T13:34:27.716Z"
   },
   {
    "duration": 964,
    "start_time": "2023-06-14T13:34:58.216Z"
   },
   {
    "duration": 903,
    "start_time": "2023-06-14T13:36:06.025Z"
   },
   {
    "duration": 871,
    "start_time": "2023-06-14T13:36:09.736Z"
   },
   {
    "duration": 1294,
    "start_time": "2023-06-14T13:36:33.786Z"
   },
   {
    "duration": 152,
    "start_time": "2023-06-14T13:45:15.924Z"
   },
   {
    "duration": 1444,
    "start_time": "2023-06-14T17:48:14.902Z"
   },
   {
    "duration": 859,
    "start_time": "2023-06-14T17:48:16.348Z"
   },
   {
    "duration": 582,
    "start_time": "2023-06-14T17:48:17.209Z"
   },
   {
    "duration": 556,
    "start_time": "2023-06-14T17:48:17.792Z"
   },
   {
    "duration": 13,
    "start_time": "2023-06-14T17:48:18.350Z"
   },
   {
    "duration": 16,
    "start_time": "2023-06-14T17:48:18.365Z"
   },
   {
    "duration": 13,
    "start_time": "2023-06-14T17:48:18.382Z"
   },
   {
    "duration": 12,
    "start_time": "2023-06-14T17:48:18.397Z"
   },
   {
    "duration": 620,
    "start_time": "2023-06-14T17:48:18.410Z"
   },
   {
    "duration": 562,
    "start_time": "2023-06-14T17:48:19.031Z"
   },
   {
    "duration": 599,
    "start_time": "2023-06-14T17:48:19.594Z"
   },
   {
    "duration": 125,
    "start_time": "2023-06-14T17:48:20.195Z"
   },
   {
    "duration": 17,
    "start_time": "2023-06-14T17:49:52.093Z"
   },
   {
    "duration": 5,
    "start_time": "2023-06-14T17:58:43.619Z"
   },
   {
    "duration": 80,
    "start_time": "2023-06-14T18:02:10.332Z"
   },
   {
    "duration": 61,
    "start_time": "2023-06-14T18:02:34.202Z"
   },
   {
    "duration": 67,
    "start_time": "2023-06-14T18:05:22.188Z"
   },
   {
    "duration": 8,
    "start_time": "2023-06-14T18:06:29.449Z"
   },
   {
    "duration": 32,
    "start_time": "2023-06-14T18:07:27.509Z"
   },
   {
    "duration": 1281,
    "start_time": "2023-06-14T18:13:42.578Z"
   },
   {
    "duration": 161,
    "start_time": "2023-06-14T18:13:43.861Z"
   },
   {
    "duration": 164,
    "start_time": "2023-06-14T18:13:44.024Z"
   },
   {
    "duration": 146,
    "start_time": "2023-06-14T18:13:44.189Z"
   },
   {
    "duration": 18,
    "start_time": "2023-06-14T18:13:44.337Z"
   },
   {
    "duration": 13,
    "start_time": "2023-06-14T18:13:44.357Z"
   },
   {
    "duration": 13,
    "start_time": "2023-06-14T18:13:44.372Z"
   },
   {
    "duration": 13,
    "start_time": "2023-06-14T18:13:44.387Z"
   },
   {
    "duration": 611,
    "start_time": "2023-06-14T18:13:44.402Z"
   },
   {
    "duration": 593,
    "start_time": "2023-06-14T18:13:45.014Z"
   },
   {
    "duration": 568,
    "start_time": "2023-06-14T18:13:45.609Z"
   },
   {
    "duration": 126,
    "start_time": "2023-06-14T18:13:46.178Z"
   },
   {
    "duration": 18,
    "start_time": "2023-06-14T18:13:46.306Z"
   },
   {
    "duration": 10,
    "start_time": "2023-06-14T18:13:46.326Z"
   },
   {
    "duration": 109,
    "start_time": "2023-06-14T18:13:46.337Z"
   },
   {
    "duration": 34,
    "start_time": "2023-06-14T18:13:46.447Z"
   },
   {
    "duration": 1275,
    "start_time": "2023-06-14T18:21:49.081Z"
   },
   {
    "duration": 171,
    "start_time": "2023-06-14T18:21:50.358Z"
   },
   {
    "duration": 158,
    "start_time": "2023-06-14T18:21:50.530Z"
   },
   {
    "duration": 142,
    "start_time": "2023-06-14T18:21:50.690Z"
   },
   {
    "duration": 18,
    "start_time": "2023-06-14T18:21:50.836Z"
   },
   {
    "duration": 14,
    "start_time": "2023-06-14T18:21:50.856Z"
   },
   {
    "duration": 42,
    "start_time": "2023-06-14T18:21:50.872Z"
   },
   {
    "duration": 23,
    "start_time": "2023-06-14T18:21:50.916Z"
   },
   {
    "duration": 596,
    "start_time": "2023-06-14T18:21:50.941Z"
   },
   {
    "duration": 569,
    "start_time": "2023-06-14T18:21:51.539Z"
   },
   {
    "duration": 584,
    "start_time": "2023-06-14T18:21:52.109Z"
   },
   {
    "duration": 124,
    "start_time": "2023-06-14T18:21:52.694Z"
   },
   {
    "duration": 18,
    "start_time": "2023-06-14T18:21:52.819Z"
   },
   {
    "duration": 15,
    "start_time": "2023-06-14T18:21:52.839Z"
   },
   {
    "duration": 71,
    "start_time": "2023-06-14T18:21:52.856Z"
   },
   {
    "duration": 38,
    "start_time": "2023-06-14T18:21:52.929Z"
   },
   {
    "duration": 5,
    "start_time": "2023-06-14T18:29:08.564Z"
   },
   {
    "duration": 493,
    "start_time": "2023-06-14T18:31:37.362Z"
   },
   {
    "duration": 82,
    "start_time": "2023-06-14T18:31:59.791Z"
   },
   {
    "duration": 5,
    "start_time": "2023-06-14T18:33:45.967Z"
   },
   {
    "duration": 3,
    "start_time": "2023-06-14T19:06:18.491Z"
   },
   {
    "duration": 3,
    "start_time": "2023-06-14T19:12:53.725Z"
   },
   {
    "duration": 4,
    "start_time": "2023-06-14T19:13:24.700Z"
   },
   {
    "duration": 3,
    "start_time": "2023-06-14T19:13:34.814Z"
   },
   {
    "duration": 1311,
    "start_time": "2023-06-14T19:17:03.656Z"
   },
   {
    "duration": 174,
    "start_time": "2023-06-14T19:17:04.969Z"
   },
   {
    "duration": 157,
    "start_time": "2023-06-14T19:17:05.145Z"
   },
   {
    "duration": 149,
    "start_time": "2023-06-14T19:17:05.304Z"
   },
   {
    "duration": 15,
    "start_time": "2023-06-14T19:17:05.456Z"
   },
   {
    "duration": 42,
    "start_time": "2023-06-14T19:17:05.472Z"
   },
   {
    "duration": 13,
    "start_time": "2023-06-14T19:17:05.516Z"
   },
   {
    "duration": 21,
    "start_time": "2023-06-14T19:17:05.531Z"
   },
   {
    "duration": 627,
    "start_time": "2023-06-14T19:17:05.554Z"
   },
   {
    "duration": 647,
    "start_time": "2023-06-14T19:17:06.183Z"
   },
   {
    "duration": 623,
    "start_time": "2023-06-14T19:17:06.832Z"
   },
   {
    "duration": 157,
    "start_time": "2023-06-14T19:17:07.457Z"
   },
   {
    "duration": 19,
    "start_time": "2023-06-14T19:17:07.616Z"
   },
   {
    "duration": 5,
    "start_time": "2023-06-14T19:17:07.637Z"
   },
   {
    "duration": 70,
    "start_time": "2023-06-14T19:17:07.654Z"
   },
   {
    "duration": 43,
    "start_time": "2023-06-14T19:17:07.726Z"
   },
   {
    "duration": 4,
    "start_time": "2023-06-14T19:17:07.771Z"
   },
   {
    "duration": 184,
    "start_time": "2023-06-14T19:17:07.777Z"
   },
   {
    "duration": 191,
    "start_time": "2023-06-14T19:17:07.963Z"
   },
   {
    "duration": 3,
    "start_time": "2023-06-14T19:17:08.156Z"
   },
   {
    "duration": 7,
    "start_time": "2023-06-14T19:17:08.160Z"
   },
   {
    "duration": 3,
    "start_time": "2023-06-14T19:34:04.337Z"
   },
   {
    "duration": 3,
    "start_time": "2023-06-14T19:34:28.705Z"
   },
   {
    "duration": 17,
    "start_time": "2023-06-14T19:36:00.347Z"
   },
   {
    "duration": 3,
    "start_time": "2023-06-14T19:38:38.137Z"
   },
   {
    "duration": 15,
    "start_time": "2023-06-14T19:38:40.394Z"
   },
   {
    "duration": 1348,
    "start_time": "2023-06-14T19:41:18.944Z"
   },
   {
    "duration": 176,
    "start_time": "2023-06-14T19:41:20.294Z"
   },
   {
    "duration": 146,
    "start_time": "2023-06-14T19:41:20.471Z"
   },
   {
    "duration": 150,
    "start_time": "2023-06-14T19:41:20.619Z"
   },
   {
    "duration": 16,
    "start_time": "2023-06-14T19:41:20.771Z"
   },
   {
    "duration": 16,
    "start_time": "2023-06-14T19:41:20.789Z"
   },
   {
    "duration": 20,
    "start_time": "2023-06-14T19:41:20.807Z"
   },
   {
    "duration": 44,
    "start_time": "2023-06-14T19:41:20.830Z"
   },
   {
    "duration": 658,
    "start_time": "2023-06-14T19:41:20.876Z"
   },
   {
    "duration": 597,
    "start_time": "2023-06-14T19:41:21.536Z"
   },
   {
    "duration": 607,
    "start_time": "2023-06-14T19:41:22.135Z"
   },
   {
    "duration": 128,
    "start_time": "2023-06-14T19:41:22.743Z"
   },
   {
    "duration": 17,
    "start_time": "2023-06-14T19:41:22.872Z"
   },
   {
    "duration": 5,
    "start_time": "2023-06-14T19:41:22.891Z"
   },
   {
    "duration": 81,
    "start_time": "2023-06-14T19:41:22.897Z"
   },
   {
    "duration": 25,
    "start_time": "2023-06-14T19:41:22.980Z"
   },
   {
    "duration": 3,
    "start_time": "2023-06-14T19:41:23.007Z"
   },
   {
    "duration": 246,
    "start_time": "2023-06-14T19:41:23.012Z"
   },
   {
    "duration": 98,
    "start_time": "2023-06-14T19:41:23.260Z"
   },
   {
    "duration": 99,
    "start_time": "2023-06-14T19:41:23.361Z"
   },
   {
    "duration": 4,
    "start_time": "2023-06-14T19:41:23.462Z"
   },
   {
    "duration": 6,
    "start_time": "2023-06-14T19:41:23.467Z"
   },
   {
    "duration": 15,
    "start_time": "2023-06-14T19:41:23.474Z"
   },
   {
    "duration": 1567,
    "start_time": "2023-06-15T04:10:56.899Z"
   },
   {
    "duration": 624,
    "start_time": "2023-06-15T04:10:58.470Z"
   },
   {
    "duration": 1001,
    "start_time": "2023-06-15T04:10:59.096Z"
   },
   {
    "duration": 576,
    "start_time": "2023-06-15T04:11:00.100Z"
   },
   {
    "duration": 19,
    "start_time": "2023-06-15T04:11:00.679Z"
   },
   {
    "duration": 64,
    "start_time": "2023-06-15T04:11:00.701Z"
   },
   {
    "duration": 45,
    "start_time": "2023-06-15T04:11:00.767Z"
   },
   {
    "duration": 34,
    "start_time": "2023-06-15T04:11:00.814Z"
   },
   {
    "duration": 719,
    "start_time": "2023-06-15T04:11:00.851Z"
   },
   {
    "duration": 746,
    "start_time": "2023-06-15T04:11:01.573Z"
   },
   {
    "duration": 755,
    "start_time": "2023-06-15T04:11:02.322Z"
   },
   {
    "duration": 154,
    "start_time": "2023-06-15T04:11:03.079Z"
   },
   {
    "duration": 34,
    "start_time": "2023-06-15T04:11:03.236Z"
   },
   {
    "duration": 14,
    "start_time": "2023-06-15T04:11:03.274Z"
   },
   {
    "duration": 109,
    "start_time": "2023-06-15T04:11:03.291Z"
   },
   {
    "duration": 33,
    "start_time": "2023-06-15T04:11:03.402Z"
   },
   {
    "duration": 6,
    "start_time": "2023-06-15T04:11:03.451Z"
   },
   {
    "duration": 207,
    "start_time": "2023-06-15T04:11:03.460Z"
   },
   {
    "duration": 85,
    "start_time": "2023-06-15T04:11:03.669Z"
   },
   {
    "duration": 5,
    "start_time": "2023-06-15T04:11:03.757Z"
   },
   {
    "duration": 86,
    "start_time": "2023-06-15T04:11:03.765Z"
   },
   {
    "duration": 9,
    "start_time": "2023-06-15T04:11:03.854Z"
   },
   {
    "duration": 30,
    "start_time": "2023-06-15T04:11:03.866Z"
   },
   {
    "duration": 4,
    "start_time": "2023-06-15T04:55:20.264Z"
   },
   {
    "duration": 10,
    "start_time": "2023-06-15T05:09:36.074Z"
   },
   {
    "duration": 1713,
    "start_time": "2023-06-15T05:10:39.871Z"
   },
   {
    "duration": 8,
    "start_time": "2023-06-15T05:13:04.178Z"
   },
   {
    "duration": 1712,
    "start_time": "2023-06-15T05:13:05.580Z"
   },
   {
    "duration": 1707,
    "start_time": "2023-06-15T05:13:27.649Z"
   },
   {
    "duration": 1840,
    "start_time": "2023-06-15T05:15:07.504Z"
   },
   {
    "duration": 1699,
    "start_time": "2023-06-15T05:15:13.408Z"
   },
   {
    "duration": 1786,
    "start_time": "2023-06-15T05:15:35.689Z"
   },
   {
    "duration": 2030,
    "start_time": "2023-06-15T05:54:40.240Z"
   },
   {
    "duration": 1168,
    "start_time": "2023-06-15T05:54:42.278Z"
   },
   {
    "duration": 1062,
    "start_time": "2023-06-15T05:54:43.448Z"
   },
   {
    "duration": 828,
    "start_time": "2023-06-15T05:54:44.516Z"
   },
   {
    "duration": 18,
    "start_time": "2023-06-15T05:54:45.346Z"
   },
   {
    "duration": 21,
    "start_time": "2023-06-15T05:54:45.366Z"
   },
   {
    "duration": 20,
    "start_time": "2023-06-15T05:54:45.389Z"
   },
   {
    "duration": 19,
    "start_time": "2023-06-15T05:54:45.411Z"
   },
   {
    "duration": 861,
    "start_time": "2023-06-15T05:54:45.456Z"
   },
   {
    "duration": 1020,
    "start_time": "2023-06-15T05:54:46.319Z"
   },
   {
    "duration": 1160,
    "start_time": "2023-06-15T05:54:47.342Z"
   },
   {
    "duration": 189,
    "start_time": "2023-06-15T05:54:48.504Z"
   },
   {
    "duration": 21,
    "start_time": "2023-06-15T05:54:48.695Z"
   },
   {
    "duration": 5,
    "start_time": "2023-06-15T05:54:48.720Z"
   },
   {
    "duration": 113,
    "start_time": "2023-06-15T05:54:48.728Z"
   },
   {
    "duration": 34,
    "start_time": "2023-06-15T05:54:48.842Z"
   },
   {
    "duration": 4,
    "start_time": "2023-06-15T05:54:48.878Z"
   },
   {
    "duration": 320,
    "start_time": "2023-06-15T05:54:48.884Z"
   },
   {
    "duration": 35,
    "start_time": "2023-06-15T05:54:49.217Z"
   },
   {
    "duration": 13,
    "start_time": "2023-06-15T05:54:49.264Z"
   },
   {
    "duration": 18,
    "start_time": "2023-06-15T05:54:49.287Z"
   },
   {
    "duration": 9,
    "start_time": "2023-06-15T05:54:49.309Z"
   },
   {
    "duration": 31,
    "start_time": "2023-06-15T05:54:49.323Z"
   },
   {
    "duration": 4,
    "start_time": "2023-06-15T05:54:49.356Z"
   },
   {
    "duration": 11,
    "start_time": "2023-06-15T05:54:49.362Z"
   },
   {
    "duration": 1943,
    "start_time": "2023-06-15T05:54:49.375Z"
   },
   {
    "duration": 1880,
    "start_time": "2023-06-15T05:54:51.325Z"
   },
   {
    "duration": 1929,
    "start_time": "2023-06-15T05:54:53.207Z"
   },
   {
    "duration": 430,
    "start_time": "2023-06-16T04:10:36.171Z"
   },
   {
    "duration": 0,
    "start_time": "2023-06-16T04:10:36.604Z"
   },
   {
    "duration": 0,
    "start_time": "2023-06-16T04:10:36.605Z"
   },
   {
    "duration": 0,
    "start_time": "2023-06-16T04:10:36.606Z"
   },
   {
    "duration": 0,
    "start_time": "2023-06-16T04:10:36.607Z"
   },
   {
    "duration": 0,
    "start_time": "2023-06-16T04:10:36.608Z"
   },
   {
    "duration": 0,
    "start_time": "2023-06-16T04:10:36.609Z"
   },
   {
    "duration": 0,
    "start_time": "2023-06-16T04:10:36.610Z"
   },
   {
    "duration": 0,
    "start_time": "2023-06-16T04:10:36.611Z"
   },
   {
    "duration": 0,
    "start_time": "2023-06-16T04:10:36.612Z"
   },
   {
    "duration": 0,
    "start_time": "2023-06-16T04:10:36.612Z"
   },
   {
    "duration": 1191,
    "start_time": "2023-06-16T04:11:54.923Z"
   },
   {
    "duration": 1371,
    "start_time": "2023-06-16T04:17:48.266Z"
   },
   {
    "duration": 490,
    "start_time": "2023-06-16T04:17:49.639Z"
   },
   {
    "duration": 323,
    "start_time": "2023-06-16T04:17:50.131Z"
   },
   {
    "duration": 349,
    "start_time": "2023-06-16T04:17:50.457Z"
   },
   {
    "duration": 22,
    "start_time": "2023-06-16T04:17:50.808Z"
   },
   {
    "duration": 58,
    "start_time": "2023-06-16T04:17:50.832Z"
   },
   {
    "duration": 21,
    "start_time": "2023-06-16T04:17:50.893Z"
   },
   {
    "duration": 26,
    "start_time": "2023-06-16T04:17:50.916Z"
   },
   {
    "duration": 705,
    "start_time": "2023-06-16T04:17:50.944Z"
   },
   {
    "duration": 732,
    "start_time": "2023-06-16T04:17:51.653Z"
   },
   {
    "duration": 809,
    "start_time": "2023-06-16T04:17:52.387Z"
   },
   {
    "duration": 17,
    "start_time": "2023-06-16T04:18:41.880Z"
   },
   {
    "duration": 54,
    "start_time": "2023-06-16T04:19:24.590Z"
   },
   {
    "duration": 1350,
    "start_time": "2023-06-16T04:39:43.988Z"
   },
   {
    "duration": 178,
    "start_time": "2023-06-16T04:39:45.341Z"
   },
   {
    "duration": 152,
    "start_time": "2023-06-16T04:39:45.521Z"
   },
   {
    "duration": 173,
    "start_time": "2023-06-16T04:39:45.675Z"
   },
   {
    "duration": 22,
    "start_time": "2023-06-16T04:39:45.853Z"
   },
   {
    "duration": 24,
    "start_time": "2023-06-16T04:39:45.878Z"
   },
   {
    "duration": 44,
    "start_time": "2023-06-16T04:39:45.905Z"
   },
   {
    "duration": 21,
    "start_time": "2023-06-16T04:39:45.951Z"
   },
   {
    "duration": 842,
    "start_time": "2023-06-16T04:39:45.974Z"
   },
   {
    "duration": 646,
    "start_time": "2023-06-16T04:39:46.818Z"
   },
   {
    "duration": 648,
    "start_time": "2023-06-16T04:39:47.466Z"
   },
   {
    "duration": 38,
    "start_time": "2023-06-16T04:39:48.115Z"
   },
   {
    "duration": 144,
    "start_time": "2023-06-16T04:39:48.155Z"
   },
   {
    "duration": 21,
    "start_time": "2023-06-16T04:39:48.313Z"
   },
   {
    "duration": 14,
    "start_time": "2023-06-16T04:39:48.336Z"
   },
   {
    "duration": 74,
    "start_time": "2023-06-16T04:39:48.351Z"
   },
   {
    "duration": 37,
    "start_time": "2023-06-16T04:39:48.431Z"
   },
   {
    "duration": 6,
    "start_time": "2023-06-16T04:39:48.470Z"
   },
   {
    "duration": 354,
    "start_time": "2023-06-16T04:39:48.477Z"
   },
   {
    "duration": 6,
    "start_time": "2023-06-16T04:39:48.833Z"
   },
   {
    "duration": 100,
    "start_time": "2023-06-16T04:39:48.841Z"
   },
   {
    "duration": 10,
    "start_time": "2023-06-16T04:39:48.944Z"
   },
   {
    "duration": 8,
    "start_time": "2023-06-16T04:39:48.956Z"
   },
   {
    "duration": 51,
    "start_time": "2023-06-16T04:39:48.966Z"
   },
   {
    "duration": 4,
    "start_time": "2023-06-16T04:39:49.019Z"
   },
   {
    "duration": 17,
    "start_time": "2023-06-16T04:39:49.025Z"
   },
   {
    "duration": 1468,
    "start_time": "2023-06-16T04:39:49.043Z"
   },
   {
    "duration": 1626,
    "start_time": "2023-06-16T04:39:50.513Z"
   },
   {
    "duration": 1419,
    "start_time": "2023-06-16T04:39:52.142Z"
   },
   {
    "duration": 1479,
    "start_time": "2023-06-16T05:34:21.105Z"
   },
   {
    "duration": 188,
    "start_time": "2023-06-16T05:34:22.586Z"
   },
   {
    "duration": 222,
    "start_time": "2023-06-16T05:34:22.776Z"
   },
   {
    "duration": 281,
    "start_time": "2023-06-16T05:34:23.000Z"
   },
   {
    "duration": 19,
    "start_time": "2023-06-16T05:34:23.283Z"
   },
   {
    "duration": 41,
    "start_time": "2023-06-16T05:34:23.306Z"
   },
   {
    "duration": 17,
    "start_time": "2023-06-16T05:34:23.349Z"
   },
   {
    "duration": 36,
    "start_time": "2023-06-16T05:34:23.368Z"
   },
   {
    "duration": 732,
    "start_time": "2023-06-16T05:34:23.406Z"
   },
   {
    "duration": 778,
    "start_time": "2023-06-16T05:34:24.140Z"
   },
   {
    "duration": 754,
    "start_time": "2023-06-16T05:34:24.920Z"
   },
   {
    "duration": 56,
    "start_time": "2023-06-16T05:34:25.676Z"
   },
   {
    "duration": 135,
    "start_time": "2023-06-16T05:34:25.734Z"
   },
   {
    "duration": 21,
    "start_time": "2023-06-16T05:34:25.872Z"
   },
   {
    "duration": 16,
    "start_time": "2023-06-16T05:34:25.895Z"
   },
   {
    "duration": 119,
    "start_time": "2023-06-16T05:34:25.913Z"
   },
   {
    "duration": 33,
    "start_time": "2023-06-16T05:34:26.035Z"
   },
   {
    "duration": 4,
    "start_time": "2023-06-16T05:34:26.070Z"
   },
   {
    "duration": 259,
    "start_time": "2023-06-16T05:34:26.076Z"
   },
   {
    "duration": 99,
    "start_time": "2023-06-16T05:34:26.337Z"
   },
   {
    "duration": 17,
    "start_time": "2023-06-16T05:34:26.438Z"
   },
   {
    "duration": 21,
    "start_time": "2023-06-16T05:34:26.458Z"
   },
   {
    "duration": 40,
    "start_time": "2023-06-16T05:34:26.482Z"
   },
   {
    "duration": 17,
    "start_time": "2023-06-16T05:34:26.525Z"
   },
   {
    "duration": 115,
    "start_time": "2023-06-16T05:34:26.545Z"
   },
   {
    "duration": 0,
    "start_time": "2023-06-16T05:34:26.662Z"
   },
   {
    "duration": 0,
    "start_time": "2023-06-16T05:34:26.664Z"
   },
   {
    "duration": 0,
    "start_time": "2023-06-16T05:34:26.665Z"
   },
   {
    "duration": 13,
    "start_time": "2023-06-16T05:36:19.420Z"
   },
   {
    "duration": 6,
    "start_time": "2023-06-16T05:36:52.405Z"
   },
   {
    "duration": 31,
    "start_time": "2023-06-16T05:36:54.638Z"
   },
   {
    "duration": 6,
    "start_time": "2023-06-16T05:43:24.156Z"
   },
   {
    "duration": 28,
    "start_time": "2023-06-16T05:43:26.741Z"
   },
   {
    "duration": 6,
    "start_time": "2023-06-16T05:47:47.884Z"
   },
   {
    "duration": 27,
    "start_time": "2023-06-16T05:47:50.469Z"
   },
   {
    "duration": 7,
    "start_time": "2023-06-16T05:50:58.221Z"
   },
   {
    "duration": 19,
    "start_time": "2023-06-16T05:51:00.598Z"
   },
   {
    "duration": 4,
    "start_time": "2023-06-16T06:00:00.185Z"
   },
   {
    "duration": 6,
    "start_time": "2023-06-16T06:00:02.353Z"
   },
   {
    "duration": 19,
    "start_time": "2023-06-16T06:00:05.417Z"
   },
   {
    "duration": 3,
    "start_time": "2023-06-16T06:05:27.315Z"
   },
   {
    "duration": 7,
    "start_time": "2023-06-16T06:05:28.786Z"
   },
   {
    "duration": 4360,
    "start_time": "2023-06-16T06:05:30.651Z"
   },
   {
    "duration": 5,
    "start_time": "2023-06-16T06:05:40.322Z"
   },
   {
    "duration": 4,
    "start_time": "2023-06-16T06:05:42.626Z"
   },
   {
    "duration": 4,
    "start_time": "2023-06-16T06:05:47.482Z"
   },
   {
    "duration": 149,
    "start_time": "2023-06-16T07:29:15.484Z"
   },
   {
    "duration": 1334,
    "start_time": "2023-06-16T07:30:44.872Z"
   },
   {
    "duration": 170,
    "start_time": "2023-06-16T07:30:46.207Z"
   },
   {
    "duration": 158,
    "start_time": "2023-06-16T07:30:46.378Z"
   },
   {
    "duration": 155,
    "start_time": "2023-06-16T07:30:46.538Z"
   },
   {
    "duration": 14,
    "start_time": "2023-06-16T07:30:46.695Z"
   },
   {
    "duration": 25,
    "start_time": "2023-06-16T07:30:46.710Z"
   },
   {
    "duration": 13,
    "start_time": "2023-06-16T07:30:46.737Z"
   },
   {
    "duration": 13,
    "start_time": "2023-06-16T07:30:46.752Z"
   },
   {
    "duration": 607,
    "start_time": "2023-06-16T07:30:46.767Z"
   },
   {
    "duration": 609,
    "start_time": "2023-06-16T07:30:47.376Z"
   },
   {
    "duration": 616,
    "start_time": "2023-06-16T07:30:47.987Z"
   },
   {
    "duration": 37,
    "start_time": "2023-06-16T07:30:48.604Z"
   },
   {
    "duration": 128,
    "start_time": "2023-06-16T07:30:48.643Z"
   },
   {
    "duration": 18,
    "start_time": "2023-06-16T07:30:48.773Z"
   },
   {
    "duration": 13,
    "start_time": "2023-06-16T07:30:48.792Z"
   },
   {
    "duration": 82,
    "start_time": "2023-06-16T07:30:48.806Z"
   },
   {
    "duration": 25,
    "start_time": "2023-06-16T07:30:48.889Z"
   },
   {
    "duration": 20,
    "start_time": "2023-06-16T07:30:48.916Z"
   },
   {
    "duration": 201,
    "start_time": "2023-06-16T07:30:48.938Z"
   },
   {
    "duration": 96,
    "start_time": "2023-06-16T07:30:49.141Z"
   },
   {
    "duration": 93,
    "start_time": "2023-06-16T07:30:49.239Z"
   },
   {
    "duration": 8,
    "start_time": "2023-06-16T07:30:49.333Z"
   },
   {
    "duration": 6,
    "start_time": "2023-06-16T07:30:49.342Z"
   },
   {
    "duration": 7,
    "start_time": "2023-06-16T07:30:49.350Z"
   },
   {
    "duration": 4411,
    "start_time": "2023-06-16T07:30:49.358Z"
   },
   {
    "duration": 79,
    "start_time": "2023-06-16T07:30:53.771Z"
   },
   {
    "duration": 0,
    "start_time": "2023-06-16T07:30:53.852Z"
   },
   {
    "duration": 0,
    "start_time": "2023-06-16T07:30:53.853Z"
   },
   {
    "duration": 0,
    "start_time": "2023-06-16T07:30:53.854Z"
   },
   {
    "duration": 4,
    "start_time": "2023-06-16T07:32:43.428Z"
   },
   {
    "duration": 87,
    "start_time": "2023-06-16T07:33:29.741Z"
   },
   {
    "duration": 113,
    "start_time": "2023-06-16T07:34:20.573Z"
   },
   {
    "duration": 121,
    "start_time": "2023-06-16T07:35:24.869Z"
   },
   {
    "duration": 1357,
    "start_time": "2023-06-16T07:42:56.482Z"
   },
   {
    "duration": 186,
    "start_time": "2023-06-16T07:42:57.842Z"
   },
   {
    "duration": 170,
    "start_time": "2023-06-16T07:42:58.030Z"
   },
   {
    "duration": 157,
    "start_time": "2023-06-16T07:42:58.201Z"
   },
   {
    "duration": 16,
    "start_time": "2023-06-16T07:42:58.361Z"
   },
   {
    "duration": 21,
    "start_time": "2023-06-16T07:42:58.378Z"
   },
   {
    "duration": 18,
    "start_time": "2023-06-16T07:42:58.401Z"
   },
   {
    "duration": 22,
    "start_time": "2023-06-16T07:42:58.421Z"
   },
   {
    "duration": 588,
    "start_time": "2023-06-16T07:42:58.445Z"
   },
   {
    "duration": 584,
    "start_time": "2023-06-16T07:42:59.035Z"
   },
   {
    "duration": 603,
    "start_time": "2023-06-16T07:42:59.631Z"
   },
   {
    "duration": 30,
    "start_time": "2023-06-16T07:43:00.236Z"
   },
   {
    "duration": 136,
    "start_time": "2023-06-16T07:43:00.267Z"
   },
   {
    "duration": 26,
    "start_time": "2023-06-16T07:43:00.406Z"
   },
   {
    "duration": 50,
    "start_time": "2023-06-16T07:43:00.434Z"
   },
   {
    "duration": 105,
    "start_time": "2023-06-16T07:43:00.486Z"
   },
   {
    "duration": 27,
    "start_time": "2023-06-16T07:43:00.592Z"
   },
   {
    "duration": 21,
    "start_time": "2023-06-16T07:43:00.631Z"
   },
   {
    "duration": 183,
    "start_time": "2023-06-16T07:43:00.654Z"
   },
   {
    "duration": 350,
    "start_time": "2023-06-16T07:43:00.839Z"
   },
   {
    "duration": 483,
    "start_time": "2023-06-16T07:43:01.191Z"
   },
   {
    "duration": 33,
    "start_time": "2023-06-16T07:43:01.676Z"
   },
   {
    "duration": 49,
    "start_time": "2023-06-16T07:43:01.711Z"
   },
   {
    "duration": 66,
    "start_time": "2023-06-16T07:43:01.763Z"
   },
   {
    "duration": 73,
    "start_time": "2023-06-16T07:43:01.831Z"
   },
   {
    "duration": 174,
    "start_time": "2023-06-16T07:43:01.906Z"
   },
   {
    "duration": 0,
    "start_time": "2023-06-16T07:43:02.083Z"
   },
   {
    "duration": 0,
    "start_time": "2023-06-16T07:43:02.084Z"
   },
   {
    "duration": 0,
    "start_time": "2023-06-16T07:43:02.086Z"
   },
   {
    "duration": 0,
    "start_time": "2023-06-16T07:43:02.087Z"
   },
   {
    "duration": 5,
    "start_time": "2023-06-16T07:48:12.431Z"
   },
   {
    "duration": 24,
    "start_time": "2023-06-16T07:48:15.983Z"
   },
   {
    "duration": 5,
    "start_time": "2023-06-16T08:30:10.716Z"
   },
   {
    "duration": 4498,
    "start_time": "2023-06-16T08:30:13.708Z"
   },
   {
    "duration": 11,
    "start_time": "2023-06-16T08:30:23.107Z"
   },
   {
    "duration": 6,
    "start_time": "2023-06-16T08:30:32.500Z"
   },
   {
    "duration": 6,
    "start_time": "2023-06-16T08:30:34.436Z"
   },
   {
    "duration": 4,
    "start_time": "2023-06-16T08:30:36.876Z"
   },
   {
    "duration": 9,
    "start_time": "2023-06-16T08:32:22.861Z"
   },
   {
    "duration": 10,
    "start_time": "2023-06-16T08:33:27.004Z"
   },
   {
    "duration": 10,
    "start_time": "2023-06-16T08:33:38.436Z"
   },
   {
    "duration": 5,
    "start_time": "2023-06-16T08:34:58.005Z"
   },
   {
    "duration": 1429,
    "start_time": "2023-06-16T08:34:59.612Z"
   },
   {
    "duration": 5,
    "start_time": "2023-06-16T08:41:48.793Z"
   },
   {
    "duration": 4081,
    "start_time": "2023-06-16T08:41:50.853Z"
   },
   {
    "duration": 9,
    "start_time": "2023-06-16T08:44:39.502Z"
   },
   {
    "duration": 5,
    "start_time": "2023-06-16T08:45:14.230Z"
   },
   {
    "duration": 4162,
    "start_time": "2023-06-16T08:45:16.814Z"
   },
   {
    "duration": 23,
    "start_time": "2023-06-16T08:45:20.978Z"
   },
   {
    "duration": 30,
    "start_time": "2023-06-16T08:47:03.998Z"
   },
   {
    "duration": 31,
    "start_time": "2023-06-16T08:54:14.318Z"
   },
   {
    "duration": 22,
    "start_time": "2023-06-16T09:05:05.560Z"
   },
   {
    "duration": 6,
    "start_time": "2023-06-16T09:06:15.712Z"
   },
   {
    "duration": 4821,
    "start_time": "2023-06-16T09:06:18.184Z"
   },
   {
    "duration": 29,
    "start_time": "2023-06-16T09:06:23.008Z"
   },
   {
    "duration": 4,
    "start_time": "2023-06-16T09:06:26.872Z"
   },
   {
    "duration": 5,
    "start_time": "2023-06-16T09:06:35.024Z"
   },
   {
    "duration": 5,
    "start_time": "2023-06-16T09:07:05.880Z"
   },
   {
    "duration": 5,
    "start_time": "2023-06-16T09:07:30.841Z"
   },
   {
    "duration": 5,
    "start_time": "2023-06-16T09:07:42.408Z"
   },
   {
    "duration": 6,
    "start_time": "2023-06-16T09:07:48.648Z"
   },
   {
    "duration": 5,
    "start_time": "2023-06-16T09:08:41.561Z"
   },
   {
    "duration": 9,
    "start_time": "2023-06-16T09:08:43.369Z"
   },
   {
    "duration": 5,
    "start_time": "2023-06-16T09:08:54.872Z"
   },
   {
    "duration": 7,
    "start_time": "2023-06-16T09:09:28.257Z"
   },
   {
    "duration": 4794,
    "start_time": "2023-06-16T09:09:30.149Z"
   },
   {
    "duration": 32,
    "start_time": "2023-06-16T09:09:34.947Z"
   },
   {
    "duration": 10,
    "start_time": "2023-06-16T09:13:37.433Z"
   },
   {
    "duration": 42,
    "start_time": "2023-06-16T09:13:39.261Z"
   },
   {
    "duration": 5,
    "start_time": "2023-06-16T09:13:42.593Z"
   },
   {
    "duration": 1372,
    "start_time": "2023-06-16T09:14:11.356Z"
   },
   {
    "duration": 193,
    "start_time": "2023-06-16T09:14:12.730Z"
   },
   {
    "duration": 162,
    "start_time": "2023-06-16T09:14:12.924Z"
   },
   {
    "duration": 428,
    "start_time": "2023-06-16T09:14:13.088Z"
   },
   {
    "duration": 20,
    "start_time": "2023-06-16T09:14:13.518Z"
   },
   {
    "duration": 28,
    "start_time": "2023-06-16T09:14:13.539Z"
   },
   {
    "duration": 15,
    "start_time": "2023-06-16T09:14:13.568Z"
   },
   {
    "duration": 22,
    "start_time": "2023-06-16T09:14:13.584Z"
   },
   {
    "duration": 620,
    "start_time": "2023-06-16T09:14:13.608Z"
   },
   {
    "duration": 761,
    "start_time": "2023-06-16T09:14:14.231Z"
   },
   {
    "duration": 611,
    "start_time": "2023-06-16T09:14:14.993Z"
   },
   {
    "duration": 39,
    "start_time": "2023-06-16T09:14:15.606Z"
   },
   {
    "duration": 191,
    "start_time": "2023-06-16T09:14:15.646Z"
   },
   {
    "duration": 18,
    "start_time": "2023-06-16T09:14:15.840Z"
   },
   {
    "duration": 9,
    "start_time": "2023-06-16T09:14:15.860Z"
   },
   {
    "duration": 103,
    "start_time": "2023-06-16T09:14:15.871Z"
   },
   {
    "duration": 29,
    "start_time": "2023-06-16T09:14:15.976Z"
   },
   {
    "duration": 10,
    "start_time": "2023-06-16T09:14:16.007Z"
   },
   {
    "duration": 321,
    "start_time": "2023-06-16T09:14:16.019Z"
   },
   {
    "duration": 93,
    "start_time": "2023-06-16T09:14:16.344Z"
   },
   {
    "duration": 110,
    "start_time": "2023-06-16T09:14:16.440Z"
   },
   {
    "duration": 30,
    "start_time": "2023-06-16T09:14:16.552Z"
   },
   {
    "duration": 12,
    "start_time": "2023-06-16T09:14:16.583Z"
   },
   {
    "duration": 8,
    "start_time": "2023-06-16T09:14:16.596Z"
   },
   {
    "duration": 19,
    "start_time": "2023-06-16T09:14:16.606Z"
   },
   {
    "duration": 4453,
    "start_time": "2023-06-16T09:14:16.627Z"
   },
   {
    "duration": 136,
    "start_time": "2023-06-16T09:14:21.082Z"
   },
   {
    "duration": 0,
    "start_time": "2023-06-16T09:14:21.220Z"
   },
   {
    "duration": 0,
    "start_time": "2023-06-16T09:14:21.221Z"
   },
   {
    "duration": 0,
    "start_time": "2023-06-16T09:14:21.223Z"
   },
   {
    "duration": 5,
    "start_time": "2023-06-16T09:14:29.465Z"
   },
   {
    "duration": 6,
    "start_time": "2023-06-16T09:15:35.602Z"
   },
   {
    "duration": 4403,
    "start_time": "2023-06-16T09:15:37.550Z"
   },
   {
    "duration": 5,
    "start_time": "2023-06-16T09:15:41.955Z"
   },
   {
    "duration": 6,
    "start_time": "2023-06-16T09:15:44.769Z"
   },
   {
    "duration": 4,
    "start_time": "2023-06-16T09:15:49.121Z"
   },
   {
    "duration": 5,
    "start_time": "2023-06-16T09:16:49.546Z"
   },
   {
    "duration": 4379,
    "start_time": "2023-06-16T09:16:51.553Z"
   },
   {
    "duration": 5,
    "start_time": "2023-06-16T09:16:55.935Z"
   },
   {
    "duration": 5,
    "start_time": "2023-06-16T09:16:59.897Z"
   },
   {
    "duration": 5,
    "start_time": "2023-06-16T09:17:02.890Z"
   },
   {
    "duration": 32,
    "start_time": "2023-06-16T09:17:14.170Z"
   },
   {
    "duration": 33,
    "start_time": "2023-06-16T09:18:45.049Z"
   },
   {
    "duration": 36,
    "start_time": "2023-06-16T09:21:27.190Z"
   },
   {
    "duration": 34,
    "start_time": "2023-06-16T09:22:15.450Z"
   },
   {
    "duration": 6,
    "start_time": "2023-06-16T09:23:24.756Z"
   },
   {
    "duration": 5633,
    "start_time": "2023-06-16T09:23:26.811Z"
   },
   {
    "duration": 31,
    "start_time": "2023-06-16T09:23:32.447Z"
   },
   {
    "duration": 4,
    "start_time": "2023-06-16T09:25:58.922Z"
   },
   {
    "duration": 5,
    "start_time": "2023-06-16T09:26:01.472Z"
   },
   {
    "duration": 5,
    "start_time": "2023-06-16T09:26:03.689Z"
   },
   {
    "duration": 5,
    "start_time": "2023-06-16T09:29:12.856Z"
   },
   {
    "duration": 9,
    "start_time": "2023-06-16T09:32:48.828Z"
   },
   {
    "duration": 23,
    "start_time": "2023-06-16T09:32:51.523Z"
   },
   {
    "duration": 5,
    "start_time": "2023-06-16T09:33:36.211Z"
   },
   {
    "duration": 4747,
    "start_time": "2023-06-16T09:33:39.892Z"
   },
   {
    "duration": 5,
    "start_time": "2023-06-16T09:33:54.048Z"
   },
   {
    "duration": 4,
    "start_time": "2023-06-16T09:33:56.315Z"
   },
   {
    "duration": 4,
    "start_time": "2023-06-16T09:33:58.513Z"
   },
   {
    "duration": 31,
    "start_time": "2023-06-16T09:35:54.768Z"
   },
   {
    "duration": 11,
    "start_time": "2023-06-16T09:43:46.861Z"
   },
   {
    "duration": 17,
    "start_time": "2023-06-16T09:44:04.580Z"
   },
   {
    "duration": 17,
    "start_time": "2023-06-16T09:45:12.700Z"
   },
   {
    "duration": 5,
    "start_time": "2023-06-16T09:45:46.483Z"
   },
   {
    "duration": 21,
    "start_time": "2023-06-16T09:45:48.152Z"
   },
   {
    "duration": 5,
    "start_time": "2023-06-16T09:51:20.420Z"
   },
   {
    "duration": 34,
    "start_time": "2023-06-16T09:51:25.380Z"
   },
   {
    "duration": 8,
    "start_time": "2023-06-16T09:52:30.628Z"
   },
   {
    "duration": 33,
    "start_time": "2023-06-16T09:52:34.850Z"
   },
   {
    "duration": 17,
    "start_time": "2023-06-16T09:52:55.804Z"
   },
   {
    "duration": 5,
    "start_time": "2023-06-16T09:54:04.509Z"
   },
   {
    "duration": 23,
    "start_time": "2023-06-16T09:54:13.397Z"
   },
   {
    "duration": 25,
    "start_time": "2023-06-16T09:54:21.389Z"
   },
   {
    "duration": 11,
    "start_time": "2023-06-16T09:56:25.691Z"
   },
   {
    "duration": 26,
    "start_time": "2023-06-16T09:56:28.301Z"
   },
   {
    "duration": 13,
    "start_time": "2023-06-16T09:57:25.361Z"
   },
   {
    "duration": 26,
    "start_time": "2023-06-16T09:57:28.573Z"
   },
   {
    "duration": 1545,
    "start_time": "2023-06-16T10:01:43.024Z"
   },
   {
    "duration": 200,
    "start_time": "2023-06-16T10:01:44.572Z"
   },
   {
    "duration": 227,
    "start_time": "2023-06-16T10:01:44.774Z"
   },
   {
    "duration": 248,
    "start_time": "2023-06-16T10:01:45.003Z"
   },
   {
    "duration": 20,
    "start_time": "2023-06-16T10:01:45.254Z"
   },
   {
    "duration": 37,
    "start_time": "2023-06-16T10:01:45.276Z"
   },
   {
    "duration": 26,
    "start_time": "2023-06-16T10:01:45.316Z"
   },
   {
    "duration": 33,
    "start_time": "2023-06-16T10:01:45.344Z"
   },
   {
    "duration": 854,
    "start_time": "2023-06-16T10:01:45.379Z"
   },
   {
    "duration": 866,
    "start_time": "2023-06-16T10:01:46.235Z"
   },
   {
    "duration": 747,
    "start_time": "2023-06-16T10:01:47.103Z"
   },
   {
    "duration": 48,
    "start_time": "2023-06-16T10:01:47.857Z"
   },
   {
    "duration": 160,
    "start_time": "2023-06-16T10:01:47.908Z"
   },
   {
    "duration": 17,
    "start_time": "2023-06-16T10:01:48.071Z"
   },
   {
    "duration": 12,
    "start_time": "2023-06-16T10:01:48.090Z"
   },
   {
    "duration": 107,
    "start_time": "2023-06-16T10:01:48.104Z"
   },
   {
    "duration": 46,
    "start_time": "2023-06-16T10:01:48.213Z"
   },
   {
    "duration": 42,
    "start_time": "2023-06-16T10:01:48.261Z"
   },
   {
    "duration": 60,
    "start_time": "2023-06-16T10:01:48.305Z"
   },
   {
    "duration": 75,
    "start_time": "2023-06-16T10:01:48.367Z"
   },
   {
    "duration": 97,
    "start_time": "2023-06-16T10:01:48.445Z"
   },
   {
    "duration": 14,
    "start_time": "2023-06-16T10:01:48.544Z"
   },
   {
    "duration": 12,
    "start_time": "2023-06-16T10:01:48.560Z"
   },
   {
    "duration": 8,
    "start_time": "2023-06-16T10:01:48.574Z"
   },
   {
    "duration": 29,
    "start_time": "2023-06-16T10:01:48.584Z"
   },
   {
    "duration": 162,
    "start_time": "2023-06-16T10:01:48.614Z"
   },
   {
    "duration": 0,
    "start_time": "2023-06-16T10:01:48.778Z"
   },
   {
    "duration": 0,
    "start_time": "2023-06-16T10:01:48.780Z"
   },
   {
    "duration": 0,
    "start_time": "2023-06-16T10:01:48.781Z"
   },
   {
    "duration": 1,
    "start_time": "2023-06-16T10:01:48.782Z"
   },
   {
    "duration": 5,
    "start_time": "2023-06-16T10:02:50.154Z"
   },
   {
    "duration": 39,
    "start_time": "2023-06-16T10:02:53.013Z"
   },
   {
    "duration": 6,
    "start_time": "2023-06-16T10:03:07.373Z"
   },
   {
    "duration": 38,
    "start_time": "2023-06-16T10:03:08.701Z"
   },
   {
    "duration": 18,
    "start_time": "2023-06-16T10:18:08.266Z"
   },
   {
    "duration": 9,
    "start_time": "2023-06-16T10:18:13.848Z"
   },
   {
    "duration": 6,
    "start_time": "2023-06-16T10:20:04.038Z"
   },
   {
    "duration": 21,
    "start_time": "2023-06-16T10:21:10.742Z"
   },
   {
    "duration": 20,
    "start_time": "2023-06-16T10:21:19.853Z"
   },
   {
    "duration": 6,
    "start_time": "2023-06-16T10:21:34.211Z"
   },
   {
    "duration": 26,
    "start_time": "2023-06-16T10:21:35.707Z"
   },
   {
    "duration": 1849,
    "start_time": "2023-06-16T11:10:20.980Z"
   },
   {
    "duration": 302,
    "start_time": "2023-06-16T11:10:22.840Z"
   },
   {
    "duration": 234,
    "start_time": "2023-06-16T11:10:23.149Z"
   },
   {
    "duration": 250,
    "start_time": "2023-06-16T11:10:23.390Z"
   },
   {
    "duration": 40,
    "start_time": "2023-06-16T11:10:23.643Z"
   },
   {
    "duration": 52,
    "start_time": "2023-06-16T11:10:23.687Z"
   },
   {
    "duration": 27,
    "start_time": "2023-06-16T11:10:23.741Z"
   },
   {
    "duration": 49,
    "start_time": "2023-06-16T11:10:23.773Z"
   },
   {
    "duration": 1009,
    "start_time": "2023-06-16T11:10:23.824Z"
   },
   {
    "duration": 979,
    "start_time": "2023-06-16T11:10:24.834Z"
   },
   {
    "duration": 1110,
    "start_time": "2023-06-16T11:10:25.816Z"
   },
   {
    "duration": 49,
    "start_time": "2023-06-16T11:10:26.928Z"
   },
   {
    "duration": 181,
    "start_time": "2023-06-16T11:10:26.986Z"
   },
   {
    "duration": 21,
    "start_time": "2023-06-16T11:10:27.173Z"
   },
   {
    "duration": 13,
    "start_time": "2023-06-16T11:10:27.196Z"
   },
   {
    "duration": 123,
    "start_time": "2023-06-16T11:10:27.212Z"
   },
   {
    "duration": 41,
    "start_time": "2023-06-16T11:10:27.341Z"
   },
   {
    "duration": 20,
    "start_time": "2023-06-16T11:10:27.387Z"
   },
   {
    "duration": 70,
    "start_time": "2023-06-16T11:10:27.409Z"
   },
   {
    "duration": 99,
    "start_time": "2023-06-16T11:10:27.480Z"
   },
   {
    "duration": 64,
    "start_time": "2023-06-16T11:10:27.631Z"
   },
   {
    "duration": 18,
    "start_time": "2023-06-16T11:10:27.699Z"
   },
   {
    "duration": 74,
    "start_time": "2023-06-16T11:10:27.720Z"
   },
   {
    "duration": 23,
    "start_time": "2023-06-16T11:10:27.796Z"
   },
   {
    "duration": 45,
    "start_time": "2023-06-16T11:10:27.821Z"
   },
   {
    "duration": 55,
    "start_time": "2023-06-16T11:10:27.868Z"
   },
   {
    "duration": 63,
    "start_time": "2023-06-16T11:10:27.928Z"
   },
   {
    "duration": 6044,
    "start_time": "2023-06-16T11:11:22.710Z"
   },
   {
    "duration": 22,
    "start_time": "2023-06-16T11:11:34.406Z"
   },
   {
    "duration": 9,
    "start_time": "2023-06-16T11:11:37.516Z"
   },
   {
    "duration": 10,
    "start_time": "2023-06-16T11:11:40.850Z"
   },
   {
    "duration": 8,
    "start_time": "2023-06-16T11:11:45.247Z"
   },
   {
    "duration": 4,
    "start_time": "2023-06-16T11:13:36.160Z"
   },
   {
    "duration": 13,
    "start_time": "2023-06-16T11:13:37.571Z"
   },
   {
    "duration": 10,
    "start_time": "2023-06-16T11:13:39.605Z"
   },
   {
    "duration": 6012,
    "start_time": "2023-06-16T11:13:41.250Z"
   },
   {
    "duration": 31,
    "start_time": "2023-06-16T11:13:47.268Z"
   },
   {
    "duration": 5,
    "start_time": "2023-06-16T11:20:20.046Z"
   },
   {
    "duration": 20,
    "start_time": "2023-06-16T11:20:49.456Z"
   },
   {
    "duration": 24,
    "start_time": "2023-06-16T11:21:04.598Z"
   },
   {
    "duration": 136,
    "start_time": "2023-06-16T11:22:55.907Z"
   },
   {
    "duration": 6,
    "start_time": "2023-06-16T11:23:14.013Z"
   },
   {
    "duration": 10,
    "start_time": "2023-06-16T11:23:25.654Z"
   },
   {
    "duration": 7,
    "start_time": "2023-06-16T11:24:05.374Z"
   },
   {
    "duration": 11,
    "start_time": "2023-06-16T11:24:44.724Z"
   },
   {
    "duration": 7,
    "start_time": "2023-06-16T11:26:39.527Z"
   },
   {
    "duration": 10,
    "start_time": "2023-06-16T11:27:04.735Z"
   },
   {
    "duration": 5,
    "start_time": "2023-06-16T11:27:45.553Z"
   },
   {
    "duration": 5,
    "start_time": "2023-06-16T11:41:37.201Z"
   },
   {
    "duration": 1356,
    "start_time": "2023-06-16T11:48:27.969Z"
   },
   {
    "duration": 204,
    "start_time": "2023-06-16T11:48:29.328Z"
   },
   {
    "duration": 221,
    "start_time": "2023-06-16T11:48:29.534Z"
   },
   {
    "duration": 162,
    "start_time": "2023-06-16T11:48:29.757Z"
   },
   {
    "duration": 22,
    "start_time": "2023-06-16T11:48:29.921Z"
   },
   {
    "duration": 16,
    "start_time": "2023-06-16T11:48:29.944Z"
   },
   {
    "duration": 17,
    "start_time": "2023-06-16T11:48:29.962Z"
   },
   {
    "duration": 14,
    "start_time": "2023-06-16T11:48:29.981Z"
   },
   {
    "duration": 634,
    "start_time": "2023-06-16T11:48:29.996Z"
   },
   {
    "duration": 688,
    "start_time": "2023-06-16T11:48:30.633Z"
   },
   {
    "duration": 683,
    "start_time": "2023-06-16T11:48:31.323Z"
   },
   {
    "duration": 38,
    "start_time": "2023-06-16T11:48:32.008Z"
   },
   {
    "duration": 464,
    "start_time": "2023-06-16T11:48:32.048Z"
   },
   {
    "duration": 27,
    "start_time": "2023-06-16T11:48:32.514Z"
   },
   {
    "duration": 20,
    "start_time": "2023-06-16T11:48:32.542Z"
   },
   {
    "duration": 80,
    "start_time": "2023-06-16T11:48:32.564Z"
   },
   {
    "duration": 29,
    "start_time": "2023-06-16T11:48:32.646Z"
   },
   {
    "duration": 4,
    "start_time": "2023-06-16T11:48:32.677Z"
   },
   {
    "duration": 259,
    "start_time": "2023-06-16T11:48:32.683Z"
   },
   {
    "duration": 91,
    "start_time": "2023-06-16T11:48:32.945Z"
   },
   {
    "duration": 100,
    "start_time": "2023-06-16T11:48:33.038Z"
   },
   {
    "duration": 10,
    "start_time": "2023-06-16T11:48:33.140Z"
   },
   {
    "duration": 15,
    "start_time": "2023-06-16T11:48:33.152Z"
   },
   {
    "duration": 19,
    "start_time": "2023-06-16T11:48:33.169Z"
   },
   {
    "duration": 16,
    "start_time": "2023-06-16T11:48:33.190Z"
   },
   {
    "duration": 4204,
    "start_time": "2023-06-16T11:48:33.207Z"
   },
   {
    "duration": 23,
    "start_time": "2023-06-16T11:48:37.413Z"
   },
   {
    "duration": 4,
    "start_time": "2023-06-16T11:48:37.440Z"
   },
   {
    "duration": 7,
    "start_time": "2023-06-16T11:48:37.445Z"
   },
   {
    "duration": 20,
    "start_time": "2023-06-16T11:48:37.453Z"
   },
   {
    "duration": 6,
    "start_time": "2023-06-16T11:48:37.475Z"
   },
   {
    "duration": 1691,
    "start_time": "2023-06-16T11:58:12.695Z"
   },
   {
    "duration": 239,
    "start_time": "2023-06-16T11:58:14.388Z"
   },
   {
    "duration": 190,
    "start_time": "2023-06-16T11:58:14.629Z"
   },
   {
    "duration": 187,
    "start_time": "2023-06-16T11:58:14.821Z"
   },
   {
    "duration": 17,
    "start_time": "2023-06-16T11:58:15.010Z"
   },
   {
    "duration": 101,
    "start_time": "2023-06-16T11:58:15.029Z"
   },
   {
    "duration": 60,
    "start_time": "2023-06-16T11:58:15.135Z"
   },
   {
    "duration": 22,
    "start_time": "2023-06-16T11:58:15.197Z"
   },
   {
    "duration": 655,
    "start_time": "2023-06-16T11:58:15.221Z"
   },
   {
    "duration": 647,
    "start_time": "2023-06-16T11:58:15.877Z"
   },
   {
    "duration": 661,
    "start_time": "2023-06-16T11:58:16.526Z"
   },
   {
    "duration": 29,
    "start_time": "2023-06-16T11:58:17.189Z"
   },
   {
    "duration": 133,
    "start_time": "2023-06-16T11:58:17.220Z"
   },
   {
    "duration": 19,
    "start_time": "2023-06-16T11:58:17.356Z"
   },
   {
    "duration": 34,
    "start_time": "2023-06-16T11:58:17.377Z"
   },
   {
    "duration": 85,
    "start_time": "2023-06-16T11:58:17.413Z"
   },
   {
    "duration": 41,
    "start_time": "2023-06-16T11:58:17.500Z"
   },
   {
    "duration": 7,
    "start_time": "2023-06-16T11:58:17.542Z"
   },
   {
    "duration": 191,
    "start_time": "2023-06-16T11:58:17.551Z"
   },
   {
    "duration": 99,
    "start_time": "2023-06-16T11:58:17.747Z"
   },
   {
    "duration": 30,
    "start_time": "2023-06-16T11:58:17.855Z"
   },
   {
    "duration": 6,
    "start_time": "2023-06-16T11:58:17.887Z"
   },
   {
    "duration": 13,
    "start_time": "2023-06-16T11:58:17.894Z"
   },
   {
    "duration": 7,
    "start_time": "2023-06-16T11:58:17.909Z"
   },
   {
    "duration": 9,
    "start_time": "2023-06-16T11:58:17.917Z"
   },
   {
    "duration": 4295,
    "start_time": "2023-06-16T11:58:17.927Z"
   },
   {
    "duration": 32,
    "start_time": "2023-06-16T11:58:22.224Z"
   },
   {
    "duration": 12,
    "start_time": "2023-06-16T11:58:22.261Z"
   },
   {
    "duration": 14,
    "start_time": "2023-06-16T11:58:22.275Z"
   },
   {
    "duration": 18,
    "start_time": "2023-06-16T11:58:22.290Z"
   },
   {
    "duration": 22,
    "start_time": "2023-06-16T11:58:22.309Z"
   },
   {
    "duration": 1436,
    "start_time": "2023-06-17T09:32:55.119Z"
   },
   {
    "duration": 523,
    "start_time": "2023-06-17T09:32:56.556Z"
   },
   {
    "duration": 567,
    "start_time": "2023-06-17T09:32:57.080Z"
   },
   {
    "duration": 541,
    "start_time": "2023-06-17T09:32:57.649Z"
   },
   {
    "duration": 14,
    "start_time": "2023-06-17T09:32:58.192Z"
   },
   {
    "duration": 13,
    "start_time": "2023-06-17T09:32:58.207Z"
   },
   {
    "duration": 12,
    "start_time": "2023-06-17T09:32:58.222Z"
   },
   {
    "duration": 12,
    "start_time": "2023-06-17T09:32:58.235Z"
   },
   {
    "duration": 586,
    "start_time": "2023-06-17T09:32:58.248Z"
   },
   {
    "duration": 581,
    "start_time": "2023-06-17T09:32:58.835Z"
   },
   {
    "duration": 577,
    "start_time": "2023-06-17T09:32:59.418Z"
   },
   {
    "duration": 31,
    "start_time": "2023-06-17T09:32:59.997Z"
   },
   {
    "duration": 128,
    "start_time": "2023-06-17T09:33:00.030Z"
   },
   {
    "duration": 16,
    "start_time": "2023-06-17T09:33:00.167Z"
   },
   {
    "duration": 17,
    "start_time": "2023-06-17T09:33:00.185Z"
   },
   {
    "duration": 105,
    "start_time": "2023-06-17T09:33:00.204Z"
   },
   {
    "duration": 26,
    "start_time": "2023-06-17T09:33:00.310Z"
   },
   {
    "duration": 12,
    "start_time": "2023-06-17T09:33:00.338Z"
   },
   {
    "duration": 221,
    "start_time": "2023-06-17T09:33:00.352Z"
   },
   {
    "duration": 95,
    "start_time": "2023-06-17T09:33:00.575Z"
   },
   {
    "duration": 43,
    "start_time": "2023-06-17T09:33:00.673Z"
   },
   {
    "duration": 27,
    "start_time": "2023-06-17T09:33:00.717Z"
   },
   {
    "duration": 61,
    "start_time": "2023-06-17T09:33:00.747Z"
   },
   {
    "duration": 32,
    "start_time": "2023-06-17T09:33:00.810Z"
   },
   {
    "duration": 40,
    "start_time": "2023-06-17T09:33:00.843Z"
   },
   {
    "duration": 3878,
    "start_time": "2023-06-17T09:33:00.885Z"
   },
   {
    "duration": 18,
    "start_time": "2023-06-17T09:33:04.764Z"
   },
   {
    "duration": 9,
    "start_time": "2023-06-17T09:33:04.783Z"
   },
   {
    "duration": 14,
    "start_time": "2023-06-17T09:33:04.793Z"
   },
   {
    "duration": 10,
    "start_time": "2023-06-17T09:33:04.809Z"
   },
   {
    "duration": 6,
    "start_time": "2023-06-17T09:33:04.820Z"
   },
   {
    "duration": 1328,
    "start_time": "2023-06-17T09:42:59.544Z"
   },
   {
    "duration": 192,
    "start_time": "2023-06-17T09:43:00.874Z"
   },
   {
    "duration": 144,
    "start_time": "2023-06-17T09:43:01.067Z"
   },
   {
    "duration": 148,
    "start_time": "2023-06-17T09:43:01.213Z"
   },
   {
    "duration": 15,
    "start_time": "2023-06-17T09:43:01.362Z"
   },
   {
    "duration": 44,
    "start_time": "2023-06-17T09:43:01.380Z"
   },
   {
    "duration": 54,
    "start_time": "2023-06-17T09:43:01.426Z"
   },
   {
    "duration": 52,
    "start_time": "2023-06-17T09:43:01.481Z"
   },
   {
    "duration": 606,
    "start_time": "2023-06-17T09:43:01.534Z"
   },
   {
    "duration": 613,
    "start_time": "2023-06-17T09:43:02.142Z"
   },
   {
    "duration": 568,
    "start_time": "2023-06-17T09:43:02.756Z"
   },
   {
    "duration": 29,
    "start_time": "2023-06-17T09:43:03.326Z"
   },
   {
    "duration": 117,
    "start_time": "2023-06-17T09:43:03.367Z"
   },
   {
    "duration": 15,
    "start_time": "2023-06-17T09:43:03.485Z"
   },
   {
    "duration": 4,
    "start_time": "2023-06-17T09:43:03.501Z"
   },
   {
    "duration": 72,
    "start_time": "2023-06-17T09:43:03.507Z"
   },
   {
    "duration": 23,
    "start_time": "2023-06-17T09:43:03.581Z"
   },
   {
    "duration": 3,
    "start_time": "2023-06-17T09:43:03.606Z"
   },
   {
    "duration": 166,
    "start_time": "2023-06-17T09:43:03.611Z"
   },
   {
    "duration": 7,
    "start_time": "2023-06-17T09:43:03.869Z"
   },
   {
    "duration": 93,
    "start_time": "2023-06-17T09:43:03.878Z"
   },
   {
    "duration": 10,
    "start_time": "2023-06-17T09:43:03.973Z"
   },
   {
    "duration": 7,
    "start_time": "2023-06-17T09:43:03.985Z"
   },
   {
    "duration": 5,
    "start_time": "2023-06-17T09:43:03.994Z"
   },
   {
    "duration": 130,
    "start_time": "2023-06-17T09:43:04.001Z"
   },
   {
    "duration": 0,
    "start_time": "2023-06-17T09:43:04.134Z"
   },
   {
    "duration": 0,
    "start_time": "2023-06-17T09:43:04.135Z"
   },
   {
    "duration": 0,
    "start_time": "2023-06-17T09:43:04.137Z"
   },
   {
    "duration": 0,
    "start_time": "2023-06-17T09:43:04.138Z"
   },
   {
    "duration": 0,
    "start_time": "2023-06-17T09:43:04.139Z"
   },
   {
    "duration": 0,
    "start_time": "2023-06-17T09:43:04.140Z"
   },
   {
    "duration": 0,
    "start_time": "2023-06-17T09:43:04.141Z"
   },
   {
    "duration": 2,
    "start_time": "2023-06-17T09:44:41.839Z"
   },
   {
    "duration": 1260,
    "start_time": "2023-06-17T09:44:52.813Z"
   },
   {
    "duration": 173,
    "start_time": "2023-06-17T09:44:54.076Z"
   },
   {
    "duration": 147,
    "start_time": "2023-06-17T09:44:54.251Z"
   },
   {
    "duration": 140,
    "start_time": "2023-06-17T09:44:54.400Z"
   },
   {
    "duration": 15,
    "start_time": "2023-06-17T09:44:54.542Z"
   },
   {
    "duration": 17,
    "start_time": "2023-06-17T09:44:54.558Z"
   },
   {
    "duration": 12,
    "start_time": "2023-06-17T09:44:54.576Z"
   },
   {
    "duration": 12,
    "start_time": "2023-06-17T09:44:54.589Z"
   },
   {
    "duration": 590,
    "start_time": "2023-06-17T09:44:54.603Z"
   },
   {
    "duration": 546,
    "start_time": "2023-06-17T09:44:55.195Z"
   },
   {
    "duration": 588,
    "start_time": "2023-06-17T09:44:55.743Z"
   },
   {
    "duration": 44,
    "start_time": "2023-06-17T09:44:56.334Z"
   },
   {
    "duration": 113,
    "start_time": "2023-06-17T09:44:56.380Z"
   },
   {
    "duration": 15,
    "start_time": "2023-06-17T09:44:56.496Z"
   },
   {
    "duration": 12,
    "start_time": "2023-06-17T09:44:56.512Z"
   },
   {
    "duration": 73,
    "start_time": "2023-06-17T09:44:56.526Z"
   },
   {
    "duration": 24,
    "start_time": "2023-06-17T09:44:56.600Z"
   },
   {
    "duration": 4,
    "start_time": "2023-06-17T09:44:56.625Z"
   },
   {
    "duration": 147,
    "start_time": "2023-06-17T09:44:56.630Z"
   },
   {
    "duration": 90,
    "start_time": "2023-06-17T09:44:56.779Z"
   },
   {
    "duration": 95,
    "start_time": "2023-06-17T09:44:56.872Z"
   },
   {
    "duration": 4,
    "start_time": "2023-06-17T09:44:56.970Z"
   },
   {
    "duration": 9,
    "start_time": "2023-06-17T09:44:56.976Z"
   },
   {
    "duration": 21,
    "start_time": "2023-06-17T09:44:56.987Z"
   },
   {
    "duration": 3,
    "start_time": "2023-06-17T09:44:57.010Z"
   },
   {
    "duration": 4,
    "start_time": "2023-06-17T09:44:57.014Z"
   },
   {
    "duration": 7,
    "start_time": "2023-06-17T09:44:57.020Z"
   },
   {
    "duration": 3617,
    "start_time": "2023-06-17T09:44:57.029Z"
   },
   {
    "duration": 13,
    "start_time": "2023-06-17T09:45:00.647Z"
   },
   {
    "duration": 15,
    "start_time": "2023-06-17T09:45:00.668Z"
   },
   {
    "duration": 32,
    "start_time": "2023-06-17T09:45:00.685Z"
   },
   {
    "duration": 49,
    "start_time": "2023-06-17T09:45:00.718Z"
   },
   {
    "duration": 38,
    "start_time": "2023-06-17T09:45:00.769Z"
   },
   {
    "duration": 1261,
    "start_time": "2023-06-17T09:47:36.595Z"
   },
   {
    "duration": 157,
    "start_time": "2023-06-17T09:47:37.858Z"
   },
   {
    "duration": 141,
    "start_time": "2023-06-17T09:47:38.016Z"
   },
   {
    "duration": 139,
    "start_time": "2023-06-17T09:47:38.159Z"
   },
   {
    "duration": 13,
    "start_time": "2023-06-17T09:47:38.299Z"
   },
   {
    "duration": 20,
    "start_time": "2023-06-17T09:47:38.314Z"
   },
   {
    "duration": 12,
    "start_time": "2023-06-17T09:47:38.336Z"
   },
   {
    "duration": 21,
    "start_time": "2023-06-17T09:47:38.349Z"
   },
   {
    "duration": 584,
    "start_time": "2023-06-17T09:47:38.371Z"
   },
   {
    "duration": 575,
    "start_time": "2023-06-17T09:47:38.957Z"
   },
   {
    "duration": 561,
    "start_time": "2023-06-17T09:47:39.534Z"
   },
   {
    "duration": 29,
    "start_time": "2023-06-17T09:47:40.097Z"
   },
   {
    "duration": 122,
    "start_time": "2023-06-17T09:47:40.128Z"
   },
   {
    "duration": 20,
    "start_time": "2023-06-17T09:47:40.252Z"
   },
   {
    "duration": 12,
    "start_time": "2023-06-17T09:47:40.274Z"
   },
   {
    "duration": 106,
    "start_time": "2023-06-17T09:47:40.287Z"
   },
   {
    "duration": 26,
    "start_time": "2023-06-17T09:47:40.395Z"
   },
   {
    "duration": 4,
    "start_time": "2023-06-17T09:47:40.422Z"
   },
   {
    "duration": 146,
    "start_time": "2023-06-17T09:47:40.428Z"
   },
   {
    "duration": 96,
    "start_time": "2023-06-17T09:47:40.576Z"
   },
   {
    "duration": 3,
    "start_time": "2023-06-17T09:47:40.674Z"
   },
   {
    "duration": 94,
    "start_time": "2023-06-17T09:47:40.679Z"
   },
   {
    "duration": 53,
    "start_time": "2023-06-17T09:47:40.774Z"
   },
   {
    "duration": 19,
    "start_time": "2023-06-17T09:47:40.828Z"
   },
   {
    "duration": 5,
    "start_time": "2023-06-17T09:47:40.849Z"
   },
   {
    "duration": 20,
    "start_time": "2023-06-17T09:47:40.856Z"
   },
   {
    "duration": 38,
    "start_time": "2023-06-17T09:47:40.878Z"
   },
   {
    "duration": 3625,
    "start_time": "2023-06-17T09:47:40.920Z"
   },
   {
    "duration": 13,
    "start_time": "2023-06-17T09:47:44.547Z"
   },
   {
    "duration": 4,
    "start_time": "2023-06-17T09:47:44.568Z"
   },
   {
    "duration": 13,
    "start_time": "2023-06-17T09:47:44.574Z"
   },
   {
    "duration": 10,
    "start_time": "2023-06-17T09:47:44.589Z"
   },
   {
    "duration": 4,
    "start_time": "2023-06-17T09:47:44.600Z"
   },
   {
    "duration": 1386,
    "start_time": "2023-06-17T09:48:11.888Z"
   },
   {
    "duration": 163,
    "start_time": "2023-06-17T09:48:13.276Z"
   },
   {
    "duration": 159,
    "start_time": "2023-06-17T09:48:13.440Z"
   },
   {
    "duration": 146,
    "start_time": "2023-06-17T09:48:13.601Z"
   },
   {
    "duration": 20,
    "start_time": "2023-06-17T09:48:13.749Z"
   },
   {
    "duration": 14,
    "start_time": "2023-06-17T09:48:13.770Z"
   },
   {
    "duration": 19,
    "start_time": "2023-06-17T09:48:13.786Z"
   },
   {
    "duration": 14,
    "start_time": "2023-06-17T09:48:13.806Z"
   },
   {
    "duration": 715,
    "start_time": "2023-06-17T09:48:13.821Z"
   },
   {
    "duration": 587,
    "start_time": "2023-06-17T09:48:14.538Z"
   },
   {
    "duration": 586,
    "start_time": "2023-06-17T09:48:15.127Z"
   },
   {
    "duration": 30,
    "start_time": "2023-06-17T09:48:15.715Z"
   },
   {
    "duration": 152,
    "start_time": "2023-06-17T09:48:15.747Z"
   },
   {
    "duration": 15,
    "start_time": "2023-06-17T09:48:15.902Z"
   },
   {
    "duration": 7,
    "start_time": "2023-06-17T09:48:15.919Z"
   },
   {
    "duration": 74,
    "start_time": "2023-06-17T09:48:15.928Z"
   },
   {
    "duration": 25,
    "start_time": "2023-06-17T09:48:16.004Z"
   },
   {
    "duration": 4,
    "start_time": "2023-06-17T09:48:16.030Z"
   },
   {
    "duration": 237,
    "start_time": "2023-06-17T09:48:16.035Z"
   },
   {
    "duration": 97,
    "start_time": "2023-06-17T09:48:16.276Z"
   },
   {
    "duration": 7,
    "start_time": "2023-06-17T09:48:16.375Z"
   },
   {
    "duration": 4,
    "start_time": "2023-06-17T09:48:16.468Z"
   },
   {
    "duration": 6,
    "start_time": "2023-06-17T09:48:16.474Z"
   },
   {
    "duration": 16,
    "start_time": "2023-06-17T09:48:16.481Z"
   },
   {
    "duration": 9,
    "start_time": "2023-06-17T09:48:16.498Z"
   },
   {
    "duration": 3759,
    "start_time": "2023-06-17T09:48:16.509Z"
   },
   {
    "duration": 16,
    "start_time": "2023-06-17T09:48:20.269Z"
   },
   {
    "duration": 3,
    "start_time": "2023-06-17T09:48:20.287Z"
   },
   {
    "duration": 5,
    "start_time": "2023-06-17T09:48:20.291Z"
   },
   {
    "duration": 12,
    "start_time": "2023-06-17T09:48:20.298Z"
   },
   {
    "duration": 4,
    "start_time": "2023-06-17T09:48:20.311Z"
   },
   {
    "duration": 1664,
    "start_time": "2023-06-17T18:00:35.581Z"
   },
   {
    "duration": 467,
    "start_time": "2023-06-17T18:00:37.247Z"
   },
   {
    "duration": 437,
    "start_time": "2023-06-17T18:00:37.716Z"
   },
   {
    "duration": 318,
    "start_time": "2023-06-17T18:00:38.155Z"
   },
   {
    "duration": 23,
    "start_time": "2023-06-17T18:00:38.475Z"
   },
   {
    "duration": 52,
    "start_time": "2023-06-17T18:00:38.499Z"
   },
   {
    "duration": 15,
    "start_time": "2023-06-17T18:00:38.552Z"
   },
   {
    "duration": 16,
    "start_time": "2023-06-17T18:00:38.569Z"
   },
   {
    "duration": 695,
    "start_time": "2023-06-17T18:00:38.587Z"
   },
   {
    "duration": 650,
    "start_time": "2023-06-17T18:00:39.286Z"
   },
   {
    "duration": 639,
    "start_time": "2023-06-17T18:00:39.938Z"
   },
   {
    "duration": 34,
    "start_time": "2023-06-17T18:00:40.579Z"
   },
   {
    "duration": 145,
    "start_time": "2023-06-17T18:00:40.615Z"
   },
   {
    "duration": 18,
    "start_time": "2023-06-17T18:00:40.761Z"
   },
   {
    "duration": 7,
    "start_time": "2023-06-17T18:00:40.781Z"
   },
   {
    "duration": 91,
    "start_time": "2023-06-17T18:00:40.789Z"
   },
   {
    "duration": 27,
    "start_time": "2023-06-17T18:00:40.881Z"
   },
   {
    "duration": 4,
    "start_time": "2023-06-17T18:00:40.909Z"
   },
   {
    "duration": 240,
    "start_time": "2023-06-17T18:00:40.915Z"
   },
   {
    "duration": 90,
    "start_time": "2023-06-17T18:00:41.164Z"
   },
   {
    "duration": 9,
    "start_time": "2023-06-17T18:00:41.256Z"
   },
   {
    "duration": 7,
    "start_time": "2023-06-17T18:00:41.267Z"
   },
   {
    "duration": 9,
    "start_time": "2023-06-17T18:00:41.276Z"
   },
   {
    "duration": 9,
    "start_time": "2023-06-17T18:00:41.286Z"
   },
   {
    "duration": 14,
    "start_time": "2023-06-17T18:00:41.296Z"
   },
   {
    "duration": 44,
    "start_time": "2023-06-17T18:00:41.312Z"
   },
   {
    "duration": 4088,
    "start_time": "2023-06-17T18:00:41.359Z"
   },
   {
    "duration": 3,
    "start_time": "2023-06-17T18:00:45.453Z"
   },
   {
    "duration": 11,
    "start_time": "2023-06-17T18:00:45.458Z"
   },
   {
    "duration": 18,
    "start_time": "2023-06-17T18:00:45.470Z"
   },
   {
    "duration": 12,
    "start_time": "2023-06-17T18:00:45.490Z"
   },
   {
    "duration": 4211,
    "start_time": "2023-06-17T18:01:25.925Z"
   },
   {
    "duration": 4127,
    "start_time": "2023-06-17T18:01:43.530Z"
   },
   {
    "duration": 1495,
    "start_time": "2023-06-17T18:03:51.521Z"
   },
   {
    "duration": 207,
    "start_time": "2023-06-17T18:03:53.018Z"
   },
   {
    "duration": 173,
    "start_time": "2023-06-17T18:03:53.226Z"
   },
   {
    "duration": 159,
    "start_time": "2023-06-17T18:03:53.400Z"
   },
   {
    "duration": 16,
    "start_time": "2023-06-17T18:03:53.561Z"
   },
   {
    "duration": 164,
    "start_time": "2023-06-17T18:03:53.578Z"
   },
   {
    "duration": 14,
    "start_time": "2023-06-17T18:03:53.744Z"
   },
   {
    "duration": 21,
    "start_time": "2023-06-17T18:03:53.761Z"
   },
   {
    "duration": 697,
    "start_time": "2023-06-17T18:03:53.785Z"
   },
   {
    "duration": 696,
    "start_time": "2023-06-17T18:03:54.484Z"
   },
   {
    "duration": 734,
    "start_time": "2023-06-17T18:03:55.182Z"
   },
   {
    "duration": 44,
    "start_time": "2023-06-17T18:03:55.918Z"
   },
   {
    "duration": 148,
    "start_time": "2023-06-17T18:03:55.964Z"
   },
   {
    "duration": 20,
    "start_time": "2023-06-17T18:03:56.115Z"
   },
   {
    "duration": 15,
    "start_time": "2023-06-17T18:03:56.137Z"
   },
   {
    "duration": 87,
    "start_time": "2023-06-17T18:03:56.154Z"
   },
   {
    "duration": 38,
    "start_time": "2023-06-17T18:03:56.242Z"
   },
   {
    "duration": 5,
    "start_time": "2023-06-17T18:03:56.281Z"
   },
   {
    "duration": 173,
    "start_time": "2023-06-17T18:03:56.287Z"
   },
   {
    "duration": 92,
    "start_time": "2023-06-17T18:03:56.462Z"
   },
   {
    "duration": 105,
    "start_time": "2023-06-17T18:03:56.556Z"
   },
   {
    "duration": 14,
    "start_time": "2023-06-17T18:03:56.664Z"
   },
   {
    "duration": 9,
    "start_time": "2023-06-17T18:03:56.680Z"
   },
   {
    "duration": 7,
    "start_time": "2023-06-17T18:03:56.691Z"
   },
   {
    "duration": 8,
    "start_time": "2023-06-17T18:03:56.699Z"
   },
   {
    "duration": 40,
    "start_time": "2023-06-17T18:03:56.708Z"
   },
   {
    "duration": 4321,
    "start_time": "2023-06-17T18:03:56.750Z"
   },
   {
    "duration": 3,
    "start_time": "2023-06-17T18:04:01.073Z"
   },
   {
    "duration": 125,
    "start_time": "2023-06-17T18:04:01.079Z"
   },
   {
    "duration": 174,
    "start_time": "2023-06-17T18:04:01.207Z"
   },
   {
    "duration": 43,
    "start_time": "2023-06-17T18:04:01.384Z"
   }
  ],
  "kernelspec": {
   "display_name": "Python 3 (ipykernel)",
   "language": "python",
   "name": "python3"
  },
  "language_info": {
   "codemirror_mode": {
    "name": "ipython",
    "version": 3
   },
   "file_extension": ".py",
   "mimetype": "text/x-python",
   "name": "python",
   "nbconvert_exporter": "python",
   "pygments_lexer": "ipython3",
   "version": "3.11.2"
  },
  "toc": {
   "base_numbering": 1,
   "nav_menu": {},
   "number_sections": true,
   "sideBar": true,
   "skip_h1_title": true,
   "title_cell": "Содержание",
   "title_sidebar": "Contents",
   "toc_cell": true,
   "toc_position": {},
   "toc_section_display": true,
   "toc_window_display": true
  }
 },
 "nbformat": 4,
 "nbformat_minor": 4
}
