{
 "cells": [
  {
   "cell_type": "markdown",
   "metadata": {
    "toc": true
   },
   "source": [
    "<h1>Содержание<span class=\"tocSkip\"></span></h1>\n",
    "<div class=\"toc\"><ul class=\"toc-item\"><li><span><a href=\"#Загрузка-и-подготовка-данных\" data-toc-modified-id=\"Загрузка-и-подготовка-данных-1\"><span class=\"toc-item-num\">1&nbsp;&nbsp;</span>Загрузка и подготовка данных</a></span><ul class=\"toc-item\"><li><span><a href=\"#Считаем-данные-из-csv-файлов-и-сохраним-в-переменные.\" data-toc-modified-id=\"Считаем-данные-из-csv-файлов-и-сохраним-в-переменные.-1.1\"><span class=\"toc-item-num\">1.1&nbsp;&nbsp;</span>Считаем данные из csv-файлов и сохраним в переменные.</a></span></li><li><span><a href=\"#Выведем-первые-5-строчек-и-общую-информацию-датасетов-на-экран.\" data-toc-modified-id=\"Выведем-первые-5-строчек-и-общую-информацию-датасетов-на-экран.-1.2\"><span class=\"toc-item-num\">1.2&nbsp;&nbsp;</span>Выведем первые 5 строчек и общую информацию датасетов на экран.</a></span></li><li><span><a href=\"#Проверим,-что-эффективность-обогащения-рассчитана-правильно.\" data-toc-modified-id=\"Проверим,-что-эффективность-обогащения-рассчитана-правильно.-1.3\"><span class=\"toc-item-num\">1.3&nbsp;&nbsp;</span>Проверим, что эффективность обогащения рассчитана правильно.</a></span></li><li><span><a href=\"#Определим-названия-столбцов,-которые-отсутствуют-в-тестовом-датасете.\" data-toc-modified-id=\"Определим-названия-столбцов,-которые-отсутствуют-в-тестовом-датасете.-1.4\"><span class=\"toc-item-num\">1.4&nbsp;&nbsp;</span>Определим названия столбцов, которые отсутствуют в тестовом датасете.</a></span></li><li><span><a href=\"#Восстановим-целевой-признак-для-тестовой-выборки.\" data-toc-modified-id=\"Восстановим-целевой-признак-для-тестовой-выборки.-1.5\"><span class=\"toc-item-num\">1.5&nbsp;&nbsp;</span>Восстановим целевой признак для тестовой выборки.</a></span></li><li><span><a href=\"#Предобработка-данных:-заполнение-пропусков.\" data-toc-modified-id=\"Предобработка-данных:-заполнение-пропусков.-1.6\"><span class=\"toc-item-num\">1.6&nbsp;&nbsp;</span>Предобработка данных: заполнение пропусков.</a></span></li><li><span><a href=\"#Предобработка-данных:-удаление-ненужных-столбцов.\" data-toc-modified-id=\"Предобработка-данных:-удаление-ненужных-столбцов.-1.7\"><span class=\"toc-item-num\">1.7&nbsp;&nbsp;</span>Предобработка данных: удаление ненужных столбцов.</a></span></li></ul></li><li><span><a href=\"#Анализ-данных\" data-toc-modified-id=\"Анализ-данных-2\"><span class=\"toc-item-num\">2&nbsp;&nbsp;</span>Анализ данных</a></span><ul class=\"toc-item\"><li><span><a href=\"#Концентрация-металлов-(Au-(золото),-Ag-(серебро),-Pb-(свинец))-на-различных-этапах-очистки.\" data-toc-modified-id=\"Концентрация-металлов-(Au-(золото),-Ag-(серебро),-Pb-(свинец))-на-различных-этапах-очистки.-2.1\"><span class=\"toc-item-num\">2.1&nbsp;&nbsp;</span>Концентрация металлов (Au (золото), Ag (серебро), Pb (свинец)) на различных этапах очистки.</a></span></li><li><span><a href=\"#Сравним-распределения-размеров-гранул-исходного-сырья-на-обучающей-и-тестовой-выборках.\" data-toc-modified-id=\"Сравним-распределения-размеров-гранул-исходного-сырья-на-обучающей-и-тестовой-выборках.-2.2\"><span class=\"toc-item-num\">2.2&nbsp;&nbsp;</span>Сравним распределения размеров гранул исходного сырья на обучающей и тестовой выборках.</a></span></li><li><span><a href=\"#Исследуем-суммарную-концентрацию-металлов-на-разных-стадиях.\" data-toc-modified-id=\"Исследуем-суммарную-концентрацию-металлов-на-разных-стадиях.-2.3\"><span class=\"toc-item-num\">2.3&nbsp;&nbsp;</span>Исследуем суммарную концентрацию металлов на разных стадиях.</a></span></li></ul></li><li><span><a href=\"#Построение-модели\" data-toc-modified-id=\"Построение-модели-3\"><span class=\"toc-item-num\">3&nbsp;&nbsp;</span>Построение модели</a></span><ul class=\"toc-item\"><li><span><a href=\"#Выделим-отдельно-признаки-и-таргет-для-обучающего-и-тестового-набора-данных.\" data-toc-modified-id=\"Выделим-отдельно-признаки-и-таргет-для-обучающего-и-тестового-набора-данных.-3.1\"><span class=\"toc-item-num\">3.1&nbsp;&nbsp;</span>Выделим отдельно признаки и таргет для обучающего и тестового набора данных.</a></span></li><li><span><a href=\"#Отмасштабируем-признаки\" data-toc-modified-id=\"Отмасштабируем-признаки-3.2\"><span class=\"toc-item-num\">3.2&nbsp;&nbsp;</span>Отмасштабируем признаки</a></span></li><li><span><a href=\"#Напишем-функцию-для-вычисления-итоговой-sMAPE.\" data-toc-modified-id=\"Напишем-функцию-для-вычисления-итоговой-sMAPE.-3.3\"><span class=\"toc-item-num\">3.3&nbsp;&nbsp;</span>Напишем функцию для вычисления итоговой <em>sMAPE</em>.</a></span></li><li><span><a href=\"#Обучение-моделей\" data-toc-modified-id=\"Обучение-моделей-3.4\"><span class=\"toc-item-num\">3.4&nbsp;&nbsp;</span>Обучение моделей</a></span><ul class=\"toc-item\"><li><span><a href=\"#Линейная-регрессия-(LinearRegression)\" data-toc-modified-id=\"Линейная-регрессия-(LinearRegression)-3.4.1\"><span class=\"toc-item-num\">3.4.1&nbsp;&nbsp;</span>Линейная регрессия (LinearRegression)</a></span></li><li><span><a href=\"#Решающее-дерево-(DecisionTreeRegressor)\" data-toc-modified-id=\"Решающее-дерево-(DecisionTreeRegressor)-3.4.2\"><span class=\"toc-item-num\">3.4.2&nbsp;&nbsp;</span>Решающее дерево (DecisionTreeRegressor)</a></span></li><li><span><a href=\"#Случайный-лес-(RandomForestRegressor)\" data-toc-modified-id=\"Случайный-лес-(RandomForestRegressor)-3.4.3\"><span class=\"toc-item-num\">3.4.3&nbsp;&nbsp;</span>Случайный лес (RandomForestRegressor)</a></span></li></ul></li><li><span><a href=\"#Проверим-лучшую-модель-на-тестовой-выборке.\" data-toc-modified-id=\"Проверим-лучшую-модель-на-тестовой-выборке.-3.5\"><span class=\"toc-item-num\">3.5&nbsp;&nbsp;</span>Проверим лучшую модель на тестовой выборке.</a></span></li><li><span><a href=\"#Сравним-лучшую-модель-с-константной-моделью.\" data-toc-modified-id=\"Сравним-лучшую-модель-с-константной-моделью.-3.6\"><span class=\"toc-item-num\">3.6&nbsp;&nbsp;</span>Сравним лучшую модель с константной моделью.</a></span></li></ul></li><li><span><a href=\"#Общий-вывод\" data-toc-modified-id=\"Общий-вывод-4\"><span class=\"toc-item-num\">4&nbsp;&nbsp;</span>Общий вывод</a></span></li><li><span><a href=\"#Чек-лист-готовности-проекта\" data-toc-modified-id=\"Чек-лист-готовности-проекта-5\"><span class=\"toc-item-num\">5&nbsp;&nbsp;</span>Чек-лист готовности проекта</a></span></li></ul></div>"
   ]
  },
  {
   "cell_type": "markdown",
   "metadata": {},
   "source": [
    "# Восстановление золота из руды"
   ]
  },
  {
   "cell_type": "markdown",
   "metadata": {},
   "source": [
    "**Задача:** подготовить прототип модели машинного обучения для «Цифры». Компания разрабатывает решения для эффективной работы промышленных предприятий.\n",
    "\n",
    "**Цель исследования:** модель должна предсказывать коэффициент восстановления золота из золотосодержащей руды.\n",
    "\n",
    "Модель поможет оптимизировать производство, чтобы не запускать предприятие с убыточными характеристиками.\n",
    "\n",
    "Данные для исследования я получу из файлов — `gold_industry_train.csv` (обучающая выборка), `gold_industry_test.csv` (тестовая выборка), `gold_industry_full.csv` (полные исходные данные).\n",
    "\n",
    "**Описание данных:**\n",
    "\n",
    "*Технологический процесс:*\n",
    "\n",
    "- `Rougher feed` — исходное сырье\n",
    "- `Rougher additions (или reagent additions)` — флотационные реагенты: Xanthate, Sulphate, Depressant\n",
    "- `Xanthate` — ксантогенат (промотер, или активатор флотации);\n",
    "- `Sulphate` — сульфат (на данном производстве сульфид натрия);\n",
    "- `Depressant` — депрессант (силикат натрия).\n",
    "- `Rougher process (англ. «грубый процесс»)` — флотация\n",
    "- `Rougher tails` — отвальные хвосты\n",
    "- `Float banks` — флотационная установка\n",
    "- `Cleaner process` — очистка\n",
    "- `Rougher Au` — черновой концентрат золота\n",
    "- `Final Au` — финальный концентрат золота\n",
    "\n",
    "*Параметры этапов:*\n",
    "\n",
    "- `air amount` — объём воздуха\n",
    "- `fluid levels` — уровень жидкости\n",
    "- `feed size` — размер гранул сырья\n",
    "- `feed rate` — скорость подачи\n",
    "\n",
    "*Наименование признаков должно быть такое:*\n",
    "\n",
    "[этап].[тип_параметра].[название_параметра]\n",
    "\n",
    "*Пример: rougher.input.feed_ag*\n",
    "\n",
    "*Возможные значения для блока [этап]:*\n",
    "\n",
    "- `rougher` — флотация\n",
    "- `primary_cleaner` — первичная очистка\n",
    "- `secondary_cleaner` — вторичная очистка\n",
    "- `final` — финальные характеристики\n",
    "\n",
    "*Возможные значения для блока [тип_параметра]:*\n",
    "\n",
    "- `input` — параметры сырья\n",
    "- `output` — параметры продукта\n",
    "- `state` — параметры, характеризующие текущее состояние этапа\n",
    "- `calculation` — расчётные характеристики\n",
    "\n",
    "**Ход исследования:**\n",
    "\n",
    "1. Загрузим и проведем предподготовку данных.\n",
    "2. Обучим и проверим модель. Проанализируем результаты.\n",
    "3. Проверим эффективность обогащения.\n",
    "4. Сравним распределения размеров гранул исходного сырья на обучающей и тестовой выборках.\n",
    "5. Исследуем суммарную концентрацию металлов на разных стадиях: в сырье, в черновом концентрате, в концентрате после первой очистки и в финальном концентрате.\n",
    "6. Напишем функцию для вычисления итоговой *sMAPE*.\n",
    "7. Обучим разные модели и оценим их качество кросс-валидацией. Выберим лучшую модель и проверим её на тестовой выборке. Опишем выводы.\n",
    "6. Напишем общие выводы."
   ]
  },
  {
   "cell_type": "markdown",
   "metadata": {},
   "source": [
    "## Загрузка и подготовка данных"
   ]
  },
  {
   "cell_type": "markdown",
   "metadata": {},
   "source": [
    "### Считаем данные из csv-файлов и сохраним в переменные."
   ]
  },
  {
   "cell_type": "code",
   "execution_count": 1,
   "metadata": {},
   "outputs": [],
   "source": [
    "!pip3 install pandas-profiling==2.11"
   ]
  },
  {
   "cell_type": "code",
   "execution_count": 2,
   "metadata": {},
   "outputs": [],
   "source": [
    "import pandas as pd\n",
    "from pandas_profiling import ProfileReport\n",
    "import numpy as np\n",
    "import matplotlib.pyplot as plt\n",
    "import seaborn as sns\n",
    "import datetime\n",
    "import warnings\n",
    "from sklearn.metrics import mean_absolute_error\n",
    "from sklearn.metrics import make_scorer\n",
    "from sklearn.preprocessing import StandardScaler \n",
    "from sklearn.linear_model import LinearRegression\n",
    "from sklearn.tree import DecisionTreeRegressor\n",
    "from sklearn.ensemble import RandomForestRegressor\n",
    "from sklearn.model_selection import cross_val_score, GridSearchCV\n",
    "from tqdm.autonotebook import tqdm\n",
    "from sklearn.dummy import DummyRegressor"
   ]
  },
  {
   "cell_type": "code",
   "execution_count": 3,
   "metadata": {},
   "outputs": [],
   "source": [
    "try:\n",
    "    data_train = pd.read_csv('gold_industry_train.csv')\n",
    "except:\n",
    "    data_train = pd.read_csv('/datasets/gold_industry_train.csv')"
   ]
  },
  {
   "cell_type": "code",
   "execution_count": 4,
   "metadata": {},
   "outputs": [],
   "source": [
    "try:\n",
    "    data_test = pd.read_csv('gold_industry_test.csv')\n",
    "except:\n",
    "    data_test = pd.read_csv('/datasets/gold_industry_test.csv')"
   ]
  },
  {
   "cell_type": "code",
   "execution_count": 5,
   "metadata": {},
   "outputs": [],
   "source": [
    "try:\n",
    "    data_full = pd.read_csv('gold_industry_full.csv')\n",
    "except:\n",
    "    data_full = pd.read_csv('/datasets/gold_industry_full.csv')"
   ]
  },
  {
   "cell_type": "markdown",
   "metadata": {},
   "source": [
    "### Выведем первые 5 строчек и общую информацию датасетов на экран."
   ]
  },
  {
   "cell_type": "code",
   "execution_count": 6,
   "metadata": {},
   "outputs": [
    {
     "name": "stdout",
     "output_type": "stream",
     "text": [
      "data_train\n",
      "                  date  rougher.input.feed_au  rougher.input.feed_ag  \\\n",
      "0  2016-01-15 00:00:00               6.486150               6.100378   \n",
      "1  2016-01-15 01:00:00               6.478583               6.161113   \n",
      "2  2016-01-15 02:00:00               6.362222               6.116455   \n",
      "3  2016-01-15 03:00:00               6.118189               6.043309   \n",
      "4  2016-01-15 04:00:00               5.663707               6.060915   \n",
      "\n",
      "   rougher.input.feed_pb  rougher.input.feed_sol  rougher.input.feed_rate  \\\n",
      "0               2.284912               36.808594               523.546326   \n",
      "1               2.266033               35.753385               525.290581   \n",
      "2               2.159622               35.971630               530.026610   \n",
      "3               2.037807               36.862241               542.590390   \n",
      "4               1.786875               34.347666               540.531893   \n",
      "\n",
      "   rougher.input.feed_size  rougher.input.floatbank10_sulfate  \\\n",
      "0                55.486599                          11.986616   \n",
      "1                57.278666                          11.971193   \n",
      "2                57.510649                          11.920603   \n",
      "3                57.792734                          11.630094   \n",
      "4                56.047189                          10.957755   \n",
      "\n",
      "   rougher.input.floatbank10_xanthate  rougher.state.floatbank10_a_air  ...  \\\n",
      "0                            6.007990                       999.706909  ...   \n",
      "1                            6.005766                      1000.286398  ...   \n",
      "2                            6.197377                       999.719565  ...   \n",
      "3                            6.203177                       999.814770  ...   \n",
      "4                            6.198826                       999.678690  ...   \n",
      "\n",
      "   secondary_cleaner.output.tail_sol  final.output.concentrate_au  \\\n",
      "0                           8.764648                    42.192020   \n",
      "1                           9.001494                    42.701629   \n",
      "2                           8.842896                    42.657501   \n",
      "3                           9.122857                    42.689819   \n",
      "4                           8.871028                    42.774141   \n",
      "\n",
      "   final.output.concentrate_ag  final.output.concentrate_pb  \\\n",
      "0                     6.055403                     9.889648   \n",
      "1                     6.029369                     9.968944   \n",
      "2                     6.055926                    10.213995   \n",
      "3                     6.047977                     9.977019   \n",
      "4                     6.148599                    10.142511   \n",
      "\n",
      "   final.output.concentrate_sol  final.output.recovery  final.output.tail_au  \\\n",
      "0                      5.507324              70.541216              2.143149   \n",
      "1                      5.257781              69.266198              2.224930   \n",
      "2                      5.383759              68.116445              2.257889   \n",
      "3                      4.858634              68.347543              2.146849   \n",
      "4                      4.939416              66.927016              2.055292   \n",
      "\n",
      "   final.output.tail_ag  final.output.tail_pb  final.output.tail_sol  \n",
      "0             10.411962              0.895447              16.904297  \n",
      "1             10.462676              0.927452              16.634514  \n",
      "2             10.507046              0.953716              16.208849  \n",
      "3             10.422762              0.883763              16.532835  \n",
      "4             10.360302              0.792826              16.525686  \n",
      "\n",
      "[5 rows x 87 columns]\n",
      "------------------------------------------------------------------------------------------\n",
      "data_test\n",
      "                  date  rougher.input.feed_au  rougher.input.feed_ag  \\\n",
      "0  2017-12-09 14:59:59               4.365491               6.158718   \n",
      "1  2017-12-09 15:59:59               4.362781               6.048130   \n",
      "2  2017-12-09 16:59:59               5.081681               6.082745   \n",
      "3  2017-12-09 17:59:59               5.145949               6.084374   \n",
      "4  2017-12-09 18:59:59               5.735249               6.165220   \n",
      "\n",
      "   rougher.input.feed_pb  rougher.input.feed_sol  rougher.input.feed_rate  \\\n",
      "0               3.875727               39.135119               555.820208   \n",
      "1               3.902537               39.713906               544.731687   \n",
      "2               4.564078               37.208683               558.155110   \n",
      "3               4.768124               36.808874               539.713765   \n",
      "4               4.512346               37.810642               558.713584   \n",
      "\n",
      "   rougher.input.feed_size  rougher.input.floatbank10_sulfate  \\\n",
      "0                94.544358                           6.146982   \n",
      "1               123.742430                           6.210119   \n",
      "2                82.610855                           7.363824   \n",
      "3                77.984784                           6.927072   \n",
      "4                86.434874                           7.823471   \n",
      "\n",
      "   rougher.input.floatbank10_xanthate  rougher.state.floatbank10_a_air  ...  \\\n",
      "0                            9.308612                      1196.238112  ...   \n",
      "1                            9.297709                      1201.904177  ...   \n",
      "2                            9.003562                      1200.826926  ...   \n",
      "3                            8.955597                      1199.292489  ...   \n",
      "4                            7.490356                      1198.005449  ...   \n",
      "\n",
      "   secondary_cleaner.state.floatbank4_a_air  \\\n",
      "0                                 23.018622   \n",
      "1                                 23.024963   \n",
      "2                                 22.993827   \n",
      "3                                 23.032807   \n",
      "4                                 23.001911   \n",
      "\n",
      "   secondary_cleaner.state.floatbank4_a_level  \\\n",
      "0                                 -500.492702   \n",
      "1                                 -501.153409   \n",
      "2                                 -501.559663   \n",
      "3                                 -501.287889   \n",
      "4                                 -499.947838   \n",
      "\n",
      "   secondary_cleaner.state.floatbank4_b_air  \\\n",
      "0                                 20.020205   \n",
      "1                                 20.054122   \n",
      "2                                 20.029144   \n",
      "3                                 19.977466   \n",
      "4                                 20.023735   \n",
      "\n",
      "   secondary_cleaner.state.floatbank4_b_level  \\\n",
      "0                                 -500.220296   \n",
      "1                                 -500.314711   \n",
      "2                                 -500.000662   \n",
      "3                                 -500.159903   \n",
      "4                                 -499.713680   \n",
      "\n",
      "   secondary_cleaner.state.floatbank5_a_air  \\\n",
      "0                                 17.963512   \n",
      "1                                 17.979515   \n",
      "2                                 18.012723   \n",
      "3                                 17.980463   \n",
      "4                                 17.990955   \n",
      "\n",
      "   secondary_cleaner.state.floatbank5_a_level  \\\n",
      "0                                 -499.939490   \n",
      "1                                 -499.272871   \n",
      "2                                 -500.024764   \n",
      "3                                 -500.504602   \n",
      "4                                 -500.334769   \n",
      "\n",
      "   secondary_cleaner.state.floatbank5_b_air  \\\n",
      "0                                 12.990306   \n",
      "1                                 12.992404   \n",
      "2                                 13.016445   \n",
      "3                                 12.949071   \n",
      "4                                 13.007523   \n",
      "\n",
      "   secondary_cleaner.state.floatbank5_b_level  \\\n",
      "0                                 -500.080993   \n",
      "1                                 -499.976268   \n",
      "2                                 -500.058432   \n",
      "3                                 -500.009937   \n",
      "4                                 -499.968459   \n",
      "\n",
      "   secondary_cleaner.state.floatbank6_a_air  \\\n",
      "0                                 19.990336   \n",
      "1                                 20.013986   \n",
      "2                                 19.973767   \n",
      "3                                 20.010332   \n",
      "4                                 19.995999   \n",
      "\n",
      "   secondary_cleaner.state.floatbank6_a_level  \n",
      "0                                 -499.191575  \n",
      "1                                 -500.625471  \n",
      "2                                 -501.394155  \n",
      "3                                 -508.337973  \n",
      "4                                 -499.788805  \n",
      "\n",
      "[5 rows x 53 columns]\n",
      "------------------------------------------------------------------------------------------\n",
      "data_full\n",
      "                  date  rougher.input.feed_au  rougher.input.feed_ag  \\\n",
      "0  2016-01-15 00:00:00               6.486150               6.100378   \n",
      "1  2016-01-15 01:00:00               6.478583               6.161113   \n",
      "2  2016-01-15 02:00:00               6.362222               6.116455   \n",
      "3  2016-01-15 03:00:00               6.118189               6.043309   \n",
      "4  2016-01-15 04:00:00               5.663707               6.060915   \n",
      "\n",
      "   rougher.input.feed_pb  rougher.input.feed_sol  rougher.input.feed_rate  \\\n",
      "0               2.284912               36.808594               523.546326   \n",
      "1               2.266033               35.753385               525.290581   \n",
      "2               2.159622               35.971630               530.026610   \n",
      "3               2.037807               36.862241               542.590390   \n",
      "4               1.786875               34.347666               540.531893   \n",
      "\n",
      "   rougher.input.feed_size  rougher.input.floatbank10_sulfate  \\\n",
      "0                55.486599                          11.986616   \n",
      "1                57.278666                          11.971193   \n",
      "2                57.510649                          11.920603   \n",
      "3                57.792734                          11.630094   \n",
      "4                56.047189                          10.957755   \n",
      "\n",
      "   rougher.input.floatbank10_xanthate  rougher.state.floatbank10_a_air  ...  \\\n",
      "0                            6.007990                       999.706909  ...   \n",
      "1                            6.005766                      1000.286398  ...   \n",
      "2                            6.197377                       999.719565  ...   \n",
      "3                            6.203177                       999.814770  ...   \n",
      "4                            6.198826                       999.678690  ...   \n",
      "\n",
      "   secondary_cleaner.output.tail_sol  final.output.concentrate_au  \\\n",
      "0                           8.764648                    42.192020   \n",
      "1                           9.001494                    42.701629   \n",
      "2                           8.842896                    42.657501   \n",
      "3                           9.122857                    42.689819   \n",
      "4                           8.871028                    42.774141   \n",
      "\n",
      "   final.output.concentrate_ag  final.output.concentrate_pb  \\\n",
      "0                     6.055403                     9.889648   \n",
      "1                     6.029369                     9.968944   \n",
      "2                     6.055926                    10.213995   \n",
      "3                     6.047977                     9.977019   \n",
      "4                     6.148599                    10.142511   \n",
      "\n",
      "   final.output.concentrate_sol  final.output.recovery  final.output.tail_au  \\\n",
      "0                      5.507324              70.541216              2.143149   \n",
      "1                      5.257781              69.266198              2.224930   \n",
      "2                      5.383759              68.116445              2.257889   \n",
      "3                      4.858634              68.347543              2.146849   \n",
      "4                      4.939416              66.927016              2.055292   \n",
      "\n",
      "   final.output.tail_ag  final.output.tail_pb  final.output.tail_sol  \n",
      "0             10.411962              0.895447              16.904297  \n",
      "1             10.462676              0.927452              16.634514  \n",
      "2             10.507046              0.953716              16.208849  \n",
      "3             10.422762              0.883763              16.532835  \n",
      "4             10.360302              0.792826              16.525686  \n",
      "\n",
      "[5 rows x 87 columns]\n"
     ]
    }
   ],
   "source": [
    "print(\"data_train\")\n",
    "print(data_train.head())\n",
    "print('---' * 30)\n",
    "print(\"data_test\")\n",
    "print(data_test.head())\n",
    "print('---' * 30)\n",
    "print(\"data_full\")\n",
    "print(data_full.head())"
   ]
  },
  {
   "cell_type": "code",
   "execution_count": 7,
   "metadata": {
    "scrolled": true
   },
   "outputs": [],
   "source": [
    "profile_train = ProfileReport(data_train, title='data_train', minimal=True)\n",
    "profile_train"
   ]
  },
  {
   "cell_type": "code",
   "execution_count": 8,
   "metadata": {
    "scrolled": true
   },
   "outputs": [],
   "source": [
    "profile_test = ProfileReport(data_test, title='data_test', minimal=True)\n",
    "profile_test"
   ]
  },
  {
   "cell_type": "code",
   "execution_count": 9,
   "metadata": {
    "scrolled": true
   },
   "outputs": [],
   "source": [
    "profile_full = ProfileReport(data_full, title='data_full', minimal=True)\n",
    "profile_full"
   ]
  },
  {
   "cell_type": "code",
   "execution_count": 10,
   "metadata": {},
   "outputs": [
    {
     "name": "stdout",
     "output_type": "stream",
     "text": [
      "Количество дубликатов у data_train: 0\n",
      "Количество дубликатов у data_test: 0\n",
      "Количество дубликатов у data_full: 0\n"
     ]
    }
   ],
   "source": [
    "print('Количество дубликатов у data_train:', data_train.duplicated().sum())\n",
    "print('Количество дубликатов у data_test:', data_test.duplicated().sum())\n",
    "print('Количество дубликатов у data_full:', data_full.duplicated().sum())"
   ]
  },
  {
   "cell_type": "code",
   "execution_count": 11,
   "metadata": {},
   "outputs": [
    {
     "name": "stdout",
     "output_type": "stream",
     "text": [
      "Размер таблицы data_train: (14579, 87)\n",
      "Размер таблицы data_test: (4860, 53)\n",
      "Размер таблицы data_full: (19439, 87)\n"
     ]
    }
   ],
   "source": [
    "print(\"Размер таблицы data_train:\", data_train.shape)\n",
    "print(\"Размер таблицы data_test:\", data_test.shape)\n",
    "print(\"Размер таблицы data_full:\", data_full.shape)"
   ]
  },
  {
   "cell_type": "markdown",
   "metadata": {},
   "source": [
    "**Вывод, исходя из общих данных датасетов `gold_industry_train.csv`, `gold_industry_test.csv`, `gold_industry_full.csv`:**\n",
    "\n",
    "1. Явных дубликатов не выявлено.\n",
    "2. Имеются пропуски данных и нулевые значения. Максимальное количество пропусков в исходном наборе данных содержится в столбце `secondary_cleaner.output.tail_sol` - 9% от исходной выборки и 6.3% от обучающей выборки. По остальным столбцам максимальная доля пропусков менее 3% пропусков. При этом заметим, что в тестовой выборке данного столбца нет.\n",
    "3. Есть выбросы в некоторых данных.\n",
    "4. Исходные данные поделены на обучающую и тестовую выборки в соотношении 75:25. \n",
    "5. В тестовой выборке отсутствуют некоторые признаки, которые могут быть в обучающей. По заданию это объясняется тем, что некоторые параметры замеряются и/или рассчитываются значительно позже."
   ]
  },
  {
   "cell_type": "markdown",
   "metadata": {},
   "source": [
    "### Проверим, что эффективность обогащения рассчитана правильно."
   ]
  },
  {
   "attachments": {
    "Image.png": {
     "image/png": "[encoded data removed]"
    }
   },
   "cell_type": "markdown",
   "metadata": {},
   "source": [
    "Эффективность обогащения рассчитывается по формуле:\n",
    "\n",
    "![Image.png](attachment:Image.png)\n",
    "\n",
    "где:\n",
    "\n",
    "- C — доля золота в концентрате после флотации/очистки;\n",
    "- F — доля золота в сырье/концентрате до флотации/очистки;\n",
    "- T — доля золота в отвальных хвостах после флотации/очистки.\n",
    "\n",
    "В нашем случае `С = rougher.output.concentrate_au`, `F = rougher.input.feed_au`, `T = rougher.output.tail_au`"
   ]
  },
  {
   "cell_type": "code",
   "execution_count": 12,
   "metadata": {},
   "outputs": [
    {
     "data": {
      "text/html": [
       "<div>\n",
       "<style scoped>\n",
       "    .dataframe tbody tr th:only-of-type {\n",
       "        vertical-align: middle;\n",
       "    }\n",
       "\n",
       "    .dataframe tbody tr th {\n",
       "        vertical-align: top;\n",
       "    }\n",
       "\n",
       "    .dataframe thead th {\n",
       "        text-align: right;\n",
       "    }\n",
       "</style>\n",
       "<table border=\"1\" class=\"dataframe\">\n",
       "  <thead>\n",
       "    <tr style=\"text-align: right;\">\n",
       "      <th></th>\n",
       "      <th>rougher.output.recovery</th>\n",
       "      <th>estimated_recovery</th>\n",
       "    </tr>\n",
       "  </thead>\n",
       "  <tbody>\n",
       "    <tr>\n",
       "      <th>0</th>\n",
       "      <td>87.107763</td>\n",
       "      <td>87.107763</td>\n",
       "    </tr>\n",
       "    <tr>\n",
       "      <th>1</th>\n",
       "      <td>86.843261</td>\n",
       "      <td>86.843261</td>\n",
       "    </tr>\n",
       "    <tr>\n",
       "      <th>2</th>\n",
       "      <td>86.842308</td>\n",
       "      <td>86.842308</td>\n",
       "    </tr>\n",
       "    <tr>\n",
       "      <th>3</th>\n",
       "      <td>87.226430</td>\n",
       "      <td>87.226430</td>\n",
       "    </tr>\n",
       "    <tr>\n",
       "      <th>4</th>\n",
       "      <td>86.688794</td>\n",
       "      <td>86.688794</td>\n",
       "    </tr>\n",
       "  </tbody>\n",
       "</table>\n",
       "</div>"
      ],
      "text/plain": [
       "   rougher.output.recovery  estimated_recovery\n",
       "0                87.107763           87.107763\n",
       "1                86.843261           86.843261\n",
       "2                86.842308           86.842308\n",
       "3                87.226430           87.226430\n",
       "4                86.688794           86.688794"
      ]
     },
     "execution_count": 12,
     "metadata": {},
     "output_type": "execute_result"
    }
   ],
   "source": [
    "data_train['estimated_recovery'] = (data_train['rougher.output.concentrate_au'] * \n",
    "    (data_train['rougher.input.feed_au'] - data_train['rougher.output.tail_au']) / (data_train['rougher.input.feed_au'] *\n",
    "    (data_train['rougher.output.concentrate_au'] - data_train['rougher.output.tail_au'])) * 100)\n",
    "\n",
    "data_train[['rougher.output.recovery', 'estimated_recovery']].head()"
   ]
  },
  {
   "cell_type": "markdown",
   "metadata": {},
   "source": [
    "**Найдем значение среднего абсолютного отклонения (*МАЕ*) между нашими расчётами и значением признака.**"
   ]
  },
  {
   "cell_type": "code",
   "execution_count": 13,
   "metadata": {},
   "outputs": [
    {
     "name": "stdout",
     "output_type": "stream",
     "text": [
      "Cреднее абсолютное отклонение MAE: 9.83758577644259e-15\n"
     ]
    }
   ],
   "source": [
    "mae = mean_absolute_error(data_train['estimated_recovery'], data_train['rougher.output.recovery'])\n",
    "print(\"Cреднее абсолютное отклонение MAE:\", mae)"
   ]
  },
  {
   "cell_type": "markdown",
   "metadata": {},
   "source": [
    "**Эффективность обогащения в данных рассчитана верно - среднее абсолютное отклонение между значениями, взятыми из данных и рассчитанных по соответствующей формуле стремится к нулю.**"
   ]
  },
  {
   "cell_type": "markdown",
   "metadata": {},
   "source": [
    "### Определим названия столбцов, которые отсутствуют в тестовом датасете."
   ]
  },
  {
   "cell_type": "code",
   "execution_count": 14,
   "metadata": {},
   "outputs": [
    {
     "data": {
      "text/plain": [
       "Index(['date', 'rougher.input.feed_au', 'rougher.input.feed_ag',\n",
       "       'rougher.input.feed_pb', 'rougher.input.feed_sol',\n",
       "       'rougher.input.feed_rate', 'rougher.input.feed_size',\n",
       "       'rougher.input.floatbank10_sulfate',\n",
       "       'rougher.input.floatbank10_xanthate', 'rougher.state.floatbank10_a_air',\n",
       "       'rougher.state.floatbank10_a_level', 'rougher.state.floatbank10_b_air',\n",
       "       'rougher.state.floatbank10_b_level', 'rougher.state.floatbank10_c_air',\n",
       "       'rougher.state.floatbank10_c_level', 'rougher.state.floatbank10_d_air',\n",
       "       'rougher.state.floatbank10_d_level', 'rougher.state.floatbank10_e_air',\n",
       "       'rougher.state.floatbank10_e_level', 'rougher.state.floatbank10_f_air',\n",
       "       'rougher.state.floatbank10_f_level',\n",
       "       'rougher.input.floatbank11_sulfate',\n",
       "       'rougher.input.floatbank11_xanthate',\n",
       "       'rougher.calculation.sulfate_to_au_concentrate',\n",
       "       'rougher.calculation.floatbank10_sulfate_to_au_feed',\n",
       "       'rougher.calculation.floatbank11_sulfate_to_au_feed',\n",
       "       'rougher.calculation.au_pb_ratio', 'rougher.output.concentrate_au',\n",
       "       'rougher.output.concentrate_ag', 'rougher.output.concentrate_pb',\n",
       "       'rougher.output.concentrate_sol', 'rougher.output.recovery',\n",
       "       'rougher.output.tail_au', 'rougher.output.tail_ag',\n",
       "       'rougher.output.tail_pb', 'rougher.output.tail_sol',\n",
       "       'primary_cleaner.input.sulfate', 'primary_cleaner.input.depressant',\n",
       "       'primary_cleaner.input.feed_size', 'primary_cleaner.input.xanthate',\n",
       "       'primary_cleaner.state.floatbank8_a_air',\n",
       "       'primary_cleaner.state.floatbank8_a_level',\n",
       "       'primary_cleaner.state.floatbank8_b_air',\n",
       "       'primary_cleaner.state.floatbank8_b_level',\n",
       "       'primary_cleaner.state.floatbank8_c_air',\n",
       "       'primary_cleaner.state.floatbank8_c_level',\n",
       "       'primary_cleaner.state.floatbank8_d_air',\n",
       "       'primary_cleaner.state.floatbank8_d_level',\n",
       "       'primary_cleaner.output.concentrate_au',\n",
       "       'primary_cleaner.output.concentrate_ag',\n",
       "       'primary_cleaner.output.concentrate_pb',\n",
       "       'primary_cleaner.output.concentrate_sol',\n",
       "       'primary_cleaner.output.tail_au', 'primary_cleaner.output.tail_ag',\n",
       "       'primary_cleaner.output.tail_pb', 'primary_cleaner.output.tail_sol',\n",
       "       'secondary_cleaner.state.floatbank2_a_air',\n",
       "       'secondary_cleaner.state.floatbank2_a_level',\n",
       "       'secondary_cleaner.state.floatbank2_b_air',\n",
       "       'secondary_cleaner.state.floatbank2_b_level',\n",
       "       'secondary_cleaner.state.floatbank3_a_air',\n",
       "       'secondary_cleaner.state.floatbank3_a_level',\n",
       "       'secondary_cleaner.state.floatbank3_b_air',\n",
       "       'secondary_cleaner.state.floatbank3_b_level',\n",
       "       'secondary_cleaner.state.floatbank4_a_air',\n",
       "       'secondary_cleaner.state.floatbank4_a_level',\n",
       "       'secondary_cleaner.state.floatbank4_b_air',\n",
       "       'secondary_cleaner.state.floatbank4_b_level',\n",
       "       'secondary_cleaner.state.floatbank5_a_air',\n",
       "       'secondary_cleaner.state.floatbank5_a_level',\n",
       "       'secondary_cleaner.state.floatbank5_b_air',\n",
       "       'secondary_cleaner.state.floatbank5_b_level',\n",
       "       'secondary_cleaner.state.floatbank6_a_air',\n",
       "       'secondary_cleaner.state.floatbank6_a_level',\n",
       "       'secondary_cleaner.output.tail_au', 'secondary_cleaner.output.tail_ag',\n",
       "       'secondary_cleaner.output.tail_pb', 'secondary_cleaner.output.tail_sol',\n",
       "       'final.output.concentrate_au', 'final.output.concentrate_ag',\n",
       "       'final.output.concentrate_pb', 'final.output.concentrate_sol',\n",
       "       'final.output.recovery', 'final.output.tail_au', 'final.output.tail_ag',\n",
       "       'final.output.tail_pb', 'final.output.tail_sol', 'estimated_recovery'],\n",
       "      dtype='object')"
      ]
     },
     "execution_count": 14,
     "metadata": {},
     "output_type": "execute_result"
    }
   ],
   "source": [
    "data_train.columns"
   ]
  },
  {
   "cell_type": "code",
   "execution_count": 15,
   "metadata": {},
   "outputs": [
    {
     "data": {
      "text/plain": [
       "Index(['date', 'rougher.input.feed_au', 'rougher.input.feed_ag',\n",
       "       'rougher.input.feed_pb', 'rougher.input.feed_sol',\n",
       "       'rougher.input.feed_rate', 'rougher.input.feed_size',\n",
       "       'rougher.input.floatbank10_sulfate',\n",
       "       'rougher.input.floatbank10_xanthate', 'rougher.state.floatbank10_a_air',\n",
       "       'rougher.state.floatbank10_a_level', 'rougher.state.floatbank10_b_air',\n",
       "       'rougher.state.floatbank10_b_level', 'rougher.state.floatbank10_c_air',\n",
       "       'rougher.state.floatbank10_c_level', 'rougher.state.floatbank10_d_air',\n",
       "       'rougher.state.floatbank10_d_level', 'rougher.state.floatbank10_e_air',\n",
       "       'rougher.state.floatbank10_e_level', 'rougher.state.floatbank10_f_air',\n",
       "       'rougher.state.floatbank10_f_level',\n",
       "       'rougher.input.floatbank11_sulfate',\n",
       "       'rougher.input.floatbank11_xanthate', 'primary_cleaner.input.sulfate',\n",
       "       'primary_cleaner.input.depressant', 'primary_cleaner.input.feed_size',\n",
       "       'primary_cleaner.input.xanthate',\n",
       "       'primary_cleaner.state.floatbank8_a_air',\n",
       "       'primary_cleaner.state.floatbank8_a_level',\n",
       "       'primary_cleaner.state.floatbank8_b_air',\n",
       "       'primary_cleaner.state.floatbank8_b_level',\n",
       "       'primary_cleaner.state.floatbank8_c_air',\n",
       "       'primary_cleaner.state.floatbank8_c_level',\n",
       "       'primary_cleaner.state.floatbank8_d_air',\n",
       "       'primary_cleaner.state.floatbank8_d_level',\n",
       "       'secondary_cleaner.state.floatbank2_a_air',\n",
       "       'secondary_cleaner.state.floatbank2_a_level',\n",
       "       'secondary_cleaner.state.floatbank2_b_air',\n",
       "       'secondary_cleaner.state.floatbank2_b_level',\n",
       "       'secondary_cleaner.state.floatbank3_a_air',\n",
       "       'secondary_cleaner.state.floatbank3_a_level',\n",
       "       'secondary_cleaner.state.floatbank3_b_air',\n",
       "       'secondary_cleaner.state.floatbank3_b_level',\n",
       "       'secondary_cleaner.state.floatbank4_a_air',\n",
       "       'secondary_cleaner.state.floatbank4_a_level',\n",
       "       'secondary_cleaner.state.floatbank4_b_air',\n",
       "       'secondary_cleaner.state.floatbank4_b_level',\n",
       "       'secondary_cleaner.state.floatbank5_a_air',\n",
       "       'secondary_cleaner.state.floatbank5_a_level',\n",
       "       'secondary_cleaner.state.floatbank5_b_air',\n",
       "       'secondary_cleaner.state.floatbank5_b_level',\n",
       "       'secondary_cleaner.state.floatbank6_a_air',\n",
       "       'secondary_cleaner.state.floatbank6_a_level'],\n",
       "      dtype='object')"
      ]
     },
     "execution_count": 15,
     "metadata": {},
     "output_type": "execute_result"
    }
   ],
   "source": [
    "data_test.columns"
   ]
  },
  {
   "cell_type": "code",
   "execution_count": 16,
   "metadata": {},
   "outputs": [
    {
     "data": {
      "text/plain": [
       "{'estimated_recovery',\n",
       " 'final.output.concentrate_ag',\n",
       " 'final.output.concentrate_au',\n",
       " 'final.output.concentrate_pb',\n",
       " 'final.output.concentrate_sol',\n",
       " 'final.output.recovery',\n",
       " 'final.output.tail_ag',\n",
       " 'final.output.tail_au',\n",
       " 'final.output.tail_pb',\n",
       " 'final.output.tail_sol',\n",
       " 'primary_cleaner.output.concentrate_ag',\n",
       " 'primary_cleaner.output.concentrate_au',\n",
       " 'primary_cleaner.output.concentrate_pb',\n",
       " 'primary_cleaner.output.concentrate_sol',\n",
       " 'primary_cleaner.output.tail_ag',\n",
       " 'primary_cleaner.output.tail_au',\n",
       " 'primary_cleaner.output.tail_pb',\n",
       " 'primary_cleaner.output.tail_sol',\n",
       " 'rougher.calculation.au_pb_ratio',\n",
       " 'rougher.calculation.floatbank10_sulfate_to_au_feed',\n",
       " 'rougher.calculation.floatbank11_sulfate_to_au_feed',\n",
       " 'rougher.calculation.sulfate_to_au_concentrate',\n",
       " 'rougher.output.concentrate_ag',\n",
       " 'rougher.output.concentrate_au',\n",
       " 'rougher.output.concentrate_pb',\n",
       " 'rougher.output.concentrate_sol',\n",
       " 'rougher.output.recovery',\n",
       " 'rougher.output.tail_ag',\n",
       " 'rougher.output.tail_au',\n",
       " 'rougher.output.tail_pb',\n",
       " 'rougher.output.tail_sol',\n",
       " 'secondary_cleaner.output.tail_ag',\n",
       " 'secondary_cleaner.output.tail_au',\n",
       " 'secondary_cleaner.output.tail_pb',\n",
       " 'secondary_cleaner.output.tail_sol'}"
      ]
     },
     "execution_count": 16,
     "metadata": {},
     "output_type": "execute_result"
    }
   ],
   "source": [
    "data_drop_columns = set(data_train.columns) - set(data_test.columns)\n",
    "data_drop_columns"
   ]
  },
  {
   "cell_type": "markdown",
   "metadata": {},
   "source": [
    "**В тестовом датасете `data_test` отсутствуют все признаки, характеризующие выходные параметры продукта *output*, а также расчетные параметры *calculation*. Вероятно,  именно данные параметры недоступны, потому что замеряются и/или рассчитываются позже. Перед обучением модели данные признаки необходимо удалить.**"
   ]
  },
  {
   "cell_type": "markdown",
   "metadata": {},
   "source": [
    "### Восстановим целевой признак для тестовой выборки."
   ]
  },
  {
   "cell_type": "markdown",
   "metadata": {},
   "source": [
    "Восстановим целевой признак для тестовой выборки исходя из полных данных `data_full` и идентификатора - времени соответствующего процесса `date`."
   ]
  },
  {
   "cell_type": "code",
   "execution_count": 17,
   "metadata": {},
   "outputs": [],
   "source": [
    "data_test_merge= data_test.merge(data_full, how='left', on='date')\n",
    "data_test[['rougher.output.recovery', 'final.output.recovery']] = (data_test_merge[['rougher.output.recovery', \n",
    "                                                                                    'final.output.recovery']])"
   ]
  },
  {
   "cell_type": "code",
   "execution_count": 18,
   "metadata": {},
   "outputs": [
    {
     "data": {
      "text/plain": [
       "(4860, 55)"
      ]
     },
     "execution_count": 18,
     "metadata": {},
     "output_type": "execute_result"
    }
   ],
   "source": [
    "data_test.shape"
   ]
  },
  {
   "cell_type": "markdown",
   "metadata": {},
   "source": [
    "###  Предобработка данных: заполнение пропусков."
   ]
  },
  {
   "cell_type": "markdown",
   "metadata": {},
   "source": [
    "Пропуски, заполним ближайшими (верхними) значениями по столбцам, поскольку из условий следует, что *cоседние по времени параметры часто похожи*."
   ]
  },
  {
   "cell_type": "code",
   "execution_count": 19,
   "metadata": {},
   "outputs": [],
   "source": [
    "data_full = data_full.fillna(method='ffill')\n",
    "data_train = data_train.fillna(method='ffill')\n",
    "data_test = data_test.fillna(method='ffill')"
   ]
  },
  {
   "cell_type": "code",
   "execution_count": 20,
   "metadata": {},
   "outputs": [
    {
     "name": "stdout",
     "output_type": "stream",
     "text": [
      "Количество пропусков у data_train: [0]\n",
      "Количество пропусков у data_test: [0]\n",
      "Количество пропусков у data_full: [0]\n"
     ]
    }
   ],
   "source": [
    "print('Количество пропусков у data_train:', data_train.isna().sum().unique())\n",
    "print('Количество пропусков у data_test:', data_test.isna().sum().unique())\n",
    "print('Количество пропусков у data_full:', data_full.isna().sum().unique())"
   ]
  },
  {
   "cell_type": "markdown",
   "metadata": {},
   "source": [
    "### Предобработка данных: удаление ненужных столбцов."
   ]
  },
  {
   "cell_type": "markdown",
   "metadata": {},
   "source": [
    "Удалим из обучающей выборки `data_train` столбцы, которые отсутствуют в тестовом наборе `data_test`."
   ]
  },
  {
   "cell_type": "code",
   "execution_count": 21,
   "metadata": {},
   "outputs": [
    {
     "name": "stdout",
     "output_type": "stream",
     "text": [
      "Размер таблицы data_train: (14579, 55)\n"
     ]
    }
   ],
   "source": [
    "data_train.drop((set(data_train.columns) - set(data_test.columns)), axis=1, inplace=True)\n",
    "print(\"Размер таблицы data_train:\", data_train.shape)"
   ]
  },
  {
   "cell_type": "code",
   "execution_count": 22,
   "metadata": {
    "scrolled": true
   },
   "outputs": [
    {
     "name": "stdout",
     "output_type": "stream",
     "text": [
      "Размер таблицы data_test: (4860, 55)\n"
     ]
    }
   ],
   "source": [
    "print(\"Размер таблицы data_test:\", data_test.shape)"
   ]
  },
  {
   "cell_type": "markdown",
   "metadata": {},
   "source": [
    "**Вывод по предобработке данных:**\n",
    "\n",
    "1. Определили столбцы, которые отсутствуют в тестовом датасете `data_test`, но есть в датасете `data_train`. \n",
    "2. Восстановили целевой признак для тестовой выборки. Добавили столбцы `rougher.output.recovery`, `final.output.recovery`.\n",
    "3. Заполнили пропуски ближайшими значениями с помощью метода *ffill*.\n",
    "4. Удалили ненужные столбцы, которые не будут участвовать при обучении модели. "
   ]
  },
  {
   "cell_type": "markdown",
   "metadata": {},
   "source": [
    "## Анализ данных"
   ]
  },
  {
   "cell_type": "markdown",
   "metadata": {},
   "source": [
    "### Концентрация металлов (Au (золото), Ag (серебро), Pb (свинец)) на различных этапах очистки."
   ]
  },
  {
   "cell_type": "markdown",
   "metadata": {},
   "source": [
    "**Этапы очистки:**\n",
    "\n",
    "- Концентрация металла в сырье: `rougher.input.feed`\n",
    "- Концентрация металла в черновом концентрате: `rougher.output.concentrate`\n",
    "- Концентрация металла в концентрате после первой очистки: `primary_cleaner.output.concentrate`\n",
    "- Концентрация металла в финальном концентрате: `final.output.concentrate`"
   ]
  },
  {
   "cell_type": "code",
   "execution_count": 23,
   "metadata": {},
   "outputs": [
    {
     "name": "stdout",
     "output_type": "stream",
     "text": [
      "Концентрация металла AU\n"
     ]
    },
    {
     "data": {
      "text/html": [
       "<div>\n",
       "<style scoped>\n",
       "    .dataframe tbody tr th:only-of-type {\n",
       "        vertical-align: middle;\n",
       "    }\n",
       "\n",
       "    .dataframe tbody tr th {\n",
       "        vertical-align: top;\n",
       "    }\n",
       "\n",
       "    .dataframe thead th {\n",
       "        text-align: right;\n",
       "    }\n",
       "</style>\n",
       "<table border=\"1\" class=\"dataframe\">\n",
       "  <thead>\n",
       "    <tr style=\"text-align: right;\">\n",
       "      <th></th>\n",
       "      <th>rougher.input.feed_au</th>\n",
       "      <th>rougher.output.concentrate_au</th>\n",
       "      <th>primary_cleaner.output.concentrate_au</th>\n",
       "      <th>final.output.concentrate_au</th>\n",
       "    </tr>\n",
       "  </thead>\n",
       "  <tbody>\n",
       "    <tr>\n",
       "      <th>count</th>\n",
       "      <td>19439.000000</td>\n",
       "      <td>19439.000000</td>\n",
       "      <td>19439.000000</td>\n",
       "      <td>19439.000000</td>\n",
       "    </tr>\n",
       "    <tr>\n",
       "      <th>mean</th>\n",
       "      <td>8.266097</td>\n",
       "      <td>19.772000</td>\n",
       "      <td>32.119400</td>\n",
       "      <td>44.076513</td>\n",
       "    </tr>\n",
       "    <tr>\n",
       "      <th>std</th>\n",
       "      <td>1.955092</td>\n",
       "      <td>3.753600</td>\n",
       "      <td>5.627611</td>\n",
       "      <td>5.129784</td>\n",
       "    </tr>\n",
       "    <tr>\n",
       "      <th>min</th>\n",
       "      <td>0.010000</td>\n",
       "      <td>0.000000</td>\n",
       "      <td>0.000000</td>\n",
       "      <td>0.000000</td>\n",
       "    </tr>\n",
       "    <tr>\n",
       "      <th>25%</th>\n",
       "      <td>6.854384</td>\n",
       "      <td>18.802523</td>\n",
       "      <td>30.463140</td>\n",
       "      <td>43.402215</td>\n",
       "    </tr>\n",
       "    <tr>\n",
       "      <th>50%</th>\n",
       "      <td>8.125839</td>\n",
       "      <td>20.280214</td>\n",
       "      <td>32.841295</td>\n",
       "      <td>45.011244</td>\n",
       "    </tr>\n",
       "    <tr>\n",
       "      <th>75%</th>\n",
       "      <td>9.769917</td>\n",
       "      <td>21.717843</td>\n",
       "      <td>35.048006</td>\n",
       "      <td>46.275313</td>\n",
       "    </tr>\n",
       "    <tr>\n",
       "      <th>max</th>\n",
       "      <td>13.731330</td>\n",
       "      <td>28.824507</td>\n",
       "      <td>45.933934</td>\n",
       "      <td>52.756638</td>\n",
       "    </tr>\n",
       "  </tbody>\n",
       "</table>\n",
       "</div>"
      ],
      "text/plain": [
       "       rougher.input.feed_au  rougher.output.concentrate_au  \\\n",
       "count           19439.000000                   19439.000000   \n",
       "mean                8.266097                      19.772000   \n",
       "std                 1.955092                       3.753600   \n",
       "min                 0.010000                       0.000000   \n",
       "25%                 6.854384                      18.802523   \n",
       "50%                 8.125839                      20.280214   \n",
       "75%                 9.769917                      21.717843   \n",
       "max                13.731330                      28.824507   \n",
       "\n",
       "       primary_cleaner.output.concentrate_au  final.output.concentrate_au  \n",
       "count                           19439.000000                 19439.000000  \n",
       "mean                               32.119400                    44.076513  \n",
       "std                                 5.627611                     5.129784  \n",
       "min                                 0.000000                     0.000000  \n",
       "25%                                30.463140                    43.402215  \n",
       "50%                                32.841295                    45.011244  \n",
       "75%                                35.048006                    46.275313  \n",
       "max                                45.933934                    52.756638  "
      ]
     },
     "metadata": {},
     "output_type": "display_data"
    },
    {
     "name": "stdout",
     "output_type": "stream",
     "text": [
      "\n"
     ]
    },
    {
     "data": {
      "image/png": "[encoded data removed]",
      "text/plain": [
       "<Figure size 1440x720 with 2 Axes>"
      ]
     },
     "metadata": {
      "needs_background": "light"
     },
     "output_type": "display_data"
    },
    {
     "name": "stdout",
     "output_type": "stream",
     "text": [
      "Концентрация металла AG\n"
     ]
    },
    {
     "data": {
      "text/html": [
       "<div>\n",
       "<style scoped>\n",
       "    .dataframe tbody tr th:only-of-type {\n",
       "        vertical-align: middle;\n",
       "    }\n",
       "\n",
       "    .dataframe tbody tr th {\n",
       "        vertical-align: top;\n",
       "    }\n",
       "\n",
       "    .dataframe thead th {\n",
       "        text-align: right;\n",
       "    }\n",
       "</style>\n",
       "<table border=\"1\" class=\"dataframe\">\n",
       "  <thead>\n",
       "    <tr style=\"text-align: right;\">\n",
       "      <th></th>\n",
       "      <th>rougher.input.feed_ag</th>\n",
       "      <th>rougher.output.concentrate_ag</th>\n",
       "      <th>primary_cleaner.output.concentrate_ag</th>\n",
       "      <th>final.output.concentrate_ag</th>\n",
       "    </tr>\n",
       "  </thead>\n",
       "  <tbody>\n",
       "    <tr>\n",
       "      <th>count</th>\n",
       "      <td>19439.000000</td>\n",
       "      <td>19439.000000</td>\n",
       "      <td>19439.000000</td>\n",
       "      <td>19439.000000</td>\n",
       "    </tr>\n",
       "    <tr>\n",
       "      <th>mean</th>\n",
       "      <td>8.794927</td>\n",
       "      <td>11.994759</td>\n",
       "      <td>8.442408</td>\n",
       "      <td>5.168387</td>\n",
       "    </tr>\n",
       "    <tr>\n",
       "      <th>std</th>\n",
       "      <td>1.936847</td>\n",
       "      <td>2.733862</td>\n",
       "      <td>2.054465</td>\n",
       "      <td>1.372362</td>\n",
       "    </tr>\n",
       "    <tr>\n",
       "      <th>min</th>\n",
       "      <td>0.010000</td>\n",
       "      <td>0.000000</td>\n",
       "      <td>0.000000</td>\n",
       "      <td>0.000000</td>\n",
       "    </tr>\n",
       "    <tr>\n",
       "      <th>25%</th>\n",
       "      <td>7.237967</td>\n",
       "      <td>10.628337</td>\n",
       "      <td>7.263288</td>\n",
       "      <td>4.251000</td>\n",
       "    </tr>\n",
       "    <tr>\n",
       "      <th>50%</th>\n",
       "      <td>8.593574</td>\n",
       "      <td>12.098115</td>\n",
       "      <td>8.507298</td>\n",
       "      <td>5.066039</td>\n",
       "    </tr>\n",
       "    <tr>\n",
       "      <th>75%</th>\n",
       "      <td>10.213771</td>\n",
       "      <td>13.736996</td>\n",
       "      <td>9.809001</td>\n",
       "      <td>5.895401</td>\n",
       "    </tr>\n",
       "    <tr>\n",
       "      <th>max</th>\n",
       "      <td>14.596026</td>\n",
       "      <td>24.480271</td>\n",
       "      <td>16.081632</td>\n",
       "      <td>16.001945</td>\n",
       "    </tr>\n",
       "  </tbody>\n",
       "</table>\n",
       "</div>"
      ],
      "text/plain": [
       "       rougher.input.feed_ag  rougher.output.concentrate_ag  \\\n",
       "count           19439.000000                   19439.000000   \n",
       "mean                8.794927                      11.994759   \n",
       "std                 1.936847                       2.733862   \n",
       "min                 0.010000                       0.000000   \n",
       "25%                 7.237967                      10.628337   \n",
       "50%                 8.593574                      12.098115   \n",
       "75%                10.213771                      13.736996   \n",
       "max                14.596026                      24.480271   \n",
       "\n",
       "       primary_cleaner.output.concentrate_ag  final.output.concentrate_ag  \n",
       "count                           19439.000000                 19439.000000  \n",
       "mean                                8.442408                     5.168387  \n",
       "std                                 2.054465                     1.372362  \n",
       "min                                 0.000000                     0.000000  \n",
       "25%                                 7.263288                     4.251000  \n",
       "50%                                 8.507298                     5.066039  \n",
       "75%                                 9.809001                     5.895401  \n",
       "max                                16.081632                    16.001945  "
      ]
     },
     "metadata": {},
     "output_type": "display_data"
    },
    {
     "name": "stdout",
     "output_type": "stream",
     "text": [
      "\n"
     ]
    },
    {
     "data": {
      "image/png": "[encoded data removed]",
      "text/plain": [
       "<Figure size 1440x720 with 2 Axes>"
      ]
     },
     "metadata": {
      "needs_background": "light"
     },
     "output_type": "display_data"
    },
    {
     "name": "stdout",
     "output_type": "stream",
     "text": [
      "Концентрация металла PB\n"
     ]
    },
    {
     "data": {
      "text/html": [
       "<div>\n",
       "<style scoped>\n",
       "    .dataframe tbody tr th:only-of-type {\n",
       "        vertical-align: middle;\n",
       "    }\n",
       "\n",
       "    .dataframe tbody tr th {\n",
       "        vertical-align: top;\n",
       "    }\n",
       "\n",
       "    .dataframe thead th {\n",
       "        text-align: right;\n",
       "    }\n",
       "</style>\n",
       "<table border=\"1\" class=\"dataframe\">\n",
       "  <thead>\n",
       "    <tr style=\"text-align: right;\">\n",
       "      <th></th>\n",
       "      <th>rougher.input.feed_pb</th>\n",
       "      <th>rougher.output.concentrate_pb</th>\n",
       "      <th>primary_cleaner.output.concentrate_pb</th>\n",
       "      <th>final.output.concentrate_pb</th>\n",
       "    </tr>\n",
       "  </thead>\n",
       "  <tbody>\n",
       "    <tr>\n",
       "      <th>count</th>\n",
       "      <td>19439.000000</td>\n",
       "      <td>19439.000000</td>\n",
       "      <td>19439.000000</td>\n",
       "      <td>19439.000000</td>\n",
       "    </tr>\n",
       "    <tr>\n",
       "      <th>mean</th>\n",
       "      <td>3.584516</td>\n",
       "      <td>7.606272</td>\n",
       "      <td>9.809276</td>\n",
       "      <td>9.978821</td>\n",
       "    </tr>\n",
       "    <tr>\n",
       "      <th>std</th>\n",
       "      <td>1.064760</td>\n",
       "      <td>1.796757</td>\n",
       "      <td>2.574759</td>\n",
       "      <td>1.669228</td>\n",
       "    </tr>\n",
       "    <tr>\n",
       "      <th>min</th>\n",
       "      <td>0.010000</td>\n",
       "      <td>0.000000</td>\n",
       "      <td>0.000000</td>\n",
       "      <td>0.000000</td>\n",
       "    </tr>\n",
       "    <tr>\n",
       "      <th>25%</th>\n",
       "      <td>2.872178</td>\n",
       "      <td>6.725987</td>\n",
       "      <td>8.677629</td>\n",
       "      <td>9.137225</td>\n",
       "    </tr>\n",
       "    <tr>\n",
       "      <th>50%</th>\n",
       "      <td>3.528235</td>\n",
       "      <td>7.742580</td>\n",
       "      <td>10.142270</td>\n",
       "      <td>10.102264</td>\n",
       "    </tr>\n",
       "    <tr>\n",
       "      <th>75%</th>\n",
       "      <td>4.241005</td>\n",
       "      <td>8.565199</td>\n",
       "      <td>11.416124</td>\n",
       "      <td>11.035644</td>\n",
       "    </tr>\n",
       "    <tr>\n",
       "      <th>max</th>\n",
       "      <td>7.142594</td>\n",
       "      <td>13.617072</td>\n",
       "      <td>17.081278</td>\n",
       "      <td>17.031899</td>\n",
       "    </tr>\n",
       "  </tbody>\n",
       "</table>\n",
       "</div>"
      ],
      "text/plain": [
       "       rougher.input.feed_pb  rougher.output.concentrate_pb  \\\n",
       "count           19439.000000                   19439.000000   \n",
       "mean                3.584516                       7.606272   \n",
       "std                 1.064760                       1.796757   \n",
       "min                 0.010000                       0.000000   \n",
       "25%                 2.872178                       6.725987   \n",
       "50%                 3.528235                       7.742580   \n",
       "75%                 4.241005                       8.565199   \n",
       "max                 7.142594                      13.617072   \n",
       "\n",
       "       primary_cleaner.output.concentrate_pb  final.output.concentrate_pb  \n",
       "count                           19439.000000                 19439.000000  \n",
       "mean                                9.809276                     9.978821  \n",
       "std                                 2.574759                     1.669228  \n",
       "min                                 0.000000                     0.000000  \n",
       "25%                                 8.677629                     9.137225  \n",
       "50%                                10.142270                    10.102264  \n",
       "75%                                11.416124                    11.035644  \n",
       "max                                17.081278                    17.031899  "
      ]
     },
     "metadata": {},
     "output_type": "display_data"
    },
    {
     "name": "stdout",
     "output_type": "stream",
     "text": [
      "\n"
     ]
    },
    {
     "data": {
      "image/png": "[encoded data removed]",
      "text/plain": [
       "<Figure size 1440x720 with 2 Axes>"
      ]
     },
     "metadata": {
      "needs_background": "light"
     },
     "output_type": "display_data"
    }
   ],
   "source": [
    "for metal in ['au', 'ag', 'pb']:\n",
    "    print(\"Концентрация металла\", str.upper(metal))\n",
    "    display(data_full[['rougher.input.feed_'+metal,'rougher.output.concentrate_'+metal, \n",
    "        'primary_cleaner.output.concentrate_'+metal,'final.output.concentrate_'+metal]].describe())\n",
    "    print()\n",
    "    plt.figure(figsize=(20,10))\n",
    "    plt.subplot(1,2,1)\n",
    "    sns.histplot(data=data_full[['rougher.input.feed_'+metal, 'rougher.output.concentrate_'+metal, \n",
    "        'primary_cleaner.output.concentrate_'+metal,'final.output.concentrate_'+metal]], element='step', kde=True)\n",
    "    plt.grid()\n",
    "    plt.subplot(1,2,2)\n",
    "    sns.boxplot(data=data_full[['rougher.input.feed_'+metal, 'rougher.output.concentrate_'+metal, \n",
    "        'primary_cleaner.output.concentrate_'+metal,'final.output.concentrate_'+metal]])\n",
    "    plt.grid()\n",
    "    plt.xticks(rotation=15)\n",
    "    plt.show()"
   ]
  },
  {
   "cell_type": "markdown",
   "metadata": {},
   "source": [
    "**Вывод:**\n",
    "1. Концентрация золота Au в первичном сырье составляет в среднем 8.3%, но уже на выходе из флотации концентрация выросла до 19.8%, после первой очистки - 32.1%, на финальной стадии очистки - 44.1%. Видим, что прирост практически линейный и увеличивается примерно на 12% на каждом этапе очистки.\n",
    "2. Концентрация серебра Ag в первичном сырье составляет в среднем 8.8%, на выходе из флотации - 12.0%, после первой очистки - 8.4%, на финальной стадии очистки - 5.2%. Видим, что прирост концентрации увеличивается на второй стадии - флотации, но на последующих этапах концентрация падает. При финальной очистке концентрация серебра даже меньше, чем в изначальном сырье.\n",
    "3. Концентрация свинца Pb в первичном сырье составляет в среднем 3.6%, на выходе из флотации - 7.6%, после первой очистки - 9.8%, на финальной стадии очистки - 10.0%. На финальном этапе очистки среднее значение концентрации свинца практически не меняется по сравнению с первой очисткой, при этом диапазон принимаемых значений несколько сужается. А в целом есть прирост концентрации на каждом из этапов."
   ]
  },
  {
   "cell_type": "markdown",
   "metadata": {},
   "source": [
    "### Сравним распределения размеров гранул исходного сырья на обучающей и тестовой выборках."
   ]
  },
  {
   "cell_type": "code",
   "execution_count": 24,
   "metadata": {},
   "outputs": [
    {
     "data": {
      "image/png": "[encoded data removed]",
      "text/plain": [
       "<Figure size 1440x720 with 2 Axes>"
      ]
     },
     "metadata": {
      "needs_background": "light"
     },
     "output_type": "display_data"
    }
   ],
   "source": [
    "plt.figure(figsize=(20, 10))\n",
    "\n",
    "plt.subplot(1, 2, 1)\n",
    "plt.hist(data_train[\"rougher.input.feed_size\"], density=True, alpha=0.5, bins=50)\n",
    "plt.hist(data_test[\"rougher.input.feed_size\"], density=True, alpha=0.5, bins=50)\n",
    "plt.xlabel('Размер гранул сырья')\n",
    "plt.ylabel('Количество')\n",
    "plt.legend([\"data_train\", \"data_test\"], loc='upper right')\n",
    "plt.title(\"Флотация\")\n",
    "\n",
    "plt.subplot(1, 2, 2)\n",
    "plt.hist(data_train[\"primary_cleaner.input.feed_size\"], density=True, alpha=0.5, bins=50)\n",
    "plt.hist(data_test[\"primary_cleaner.input.feed_size\"], density=True, alpha=0.5, bins=50)\n",
    "plt.xlabel('Размер гранул сырья')\n",
    "plt.ylabel('Количество')\n",
    "plt.legend([\"data_train\", \"data_test\"], loc='upper right')\n",
    "plt.title(\"Первичная очистка\")\n",
    "\n",
    "plt.show()"
   ]
  },
  {
   "cell_type": "code",
   "execution_count": 25,
   "metadata": {},
   "outputs": [
    {
     "data": {
      "image/png": "[encoded data removed]",
      "text/plain": [
       "<Figure size 1440x720 with 4 Axes>"
      ]
     },
     "metadata": {
      "needs_background": "light"
     },
     "output_type": "display_data"
    }
   ],
   "source": [
    "plt.figure(figsize=(20, 10))\n",
    "\n",
    "plt.subplot(2, 2, 1)\n",
    "plt.boxplot(data_train[\"rougher.input.feed_size\"])\n",
    "plt.ylabel('Размер гранул сырья')\n",
    "plt.ylim(-10, 450)\n",
    "plt.title(\"Флотация на обучающей выборке\")\n",
    "plt.grid()\n",
    "\n",
    "plt.subplot(2, 2, 2)\n",
    "plt.boxplot(data_test[\"rougher.input.feed_size\"])\n",
    "plt.ylabel('Размер гранул сырья')\n",
    "plt.ylim(-10, 450)\n",
    "plt.title(\"Флотация на тестовой выборке\")\n",
    "plt.grid()\n",
    "\n",
    "plt.subplot(2, 2, 3)\n",
    "plt.boxplot(data_train[\"primary_cleaner.input.feed_size\"])\n",
    "plt.ylabel('Размер гранул сырья')\n",
    "plt.ylim(4, 16)\n",
    "plt.title(\"Первичная очистка на обучающей выборке\")\n",
    "plt.grid()\n",
    "\n",
    "plt.subplot(2, 2, 4)\n",
    "plt.boxplot(data_test[\"primary_cleaner.input.feed_size\"])\n",
    "plt.ylabel('Размер гранул сырья')\n",
    "plt.ylim(4, 16)\n",
    "plt.title(\"Первичная очистка на тестовой выборке\")\n",
    "plt.grid()\n",
    "\n",
    "plt.show()"
   ]
  },
  {
   "cell_type": "markdown",
   "metadata": {},
   "source": [
    "**Распределение размеров гранул сырья на обучающей и тестовой выборках существенно не различаются. Поэтому оценка модели должна быть правильной.**\n",
    "\n",
    "Имеются выборосы в данных, в целом они похожи как на обучающей, так и на тестовой выборке на этапе флотации - попадаются единичные гранула размера от 400-500, так же попадаются и значения 0.\n",
    "Выбросы для первичной обработки отличаются - в тестовой выборке имеются значения > 10, а для обучающей около 10 это максимум. Удалим некоторое количество выбросов, по значениям."
   ]
  },
  {
   "cell_type": "code",
   "execution_count": 26,
   "metadata": {},
   "outputs": [
    {
     "name": "stdout",
     "output_type": "stream",
     "text": [
      "Размер обучающей выборки до удаления выбросов (14579, 55)\n",
      "Размер тестовой выборки до удаления выбросов (4860, 55)\n"
     ]
    }
   ],
   "source": [
    "print('Размер обучающей выборки до удаления выбросов', data_train.shape)\n",
    "print('Размер тестовой выборки до удаления выбросов', data_test.shape)"
   ]
  },
  {
   "cell_type": "code",
   "execution_count": 27,
   "metadata": {},
   "outputs": [],
   "source": [
    "data_train = data_train.loc[(data_train['rougher.input.feed_size'] < 100) &\n",
    "                           (data_train['primary_cleaner.input.feed_size'] < 9) &\n",
    "                           (data_train['rougher.input.feed_size'] > 20) &\n",
    "                           (data_train['primary_cleaner.input.feed_size'] > 5)]\n",
    "\n",
    "data_test = data_test.loc[(data_test['rougher.input.feed_size'] < 100) &\n",
    "                           (data_test['primary_cleaner.input.feed_size'] < 9) &\n",
    "                           (data_test['rougher.input.feed_size'] > 20) &\n",
    "                           (data_test['primary_cleaner.input.feed_size'] > 5)]"
   ]
  },
  {
   "cell_type": "code",
   "execution_count": 28,
   "metadata": {},
   "outputs": [
    {
     "name": "stdout",
     "output_type": "stream",
     "text": [
      "Размер обучающей выборки после удаления выбросов (14128, 55)\n",
      "Размер тестовой выборки после удаления выбросов (4764, 55)\n"
     ]
    }
   ],
   "source": [
    "print('Размер обучающей выборки после удаления выбросов', data_train.shape)\n",
    "print('Размер тестовой выборки после удаления выбросов', data_test.shape)"
   ]
  },
  {
   "cell_type": "markdown",
   "metadata": {},
   "source": [
    "### Исследуем суммарную концентрацию металлов на разных стадиях."
   ]
  },
  {
   "cell_type": "markdown",
   "metadata": {},
   "source": [
    "**Этапы очистки:**\n",
    "\n",
    "- Концентрация металла в сырье: `rougher.input.feed`\n",
    "- Концентрация металла в черновом концентрате: `rougher.output.concentrate`\n",
    "- Концентрация металла в концентрате после первой очистки: `primary_cleaner.output.concentrate`\n",
    "- Концентрация металла в финальном концентрате: `final.output.concentrate`"
   ]
  },
  {
   "cell_type": "code",
   "execution_count": 29,
   "metadata": {},
   "outputs": [
    {
     "name": "stdout",
     "output_type": "stream",
     "text": [
      "rougher.input.feed\n"
     ]
    },
    {
     "data": {
      "text/plain": [
       "count    19439.000000\n",
       "mean        57.322230\n",
       "std          7.209464\n",
       "min          0.040000\n",
       "25%         53.559598\n",
       "50%         57.594391\n",
       "75%         61.954409\n",
       "max         76.978947\n",
       "Name: rougher.input.feed_sum, dtype: float64"
      ]
     },
     "metadata": {},
     "output_type": "display_data"
    },
    {
     "name": "stdout",
     "output_type": "stream",
     "text": [
      "=============================================\n",
      "rougher.output.concentrate\n"
     ]
    },
    {
     "data": {
      "text/plain": [
       "count    19439.000000\n",
       "mean        68.171375\n",
       "std         12.490476\n",
       "min          0.000000\n",
       "25%         66.012495\n",
       "50%         70.181495\n",
       "75%         74.356904\n",
       "max         88.140119\n",
       "Name: rougher.output.concentrate_sum, dtype: float64"
      ]
     },
     "metadata": {},
     "output_type": "display_data"
    },
    {
     "name": "stdout",
     "output_type": "stream",
     "text": [
      "=============================================\n",
      "primary_cleaner.output.concentrate\n"
     ]
    },
    {
     "data": {
      "text/plain": [
       "count    19439.000000\n",
       "mean        60.758483\n",
       "std         10.023982\n",
       "min          0.000000\n",
       "25%         58.926955\n",
       "50%         62.500391\n",
       "75%         65.667353\n",
       "max         80.749343\n",
       "Name: primary_cleaner.output.concentrate_sum, dtype: float64"
      ]
     },
     "metadata": {},
     "output_type": "display_data"
    },
    {
     "name": "stdout",
     "output_type": "stream",
     "text": [
      "=============================================\n",
      "final.output.concentrate\n"
     ]
    },
    {
     "data": {
      "text/plain": [
       "count    19439.000000\n",
       "mean        68.654112\n",
       "std          7.427434\n",
       "min          0.000000\n",
       "25%         67.932362\n",
       "50%         69.598444\n",
       "75%         71.368472\n",
       "max         80.210644\n",
       "Name: final.output.concentrate_sum, dtype: float64"
      ]
     },
     "metadata": {},
     "output_type": "display_data"
    },
    {
     "name": "stdout",
     "output_type": "stream",
     "text": [
      "=============================================\n"
     ]
    }
   ],
   "source": [
    "for stage in ['rougher.input.feed', 'rougher.output.concentrate', \n",
    "              'primary_cleaner.output.concentrate', 'final.output.concentrate']:\n",
    "    data_full[stage+'_sum'] = (\n",
    "        data_full[stage+'_au'] + \n",
    "        data_full[stage+'_ag'] +\n",
    "        data_full[stage+'_pb'] + \n",
    "        data_full[stage+'_sol']\n",
    "    )\n",
    "    \n",
    "    print(stage)\n",
    "    display(data_full[stage+'_sum'].describe())\n",
    "    print(\"===\" * 15)"
   ]
  },
  {
   "cell_type": "code",
   "execution_count": 30,
   "metadata": {},
   "outputs": [
    {
     "data": {
      "image/png": "[encoded data removed]",
      "text/plain": [
       "<Figure size 1080x720 with 1 Axes>"
      ]
     },
     "metadata": {
      "needs_background": "light"
     },
     "output_type": "display_data"
    }
   ],
   "source": [
    "plt.figure(figsize=(15,10))\n",
    "sns.histplot(\n",
    "    data_full[['rougher.input.feed_sum', 'rougher.output.concentrate_sum',\n",
    "               'primary_cleaner.output.concentrate_sum', 'final.output.concentrate_sum']],\n",
    "    element='step', \n",
    "    kde=True\n",
    ")\n",
    "plt.grid()\n",
    "plt.legend(data_full[['rougher.input.feed_sum', 'rougher.output.concentrate_sum',\n",
    "               'primary_cleaner.output.concentrate_sum', 'final.output.concentrate_sum']],\n",
    "           loc='upper left')\n",
    "plt.ylabel('Количество')\n",
    "plt.xlabel('Концентрация')\n",
    "plt.title(\"Суммарная концентрация металлов на разных стадиях\")\n",
    "plt.show()"
   ]
  },
  {
   "cell_type": "code",
   "execution_count": 31,
   "metadata": {},
   "outputs": [
    {
     "data": {
      "image/png": "[encoded data removed]",
      "text/plain": [
       "<Figure size 1080x720 with 1 Axes>"
      ]
     },
     "metadata": {
      "needs_background": "light"
     },
     "output_type": "display_data"
    }
   ],
   "source": [
    "plt.figure(figsize=(15,10))\n",
    "sns.boxplot(data=data_full[['rougher.input.feed_sum', 'rougher.output.concentrate_sum', \n",
    "            'primary_cleaner.output.concentrate_sum', 'final.output.concentrate_sum']])\n",
    "plt.grid()\n",
    "plt.show()"
   ]
  },
  {
   "cell_type": "markdown",
   "metadata": {},
   "source": [
    "**Суммарная концентрация контролируемых веществ (Au, Ag, Pb, sol) в составе продукта на каждой из стадий обработки составляет в среднем от 57.3 до 68.7%. Видим, что при финальной очистке \"ящик\" становится более узким, скорее всего в этих рамках имеется некий стандарт качества очистки сырья.**"
   ]
  },
  {
   "cell_type": "markdown",
   "metadata": {},
   "source": [
    "Рассчитаем границы выбросов для каждого столбца."
   ]
  },
  {
   "cell_type": "code",
   "execution_count": 32,
   "metadata": {},
   "outputs": [
    {
     "name": "stdout",
     "output_type": "stream",
     "text": [
      "Верхняя граница выбросов [74.54662437795233, 86.87351827495854, 75.77795051148246, 76.5226370668283]\n",
      "Нижняя граница выбросов [40.96738227767452, 53.495880704865435, 48.81635697743156, 62.77819682695538]\n"
     ]
    }
   ],
   "source": [
    "new_col = ['rougher.input.feed_sum', \n",
    "          'rougher.output.concentrate_sum',\n",
    "          'primary_cleaner.output.concentrate_sum', \n",
    "          'final.output.concentrate_sum']\n",
    "\n",
    "prcnt_max, prcnt_min = [], []\n",
    "\n",
    "for i in new_col:\n",
    "    q75,q25 = np.percentile(data_full[i],[75,25])\n",
    "    intr_qr = q75-q25\n",
    "\n",
    "    max_1 = q75+(1.5*intr_qr)\n",
    "    min_2 = q25-(1.5*intr_qr)\n",
    "    \n",
    "    prcnt_max.append(max_1)\n",
    "    prcnt_min.append(min_2)\n",
    "    \n",
    "print('Верхняя граница выбросов', prcnt_max) \n",
    "print('Нижняя граница выбросов', prcnt_min) "
   ]
  },
  {
   "cell_type": "code",
   "execution_count": 33,
   "metadata": {},
   "outputs": [
    {
     "data": {
      "text/plain": [
       "(16466, 91)"
      ]
     },
     "execution_count": 33,
     "metadata": {},
     "output_type": "execute_result"
    }
   ],
   "source": [
    "data_full_cleaned = data_full.loc[((data_full[new_col[0]] < prcnt_max[0]) & (data_full[new_col[0]] > prcnt_min[0])) &\n",
    "                     ((data_full[new_col[1]] < prcnt_max[1]) & (data_full[new_col[1]] > prcnt_min[1])) &\n",
    "                     ((data_full[new_col[2]] < prcnt_max[2]) & (data_full[new_col[2]] > prcnt_min[2])) &\n",
    "                     ((data_full[new_col[3]] < prcnt_max[3]) & (data_full[new_col[3]] > prcnt_min[3]))]\n",
    "\n",
    "data_full_cleaned.shape"
   ]
  },
  {
   "cell_type": "code",
   "execution_count": 34,
   "metadata": {},
   "outputs": [
    {
     "data": {
      "image/png": "[encoded data removed]",
      "text/plain": [
       "<Figure size 1080x720 with 1 Axes>"
      ]
     },
     "metadata": {
      "needs_background": "light"
     },
     "output_type": "display_data"
    }
   ],
   "source": [
    "plt.figure(figsize=(15,10))\n",
    "sns.boxplot(data=data_full_cleaned[new_col])\n",
    "plt.grid()\n",
    "plt.show()"
   ]
  },
  {
   "cell_type": "markdown",
   "metadata": {},
   "source": [
    "Ни одна суммарная концентрация после удаления выбросов в данных не опускается ниже 40."
   ]
  },
  {
   "cell_type": "markdown",
   "metadata": {},
   "source": [
    "Приведем значения столбцов *date* во всех выборках к типу данных *datetime*."
   ]
  },
  {
   "cell_type": "code",
   "execution_count": 35,
   "metadata": {},
   "outputs": [],
   "source": [
    "warnings.filterwarnings('ignore')\n",
    "data_full_cleaned['date'] = pd.to_datetime(data_full_cleaned['date'], format='%Y-%m-%d %H:%M:%S')\n",
    "data_train['date'] = pd.to_datetime(data_train['date'], format='%Y-%m-%d %H:%M:%S')\n",
    "data_test['date'] = pd.to_datetime(data_test['date'], format='%Y-%m-%d %H:%M:%S')"
   ]
  },
  {
   "cell_type": "code",
   "execution_count": 36,
   "metadata": {},
   "outputs": [
    {
     "name": "stdout",
     "output_type": "stream",
     "text": [
      "<class 'pandas.core.frame.DataFrame'>\n",
      "Int64Index: 16466 entries, 0 to 19438\n",
      "Data columns (total 1 columns):\n",
      " #   Column  Non-Null Count  Dtype         \n",
      "---  ------  --------------  -----         \n",
      " 0   date    16466 non-null  datetime64[ns]\n",
      "dtypes: datetime64[ns](1)\n",
      "memory usage: 257.3 KB\n",
      "<class 'pandas.core.frame.DataFrame'>\n",
      "Int64Index: 14128 entries, 0 to 14576\n",
      "Data columns (total 1 columns):\n",
      " #   Column  Non-Null Count  Dtype         \n",
      "---  ------  --------------  -----         \n",
      " 0   date    14128 non-null  datetime64[ns]\n",
      "dtypes: datetime64[ns](1)\n",
      "memory usage: 220.8 KB\n",
      "<class 'pandas.core.frame.DataFrame'>\n",
      "Int64Index: 4764 entries, 0 to 4859\n",
      "Data columns (total 1 columns):\n",
      " #   Column  Non-Null Count  Dtype         \n",
      "---  ------  --------------  -----         \n",
      " 0   date    4764 non-null   datetime64[ns]\n",
      "dtypes: datetime64[ns](1)\n",
      "memory usage: 74.4 KB\n"
     ]
    }
   ],
   "source": [
    "data_full_cleaned[['date']].info()\n",
    "data_train[['date']].info()\n",
    "data_test[['date']].info()"
   ]
  },
  {
   "cell_type": "markdown",
   "metadata": {},
   "source": [
    "Теперь выделим даты, которые остались после удаления выбросов и оставим их в тестовой и обучающей выборках. "
   ]
  },
  {
   "cell_type": "code",
   "execution_count": 37,
   "metadata": {},
   "outputs": [
    {
     "name": "stdout",
     "output_type": "stream",
     "text": [
      "Размер тренировочной выборки 11829\n"
     ]
    }
   ],
   "source": [
    "data_train = data_train.loc[data_train['date'].isin(data_full_cleaned['date'])]\n",
    "print('Размер тренировочной выборки', data_train.shape[0])"
   ]
  },
  {
   "cell_type": "code",
   "execution_count": 38,
   "metadata": {},
   "outputs": [
    {
     "name": "stdout",
     "output_type": "stream",
     "text": [
      "Размер тестовой выборки 4201\n"
     ]
    }
   ],
   "source": [
    "data_test = data_test.loc[data_test['date'].isin(data_full_cleaned['date'])]\n",
    "print('Размер тестовой выборки', data_test.shape[0])"
   ]
  },
  {
   "cell_type": "markdown",
   "metadata": {},
   "source": [
    "**Вывод:** вычислили верхнюю и нижнюю границу выбросов и удалили ненужные строки. Всего удалено из тренировочной выборки 2299 строк, из тестовой - 563. "
   ]
  },
  {
   "cell_type": "markdown",
   "metadata": {},
   "source": [
    "## Построение модели"
   ]
  },
  {
   "cell_type": "markdown",
   "metadata": {},
   "source": [
    "### Выделим отдельно признаки и таргет для обучающего и тестового набора данных."
   ]
  },
  {
   "cell_type": "markdown",
   "metadata": {},
   "source": [
    "Выделим столбцы с маркировкой этапа *rougher*, при этом исключая целевой признак, сохраним результат в *rougher_columns*. Так мы получим выборку для обучения и тестирования модели для этапа флотации - для предсказания *rougher.output.recovery*. Для финального этапа *final.output.recovery* - *final_columns*."
   ]
  },
  {
   "cell_type": "code",
   "execution_count": 39,
   "metadata": {},
   "outputs": [
    {
     "data": {
      "text/plain": [
       "['date',\n",
       " 'primary_cleaner.input.sulfate',\n",
       " 'primary_cleaner.input.depressant',\n",
       " 'primary_cleaner.input.feed_size',\n",
       " 'primary_cleaner.input.xanthate',\n",
       " 'primary_cleaner.state.floatbank8_a_air',\n",
       " 'primary_cleaner.state.floatbank8_a_level',\n",
       " 'primary_cleaner.state.floatbank8_b_air',\n",
       " 'primary_cleaner.state.floatbank8_b_level',\n",
       " 'primary_cleaner.state.floatbank8_c_air',\n",
       " 'primary_cleaner.state.floatbank8_c_level',\n",
       " 'primary_cleaner.state.floatbank8_d_air',\n",
       " 'primary_cleaner.state.floatbank8_d_level',\n",
       " 'secondary_cleaner.state.floatbank2_a_air',\n",
       " 'secondary_cleaner.state.floatbank2_a_level',\n",
       " 'secondary_cleaner.state.floatbank2_b_air',\n",
       " 'secondary_cleaner.state.floatbank2_b_level',\n",
       " 'secondary_cleaner.state.floatbank3_a_air',\n",
       " 'secondary_cleaner.state.floatbank3_a_level',\n",
       " 'secondary_cleaner.state.floatbank3_b_air',\n",
       " 'secondary_cleaner.state.floatbank3_b_level',\n",
       " 'secondary_cleaner.state.floatbank4_a_air',\n",
       " 'secondary_cleaner.state.floatbank4_a_level',\n",
       " 'secondary_cleaner.state.floatbank4_b_air',\n",
       " 'secondary_cleaner.state.floatbank4_b_level',\n",
       " 'secondary_cleaner.state.floatbank5_a_air',\n",
       " 'secondary_cleaner.state.floatbank5_a_level',\n",
       " 'secondary_cleaner.state.floatbank5_b_air',\n",
       " 'secondary_cleaner.state.floatbank5_b_level',\n",
       " 'secondary_cleaner.state.floatbank6_a_air',\n",
       " 'secondary_cleaner.state.floatbank6_a_level',\n",
       " 'final.output.recovery']"
      ]
     },
     "execution_count": 39,
     "metadata": {},
     "output_type": "execute_result"
    }
   ],
   "source": [
    "rougher_columns = [i for i in data_train if 'rougher' in i and 'recovery' not in i]\n",
    "rougher_columns\n",
    "final_columns = [i for i in data_train if 'rougher' not in i]\n",
    "final_columns"
   ]
  },
  {
   "cell_type": "code",
   "execution_count": 40,
   "metadata": {},
   "outputs": [],
   "source": [
    "# Функция разделения датасета на целевые признаки и признаки\n",
    "\n",
    "def separation_data(data): \n",
    "    features_rougher = data[rougher_columns]\n",
    "    \n",
    "    features_final = data[final_columns].drop(['date', 'final.output.recovery'], axis=1)\n",
    "    \n",
    "    target_rougher = data['rougher.output.recovery']\n",
    "    target_final = data['final.output.recovery']\n",
    "    \n",
    "    print('Размер датасета с признаками для предсказания \"rougher.output.recovery\"', features_rougher.shape)\n",
    "    print('Размер датасета с признаками для предсказания \"final.output.recovery\"', features_final.shape)\n",
    "    print('Размер датасета с целевым признаком \"rougher\"',  target_rougher.shape)\n",
    "    print('Размер датасета с целевым признаком \"final\"', target_final.shape)\n",
    "    print()\n",
    "    return features_rougher, features_final, target_rougher, target_final"
   ]
  },
  {
   "cell_type": "code",
   "execution_count": 41,
   "metadata": {},
   "outputs": [
    {
     "name": "stdout",
     "output_type": "stream",
     "text": [
      "Обучающая выборка:\n",
      "Размер датасета с признаками для предсказания \"rougher.output.recovery\" (11829, 22)\n",
      "Размер датасета с признаками для предсказания \"final.output.recovery\" (11829, 30)\n",
      "Размер датасета с целевым признаком \"rougher\" (11829,)\n",
      "Размер датасета с целевым признаком \"final\" (11829,)\n",
      "\n",
      "Тестовая выборка:\n",
      "Размер датасета с признаками для предсказания \"rougher.output.recovery\" (4201, 22)\n",
      "Размер датасета с признаками для предсказания \"final.output.recovery\" (4201, 30)\n",
      "Размер датасета с целевым признаком \"rougher\" (4201,)\n",
      "Размер датасета с целевым признаком \"final\" (4201,)\n",
      "\n"
     ]
    }
   ],
   "source": [
    "print('Обучающая выборка:')\n",
    "feautures_rougher_train, feautures_final_train, target_rougher_train, target_final_train = separation_data(data_train)\n",
    "print('Тестовая выборка:')\n",
    "feautures_rougher_test, feautures_final_test, target_rougher_test, target_final_test = separation_data(data_test)"
   ]
  },
  {
   "cell_type": "code",
   "execution_count": 42,
   "metadata": {},
   "outputs": [
    {
     "name": "stdout",
     "output_type": "stream",
     "text": [
      "В выборках одинаковые столбцы\n"
     ]
    }
   ],
   "source": [
    "# проверим как разделились признаки на тестовой и обучающей выборках\n",
    "if (list(feautures_rougher_test.columns) == list(feautures_rougher_train.columns) and\n",
    "    list(feautures_final_train.columns) == list(feautures_final_test.columns)):\n",
    "    print('В выборках одинаковые столбцы')"
   ]
  },
  {
   "cell_type": "markdown",
   "metadata": {},
   "source": [
    "**Вывод:**\n",
    "\n",
    "Из обучающей и тестовой выборок выделены целевые признаки *rougher, final*.\n",
    "\n",
    "Для обучения и предсказания *rougher.output.recovery* - для флотации:\n",
    "\n",
    "- feautures_rougher_train\n",
    "- target_rougher_train\n",
    "- feautures_rougher_test\n",
    "- target_rougher_test\n",
    "\n",
    "Для обучения и предсказания *final.output.recovery* - финальная эффективность обогащения:\n",
    "\n",
    "- feautures_final_train\n",
    "- target_final_train\n",
    "- feautures_final_test\n",
    "- target_final_test"
   ]
  },
  {
   "cell_type": "markdown",
   "metadata": {},
   "source": [
    "### Отмасштабируем признаки"
   ]
  },
  {
   "cell_type": "code",
   "execution_count": 43,
   "metadata": {},
   "outputs": [],
   "source": [
    "pd.options.mode.chained_assignment = None\n",
    "final_columns = feautures_final_train.columns\n",
    "\n",
    "# стандартизация для флотации\n",
    "scaler_rougher = StandardScaler()\n",
    "scaler_rougher.fit(feautures_rougher_train[rougher_columns])\n",
    "\n",
    "feautures_rougher_train[rougher_columns] = scaler_rougher.transform(feautures_rougher_train[rougher_columns])\n",
    "feautures_rougher_test[rougher_columns] = scaler_rougher.transform(feautures_rougher_test[rougher_columns])\n",
    "\n",
    "# стандартизация для финала\n",
    "scaler_final = StandardScaler()\n",
    "scaler_final.fit(feautures_final_train[final_columns])\n",
    "\n",
    "feautures_final_train[final_columns] = scaler_final.transform(feautures_final_train[final_columns])\n",
    "feautures_final_test[final_columns] = scaler_final.transform(feautures_final_test[final_columns])"
   ]
  },
  {
   "cell_type": "code",
   "execution_count": 44,
   "metadata": {},
   "outputs": [
    {
     "data": {
      "text/html": [
       "<div>\n",
       "<style scoped>\n",
       "    .dataframe tbody tr th:only-of-type {\n",
       "        vertical-align: middle;\n",
       "    }\n",
       "\n",
       "    .dataframe tbody tr th {\n",
       "        vertical-align: top;\n",
       "    }\n",
       "\n",
       "    .dataframe thead th {\n",
       "        text-align: right;\n",
       "    }\n",
       "</style>\n",
       "<table border=\"1\" class=\"dataframe\">\n",
       "  <thead>\n",
       "    <tr style=\"text-align: right;\">\n",
       "      <th></th>\n",
       "      <th>count</th>\n",
       "      <th>mean</th>\n",
       "      <th>std</th>\n",
       "      <th>min</th>\n",
       "      <th>25%</th>\n",
       "      <th>50%</th>\n",
       "      <th>75%</th>\n",
       "      <th>max</th>\n",
       "    </tr>\n",
       "  </thead>\n",
       "  <tbody>\n",
       "    <tr>\n",
       "      <th>rougher.input.feed_au</th>\n",
       "      <td>11829.0</td>\n",
       "      <td>-3.844343e-16</td>\n",
       "      <td>1.000042</td>\n",
       "      <td>-4.134362</td>\n",
       "      <td>-0.791988</td>\n",
       "      <td>-0.069785</td>\n",
       "      <td>0.772086</td>\n",
       "      <td>2.858506</td>\n",
       "    </tr>\n",
       "    <tr>\n",
       "      <th>rougher.input.feed_ag</th>\n",
       "      <td>11829.0</td>\n",
       "      <td>2.306606e-16</td>\n",
       "      <td>1.000042</td>\n",
       "      <td>-2.709879</td>\n",
       "      <td>-0.844770</td>\n",
       "      <td>-0.059007</td>\n",
       "      <td>0.721781</td>\n",
       "      <td>2.975341</td>\n",
       "    </tr>\n",
       "    <tr>\n",
       "      <th>rougher.input.feed_pb</th>\n",
       "      <td>11829.0</td>\n",
       "      <td>1.922172e-17</td>\n",
       "      <td>1.000042</td>\n",
       "      <td>-3.424403</td>\n",
       "      <td>-0.683703</td>\n",
       "      <td>-0.055966</td>\n",
       "      <td>0.615182</td>\n",
       "      <td>3.281127</td>\n",
       "    </tr>\n",
       "    <tr>\n",
       "      <th>rougher.input.feed_sol</th>\n",
       "      <td>11829.0</td>\n",
       "      <td>1.422407e-15</td>\n",
       "      <td>1.000042</td>\n",
       "      <td>-4.511253</td>\n",
       "      <td>-0.605895</td>\n",
       "      <td>0.045638</td>\n",
       "      <td>0.691010</td>\n",
       "      <td>3.821161</td>\n",
       "    </tr>\n",
       "    <tr>\n",
       "      <th>rougher.input.feed_rate</th>\n",
       "      <td>11829.0</td>\n",
       "      <td>6.535383e-16</td>\n",
       "      <td>1.000042</td>\n",
       "      <td>-5.032776</td>\n",
       "      <td>-0.570511</td>\n",
       "      <td>0.158653</td>\n",
       "      <td>0.683486</td>\n",
       "      <td>2.423499</td>\n",
       "    </tr>\n",
       "    <tr>\n",
       "      <th>rougher.input.feed_size</th>\n",
       "      <td>11829.0</td>\n",
       "      <td>-5.766515e-16</td>\n",
       "      <td>1.000042</td>\n",
       "      <td>-2.900400</td>\n",
       "      <td>-0.760177</td>\n",
       "      <td>-0.211017</td>\n",
       "      <td>0.538475</td>\n",
       "      <td>3.440950</td>\n",
       "    </tr>\n",
       "    <tr>\n",
       "      <th>rougher.input.floatbank10_sulfate</th>\n",
       "      <td>11829.0</td>\n",
       "      <td>-1.345520e-16</td>\n",
       "      <td>1.000042</td>\n",
       "      <td>-3.941475</td>\n",
       "      <td>-0.682460</td>\n",
       "      <td>-0.151836</td>\n",
       "      <td>0.731135</td>\n",
       "      <td>7.315157</td>\n",
       "    </tr>\n",
       "    <tr>\n",
       "      <th>rougher.input.floatbank10_xanthate</th>\n",
       "      <td>11829.0</td>\n",
       "      <td>3.075475e-16</td>\n",
       "      <td>1.000042</td>\n",
       "      <td>-5.884015</td>\n",
       "      <td>-0.622498</td>\n",
       "      <td>0.012817</td>\n",
       "      <td>0.690054</td>\n",
       "      <td>3.498669</td>\n",
       "    </tr>\n",
       "    <tr>\n",
       "      <th>rougher.state.floatbank10_a_air</th>\n",
       "      <td>11829.0</td>\n",
       "      <td>-7.688686e-17</td>\n",
       "      <td>1.000042</td>\n",
       "      <td>-6.781362</td>\n",
       "      <td>-0.642740</td>\n",
       "      <td>-0.634360</td>\n",
       "      <td>0.664948</td>\n",
       "      <td>2.505295</td>\n",
       "    </tr>\n",
       "    <tr>\n",
       "      <th>rougher.state.floatbank10_a_level</th>\n",
       "      <td>11829.0</td>\n",
       "      <td>4.997646e-16</td>\n",
       "      <td>1.000042</td>\n",
       "      <td>-2.959235</td>\n",
       "      <td>-1.282834</td>\n",
       "      <td>0.833565</td>\n",
       "      <td>0.836902</td>\n",
       "      <td>1.114878</td>\n",
       "    </tr>\n",
       "    <tr>\n",
       "      <th>rougher.state.floatbank10_b_air</th>\n",
       "      <td>11829.0</td>\n",
       "      <td>9.995292e-16</td>\n",
       "      <td>1.000042</td>\n",
       "      <td>-7.543464</td>\n",
       "      <td>-0.679039</td>\n",
       "      <td>-0.091912</td>\n",
       "      <td>0.742731</td>\n",
       "      <td>2.808134</td>\n",
       "    </tr>\n",
       "    <tr>\n",
       "      <th>rougher.state.floatbank10_b_level</th>\n",
       "      <td>11829.0</td>\n",
       "      <td>4.997646e-16</td>\n",
       "      <td>1.000042</td>\n",
       "      <td>-3.423694</td>\n",
       "      <td>-0.623238</td>\n",
       "      <td>-0.615390</td>\n",
       "      <td>1.239357</td>\n",
       "      <td>3.151239</td>\n",
       "    </tr>\n",
       "    <tr>\n",
       "      <th>rougher.state.floatbank10_c_air</th>\n",
       "      <td>11829.0</td>\n",
       "      <td>-6.150949e-16</td>\n",
       "      <td>1.000042</td>\n",
       "      <td>-6.340305</td>\n",
       "      <td>-0.733792</td>\n",
       "      <td>0.008098</td>\n",
       "      <td>0.734152</td>\n",
       "      <td>5.858640</td>\n",
       "    </tr>\n",
       "    <tr>\n",
       "      <th>rougher.state.floatbank10_c_level</th>\n",
       "      <td>11829.0</td>\n",
       "      <td>-3.844343e-16</td>\n",
       "      <td>1.000042</td>\n",
       "      <td>-3.433459</td>\n",
       "      <td>-0.626219</td>\n",
       "      <td>-0.616568</td>\n",
       "      <td>1.267411</td>\n",
       "      <td>3.225794</td>\n",
       "    </tr>\n",
       "    <tr>\n",
       "      <th>rougher.state.floatbank10_d_air</th>\n",
       "      <td>11829.0</td>\n",
       "      <td>-6.150949e-16</td>\n",
       "      <td>1.000042</td>\n",
       "      <td>-5.983058</td>\n",
       "      <td>-0.738425</td>\n",
       "      <td>-0.027737</td>\n",
       "      <td>0.707049</td>\n",
       "      <td>3.016033</td>\n",
       "    </tr>\n",
       "    <tr>\n",
       "      <th>rougher.state.floatbank10_d_level</th>\n",
       "      <td>11829.0</td>\n",
       "      <td>-6.919818e-16</td>\n",
       "      <td>1.000042</td>\n",
       "      <td>-3.411886</td>\n",
       "      <td>-0.616599</td>\n",
       "      <td>-0.600821</td>\n",
       "      <td>1.254353</td>\n",
       "      <td>7.388863</td>\n",
       "    </tr>\n",
       "    <tr>\n",
       "      <th>rougher.state.floatbank10_e_air</th>\n",
       "      <td>11829.0</td>\n",
       "      <td>1.922172e-16</td>\n",
       "      <td>1.000042</td>\n",
       "      <td>-6.293112</td>\n",
       "      <td>-0.674729</td>\n",
       "      <td>-0.110941</td>\n",
       "      <td>0.758647</td>\n",
       "      <td>5.021845</td>\n",
       "    </tr>\n",
       "    <tr>\n",
       "      <th>rougher.state.floatbank10_e_level</th>\n",
       "      <td>11829.0</td>\n",
       "      <td>-2.306606e-16</td>\n",
       "      <td>1.000042</td>\n",
       "      <td>-3.223367</td>\n",
       "      <td>-0.613056</td>\n",
       "      <td>-0.603149</td>\n",
       "      <td>1.140442</td>\n",
       "      <td>5.753259</td>\n",
       "    </tr>\n",
       "    <tr>\n",
       "      <th>rougher.state.floatbank10_f_air</th>\n",
       "      <td>11829.0</td>\n",
       "      <td>-3.844343e-17</td>\n",
       "      <td>1.000042</td>\n",
       "      <td>-6.337559</td>\n",
       "      <td>-0.720925</td>\n",
       "      <td>-0.104828</td>\n",
       "      <td>0.512439</td>\n",
       "      <td>4.288170</td>\n",
       "    </tr>\n",
       "    <tr>\n",
       "      <th>rougher.state.floatbank10_f_level</th>\n",
       "      <td>11829.0</td>\n",
       "      <td>-3.844343e-16</td>\n",
       "      <td>1.000042</td>\n",
       "      <td>-3.235814</td>\n",
       "      <td>-0.611846</td>\n",
       "      <td>-0.593650</td>\n",
       "      <td>1.131392</td>\n",
       "      <td>4.811025</td>\n",
       "    </tr>\n",
       "    <tr>\n",
       "      <th>rougher.input.floatbank11_sulfate</th>\n",
       "      <td>11829.0</td>\n",
       "      <td>-2.018280e-16</td>\n",
       "      <td>1.000042</td>\n",
       "      <td>-3.579201</td>\n",
       "      <td>-0.624796</td>\n",
       "      <td>-0.135229</td>\n",
       "      <td>0.719079</td>\n",
       "      <td>7.305998</td>\n",
       "    </tr>\n",
       "    <tr>\n",
       "      <th>rougher.input.floatbank11_xanthate</th>\n",
       "      <td>11829.0</td>\n",
       "      <td>-4.613212e-16</td>\n",
       "      <td>1.000042</td>\n",
       "      <td>-5.614004</td>\n",
       "      <td>-0.590413</td>\n",
       "      <td>0.025405</td>\n",
       "      <td>0.673333</td>\n",
       "      <td>3.353681</td>\n",
       "    </tr>\n",
       "  </tbody>\n",
       "</table>\n",
       "</div>"
      ],
      "text/plain": [
       "                                      count          mean       std       min  \\\n",
       "rougher.input.feed_au               11829.0 -3.844343e-16  1.000042 -4.134362   \n",
       "rougher.input.feed_ag               11829.0  2.306606e-16  1.000042 -2.709879   \n",
       "rougher.input.feed_pb               11829.0  1.922172e-17  1.000042 -3.424403   \n",
       "rougher.input.feed_sol              11829.0  1.422407e-15  1.000042 -4.511253   \n",
       "rougher.input.feed_rate             11829.0  6.535383e-16  1.000042 -5.032776   \n",
       "rougher.input.feed_size             11829.0 -5.766515e-16  1.000042 -2.900400   \n",
       "rougher.input.floatbank10_sulfate   11829.0 -1.345520e-16  1.000042 -3.941475   \n",
       "rougher.input.floatbank10_xanthate  11829.0  3.075475e-16  1.000042 -5.884015   \n",
       "rougher.state.floatbank10_a_air     11829.0 -7.688686e-17  1.000042 -6.781362   \n",
       "rougher.state.floatbank10_a_level   11829.0  4.997646e-16  1.000042 -2.959235   \n",
       "rougher.state.floatbank10_b_air     11829.0  9.995292e-16  1.000042 -7.543464   \n",
       "rougher.state.floatbank10_b_level   11829.0  4.997646e-16  1.000042 -3.423694   \n",
       "rougher.state.floatbank10_c_air     11829.0 -6.150949e-16  1.000042 -6.340305   \n",
       "rougher.state.floatbank10_c_level   11829.0 -3.844343e-16  1.000042 -3.433459   \n",
       "rougher.state.floatbank10_d_air     11829.0 -6.150949e-16  1.000042 -5.983058   \n",
       "rougher.state.floatbank10_d_level   11829.0 -6.919818e-16  1.000042 -3.411886   \n",
       "rougher.state.floatbank10_e_air     11829.0  1.922172e-16  1.000042 -6.293112   \n",
       "rougher.state.floatbank10_e_level   11829.0 -2.306606e-16  1.000042 -3.223367   \n",
       "rougher.state.floatbank10_f_air     11829.0 -3.844343e-17  1.000042 -6.337559   \n",
       "rougher.state.floatbank10_f_level   11829.0 -3.844343e-16  1.000042 -3.235814   \n",
       "rougher.input.floatbank11_sulfate   11829.0 -2.018280e-16  1.000042 -3.579201   \n",
       "rougher.input.floatbank11_xanthate  11829.0 -4.613212e-16  1.000042 -5.614004   \n",
       "\n",
       "                                         25%       50%       75%       max  \n",
       "rougher.input.feed_au              -0.791988 -0.069785  0.772086  2.858506  \n",
       "rougher.input.feed_ag              -0.844770 -0.059007  0.721781  2.975341  \n",
       "rougher.input.feed_pb              -0.683703 -0.055966  0.615182  3.281127  \n",
       "rougher.input.feed_sol             -0.605895  0.045638  0.691010  3.821161  \n",
       "rougher.input.feed_rate            -0.570511  0.158653  0.683486  2.423499  \n",
       "rougher.input.feed_size            -0.760177 -0.211017  0.538475  3.440950  \n",
       "rougher.input.floatbank10_sulfate  -0.682460 -0.151836  0.731135  7.315157  \n",
       "rougher.input.floatbank10_xanthate -0.622498  0.012817  0.690054  3.498669  \n",
       "rougher.state.floatbank10_a_air    -0.642740 -0.634360  0.664948  2.505295  \n",
       "rougher.state.floatbank10_a_level  -1.282834  0.833565  0.836902  1.114878  \n",
       "rougher.state.floatbank10_b_air    -0.679039 -0.091912  0.742731  2.808134  \n",
       "rougher.state.floatbank10_b_level  -0.623238 -0.615390  1.239357  3.151239  \n",
       "rougher.state.floatbank10_c_air    -0.733792  0.008098  0.734152  5.858640  \n",
       "rougher.state.floatbank10_c_level  -0.626219 -0.616568  1.267411  3.225794  \n",
       "rougher.state.floatbank10_d_air    -0.738425 -0.027737  0.707049  3.016033  \n",
       "rougher.state.floatbank10_d_level  -0.616599 -0.600821  1.254353  7.388863  \n",
       "rougher.state.floatbank10_e_air    -0.674729 -0.110941  0.758647  5.021845  \n",
       "rougher.state.floatbank10_e_level  -0.613056 -0.603149  1.140442  5.753259  \n",
       "rougher.state.floatbank10_f_air    -0.720925 -0.104828  0.512439  4.288170  \n",
       "rougher.state.floatbank10_f_level  -0.611846 -0.593650  1.131392  4.811025  \n",
       "rougher.input.floatbank11_sulfate  -0.624796 -0.135229  0.719079  7.305998  \n",
       "rougher.input.floatbank11_xanthate -0.590413  0.025405  0.673333  3.353681  "
      ]
     },
     "execution_count": 44,
     "metadata": {},
     "output_type": "execute_result"
    }
   ],
   "source": [
    "feautures_rougher_train.describe().T"
   ]
  },
  {
   "cell_type": "code",
   "execution_count": 45,
   "metadata": {},
   "outputs": [
    {
     "data": {
      "text/html": [
       "<div>\n",
       "<style scoped>\n",
       "    .dataframe tbody tr th:only-of-type {\n",
       "        vertical-align: middle;\n",
       "    }\n",
       "\n",
       "    .dataframe tbody tr th {\n",
       "        vertical-align: top;\n",
       "    }\n",
       "\n",
       "    .dataframe thead th {\n",
       "        text-align: right;\n",
       "    }\n",
       "</style>\n",
       "<table border=\"1\" class=\"dataframe\">\n",
       "  <thead>\n",
       "    <tr style=\"text-align: right;\">\n",
       "      <th></th>\n",
       "      <th>count</th>\n",
       "      <th>mean</th>\n",
       "      <th>std</th>\n",
       "      <th>min</th>\n",
       "      <th>25%</th>\n",
       "      <th>50%</th>\n",
       "      <th>75%</th>\n",
       "      <th>max</th>\n",
       "    </tr>\n",
       "  </thead>\n",
       "  <tbody>\n",
       "    <tr>\n",
       "      <th>rougher.input.feed_au</th>\n",
       "      <td>4201.0</td>\n",
       "      <td>-0.224883</td>\n",
       "      <td>1.079687</td>\n",
       "      <td>-3.793423</td>\n",
       "      <td>-1.005073</td>\n",
       "      <td>-0.335090</td>\n",
       "      <td>0.622732</td>\n",
       "      <td>2.686701</td>\n",
       "    </tr>\n",
       "    <tr>\n",
       "      <th>rougher.input.feed_ag</th>\n",
       "      <td>4201.0</td>\n",
       "      <td>-0.202508</td>\n",
       "      <td>1.037311</td>\n",
       "      <td>-2.491979</td>\n",
       "      <td>-1.051750</td>\n",
       "      <td>-0.404816</td>\n",
       "      <td>0.616466</td>\n",
       "      <td>2.942299</td>\n",
       "    </tr>\n",
       "    <tr>\n",
       "      <th>rougher.input.feed_pb</th>\n",
       "      <td>4201.0</td>\n",
       "      <td>-0.053977</td>\n",
       "      <td>1.011368</td>\n",
       "      <td>-3.460549</td>\n",
       "      <td>-0.681119</td>\n",
       "      <td>-0.076815</td>\n",
       "      <td>0.567131</td>\n",
       "      <td>3.368517</td>\n",
       "    </tr>\n",
       "    <tr>\n",
       "      <th>rougher.input.feed_sol</th>\n",
       "      <td>4201.0</td>\n",
       "      <td>0.082834</td>\n",
       "      <td>0.988374</td>\n",
       "      <td>-4.295594</td>\n",
       "      <td>-0.538908</td>\n",
       "      <td>0.113788</td>\n",
       "      <td>0.789085</td>\n",
       "      <td>3.821728</td>\n",
       "    </tr>\n",
       "    <tr>\n",
       "      <th>rougher.input.feed_rate</th>\n",
       "      <td>4201.0</td>\n",
       "      <td>0.102385</td>\n",
       "      <td>0.927176</td>\n",
       "      <td>-5.032087</td>\n",
       "      <td>-0.453353</td>\n",
       "      <td>0.197102</td>\n",
       "      <td>0.761909</td>\n",
       "      <td>2.222383</td>\n",
       "    </tr>\n",
       "    <tr>\n",
       "      <th>rougher.input.feed_size</th>\n",
       "      <td>4201.0</td>\n",
       "      <td>0.098607</td>\n",
       "      <td>1.015718</td>\n",
       "      <td>-2.636006</td>\n",
       "      <td>-0.736273</td>\n",
       "      <td>-0.106463</td>\n",
       "      <td>0.748085</td>\n",
       "      <td>3.399919</td>\n",
       "    </tr>\n",
       "    <tr>\n",
       "      <th>rougher.input.floatbank10_sulfate</th>\n",
       "      <td>4201.0</td>\n",
       "      <td>-0.131439</td>\n",
       "      <td>1.046909</td>\n",
       "      <td>-3.549635</td>\n",
       "      <td>-0.828012</td>\n",
       "      <td>-0.203549</td>\n",
       "      <td>0.663872</td>\n",
       "      <td>5.411208</td>\n",
       "    </tr>\n",
       "    <tr>\n",
       "      <th>rougher.input.floatbank10_xanthate</th>\n",
       "      <td>4201.0</td>\n",
       "      <td>0.060262</td>\n",
       "      <td>0.940708</td>\n",
       "      <td>-5.128423</td>\n",
       "      <td>-0.564899</td>\n",
       "      <td>0.015486</td>\n",
       "      <td>0.692707</td>\n",
       "      <td>3.202238</td>\n",
       "    </tr>\n",
       "    <tr>\n",
       "      <th>rougher.state.floatbank10_a_air</th>\n",
       "      <td>4201.0</td>\n",
       "      <td>0.037617</td>\n",
       "      <td>0.975250</td>\n",
       "      <td>-4.934063</td>\n",
       "      <td>-0.642407</td>\n",
       "      <td>-0.631353</td>\n",
       "      <td>0.607802</td>\n",
       "      <td>2.564741</td>\n",
       "    </tr>\n",
       "    <tr>\n",
       "      <th>rougher.state.floatbank10_a_level</th>\n",
       "      <td>4201.0</td>\n",
       "      <td>0.131438</td>\n",
       "      <td>0.960417</td>\n",
       "      <td>-2.350710</td>\n",
       "      <td>-1.281001</td>\n",
       "      <td>0.834998</td>\n",
       "      <td>0.837225</td>\n",
       "      <td>1.037853</td>\n",
       "    </tr>\n",
       "    <tr>\n",
       "      <th>rougher.state.floatbank10_b_air</th>\n",
       "      <td>4201.0</td>\n",
       "      <td>-0.046824</td>\n",
       "      <td>0.895931</td>\n",
       "      <td>-3.148815</td>\n",
       "      <td>-0.677746</td>\n",
       "      <td>-0.102749</td>\n",
       "      <td>0.474619</td>\n",
       "      <td>2.770012</td>\n",
       "    </tr>\n",
       "    <tr>\n",
       "      <th>rougher.state.floatbank10_b_level</th>\n",
       "      <td>4201.0</td>\n",
       "      <td>-0.112503</td>\n",
       "      <td>0.900733</td>\n",
       "      <td>-1.721446</td>\n",
       "      <td>-0.623695</td>\n",
       "      <td>-0.616465</td>\n",
       "      <td>0.314680</td>\n",
       "      <td>3.139344</td>\n",
       "    </tr>\n",
       "    <tr>\n",
       "      <th>rougher.state.floatbank10_c_air</th>\n",
       "      <td>4201.0</td>\n",
       "      <td>-0.045929</td>\n",
       "      <td>0.872712</td>\n",
       "      <td>-2.281153</td>\n",
       "      <td>-0.725980</td>\n",
       "      <td>0.002087</td>\n",
       "      <td>0.499482</td>\n",
       "      <td>5.857390</td>\n",
       "    </tr>\n",
       "    <tr>\n",
       "      <th>rougher.state.floatbank10_c_level</th>\n",
       "      <td>4201.0</td>\n",
       "      <td>-0.116366</td>\n",
       "      <td>0.887223</td>\n",
       "      <td>-1.620118</td>\n",
       "      <td>-0.626473</td>\n",
       "      <td>-0.617816</td>\n",
       "      <td>0.331511</td>\n",
       "      <td>3.215278</td>\n",
       "    </tr>\n",
       "    <tr>\n",
       "      <th>rougher.state.floatbank10_d_air</th>\n",
       "      <td>4201.0</td>\n",
       "      <td>-0.039035</td>\n",
       "      <td>0.900490</td>\n",
       "      <td>-2.482423</td>\n",
       "      <td>-0.746679</td>\n",
       "      <td>-0.038665</td>\n",
       "      <td>0.482794</td>\n",
       "      <td>2.939384</td>\n",
       "    </tr>\n",
       "    <tr>\n",
       "      <th>rougher.state.floatbank10_d_level</th>\n",
       "      <td>4201.0</td>\n",
       "      <td>-0.117743</td>\n",
       "      <td>0.885614</td>\n",
       "      <td>-3.406746</td>\n",
       "      <td>-0.618249</td>\n",
       "      <td>-0.602478</td>\n",
       "      <td>0.327579</td>\n",
       "      <td>3.231021</td>\n",
       "    </tr>\n",
       "    <tr>\n",
       "      <th>rougher.state.floatbank10_e_air</th>\n",
       "      <td>4201.0</td>\n",
       "      <td>0.010015</td>\n",
       "      <td>0.915617</td>\n",
       "      <td>-2.194264</td>\n",
       "      <td>-0.409526</td>\n",
       "      <td>-0.109805</td>\n",
       "      <td>0.764743</td>\n",
       "      <td>3.720316</td>\n",
       "    </tr>\n",
       "    <tr>\n",
       "      <th>rougher.state.floatbank10_e_level</th>\n",
       "      <td>4201.0</td>\n",
       "      <td>-0.115843</td>\n",
       "      <td>0.891910</td>\n",
       "      <td>-2.356588</td>\n",
       "      <td>-0.613935</td>\n",
       "      <td>-0.604595</td>\n",
       "      <td>0.275464</td>\n",
       "      <td>2.991367</td>\n",
       "    </tr>\n",
       "    <tr>\n",
       "      <th>rougher.state.floatbank10_f_air</th>\n",
       "      <td>4201.0</td>\n",
       "      <td>0.013921</td>\n",
       "      <td>0.889741</td>\n",
       "      <td>-2.966058</td>\n",
       "      <td>-0.420081</td>\n",
       "      <td>-0.103432</td>\n",
       "      <td>0.512328</td>\n",
       "      <td>4.263774</td>\n",
       "    </tr>\n",
       "    <tr>\n",
       "      <th>rougher.state.floatbank10_f_level</th>\n",
       "      <td>4201.0</td>\n",
       "      <td>-0.105941</td>\n",
       "      <td>0.891796</td>\n",
       "      <td>-3.191175</td>\n",
       "      <td>-0.611944</td>\n",
       "      <td>-0.595384</td>\n",
       "      <td>0.294866</td>\n",
       "      <td>3.148672</td>\n",
       "    </tr>\n",
       "    <tr>\n",
       "      <th>rougher.input.floatbank11_sulfate</th>\n",
       "      <td>4201.0</td>\n",
       "      <td>-0.107779</td>\n",
       "      <td>0.992197</td>\n",
       "      <td>-3.579176</td>\n",
       "      <td>-0.721404</td>\n",
       "      <td>-0.140252</td>\n",
       "      <td>0.611908</td>\n",
       "      <td>5.020617</td>\n",
       "    </tr>\n",
       "    <tr>\n",
       "      <th>rougher.input.floatbank11_xanthate</th>\n",
       "      <td>4201.0</td>\n",
       "      <td>0.027815</td>\n",
       "      <td>1.064724</td>\n",
       "      <td>-5.613788</td>\n",
       "      <td>-0.528335</td>\n",
       "      <td>0.029795</td>\n",
       "      <td>0.675540</td>\n",
       "      <td>3.079472</td>\n",
       "    </tr>\n",
       "  </tbody>\n",
       "</table>\n",
       "</div>"
      ],
      "text/plain": [
       "                                     count      mean       std       min  \\\n",
       "rougher.input.feed_au               4201.0 -0.224883  1.079687 -3.793423   \n",
       "rougher.input.feed_ag               4201.0 -0.202508  1.037311 -2.491979   \n",
       "rougher.input.feed_pb               4201.0 -0.053977  1.011368 -3.460549   \n",
       "rougher.input.feed_sol              4201.0  0.082834  0.988374 -4.295594   \n",
       "rougher.input.feed_rate             4201.0  0.102385  0.927176 -5.032087   \n",
       "rougher.input.feed_size             4201.0  0.098607  1.015718 -2.636006   \n",
       "rougher.input.floatbank10_sulfate   4201.0 -0.131439  1.046909 -3.549635   \n",
       "rougher.input.floatbank10_xanthate  4201.0  0.060262  0.940708 -5.128423   \n",
       "rougher.state.floatbank10_a_air     4201.0  0.037617  0.975250 -4.934063   \n",
       "rougher.state.floatbank10_a_level   4201.0  0.131438  0.960417 -2.350710   \n",
       "rougher.state.floatbank10_b_air     4201.0 -0.046824  0.895931 -3.148815   \n",
       "rougher.state.floatbank10_b_level   4201.0 -0.112503  0.900733 -1.721446   \n",
       "rougher.state.floatbank10_c_air     4201.0 -0.045929  0.872712 -2.281153   \n",
       "rougher.state.floatbank10_c_level   4201.0 -0.116366  0.887223 -1.620118   \n",
       "rougher.state.floatbank10_d_air     4201.0 -0.039035  0.900490 -2.482423   \n",
       "rougher.state.floatbank10_d_level   4201.0 -0.117743  0.885614 -3.406746   \n",
       "rougher.state.floatbank10_e_air     4201.0  0.010015  0.915617 -2.194264   \n",
       "rougher.state.floatbank10_e_level   4201.0 -0.115843  0.891910 -2.356588   \n",
       "rougher.state.floatbank10_f_air     4201.0  0.013921  0.889741 -2.966058   \n",
       "rougher.state.floatbank10_f_level   4201.0 -0.105941  0.891796 -3.191175   \n",
       "rougher.input.floatbank11_sulfate   4201.0 -0.107779  0.992197 -3.579176   \n",
       "rougher.input.floatbank11_xanthate  4201.0  0.027815  1.064724 -5.613788   \n",
       "\n",
       "                                         25%       50%       75%       max  \n",
       "rougher.input.feed_au              -1.005073 -0.335090  0.622732  2.686701  \n",
       "rougher.input.feed_ag              -1.051750 -0.404816  0.616466  2.942299  \n",
       "rougher.input.feed_pb              -0.681119 -0.076815  0.567131  3.368517  \n",
       "rougher.input.feed_sol             -0.538908  0.113788  0.789085  3.821728  \n",
       "rougher.input.feed_rate            -0.453353  0.197102  0.761909  2.222383  \n",
       "rougher.input.feed_size            -0.736273 -0.106463  0.748085  3.399919  \n",
       "rougher.input.floatbank10_sulfate  -0.828012 -0.203549  0.663872  5.411208  \n",
       "rougher.input.floatbank10_xanthate -0.564899  0.015486  0.692707  3.202238  \n",
       "rougher.state.floatbank10_a_air    -0.642407 -0.631353  0.607802  2.564741  \n",
       "rougher.state.floatbank10_a_level  -1.281001  0.834998  0.837225  1.037853  \n",
       "rougher.state.floatbank10_b_air    -0.677746 -0.102749  0.474619  2.770012  \n",
       "rougher.state.floatbank10_b_level  -0.623695 -0.616465  0.314680  3.139344  \n",
       "rougher.state.floatbank10_c_air    -0.725980  0.002087  0.499482  5.857390  \n",
       "rougher.state.floatbank10_c_level  -0.626473 -0.617816  0.331511  3.215278  \n",
       "rougher.state.floatbank10_d_air    -0.746679 -0.038665  0.482794  2.939384  \n",
       "rougher.state.floatbank10_d_level  -0.618249 -0.602478  0.327579  3.231021  \n",
       "rougher.state.floatbank10_e_air    -0.409526 -0.109805  0.764743  3.720316  \n",
       "rougher.state.floatbank10_e_level  -0.613935 -0.604595  0.275464  2.991367  \n",
       "rougher.state.floatbank10_f_air    -0.420081 -0.103432  0.512328  4.263774  \n",
       "rougher.state.floatbank10_f_level  -0.611944 -0.595384  0.294866  3.148672  \n",
       "rougher.input.floatbank11_sulfate  -0.721404 -0.140252  0.611908  5.020617  \n",
       "rougher.input.floatbank11_xanthate -0.528335  0.029795  0.675540  3.079472  "
      ]
     },
     "execution_count": 45,
     "metadata": {},
     "output_type": "execute_result"
    }
   ],
   "source": [
    "feautures_rougher_test.describe().T"
   ]
  },
  {
   "cell_type": "code",
   "execution_count": 46,
   "metadata": {},
   "outputs": [
    {
     "data": {
      "text/html": [
       "<div>\n",
       "<style scoped>\n",
       "    .dataframe tbody tr th:only-of-type {\n",
       "        vertical-align: middle;\n",
       "    }\n",
       "\n",
       "    .dataframe tbody tr th {\n",
       "        vertical-align: top;\n",
       "    }\n",
       "\n",
       "    .dataframe thead th {\n",
       "        text-align: right;\n",
       "    }\n",
       "</style>\n",
       "<table border=\"1\" class=\"dataframe\">\n",
       "  <thead>\n",
       "    <tr style=\"text-align: right;\">\n",
       "      <th></th>\n",
       "      <th>count</th>\n",
       "      <th>mean</th>\n",
       "      <th>std</th>\n",
       "      <th>min</th>\n",
       "      <th>25%</th>\n",
       "      <th>50%</th>\n",
       "      <th>75%</th>\n",
       "      <th>max</th>\n",
       "    </tr>\n",
       "  </thead>\n",
       "  <tbody>\n",
       "    <tr>\n",
       "      <th>primary_cleaner.input.sulfate</th>\n",
       "      <td>11829.0</td>\n",
       "      <td>2.306606e-16</td>\n",
       "      <td>1.000042</td>\n",
       "      <td>-3.609902</td>\n",
       "      <td>-0.727758</td>\n",
       "      <td>-0.037363</td>\n",
       "      <td>0.692927</td>\n",
       "      <td>2.776896</td>\n",
       "    </tr>\n",
       "    <tr>\n",
       "      <th>primary_cleaner.input.depressant</th>\n",
       "      <td>11829.0</td>\n",
       "      <td>-1.922172e-17</td>\n",
       "      <td>1.000042</td>\n",
       "      <td>-2.756001</td>\n",
       "      <td>-0.762333</td>\n",
       "      <td>-0.279852</td>\n",
       "      <td>0.632749</td>\n",
       "      <td>3.398900</td>\n",
       "    </tr>\n",
       "    <tr>\n",
       "      <th>primary_cleaner.input.feed_size</th>\n",
       "      <td>11829.0</td>\n",
       "      <td>3.267692e-16</td>\n",
       "      <td>1.000042</td>\n",
       "      <td>-3.340310</td>\n",
       "      <td>-0.646986</td>\n",
       "      <td>-0.052356</td>\n",
       "      <td>0.647209</td>\n",
       "      <td>2.920794</td>\n",
       "    </tr>\n",
       "    <tr>\n",
       "      <th>primary_cleaner.input.xanthate</th>\n",
       "      <td>11829.0</td>\n",
       "      <td>-4.228777e-16</td>\n",
       "      <td>1.000042</td>\n",
       "      <td>-2.018798</td>\n",
       "      <td>-0.659694</td>\n",
       "      <td>-0.125944</td>\n",
       "      <td>0.413806</td>\n",
       "      <td>5.903066</td>\n",
       "    </tr>\n",
       "    <tr>\n",
       "      <th>primary_cleaner.state.floatbank8_a_air</th>\n",
       "      <td>11829.0</td>\n",
       "      <td>-1.307077e-15</td>\n",
       "      <td>1.000042</td>\n",
       "      <td>-12.373078</td>\n",
       "      <td>-0.658830</td>\n",
       "      <td>0.105451</td>\n",
       "      <td>0.860049</td>\n",
       "      <td>3.799068</td>\n",
       "    </tr>\n",
       "    <tr>\n",
       "      <th>primary_cleaner.state.floatbank8_a_level</th>\n",
       "      <td>11829.0</td>\n",
       "      <td>-1.076416e-15</td>\n",
       "      <td>1.000042</td>\n",
       "      <td>-10.603856</td>\n",
       "      <td>-0.259458</td>\n",
       "      <td>-0.245911</td>\n",
       "      <td>-0.229268</td>\n",
       "      <td>15.984101</td>\n",
       "    </tr>\n",
       "    <tr>\n",
       "      <th>primary_cleaner.state.floatbank8_b_air</th>\n",
       "      <td>11829.0</td>\n",
       "      <td>-4.613212e-16</td>\n",
       "      <td>1.000042</td>\n",
       "      <td>-12.190140</td>\n",
       "      <td>-0.668283</td>\n",
       "      <td>0.081454</td>\n",
       "      <td>0.838013</td>\n",
       "      <td>1.795297</td>\n",
       "    </tr>\n",
       "    <tr>\n",
       "      <th>primary_cleaner.state.floatbank8_b_level</th>\n",
       "      <td>11829.0</td>\n",
       "      <td>-2.042307e-15</td>\n",
       "      <td>1.000042</td>\n",
       "      <td>-10.493456</td>\n",
       "      <td>-0.229177</td>\n",
       "      <td>-0.213191</td>\n",
       "      <td>-0.194618</td>\n",
       "      <td>12.041820</td>\n",
       "    </tr>\n",
       "    <tr>\n",
       "      <th>primary_cleaner.state.floatbank8_c_air</th>\n",
       "      <td>11829.0</td>\n",
       "      <td>-3.171583e-16</td>\n",
       "      <td>1.000042</td>\n",
       "      <td>-11.873183</td>\n",
       "      <td>-0.621980</td>\n",
       "      <td>0.125066</td>\n",
       "      <td>0.869521</td>\n",
       "      <td>3.223437</td>\n",
       "    </tr>\n",
       "    <tr>\n",
       "      <th>primary_cleaner.state.floatbank8_c_level</th>\n",
       "      <td>11829.0</td>\n",
       "      <td>-1.285452e-15</td>\n",
       "      <td>1.000042</td>\n",
       "      <td>-10.855076</td>\n",
       "      <td>-0.249948</td>\n",
       "      <td>-0.222489</td>\n",
       "      <td>-0.188792</td>\n",
       "      <td>12.144357</td>\n",
       "    </tr>\n",
       "    <tr>\n",
       "      <th>primary_cleaner.state.floatbank8_d_air</th>\n",
       "      <td>11829.0</td>\n",
       "      <td>1.451240e-15</td>\n",
       "      <td>1.000042</td>\n",
       "      <td>-6.946415</td>\n",
       "      <td>-0.257384</td>\n",
       "      <td>0.193531</td>\n",
       "      <td>0.633989</td>\n",
       "      <td>3.762472</td>\n",
       "    </tr>\n",
       "    <tr>\n",
       "      <th>primary_cleaner.state.floatbank8_d_level</th>\n",
       "      <td>11829.0</td>\n",
       "      <td>-3.051447e-16</td>\n",
       "      <td>1.000042</td>\n",
       "      <td>-7.601433</td>\n",
       "      <td>-0.257429</td>\n",
       "      <td>-0.244504</td>\n",
       "      <td>-0.227209</td>\n",
       "      <td>11.270244</td>\n",
       "    </tr>\n",
       "    <tr>\n",
       "      <th>secondary_cleaner.state.floatbank2_a_air</th>\n",
       "      <td>11829.0</td>\n",
       "      <td>2.883257e-16</td>\n",
       "      <td>1.000042</td>\n",
       "      <td>-5.323779</td>\n",
       "      <td>-0.658091</td>\n",
       "      <td>0.069798</td>\n",
       "      <td>0.815416</td>\n",
       "      <td>4.500498</td>\n",
       "    </tr>\n",
       "    <tr>\n",
       "      <th>secondary_cleaner.state.floatbank2_a_level</th>\n",
       "      <td>11829.0</td>\n",
       "      <td>-7.568551e-16</td>\n",
       "      <td>1.000042</td>\n",
       "      <td>-5.831706</td>\n",
       "      <td>0.025723</td>\n",
       "      <td>0.030706</td>\n",
       "      <td>0.036460</td>\n",
       "      <td>6.546716</td>\n",
       "    </tr>\n",
       "    <tr>\n",
       "      <th>secondary_cleaner.state.floatbank2_b_air</th>\n",
       "      <td>11829.0</td>\n",
       "      <td>1.153303e-16</td>\n",
       "      <td>1.000042</td>\n",
       "      <td>-4.169184</td>\n",
       "      <td>-0.660005</td>\n",
       "      <td>0.188632</td>\n",
       "      <td>0.717010</td>\n",
       "      <td>1.955613</td>\n",
       "    </tr>\n",
       "    <tr>\n",
       "      <th>secondary_cleaner.state.floatbank2_b_level</th>\n",
       "      <td>11829.0</td>\n",
       "      <td>-1.054792e-15</td>\n",
       "      <td>1.000042</td>\n",
       "      <td>-5.476723</td>\n",
       "      <td>0.031121</td>\n",
       "      <td>0.035455</td>\n",
       "      <td>0.039555</td>\n",
       "      <td>5.329845</td>\n",
       "    </tr>\n",
       "    <tr>\n",
       "      <th>secondary_cleaner.state.floatbank3_a_air</th>\n",
       "      <td>11829.0</td>\n",
       "      <td>-3.123529e-16</td>\n",
       "      <td>1.000042</td>\n",
       "      <td>-4.572621</td>\n",
       "      <td>-0.639229</td>\n",
       "      <td>0.000269</td>\n",
       "      <td>0.819935</td>\n",
       "      <td>2.663737</td>\n",
       "    </tr>\n",
       "    <tr>\n",
       "      <th>secondary_cleaner.state.floatbank3_a_level</th>\n",
       "      <td>11829.0</td>\n",
       "      <td>-2.883257e-16</td>\n",
       "      <td>1.000042</td>\n",
       "      <td>-5.830319</td>\n",
       "      <td>-0.269388</td>\n",
       "      <td>-0.264118</td>\n",
       "      <td>-0.253032</td>\n",
       "      <td>5.458534</td>\n",
       "    </tr>\n",
       "    <tr>\n",
       "      <th>secondary_cleaner.state.floatbank3_b_air</th>\n",
       "      <td>11829.0</td>\n",
       "      <td>2.498823e-16</td>\n",
       "      <td>1.000042</td>\n",
       "      <td>-3.908991</td>\n",
       "      <td>-0.538511</td>\n",
       "      <td>-0.004432</td>\n",
       "      <td>0.704270</td>\n",
       "      <td>2.320314</td>\n",
       "    </tr>\n",
       "    <tr>\n",
       "      <th>secondary_cleaner.state.floatbank3_b_level</th>\n",
       "      <td>11829.0</td>\n",
       "      <td>-2.402714e-16</td>\n",
       "      <td>1.000042</td>\n",
       "      <td>-7.412215</td>\n",
       "      <td>-0.160058</td>\n",
       "      <td>-0.156712</td>\n",
       "      <td>-0.152734</td>\n",
       "      <td>7.821827</td>\n",
       "    </tr>\n",
       "    <tr>\n",
       "      <th>secondary_cleaner.state.floatbank4_a_air</th>\n",
       "      <td>11829.0</td>\n",
       "      <td>-3.844343e-16</td>\n",
       "      <td>1.000042</td>\n",
       "      <td>-3.654100</td>\n",
       "      <td>-0.715477</td>\n",
       "      <td>-0.120762</td>\n",
       "      <td>0.849686</td>\n",
       "      <td>2.249898</td>\n",
       "    </tr>\n",
       "    <tr>\n",
       "      <th>secondary_cleaner.state.floatbank4_a_level</th>\n",
       "      <td>11829.0</td>\n",
       "      <td>1.556959e-15</td>\n",
       "      <td>1.000042</td>\n",
       "      <td>-6.638883</td>\n",
       "      <td>-0.318816</td>\n",
       "      <td>-0.300731</td>\n",
       "      <td>-0.268101</td>\n",
       "      <td>5.079027</td>\n",
       "    </tr>\n",
       "    <tr>\n",
       "      <th>secondary_cleaner.state.floatbank4_b_air</th>\n",
       "      <td>11829.0</td>\n",
       "      <td>-3.075475e-16</td>\n",
       "      <td>1.000042</td>\n",
       "      <td>-3.055240</td>\n",
       "      <td>-0.756376</td>\n",
       "      <td>0.050767</td>\n",
       "      <td>0.478184</td>\n",
       "      <td>1.932424</td>\n",
       "    </tr>\n",
       "    <tr>\n",
       "      <th>secondary_cleaner.state.floatbank4_b_level</th>\n",
       "      <td>11829.0</td>\n",
       "      <td>-2.210497e-16</td>\n",
       "      <td>1.000042</td>\n",
       "      <td>-5.220159</td>\n",
       "      <td>-0.600494</td>\n",
       "      <td>-0.589552</td>\n",
       "      <td>0.937038</td>\n",
       "      <td>6.882628</td>\n",
       "    </tr>\n",
       "    <tr>\n",
       "      <th>secondary_cleaner.state.floatbank5_a_air</th>\n",
       "      <td>11829.0</td>\n",
       "      <td>-5.766515e-16</td>\n",
       "      <td>1.000042</td>\n",
       "      <td>-2.914232</td>\n",
       "      <td>-0.807770</td>\n",
       "      <td>-0.067667</td>\n",
       "      <td>0.498624</td>\n",
       "      <td>5.271442</td>\n",
       "    </tr>\n",
       "    <tr>\n",
       "      <th>secondary_cleaner.state.floatbank5_a_level</th>\n",
       "      <td>11829.0</td>\n",
       "      <td>-7.688686e-17</td>\n",
       "      <td>1.000042</td>\n",
       "      <td>-8.894655</td>\n",
       "      <td>-0.346401</td>\n",
       "      <td>-0.327450</td>\n",
       "      <td>-0.286763</td>\n",
       "      <td>6.143105</td>\n",
       "    </tr>\n",
       "    <tr>\n",
       "      <th>secondary_cleaner.state.floatbank5_b_air</th>\n",
       "      <td>11829.0</td>\n",
       "      <td>-9.610858e-18</td>\n",
       "      <td>1.000042</td>\n",
       "      <td>-2.167850</td>\n",
       "      <td>-0.721641</td>\n",
       "      <td>-0.157534</td>\n",
       "      <td>0.415776</td>\n",
       "      <td>2.400080</td>\n",
       "    </tr>\n",
       "    <tr>\n",
       "      <th>secondary_cleaner.state.floatbank5_b_level</th>\n",
       "      <td>11829.0</td>\n",
       "      <td>-1.057194e-15</td>\n",
       "      <td>1.000042</td>\n",
       "      <td>-8.349762</td>\n",
       "      <td>-0.348100</td>\n",
       "      <td>-0.342826</td>\n",
       "      <td>-0.328616</td>\n",
       "      <td>9.314949</td>\n",
       "    </tr>\n",
       "    <tr>\n",
       "      <th>secondary_cleaner.state.floatbank6_a_air</th>\n",
       "      <td>11829.0</td>\n",
       "      <td>0.000000e+00</td>\n",
       "      <td>1.000042</td>\n",
       "      <td>-3.453372</td>\n",
       "      <td>-0.721499</td>\n",
       "      <td>0.182480</td>\n",
       "      <td>0.737528</td>\n",
       "      <td>2.398537</td>\n",
       "    </tr>\n",
       "    <tr>\n",
       "      <th>secondary_cleaner.state.floatbank6_a_level</th>\n",
       "      <td>11829.0</td>\n",
       "      <td>-3.363800e-16</td>\n",
       "      <td>1.000042</td>\n",
       "      <td>-8.767007</td>\n",
       "      <td>0.145457</td>\n",
       "      <td>0.165748</td>\n",
       "      <td>0.181507</td>\n",
       "      <td>10.681714</td>\n",
       "    </tr>\n",
       "  </tbody>\n",
       "</table>\n",
       "</div>"
      ],
      "text/plain": [
       "                                              count          mean       std  \\\n",
       "primary_cleaner.input.sulfate               11829.0  2.306606e-16  1.000042   \n",
       "primary_cleaner.input.depressant            11829.0 -1.922172e-17  1.000042   \n",
       "primary_cleaner.input.feed_size             11829.0  3.267692e-16  1.000042   \n",
       "primary_cleaner.input.xanthate              11829.0 -4.228777e-16  1.000042   \n",
       "primary_cleaner.state.floatbank8_a_air      11829.0 -1.307077e-15  1.000042   \n",
       "primary_cleaner.state.floatbank8_a_level    11829.0 -1.076416e-15  1.000042   \n",
       "primary_cleaner.state.floatbank8_b_air      11829.0 -4.613212e-16  1.000042   \n",
       "primary_cleaner.state.floatbank8_b_level    11829.0 -2.042307e-15  1.000042   \n",
       "primary_cleaner.state.floatbank8_c_air      11829.0 -3.171583e-16  1.000042   \n",
       "primary_cleaner.state.floatbank8_c_level    11829.0 -1.285452e-15  1.000042   \n",
       "primary_cleaner.state.floatbank8_d_air      11829.0  1.451240e-15  1.000042   \n",
       "primary_cleaner.state.floatbank8_d_level    11829.0 -3.051447e-16  1.000042   \n",
       "secondary_cleaner.state.floatbank2_a_air    11829.0  2.883257e-16  1.000042   \n",
       "secondary_cleaner.state.floatbank2_a_level  11829.0 -7.568551e-16  1.000042   \n",
       "secondary_cleaner.state.floatbank2_b_air    11829.0  1.153303e-16  1.000042   \n",
       "secondary_cleaner.state.floatbank2_b_level  11829.0 -1.054792e-15  1.000042   \n",
       "secondary_cleaner.state.floatbank3_a_air    11829.0 -3.123529e-16  1.000042   \n",
       "secondary_cleaner.state.floatbank3_a_level  11829.0 -2.883257e-16  1.000042   \n",
       "secondary_cleaner.state.floatbank3_b_air    11829.0  2.498823e-16  1.000042   \n",
       "secondary_cleaner.state.floatbank3_b_level  11829.0 -2.402714e-16  1.000042   \n",
       "secondary_cleaner.state.floatbank4_a_air    11829.0 -3.844343e-16  1.000042   \n",
       "secondary_cleaner.state.floatbank4_a_level  11829.0  1.556959e-15  1.000042   \n",
       "secondary_cleaner.state.floatbank4_b_air    11829.0 -3.075475e-16  1.000042   \n",
       "secondary_cleaner.state.floatbank4_b_level  11829.0 -2.210497e-16  1.000042   \n",
       "secondary_cleaner.state.floatbank5_a_air    11829.0 -5.766515e-16  1.000042   \n",
       "secondary_cleaner.state.floatbank5_a_level  11829.0 -7.688686e-17  1.000042   \n",
       "secondary_cleaner.state.floatbank5_b_air    11829.0 -9.610858e-18  1.000042   \n",
       "secondary_cleaner.state.floatbank5_b_level  11829.0 -1.057194e-15  1.000042   \n",
       "secondary_cleaner.state.floatbank6_a_air    11829.0  0.000000e+00  1.000042   \n",
       "secondary_cleaner.state.floatbank6_a_level  11829.0 -3.363800e-16  1.000042   \n",
       "\n",
       "                                                  min       25%       50%  \\\n",
       "primary_cleaner.input.sulfate               -3.609902 -0.727758 -0.037363   \n",
       "primary_cleaner.input.depressant            -2.756001 -0.762333 -0.279852   \n",
       "primary_cleaner.input.feed_size             -3.340310 -0.646986 -0.052356   \n",
       "primary_cleaner.input.xanthate              -2.018798 -0.659694 -0.125944   \n",
       "primary_cleaner.state.floatbank8_a_air     -12.373078 -0.658830  0.105451   \n",
       "primary_cleaner.state.floatbank8_a_level   -10.603856 -0.259458 -0.245911   \n",
       "primary_cleaner.state.floatbank8_b_air     -12.190140 -0.668283  0.081454   \n",
       "primary_cleaner.state.floatbank8_b_level   -10.493456 -0.229177 -0.213191   \n",
       "primary_cleaner.state.floatbank8_c_air     -11.873183 -0.621980  0.125066   \n",
       "primary_cleaner.state.floatbank8_c_level   -10.855076 -0.249948 -0.222489   \n",
       "primary_cleaner.state.floatbank8_d_air      -6.946415 -0.257384  0.193531   \n",
       "primary_cleaner.state.floatbank8_d_level    -7.601433 -0.257429 -0.244504   \n",
       "secondary_cleaner.state.floatbank2_a_air    -5.323779 -0.658091  0.069798   \n",
       "secondary_cleaner.state.floatbank2_a_level  -5.831706  0.025723  0.030706   \n",
       "secondary_cleaner.state.floatbank2_b_air    -4.169184 -0.660005  0.188632   \n",
       "secondary_cleaner.state.floatbank2_b_level  -5.476723  0.031121  0.035455   \n",
       "secondary_cleaner.state.floatbank3_a_air    -4.572621 -0.639229  0.000269   \n",
       "secondary_cleaner.state.floatbank3_a_level  -5.830319 -0.269388 -0.264118   \n",
       "secondary_cleaner.state.floatbank3_b_air    -3.908991 -0.538511 -0.004432   \n",
       "secondary_cleaner.state.floatbank3_b_level  -7.412215 -0.160058 -0.156712   \n",
       "secondary_cleaner.state.floatbank4_a_air    -3.654100 -0.715477 -0.120762   \n",
       "secondary_cleaner.state.floatbank4_a_level  -6.638883 -0.318816 -0.300731   \n",
       "secondary_cleaner.state.floatbank4_b_air    -3.055240 -0.756376  0.050767   \n",
       "secondary_cleaner.state.floatbank4_b_level  -5.220159 -0.600494 -0.589552   \n",
       "secondary_cleaner.state.floatbank5_a_air    -2.914232 -0.807770 -0.067667   \n",
       "secondary_cleaner.state.floatbank5_a_level  -8.894655 -0.346401 -0.327450   \n",
       "secondary_cleaner.state.floatbank5_b_air    -2.167850 -0.721641 -0.157534   \n",
       "secondary_cleaner.state.floatbank5_b_level  -8.349762 -0.348100 -0.342826   \n",
       "secondary_cleaner.state.floatbank6_a_air    -3.453372 -0.721499  0.182480   \n",
       "secondary_cleaner.state.floatbank6_a_level  -8.767007  0.145457  0.165748   \n",
       "\n",
       "                                                 75%        max  \n",
       "primary_cleaner.input.sulfate               0.692927   2.776896  \n",
       "primary_cleaner.input.depressant            0.632749   3.398900  \n",
       "primary_cleaner.input.feed_size             0.647209   2.920794  \n",
       "primary_cleaner.input.xanthate              0.413806   5.903066  \n",
       "primary_cleaner.state.floatbank8_a_air      0.860049   3.799068  \n",
       "primary_cleaner.state.floatbank8_a_level   -0.229268  15.984101  \n",
       "primary_cleaner.state.floatbank8_b_air      0.838013   1.795297  \n",
       "primary_cleaner.state.floatbank8_b_level   -0.194618  12.041820  \n",
       "primary_cleaner.state.floatbank8_c_air      0.869521   3.223437  \n",
       "primary_cleaner.state.floatbank8_c_level   -0.188792  12.144357  \n",
       "primary_cleaner.state.floatbank8_d_air      0.633989   3.762472  \n",
       "primary_cleaner.state.floatbank8_d_level   -0.227209  11.270244  \n",
       "secondary_cleaner.state.floatbank2_a_air    0.815416   4.500498  \n",
       "secondary_cleaner.state.floatbank2_a_level  0.036460   6.546716  \n",
       "secondary_cleaner.state.floatbank2_b_air    0.717010   1.955613  \n",
       "secondary_cleaner.state.floatbank2_b_level  0.039555   5.329845  \n",
       "secondary_cleaner.state.floatbank3_a_air    0.819935   2.663737  \n",
       "secondary_cleaner.state.floatbank3_a_level -0.253032   5.458534  \n",
       "secondary_cleaner.state.floatbank3_b_air    0.704270   2.320314  \n",
       "secondary_cleaner.state.floatbank3_b_level -0.152734   7.821827  \n",
       "secondary_cleaner.state.floatbank4_a_air    0.849686   2.249898  \n",
       "secondary_cleaner.state.floatbank4_a_level -0.268101   5.079027  \n",
       "secondary_cleaner.state.floatbank4_b_air    0.478184   1.932424  \n",
       "secondary_cleaner.state.floatbank4_b_level  0.937038   6.882628  \n",
       "secondary_cleaner.state.floatbank5_a_air    0.498624   5.271442  \n",
       "secondary_cleaner.state.floatbank5_a_level -0.286763   6.143105  \n",
       "secondary_cleaner.state.floatbank5_b_air    0.415776   2.400080  \n",
       "secondary_cleaner.state.floatbank5_b_level -0.328616   9.314949  \n",
       "secondary_cleaner.state.floatbank6_a_air    0.737528   2.398537  \n",
       "secondary_cleaner.state.floatbank6_a_level  0.181507  10.681714  "
      ]
     },
     "execution_count": 46,
     "metadata": {},
     "output_type": "execute_result"
    }
   ],
   "source": [
    "feautures_final_train.describe().T"
   ]
  },
  {
   "cell_type": "code",
   "execution_count": 47,
   "metadata": {},
   "outputs": [
    {
     "data": {
      "text/html": [
       "<div>\n",
       "<style scoped>\n",
       "    .dataframe tbody tr th:only-of-type {\n",
       "        vertical-align: middle;\n",
       "    }\n",
       "\n",
       "    .dataframe tbody tr th {\n",
       "        vertical-align: top;\n",
       "    }\n",
       "\n",
       "    .dataframe thead th {\n",
       "        text-align: right;\n",
       "    }\n",
       "</style>\n",
       "<table border=\"1\" class=\"dataframe\">\n",
       "  <thead>\n",
       "    <tr style=\"text-align: right;\">\n",
       "      <th></th>\n",
       "      <th>count</th>\n",
       "      <th>mean</th>\n",
       "      <th>std</th>\n",
       "      <th>min</th>\n",
       "      <th>25%</th>\n",
       "      <th>50%</th>\n",
       "      <th>75%</th>\n",
       "      <th>max</th>\n",
       "    </tr>\n",
       "  </thead>\n",
       "  <tbody>\n",
       "    <tr>\n",
       "      <th>primary_cleaner.input.sulfate</th>\n",
       "      <td>4201.0</td>\n",
       "      <td>-0.123061</td>\n",
       "      <td>0.996914</td>\n",
       "      <td>-3.202887</td>\n",
       "      <td>-0.831196</td>\n",
       "      <td>-0.215145</td>\n",
       "      <td>0.531080</td>\n",
       "      <td>2.693755</td>\n",
       "    </tr>\n",
       "    <tr>\n",
       "      <th>primary_cleaner.input.depressant</th>\n",
       "      <td>4201.0</td>\n",
       "      <td>-0.084025</td>\n",
       "      <td>0.977469</td>\n",
       "      <td>-2.756001</td>\n",
       "      <td>-0.899125</td>\n",
       "      <td>-0.297243</td>\n",
       "      <td>0.477462</td>\n",
       "      <td>3.400586</td>\n",
       "    </tr>\n",
       "    <tr>\n",
       "      <th>primary_cleaner.input.feed_size</th>\n",
       "      <td>4201.0</td>\n",
       "      <td>-0.048338</td>\n",
       "      <td>0.981201</td>\n",
       "      <td>-3.112951</td>\n",
       "      <td>-0.664474</td>\n",
       "      <td>-0.069844</td>\n",
       "      <td>0.542274</td>\n",
       "      <td>2.938283</td>\n",
       "    </tr>\n",
       "    <tr>\n",
       "      <th>primary_cleaner.input.xanthate</th>\n",
       "      <td>4201.0</td>\n",
       "      <td>-0.066885</td>\n",
       "      <td>0.965154</td>\n",
       "      <td>-2.019061</td>\n",
       "      <td>-0.666758</td>\n",
       "      <td>-0.257848</td>\n",
       "      <td>0.297091</td>\n",
       "      <td>5.703397</td>\n",
       "    </tr>\n",
       "    <tr>\n",
       "      <th>primary_cleaner.state.floatbank8_a_air</th>\n",
       "      <td>4201.0</td>\n",
       "      <td>-0.004968</td>\n",
       "      <td>0.960764</td>\n",
       "      <td>-4.486710</td>\n",
       "      <td>-0.658439</td>\n",
       "      <td>0.103769</td>\n",
       "      <td>0.852025</td>\n",
       "      <td>3.839883</td>\n",
       "    </tr>\n",
       "    <tr>\n",
       "      <th>primary_cleaner.state.floatbank8_a_level</th>\n",
       "      <td>4201.0</td>\n",
       "      <td>0.104555</td>\n",
       "      <td>1.206713</td>\n",
       "      <td>-4.806591</td>\n",
       "      <td>-0.258047</td>\n",
       "      <td>-0.244753</td>\n",
       "      <td>-0.226397</td>\n",
       "      <td>5.357893</td>\n",
       "    </tr>\n",
       "    <tr>\n",
       "      <th>primary_cleaner.state.floatbank8_b_air</th>\n",
       "      <td>4201.0</td>\n",
       "      <td>-0.019779</td>\n",
       "      <td>1.001023</td>\n",
       "      <td>-4.423187</td>\n",
       "      <td>-0.677522</td>\n",
       "      <td>0.079763</td>\n",
       "      <td>0.839905</td>\n",
       "      <td>1.790565</td>\n",
       "    </tr>\n",
       "    <tr>\n",
       "      <th>primary_cleaner.state.floatbank8_b_level</th>\n",
       "      <td>4201.0</td>\n",
       "      <td>0.053232</td>\n",
       "      <td>1.072508</td>\n",
       "      <td>-10.474423</td>\n",
       "      <td>-0.228823</td>\n",
       "      <td>-0.212508</td>\n",
       "      <td>-0.193896</td>\n",
       "      <td>5.279945</td>\n",
       "    </tr>\n",
       "    <tr>\n",
       "      <th>primary_cleaner.state.floatbank8_c_air</th>\n",
       "      <td>4201.0</td>\n",
       "      <td>0.020055</td>\n",
       "      <td>0.984932</td>\n",
       "      <td>-9.821936</td>\n",
       "      <td>-0.618550</td>\n",
       "      <td>0.126430</td>\n",
       "      <td>0.870359</td>\n",
       "      <td>1.940245</td>\n",
       "    </tr>\n",
       "    <tr>\n",
       "      <th>primary_cleaner.state.floatbank8_c_level</th>\n",
       "      <td>4201.0</td>\n",
       "      <td>0.066655</td>\n",
       "      <td>1.055528</td>\n",
       "      <td>-6.008647</td>\n",
       "      <td>-0.248952</td>\n",
       "      <td>-0.222630</td>\n",
       "      <td>-0.185586</td>\n",
       "      <td>7.186427</td>\n",
       "    </tr>\n",
       "    <tr>\n",
       "      <th>primary_cleaner.state.floatbank8_d_air</th>\n",
       "      <td>4201.0</td>\n",
       "      <td>-0.074451</td>\n",
       "      <td>1.057149</td>\n",
       "      <td>-4.334896</td>\n",
       "      <td>-0.466636</td>\n",
       "      <td>0.192507</td>\n",
       "      <td>0.637939</td>\n",
       "      <td>3.762498</td>\n",
       "    </tr>\n",
       "    <tr>\n",
       "      <th>primary_cleaner.state.floatbank8_d_level</th>\n",
       "      <td>4201.0</td>\n",
       "      <td>0.048535</td>\n",
       "      <td>0.987434</td>\n",
       "      <td>-7.601369</td>\n",
       "      <td>-0.257129</td>\n",
       "      <td>-0.243213</td>\n",
       "      <td>-0.220190</td>\n",
       "      <td>9.381260</td>\n",
       "    </tr>\n",
       "    <tr>\n",
       "      <th>secondary_cleaner.state.floatbank2_a_air</th>\n",
       "      <td>4201.0</td>\n",
       "      <td>0.189655</td>\n",
       "      <td>1.018251</td>\n",
       "      <td>-5.315461</td>\n",
       "      <td>-0.643971</td>\n",
       "      <td>0.258620</td>\n",
       "      <td>1.114115</td>\n",
       "      <td>3.785059</td>\n",
       "    </tr>\n",
       "    <tr>\n",
       "      <th>secondary_cleaner.state.floatbank2_a_level</th>\n",
       "      <td>4201.0</td>\n",
       "      <td>0.026999</td>\n",
       "      <td>0.834314</td>\n",
       "      <td>-5.831720</td>\n",
       "      <td>0.025936</td>\n",
       "      <td>0.030774</td>\n",
       "      <td>0.035981</td>\n",
       "      <td>5.162220</td>\n",
       "    </tr>\n",
       "    <tr>\n",
       "      <th>secondary_cleaner.state.floatbank2_b_air</th>\n",
       "      <td>4201.0</td>\n",
       "      <td>0.117505</td>\n",
       "      <td>0.957506</td>\n",
       "      <td>-4.169184</td>\n",
       "      <td>-0.327348</td>\n",
       "      <td>0.366393</td>\n",
       "      <td>0.723189</td>\n",
       "      <td>1.943365</td>\n",
       "    </tr>\n",
       "    <tr>\n",
       "      <th>secondary_cleaner.state.floatbank2_b_level</th>\n",
       "      <td>4201.0</td>\n",
       "      <td>0.036010</td>\n",
       "      <td>0.793584</td>\n",
       "      <td>-5.476789</td>\n",
       "      <td>0.031558</td>\n",
       "      <td>0.035428</td>\n",
       "      <td>0.039491</td>\n",
       "      <td>5.094014</td>\n",
       "    </tr>\n",
       "    <tr>\n",
       "      <th>secondary_cleaner.state.floatbank3_a_air</th>\n",
       "      <td>4201.0</td>\n",
       "      <td>0.137788</td>\n",
       "      <td>1.005624</td>\n",
       "      <td>-4.572621</td>\n",
       "      <td>-0.489136</td>\n",
       "      <td>0.007897</td>\n",
       "      <td>0.834288</td>\n",
       "      <td>2.623015</td>\n",
       "    </tr>\n",
       "    <tr>\n",
       "      <th>secondary_cleaner.state.floatbank3_a_level</th>\n",
       "      <td>4201.0</td>\n",
       "      <td>-0.077618</td>\n",
       "      <td>0.904688</td>\n",
       "      <td>-5.826968</td>\n",
       "      <td>-0.269281</td>\n",
       "      <td>-0.264681</td>\n",
       "      <td>-0.257036</td>\n",
       "      <td>4.441162</td>\n",
       "    </tr>\n",
       "    <tr>\n",
       "      <th>secondary_cleaner.state.floatbank3_b_air</th>\n",
       "      <td>4201.0</td>\n",
       "      <td>0.082762</td>\n",
       "      <td>0.977088</td>\n",
       "      <td>-3.908991</td>\n",
       "      <td>-0.535308</td>\n",
       "      <td>0.011713</td>\n",
       "      <td>0.879300</td>\n",
       "      <td>2.316522</td>\n",
       "    </tr>\n",
       "    <tr>\n",
       "      <th>secondary_cleaner.state.floatbank3_b_level</th>\n",
       "      <td>4201.0</td>\n",
       "      <td>-0.032781</td>\n",
       "      <td>0.897326</td>\n",
       "      <td>-6.226192</td>\n",
       "      <td>-0.159993</td>\n",
       "      <td>-0.156832</td>\n",
       "      <td>-0.153258</td>\n",
       "      <td>6.985442</td>\n",
       "    </tr>\n",
       "    <tr>\n",
       "      <th>secondary_cleaner.state.floatbank4_a_air</th>\n",
       "      <td>4201.0</td>\n",
       "      <td>0.228706</td>\n",
       "      <td>1.146536</td>\n",
       "      <td>-3.654100</td>\n",
       "      <td>-0.705679</td>\n",
       "      <td>0.263500</td>\n",
       "      <td>1.249896</td>\n",
       "      <td>2.251649</td>\n",
       "    </tr>\n",
       "    <tr>\n",
       "      <th>secondary_cleaner.state.floatbank4_a_level</th>\n",
       "      <td>4201.0</td>\n",
       "      <td>-0.090900</td>\n",
       "      <td>0.933465</td>\n",
       "      <td>-6.636906</td>\n",
       "      <td>-0.319169</td>\n",
       "      <td>-0.302527</td>\n",
       "      <td>-0.279043</td>\n",
       "      <td>2.160240</td>\n",
       "    </tr>\n",
       "    <tr>\n",
       "      <th>secondary_cleaner.state.floatbank4_b_air</th>\n",
       "      <td>4201.0</td>\n",
       "      <td>0.151022</td>\n",
       "      <td>1.013777</td>\n",
       "      <td>-3.055240</td>\n",
       "      <td>-0.560526</td>\n",
       "      <td>0.062460</td>\n",
       "      <td>1.094573</td>\n",
       "      <td>1.928489</td>\n",
       "    </tr>\n",
       "    <tr>\n",
       "      <th>secondary_cleaner.state.floatbank4_b_level</th>\n",
       "      <td>4201.0</td>\n",
       "      <td>-0.051245</td>\n",
       "      <td>1.031259</td>\n",
       "      <td>-5.205160</td>\n",
       "      <td>-0.600626</td>\n",
       "      <td>-0.590857</td>\n",
       "      <td>0.934198</td>\n",
       "      <td>5.329559</td>\n",
       "    </tr>\n",
       "    <tr>\n",
       "      <th>secondary_cleaner.state.floatbank5_a_air</th>\n",
       "      <td>4201.0</td>\n",
       "      <td>0.222773</td>\n",
       "      <td>1.061547</td>\n",
       "      <td>-2.914129</td>\n",
       "      <td>-0.794253</td>\n",
       "      <td>0.188199</td>\n",
       "      <td>0.858620</td>\n",
       "      <td>3.322802</td>\n",
       "    </tr>\n",
       "    <tr>\n",
       "      <th>secondary_cleaner.state.floatbank5_a_level</th>\n",
       "      <td>4201.0</td>\n",
       "      <td>-0.092254</td>\n",
       "      <td>0.902356</td>\n",
       "      <td>-4.406904</td>\n",
       "      <td>-0.347384</td>\n",
       "      <td>-0.330312</td>\n",
       "      <td>-0.303530</td>\n",
       "      <td>5.743143</td>\n",
       "    </tr>\n",
       "    <tr>\n",
       "      <th>secondary_cleaner.state.floatbank5_b_air</th>\n",
       "      <td>4201.0</td>\n",
       "      <td>0.187693</td>\n",
       "      <td>1.052487</td>\n",
       "      <td>-2.008463</td>\n",
       "      <td>-0.540926</td>\n",
       "      <td>0.033417</td>\n",
       "      <td>0.607991</td>\n",
       "      <td>2.371431</td>\n",
       "    </tr>\n",
       "    <tr>\n",
       "      <th>secondary_cleaner.state.floatbank5_b_level</th>\n",
       "      <td>4201.0</td>\n",
       "      <td>-0.089783</td>\n",
       "      <td>0.937122</td>\n",
       "      <td>-8.343609</td>\n",
       "      <td>-0.348079</td>\n",
       "      <td>-0.343495</td>\n",
       "      <td>-0.336097</td>\n",
       "      <td>8.995906</td>\n",
       "    </tr>\n",
       "    <tr>\n",
       "      <th>secondary_cleaner.state.floatbank6_a_air</th>\n",
       "      <td>4201.0</td>\n",
       "      <td>-0.010117</td>\n",
       "      <td>0.996710</td>\n",
       "      <td>-3.397420</td>\n",
       "      <td>-0.898561</td>\n",
       "      <td>-0.164736</td>\n",
       "      <td>1.089065</td>\n",
       "      <td>2.369452</td>\n",
       "    </tr>\n",
       "    <tr>\n",
       "      <th>secondary_cleaner.state.floatbank6_a_level</th>\n",
       "      <td>4201.0</td>\n",
       "      <td>0.022689</td>\n",
       "      <td>1.005726</td>\n",
       "      <td>-8.785167</td>\n",
       "      <td>0.148419</td>\n",
       "      <td>0.166298</td>\n",
       "      <td>0.181722</td>\n",
       "      <td>9.335376</td>\n",
       "    </tr>\n",
       "  </tbody>\n",
       "</table>\n",
       "</div>"
      ],
      "text/plain": [
       "                                             count      mean       std  \\\n",
       "primary_cleaner.input.sulfate               4201.0 -0.123061  0.996914   \n",
       "primary_cleaner.input.depressant            4201.0 -0.084025  0.977469   \n",
       "primary_cleaner.input.feed_size             4201.0 -0.048338  0.981201   \n",
       "primary_cleaner.input.xanthate              4201.0 -0.066885  0.965154   \n",
       "primary_cleaner.state.floatbank8_a_air      4201.0 -0.004968  0.960764   \n",
       "primary_cleaner.state.floatbank8_a_level    4201.0  0.104555  1.206713   \n",
       "primary_cleaner.state.floatbank8_b_air      4201.0 -0.019779  1.001023   \n",
       "primary_cleaner.state.floatbank8_b_level    4201.0  0.053232  1.072508   \n",
       "primary_cleaner.state.floatbank8_c_air      4201.0  0.020055  0.984932   \n",
       "primary_cleaner.state.floatbank8_c_level    4201.0  0.066655  1.055528   \n",
       "primary_cleaner.state.floatbank8_d_air      4201.0 -0.074451  1.057149   \n",
       "primary_cleaner.state.floatbank8_d_level    4201.0  0.048535  0.987434   \n",
       "secondary_cleaner.state.floatbank2_a_air    4201.0  0.189655  1.018251   \n",
       "secondary_cleaner.state.floatbank2_a_level  4201.0  0.026999  0.834314   \n",
       "secondary_cleaner.state.floatbank2_b_air    4201.0  0.117505  0.957506   \n",
       "secondary_cleaner.state.floatbank2_b_level  4201.0  0.036010  0.793584   \n",
       "secondary_cleaner.state.floatbank3_a_air    4201.0  0.137788  1.005624   \n",
       "secondary_cleaner.state.floatbank3_a_level  4201.0 -0.077618  0.904688   \n",
       "secondary_cleaner.state.floatbank3_b_air    4201.0  0.082762  0.977088   \n",
       "secondary_cleaner.state.floatbank3_b_level  4201.0 -0.032781  0.897326   \n",
       "secondary_cleaner.state.floatbank4_a_air    4201.0  0.228706  1.146536   \n",
       "secondary_cleaner.state.floatbank4_a_level  4201.0 -0.090900  0.933465   \n",
       "secondary_cleaner.state.floatbank4_b_air    4201.0  0.151022  1.013777   \n",
       "secondary_cleaner.state.floatbank4_b_level  4201.0 -0.051245  1.031259   \n",
       "secondary_cleaner.state.floatbank5_a_air    4201.0  0.222773  1.061547   \n",
       "secondary_cleaner.state.floatbank5_a_level  4201.0 -0.092254  0.902356   \n",
       "secondary_cleaner.state.floatbank5_b_air    4201.0  0.187693  1.052487   \n",
       "secondary_cleaner.state.floatbank5_b_level  4201.0 -0.089783  0.937122   \n",
       "secondary_cleaner.state.floatbank6_a_air    4201.0 -0.010117  0.996710   \n",
       "secondary_cleaner.state.floatbank6_a_level  4201.0  0.022689  1.005726   \n",
       "\n",
       "                                                  min       25%       50%  \\\n",
       "primary_cleaner.input.sulfate               -3.202887 -0.831196 -0.215145   \n",
       "primary_cleaner.input.depressant            -2.756001 -0.899125 -0.297243   \n",
       "primary_cleaner.input.feed_size             -3.112951 -0.664474 -0.069844   \n",
       "primary_cleaner.input.xanthate              -2.019061 -0.666758 -0.257848   \n",
       "primary_cleaner.state.floatbank8_a_air      -4.486710 -0.658439  0.103769   \n",
       "primary_cleaner.state.floatbank8_a_level    -4.806591 -0.258047 -0.244753   \n",
       "primary_cleaner.state.floatbank8_b_air      -4.423187 -0.677522  0.079763   \n",
       "primary_cleaner.state.floatbank8_b_level   -10.474423 -0.228823 -0.212508   \n",
       "primary_cleaner.state.floatbank8_c_air      -9.821936 -0.618550  0.126430   \n",
       "primary_cleaner.state.floatbank8_c_level    -6.008647 -0.248952 -0.222630   \n",
       "primary_cleaner.state.floatbank8_d_air      -4.334896 -0.466636  0.192507   \n",
       "primary_cleaner.state.floatbank8_d_level    -7.601369 -0.257129 -0.243213   \n",
       "secondary_cleaner.state.floatbank2_a_air    -5.315461 -0.643971  0.258620   \n",
       "secondary_cleaner.state.floatbank2_a_level  -5.831720  0.025936  0.030774   \n",
       "secondary_cleaner.state.floatbank2_b_air    -4.169184 -0.327348  0.366393   \n",
       "secondary_cleaner.state.floatbank2_b_level  -5.476789  0.031558  0.035428   \n",
       "secondary_cleaner.state.floatbank3_a_air    -4.572621 -0.489136  0.007897   \n",
       "secondary_cleaner.state.floatbank3_a_level  -5.826968 -0.269281 -0.264681   \n",
       "secondary_cleaner.state.floatbank3_b_air    -3.908991 -0.535308  0.011713   \n",
       "secondary_cleaner.state.floatbank3_b_level  -6.226192 -0.159993 -0.156832   \n",
       "secondary_cleaner.state.floatbank4_a_air    -3.654100 -0.705679  0.263500   \n",
       "secondary_cleaner.state.floatbank4_a_level  -6.636906 -0.319169 -0.302527   \n",
       "secondary_cleaner.state.floatbank4_b_air    -3.055240 -0.560526  0.062460   \n",
       "secondary_cleaner.state.floatbank4_b_level  -5.205160 -0.600626 -0.590857   \n",
       "secondary_cleaner.state.floatbank5_a_air    -2.914129 -0.794253  0.188199   \n",
       "secondary_cleaner.state.floatbank5_a_level  -4.406904 -0.347384 -0.330312   \n",
       "secondary_cleaner.state.floatbank5_b_air    -2.008463 -0.540926  0.033417   \n",
       "secondary_cleaner.state.floatbank5_b_level  -8.343609 -0.348079 -0.343495   \n",
       "secondary_cleaner.state.floatbank6_a_air    -3.397420 -0.898561 -0.164736   \n",
       "secondary_cleaner.state.floatbank6_a_level  -8.785167  0.148419  0.166298   \n",
       "\n",
       "                                                 75%       max  \n",
       "primary_cleaner.input.sulfate               0.531080  2.693755  \n",
       "primary_cleaner.input.depressant            0.477462  3.400586  \n",
       "primary_cleaner.input.feed_size             0.542274  2.938283  \n",
       "primary_cleaner.input.xanthate              0.297091  5.703397  \n",
       "primary_cleaner.state.floatbank8_a_air      0.852025  3.839883  \n",
       "primary_cleaner.state.floatbank8_a_level   -0.226397  5.357893  \n",
       "primary_cleaner.state.floatbank8_b_air      0.839905  1.790565  \n",
       "primary_cleaner.state.floatbank8_b_level   -0.193896  5.279945  \n",
       "primary_cleaner.state.floatbank8_c_air      0.870359  1.940245  \n",
       "primary_cleaner.state.floatbank8_c_level   -0.185586  7.186427  \n",
       "primary_cleaner.state.floatbank8_d_air      0.637939  3.762498  \n",
       "primary_cleaner.state.floatbank8_d_level   -0.220190  9.381260  \n",
       "secondary_cleaner.state.floatbank2_a_air    1.114115  3.785059  \n",
       "secondary_cleaner.state.floatbank2_a_level  0.035981  5.162220  \n",
       "secondary_cleaner.state.floatbank2_b_air    0.723189  1.943365  \n",
       "secondary_cleaner.state.floatbank2_b_level  0.039491  5.094014  \n",
       "secondary_cleaner.state.floatbank3_a_air    0.834288  2.623015  \n",
       "secondary_cleaner.state.floatbank3_a_level -0.257036  4.441162  \n",
       "secondary_cleaner.state.floatbank3_b_air    0.879300  2.316522  \n",
       "secondary_cleaner.state.floatbank3_b_level -0.153258  6.985442  \n",
       "secondary_cleaner.state.floatbank4_a_air    1.249896  2.251649  \n",
       "secondary_cleaner.state.floatbank4_a_level -0.279043  2.160240  \n",
       "secondary_cleaner.state.floatbank4_b_air    1.094573  1.928489  \n",
       "secondary_cleaner.state.floatbank4_b_level  0.934198  5.329559  \n",
       "secondary_cleaner.state.floatbank5_a_air    0.858620  3.322802  \n",
       "secondary_cleaner.state.floatbank5_a_level -0.303530  5.743143  \n",
       "secondary_cleaner.state.floatbank5_b_air    0.607991  2.371431  \n",
       "secondary_cleaner.state.floatbank5_b_level -0.336097  8.995906  \n",
       "secondary_cleaner.state.floatbank6_a_air    1.089065  2.369452  \n",
       "secondary_cleaner.state.floatbank6_a_level  0.181722  9.335376  "
      ]
     },
     "execution_count": 47,
     "metadata": {},
     "output_type": "execute_result"
    }
   ],
   "source": [
    "feautures_final_test.describe().T"
   ]
  },
  {
   "cell_type": "markdown",
   "metadata": {},
   "source": [
    "Средние значения признаков сильно отличались друг от друга. Чтобы избежать того, что модель примет один признак важнее другого мы привели средние значения к 0 с помощью *StandardScaler*."
   ]
  },
  {
   "cell_type": "markdown",
   "metadata": {},
   "source": [
    "### Напишем функцию для вычисления итоговой *sMAPE*."
   ]
  },
  {
   "attachments": {
    "Image%20%281%29.png": {
     "image/png": "[encoded data removed]"
    }
   },
   "cell_type": "markdown",
   "metadata": {},
   "source": [
    "Функция для вычисления метрики качества модели - *Symmetric Mean Absolute Percentage Error*:\n",
    "\n",
    "![Image%20%281%29.png](attachment:Image%20%281%29.png)\n",
    "\n"
   ]
  },
  {
   "attachments": {
    "Image%20%282%29.png": {
     "image/png": "[encoded data removed]"
    }
   },
   "cell_type": "markdown",
   "metadata": {},
   "source": [
    "Нужно спрогнозировать сразу две величины:\n",
    "- эффективность обогащения чернового концентрата `rougher.output.recovery`;\n",
    "- эффективность обогащения финального концентрата `final.output.recovery`.\n",
    "\n",
    "Итоговая метрика складывается из двух величин:\n",
    "![Image%20%282%29.png](attachment:Image%20%282%29.png)"
   ]
  },
  {
   "cell_type": "code",
   "execution_count": 48,
   "metadata": {},
   "outputs": [],
   "source": [
    "def smape(target, predict):\n",
    "    smape = (np.sum((abs(target - predict)) / ((abs(target) + abs(predict)) / 2))) * 100 / len(target)\n",
    "    return smape"
   ]
  },
  {
   "cell_type": "markdown",
   "metadata": {},
   "source": [
    "Функция - *final_smape(smape_rougher, smape_final)*:\n",
    "\n",
    "- на вход подаются значение *sMAPE* для этапа флотации - *rougher*, и финальное значение *sMAPE*.\n",
    "- функция возвращает итоговое значение метрики *sMAPE* *(25% rougher и 75% final)*."
   ]
  },
  {
   "cell_type": "code",
   "execution_count": 49,
   "metadata": {},
   "outputs": [],
   "source": [
    "def final_smape(smape_rougher, smape_final):\n",
    "    final_smape = 0.25 * smape_rougher + 0.75 * smape_final\n",
    "    return final_smape"
   ]
  },
  {
   "cell_type": "markdown",
   "metadata": {},
   "source": [
    "**Вывод:** \n",
    "\n",
    "Получены две функции для расчета метрики качества *sMAPE*:\n",
    "\n",
    "- smape(target, predict) - расчет метрики качества для предсказания модели\n",
    "- final_smape(smape_rougher, smape_final) - финальный расчет метрики качества для двух целевых признаков."
   ]
  },
  {
   "cell_type": "markdown",
   "metadata": {},
   "source": [
    "### Обучение моделей"
   ]
  },
  {
   "cell_type": "markdown",
   "metadata": {},
   "source": [
    "На данном этапе проверим кросс-валидацией качество моделей. \n",
    "\n",
    "Для обучения выберем:\n",
    "\n",
    "- Линейную регрессию (*LinearRegression*)\n",
    "- Решающее дерево (*DecisionTreeRegressor*)\n",
    "- Случайный лес (*RandomForestRegressor*)"
   ]
  },
  {
   "cell_type": "code",
   "execution_count": 50,
   "metadata": {},
   "outputs": [],
   "source": [
    "state = np.random.RandomState(12345)"
   ]
  },
  {
   "cell_type": "code",
   "execution_count": 51,
   "metadata": {},
   "outputs": [],
   "source": [
    "models = [LinearRegression(), \n",
    "          DecisionTreeRegressor(random_state=state), \n",
    "          RandomForestRegressor(random_state=state)]"
   ]
  },
  {
   "cell_type": "markdown",
   "metadata": {},
   "source": [
    "Создадим метрику, с помощью которой будет определяться работа модели - *smape_scorer*."
   ]
  },
  {
   "cell_type": "code",
   "execution_count": 52,
   "metadata": {},
   "outputs": [],
   "source": [
    "smape_scorer = make_scorer(smape, greater_is_better=False)"
   ]
  },
  {
   "cell_type": "markdown",
   "metadata": {},
   "source": [
    "Оценка sMAPE для модели:"
   ]
  },
  {
   "cell_type": "code",
   "execution_count": 53,
   "metadata": {},
   "outputs": [],
   "source": [
    "def cross_val(model, feautures, target):\n",
    "    scores = cross_val_score(model, feautures, target, scoring=smape_scorer, cv=5, n_jobs=-1)\n",
    "    return scores.mean()"
   ]
  },
  {
   "cell_type": "markdown",
   "metadata": {},
   "source": [
    "Проверим результаты метрик для каждой модели:"
   ]
  },
  {
   "cell_type": "code",
   "execution_count": 54,
   "metadata": {},
   "outputs": [
    {
     "data": {
      "application/vnd.jupyter.widget-view+json": {
       "model_id": "ce911f3bca2947c18584d99183cf2a01",
       "version_major": 2,
       "version_minor": 0
      },
      "text/plain": [
       "  0%|          | 0/3 [00:00<?, ?it/s]"
      ]
     },
     "metadata": {},
     "output_type": "display_data"
    },
    {
     "data": {
      "application/vnd.jupyter.widget-view+json": {
       "model_id": "0b69c757384a43b9b59fcb60230011fa",
       "version_major": 2,
       "version_minor": 0
      },
      "text/plain": [
       "  0%|          | 0/3 [00:00<?, ?it/s]"
      ]
     },
     "metadata": {},
     "output_type": "display_data"
    },
    {
     "name": "stdout",
     "output_type": "stream",
     "text": [
      "CPU times: user 3min 23s, sys: 2.01 s, total: 3min 25s\n",
      "Wall time: 3min 26s\n"
     ]
    }
   ],
   "source": [
    "%%time\n",
    "# Расчет данной ячейки длится порядка 5 минут\n",
    "scores_rougher, scores_final, final_score = [], [], [] # результат метрик для каждой модели.\n",
    "\n",
    "for i in tqdm(models):\n",
    "    # расчет sMAPE флотации\n",
    "    scores_r = cross_val_score(i, feautures_rougher_train, target_rougher_train, \n",
    "                             scoring=smape_scorer, cv=5, n_jobs=-1)\n",
    "    \n",
    "    scores_rougher.append((-1 * scores_r).mean()) # Умножим результат на -1, чтобы получить настоящее значение smape\n",
    "    \n",
    "    # расчет sMAPE финала \n",
    "    scores_f = cross_val_score(i, feautures_final_train, target_final_train, \n",
    "                             scoring=smape_scorer, cv=5, n_jobs=-1)\n",
    "    \n",
    "    scores_final.append((-1 * scores_f).mean())\n",
    "    \n",
    "    # расчет финального sMAPE\n",
    "for i in tqdm(range(len(scores_final))):\n",
    "    \n",
    "    final_score.append(final_smape(scores_rougher[i], scores_final[i]))  "
   ]
  },
  {
   "cell_type": "code",
   "execution_count": 55,
   "metadata": {},
   "outputs": [
    {
     "data": {
      "text/html": [
       "<div>\n",
       "<style scoped>\n",
       "    .dataframe tbody tr th:only-of-type {\n",
       "        vertical-align: middle;\n",
       "    }\n",
       "\n",
       "    .dataframe tbody tr th {\n",
       "        vertical-align: top;\n",
       "    }\n",
       "\n",
       "    .dataframe thead th {\n",
       "        text-align: right;\n",
       "    }\n",
       "</style>\n",
       "<table border=\"1\" class=\"dataframe\">\n",
       "  <thead>\n",
       "    <tr style=\"text-align: right;\">\n",
       "      <th></th>\n",
       "      <th>scores_rougher</th>\n",
       "      <th>scores_final</th>\n",
       "      <th>final_smape</th>\n",
       "    </tr>\n",
       "  </thead>\n",
       "  <tbody>\n",
       "    <tr>\n",
       "      <th>LinearRegression</th>\n",
       "      <td>6.069286</td>\n",
       "      <td>8.452828</td>\n",
       "      <td>7.856943</td>\n",
       "    </tr>\n",
       "    <tr>\n",
       "      <th>DecisionTreeRegressor</th>\n",
       "      <td>7.100586</td>\n",
       "      <td>13.304669</td>\n",
       "      <td>11.753648</td>\n",
       "    </tr>\n",
       "    <tr>\n",
       "      <th>RandomForestRegressor</th>\n",
       "      <td>5.502678</td>\n",
       "      <td>9.523230</td>\n",
       "      <td>8.518092</td>\n",
       "    </tr>\n",
       "  </tbody>\n",
       "</table>\n",
       "</div>"
      ],
      "text/plain": [
       "                       scores_rougher  scores_final  final_smape\n",
       "LinearRegression             6.069286      8.452828     7.856943\n",
       "DecisionTreeRegressor        7.100586     13.304669    11.753648\n",
       "RandomForestRegressor        5.502678      9.523230     8.518092"
      ]
     },
     "execution_count": 55,
     "metadata": {},
     "output_type": "execute_result"
    }
   ],
   "source": [
    "scores_smape = pd.DataFrame(\n",
    "    {'scores_rougher': scores_rougher,\n",
    "    'scores_final': scores_final,\n",
    "    'final_smape': final_score\n",
    "    },\n",
    "    index=['LinearRegression', 'DecisionTreeRegressor', 'RandomForestRegressor']\n",
    ")\n",
    "\n",
    "scores_smape"
   ]
  },
  {
   "cell_type": "markdown",
   "metadata": {},
   "source": [
    "Худшая модель - Решающее дерево (DecisionTreeRegressor) - итоговое sMAPE - 11.8. Линейная регрессия (LinearRegression) показала лучший результат с sMAPE равным 7.9.\n",
    "\n",
    "Попробуем улучшить модели подбором гиперпараметров с помощью GridSearchCV."
   ]
  },
  {
   "cell_type": "markdown",
   "metadata": {},
   "source": [
    "Составим функцию *best_parameters_for_model*, где:\n",
    "\n",
    "- model - модель,\n",
    "- parameters_m - параметры для подбора,\n",
    "- feautures - признаки,\n",
    "- target - целевой признак.\n",
    "\n",
    "Возвращает:\n",
    "\n",
    "- best_model - лучшую модель,\n",
    "- best_params - лучшие гиперпараметры."
   ]
  },
  {
   "cell_type": "code",
   "execution_count": 56,
   "metadata": {},
   "outputs": [],
   "source": [
    "def best_parameters_for_model(model, parameters_m, feautures, target):\n",
    "    \n",
    "    # подбор лучших гиперпараметров модели с учетом метрики sMAPE\n",
    "    \n",
    "    grid_m = GridSearchCV(model, parameters_m, cv=5, n_jobs=-1, scoring=smape_scorer)\n",
    "    grid_m.fit(feautures, target)\n",
    "\n",
    "    best_params = grid_m.best_params_\n",
    "\n",
    "    print('Гиперпараметры лучшей модели:', best_params)\n",
    "    \n",
    "    # обучение модели с лучшими гиперпараметрами и вывод на экран метрики sMape\n",
    "    # функция возвращает модель, гиперпараметры\n",
    "    \n",
    "    best_model = model\n",
    "    best_model.set_params(**best_params) # добавление лучших гиперпараметров\n",
    "\n",
    "    return best_model, best_params "
   ]
  },
  {
   "cell_type": "markdown",
   "metadata": {},
   "source": [
    "#### Линейная регрессия (LinearRegression)"
   ]
  },
  {
   "cell_type": "code",
   "execution_count": 57,
   "metadata": {},
   "outputs": [],
   "source": [
    "parameters_LR ={'fit_intercept':[True, False], \n",
    "             'copy_X':[True, False]}"
   ]
  },
  {
   "cell_type": "markdown",
   "metadata": {},
   "source": [
    "Найдем гиперпараметры лучшей модели Линейной регрессии и посчитаем *sMAPE* для флотации:"
   ]
  },
  {
   "cell_type": "code",
   "execution_count": 58,
   "metadata": {},
   "outputs": [
    {
     "name": "stdout",
     "output_type": "stream",
     "text": [
      "Гиперпараметры лучшей модели: {'copy_X': True, 'fit_intercept': True}\n"
     ]
    }
   ],
   "source": [
    "model_LR_rougher, params_LR_rougher = best_parameters_for_model(\n",
    "    LinearRegression(), \n",
    "    parameters_LR, \n",
    "    feautures_rougher_train,\n",
    "    target_rougher_train\n",
    ")"
   ]
  },
  {
   "cell_type": "code",
   "execution_count": 59,
   "metadata": {},
   "outputs": [
    {
     "name": "stdout",
     "output_type": "stream",
     "text": [
      "Результат кросс-валидации метрики sMAPE для флотации модели Линейной регрессии: 6.069286008909102\n"
     ]
    }
   ],
   "source": [
    "smape_LR_rougher = cross_val(model_LR_rougher, feautures_rougher_train, target_rougher_train)\n",
    "print('Результат кросс-валидации метрики sMAPE для флотации модели Линейной регрессии:', -1 * smape_LR_rougher)"
   ]
  },
  {
   "cell_type": "markdown",
   "metadata": {},
   "source": [
    "Найдем гиперпараметры лучшей модели Линейной регрессии и посчитаем *sMAPE* для финальной очистки:"
   ]
  },
  {
   "cell_type": "code",
   "execution_count": 60,
   "metadata": {},
   "outputs": [
    {
     "name": "stdout",
     "output_type": "stream",
     "text": [
      "Гиперпараметры лучшей модели: {'copy_X': True, 'fit_intercept': True}\n"
     ]
    }
   ],
   "source": [
    "model_LR_final, params_LR_final = best_parameters_for_model(\n",
    "    LinearRegression(), \n",
    "    parameters_LR, \n",
    "    feautures_final_train,\n",
    "    target_final_train\n",
    ")"
   ]
  },
  {
   "cell_type": "code",
   "execution_count": 61,
   "metadata": {},
   "outputs": [
    {
     "name": "stdout",
     "output_type": "stream",
     "text": [
      "Результат кросс-валидации метрики sMAPE для финальной очистки модели Линейной регрессии: 8.452828485572999\n"
     ]
    }
   ],
   "source": [
    "smape_LR_final = cross_val(model_LR_final, feautures_final_train, target_final_train)\n",
    "print('Результат кросс-валидации метрики sMAPE для финальной очистки модели Линейной регрессии:', -1 * smape_LR_final)"
   ]
  },
  {
   "cell_type": "markdown",
   "metadata": {},
   "source": [
    "Финальный *sMAPE*:"
   ]
  },
  {
   "cell_type": "code",
   "execution_count": 62,
   "metadata": {},
   "outputs": [
    {
     "name": "stdout",
     "output_type": "stream",
     "text": [
      "Финальное sMAPE для Линейной регрессии: 7.856942866407024\n"
     ]
    }
   ],
   "source": [
    "smape_LR_finally = final_smape(smape_LR_rougher, smape_LR_final)\n",
    "print('Финальное sMAPE для Линейной регрессии:', -1 * smape_LR_finally)"
   ]
  },
  {
   "cell_type": "markdown",
   "metadata": {},
   "source": [
    "**Вывод:** \n",
    "\n",
    "Для Линейной регрессии (*LinearRegression*) лучшими гиперпараметрами модели оказались гиперпараметры по умолчанию, поэтому метрики sMAPE не изменились:\n",
    "\n",
    "- sMAPE модели на обучающей выборке для флотации - 6.1\n",
    "- sMAPE модели на обучающей выборке для финальной очистки - 8.5\n",
    "- Финальное sMAPE для Линейной регрессии - 7.9"
   ]
  },
  {
   "cell_type": "markdown",
   "metadata": {},
   "source": [
    "#### Решающее дерево (DecisionTreeRegressor)"
   ]
  },
  {
   "cell_type": "code",
   "execution_count": 63,
   "metadata": {},
   "outputs": [],
   "source": [
    "parameters_DTR  = {'max_depth': range(1, 10), 'min_samples_split': range(2, 7)}"
   ]
  },
  {
   "cell_type": "markdown",
   "metadata": {},
   "source": [
    "Найдем гиперпараметры лучшей модели Решающего дерева и посчитаем *sMAPE* для флотации:"
   ]
  },
  {
   "cell_type": "code",
   "execution_count": 64,
   "metadata": {},
   "outputs": [
    {
     "name": "stdout",
     "output_type": "stream",
     "text": [
      "Гиперпараметры лучшей модели: {'max_depth': 2, 'min_samples_split': 2}\n",
      "CPU times: user 22.4 s, sys: 27.7 ms, total: 22.5 s\n",
      "Wall time: 22.7 s\n"
     ]
    }
   ],
   "source": [
    "%%time\n",
    "model_DTR_rougher, params_DTR_rougher = best_parameters_for_model(\n",
    "    DecisionTreeRegressor(random_state=state), \n",
    "    parameters_DTR, \n",
    "    feautures_rougher_train, \n",
    "    target_rougher_train\n",
    ")"
   ]
  },
  {
   "cell_type": "code",
   "execution_count": 65,
   "metadata": {},
   "outputs": [
    {
     "name": "stdout",
     "output_type": "stream",
     "text": [
      "Результат кросс-валидации метрики sMAPE для флотации модели Решающее дерево: 5.537448990026867\n"
     ]
    }
   ],
   "source": [
    "smape_DTR_rougher = cross_val(model_DTR_rougher, feautures_rougher_train, target_rougher_train)\n",
    "print('Результат кросс-валидации метрики sMAPE для флотации модели Решающее дерево:', -1 * smape_DTR_rougher)"
   ]
  },
  {
   "cell_type": "markdown",
   "metadata": {},
   "source": [
    "Найдем гиперпараметры лучшей модели Решающего дерева и посчитаем *sMAPE* для финальной очистки:"
   ]
  },
  {
   "cell_type": "code",
   "execution_count": 66,
   "metadata": {},
   "outputs": [
    {
     "name": "stdout",
     "output_type": "stream",
     "text": [
      "Гиперпараметры лучшей модели: {'max_depth': 1, 'min_samples_split': 2}\n",
      "CPU times: user 30.2 s, sys: 33.4 ms, total: 30.3 s\n",
      "Wall time: 30.3 s\n"
     ]
    }
   ],
   "source": [
    "%%time\n",
    "model_DTR_final, params_DTR_final = best_parameters_for_model(\n",
    "    DecisionTreeRegressor(random_state=state), \n",
    "    parameters_DTR, \n",
    "    feautures_final_train, \n",
    "    target_final_train\n",
    ")"
   ]
  },
  {
   "cell_type": "code",
   "execution_count": 67,
   "metadata": {},
   "outputs": [
    {
     "name": "stdout",
     "output_type": "stream",
     "text": [
      "Результат кросс-валидации метрики sMAPE для финальной очистки модели Решающее дерево: 8.311116072406186\n"
     ]
    }
   ],
   "source": [
    "smape_DTR_final = cross_val(model_DTR_final, feautures_final_train, target_final_train)\n",
    "print('Результат кросс-валидации метрики sMAPE для финальной очистки модели Решающее дерево:', -1 * smape_DTR_final)"
   ]
  },
  {
   "cell_type": "markdown",
   "metadata": {},
   "source": [
    "Финальный *sMAPE*:"
   ]
  },
  {
   "cell_type": "code",
   "execution_count": 68,
   "metadata": {},
   "outputs": [
    {
     "name": "stdout",
     "output_type": "stream",
     "text": [
      "Финальное sMAPE для Решающего дерева: 7.617699301811356\n"
     ]
    }
   ],
   "source": [
    "smape_DTR_finally = final_smape(smape_DTR_rougher, smape_DTR_final)\n",
    "print('Финальное sMAPE для Решающего дерева:', -1 * smape_DTR_finally)"
   ]
  },
  {
   "cell_type": "markdown",
   "metadata": {},
   "source": [
    "**Вывод:** \n",
    "\n",
    "Для Решающего дерева (*DecisionTreeRegressor*) подбор гиперпараметров модели показал значительные изменения *sMAPE*:\n",
    "\n",
    "- sMAPE модели на обучающей выборке для флотации (*max_depth = 2, min_samples_split = 2*):\n",
    "    - Был: 7.1; \n",
    "    - Стал: 5.5. \n",
    "- sMAPE модели на обучающей выборке для финальной очистки (*max_depth = 1, min_samples_split = 2*):\n",
    "    - Был: 13.3; \n",
    "    - Стал: 8.3.\n",
    "- Финальное sMAPE для Решающего дерева:\n",
    "    - Был: 11.8; \n",
    "    - Стал: 7.6."
   ]
  },
  {
   "cell_type": "markdown",
   "metadata": {},
   "source": [
    "#### Случайный лес (RandomForestRegressor)"
   ]
  },
  {
   "cell_type": "code",
   "execution_count": 69,
   "metadata": {},
   "outputs": [],
   "source": [
    "parameters_RFR  = {'max_depth': range(1, 10), 'n_estimators': range(1, 41, 10)}"
   ]
  },
  {
   "cell_type": "markdown",
   "metadata": {},
   "source": [
    "Найдем гиперпараметры лучшей модели Случайного леса и посчитаем *sMAPE* для флотации:"
   ]
  },
  {
   "cell_type": "code",
   "execution_count": 70,
   "metadata": {},
   "outputs": [
    {
     "name": "stdout",
     "output_type": "stream",
     "text": [
      "Гиперпараметры лучшей модели: {'max_depth': 4, 'n_estimators': 31}\n",
      "CPU times: user 2min 48s, sys: 148 ms, total: 2min 48s\n",
      "Wall time: 2min 48s\n"
     ]
    }
   ],
   "source": [
    "%%time\n",
    "# Расчет данной ячейки длится порядка 7 минут\n",
    "model_RFR_rougher, params_RFR_rougher = best_parameters_for_model(\n",
    "    RandomForestRegressor(random_state=state), \n",
    "    parameters_RFR, \n",
    "    feautures_rougher_train, \n",
    "    target_rougher_train\n",
    ")"
   ]
  },
  {
   "cell_type": "code",
   "execution_count": 71,
   "metadata": {},
   "outputs": [
    {
     "name": "stdout",
     "output_type": "stream",
     "text": [
      "Результат кросс-валидации метрики sMAPE для флотации модели Случайный лес: 5.368257800971024\n"
     ]
    }
   ],
   "source": [
    "smape_RFR_rougher = cross_val(model_RFR_rougher, feautures_rougher_train, target_rougher_train)\n",
    "print('Результат кросс-валидации метрики sMAPE для флотации модели Случайный лес:', -1 * smape_RFR_rougher)"
   ]
  },
  {
   "cell_type": "markdown",
   "metadata": {},
   "source": [
    "Найдем гиперпараметры лучшей модели Случайный лес и посчитаем *sMAPE* для финальной очистки:"
   ]
  },
  {
   "cell_type": "code",
   "execution_count": 72,
   "metadata": {},
   "outputs": [
    {
     "name": "stdout",
     "output_type": "stream",
     "text": [
      "Гиперпараметры лучшей модели: {'max_depth': 1, 'n_estimators': 21}\n",
      "CPU times: user 3min 56s, sys: 441 ms, total: 3min 57s\n",
      "Wall time: 3min 57s\n"
     ]
    }
   ],
   "source": [
    "%%time\n",
    "# Расчет данной ячейки длится порядка 9 минут\n",
    "model_RFR_final, params_RFR_final = best_parameters_for_model(\n",
    "    RandomForestRegressor(random_state=state), \n",
    "    parameters_RFR, \n",
    "    feautures_final_train, \n",
    "    target_final_train\n",
    ")"
   ]
  },
  {
   "cell_type": "code",
   "execution_count": 73,
   "metadata": {},
   "outputs": [
    {
     "name": "stdout",
     "output_type": "stream",
     "text": [
      "Результат кросс-валидации метрики sMAPE для финальной очистки модели Случайный лес: 8.162021597633435\n"
     ]
    }
   ],
   "source": [
    "smape_RFR_final = cross_val(model_RFR_final, feautures_final_train, target_final_train)\n",
    "print('Результат кросс-валидации метрики sMAPE для финальной очистки модели Случайный лес:', -1 * smape_RFR_final)"
   ]
  },
  {
   "cell_type": "markdown",
   "metadata": {},
   "source": [
    "Финальный *sMAPE*:"
   ]
  },
  {
   "cell_type": "code",
   "execution_count": 74,
   "metadata": {},
   "outputs": [
    {
     "name": "stdout",
     "output_type": "stream",
     "text": [
      "Финальное sMAPE для Случайного леса: 7.463580648467833\n"
     ]
    }
   ],
   "source": [
    "smape_RFR_finally = final_smape(smape_RFR_rougher, smape_RFR_final)\n",
    "print('Финальное sMAPE для Случайного леса:', -1 * smape_RFR_finally)"
   ]
  },
  {
   "cell_type": "markdown",
   "metadata": {},
   "source": [
    "**Вывод:** \n",
    "\n",
    "Для Случайного леса (*RandomForestRegressor*) подбор гиперпараметров модели также показал изменения *sMAPE* в лучшую сторону:\n",
    "\n",
    "- sMAPE модели на обучающей выборке для флотации (*max_depth = 4, n_estimators = 31*):\n",
    "    - Был: 5.5; \n",
    "    - Стал: 5.4. \n",
    "- sMAPE модели на обучающей выборке для финальной очистки (*max_depth = 1, n_estimators = 21*):\n",
    "    - Был: 9.5; \n",
    "    - Стал: 8.2.\n",
    "- Финальное sMAPE для Случайного леса:\n",
    "    - Был: 8.5; \n",
    "    - Стал: 7.5."
   ]
  },
  {
   "cell_type": "code",
   "execution_count": 75,
   "metadata": {},
   "outputs": [
    {
     "data": {
      "text/html": [
       "<div>\n",
       "<style scoped>\n",
       "    .dataframe tbody tr th:only-of-type {\n",
       "        vertical-align: middle;\n",
       "    }\n",
       "\n",
       "    .dataframe tbody tr th {\n",
       "        vertical-align: top;\n",
       "    }\n",
       "\n",
       "    .dataframe thead th {\n",
       "        text-align: right;\n",
       "    }\n",
       "</style>\n",
       "<table border=\"1\" class=\"dataframe\">\n",
       "  <thead>\n",
       "    <tr style=\"text-align: right;\">\n",
       "      <th></th>\n",
       "      <th>scores_rougher</th>\n",
       "      <th>scores_final</th>\n",
       "      <th>final_smape</th>\n",
       "    </tr>\n",
       "  </thead>\n",
       "  <tbody>\n",
       "    <tr>\n",
       "      <th>LinearRegression</th>\n",
       "      <td>-6.069286</td>\n",
       "      <td>-8.452828</td>\n",
       "      <td>-7.856943</td>\n",
       "    </tr>\n",
       "    <tr>\n",
       "      <th>DecisionTreeRegressor</th>\n",
       "      <td>-5.537449</td>\n",
       "      <td>-8.311116</td>\n",
       "      <td>-7.617699</td>\n",
       "    </tr>\n",
       "    <tr>\n",
       "      <th>RandomForestRegressor</th>\n",
       "      <td>-5.368258</td>\n",
       "      <td>-8.162022</td>\n",
       "      <td>-7.463581</td>\n",
       "    </tr>\n",
       "  </tbody>\n",
       "</table>\n",
       "</div>"
      ],
      "text/plain": [
       "                       scores_rougher  scores_final  final_smape\n",
       "LinearRegression            -6.069286     -8.452828    -7.856943\n",
       "DecisionTreeRegressor       -5.537449     -8.311116    -7.617699\n",
       "RandomForestRegressor       -5.368258     -8.162022    -7.463581"
      ]
     },
     "execution_count": 75,
     "metadata": {},
     "output_type": "execute_result"
    }
   ],
   "source": [
    "final_smape_data = pd.DataFrame(\n",
    "    {'scores_rougher': [smape_LR_rougher, \n",
    "                        smape_DTR_rougher, \n",
    "                        smape_RFR_rougher],\n",
    "     'scores_final': [smape_LR_final, \n",
    "                      smape_DTR_final, \n",
    "                      smape_RFR_final],\n",
    "     'final_smape': [smape_LR_finally, \n",
    "                     smape_DTR_finally, \n",
    "                     smape_RFR_finally]},\n",
    "    index=['LinearRegression', \n",
    "           'DecisionTreeRegressor',\n",
    "           'RandomForestRegressor']\n",
    ")\n",
    "\n",
    "final_smape_data"
   ]
  },
  {
   "cell_type": "markdown",
   "metadata": {},
   "source": [
    "После подбора гиперпараметров наилучший результат финального *sMAPE* показала модель Случайного леса. Итоговое sMAPE: 7.5. "
   ]
  },
  {
   "cell_type": "markdown",
   "metadata": {},
   "source": [
    "### Проверим лучшую модель на тестовой выборке."
   ]
  },
  {
   "cell_type": "code",
   "execution_count": 79,
   "metadata": {},
   "outputs": [
    {
     "name": "stdout",
     "output_type": "stream",
     "text": [
      "Результат тестовой метрики sMAPE для флотации модели Случайный лес: 3.6818384446134704\n"
     ]
    }
   ],
   "source": [
    "best_model_test_rougher = RandomForestRegressor(random_state=state, max_depth = 4, n_estimators = 31)\n",
    "\n",
    "best_model_test_rougher.fit(feautures_rougher_train, target_rougher_train)\n",
    "prediction_rougher_test = best_model_test_rougher.predict(feautures_rougher_test)\n",
    "\n",
    "smape_RFR_rougher_test = smape(target_rougher_test, prediction_rougher_test)\n",
    "print(\"Результат тестовой метрики sMAPE для флотации модели Случайный лес:\", smape_RFR_rougher_test)"
   ]
  },
  {
   "cell_type": "code",
   "execution_count": 80,
   "metadata": {},
   "outputs": [
    {
     "name": "stdout",
     "output_type": "stream",
     "text": [
      "Результат тестовой метрики sMAPE для финальной очистки модели Случайный лес: 7.8934529450873825\n"
     ]
    }
   ],
   "source": [
    "best_model_test_final = RandomForestRegressor(random_state=state, max_depth = 1, n_estimators = 21)\n",
    "\n",
    "best_model_test_final.fit(feautures_final_train, target_final_train)\n",
    "prediction_final_test = best_model_test_final.predict(feautures_final_test)\n",
    "\n",
    "smape_RFR_final_test = smape(target_final_test, prediction_final_test)\n",
    "print(\"Результат тестовой метрики sMAPE для финальной очистки модели Случайный лес:\", smape_RFR_final_test)"
   ]
  },
  {
   "cell_type": "code",
   "execution_count": 82,
   "metadata": {},
   "outputs": [
    {
     "name": "stdout",
     "output_type": "stream",
     "text": [
      "Финальное тестовое sMAPE для Случайного леса: 6.840549319968904\n"
     ]
    }
   ],
   "source": [
    "smape_RFR_finally_test = final_smape(smape_RFR_rougher_test, smape_RFR_final_test)\n",
    "print('Финальное тестовое sMAPE для Случайного леса:', smape_RFR_finally_test)"
   ]
  },
  {
   "cell_type": "code",
   "execution_count": 85,
   "metadata": {},
   "outputs": [
    {
     "data": {
      "text/html": [
       "<div>\n",
       "<style scoped>\n",
       "    .dataframe tbody tr th:only-of-type {\n",
       "        vertical-align: middle;\n",
       "    }\n",
       "\n",
       "    .dataframe tbody tr th {\n",
       "        vertical-align: top;\n",
       "    }\n",
       "\n",
       "    .dataframe thead th {\n",
       "        text-align: right;\n",
       "    }\n",
       "</style>\n",
       "<table border=\"1\" class=\"dataframe\">\n",
       "  <thead>\n",
       "    <tr style=\"text-align: right;\">\n",
       "      <th></th>\n",
       "      <th>train</th>\n",
       "      <th>test</th>\n",
       "    </tr>\n",
       "  </thead>\n",
       "  <tbody>\n",
       "    <tr>\n",
       "      <th>rougher sMAPE</th>\n",
       "      <td>5.368258</td>\n",
       "      <td>3.681838</td>\n",
       "    </tr>\n",
       "    <tr>\n",
       "      <th>final sMAPE</th>\n",
       "      <td>8.162022</td>\n",
       "      <td>7.893453</td>\n",
       "    </tr>\n",
       "    <tr>\n",
       "      <th>finally sMAPE</th>\n",
       "      <td>7.463581</td>\n",
       "      <td>6.840549</td>\n",
       "    </tr>\n",
       "  </tbody>\n",
       "</table>\n",
       "</div>"
      ],
      "text/plain": [
       "                  train      test\n",
       "rougher sMAPE  5.368258  3.681838\n",
       "final sMAPE    8.162022  7.893453\n",
       "finally sMAPE  7.463581  6.840549"
      ]
     },
     "execution_count": 85,
     "metadata": {},
     "output_type": "execute_result"
    }
   ],
   "source": [
    "smape_RFR_test_and_train = pd.DataFrame(\n",
    "    {'train': [-1 * smape_RFR_rougher, \n",
    "               -1 * smape_RFR_final, \n",
    "               -1 * smape_RFR_finally],\n",
    "     'test': [smape_RFR_rougher_test, \n",
    "               smape_RFR_final_test, \n",
    "               smape_RFR_finally_test]},\n",
    "    index=['rougher sMAPE', \n",
    "           'final sMAPE',\n",
    "           'finally sMAPE']\n",
    ")\n",
    "\n",
    "smape_RFR_test_and_train"
   ]
  },
  {
   "cell_type": "markdown",
   "metadata": {},
   "source": [
    "Результаты модели при получении тестовых данных показали значение *sMAPE* меньше, чем у обучающих данных, что очень хорошо. Принимаем модель Случайного леса с гиперпараметрами:\n",
    "- для флотации (*rougher*): `max_depth = 4, n_estimators = 31`;\n",
    "- для финальной очистки (*final*): `max_depth = 1, n_estimators = 21`."
   ]
  },
  {
   "cell_type": "markdown",
   "metadata": {},
   "source": [
    "### Сравним лучшую модель с константной моделью."
   ]
  },
  {
   "cell_type": "code",
   "execution_count": 91,
   "metadata": {},
   "outputs": [
    {
     "name": "stdout",
     "output_type": "stream",
     "text": [
      "Результат тестовой метрики sMAPE для флотации модели DummyRegressor: 5.539022578231427\n",
      "Результат тестовой метрики sMAPE для финальной очистки модели DummyRegressor: 8.361346638832396\n",
      "Финальное тестовое sMAPE для DummyRegressor: 7.6557656236821545\n"
     ]
    }
   ],
   "source": [
    "dummy_model_test = DummyRegressor(strategy=\"median\")\n",
    "\n",
    "\n",
    "dummy_model_test.fit(feautures_rougher_train, target_rougher_train)\n",
    "dummy_prediction_rougher_test = dummy_model_test.predict(feautures_rougher_test)\n",
    "smape_dummy_rougher_test = smape(target_rougher_test, dummy_prediction_rougher_test)\n",
    "\n",
    "dummy_model_test.fit(feautures_final_train, target_final_train)\n",
    "dummy_prediction_final_test = dummy_model_test.predict(feautures_final_test)\n",
    "smape_dummy_final_test = smape(target_final_test, dummy_prediction_final_test)\n",
    "\n",
    "smape_dummy_finally_test = final_smape(smape_dummy_rougher_test, smape_dummy_final_test)\n",
    "\n",
    "print(\"Результат тестовой метрики sMAPE для флотации модели DummyRegressor:\", smape_dummy_rougher_test)\n",
    "print(\"Результат тестовой метрики sMAPE для финальной очистки модели DummyRegressor:\", smape_dummy_final_test)\n",
    "print('Финальное тестовое sMAPE для DummyRegressor:', smape_dummy_finally_test)"
   ]
  },
  {
   "cell_type": "code",
   "execution_count": 92,
   "metadata": {},
   "outputs": [
    {
     "data": {
      "text/html": [
       "<div>\n",
       "<style scoped>\n",
       "    .dataframe tbody tr th:only-of-type {\n",
       "        vertical-align: middle;\n",
       "    }\n",
       "\n",
       "    .dataframe tbody tr th {\n",
       "        vertical-align: top;\n",
       "    }\n",
       "\n",
       "    .dataframe thead th {\n",
       "        text-align: right;\n",
       "    }\n",
       "</style>\n",
       "<table border=\"1\" class=\"dataframe\">\n",
       "  <thead>\n",
       "    <tr style=\"text-align: right;\">\n",
       "      <th></th>\n",
       "      <th>RandomForestRegressor_test</th>\n",
       "      <th>DummyRegressor_test</th>\n",
       "    </tr>\n",
       "  </thead>\n",
       "  <tbody>\n",
       "    <tr>\n",
       "      <th>rougher sMAPE</th>\n",
       "      <td>3.681838</td>\n",
       "      <td>5.539023</td>\n",
       "    </tr>\n",
       "    <tr>\n",
       "      <th>final sMAPE</th>\n",
       "      <td>7.893453</td>\n",
       "      <td>8.361347</td>\n",
       "    </tr>\n",
       "    <tr>\n",
       "      <th>finally sMAPE</th>\n",
       "      <td>6.840549</td>\n",
       "      <td>7.655766</td>\n",
       "    </tr>\n",
       "  </tbody>\n",
       "</table>\n",
       "</div>"
      ],
      "text/plain": [
       "               RandomForestRegressor_test  DummyRegressor_test\n",
       "rougher sMAPE                    3.681838             5.539023\n",
       "final sMAPE                      7.893453             8.361347\n",
       "finally sMAPE                    6.840549             7.655766"
      ]
     },
     "execution_count": 92,
     "metadata": {},
     "output_type": "execute_result"
    }
   ],
   "source": [
    "smape_dummy_and_RFR = pd.DataFrame(\n",
    "    {'RandomForestRegressor_test': [smape_RFR_rougher_test, \n",
    "               smape_RFR_final_test, \n",
    "               smape_RFR_finally_test],\n",
    "     'DummyRegressor_test': [smape_dummy_rougher_test, \n",
    "               smape_dummy_final_test, \n",
    "               smape_dummy_finally_test]},\n",
    "    index=['rougher sMAPE', \n",
    "           'final sMAPE',\n",
    "           'finally sMAPE']\n",
    ")\n",
    "\n",
    "smape_dummy_and_RFR"
   ]
  },
  {
   "cell_type": "markdown",
   "metadata": {},
   "source": [
    "Модель Случайного леса с найденными гиперпараметрами лучше, чем константная Dummy модель."
   ]
  },
  {
   "cell_type": "markdown",
   "metadata": {},
   "source": [
    "## Общий вывод"
   ]
  },
  {
   "cell_type": "markdown",
   "metadata": {},
   "source": [
    "На анализ были представлены три датасета с данными: `gold_industry_train.csv` (обучающая выборка), `gold_industry_test.csv` (тестовая выборка), `gold_industry_full.csv` (полные исходные данные).\n",
    "\n",
    "Проверка средней абсолютной ошибки при расчете эффективность обогащения *recovery* показала, что в данных показатель рассчитан верно - *MAE* составила `9.83758577644259e-15`.\n",
    "\n",
    "В тестовой выборке отсутствовали признаки с маркировкой *output* - то есть признаки, которые мы получаем только после обработки частей руды или *calculation* - то есть расчетные признаки, которые до обработки сырья на определенном этапе нам неизвестны. Поэтому, из обучающей выборки были удалены столбцы, которые отсуствуют в тестовой выборке, за исключением целевых признаков.\n",
    "\n",
    "На этапе предобработки данных были обнаружены пропущенных значения во всех трех датасетах. Известно, что  соседние по времени параметры часто похожи, поэтому пропущенные значения были заполнены методом *ffill*: распространение последнего действительного наблюдения вперед к следующему действительному.\n",
    "\n",
    "**Концентрация металлов (Au, Ag, Pb):**\n",
    "\n",
    "- концентрация золота Au в первичном сырье составляет в среднем 8.3%, но уже на финальной стадии очистки - 44.1%. Видим, что прирост практически линейный и увеличивается примерно на 12% на каждом этапе очистки.\n",
    "\n",
    "- концентрация серебра Ag в первичном сырье составляет в среднем 8.8%, на финальной стадии очистки - 5.2%. Прирост концентрации увеличивается на второй стадии - флотации, но на последующих этапах концентрация падает. При финальной очистке концентрация серебра даже меньше, чем в изначальном сырье.\n",
    "\n",
    "- концентрация свинца Pb в первичном сырье составляет в среднем 3.6%, на финальной стадии очистки - 10.0%. На финальном этапе очистки среднее значение концентрации свинца практически не меняется по сравнению с первой очисткой, при этом диапазон принимаемых значений несколько сужается.\n",
    "\n",
    "**Распределение размеров гранул сырья:** на этапе первичной обработки гранулы сырья на обучающей и тестовой выборках практически идентичны.\n",
    "\n",
    "Рассчитана **суммарная концентрация** серебра, золота, свинца и солей на каждом этапе обработки от вхощего сырья до финальной концентрации на исходной выборке:\n",
    "\n",
    "- суммарная концентрация контролируемых веществ (Au, Ag, Pb, sol) в составе продукта на каждой из стадий обработки составляет в среднем от 57 до 69%.\n",
    "- на всех этапах обработки сырья появляются значения суммарной концентрации равной 0.\n",
    "\n",
    "Эффективность работы модели проверялась с помощью метрики *sMAPE* и финальной метрики *sMAPE*, которая была равна:\n",
    "\n",
    "`final_smape = 0.25 * smape_rougher + 0.75 * smape_final`\n",
    "\n",
    "Так как, признаки в обучающей и тренировочной выборках имели сильный разброс в средних значениях, которые в последующем могли повлиять на обучение модели (вес признака с большим значением) была проведена стандартизация признаков с помощью *StandardScaler*. Таким образом, значения средних распределилсь вокруг 0.\n",
    "\n",
    "Данные были разделены на этап для предсказания на этапе флотации и на этап для предсказания финальной эффектиности обогащения.\n",
    "\n",
    "Первым этапом, с помощью кросс-валидации была оценена метрика *smape_final* на 3 моделях без учета гиперпараметров:\n",
    "\n",
    "- *Линейная регрессия (LinearRegression)*\n",
    "- *Решающее дерево (DecisionTreeRegressor)*\n",
    "- *Случайный лес (RandomForestRegressor)*\n",
    "\n",
    "Худшая модель - *Решающее дерево (DecisionTreeRegressor)* - итоговое *sMAPE* - 11.8. *Линейная регрессия (LinearRegression)* показала лучший результат, с *sMAPE* равным 7.9. Чем ниже значение *sMAPE*, тем лучше.\n",
    "\n",
    "С помощью подбора гиперпараметров удалось практически в два раза улучшить модель *Решающего дерева*, но результат работы модели оказался все равно ниже, чем у лучшей модели - *Случайный лес* с гиперпараметрами:\n",
    "\n",
    "- для флотации (*rougher*): `max_depth = 4`, `n_estimators = 31`;\n",
    "- для финальной очистки (*final*): `max_depth = 1`, `n_estimators = 21`."
   ]
  },
  {
   "cell_type": "code",
   "execution_count": null,
   "metadata": {},
   "outputs": [],
   "source": []
  }
 ],
 "metadata": {
  "ExecuteTimeLog": [
   {
    "duration": 1661,
    "start_time": "2023-06-27T04:26:20.709Z"
   },
   {
    "duration": 1164,
    "start_time": "2023-06-27T04:28:32.247Z"
   },
   {
    "duration": 231,
    "start_time": "2023-06-27T04:30:50.760Z"
   },
   {
    "duration": 1341,
    "start_time": "2023-06-27T04:30:52.348Z"
   },
   {
    "duration": 30,
    "start_time": "2023-06-27T04:32:07.532Z"
   },
   {
    "duration": 27,
    "start_time": "2023-06-27T04:37:05.761Z"
   },
   {
    "duration": 27,
    "start_time": "2023-06-27T04:37:16.948Z"
   },
   {
    "duration": 36,
    "start_time": "2023-06-27T04:37:23.116Z"
   },
   {
    "duration": 25,
    "start_time": "2023-06-27T04:37:36.772Z"
   },
   {
    "duration": 17,
    "start_time": "2023-06-27T04:38:19.244Z"
   },
   {
    "duration": 117,
    "start_time": "2023-06-27T04:40:44.477Z"
   },
   {
    "duration": 11,
    "start_time": "2023-06-27T04:41:27.696Z"
   },
   {
    "duration": 19376,
    "start_time": "2023-06-27T04:41:45.269Z"
   },
   {
    "duration": 756,
    "start_time": "2023-06-27T04:42:04.648Z"
   },
   {
    "duration": 231,
    "start_time": "2023-06-27T04:42:25.413Z"
   },
   {
    "duration": 2461,
    "start_time": "2023-06-27T04:44:11.519Z"
   },
   {
    "duration": 2459,
    "start_time": "2023-06-27T04:44:13.982Z"
   },
   {
    "duration": 344,
    "start_time": "2023-06-27T04:44:16.442Z"
   },
   {
    "duration": 132,
    "start_time": "2023-06-27T04:44:16.788Z"
   },
   {
    "duration": 404,
    "start_time": "2023-06-27T04:44:16.922Z"
   },
   {
    "duration": 31,
    "start_time": "2023-06-27T04:44:17.327Z"
   },
   {
    "duration": 18,
    "start_time": "2023-06-27T04:44:17.359Z"
   },
   {
    "duration": 175,
    "start_time": "2023-06-27T04:44:17.379Z"
   },
   {
    "duration": 10,
    "start_time": "2023-06-27T04:44:41.366Z"
   },
   {
    "duration": 247,
    "start_time": "2023-06-27T04:45:41.973Z"
   },
   {
    "duration": 2578,
    "start_time": "2023-06-27T04:46:37.572Z"
   },
   {
    "duration": 2060,
    "start_time": "2023-06-27T04:48:12.197Z"
   },
   {
    "duration": 175,
    "start_time": "2023-06-27T04:48:44.374Z"
   },
   {
    "duration": 5,
    "start_time": "2023-06-27T04:51:33.510Z"
   },
   {
    "duration": 11,
    "start_time": "2023-06-27T04:51:40.454Z"
   },
   {
    "duration": 2310,
    "start_time": "2023-06-27T04:51:49.015Z"
   },
   {
    "duration": 2149,
    "start_time": "2023-06-27T04:51:51.328Z"
   },
   {
    "duration": 398,
    "start_time": "2023-06-27T04:51:53.478Z"
   },
   {
    "duration": 133,
    "start_time": "2023-06-27T04:51:53.879Z"
   },
   {
    "duration": 428,
    "start_time": "2023-06-27T04:51:54.014Z"
   },
   {
    "duration": 30,
    "start_time": "2023-06-27T04:51:54.444Z"
   },
   {
    "duration": 18,
    "start_time": "2023-06-27T04:51:54.476Z"
   },
   {
    "duration": 4,
    "start_time": "2023-06-27T05:00:54.191Z"
   },
   {
    "duration": 5,
    "start_time": "2023-06-27T05:13:25.142Z"
   },
   {
    "duration": 3042,
    "start_time": "2023-06-27T05:13:25.149Z"
   },
   {
    "duration": 967,
    "start_time": "2023-06-27T05:13:28.193Z"
   },
   {
    "duration": 223,
    "start_time": "2023-06-27T05:13:29.162Z"
   },
   {
    "duration": 1188,
    "start_time": "2023-06-27T05:13:29.388Z"
   },
   {
    "duration": 39,
    "start_time": "2023-06-27T05:13:30.579Z"
   },
   {
    "duration": 10159,
    "start_time": "2023-06-27T05:13:30.620Z"
   },
   {
    "duration": 147,
    "start_time": "2023-06-27T05:48:57.259Z"
   },
   {
    "duration": 9083,
    "start_time": "2023-06-27T05:49:04.579Z"
   },
   {
    "duration": 9393,
    "start_time": "2023-06-27T05:49:20.083Z"
   },
   {
    "duration": 9110,
    "start_time": "2023-06-27T05:49:36.733Z"
   },
   {
    "duration": 2,
    "start_time": "2023-06-27T05:50:17.323Z"
   },
   {
    "duration": 5075,
    "start_time": "2023-06-27T05:52:15.091Z"
   },
   {
    "duration": 2,
    "start_time": "2023-06-27T05:52:52.803Z"
   },
   {
    "duration": 216,
    "start_time": "2023-06-27T05:53:09.740Z"
   },
   {
    "duration": 4,
    "start_time": "2023-06-27T05:53:22.845Z"
   },
   {
    "duration": 4320,
    "start_time": "2023-06-27T05:53:22.852Z"
   },
   {
    "duration": 612,
    "start_time": "2023-06-27T05:53:38.299Z"
   },
   {
    "duration": 354,
    "start_time": "2023-06-27T05:54:10.092Z"
   },
   {
    "duration": 130,
    "start_time": "2023-06-27T05:54:11.627Z"
   },
   {
    "duration": 417,
    "start_time": "2023-06-27T05:54:12.659Z"
   },
   {
    "duration": 31,
    "start_time": "2023-06-27T05:54:15.003Z"
   },
   {
    "duration": 27,
    "start_time": "2023-06-27T05:55:03.901Z"
   },
   {
    "duration": 53612,
    "start_time": "2023-06-27T05:55:25.979Z"
   },
   {
    "duration": 32213,
    "start_time": "2023-06-27T06:01:08.725Z"
   },
   {
    "duration": 54252,
    "start_time": "2023-06-27T06:01:40.940Z"
   },
   {
    "duration": 249,
    "start_time": "2023-06-27T06:07:21.724Z"
   },
   {
    "duration": 5,
    "start_time": "2023-06-27T06:26:05.807Z"
   },
   {
    "duration": 4,
    "start_time": "2023-06-27T07:03:27.850Z"
   },
   {
    "duration": 1935,
    "start_time": "2023-06-27T07:03:27.856Z"
   },
   {
    "duration": 506,
    "start_time": "2023-06-27T07:03:29.792Z"
   },
   {
    "duration": 287,
    "start_time": "2023-06-27T07:03:30.299Z"
   },
   {
    "duration": 575,
    "start_time": "2023-06-27T07:03:30.588Z"
   },
   {
    "duration": 30,
    "start_time": "2023-06-27T07:03:31.164Z"
   },
   {
    "duration": 53444,
    "start_time": "2023-06-27T07:03:31.196Z"
   },
   {
    "duration": 32065,
    "start_time": "2023-06-27T07:04:24.656Z"
   },
   {
    "duration": 53299,
    "start_time": "2023-06-27T07:04:56.734Z"
   },
   {
    "duration": 327,
    "start_time": "2023-06-27T07:05:50.035Z"
   },
   {
    "duration": 4,
    "start_time": "2023-06-27T07:05:50.364Z"
   },
   {
    "duration": 161,
    "start_time": "2023-06-27T11:32:26.754Z"
   },
   {
    "duration": 19,
    "start_time": "2023-06-27T11:33:33.859Z"
   },
   {
    "duration": 4,
    "start_time": "2023-06-27T11:33:54.839Z"
   },
   {
    "duration": 4,
    "start_time": "2023-06-27T11:34:04.418Z"
   },
   {
    "duration": 10,
    "start_time": "2023-06-27T11:35:33.502Z"
   },
   {
    "duration": 4,
    "start_time": "2023-06-27T11:35:51.754Z"
   },
   {
    "duration": 5,
    "start_time": "2023-06-27T11:36:32.354Z"
   },
   {
    "duration": 6,
    "start_time": "2023-06-27T12:00:19.817Z"
   },
   {
    "duration": 3,
    "start_time": "2023-06-27T12:11:18.121Z"
   },
   {
    "duration": 4268,
    "start_time": "2023-06-27T12:11:18.126Z"
   },
   {
    "duration": 879,
    "start_time": "2023-06-27T12:11:22.396Z"
   },
   {
    "duration": 493,
    "start_time": "2023-06-27T12:11:23.277Z"
   },
   {
    "duration": 695,
    "start_time": "2023-06-27T12:11:23.772Z"
   },
   {
    "duration": 28,
    "start_time": "2023-06-27T12:11:24.469Z"
   },
   {
    "duration": 50523,
    "start_time": "2023-06-27T12:11:24.499Z"
   },
   {
    "duration": 30230,
    "start_time": "2023-06-27T12:12:15.023Z"
   },
   {
    "duration": 50642,
    "start_time": "2023-06-27T12:12:45.255Z"
   },
   {
    "duration": 338,
    "start_time": "2023-06-27T12:13:35.899Z"
   },
   {
    "duration": 4,
    "start_time": "2023-06-27T12:13:36.239Z"
   },
   {
    "duration": 26,
    "start_time": "2023-06-27T12:13:36.245Z"
   },
   {
    "duration": 15,
    "start_time": "2023-06-27T12:13:36.273Z"
   },
   {
    "duration": 8,
    "start_time": "2023-06-27T12:13:36.290Z"
   },
   {
    "duration": 14,
    "start_time": "2023-06-27T12:13:36.299Z"
   },
   {
    "duration": 4,
    "start_time": "2023-06-27T12:13:36.315Z"
   },
   {
    "duration": 5,
    "start_time": "2023-06-27T12:18:08.816Z"
   },
   {
    "duration": 6,
    "start_time": "2023-06-27T12:31:51.713Z"
   },
   {
    "duration": 2430,
    "start_time": "2023-06-27T12:34:23.350Z"
   },
   {
    "duration": 19,
    "start_time": "2023-06-27T12:34:56.307Z"
   },
   {
    "duration": 4,
    "start_time": "2023-06-27T12:36:50.161Z"
   },
   {
    "duration": 3551,
    "start_time": "2023-06-27T12:36:50.167Z"
   },
   {
    "duration": 453,
    "start_time": "2023-06-27T12:36:53.720Z"
   },
   {
    "duration": 330,
    "start_time": "2023-06-27T12:36:54.175Z"
   },
   {
    "duration": 573,
    "start_time": "2023-06-27T12:36:54.507Z"
   },
   {
    "duration": 28,
    "start_time": "2023-06-27T12:36:55.081Z"
   },
   {
    "duration": 50615,
    "start_time": "2023-06-27T12:36:55.110Z"
   },
   {
    "duration": 29815,
    "start_time": "2023-06-27T12:37:45.726Z"
   },
   {
    "duration": 51495,
    "start_time": "2023-06-27T12:38:15.543Z"
   },
   {
    "duration": 359,
    "start_time": "2023-06-27T12:39:07.041Z"
   },
   {
    "duration": 5,
    "start_time": "2023-06-27T12:39:07.402Z"
   },
   {
    "duration": 40,
    "start_time": "2023-06-27T12:39:07.409Z"
   },
   {
    "duration": 4,
    "start_time": "2023-06-27T12:39:07.451Z"
   },
   {
    "duration": 5,
    "start_time": "2023-06-27T12:39:07.458Z"
   },
   {
    "duration": 9,
    "start_time": "2023-06-27T12:39:07.465Z"
   },
   {
    "duration": 7,
    "start_time": "2023-06-27T12:39:07.476Z"
   },
   {
    "duration": 18,
    "start_time": "2023-06-27T13:35:17.745Z"
   },
   {
    "duration": 17,
    "start_time": "2023-06-27T13:36:30.333Z"
   },
   {
    "duration": 17,
    "start_time": "2023-06-27T13:36:38.005Z"
   },
   {
    "duration": 19,
    "start_time": "2023-06-27T13:36:44.856Z"
   },
   {
    "duration": 17,
    "start_time": "2023-06-27T13:36:51.748Z"
   },
   {
    "duration": 23,
    "start_time": "2023-06-27T13:43:15.435Z"
   },
   {
    "duration": 17,
    "start_time": "2023-06-27T13:44:36.305Z"
   },
   {
    "duration": 15,
    "start_time": "2023-06-27T13:45:29.265Z"
   },
   {
    "duration": 4,
    "start_time": "2023-06-27T13:56:07.910Z"
   },
   {
    "duration": 4,
    "start_time": "2023-06-27T13:58:45.506Z"
   },
   {
    "duration": 1750,
    "start_time": "2023-06-27T13:58:45.511Z"
   },
   {
    "duration": 354,
    "start_time": "2023-06-27T13:58:47.263Z"
   },
   {
    "duration": 123,
    "start_time": "2023-06-27T13:58:47.619Z"
   },
   {
    "duration": 425,
    "start_time": "2023-06-27T13:58:47.744Z"
   },
   {
    "duration": 27,
    "start_time": "2023-06-27T13:58:48.170Z"
   },
   {
    "duration": 50114,
    "start_time": "2023-06-27T13:58:48.199Z"
   },
   {
    "duration": 30225,
    "start_time": "2023-06-27T13:59:38.315Z"
   },
   {
    "duration": 51339,
    "start_time": "2023-06-27T14:00:08.542Z"
   },
   {
    "duration": 372,
    "start_time": "2023-06-27T14:00:59.883Z"
   },
   {
    "duration": 4,
    "start_time": "2023-06-27T14:01:00.257Z"
   },
   {
    "duration": 98,
    "start_time": "2023-06-27T14:01:00.263Z"
   },
   {
    "duration": 36,
    "start_time": "2023-06-27T14:01:00.363Z"
   },
   {
    "duration": 49,
    "start_time": "2023-06-27T14:01:00.402Z"
   },
   {
    "duration": 31,
    "start_time": "2023-06-27T14:01:00.453Z"
   },
   {
    "duration": 34,
    "start_time": "2023-06-27T14:01:00.486Z"
   },
   {
    "duration": 79,
    "start_time": "2023-06-27T14:01:00.521Z"
   },
   {
    "duration": 34,
    "start_time": "2023-06-27T14:01:00.602Z"
   },
   {
    "duration": 83,
    "start_time": "2023-06-27T14:01:00.638Z"
   },
   {
    "duration": 35,
    "start_time": "2023-06-27T14:01:00.722Z"
   },
   {
    "duration": 36,
    "start_time": "2023-06-27T14:01:00.759Z"
   },
   {
    "duration": 41,
    "start_time": "2023-06-27T14:01:00.797Z"
   },
   {
    "duration": 12,
    "start_time": "2023-06-27T14:05:37.122Z"
   },
   {
    "duration": 136,
    "start_time": "2023-06-27T14:13:00.666Z"
   },
   {
    "duration": 4,
    "start_time": "2023-06-27T14:14:02.035Z"
   },
   {
    "duration": 1873,
    "start_time": "2023-06-27T14:14:02.040Z"
   },
   {
    "duration": 372,
    "start_time": "2023-06-27T14:14:03.914Z"
   },
   {
    "duration": 518,
    "start_time": "2023-06-27T14:14:04.288Z"
   },
   {
    "duration": 572,
    "start_time": "2023-06-27T14:14:04.808Z"
   },
   {
    "duration": 27,
    "start_time": "2023-06-27T14:14:05.381Z"
   },
   {
    "duration": 50104,
    "start_time": "2023-06-27T14:14:05.410Z"
   },
   {
    "duration": 30298,
    "start_time": "2023-06-27T14:14:55.516Z"
   },
   {
    "duration": 50876,
    "start_time": "2023-06-27T14:15:25.833Z"
   },
   {
    "duration": 323,
    "start_time": "2023-06-27T14:16:16.712Z"
   },
   {
    "duration": 4,
    "start_time": "2023-06-27T14:16:17.037Z"
   },
   {
    "duration": 40,
    "start_time": "2023-06-27T14:16:17.042Z"
   },
   {
    "duration": 4,
    "start_time": "2023-06-27T14:16:17.084Z"
   },
   {
    "duration": 5,
    "start_time": "2023-06-27T14:16:17.090Z"
   },
   {
    "duration": 12,
    "start_time": "2023-06-27T14:16:17.097Z"
   },
   {
    "duration": 8,
    "start_time": "2023-06-27T14:16:17.110Z"
   },
   {
    "duration": 43,
    "start_time": "2023-06-27T14:16:17.120Z"
   },
   {
    "duration": 3,
    "start_time": "2023-06-27T14:16:17.165Z"
   },
   {
    "duration": 42,
    "start_time": "2023-06-27T14:16:17.170Z"
   },
   {
    "duration": 15,
    "start_time": "2023-06-27T14:16:17.213Z"
   },
   {
    "duration": 12,
    "start_time": "2023-06-27T14:16:17.230Z"
   },
   {
    "duration": 12,
    "start_time": "2023-06-27T14:16:17.243Z"
   },
   {
    "duration": 133,
    "start_time": "2023-06-27T14:17:59.013Z"
   },
   {
    "duration": 13,
    "start_time": "2023-06-27T14:18:02.869Z"
   },
   {
    "duration": 4,
    "start_time": "2023-06-27T14:18:21.820Z"
   },
   {
    "duration": 1702,
    "start_time": "2023-06-27T14:18:21.827Z"
   },
   {
    "duration": 351,
    "start_time": "2023-06-27T14:18:23.531Z"
   },
   {
    "duration": 126,
    "start_time": "2023-06-27T14:18:23.883Z"
   },
   {
    "duration": 435,
    "start_time": "2023-06-27T14:18:24.011Z"
   },
   {
    "duration": 28,
    "start_time": "2023-06-27T14:18:24.448Z"
   },
   {
    "duration": 51283,
    "start_time": "2023-06-27T14:18:24.478Z"
   },
   {
    "duration": 30623,
    "start_time": "2023-06-27T14:19:15.763Z"
   },
   {
    "duration": 51801,
    "start_time": "2023-06-27T14:19:46.388Z"
   },
   {
    "duration": 325,
    "start_time": "2023-06-27T14:20:38.191Z"
   },
   {
    "duration": 4,
    "start_time": "2023-06-27T14:20:38.518Z"
   },
   {
    "duration": 38,
    "start_time": "2023-06-27T14:20:38.523Z"
   },
   {
    "duration": 5,
    "start_time": "2023-06-27T14:20:38.562Z"
   },
   {
    "duration": 11,
    "start_time": "2023-06-27T14:20:38.568Z"
   },
   {
    "duration": 14,
    "start_time": "2023-06-27T14:20:38.581Z"
   },
   {
    "duration": 9,
    "start_time": "2023-06-27T14:20:38.596Z"
   },
   {
    "duration": 42,
    "start_time": "2023-06-27T14:20:38.606Z"
   },
   {
    "duration": 4,
    "start_time": "2023-06-27T14:20:38.649Z"
   },
   {
    "duration": 38,
    "start_time": "2023-06-27T14:20:38.654Z"
   },
   {
    "duration": 13,
    "start_time": "2023-06-27T14:20:38.694Z"
   },
   {
    "duration": 23,
    "start_time": "2023-06-27T14:20:38.709Z"
   },
   {
    "duration": 13,
    "start_time": "2023-06-27T14:20:38.734Z"
   },
   {
    "duration": 278,
    "start_time": "2023-06-27T14:48:46.624Z"
   },
   {
    "duration": 6,
    "start_time": "2023-06-27T14:49:46.248Z"
   },
   {
    "duration": 1943,
    "start_time": "2023-06-27T14:49:46.256Z"
   },
   {
    "duration": 789,
    "start_time": "2023-06-27T14:49:48.200Z"
   },
   {
    "duration": 520,
    "start_time": "2023-06-27T14:49:48.990Z"
   },
   {
    "duration": 473,
    "start_time": "2023-06-27T14:49:49.512Z"
   },
   {
    "duration": 27,
    "start_time": "2023-06-27T14:49:49.987Z"
   },
   {
    "duration": 56498,
    "start_time": "2023-06-27T14:49:50.016Z"
   },
   {
    "duration": 33077,
    "start_time": "2023-06-27T14:50:46.516Z"
   },
   {
    "duration": 54970,
    "start_time": "2023-06-27T14:51:19.595Z"
   },
   {
    "duration": 398,
    "start_time": "2023-06-27T14:52:14.566Z"
   },
   {
    "duration": 4,
    "start_time": "2023-06-27T14:52:14.965Z"
   },
   {
    "duration": 33,
    "start_time": "2023-06-27T14:52:14.970Z"
   },
   {
    "duration": 4,
    "start_time": "2023-06-27T14:52:15.005Z"
   },
   {
    "duration": 53,
    "start_time": "2023-06-27T14:52:15.012Z"
   },
   {
    "duration": 55,
    "start_time": "2023-06-27T14:52:15.066Z"
   },
   {
    "duration": 39,
    "start_time": "2023-06-27T14:52:15.123Z"
   },
   {
    "duration": 55,
    "start_time": "2023-06-27T14:52:15.164Z"
   },
   {
    "duration": 3,
    "start_time": "2023-06-27T14:52:15.221Z"
   },
   {
    "duration": 61,
    "start_time": "2023-06-27T14:52:15.225Z"
   },
   {
    "duration": 14,
    "start_time": "2023-06-27T14:52:15.287Z"
   },
   {
    "duration": 10,
    "start_time": "2023-06-27T14:52:15.302Z"
   },
   {
    "duration": 7,
    "start_time": "2023-06-27T14:52:15.313Z"
   },
   {
    "duration": 4330,
    "start_time": "2023-06-27T14:52:15.322Z"
   },
   {
    "duration": 4249,
    "start_time": "2023-06-27T14:53:39.916Z"
   },
   {
    "duration": 4359,
    "start_time": "2023-06-27T14:53:57.223Z"
   },
   {
    "duration": 4836,
    "start_time": "2023-06-27T14:54:41.956Z"
   },
   {
    "duration": 4277,
    "start_time": "2023-06-27T14:54:56.950Z"
   },
   {
    "duration": 4417,
    "start_time": "2023-06-27T14:55:04.373Z"
   },
   {
    "duration": 5,
    "start_time": "2023-06-28T03:55:56.425Z"
   },
   {
    "duration": 488,
    "start_time": "2023-06-28T03:55:56.432Z"
   },
   {
    "duration": 0,
    "start_time": "2023-06-28T03:55:56.922Z"
   },
   {
    "duration": 0,
    "start_time": "2023-06-28T03:55:56.923Z"
   },
   {
    "duration": 0,
    "start_time": "2023-06-28T03:55:56.925Z"
   },
   {
    "duration": 0,
    "start_time": "2023-06-28T03:55:56.925Z"
   },
   {
    "duration": 0,
    "start_time": "2023-06-28T03:55:56.927Z"
   },
   {
    "duration": 0,
    "start_time": "2023-06-28T03:55:56.928Z"
   },
   {
    "duration": 0,
    "start_time": "2023-06-28T03:55:56.929Z"
   },
   {
    "duration": 0,
    "start_time": "2023-06-28T03:55:56.930Z"
   },
   {
    "duration": 0,
    "start_time": "2023-06-28T03:55:56.932Z"
   },
   {
    "duration": 0,
    "start_time": "2023-06-28T03:55:56.933Z"
   },
   {
    "duration": 0,
    "start_time": "2023-06-28T03:55:56.933Z"
   },
   {
    "duration": 0,
    "start_time": "2023-06-28T03:55:56.935Z"
   },
   {
    "duration": 0,
    "start_time": "2023-06-28T03:55:56.936Z"
   },
   {
    "duration": 0,
    "start_time": "2023-06-28T03:55:56.937Z"
   },
   {
    "duration": 0,
    "start_time": "2023-06-28T03:55:56.938Z"
   },
   {
    "duration": 0,
    "start_time": "2023-06-28T03:55:56.966Z"
   },
   {
    "duration": 0,
    "start_time": "2023-06-28T03:55:56.970Z"
   },
   {
    "duration": 0,
    "start_time": "2023-06-28T03:55:56.971Z"
   },
   {
    "duration": 0,
    "start_time": "2023-06-28T03:55:56.982Z"
   },
   {
    "duration": 0,
    "start_time": "2023-06-28T03:55:56.984Z"
   },
   {
    "duration": 0,
    "start_time": "2023-06-28T03:55:56.985Z"
   },
   {
    "duration": 18374,
    "start_time": "2023-06-28T03:57:02.150Z"
   },
   {
    "duration": 2491,
    "start_time": "2023-06-28T03:57:20.527Z"
   },
   {
    "duration": 1922,
    "start_time": "2023-06-28T03:57:23.021Z"
   },
   {
    "duration": 503,
    "start_time": "2023-06-28T03:57:24.945Z"
   },
   {
    "duration": 2061,
    "start_time": "2023-06-28T03:57:25.451Z"
   },
   {
    "duration": 35,
    "start_time": "2023-06-28T03:57:27.514Z"
   },
   {
    "duration": 60238,
    "start_time": "2023-06-28T03:57:27.551Z"
   },
   {
    "duration": 36736,
    "start_time": "2023-06-28T03:58:27.791Z"
   },
   {
    "duration": 61969,
    "start_time": "2023-06-28T03:59:04.530Z"
   },
   {
    "duration": 407,
    "start_time": "2023-06-28T04:00:06.502Z"
   },
   {
    "duration": 5,
    "start_time": "2023-06-28T04:00:06.911Z"
   },
   {
    "duration": 30,
    "start_time": "2023-06-28T04:00:06.918Z"
   },
   {
    "duration": 26,
    "start_time": "2023-06-28T04:00:06.950Z"
   },
   {
    "duration": 9,
    "start_time": "2023-06-28T04:00:06.979Z"
   },
   {
    "duration": 10,
    "start_time": "2023-06-28T04:00:06.990Z"
   },
   {
    "duration": 7,
    "start_time": "2023-06-28T04:00:07.002Z"
   },
   {
    "duration": 69,
    "start_time": "2023-06-28T04:00:07.011Z"
   },
   {
    "duration": 3,
    "start_time": "2023-06-28T04:00:07.083Z"
   },
   {
    "duration": 50,
    "start_time": "2023-06-28T04:00:07.088Z"
   },
   {
    "duration": 17,
    "start_time": "2023-06-28T04:00:07.140Z"
   },
   {
    "duration": 16,
    "start_time": "2023-06-28T04:00:07.158Z"
   },
   {
    "duration": 17,
    "start_time": "2023-06-28T04:00:07.177Z"
   },
   {
    "duration": 4592,
    "start_time": "2023-06-28T04:00:07.196Z"
   },
   {
    "duration": 4726,
    "start_time": "2023-06-28T05:11:37.408Z"
   },
   {
    "duration": 4710,
    "start_time": "2023-06-28T05:11:50.395Z"
   },
   {
    "duration": 5197,
    "start_time": "2023-06-28T05:12:10.056Z"
   },
   {
    "duration": 5102,
    "start_time": "2023-06-28T05:14:22.256Z"
   },
   {
    "duration": 591,
    "start_time": "2023-06-28T05:18:40.625Z"
   },
   {
    "duration": 862,
    "start_time": "2023-06-28T05:19:27.241Z"
   },
   {
    "duration": 2635,
    "start_time": "2023-06-28T05:19:44.489Z"
   },
   {
    "duration": 616,
    "start_time": "2023-06-28T05:20:28.730Z"
   },
   {
    "duration": 631,
    "start_time": "2023-06-28T06:36:56.946Z"
   },
   {
    "duration": 843,
    "start_time": "2023-06-28T06:37:14.545Z"
   },
   {
    "duration": 686,
    "start_time": "2023-06-28T06:37:23.017Z"
   },
   {
    "duration": 557,
    "start_time": "2023-06-28T07:08:53.570Z"
   },
   {
    "duration": 755,
    "start_time": "2023-06-28T07:11:22.525Z"
   },
   {
    "duration": 812,
    "start_time": "2023-06-28T07:13:52.013Z"
   },
   {
    "duration": 581,
    "start_time": "2023-06-28T07:19:16.327Z"
   },
   {
    "duration": 297,
    "start_time": "2023-06-28T07:21:44.893Z"
   },
   {
    "duration": 278,
    "start_time": "2023-06-28T07:22:10.526Z"
   },
   {
    "duration": 499,
    "start_time": "2023-06-28T07:23:10.127Z"
   },
   {
    "duration": 449,
    "start_time": "2023-06-28T07:23:50.230Z"
   },
   {
    "duration": 452,
    "start_time": "2023-06-28T07:24:07.509Z"
   },
   {
    "duration": 163,
    "start_time": "2023-06-28T07:26:08.974Z"
   },
   {
    "duration": 531,
    "start_time": "2023-06-28T07:26:28.497Z"
   },
   {
    "duration": 594,
    "start_time": "2023-06-28T07:26:50.678Z"
   },
   {
    "duration": 568,
    "start_time": "2023-06-28T07:30:43.054Z"
   },
   {
    "duration": 841,
    "start_time": "2023-06-28T07:32:56.967Z"
   },
   {
    "duration": 698,
    "start_time": "2023-06-28T07:33:15.655Z"
   },
   {
    "duration": 583,
    "start_time": "2023-06-28T07:34:16.352Z"
   },
   {
    "duration": 516,
    "start_time": "2023-06-28T07:38:09.302Z"
   },
   {
    "duration": 781,
    "start_time": "2023-06-28T07:38:52.402Z"
   },
   {
    "duration": 1084,
    "start_time": "2023-06-28T07:39:00.335Z"
   },
   {
    "duration": 578,
    "start_time": "2023-06-28T07:39:03.136Z"
   },
   {
    "duration": 504,
    "start_time": "2023-06-28T07:41:40.560Z"
   },
   {
    "duration": 754,
    "start_time": "2023-06-28T08:49:13.242Z"
   },
   {
    "duration": 656,
    "start_time": "2023-06-28T08:51:55.759Z"
   },
   {
    "duration": 1029,
    "start_time": "2023-06-28T08:58:42.661Z"
   },
   {
    "duration": 737,
    "start_time": "2023-06-28T08:59:07.440Z"
   },
   {
    "duration": 137,
    "start_time": "2023-06-28T09:15:39.003Z"
   },
   {
    "duration": 156,
    "start_time": "2023-06-28T09:15:58.707Z"
   },
   {
    "duration": 511,
    "start_time": "2023-06-28T09:16:37.356Z"
   },
   {
    "duration": 904,
    "start_time": "2023-06-28T09:17:58.207Z"
   },
   {
    "duration": 733,
    "start_time": "2023-06-28T09:18:29.858Z"
   },
   {
    "duration": 866,
    "start_time": "2023-06-28T09:18:39.010Z"
   },
   {
    "duration": 24,
    "start_time": "2023-06-28T09:32:07.636Z"
   },
   {
    "duration": 1487,
    "start_time": "2023-06-28T09:32:14.595Z"
   },
   {
    "duration": 43,
    "start_time": "2023-06-28T09:32:32.916Z"
   },
   {
    "duration": 39,
    "start_time": "2023-06-28T09:32:50.659Z"
   },
   {
    "duration": 1507,
    "start_time": "2023-06-28T09:35:49.804Z"
   },
   {
    "duration": 1584,
    "start_time": "2023-06-28T09:36:02.709Z"
   },
   {
    "duration": 1628,
    "start_time": "2023-06-28T09:37:05.761Z"
   },
   {
    "duration": 1450,
    "start_time": "2023-06-28T09:39:25.093Z"
   },
   {
    "duration": 1476,
    "start_time": "2023-06-28T09:39:55.860Z"
   },
   {
    "duration": 6,
    "start_time": "2023-06-28T09:40:47.734Z"
   },
   {
    "duration": 2324,
    "start_time": "2023-06-28T09:40:47.742Z"
   },
   {
    "duration": 394,
    "start_time": "2023-06-28T09:40:50.068Z"
   },
   {
    "duration": 118,
    "start_time": "2023-06-28T09:40:50.464Z"
   },
   {
    "duration": 789,
    "start_time": "2023-06-28T09:40:50.585Z"
   },
   {
    "duration": 52,
    "start_time": "2023-06-28T09:40:51.376Z"
   },
   {
    "duration": 61451,
    "start_time": "2023-06-28T09:40:51.430Z"
   },
   {
    "duration": 37303,
    "start_time": "2023-06-28T09:41:52.884Z"
   },
   {
    "duration": 63920,
    "start_time": "2023-06-28T09:42:30.190Z"
   },
   {
    "duration": 407,
    "start_time": "2023-06-28T09:43:34.113Z"
   },
   {
    "duration": 5,
    "start_time": "2023-06-28T09:43:34.522Z"
   },
   {
    "duration": 48,
    "start_time": "2023-06-28T09:43:34.529Z"
   },
   {
    "duration": 5,
    "start_time": "2023-06-28T09:43:34.579Z"
   },
   {
    "duration": 19,
    "start_time": "2023-06-28T09:43:34.588Z"
   },
   {
    "duration": 19,
    "start_time": "2023-06-28T09:43:34.610Z"
   },
   {
    "duration": 9,
    "start_time": "2023-06-28T09:43:34.632Z"
   },
   {
    "duration": 56,
    "start_time": "2023-06-28T09:43:34.643Z"
   },
   {
    "duration": 4,
    "start_time": "2023-06-28T09:43:34.701Z"
   },
   {
    "duration": 33,
    "start_time": "2023-06-28T09:43:34.707Z"
   },
   {
    "duration": 29,
    "start_time": "2023-06-28T09:43:34.743Z"
   },
   {
    "duration": 13,
    "start_time": "2023-06-28T09:43:34.774Z"
   },
   {
    "duration": 12,
    "start_time": "2023-06-28T09:43:34.790Z"
   },
   {
    "duration": 4827,
    "start_time": "2023-06-28T09:43:34.804Z"
   },
   {
    "duration": 609,
    "start_time": "2023-06-28T09:43:39.633Z"
   },
   {
    "duration": 451,
    "start_time": "2023-06-28T09:43:40.244Z"
   },
   {
    "duration": 37,
    "start_time": "2023-06-28T09:43:40.697Z"
   },
   {
    "duration": 1717,
    "start_time": "2023-06-28T09:43:40.736Z"
   },
   {
    "duration": 1332,
    "start_time": "2023-06-28T09:48:44.893Z"
   },
   {
    "duration": 1547,
    "start_time": "2023-06-28T09:49:14.516Z"
   },
   {
    "duration": 1568,
    "start_time": "2023-06-28T09:49:27.499Z"
   },
   {
    "duration": 1288,
    "start_time": "2023-06-28T09:49:42.486Z"
   },
   {
    "duration": 1496,
    "start_time": "2023-06-28T09:49:53.213Z"
   },
   {
    "duration": 1266,
    "start_time": "2023-06-28T09:50:30.222Z"
   },
   {
    "duration": 1351,
    "start_time": "2023-06-28T09:51:09.582Z"
   },
   {
    "duration": 1274,
    "start_time": "2023-06-28T09:51:20.646Z"
   },
   {
    "duration": 1596,
    "start_time": "2023-06-28T09:53:49.047Z"
   },
   {
    "duration": 30,
    "start_time": "2023-06-28T09:54:16.302Z"
   },
   {
    "duration": 231,
    "start_time": "2023-06-28T09:54:32.983Z"
   },
   {
    "duration": 27,
    "start_time": "2023-06-28T09:55:47.374Z"
   },
   {
    "duration": 25,
    "start_time": "2023-06-28T09:55:51.128Z"
   },
   {
    "duration": 1101,
    "start_time": "2023-06-28T09:56:18.447Z"
   },
   {
    "duration": 64,
    "start_time": "2023-06-28T09:56:43.382Z"
   },
   {
    "duration": 66,
    "start_time": "2023-06-28T09:56:55.519Z"
   },
   {
    "duration": 65,
    "start_time": "2023-06-28T09:56:59.654Z"
   },
   {
    "duration": 70,
    "start_time": "2023-06-28T09:57:12.742Z"
   },
   {
    "duration": 1476,
    "start_time": "2023-06-28T09:58:23.944Z"
   },
   {
    "duration": 181,
    "start_time": "2023-06-28T10:00:17.327Z"
   },
   {
    "duration": 240,
    "start_time": "2023-06-28T10:00:37.367Z"
   },
   {
    "duration": 226,
    "start_time": "2023-06-28T10:00:49.185Z"
   },
   {
    "duration": 220,
    "start_time": "2023-06-28T10:01:05.208Z"
   },
   {
    "duration": 658,
    "start_time": "2023-06-28T10:12:15.955Z"
   },
   {
    "duration": 525,
    "start_time": "2023-06-28T10:14:25.397Z"
   },
   {
    "duration": 520,
    "start_time": "2023-06-28T10:14:40.945Z"
   },
   {
    "duration": 473,
    "start_time": "2023-06-28T10:14:55.684Z"
   },
   {
    "duration": 14,
    "start_time": "2023-06-28T10:46:33.582Z"
   },
   {
    "duration": 5,
    "start_time": "2023-06-28T11:43:39.880Z"
   },
   {
    "duration": 585,
    "start_time": "2023-06-28T12:26:27.396Z"
   },
   {
    "duration": 647,
    "start_time": "2023-06-28T12:26:40.595Z"
   },
   {
    "duration": 19,
    "start_time": "2023-06-28T12:37:30.953Z"
   },
   {
    "duration": 6,
    "start_time": "2023-06-28T12:37:42.704Z"
   },
   {
    "duration": 2502,
    "start_time": "2023-06-28T12:37:42.713Z"
   },
   {
    "duration": 466,
    "start_time": "2023-06-28T12:37:45.217Z"
   },
   {
    "duration": 131,
    "start_time": "2023-06-28T12:37:45.685Z"
   },
   {
    "duration": 515,
    "start_time": "2023-06-28T12:37:45.820Z"
   },
   {
    "duration": 52,
    "start_time": "2023-06-28T12:37:46.337Z"
   },
   {
    "duration": 62364,
    "start_time": "2023-06-28T12:37:46.392Z"
   },
   {
    "duration": 37731,
    "start_time": "2023-06-28T12:38:48.770Z"
   },
   {
    "duration": 62903,
    "start_time": "2023-06-28T12:39:26.503Z"
   },
   {
    "duration": 432,
    "start_time": "2023-06-28T12:40:29.408Z"
   },
   {
    "duration": 5,
    "start_time": "2023-06-28T12:40:29.842Z"
   },
   {
    "duration": 50,
    "start_time": "2023-06-28T12:40:29.867Z"
   },
   {
    "duration": 6,
    "start_time": "2023-06-28T12:40:29.919Z"
   },
   {
    "duration": 6,
    "start_time": "2023-06-28T12:40:29.928Z"
   },
   {
    "duration": 36,
    "start_time": "2023-06-28T12:40:29.936Z"
   },
   {
    "duration": 25,
    "start_time": "2023-06-28T12:40:29.974Z"
   },
   {
    "duration": 114,
    "start_time": "2023-06-28T12:40:30.002Z"
   },
   {
    "duration": 22,
    "start_time": "2023-06-28T12:40:30.118Z"
   },
   {
    "duration": 75,
    "start_time": "2023-06-28T12:40:30.142Z"
   },
   {
    "duration": 43,
    "start_time": "2023-06-28T12:40:30.219Z"
   },
   {
    "duration": 75,
    "start_time": "2023-06-28T12:40:30.265Z"
   },
   {
    "duration": 80,
    "start_time": "2023-06-28T12:40:30.342Z"
   },
   {
    "duration": 5106,
    "start_time": "2023-06-28T12:40:30.424Z"
   },
   {
    "duration": 673,
    "start_time": "2023-06-28T12:40:35.532Z"
   },
   {
    "duration": 540,
    "start_time": "2023-06-28T12:40:36.208Z"
   },
   {
    "duration": 59,
    "start_time": "2023-06-28T12:40:36.750Z"
   },
   {
    "duration": 1327,
    "start_time": "2023-06-28T12:40:36.811Z"
   },
   {
    "duration": 223,
    "start_time": "2023-06-28T12:40:38.140Z"
   },
   {
    "duration": 14,
    "start_time": "2023-06-28T12:40:38.369Z"
   },
   {
    "duration": 26,
    "start_time": "2023-06-28T12:40:38.386Z"
   },
   {
    "duration": 29,
    "start_time": "2023-06-28T12:40:38.414Z"
   },
   {
    "duration": 4,
    "start_time": "2023-06-28T12:47:47.054Z"
   },
   {
    "duration": 2132,
    "start_time": "2023-06-28T12:47:47.060Z"
   },
   {
    "duration": 390,
    "start_time": "2023-06-28T12:47:49.194Z"
   },
   {
    "duration": 133,
    "start_time": "2023-06-28T12:47:49.587Z"
   },
   {
    "duration": 658,
    "start_time": "2023-06-28T12:47:49.722Z"
   },
   {
    "duration": 81,
    "start_time": "2023-06-28T12:47:50.389Z"
   },
   {
    "duration": 60844,
    "start_time": "2023-06-28T12:47:50.472Z"
   },
   {
    "duration": 38070,
    "start_time": "2023-06-28T12:48:51.317Z"
   },
   {
    "duration": 63102,
    "start_time": "2023-06-28T12:49:29.390Z"
   },
   {
    "duration": 448,
    "start_time": "2023-06-28T12:50:32.496Z"
   },
   {
    "duration": 7,
    "start_time": "2023-06-28T12:50:32.947Z"
   },
   {
    "duration": 55,
    "start_time": "2023-06-28T12:50:32.957Z"
   },
   {
    "duration": 5,
    "start_time": "2023-06-28T12:50:33.014Z"
   },
   {
    "duration": 21,
    "start_time": "2023-06-28T12:50:33.021Z"
   },
   {
    "duration": 39,
    "start_time": "2023-06-28T12:50:33.044Z"
   },
   {
    "duration": 28,
    "start_time": "2023-06-28T12:50:33.089Z"
   },
   {
    "duration": 52,
    "start_time": "2023-06-28T12:50:33.120Z"
   },
   {
    "duration": 15,
    "start_time": "2023-06-28T12:50:33.176Z"
   },
   {
    "duration": 46,
    "start_time": "2023-06-28T12:50:33.193Z"
   },
   {
    "duration": 21,
    "start_time": "2023-06-28T12:50:33.241Z"
   },
   {
    "duration": 17,
    "start_time": "2023-06-28T12:50:33.267Z"
   },
   {
    "duration": 17,
    "start_time": "2023-06-28T12:50:33.288Z"
   },
   {
    "duration": 4756,
    "start_time": "2023-06-28T12:50:33.307Z"
   },
   {
    "duration": 747,
    "start_time": "2023-06-28T12:50:38.067Z"
   },
   {
    "duration": 587,
    "start_time": "2023-06-28T12:50:38.817Z"
   },
   {
    "duration": 72,
    "start_time": "2023-06-28T12:50:39.406Z"
   },
   {
    "duration": 1618,
    "start_time": "2023-06-28T12:50:39.481Z"
   },
   {
    "duration": 238,
    "start_time": "2023-06-28T12:50:41.104Z"
   },
   {
    "duration": 9,
    "start_time": "2023-06-28T12:50:41.344Z"
   },
   {
    "duration": 28,
    "start_time": "2023-06-28T12:50:41.356Z"
   },
   {
    "duration": 30,
    "start_time": "2023-06-28T12:50:41.386Z"
   },
   {
    "duration": 6,
    "start_time": "2023-06-28T13:33:18.327Z"
   },
   {
    "duration": 196,
    "start_time": "2023-06-28T13:33:19.526Z"
   },
   {
    "duration": 4,
    "start_time": "2023-06-28T13:33:27.654Z"
   },
   {
    "duration": 17,
    "start_time": "2023-06-28T13:35:36.391Z"
   },
   {
    "duration": 9,
    "start_time": "2023-06-28T13:36:18.164Z"
   },
   {
    "duration": 2347,
    "start_time": "2023-06-28T13:36:18.176Z"
   },
   {
    "duration": 482,
    "start_time": "2023-06-28T13:36:20.525Z"
   },
   {
    "duration": 174,
    "start_time": "2023-06-28T13:36:21.010Z"
   },
   {
    "duration": 522,
    "start_time": "2023-06-28T13:36:21.191Z"
   },
   {
    "duration": 68,
    "start_time": "2023-06-28T13:36:21.715Z"
   },
   {
    "duration": 62344,
    "start_time": "2023-06-28T13:36:21.786Z"
   },
   {
    "duration": 38186,
    "start_time": "2023-06-28T13:37:24.133Z"
   },
   {
    "duration": 64891,
    "start_time": "2023-06-28T13:38:02.322Z"
   },
   {
    "duration": 471,
    "start_time": "2023-06-28T13:39:07.217Z"
   },
   {
    "duration": 6,
    "start_time": "2023-06-28T13:39:07.690Z"
   },
   {
    "duration": 27,
    "start_time": "2023-06-28T13:39:07.699Z"
   },
   {
    "duration": 6,
    "start_time": "2023-06-28T13:39:07.728Z"
   },
   {
    "duration": 15,
    "start_time": "2023-06-28T13:39:07.768Z"
   },
   {
    "duration": 14,
    "start_time": "2023-06-28T13:39:07.785Z"
   },
   {
    "duration": 10,
    "start_time": "2023-06-28T13:39:07.802Z"
   },
   {
    "duration": 60,
    "start_time": "2023-06-28T13:39:07.815Z"
   },
   {
    "duration": 22,
    "start_time": "2023-06-28T13:39:07.877Z"
   },
   {
    "duration": 107,
    "start_time": "2023-06-28T13:39:07.904Z"
   },
   {
    "duration": 73,
    "start_time": "2023-06-28T13:39:08.013Z"
   },
   {
    "duration": 20,
    "start_time": "2023-06-28T13:39:08.089Z"
   },
   {
    "duration": 17,
    "start_time": "2023-06-28T13:39:08.112Z"
   },
   {
    "duration": 5403,
    "start_time": "2023-06-28T13:39:08.131Z"
   },
   {
    "duration": 885,
    "start_time": "2023-06-28T13:39:13.536Z"
   },
   {
    "duration": 559,
    "start_time": "2023-06-28T13:39:14.427Z"
   },
   {
    "duration": 48,
    "start_time": "2023-06-28T13:39:14.988Z"
   },
   {
    "duration": 1442,
    "start_time": "2023-06-28T13:39:15.037Z"
   },
   {
    "duration": 254,
    "start_time": "2023-06-28T13:39:16.482Z"
   },
   {
    "duration": 9,
    "start_time": "2023-06-28T13:39:16.738Z"
   },
   {
    "duration": 21,
    "start_time": "2023-06-28T13:39:16.750Z"
   },
   {
    "duration": 4,
    "start_time": "2023-06-28T13:39:16.773Z"
   },
   {
    "duration": 10,
    "start_time": "2023-06-28T13:39:16.779Z"
   },
   {
    "duration": 2476,
    "start_time": "2023-06-28T13:39:16.791Z"
   },
   {
    "duration": 4,
    "start_time": "2023-06-28T18:25:44.838Z"
   },
   {
    "duration": 502,
    "start_time": "2023-06-28T18:25:44.844Z"
   },
   {
    "duration": 0,
    "start_time": "2023-06-28T18:25:45.349Z"
   },
   {
    "duration": 0,
    "start_time": "2023-06-28T18:25:45.350Z"
   },
   {
    "duration": 0,
    "start_time": "2023-06-28T18:25:45.351Z"
   },
   {
    "duration": 0,
    "start_time": "2023-06-28T18:25:45.352Z"
   },
   {
    "duration": 0,
    "start_time": "2023-06-28T18:25:45.353Z"
   },
   {
    "duration": 0,
    "start_time": "2023-06-28T18:25:45.354Z"
   },
   {
    "duration": 0,
    "start_time": "2023-06-28T18:25:45.355Z"
   },
   {
    "duration": 0,
    "start_time": "2023-06-28T18:25:45.376Z"
   },
   {
    "duration": 0,
    "start_time": "2023-06-28T18:25:45.378Z"
   },
   {
    "duration": 0,
    "start_time": "2023-06-28T18:25:45.379Z"
   },
   {
    "duration": 0,
    "start_time": "2023-06-28T18:25:45.380Z"
   },
   {
    "duration": 0,
    "start_time": "2023-06-28T18:25:45.382Z"
   },
   {
    "duration": 0,
    "start_time": "2023-06-28T18:25:45.384Z"
   },
   {
    "duration": 0,
    "start_time": "2023-06-28T18:25:45.385Z"
   },
   {
    "duration": 0,
    "start_time": "2023-06-28T18:25:45.386Z"
   },
   {
    "duration": 0,
    "start_time": "2023-06-28T18:25:45.388Z"
   },
   {
    "duration": 0,
    "start_time": "2023-06-28T18:25:45.389Z"
   },
   {
    "duration": 0,
    "start_time": "2023-06-28T18:25:45.392Z"
   },
   {
    "duration": 0,
    "start_time": "2023-06-28T18:25:45.393Z"
   },
   {
    "duration": 0,
    "start_time": "2023-06-28T18:25:45.394Z"
   },
   {
    "duration": 0,
    "start_time": "2023-06-28T18:25:45.395Z"
   },
   {
    "duration": 0,
    "start_time": "2023-06-28T18:25:45.397Z"
   },
   {
    "duration": 0,
    "start_time": "2023-06-28T18:25:45.397Z"
   },
   {
    "duration": 0,
    "start_time": "2023-06-28T18:25:45.398Z"
   },
   {
    "duration": 0,
    "start_time": "2023-06-28T18:25:45.399Z"
   },
   {
    "duration": 0,
    "start_time": "2023-06-28T18:25:45.400Z"
   },
   {
    "duration": 0,
    "start_time": "2023-06-28T18:25:45.401Z"
   },
   {
    "duration": 0,
    "start_time": "2023-06-28T18:25:45.402Z"
   },
   {
    "duration": 0,
    "start_time": "2023-06-28T18:25:45.403Z"
   },
   {
    "duration": 0,
    "start_time": "2023-06-28T18:25:45.404Z"
   },
   {
    "duration": 0,
    "start_time": "2023-06-28T18:25:45.405Z"
   },
   {
    "duration": 16580,
    "start_time": "2023-06-28T18:26:01.909Z"
   },
   {
    "duration": 2185,
    "start_time": "2023-06-28T18:26:18.492Z"
   },
   {
    "duration": 1012,
    "start_time": "2023-06-28T18:26:20.679Z"
   },
   {
    "duration": 229,
    "start_time": "2023-06-28T18:26:21.694Z"
   },
   {
    "duration": 1265,
    "start_time": "2023-06-28T18:26:21.925Z"
   },
   {
    "duration": 39,
    "start_time": "2023-06-28T18:26:23.191Z"
   },
   {
    "duration": 54404,
    "start_time": "2023-06-28T18:26:23.233Z"
   },
   {
    "duration": 33076,
    "start_time": "2023-06-28T18:27:17.639Z"
   },
   {
    "duration": 54945,
    "start_time": "2023-06-28T18:27:50.717Z"
   },
   {
    "duration": 373,
    "start_time": "2023-06-28T18:28:45.677Z"
   },
   {
    "duration": 7,
    "start_time": "2023-06-28T18:28:46.052Z"
   },
   {
    "duration": 28,
    "start_time": "2023-06-28T18:28:46.061Z"
   },
   {
    "duration": 6,
    "start_time": "2023-06-28T18:28:46.090Z"
   },
   {
    "duration": 20,
    "start_time": "2023-06-28T18:28:46.098Z"
   },
   {
    "duration": 15,
    "start_time": "2023-06-28T18:28:46.119Z"
   },
   {
    "duration": 22,
    "start_time": "2023-06-28T18:28:46.136Z"
   },
   {
    "duration": 57,
    "start_time": "2023-06-28T18:28:46.159Z"
   },
   {
    "duration": 4,
    "start_time": "2023-06-28T18:28:46.217Z"
   },
   {
    "duration": 30,
    "start_time": "2023-06-28T18:28:46.223Z"
   },
   {
    "duration": 16,
    "start_time": "2023-06-28T18:28:46.255Z"
   },
   {
    "duration": 19,
    "start_time": "2023-06-28T18:28:46.273Z"
   },
   {
    "duration": 10,
    "start_time": "2023-06-28T18:28:46.294Z"
   },
   {
    "duration": 4384,
    "start_time": "2023-06-28T18:28:46.306Z"
   },
   {
    "duration": 569,
    "start_time": "2023-06-28T18:28:50.692Z"
   },
   {
    "duration": 428,
    "start_time": "2023-06-28T18:28:51.263Z"
   },
   {
    "duration": 36,
    "start_time": "2023-06-28T18:28:51.694Z"
   },
   {
    "duration": 1387,
    "start_time": "2023-06-28T18:28:51.732Z"
   },
   {
    "duration": 207,
    "start_time": "2023-06-28T18:28:53.123Z"
   },
   {
    "duration": 9,
    "start_time": "2023-06-28T18:28:53.332Z"
   },
   {
    "duration": 7,
    "start_time": "2023-06-28T18:28:53.343Z"
   },
   {
    "duration": 9,
    "start_time": "2023-06-28T18:28:53.351Z"
   },
   {
    "duration": 14,
    "start_time": "2023-06-28T18:28:53.362Z"
   },
   {
    "duration": 1299,
    "start_time": "2023-06-28T18:28:53.378Z"
   },
   {
    "duration": 23,
    "start_time": "2023-06-28T18:56:13.704Z"
   },
   {
    "duration": 3,
    "start_time": "2023-06-28T18:56:17.287Z"
   },
   {
    "duration": 1253,
    "start_time": "2023-06-28T18:56:20.341Z"
   },
   {
    "duration": 134,
    "start_time": "2023-06-28T19:14:58.337Z"
   },
   {
    "duration": 11,
    "start_time": "2023-06-28T19:15:14.507Z"
   },
   {
    "duration": 10,
    "start_time": "2023-06-28T19:17:36.323Z"
   },
   {
    "duration": 10,
    "start_time": "2023-06-28T19:19:28.423Z"
   },
   {
    "duration": 18,
    "start_time": "2023-06-28T19:19:39.718Z"
   },
   {
    "duration": 14,
    "start_time": "2023-06-28T19:20:04.508Z"
   },
   {
    "duration": 18,
    "start_time": "2023-06-28T19:20:50.640Z"
   },
   {
    "duration": 10,
    "start_time": "2023-06-28T19:20:56.813Z"
   },
   {
    "duration": 137,
    "start_time": "2023-06-28T19:20:59.547Z"
   },
   {
    "duration": 19,
    "start_time": "2023-06-28T19:21:21.243Z"
   },
   {
    "duration": 12,
    "start_time": "2023-06-28T19:21:23.380Z"
   },
   {
    "duration": 3,
    "start_time": "2023-06-28T19:22:35.445Z"
   },
   {
    "duration": 1855,
    "start_time": "2023-06-28T19:22:35.450Z"
   },
   {
    "duration": 418,
    "start_time": "2023-06-28T19:22:37.307Z"
   },
   {
    "duration": 161,
    "start_time": "2023-06-28T19:22:37.727Z"
   },
   {
    "duration": 443,
    "start_time": "2023-06-28T19:22:37.890Z"
   },
   {
    "duration": 40,
    "start_time": "2023-06-28T19:22:38.335Z"
   },
   {
    "duration": 50932,
    "start_time": "2023-06-28T19:22:38.377Z"
   },
   {
    "duration": 31218,
    "start_time": "2023-06-28T19:23:29.310Z"
   },
   {
    "duration": 52903,
    "start_time": "2023-06-28T19:24:00.530Z"
   },
   {
    "duration": 328,
    "start_time": "2023-06-28T19:24:53.435Z"
   },
   {
    "duration": 10,
    "start_time": "2023-06-28T19:24:53.765Z"
   },
   {
    "duration": 24,
    "start_time": "2023-06-28T19:24:53.776Z"
   },
   {
    "duration": 39,
    "start_time": "2023-06-28T19:24:53.802Z"
   },
   {
    "duration": 29,
    "start_time": "2023-06-28T19:24:53.844Z"
   },
   {
    "duration": 28,
    "start_time": "2023-06-28T19:24:53.875Z"
   },
   {
    "duration": 14,
    "start_time": "2023-06-28T19:24:53.904Z"
   },
   {
    "duration": 45,
    "start_time": "2023-06-28T19:24:53.919Z"
   },
   {
    "duration": 3,
    "start_time": "2023-06-28T19:24:53.966Z"
   },
   {
    "duration": 33,
    "start_time": "2023-06-28T19:24:53.972Z"
   },
   {
    "duration": 14,
    "start_time": "2023-06-28T19:24:54.007Z"
   },
   {
    "duration": 16,
    "start_time": "2023-06-28T19:24:54.022Z"
   },
   {
    "duration": 17,
    "start_time": "2023-06-28T19:24:54.039Z"
   },
   {
    "duration": 4570,
    "start_time": "2023-06-28T19:24:54.058Z"
   },
   {
    "duration": 503,
    "start_time": "2023-06-28T19:24:58.629Z"
   },
   {
    "duration": 374,
    "start_time": "2023-06-28T19:24:59.134Z"
   },
   {
    "duration": 31,
    "start_time": "2023-06-28T19:24:59.510Z"
   },
   {
    "duration": 1334,
    "start_time": "2023-06-28T19:24:59.542Z"
   },
   {
    "duration": 184,
    "start_time": "2023-06-28T19:25:00.877Z"
   },
   {
    "duration": 23,
    "start_time": "2023-06-28T19:26:35.493Z"
   },
   {
    "duration": 27,
    "start_time": "2023-06-28T19:26:45.052Z"
   },
   {
    "duration": 5,
    "start_time": "2023-06-28T19:33:12.147Z"
   },
   {
    "duration": 6,
    "start_time": "2023-06-28T19:33:57.396Z"
   },
   {
    "duration": 5,
    "start_time": "2023-06-28T19:34:01.804Z"
   },
   {
    "duration": 5,
    "start_time": "2023-06-28T19:36:55.500Z"
   },
   {
    "duration": 166,
    "start_time": "2023-06-28T19:37:55.864Z"
   },
   {
    "duration": 5,
    "start_time": "2023-06-28T19:40:03.555Z"
   },
   {
    "duration": 14,
    "start_time": "2023-06-28T19:40:06.049Z"
   },
   {
    "duration": 5,
    "start_time": "2023-06-28T19:43:46.318Z"
   },
   {
    "duration": 63,
    "start_time": "2023-06-28T19:54:56.553Z"
   },
   {
    "duration": 34,
    "start_time": "2023-06-28T19:57:39.136Z"
   },
   {
    "duration": 87,
    "start_time": "2023-06-28T19:58:31.147Z"
   },
   {
    "duration": 70,
    "start_time": "2023-06-28T19:59:04.831Z"
   },
   {
    "duration": 65,
    "start_time": "2023-06-28T20:00:07.984Z"
   },
   {
    "duration": 59,
    "start_time": "2023-06-28T20:00:23.643Z"
   },
   {
    "duration": 4,
    "start_time": "2023-06-28T20:07:03.289Z"
   },
   {
    "duration": 4,
    "start_time": "2023-06-28T20:07:25.161Z"
   },
   {
    "duration": 3,
    "start_time": "2023-06-28T20:15:14.360Z"
   },
   {
    "duration": 11,
    "start_time": "2023-06-28T20:16:27.237Z"
   },
   {
    "duration": 4,
    "start_time": "2023-06-28T20:19:41.611Z"
   },
   {
    "duration": 3,
    "start_time": "2023-06-28T20:19:43.768Z"
   },
   {
    "duration": 3,
    "start_time": "2023-06-28T20:19:47.096Z"
   },
   {
    "duration": 4,
    "start_time": "2023-06-28T20:19:49.599Z"
   },
   {
    "duration": 3,
    "start_time": "2023-06-28T20:21:36.147Z"
   },
   {
    "duration": 2,
    "start_time": "2023-06-28T20:21:37.366Z"
   },
   {
    "duration": 2,
    "start_time": "2023-06-28T20:21:39.455Z"
   },
   {
    "duration": 4,
    "start_time": "2023-06-28T20:21:43.398Z"
   },
   {
    "duration": 1099,
    "start_time": "2023-06-28T20:24:23.187Z"
   },
   {
    "duration": 289798,
    "start_time": "2023-06-28T20:24:37.109Z"
   },
   {
    "duration": 11,
    "start_time": "2023-06-28T20:29:45.234Z"
   },
   {
    "duration": 10,
    "start_time": "2023-06-28T20:33:37.926Z"
   },
   {
    "duration": 13,
    "start_time": "2023-06-28T20:33:46.293Z"
   },
   {
    "duration": 3,
    "start_time": "2023-06-28T20:47:20.590Z"
   },
   {
    "duration": 1751,
    "start_time": "2023-06-28T20:47:20.595Z"
   },
   {
    "duration": 366,
    "start_time": "2023-06-28T20:47:22.347Z"
   },
   {
    "duration": 123,
    "start_time": "2023-06-28T20:47:22.715Z"
   },
   {
    "duration": 469,
    "start_time": "2023-06-28T20:47:22.840Z"
   },
   {
    "duration": 30,
    "start_time": "2023-06-28T20:47:23.311Z"
   },
   {
    "duration": 51207,
    "start_time": "2023-06-28T20:47:23.342Z"
   },
   {
    "duration": 30984,
    "start_time": "2023-06-28T20:48:14.550Z"
   },
   {
    "duration": 53971,
    "start_time": "2023-06-28T20:48:45.536Z"
   },
   {
    "duration": 373,
    "start_time": "2023-06-28T20:49:39.509Z"
   },
   {
    "duration": 8,
    "start_time": "2023-06-28T20:49:39.886Z"
   },
   {
    "duration": 23,
    "start_time": "2023-06-28T20:49:39.897Z"
   },
   {
    "duration": 4,
    "start_time": "2023-06-28T20:49:39.922Z"
   },
   {
    "duration": 7,
    "start_time": "2023-06-28T20:49:39.930Z"
   },
   {
    "duration": 9,
    "start_time": "2023-06-28T20:49:39.939Z"
   },
   {
    "duration": 6,
    "start_time": "2023-06-28T20:49:39.950Z"
   },
   {
    "duration": 50,
    "start_time": "2023-06-28T20:49:39.958Z"
   },
   {
    "duration": 4,
    "start_time": "2023-06-28T20:49:40.010Z"
   },
   {
    "duration": 35,
    "start_time": "2023-06-28T20:49:40.016Z"
   },
   {
    "duration": 26,
    "start_time": "2023-06-28T20:49:40.053Z"
   },
   {
    "duration": 11,
    "start_time": "2023-06-28T20:49:40.083Z"
   },
   {
    "duration": 7,
    "start_time": "2023-06-28T20:49:40.096Z"
   },
   {
    "duration": 4658,
    "start_time": "2023-06-28T20:49:40.105Z"
   },
   {
    "duration": 625,
    "start_time": "2023-06-28T20:49:44.765Z"
   },
   {
    "duration": 422,
    "start_time": "2023-06-28T20:49:45.392Z"
   },
   {
    "duration": 33,
    "start_time": "2023-06-28T20:49:45.815Z"
   },
   {
    "duration": 1486,
    "start_time": "2023-06-28T20:49:45.849Z"
   },
   {
    "duration": 219,
    "start_time": "2023-06-28T20:49:47.337Z"
   },
   {
    "duration": 3,
    "start_time": "2023-06-28T20:49:47.558Z"
   },
   {
    "duration": 22,
    "start_time": "2023-06-28T20:49:47.562Z"
   },
   {
    "duration": 8,
    "start_time": "2023-06-28T20:49:47.592Z"
   },
   {
    "duration": 14,
    "start_time": "2023-06-28T20:49:47.602Z"
   },
   {
    "duration": 16,
    "start_time": "2023-06-28T20:49:47.618Z"
   },
   {
    "duration": 6,
    "start_time": "2023-06-28T20:49:47.636Z"
   },
   {
    "duration": 46,
    "start_time": "2023-06-28T20:49:47.643Z"
   },
   {
    "duration": 68,
    "start_time": "2023-06-28T20:49:47.691Z"
   },
   {
    "duration": 71,
    "start_time": "2023-06-28T20:49:47.761Z"
   },
   {
    "duration": 97,
    "start_time": "2023-06-28T20:49:47.834Z"
   },
   {
    "duration": 85,
    "start_time": "2023-06-28T20:49:47.933Z"
   },
   {
    "duration": 6,
    "start_time": "2023-06-28T20:49:48.019Z"
   },
   {
    "duration": 7,
    "start_time": "2023-06-28T20:49:48.028Z"
   },
   {
    "duration": 11,
    "start_time": "2023-06-28T20:49:48.036Z"
   },
   {
    "duration": 10,
    "start_time": "2023-06-28T20:49:48.049Z"
   },
   {
    "duration": 6,
    "start_time": "2023-06-28T20:49:48.060Z"
   },
   {
    "duration": 14,
    "start_time": "2023-06-28T20:49:48.068Z"
   },
   {
    "duration": 298831,
    "start_time": "2023-06-28T20:49:48.092Z"
   },
   {
    "duration": 17,
    "start_time": "2023-06-28T20:54:46.925Z"
   },
   {
    "duration": 14,
    "start_time": "2023-06-29T04:26:51.073Z"
   },
   {
    "duration": 741,
    "start_time": "2023-06-29T04:26:51.101Z"
   },
   {
    "duration": 0,
    "start_time": "2023-06-29T04:26:51.850Z"
   },
   {
    "duration": 0,
    "start_time": "2023-06-29T04:26:51.855Z"
   },
   {
    "duration": 0,
    "start_time": "2023-06-29T04:26:51.860Z"
   },
   {
    "duration": 0,
    "start_time": "2023-06-29T04:26:51.864Z"
   },
   {
    "duration": 0,
    "start_time": "2023-06-29T04:26:51.868Z"
   },
   {
    "duration": 0,
    "start_time": "2023-06-29T04:26:51.870Z"
   },
   {
    "duration": 0,
    "start_time": "2023-06-29T04:26:51.874Z"
   },
   {
    "duration": 0,
    "start_time": "2023-06-29T04:26:51.876Z"
   },
   {
    "duration": 0,
    "start_time": "2023-06-29T04:26:51.877Z"
   },
   {
    "duration": 0,
    "start_time": "2023-06-29T04:26:51.878Z"
   },
   {
    "duration": 0,
    "start_time": "2023-06-29T04:26:51.885Z"
   },
   {
    "duration": 0,
    "start_time": "2023-06-29T04:26:51.886Z"
   },
   {
    "duration": 0,
    "start_time": "2023-06-29T04:26:51.887Z"
   },
   {
    "duration": 0,
    "start_time": "2023-06-29T04:26:51.888Z"
   },
   {
    "duration": 0,
    "start_time": "2023-06-29T04:26:51.889Z"
   },
   {
    "duration": 0,
    "start_time": "2023-06-29T04:26:51.890Z"
   },
   {
    "duration": 0,
    "start_time": "2023-06-29T04:26:51.892Z"
   },
   {
    "duration": 0,
    "start_time": "2023-06-29T04:26:51.893Z"
   },
   {
    "duration": 0,
    "start_time": "2023-06-29T04:26:51.894Z"
   },
   {
    "duration": 1,
    "start_time": "2023-06-29T04:26:51.897Z"
   },
   {
    "duration": 0,
    "start_time": "2023-06-29T04:26:51.899Z"
   },
   {
    "duration": 0,
    "start_time": "2023-06-29T04:26:51.900Z"
   },
   {
    "duration": 0,
    "start_time": "2023-06-29T04:26:51.906Z"
   },
   {
    "duration": 0,
    "start_time": "2023-06-29T04:26:51.907Z"
   },
   {
    "duration": 0,
    "start_time": "2023-06-29T04:26:51.909Z"
   },
   {
    "duration": 0,
    "start_time": "2023-06-29T04:26:51.910Z"
   },
   {
    "duration": 0,
    "start_time": "2023-06-29T04:26:51.911Z"
   },
   {
    "duration": 0,
    "start_time": "2023-06-29T04:26:51.917Z"
   },
   {
    "duration": 0,
    "start_time": "2023-06-29T04:26:51.918Z"
   },
   {
    "duration": 0,
    "start_time": "2023-06-29T04:26:51.919Z"
   },
   {
    "duration": 0,
    "start_time": "2023-06-29T04:26:51.920Z"
   },
   {
    "duration": 0,
    "start_time": "2023-06-29T04:26:51.921Z"
   },
   {
    "duration": 0,
    "start_time": "2023-06-29T04:26:51.922Z"
   },
   {
    "duration": 0,
    "start_time": "2023-06-29T04:26:51.923Z"
   },
   {
    "duration": 0,
    "start_time": "2023-06-29T04:26:51.926Z"
   },
   {
    "duration": 0,
    "start_time": "2023-06-29T04:26:51.929Z"
   },
   {
    "duration": 0,
    "start_time": "2023-06-29T04:26:51.931Z"
   },
   {
    "duration": 0,
    "start_time": "2023-06-29T04:26:51.932Z"
   },
   {
    "duration": 0,
    "start_time": "2023-06-29T04:26:51.941Z"
   },
   {
    "duration": 0,
    "start_time": "2023-06-29T04:26:51.942Z"
   },
   {
    "duration": 0,
    "start_time": "2023-06-29T04:26:51.942Z"
   },
   {
    "duration": 0,
    "start_time": "2023-06-29T04:26:51.942Z"
   },
   {
    "duration": 0,
    "start_time": "2023-06-29T04:26:51.943Z"
   },
   {
    "duration": 0,
    "start_time": "2023-06-29T04:26:51.953Z"
   },
   {
    "duration": 0,
    "start_time": "2023-06-29T04:26:51.953Z"
   },
   {
    "duration": 26573,
    "start_time": "2023-06-29T04:27:12.316Z"
   },
   {
    "duration": 3367,
    "start_time": "2023-06-29T04:27:38.891Z"
   },
   {
    "duration": 2384,
    "start_time": "2023-06-29T04:27:42.260Z"
   },
   {
    "duration": 1515,
    "start_time": "2023-06-29T04:27:44.646Z"
   },
   {
    "duration": 3687,
    "start_time": "2023-06-29T04:27:46.166Z"
   },
   {
    "duration": 72,
    "start_time": "2023-06-29T04:27:49.860Z"
   },
   {
    "duration": 65196,
    "start_time": "2023-06-29T04:27:49.949Z"
   },
   {
    "duration": 38627,
    "start_time": "2023-06-29T04:28:55.146Z"
   },
   {
    "duration": 62779,
    "start_time": "2023-06-29T04:29:33.775Z"
   },
   {
    "duration": 413,
    "start_time": "2023-06-29T04:30:36.556Z"
   },
   {
    "duration": 9,
    "start_time": "2023-06-29T04:30:36.970Z"
   },
   {
    "duration": 145,
    "start_time": "2023-06-29T04:30:36.980Z"
   },
   {
    "duration": 100,
    "start_time": "2023-06-29T04:30:37.126Z"
   },
   {
    "duration": 126,
    "start_time": "2023-06-29T04:30:37.229Z"
   },
   {
    "duration": 113,
    "start_time": "2023-06-29T04:30:37.357Z"
   },
   {
    "duration": 142,
    "start_time": "2023-06-29T04:30:37.472Z"
   },
   {
    "duration": 151,
    "start_time": "2023-06-29T04:30:37.616Z"
   },
   {
    "duration": 93,
    "start_time": "2023-06-29T04:30:37.769Z"
   },
   {
    "duration": 145,
    "start_time": "2023-06-29T04:30:37.863Z"
   },
   {
    "duration": 173,
    "start_time": "2023-06-29T04:30:38.010Z"
   },
   {
    "duration": 186,
    "start_time": "2023-06-29T04:30:38.184Z"
   },
   {
    "duration": 195,
    "start_time": "2023-06-29T04:30:38.372Z"
   },
   {
    "duration": 7931,
    "start_time": "2023-06-29T04:30:38.581Z"
   },
   {
    "duration": 857,
    "start_time": "2023-06-29T04:30:46.518Z"
   },
   {
    "duration": 600,
    "start_time": "2023-06-29T04:30:47.377Z"
   },
   {
    "duration": 55,
    "start_time": "2023-06-29T04:30:47.982Z"
   },
   {
    "duration": 2511,
    "start_time": "2023-06-29T04:30:48.043Z"
   },
   {
    "duration": 278,
    "start_time": "2023-06-29T04:30:50.555Z"
   },
   {
    "duration": 10,
    "start_time": "2023-06-29T04:30:50.835Z"
   },
   {
    "duration": 154,
    "start_time": "2023-06-29T04:30:50.847Z"
   },
   {
    "duration": 206,
    "start_time": "2023-06-29T04:30:51.009Z"
   },
   {
    "duration": 215,
    "start_time": "2023-06-29T04:30:51.218Z"
   },
   {
    "duration": 194,
    "start_time": "2023-06-29T04:30:51.438Z"
   },
   {
    "duration": 177,
    "start_time": "2023-06-29T04:30:51.636Z"
   },
   {
    "duration": 213,
    "start_time": "2023-06-29T04:30:51.818Z"
   },
   {
    "duration": 333,
    "start_time": "2023-06-29T04:30:52.036Z"
   },
   {
    "duration": 144,
    "start_time": "2023-06-29T04:30:52.380Z"
   },
   {
    "duration": 245,
    "start_time": "2023-06-29T04:30:52.528Z"
   },
   {
    "duration": 137,
    "start_time": "2023-06-29T04:30:52.781Z"
   },
   {
    "duration": 19,
    "start_time": "2023-06-29T04:30:52.922Z"
   },
   {
    "duration": 109,
    "start_time": "2023-06-29T04:30:52.952Z"
   },
   {
    "duration": 150,
    "start_time": "2023-06-29T04:30:53.065Z"
   },
   {
    "duration": 131,
    "start_time": "2023-06-29T04:30:53.220Z"
   },
   {
    "duration": 121,
    "start_time": "2023-06-29T04:30:53.352Z"
   },
   {
    "duration": 143,
    "start_time": "2023-06-29T04:30:53.474Z"
   },
   {
    "duration": 449112,
    "start_time": "2023-06-29T04:30:53.621Z"
   },
   {
    "duration": 13,
    "start_time": "2023-06-29T04:38:22.750Z"
   },
   {
    "duration": 241,
    "start_time": "2023-06-29T04:46:37.524Z"
   },
   {
    "duration": 30,
    "start_time": "2023-06-29T04:46:53.730Z"
   },
   {
    "duration": 755,
    "start_time": "2023-06-29T04:47:27.942Z"
   },
   {
    "duration": 24,
    "start_time": "2023-06-29T04:47:45.717Z"
   },
   {
    "duration": 8,
    "start_time": "2023-06-29T04:47:49.865Z"
   },
   {
    "duration": 351698,
    "start_time": "2023-06-29T04:50:12.164Z"
   },
   {
    "duration": 4,
    "start_time": "2023-06-29T04:59:54.036Z"
   },
   {
    "duration": 1793,
    "start_time": "2023-06-29T04:59:54.042Z"
   },
   {
    "duration": 461,
    "start_time": "2023-06-29T04:59:55.837Z"
   },
   {
    "duration": 130,
    "start_time": "2023-06-29T04:59:56.314Z"
   },
   {
    "duration": 451,
    "start_time": "2023-06-29T04:59:56.446Z"
   },
   {
    "duration": 27,
    "start_time": "2023-06-29T04:59:56.899Z"
   },
   {
    "duration": 10,
    "start_time": "2023-06-29T04:59:56.928Z"
   },
   {
    "duration": 5,
    "start_time": "2023-06-29T04:59:56.939Z"
   },
   {
    "duration": 4,
    "start_time": "2023-06-29T04:59:56.945Z"
   },
   {
    "duration": 357,
    "start_time": "2023-06-29T04:59:56.951Z"
   },
   {
    "duration": 11,
    "start_time": "2023-06-29T04:59:57.313Z"
   },
   {
    "duration": 30,
    "start_time": "2023-06-29T04:59:57.330Z"
   },
   {
    "duration": 4,
    "start_time": "2023-06-29T04:59:57.361Z"
   },
   {
    "duration": 15,
    "start_time": "2023-06-29T04:59:57.366Z"
   },
   {
    "duration": 42,
    "start_time": "2023-06-29T04:59:57.382Z"
   },
   {
    "duration": 11,
    "start_time": "2023-06-29T04:59:57.425Z"
   },
   {
    "duration": 39,
    "start_time": "2023-06-29T04:59:57.437Z"
   },
   {
    "duration": 3,
    "start_time": "2023-06-29T04:59:57.478Z"
   },
   {
    "duration": 34,
    "start_time": "2023-06-29T04:59:57.483Z"
   },
   {
    "duration": 43,
    "start_time": "2023-06-29T04:59:57.518Z"
   },
   {
    "duration": 7,
    "start_time": "2023-06-29T04:59:57.563Z"
   },
   {
    "duration": 13,
    "start_time": "2023-06-29T04:59:57.572Z"
   },
   {
    "duration": 4691,
    "start_time": "2023-06-29T04:59:57.586Z"
   },
   {
    "duration": 595,
    "start_time": "2023-06-29T05:00:02.278Z"
   },
   {
    "duration": 402,
    "start_time": "2023-06-29T05:00:02.874Z"
   },
   {
    "duration": 43,
    "start_time": "2023-06-29T05:00:03.278Z"
   },
   {
    "duration": 1412,
    "start_time": "2023-06-29T05:00:03.330Z"
   },
   {
    "duration": 332,
    "start_time": "2023-06-29T05:00:04.745Z"
   },
   {
    "duration": 3,
    "start_time": "2023-06-29T05:00:05.078Z"
   },
   {
    "duration": 50,
    "start_time": "2023-06-29T05:00:05.082Z"
   },
   {
    "duration": 6,
    "start_time": "2023-06-29T05:00:05.133Z"
   },
   {
    "duration": 7,
    "start_time": "2023-06-29T05:00:05.141Z"
   },
   {
    "duration": 16,
    "start_time": "2023-06-29T05:00:05.150Z"
   },
   {
    "duration": 3,
    "start_time": "2023-06-29T05:00:05.168Z"
   },
   {
    "duration": 48,
    "start_time": "2023-06-29T05:00:05.173Z"
   },
   {
    "duration": 59,
    "start_time": "2023-06-29T05:00:05.229Z"
   },
   {
    "duration": 55,
    "start_time": "2023-06-29T05:00:05.290Z"
   },
   {
    "duration": 98,
    "start_time": "2023-06-29T05:00:05.347Z"
   },
   {
    "duration": 79,
    "start_time": "2023-06-29T05:00:05.447Z"
   },
   {
    "duration": 7,
    "start_time": "2023-06-29T05:00:05.527Z"
   },
   {
    "duration": 29,
    "start_time": "2023-06-29T05:00:05.536Z"
   },
   {
    "duration": 14,
    "start_time": "2023-06-29T05:00:05.567Z"
   },
   {
    "duration": 59,
    "start_time": "2023-06-29T05:00:05.583Z"
   },
   {
    "duration": 8,
    "start_time": "2023-06-29T05:00:05.643Z"
   },
   {
    "duration": 7,
    "start_time": "2023-06-29T05:00:05.652Z"
   },
   {
    "duration": 5,
    "start_time": "2023-06-29T05:00:05.661Z"
   },
   {
    "duration": 171,
    "start_time": "2023-06-29T05:00:05.667Z"
   },
   {
    "duration": 0,
    "start_time": "2023-06-29T05:00:05.840Z"
   },
   {
    "duration": 316706,
    "start_time": "2023-06-29T05:00:30.623Z"
   },
   {
    "duration": 12,
    "start_time": "2023-06-29T05:07:21.018Z"
   },
   {
    "duration": 14,
    "start_time": "2023-06-29T05:09:50.124Z"
   },
   {
    "duration": 7,
    "start_time": "2023-06-29T05:10:04.730Z"
   },
   {
    "duration": 5,
    "start_time": "2023-06-29T05:13:02.324Z"
   },
   {
    "duration": 317173,
    "start_time": "2023-06-29T05:13:07.150Z"
   },
   {
    "duration": 9,
    "start_time": "2023-06-29T05:19:32.625Z"
   },
   {
    "duration": 4,
    "start_time": "2023-06-29T05:37:32.347Z"
   },
   {
    "duration": 11,
    "start_time": "2023-06-29T05:40:51.922Z"
   },
   {
    "duration": 12,
    "start_time": "2023-06-29T05:47:41.320Z"
   },
   {
    "duration": 7022,
    "start_time": "2023-06-29T05:47:55.321Z"
   },
   {
    "duration": 3,
    "start_time": "2023-06-29T05:53:45.437Z"
   },
   {
    "duration": 3701,
    "start_time": "2023-06-29T05:53:47.053Z"
   },
   {
    "duration": 853,
    "start_time": "2023-06-29T05:55:17.669Z"
   },
   {
    "duration": 933,
    "start_time": "2023-06-29T05:55:47.293Z"
   },
   {
    "duration": 7724,
    "start_time": "2023-06-29T05:58:39.030Z"
   },
   {
    "duration": 1609,
    "start_time": "2023-06-29T05:59:41.514Z"
   },
   {
    "duration": 9,
    "start_time": "2023-06-29T06:01:30.833Z"
   },
   {
    "duration": 11,
    "start_time": "2023-06-29T06:01:38.762Z"
   },
   {
    "duration": 3,
    "start_time": "2023-06-29T06:02:27.128Z"
   },
   {
    "duration": 3,
    "start_time": "2023-06-29T06:12:44.543Z"
   },
   {
    "duration": 255414,
    "start_time": "2023-06-29T06:15:18.391Z"
   },
   {
    "duration": 7,
    "start_time": "2023-06-29T06:19:33.806Z"
   },
   {
    "duration": 17,
    "start_time": "2023-06-29T06:19:48.128Z"
   },
   {
    "duration": 35211,
    "start_time": "2023-06-29T06:19:52.575Z"
   },
   {
    "duration": 762,
    "start_time": "2023-06-29T06:20:54.622Z"
   },
   {
    "duration": 44327,
    "start_time": "2023-06-29T06:22:31.221Z"
   },
   {
    "duration": 663,
    "start_time": "2023-06-29T06:23:15.550Z"
   },
   {
    "duration": 4,
    "start_time": "2023-06-29T06:23:53.227Z"
   },
   {
    "duration": 19,
    "start_time": "2023-06-29T06:41:35.926Z"
   },
   {
    "duration": 4,
    "start_time": "2023-06-29T06:50:06.992Z"
   },
   {
    "duration": 1966,
    "start_time": "2023-06-29T06:50:06.998Z"
   },
   {
    "duration": 485,
    "start_time": "2023-06-29T06:50:08.966Z"
   },
   {
    "duration": 191,
    "start_time": "2023-06-29T06:50:09.458Z"
   },
   {
    "duration": 439,
    "start_time": "2023-06-29T06:50:09.652Z"
   },
   {
    "duration": 71,
    "start_time": "2023-06-29T06:50:10.092Z"
   },
   {
    "duration": 3,
    "start_time": "2023-06-29T06:50:10.164Z"
   },
   {
    "duration": 24,
    "start_time": "2023-06-29T06:50:10.168Z"
   },
   {
    "duration": 63,
    "start_time": "2023-06-29T06:50:10.194Z"
   },
   {
    "duration": 461,
    "start_time": "2023-06-29T06:50:10.260Z"
   },
   {
    "duration": 7,
    "start_time": "2023-06-29T06:50:10.722Z"
   },
   {
    "duration": 53,
    "start_time": "2023-06-29T06:50:10.730Z"
   },
   {
    "duration": 5,
    "start_time": "2023-06-29T06:50:10.785Z"
   },
   {
    "duration": 62,
    "start_time": "2023-06-29T06:50:10.792Z"
   },
   {
    "duration": 10,
    "start_time": "2023-06-29T06:50:10.856Z"
   },
   {
    "duration": 10,
    "start_time": "2023-06-29T06:50:10.867Z"
   },
   {
    "duration": 70,
    "start_time": "2023-06-29T06:50:10.879Z"
   },
   {
    "duration": 7,
    "start_time": "2023-06-29T06:50:10.954Z"
   },
   {
    "duration": 36,
    "start_time": "2023-06-29T06:50:10.962Z"
   },
   {
    "duration": 37,
    "start_time": "2023-06-29T06:50:11.010Z"
   },
   {
    "duration": 16,
    "start_time": "2023-06-29T06:50:11.052Z"
   },
   {
    "duration": 17,
    "start_time": "2023-06-29T06:50:11.069Z"
   },
   {
    "duration": 4938,
    "start_time": "2023-06-29T06:50:11.087Z"
   },
   {
    "duration": 656,
    "start_time": "2023-06-29T06:50:16.038Z"
   },
   {
    "duration": 430,
    "start_time": "2023-06-29T06:50:16.695Z"
   },
   {
    "duration": 35,
    "start_time": "2023-06-29T06:50:17.138Z"
   },
   {
    "duration": 1542,
    "start_time": "2023-06-29T06:50:17.175Z"
   },
   {
    "duration": 359,
    "start_time": "2023-06-29T06:50:18.721Z"
   },
   {
    "duration": 2,
    "start_time": "2023-06-29T06:50:19.081Z"
   },
   {
    "duration": 78,
    "start_time": "2023-06-29T06:50:19.085Z"
   },
   {
    "duration": 22,
    "start_time": "2023-06-29T06:50:19.165Z"
   },
   {
    "duration": 63,
    "start_time": "2023-06-29T06:50:19.188Z"
   },
   {
    "duration": 28,
    "start_time": "2023-06-29T06:50:19.252Z"
   },
   {
    "duration": 68,
    "start_time": "2023-06-29T06:50:19.282Z"
   },
   {
    "duration": 38,
    "start_time": "2023-06-29T06:50:19.352Z"
   },
   {
    "duration": 122,
    "start_time": "2023-06-29T06:50:19.391Z"
   },
   {
    "duration": 61,
    "start_time": "2023-06-29T06:50:19.514Z"
   },
   {
    "duration": 109,
    "start_time": "2023-06-29T06:50:19.576Z"
   },
   {
    "duration": 87,
    "start_time": "2023-06-29T06:50:19.687Z"
   },
   {
    "duration": 3,
    "start_time": "2023-06-29T06:50:19.776Z"
   },
   {
    "duration": 14,
    "start_time": "2023-06-29T06:50:19.781Z"
   },
   {
    "duration": 66,
    "start_time": "2023-06-29T06:50:19.797Z"
   },
   {
    "duration": 81,
    "start_time": "2023-06-29T06:50:19.864Z"
   },
   {
    "duration": 25,
    "start_time": "2023-06-29T06:50:19.950Z"
   },
   {
    "duration": 8,
    "start_time": "2023-06-29T06:50:19.977Z"
   },
   {
    "duration": 46,
    "start_time": "2023-06-29T06:50:19.986Z"
   },
   {
    "duration": 0,
    "start_time": "2023-06-29T06:50:20.033Z"
   },
   {
    "duration": 0,
    "start_time": "2023-06-29T06:50:20.034Z"
   },
   {
    "duration": 0,
    "start_time": "2023-06-29T06:50:20.035Z"
   },
   {
    "duration": 0,
    "start_time": "2023-06-29T06:50:20.036Z"
   },
   {
    "duration": 0,
    "start_time": "2023-06-29T06:50:20.037Z"
   },
   {
    "duration": 0,
    "start_time": "2023-06-29T06:50:20.038Z"
   },
   {
    "duration": 0,
    "start_time": "2023-06-29T06:50:20.039Z"
   },
   {
    "duration": 0,
    "start_time": "2023-06-29T06:50:20.040Z"
   },
   {
    "duration": 0,
    "start_time": "2023-06-29T06:50:20.043Z"
   },
   {
    "duration": 0,
    "start_time": "2023-06-29T06:50:20.043Z"
   },
   {
    "duration": 0,
    "start_time": "2023-06-29T06:50:20.044Z"
   },
   {
    "duration": 0,
    "start_time": "2023-06-29T06:50:20.044Z"
   },
   {
    "duration": 0,
    "start_time": "2023-06-29T06:50:20.045Z"
   },
   {
    "duration": 0,
    "start_time": "2023-06-29T06:50:20.045Z"
   },
   {
    "duration": 0,
    "start_time": "2023-06-29T06:50:20.046Z"
   },
   {
    "duration": 0,
    "start_time": "2023-06-29T06:50:20.046Z"
   },
   {
    "duration": 0,
    "start_time": "2023-06-29T06:50:20.047Z"
   },
   {
    "duration": 0,
    "start_time": "2023-06-29T06:50:20.047Z"
   },
   {
    "duration": 1,
    "start_time": "2023-06-29T06:50:20.047Z"
   },
   {
    "duration": 0,
    "start_time": "2023-06-29T06:50:20.048Z"
   },
   {
    "duration": 386124,
    "start_time": "2023-06-29T06:51:51.254Z"
   },
   {
    "duration": 49,
    "start_time": "2023-06-29T06:58:17.380Z"
   },
   {
    "duration": 39,
    "start_time": "2023-06-29T06:58:17.430Z"
   },
   {
    "duration": 47,
    "start_time": "2023-06-29T06:58:17.471Z"
   },
   {
    "duration": 3912,
    "start_time": "2023-06-29T06:58:17.534Z"
   },
   {
    "duration": 1162,
    "start_time": "2023-06-29T06:58:21.450Z"
   },
   {
    "duration": 6509,
    "start_time": "2023-06-29T06:58:22.649Z"
   },
   {
    "duration": 2182,
    "start_time": "2023-06-29T06:58:29.159Z"
   },
   {
    "duration": 8,
    "start_time": "2023-06-29T06:58:31.345Z"
   },
   {
    "duration": 62,
    "start_time": "2023-06-29T06:58:31.359Z"
   },
   {
    "duration": 34090,
    "start_time": "2023-06-29T06:58:31.426Z"
   },
   {
    "duration": 811,
    "start_time": "2023-06-29T06:59:05.518Z"
   },
   {
    "duration": 42816,
    "start_time": "2023-06-29T06:59:06.334Z"
   },
   {
    "duration": 639,
    "start_time": "2023-06-29T06:59:49.154Z"
   },
   {
    "duration": 22,
    "start_time": "2023-06-29T06:59:49.794Z"
   },
   {
    "duration": 21,
    "start_time": "2023-06-29T06:59:49.826Z"
   },
   {
    "duration": 411987,
    "start_time": "2023-06-29T06:59:49.849Z"
   },
   {
    "duration": 13555,
    "start_time": "2023-06-29T07:06:41.838Z"
   },
   {
    "duration": 545377,
    "start_time": "2023-06-29T07:06:55.395Z"
   },
   {
    "duration": 15738,
    "start_time": "2023-06-29T07:16:00.774Z"
   },
   {
    "duration": 19,
    "start_time": "2023-06-29T07:16:16.514Z"
   },
   {
    "duration": 12,
    "start_time": "2023-06-29T07:22:51.268Z"
   },
   {
    "duration": 4,
    "start_time": "2023-06-29T07:31:04.361Z"
   },
   {
    "duration": 4,
    "start_time": "2023-06-29T07:31:18.224Z"
   },
   {
    "duration": 3,
    "start_time": "2023-06-29T07:36:19.946Z"
   },
   {
    "duration": 4,
    "start_time": "2023-06-29T07:46:46.136Z"
   },
   {
    "duration": 1827,
    "start_time": "2023-06-29T07:46:46.142Z"
   },
   {
    "duration": 445,
    "start_time": "2023-06-29T07:46:47.970Z"
   },
   {
    "duration": 964,
    "start_time": "2023-06-29T07:46:48.416Z"
   },
   {
    "duration": 578,
    "start_time": "2023-06-29T07:46:49.382Z"
   },
   {
    "duration": 26,
    "start_time": "2023-06-29T07:46:49.962Z"
   },
   {
    "duration": 5,
    "start_time": "2023-06-29T07:46:49.989Z"
   },
   {
    "duration": 49,
    "start_time": "2023-06-29T07:46:49.995Z"
   },
   {
    "duration": 11,
    "start_time": "2023-06-29T07:46:50.046Z"
   },
   {
    "duration": 398,
    "start_time": "2023-06-29T07:46:50.058Z"
   },
   {
    "duration": 3,
    "start_time": "2023-06-29T07:46:50.458Z"
   },
   {
    "duration": 25,
    "start_time": "2023-06-29T07:46:50.463Z"
   },
   {
    "duration": 35,
    "start_time": "2023-06-29T07:46:50.490Z"
   },
   {
    "duration": 20,
    "start_time": "2023-06-29T07:46:50.529Z"
   },
   {
    "duration": 17,
    "start_time": "2023-06-29T07:46:50.550Z"
   },
   {
    "duration": 18,
    "start_time": "2023-06-29T07:46:50.568Z"
   },
   {
    "duration": 87,
    "start_time": "2023-06-29T07:46:50.588Z"
   },
   {
    "duration": 3,
    "start_time": "2023-06-29T07:46:50.676Z"
   },
   {
    "duration": 43,
    "start_time": "2023-06-29T07:46:50.681Z"
   },
   {
    "duration": 27,
    "start_time": "2023-06-29T07:46:50.726Z"
   },
   {
    "duration": 9,
    "start_time": "2023-06-29T07:46:50.754Z"
   },
   {
    "duration": 11,
    "start_time": "2023-06-29T07:46:50.764Z"
   },
   {
    "duration": 4484,
    "start_time": "2023-06-29T07:46:50.777Z"
   },
   {
    "duration": 581,
    "start_time": "2023-06-29T07:46:55.263Z"
   },
   {
    "duration": 518,
    "start_time": "2023-06-29T07:46:55.846Z"
   },
   {
    "duration": 41,
    "start_time": "2023-06-29T07:46:56.366Z"
   },
   {
    "duration": 1346,
    "start_time": "2023-06-29T07:46:56.408Z"
   },
   {
    "duration": 378,
    "start_time": "2023-06-29T07:46:57.755Z"
   },
   {
    "duration": 3,
    "start_time": "2023-06-29T07:46:58.140Z"
   },
   {
    "duration": 15,
    "start_time": "2023-06-29T07:46:58.145Z"
   },
   {
    "duration": 7,
    "start_time": "2023-06-29T07:46:58.162Z"
   },
   {
    "duration": 5,
    "start_time": "2023-06-29T07:46:58.171Z"
   },
   {
    "duration": 21,
    "start_time": "2023-06-29T07:46:58.177Z"
   },
   {
    "duration": 30,
    "start_time": "2023-06-29T07:46:58.213Z"
   },
   {
    "duration": 42,
    "start_time": "2023-06-29T07:46:58.245Z"
   },
   {
    "duration": 72,
    "start_time": "2023-06-29T07:46:58.289Z"
   },
   {
    "duration": 75,
    "start_time": "2023-06-29T07:46:58.363Z"
   },
   {
    "duration": 97,
    "start_time": "2023-06-29T07:46:58.442Z"
   },
   {
    "duration": 90,
    "start_time": "2023-06-29T07:46:58.542Z"
   },
   {
    "duration": 8,
    "start_time": "2023-06-29T07:46:58.634Z"
   },
   {
    "duration": 12,
    "start_time": "2023-06-29T07:46:58.647Z"
   },
   {
    "duration": 17,
    "start_time": "2023-06-29T07:46:58.661Z"
   },
   {
    "duration": 9,
    "start_time": "2023-06-29T07:46:58.679Z"
   },
   {
    "duration": 32,
    "start_time": "2023-06-29T07:46:58.689Z"
   },
   {
    "duration": 33,
    "start_time": "2023-06-29T07:46:58.722Z"
   },
   {
    "duration": 333188,
    "start_time": "2023-06-29T07:46:58.756Z"
   },
   {
    "duration": 9,
    "start_time": "2023-06-29T07:52:31.945Z"
   },
   {
    "duration": 29,
    "start_time": "2023-06-29T07:52:31.956Z"
   },
   {
    "duration": 42,
    "start_time": "2023-06-29T07:52:31.987Z"
   },
   {
    "duration": 4486,
    "start_time": "2023-06-29T07:52:32.030Z"
   },
   {
    "duration": 1091,
    "start_time": "2023-06-29T07:52:36.518Z"
   },
   {
    "duration": 6310,
    "start_time": "2023-06-29T07:52:37.614Z"
   },
   {
    "duration": 1701,
    "start_time": "2023-06-29T07:52:44.003Z"
   },
   {
    "duration": 9,
    "start_time": "2023-06-29T07:52:45.705Z"
   },
   {
    "duration": 126,
    "start_time": "2023-06-29T07:52:45.715Z"
   },
   {
    "duration": 31729,
    "start_time": "2023-06-29T07:52:45.844Z"
   },
   {
    "duration": 738,
    "start_time": "2023-06-29T07:53:17.575Z"
   },
   {
    "duration": 41613,
    "start_time": "2023-06-29T07:53:18.314Z"
   },
   {
    "duration": 653,
    "start_time": "2023-06-29T07:53:59.930Z"
   },
   {
    "duration": 3,
    "start_time": "2023-06-29T07:54:00.585Z"
   },
   {
    "duration": 100,
    "start_time": "2023-06-29T07:54:00.590Z"
   },
   {
    "duration": 387113,
    "start_time": "2023-06-29T07:54:00.693Z"
   },
   {
    "duration": 13112,
    "start_time": "2023-06-29T08:00:27.807Z"
   },
   {
    "duration": 524170,
    "start_time": "2023-06-29T08:00:40.921Z"
   },
   {
    "duration": 14305,
    "start_time": "2023-06-29T08:09:25.092Z"
   },
   {
    "duration": 18,
    "start_time": "2023-06-29T08:09:39.399Z"
   },
   {
    "duration": 32,
    "start_time": "2023-06-29T08:09:39.419Z"
   },
   {
    "duration": 13,
    "start_time": "2023-06-29T08:43:03.888Z"
   },
   {
    "duration": 3817,
    "start_time": "2023-06-29T08:53:22.325Z"
   },
   {
    "duration": 4447,
    "start_time": "2023-06-29T08:53:28.428Z"
   },
   {
    "duration": 5,
    "start_time": "2023-06-29T08:53:35.335Z"
   },
   {
    "duration": 9,
    "start_time": "2023-06-29T09:02:03.538Z"
   },
   {
    "duration": 3,
    "start_time": "2023-06-29T10:30:15.179Z"
   },
   {
    "duration": 1795,
    "start_time": "2023-06-29T10:30:15.184Z"
   },
   {
    "duration": 337,
    "start_time": "2023-06-29T10:30:16.981Z"
   },
   {
    "duration": 164,
    "start_time": "2023-06-29T10:30:17.320Z"
   },
   {
    "duration": 407,
    "start_time": "2023-06-29T10:30:17.485Z"
   },
   {
    "duration": 28,
    "start_time": "2023-06-29T10:30:17.893Z"
   },
   {
    "duration": 46968,
    "start_time": "2023-06-29T10:30:17.923Z"
   },
   {
    "duration": 28270,
    "start_time": "2023-06-29T10:31:04.892Z"
   },
   {
    "duration": 46827,
    "start_time": "2023-06-29T10:31:33.164Z"
   },
   {
    "duration": 337,
    "start_time": "2023-06-29T10:32:20.002Z"
   },
   {
    "duration": 3,
    "start_time": "2023-06-29T10:32:20.341Z"
   },
   {
    "duration": 25,
    "start_time": "2023-06-29T10:32:20.345Z"
   },
   {
    "duration": 13,
    "start_time": "2023-06-29T10:32:20.372Z"
   },
   {
    "duration": 31,
    "start_time": "2023-06-29T10:32:20.386Z"
   },
   {
    "duration": 15,
    "start_time": "2023-06-29T10:32:20.418Z"
   },
   {
    "duration": 12,
    "start_time": "2023-06-29T10:32:20.435Z"
   },
   {
    "duration": 42,
    "start_time": "2023-06-29T10:32:20.449Z"
   },
   {
    "duration": 41,
    "start_time": "2023-06-29T10:32:20.492Z"
   },
   {
    "duration": 24,
    "start_time": "2023-06-29T10:32:20.534Z"
   },
   {
    "duration": 23,
    "start_time": "2023-06-29T10:32:20.560Z"
   },
   {
    "duration": 35,
    "start_time": "2023-06-29T10:32:20.584Z"
   },
   {
    "duration": 18,
    "start_time": "2023-06-29T10:32:20.620Z"
   },
   {
    "duration": 4747,
    "start_time": "2023-06-29T10:32:20.639Z"
   },
   {
    "duration": 514,
    "start_time": "2023-06-29T10:32:25.387Z"
   },
   {
    "duration": 441,
    "start_time": "2023-06-29T10:32:25.903Z"
   },
   {
    "duration": 32,
    "start_time": "2023-06-29T10:32:26.345Z"
   },
   {
    "duration": 1388,
    "start_time": "2023-06-29T10:32:26.400Z"
   },
   {
    "duration": 207,
    "start_time": "2023-06-29T10:32:27.793Z"
   },
   {
    "duration": 5,
    "start_time": "2023-06-29T10:32:28.002Z"
   },
   {
    "duration": 17,
    "start_time": "2023-06-29T10:32:28.009Z"
   },
   {
    "duration": 17,
    "start_time": "2023-06-29T10:32:28.027Z"
   },
   {
    "duration": 3,
    "start_time": "2023-06-29T10:32:28.046Z"
   },
   {
    "duration": 33,
    "start_time": "2023-06-29T10:32:28.050Z"
   },
   {
    "duration": 82,
    "start_time": "2023-06-29T10:32:28.084Z"
   },
   {
    "duration": 67,
    "start_time": "2023-06-29T10:32:28.169Z"
   },
   {
    "duration": 89,
    "start_time": "2023-06-29T10:32:28.238Z"
   },
   {
    "duration": 71,
    "start_time": "2023-06-29T10:32:28.329Z"
   },
   {
    "duration": 3,
    "start_time": "2023-06-29T10:32:28.402Z"
   },
   {
    "duration": 17,
    "start_time": "2023-06-29T10:32:28.406Z"
   },
   {
    "duration": 5,
    "start_time": "2023-06-29T10:32:28.425Z"
   },
   {
    "duration": 4,
    "start_time": "2023-06-29T10:32:28.431Z"
   },
   {
    "duration": 7,
    "start_time": "2023-06-29T10:32:28.436Z"
   },
   {
    "duration": 4,
    "start_time": "2023-06-29T10:32:28.444Z"
   },
   {
    "duration": 310087,
    "start_time": "2023-06-29T10:32:28.450Z"
   },
   {
    "duration": 9,
    "start_time": "2023-06-29T10:37:38.539Z"
   },
   {
    "duration": 13,
    "start_time": "2023-06-29T10:37:38.549Z"
   },
   {
    "duration": 8,
    "start_time": "2023-06-29T10:37:38.563Z"
   },
   {
    "duration": 2934,
    "start_time": "2023-06-29T10:37:38.572Z"
   },
   {
    "duration": 1191,
    "start_time": "2023-06-29T10:37:41.510Z"
   },
   {
    "duration": 4305,
    "start_time": "2023-06-29T10:37:42.702Z"
   },
   {
    "duration": 1392,
    "start_time": "2023-06-29T10:37:47.009Z"
   },
   {
    "duration": 4,
    "start_time": "2023-06-29T10:37:48.404Z"
   },
   {
    "duration": 30,
    "start_time": "2023-06-29T10:37:48.500Z"
   },
   {
    "duration": 30578,
    "start_time": "2023-06-29T10:37:48.531Z"
   },
   {
    "duration": 692,
    "start_time": "2023-06-29T10:38:19.111Z"
   },
   {
    "duration": 39286,
    "start_time": "2023-06-29T10:38:19.805Z"
   },
   {
    "duration": 629,
    "start_time": "2023-06-29T10:38:59.093Z"
   },
   {
    "duration": 4,
    "start_time": "2023-06-29T10:38:59.724Z"
   },
   {
    "duration": 4,
    "start_time": "2023-06-29T10:38:59.730Z"
   },
   {
    "duration": 381646,
    "start_time": "2023-06-29T10:38:59.736Z"
   },
   {
    "duration": 14209,
    "start_time": "2023-06-29T10:45:21.383Z"
   },
   {
    "duration": 529391,
    "start_time": "2023-06-29T10:45:35.594Z"
   },
   {
    "duration": 15725,
    "start_time": "2023-06-29T10:54:24.987Z"
   },
   {
    "duration": 6,
    "start_time": "2023-06-29T10:54:40.718Z"
   },
   {
    "duration": 19,
    "start_time": "2023-06-29T10:54:40.726Z"
   },
   {
    "duration": 4177,
    "start_time": "2023-06-29T10:54:40.747Z"
   },
   {
    "duration": 4790,
    "start_time": "2023-06-29T10:54:44.926Z"
   },
   {
    "duration": 9,
    "start_time": "2023-06-29T10:54:49.718Z"
   },
   {
    "duration": 45,
    "start_time": "2023-06-29T10:54:49.728Z"
   },
   {
    "duration": 4,
    "start_time": "2023-06-29T11:08:31.880Z"
   },
   {
    "duration": 1732,
    "start_time": "2023-06-29T11:08:31.885Z"
   },
   {
    "duration": 378,
    "start_time": "2023-06-29T11:08:33.619Z"
   },
   {
    "duration": 169,
    "start_time": "2023-06-29T11:08:33.999Z"
   },
   {
    "duration": 564,
    "start_time": "2023-06-29T11:08:34.169Z"
   },
   {
    "duration": 25,
    "start_time": "2023-06-29T11:08:34.735Z"
   },
   {
    "duration": 7,
    "start_time": "2023-06-29T11:08:34.762Z"
   },
   {
    "duration": 16,
    "start_time": "2023-06-29T11:08:34.771Z"
   },
   {
    "duration": 25,
    "start_time": "2023-06-29T11:08:34.789Z"
   },
   {
    "duration": 336,
    "start_time": "2023-06-29T11:08:34.816Z"
   },
   {
    "duration": 4,
    "start_time": "2023-06-29T11:08:35.153Z"
   },
   {
    "duration": 23,
    "start_time": "2023-06-29T11:08:35.158Z"
   },
   {
    "duration": 23,
    "start_time": "2023-06-29T11:08:35.182Z"
   },
   {
    "duration": 6,
    "start_time": "2023-06-29T11:08:35.211Z"
   },
   {
    "duration": 18,
    "start_time": "2023-06-29T11:08:35.218Z"
   },
   {
    "duration": 18,
    "start_time": "2023-06-29T11:08:35.237Z"
   },
   {
    "duration": 36,
    "start_time": "2023-06-29T11:08:35.256Z"
   },
   {
    "duration": 3,
    "start_time": "2023-06-29T11:08:35.294Z"
   },
   {
    "duration": 68,
    "start_time": "2023-06-29T11:08:35.299Z"
   },
   {
    "duration": 15,
    "start_time": "2023-06-29T11:08:35.369Z"
   },
   {
    "duration": 22,
    "start_time": "2023-06-29T11:08:35.385Z"
   },
   {
    "duration": 50,
    "start_time": "2023-06-29T11:08:35.413Z"
   },
   {
    "duration": 4176,
    "start_time": "2023-06-29T11:08:35.465Z"
   },
   {
    "duration": 499,
    "start_time": "2023-06-29T11:08:39.643Z"
   },
   {
    "duration": 373,
    "start_time": "2023-06-29T11:08:40.143Z"
   },
   {
    "duration": 476,
    "start_time": "2023-06-29T11:09:37.100Z"
   },
   {
    "duration": 360,
    "start_time": "2023-06-29T11:09:58.666Z"
   },
   {
    "duration": 341,
    "start_time": "2023-06-29T11:10:40.649Z"
   },
   {
    "duration": 5,
    "start_time": "2023-06-29T11:13:08.020Z"
   },
   {
    "duration": 11,
    "start_time": "2023-06-29T11:15:54.120Z"
   },
   {
    "duration": 3,
    "start_time": "2023-06-29T11:16:20.389Z"
   },
   {
    "duration": 27,
    "start_time": "2023-06-29T11:16:59.024Z"
   },
   {
    "duration": 1296,
    "start_time": "2023-06-29T11:17:03.229Z"
   },
   {
    "duration": 188,
    "start_time": "2023-06-29T11:17:11.164Z"
   },
   {
    "duration": 151,
    "start_time": "2023-06-29T11:22:33.898Z"
   },
   {
    "duration": 9,
    "start_time": "2023-06-29T11:24:05.162Z"
   },
   {
    "duration": 12,
    "start_time": "2023-06-29T11:27:32.200Z"
   },
   {
    "duration": 23,
    "start_time": "2023-06-29T11:30:12.064Z"
   },
   {
    "duration": 26,
    "start_time": "2023-06-29T11:30:19.695Z"
   },
   {
    "duration": 201,
    "start_time": "2023-06-29T11:31:26.783Z"
   },
   {
    "duration": 3341,
    "start_time": "2023-06-29T11:31:54.943Z"
   },
   {
    "duration": 176,
    "start_time": "2023-06-29T11:32:39.319Z"
   },
   {
    "duration": 4,
    "start_time": "2023-06-29T11:34:37.284Z"
   },
   {
    "duration": 4,
    "start_time": "2023-06-29T11:48:15.061Z"
   },
   {
    "duration": 2130,
    "start_time": "2023-06-29T11:48:15.067Z"
   },
   {
    "duration": 496,
    "start_time": "2023-06-29T11:48:17.201Z"
   },
   {
    "duration": 240,
    "start_time": "2023-06-29T11:48:17.699Z"
   },
   {
    "duration": 480,
    "start_time": "2023-06-29T11:48:17.940Z"
   },
   {
    "duration": 28,
    "start_time": "2023-06-29T11:48:18.422Z"
   },
   {
    "duration": 7,
    "start_time": "2023-06-29T11:48:18.452Z"
   },
   {
    "duration": 12,
    "start_time": "2023-06-29T11:48:18.461Z"
   },
   {
    "duration": 15,
    "start_time": "2023-06-29T11:48:18.474Z"
   },
   {
    "duration": 372,
    "start_time": "2023-06-29T11:48:18.492Z"
   },
   {
    "duration": 5,
    "start_time": "2023-06-29T11:48:18.865Z"
   },
   {
    "duration": 48,
    "start_time": "2023-06-29T11:48:18.871Z"
   },
   {
    "duration": 6,
    "start_time": "2023-06-29T11:48:18.921Z"
   },
   {
    "duration": 13,
    "start_time": "2023-06-29T11:48:18.929Z"
   },
   {
    "duration": 19,
    "start_time": "2023-06-29T11:48:18.944Z"
   },
   {
    "duration": 18,
    "start_time": "2023-06-29T11:48:18.965Z"
   },
   {
    "duration": 46,
    "start_time": "2023-06-29T11:48:18.986Z"
   },
   {
    "duration": 4,
    "start_time": "2023-06-29T11:48:19.034Z"
   },
   {
    "duration": 50,
    "start_time": "2023-06-29T11:48:19.040Z"
   },
   {
    "duration": 25,
    "start_time": "2023-06-29T11:48:19.092Z"
   },
   {
    "duration": 8,
    "start_time": "2023-06-29T11:48:19.119Z"
   },
   {
    "duration": 11,
    "start_time": "2023-06-29T11:48:19.128Z"
   },
   {
    "duration": 4920,
    "start_time": "2023-06-29T11:48:19.140Z"
   },
   {
    "duration": 560,
    "start_time": "2023-06-29T11:48:24.062Z"
   },
   {
    "duration": 394,
    "start_time": "2023-06-29T11:48:24.623Z"
   },
   {
    "duration": 7,
    "start_time": "2023-06-29T11:48:25.018Z"
   },
   {
    "duration": 17,
    "start_time": "2023-06-29T11:48:25.027Z"
   },
   {
    "duration": 4,
    "start_time": "2023-06-29T11:48:25.047Z"
   },
   {
    "duration": 71,
    "start_time": "2023-06-29T11:48:25.053Z"
   },
   {
    "duration": 1616,
    "start_time": "2023-06-29T11:48:25.126Z"
   },
   {
    "duration": 329,
    "start_time": "2023-06-29T11:48:26.745Z"
   },
   {
    "duration": 7,
    "start_time": "2023-06-29T11:48:27.076Z"
   },
   {
    "duration": 71,
    "start_time": "2023-06-29T11:48:27.085Z"
   },
   {
    "duration": 177,
    "start_time": "2023-06-29T11:48:27.158Z"
   },
   {
    "duration": 4,
    "start_time": "2023-06-29T11:48:27.337Z"
   },
   {
    "duration": 25,
    "start_time": "2023-06-29T11:48:43.625Z"
   },
   {
    "duration": 18,
    "start_time": "2023-06-29T11:49:02.746Z"
   },
   {
    "duration": 12,
    "start_time": "2023-06-29T11:49:31.930Z"
   },
   {
    "duration": 155,
    "start_time": "2023-06-29T11:50:30.363Z"
   },
   {
    "duration": 22,
    "start_time": "2023-06-29T11:51:03.643Z"
   },
   {
    "duration": 7,
    "start_time": "2023-06-29T11:56:37.345Z"
   },
   {
    "duration": 5,
    "start_time": "2023-06-29T11:56:40.311Z"
   },
   {
    "duration": 4,
    "start_time": "2023-06-29T12:02:23.057Z"
   },
   {
    "duration": 2108,
    "start_time": "2023-06-29T12:02:23.063Z"
   },
   {
    "duration": 648,
    "start_time": "2023-06-29T12:02:25.173Z"
   },
   {
    "duration": 133,
    "start_time": "2023-06-29T12:02:25.823Z"
   },
   {
    "duration": 593,
    "start_time": "2023-06-29T12:02:25.957Z"
   },
   {
    "duration": 31,
    "start_time": "2023-06-29T12:02:26.553Z"
   },
   {
    "duration": 8,
    "start_time": "2023-06-29T12:02:26.600Z"
   },
   {
    "duration": 24,
    "start_time": "2023-06-29T12:02:26.614Z"
   },
   {
    "duration": 11,
    "start_time": "2023-06-29T12:02:26.641Z"
   },
   {
    "duration": 390,
    "start_time": "2023-06-29T12:02:26.654Z"
   },
   {
    "duration": 5,
    "start_time": "2023-06-29T12:02:27.046Z"
   },
   {
    "duration": 30,
    "start_time": "2023-06-29T12:02:27.053Z"
   },
   {
    "duration": 27,
    "start_time": "2023-06-29T12:02:27.085Z"
   },
   {
    "duration": 27,
    "start_time": "2023-06-29T12:02:27.118Z"
   },
   {
    "duration": 13,
    "start_time": "2023-06-29T12:02:27.147Z"
   },
   {
    "duration": 8,
    "start_time": "2023-06-29T12:02:27.162Z"
   },
   {
    "duration": 50,
    "start_time": "2023-06-29T12:02:27.172Z"
   },
   {
    "duration": 7,
    "start_time": "2023-06-29T12:02:27.224Z"
   },
   {
    "duration": 31,
    "start_time": "2023-06-29T12:02:27.232Z"
   },
   {
    "duration": 16,
    "start_time": "2023-06-29T12:02:27.265Z"
   },
   {
    "duration": 31,
    "start_time": "2023-06-29T12:02:27.283Z"
   },
   {
    "duration": 14,
    "start_time": "2023-06-29T12:02:27.317Z"
   },
   {
    "duration": 4582,
    "start_time": "2023-06-29T12:02:27.333Z"
   },
   {
    "duration": 576,
    "start_time": "2023-06-29T12:02:31.921Z"
   },
   {
    "duration": 388,
    "start_time": "2023-06-29T12:02:32.501Z"
   },
   {
    "duration": 11,
    "start_time": "2023-06-29T12:02:32.892Z"
   },
   {
    "duration": 34,
    "start_time": "2023-06-29T12:02:32.905Z"
   },
   {
    "duration": 13,
    "start_time": "2023-06-29T12:02:32.941Z"
   },
   {
    "duration": 57,
    "start_time": "2023-06-29T12:02:32.956Z"
   },
   {
    "duration": 1305,
    "start_time": "2023-06-29T12:02:33.014Z"
   },
   {
    "duration": 321,
    "start_time": "2023-06-29T12:02:34.320Z"
   },
   {
    "duration": 7,
    "start_time": "2023-06-29T12:02:34.643Z"
   },
   {
    "duration": 11,
    "start_time": "2023-06-29T12:02:34.651Z"
   },
   {
    "duration": 185,
    "start_time": "2023-06-29T12:02:34.663Z"
   },
   {
    "duration": 4,
    "start_time": "2023-06-29T12:02:34.850Z"
   },
   {
    "duration": 23,
    "start_time": "2023-06-29T12:02:34.856Z"
   },
   {
    "duration": 44,
    "start_time": "2023-06-29T12:02:34.881Z"
   },
   {
    "duration": 6,
    "start_time": "2023-06-29T12:02:34.927Z"
   },
   {
    "duration": 18,
    "start_time": "2023-06-29T12:02:34.934Z"
   },
   {
    "duration": 151,
    "start_time": "2023-06-29T12:07:21.225Z"
   },
   {
    "duration": 7,
    "start_time": "2023-06-29T12:07:29.312Z"
   },
   {
    "duration": 5,
    "start_time": "2023-06-29T12:07:33.720Z"
   },
   {
    "duration": 8,
    "start_time": "2023-06-29T12:17:11.405Z"
   },
   {
    "duration": 1812,
    "start_time": "2023-06-29T12:17:11.415Z"
   },
   {
    "duration": 407,
    "start_time": "2023-06-29T12:17:13.229Z"
   },
   {
    "duration": 119,
    "start_time": "2023-06-29T12:17:13.638Z"
   },
   {
    "duration": 418,
    "start_time": "2023-06-29T12:17:13.759Z"
   },
   {
    "duration": 44,
    "start_time": "2023-06-29T12:17:14.179Z"
   },
   {
    "duration": 46563,
    "start_time": "2023-06-29T12:17:14.224Z"
   },
   {
    "duration": 27625,
    "start_time": "2023-06-29T12:18:00.789Z"
   },
   {
    "duration": 47298,
    "start_time": "2023-06-29T12:18:28.415Z"
   },
   {
    "duration": 373,
    "start_time": "2023-06-29T12:19:15.720Z"
   },
   {
    "duration": 12,
    "start_time": "2023-06-29T12:19:16.099Z"
   },
   {
    "duration": 17,
    "start_time": "2023-06-29T12:19:16.114Z"
   },
   {
    "duration": 4,
    "start_time": "2023-06-29T12:19:16.133Z"
   },
   {
    "duration": 8,
    "start_time": "2023-06-29T12:19:16.139Z"
   },
   {
    "duration": 10,
    "start_time": "2023-06-29T12:19:16.149Z"
   },
   {
    "duration": 14,
    "start_time": "2023-06-29T12:19:16.161Z"
   },
   {
    "duration": 45,
    "start_time": "2023-06-29T12:19:16.177Z"
   },
   {
    "duration": 9,
    "start_time": "2023-06-29T12:19:16.224Z"
   },
   {
    "duration": 30,
    "start_time": "2023-06-29T12:19:16.235Z"
   },
   {
    "duration": 18,
    "start_time": "2023-06-29T12:19:16.269Z"
   },
   {
    "duration": 32,
    "start_time": "2023-06-29T12:19:16.289Z"
   },
   {
    "duration": 9,
    "start_time": "2023-06-29T12:19:16.322Z"
   },
   {
    "duration": 4659,
    "start_time": "2023-06-29T12:19:16.333Z"
   },
   {
    "duration": 543,
    "start_time": "2023-06-29T12:19:20.994Z"
   },
   {
    "duration": 367,
    "start_time": "2023-06-29T12:19:21.539Z"
   },
   {
    "duration": 5,
    "start_time": "2023-06-29T12:19:21.908Z"
   },
   {
    "duration": 14,
    "start_time": "2023-06-29T12:19:21.919Z"
   },
   {
    "duration": 4,
    "start_time": "2023-06-29T12:19:21.939Z"
   },
   {
    "duration": 32,
    "start_time": "2023-06-29T12:19:21.944Z"
   },
   {
    "duration": 1328,
    "start_time": "2023-06-29T12:19:22.000Z"
   },
   {
    "duration": 194,
    "start_time": "2023-06-29T12:19:23.330Z"
   },
   {
    "duration": 9,
    "start_time": "2023-06-29T12:19:23.526Z"
   },
   {
    "duration": 39,
    "start_time": "2023-06-29T12:19:23.536Z"
   },
   {
    "duration": 198,
    "start_time": "2023-06-29T12:19:23.577Z"
   },
   {
    "duration": 35,
    "start_time": "2023-06-29T12:19:23.777Z"
   },
   {
    "duration": 29,
    "start_time": "2023-06-29T12:19:23.814Z"
   },
   {
    "duration": 8,
    "start_time": "2023-06-29T12:19:23.846Z"
   },
   {
    "duration": 6,
    "start_time": "2023-06-29T12:19:23.855Z"
   },
   {
    "duration": 14,
    "start_time": "2023-06-29T12:19:23.863Z"
   },
   {
    "duration": 31,
    "start_time": "2023-06-29T12:19:23.878Z"
   },
   {
    "duration": 29,
    "start_time": "2023-06-29T12:19:23.910Z"
   },
   {
    "duration": 33,
    "start_time": "2023-06-29T12:19:23.940Z"
   },
   {
    "duration": 49,
    "start_time": "2023-06-29T12:19:23.975Z"
   },
   {
    "duration": 58,
    "start_time": "2023-06-29T12:19:24.026Z"
   },
   {
    "duration": 71,
    "start_time": "2023-06-29T12:19:24.086Z"
   },
   {
    "duration": 103,
    "start_time": "2023-06-29T12:19:24.159Z"
   },
   {
    "duration": 82,
    "start_time": "2023-06-29T12:19:24.264Z"
   },
   {
    "duration": 3,
    "start_time": "2023-06-29T12:19:24.348Z"
   },
   {
    "duration": 11,
    "start_time": "2023-06-29T12:19:24.353Z"
   },
   {
    "duration": 6,
    "start_time": "2023-06-29T12:19:24.366Z"
   },
   {
    "duration": 20,
    "start_time": "2023-06-29T12:19:24.373Z"
   },
   {
    "duration": 21,
    "start_time": "2023-06-29T12:19:24.401Z"
   },
   {
    "duration": 21,
    "start_time": "2023-06-29T12:19:24.424Z"
   },
   {
    "duration": 214974,
    "start_time": "2023-06-29T12:19:24.447Z"
   },
   {
    "duration": 9,
    "start_time": "2023-06-29T12:22:59.423Z"
   },
   {
    "duration": 7,
    "start_time": "2023-06-29T12:22:59.433Z"
   },
   {
    "duration": 15,
    "start_time": "2023-06-29T12:22:59.441Z"
   },
   {
    "duration": 3570,
    "start_time": "2023-06-29T12:22:59.458Z"
   },
   {
    "duration": 999,
    "start_time": "2023-06-29T12:23:03.030Z"
   },
   {
    "duration": 4918,
    "start_time": "2023-06-29T12:23:04.103Z"
   },
   {
    "duration": 1025,
    "start_time": "2023-06-29T12:23:09.100Z"
   },
   {
    "duration": 9,
    "start_time": "2023-06-29T12:23:10.208Z"
   },
   {
    "duration": 14,
    "start_time": "2023-06-29T12:23:10.221Z"
   },
   {
    "duration": 24155,
    "start_time": "2023-06-29T12:23:10.237Z"
   },
   {
    "duration": 262,
    "start_time": "2023-06-29T12:23:34.394Z"
   },
   {
    "duration": 32637,
    "start_time": "2023-06-29T12:23:34.658Z"
   },
   {
    "duration": 200,
    "start_time": "2023-06-29T12:24:07.296Z"
   },
   {
    "duration": 8,
    "start_time": "2023-06-29T12:24:07.497Z"
   },
   {
    "duration": 40,
    "start_time": "2023-06-29T12:24:07.507Z"
   },
   {
    "duration": 298287,
    "start_time": "2023-06-29T12:24:07.549Z"
   },
   {
    "duration": 8196,
    "start_time": "2023-06-29T12:29:05.837Z"
   },
   {
    "duration": 405375,
    "start_time": "2023-06-29T12:29:14.035Z"
   },
   {
    "duration": 2251,
    "start_time": "2023-06-29T12:35:59.412Z"
   },
   {
    "duration": 3,
    "start_time": "2023-06-29T12:36:01.664Z"
   },
   {
    "duration": 31,
    "start_time": "2023-06-29T12:36:01.668Z"
   },
   {
    "duration": 2851,
    "start_time": "2023-06-29T12:36:01.714Z"
   },
   {
    "duration": 847,
    "start_time": "2023-06-29T12:36:04.566Z"
   },
   {
    "duration": 3,
    "start_time": "2023-06-29T12:36:05.415Z"
   },
   {
    "duration": 24,
    "start_time": "2023-06-29T12:36:05.420Z"
   },
   {
    "duration": 61,
    "start_time": "2023-06-29T18:57:41.545Z"
   },
   {
    "duration": 10870,
    "start_time": "2023-06-29T19:02:51.299Z"
   },
   {
    "duration": 10,
    "start_time": "2023-06-29T19:04:21.273Z"
   },
   {
    "duration": 3557,
    "start_time": "2023-06-29T19:04:21.285Z"
   },
   {
    "duration": 2265,
    "start_time": "2023-06-29T19:04:24.845Z"
   },
   {
    "duration": 290,
    "start_time": "2023-06-29T19:04:27.112Z"
   },
   {
    "duration": 1362,
    "start_time": "2023-06-29T19:04:27.404Z"
   },
   {
    "duration": 33,
    "start_time": "2023-06-29T19:04:28.768Z"
   },
   {
    "duration": 3,
    "start_time": "2023-06-29T19:04:28.803Z"
   },
   {
    "duration": 11,
    "start_time": "2023-06-29T19:04:28.808Z"
   },
   {
    "duration": 15,
    "start_time": "2023-06-29T19:04:28.821Z"
   },
   {
    "duration": 441,
    "start_time": "2023-06-29T19:04:28.840Z"
   },
   {
    "duration": 4,
    "start_time": "2023-06-29T19:04:29.283Z"
   },
   {
    "duration": 23,
    "start_time": "2023-06-29T19:04:29.289Z"
   },
   {
    "duration": 7,
    "start_time": "2023-06-29T19:04:29.314Z"
   },
   {
    "duration": 39,
    "start_time": "2023-06-29T19:04:29.323Z"
   },
   {
    "duration": 54,
    "start_time": "2023-06-29T19:04:29.364Z"
   },
   {
    "duration": 11,
    "start_time": "2023-06-29T19:04:29.419Z"
   },
   {
    "duration": 46,
    "start_time": "2023-06-29T19:04:29.433Z"
   },
   {
    "duration": 4,
    "start_time": "2023-06-29T19:04:29.481Z"
   },
   {
    "duration": 27,
    "start_time": "2023-06-29T19:04:29.487Z"
   },
   {
    "duration": 17,
    "start_time": "2023-06-29T19:04:29.516Z"
   },
   {
    "duration": 16,
    "start_time": "2023-06-29T19:04:29.554Z"
   },
   {
    "duration": 12,
    "start_time": "2023-06-29T19:04:29.575Z"
   },
   {
    "duration": 5106,
    "start_time": "2023-06-29T19:04:29.588Z"
   },
   {
    "duration": 928,
    "start_time": "2023-06-29T19:04:34.696Z"
   },
   {
    "duration": 462,
    "start_time": "2023-06-29T19:04:35.626Z"
   },
   {
    "duration": 4,
    "start_time": "2023-06-29T19:04:36.091Z"
   },
   {
    "duration": 21,
    "start_time": "2023-06-29T19:04:36.097Z"
   },
   {
    "duration": 5,
    "start_time": "2023-06-29T19:04:36.123Z"
   },
   {
    "duration": 46,
    "start_time": "2023-06-29T19:04:36.156Z"
   },
   {
    "duration": 1458,
    "start_time": "2023-06-29T19:04:36.204Z"
   },
   {
    "duration": 480,
    "start_time": "2023-06-29T19:04:37.669Z"
   },
   {
    "duration": 19,
    "start_time": "2023-06-29T19:04:38.154Z"
   },
   {
    "duration": 21,
    "start_time": "2023-06-29T19:04:38.175Z"
   },
   {
    "duration": 283,
    "start_time": "2023-06-29T19:04:38.198Z"
   },
   {
    "duration": 17,
    "start_time": "2023-06-29T19:04:38.484Z"
   },
   {
    "duration": 55,
    "start_time": "2023-06-29T19:04:38.503Z"
   },
   {
    "duration": 15,
    "start_time": "2023-06-29T19:04:38.560Z"
   },
   {
    "duration": 18,
    "start_time": "2023-06-29T19:04:38.577Z"
   },
   {
    "duration": 11,
    "start_time": "2023-06-29T19:04:38.598Z"
   },
   {
    "duration": 12,
    "start_time": "2023-06-29T19:04:38.611Z"
   },
   {
    "duration": 25,
    "start_time": "2023-06-29T19:04:38.625Z"
   },
   {
    "duration": 41,
    "start_time": "2023-06-29T19:04:38.652Z"
   },
   {
    "duration": 57,
    "start_time": "2023-06-29T19:04:38.696Z"
   },
   {
    "duration": 80,
    "start_time": "2023-06-29T19:04:38.757Z"
   },
   {
    "duration": 80,
    "start_time": "2023-06-29T19:04:38.839Z"
   },
   {
    "duration": 103,
    "start_time": "2023-06-29T19:04:38.921Z"
   },
   {
    "duration": 97,
    "start_time": "2023-06-29T19:04:39.026Z"
   },
   {
    "duration": 4,
    "start_time": "2023-06-29T19:04:39.125Z"
   },
   {
    "duration": 7,
    "start_time": "2023-06-29T19:04:39.131Z"
   },
   {
    "duration": 25,
    "start_time": "2023-06-29T19:04:39.152Z"
   },
   {
    "duration": 89,
    "start_time": "2023-06-29T19:04:39.179Z"
   },
   {
    "duration": 18,
    "start_time": "2023-06-29T19:04:39.270Z"
   },
   {
    "duration": 22,
    "start_time": "2023-06-29T19:04:39.290Z"
   },
   {
    "duration": 206421,
    "start_time": "2023-06-29T19:04:39.314Z"
   },
   {
    "duration": 26,
    "start_time": "2023-06-29T19:08:05.737Z"
   },
   {
    "duration": 17,
    "start_time": "2023-06-29T19:08:05.764Z"
   },
   {
    "duration": 35,
    "start_time": "2023-06-29T19:08:05.783Z"
   },
   {
    "duration": 4145,
    "start_time": "2023-06-29T19:08:05.821Z"
   },
   {
    "duration": 1091,
    "start_time": "2023-06-29T19:08:09.970Z"
   },
   {
    "duration": 4692,
    "start_time": "2023-06-29T19:08:11.064Z"
   },
   {
    "duration": 1300,
    "start_time": "2023-06-29T19:08:15.758Z"
   },
   {
    "duration": 94,
    "start_time": "2023-06-29T19:08:17.060Z"
   },
   {
    "duration": 8,
    "start_time": "2023-06-29T19:08:17.157Z"
   },
   {
    "duration": 22695,
    "start_time": "2023-06-29T19:08:17.167Z"
   },
   {
    "duration": 253,
    "start_time": "2023-06-29T19:08:39.864Z"
   },
   {
    "duration": 30313,
    "start_time": "2023-06-29T19:08:40.119Z"
   },
   {
    "duration": 200,
    "start_time": "2023-06-29T19:09:10.434Z"
   },
   {
    "duration": 4,
    "start_time": "2023-06-29T19:09:10.636Z"
   },
   {
    "duration": 4,
    "start_time": "2023-06-29T19:09:10.652Z"
   },
   {
    "duration": 168673,
    "start_time": "2023-06-29T19:09:10.658Z"
   },
   {
    "duration": 7891,
    "start_time": "2023-06-29T19:11:59.333Z"
   },
   {
    "duration": 237663,
    "start_time": "2023-06-29T19:12:07.225Z"
   },
   {
    "duration": 2146,
    "start_time": "2023-06-29T19:16:04.890Z"
   },
   {
    "duration": 4,
    "start_time": "2023-06-29T19:16:07.038Z"
   },
   {
    "duration": 57,
    "start_time": "2023-06-29T19:16:07.058Z"
   },
   {
    "duration": 30,
    "start_time": "2023-06-29T19:16:07.117Z"
   },
   {
    "duration": 42,
    "start_time": "2023-06-29T19:16:07.149Z"
   },
   {
    "duration": 2273,
    "start_time": "2023-06-29T19:16:07.196Z"
   },
   {
    "duration": 0,
    "start_time": "2023-06-29T19:16:09.470Z"
   },
   {
    "duration": 0,
    "start_time": "2023-06-29T19:16:09.472Z"
   },
   {
    "duration": 0,
    "start_time": "2023-06-29T19:16:09.473Z"
   },
   {
    "duration": 2047,
    "start_time": "2023-06-29T19:19:50.431Z"
   },
   {
    "duration": 546,
    "start_time": "2023-06-29T19:20:06.084Z"
   },
   {
    "duration": 3,
    "start_time": "2023-06-29T19:20:13.045Z"
   },
   {
    "duration": 9,
    "start_time": "2023-06-29T19:20:30.659Z"
   },
   {
    "duration": 15,
    "start_time": "2023-06-29T19:20:46.554Z"
   },
   {
    "duration": 9,
    "start_time": "2023-06-29T19:23:31.713Z"
   },
   {
    "duration": 12,
    "start_time": "2023-06-29T19:23:43.549Z"
   },
   {
    "duration": 18,
    "start_time": "2023-06-29T19:47:56.242Z"
   },
   {
    "duration": 13,
    "start_time": "2023-06-29T19:48:30.813Z"
   },
   {
    "duration": 9,
    "start_time": "2023-06-29T19:50:52.122Z"
   },
   {
    "duration": 10,
    "start_time": "2023-06-29T19:51:38.454Z"
   },
   {
    "duration": 10,
    "start_time": "2023-06-29T19:52:00.125Z"
   },
   {
    "duration": 13,
    "start_time": "2023-06-29T19:55:33.048Z"
   },
   {
    "duration": 9,
    "start_time": "2023-06-29T19:55:37.705Z"
   }
  ],
  "kernelspec": {
   "display_name": "Python 3 (ipykernel)",
   "language": "python",
   "name": "python3"
  },
  "language_info": {
   "codemirror_mode": {
    "name": "ipython",
    "version": 3
   },
   "file_extension": ".py",
   "mimetype": "text/x-python",
   "name": "python",
   "nbconvert_exporter": "python",
   "pygments_lexer": "ipython3",
   "version": "3.11.2"
  },
  "toc": {
   "base_numbering": 1,
   "nav_menu": {},
   "number_sections": true,
   "sideBar": true,
   "skip_h1_title": true,
   "title_cell": "Содержание",
   "title_sidebar": "Contents",
   "toc_cell": true,
   "toc_position": {
    "height": "calc(100% - 180px)",
    "left": "10px",
    "top": "150px",
    "width": "165px"
   },
   "toc_section_display": true,
   "toc_window_display": true
  }
 },
 "nbformat": 4,
 "nbformat_minor": 4
}
