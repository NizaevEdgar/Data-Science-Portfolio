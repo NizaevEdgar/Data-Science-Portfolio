{
 "cells": [
  {
   "cell_type": "markdown",
   "metadata": {
    "toc": true
   },
   "source": [
    "<h1>Содержание<span class=\"tocSkip\"></span></h1>\n",
    "<div class=\"toc\"><ul class=\"toc-item\"><li><span><a href=\"#Подготовка-данных\" data-toc-modified-id=\"Подготовка-данных-1\"><span class=\"toc-item-num\">1&nbsp;&nbsp;</span>Подготовка данных</a></span><ul class=\"toc-item\"><li><span><a href=\"#Считаем-данные-из-csv-файла-и-сохраним-в-переменную.\" data-toc-modified-id=\"Считаем-данные-из-csv-файла-и-сохраним-в-переменную.-1.1\"><span class=\"toc-item-num\">1.1&nbsp;&nbsp;</span>Считаем данные из csv-файла и сохраним в переменную.</a></span></li><li><span><a href=\"#Выведем-общую-информацию-и-первые-5-строчек-таблицы.\" data-toc-modified-id=\"Выведем-общую-информацию-и-первые-5-строчек-таблицы.-1.2\"><span class=\"toc-item-num\">1.2&nbsp;&nbsp;</span>Выведем общую информацию и первые 5 строчек таблицы.</a></span></li><li><span><a href=\"#Рассмотрим-столбец-toxic\" data-toc-modified-id=\"Рассмотрим-столбец-toxic-1.3\"><span class=\"toc-item-num\">1.3&nbsp;&nbsp;</span>Рассмотрим столбец <code>toxic</code></a></span></li><li><span><a href=\"#Очистка-столбца-text-от-лишних-символов.\" data-toc-modified-id=\"Очистка-столбца-text-от-лишних-символов.-1.4\"><span class=\"toc-item-num\">1.4&nbsp;&nbsp;</span>Очистка столбца <code>text</code> от лишних символов.</a></span></li><li><span><a href=\"#Проверим-наличие-дубликатов\" data-toc-modified-id=\"Проверим-наличие-дубликатов-1.5\"><span class=\"toc-item-num\">1.5&nbsp;&nbsp;</span>Проверим наличие дубликатов</a></span></li><li><span><a href=\"#Лемматизация-столбца-text.\" data-toc-modified-id=\"Лемматизация-столбца-text.-1.6\"><span class=\"toc-item-num\">1.6&nbsp;&nbsp;</span>Лемматизация столбца <code>text</code>.</a></span></li></ul></li><li><span><a href=\"#Обучение-моделей\" data-toc-modified-id=\"Обучение-моделей-2\"><span class=\"toc-item-num\">2&nbsp;&nbsp;</span>Обучение моделей</a></span><ul class=\"toc-item\"><li><span><a href=\"#Разделим-исходные-данные-на-обучающую-и-тестовую-выборки.\" data-toc-modified-id=\"Разделим-исходные-данные-на-обучающую-и-тестовую-выборки.-2.1\"><span class=\"toc-item-num\">2.1&nbsp;&nbsp;</span>Разделим исходные данные на обучающую и тестовую выборки.</a></span></li><li><span><a href=\"#TF-IDF\" data-toc-modified-id=\"TF-IDF-2.2\"><span class=\"toc-item-num\">2.2&nbsp;&nbsp;</span>TF-IDF</a></span></li><li><span><a href=\"#Обучим-разные-модели\" data-toc-modified-id=\"Обучим-разные-модели-2.3\"><span class=\"toc-item-num\">2.3&nbsp;&nbsp;</span>Обучим разные модели</a></span><ul class=\"toc-item\"><li><span><a href=\"#Первая-модель---Решающее-дерево-(DecisionTreeClassifier).\" data-toc-modified-id=\"Первая-модель---Решающее-дерево-(DecisionTreeClassifier).-2.3.1\"><span class=\"toc-item-num\">2.3.1&nbsp;&nbsp;</span>Первая модель - <code>Решающее дерево (DecisionTreeClassifier)</code>.</a></span></li><li><span><a href=\"#Вторая-модель---Случайный-лес-(RandomForestClassifier).\" data-toc-modified-id=\"Вторая-модель---Случайный-лес-(RandomForestClassifier).-2.3.2\"><span class=\"toc-item-num\">2.3.2&nbsp;&nbsp;</span>Вторая модель - <code>Случайный лес (RandomForestClassifier)</code>.</a></span></li><li><span><a href=\"#Третья-модель---Логистическая-регрессия-(LogisticRegression).\" data-toc-modified-id=\"Третья-модель---Логистическая-регрессия-(LogisticRegression).-2.3.3\"><span class=\"toc-item-num\">2.3.3&nbsp;&nbsp;</span>Третья модель - <code>Логистическая регрессия (LogisticRegression)</code>.</a></span></li><li><span><a href=\"#Четвертая-модель---CatBoostClassifier.\" data-toc-modified-id=\"Четвертая-модель---CatBoostClassifier.-2.3.4\"><span class=\"toc-item-num\">2.3.4&nbsp;&nbsp;</span>Четвертая модель - <code>CatBoostClassifier</code>.</a></span></li></ul></li></ul></li><li><span><a href=\"#Тестирование-модели\" data-toc-modified-id=\"Тестирование-модели-3\"><span class=\"toc-item-num\">3&nbsp;&nbsp;</span>Тестирование модели</a></span></li><li><span><a href=\"#Общие-выводы\" data-toc-modified-id=\"Общие-выводы-4\"><span class=\"toc-item-num\">4&nbsp;&nbsp;</span>Общие выводы</a></span></li><li><span><a href=\"#Чек-лист-проверки\" data-toc-modified-id=\"Чек-лист-проверки-5\"><span class=\"toc-item-num\">5&nbsp;&nbsp;</span>Чек-лист проверки</a></span></li></ul></div>"
   ]
  },
  {
   "cell_type": "markdown",
   "metadata": {
    "id": "M-0x4mvZy8IF"
   },
   "source": [
    "# Проект для интернет-магазина"
   ]
  },
  {
   "cell_type": "markdown",
   "metadata": {
    "id": "E33I7wh9y8IF"
   },
   "source": [
    "Интернет-магазин запускает новый сервис. Теперь пользователи могут редактировать и дополнять описания товаров, как в вики-сообществах. То есть клиенты предлагают свои правки и комментируют изменения других.\n",
    "\n",
    "**Цель:** Необходимо создать инструмент, который будет искать токсичные комментарии и отправлять их на модерацию.\n",
    "\n",
    "**Задача:** Обучить модель классифицировать комментарии на позитивные и негативные. Построить модель со значением метрики качества *F1* не меньше 0.75.\n",
    "\n",
    "В нашем распоряжении набор данных с разметкой о токсичности правок `toxic_comments.csv`. Столбец *text* в нём содержит текст комментария, а *toxic* — целевой признак.\n",
    "\n",
    "**Ход исследования:**\n",
    "\n",
    "1. Загрузить и подготовить данные.\n",
    "2. Обучить разные модели.\n",
    "3. Получить значение метрики качества *F1* не меньше 0.75.\n",
    "3. Сделать общие выводы.\n",
    "\n",
    "Для выполнения проекта можно применить *BERT*."
   ]
  },
  {
   "cell_type": "markdown",
   "metadata": {
    "id": "RjmqmNgOy8IF"
   },
   "source": [
    "## Подготовка данных"
   ]
  },
  {
   "cell_type": "markdown",
   "metadata": {
    "id": "z5RXR8huy8IF"
   },
   "source": [
    "### Считаем данные из csv-файла и сохраним в переменную."
   ]
  },
  {
   "cell_type": "code",
   "execution_count": 1,
   "metadata": {
    "tags": []
   },
   "outputs": [],
   "source": [
    "# для spacy\n",
    "# !pip install -U pip setuptools wheel\n",
    "# !pip install -U spacy\n",
    "# !python -m spacy download en_core_web_sm\n",
    "\n",
    "# для прогресс-бара\n",
    "# !pip install ipywidgets\n",
    "# !jupyter nbextension enable --py widgetsnbextension\n",
    "# !jupyter labextension install @jupyter-widgets/jupyterlab-manager"
   ]
  },
  {
   "cell_type": "code",
   "execution_count": 2,
   "metadata": {
    "id": "vsDqjziQy8IG",
    "tags": []
   },
   "outputs": [],
   "source": [
    "import pandas as pd\n",
    "import numpy as np\n",
    "import matplotlib.pyplot as plt\n",
    "from tqdm.notebook import tqdm\n",
    "\n",
    "from pymystem3 import Mystem\n",
    "import re\n",
    "\n",
    "import spacy\n",
    "\n",
    "import nltk\n",
    "from nltk.stem import WordNetLemmatizer\n",
    "from nltk.corpus import stopwords as nltk_stopwords\n",
    "\n",
    "from sklearn.model_selection import RandomizedSearchCV\n",
    "\n",
    "from sklearn.linear_model import LogisticRegression\n",
    "from sklearn.ensemble import RandomForestClassifier\n",
    "from sklearn.tree import DecisionTreeClassifier\n",
    "from catboost import CatBoostClassifier\n",
    "\n",
    "from sklearn.model_selection import train_test_split\n",
    "from sklearn.metrics import f1_score\n",
    "from sklearn.pipeline import Pipeline\n",
    "\n",
    "from sklearn.feature_extraction.text import TfidfVectorizer\n",
    "\n",
    "import warnings\n",
    "warnings.filterwarnings('ignore')"
   ]
  },
  {
   "cell_type": "code",
   "execution_count": 3,
   "metadata": {
    "colab": {
     "base_uri": "https://localhost:8080/"
    },
    "id": "lkbSGfOsy8IG",
    "outputId": "ae35d74f-a349-4bc2-c3a8-44e4ad2c238f",
    "tags": []
   },
   "outputs": [
    {
     "name": "stderr",
     "output_type": "stream",
     "text": [
      "[nltk_data] Downloading package punkt to\n",
      "[nltk_data]     C:\\Users\\nizae\\AppData\\Roaming\\nltk_data...\n",
      "[nltk_data]   Package punkt is already up-to-date!\n",
      "[nltk_data] Downloading package wordnet to\n",
      "[nltk_data]     C:\\Users\\nizae\\AppData\\Roaming\\nltk_data...\n",
      "[nltk_data]   Package wordnet is already up-to-date!\n",
      "[nltk_data] Downloading package stopwords to\n",
      "[nltk_data]     C:\\Users\\nizae\\AppData\\Roaming\\nltk_data...\n",
      "[nltk_data]   Package stopwords is already up-to-date!\n"
     ]
    },
    {
     "data": {
      "text/plain": [
       "True"
      ]
     },
     "execution_count": 3,
     "metadata": {},
     "output_type": "execute_result"
    }
   ],
   "source": [
    "nltk.download('punkt')\n",
    "nltk.download('wordnet')\n",
    "nltk.download('stopwords')"
   ]
  },
  {
   "cell_type": "code",
   "execution_count": 5,
   "metadata": {
    "id": "JR2PeOwdy8IG",
    "tags": []
   },
   "outputs": [],
   "source": [
    "try:\n",
    "    data = pd.read_csv('toxic_comments.csv', index_col='Unnamed: 0')\n",
    "except:\n",
    "    data = pd.read_csv('/datasets/toxic_comments.csv', index_col='Unnamed: 0')"
   ]
  },
  {
   "cell_type": "markdown",
   "metadata": {
    "id": "cyOQw87Qy8IH"
   },
   "source": [
    "### Выведем общую информацию и первые 5 строчек таблицы."
   ]
  },
  {
   "cell_type": "code",
   "execution_count": 6,
   "metadata": {
    "colab": {
     "base_uri": "https://localhost:8080/"
    },
    "id": "3DBPY8wry8IH",
    "outputId": "11ec466b-d3ce-4d05-d154-c1f5f2da4ca0",
    "tags": []
   },
   "outputs": [
    {
     "name": "stdout",
     "output_type": "stream",
     "text": [
      "<class 'pandas.core.frame.DataFrame'>\n",
      "Index: 159292 entries, 0 to 159450\n",
      "Data columns (total 2 columns):\n",
      " #   Column  Non-Null Count   Dtype \n",
      "---  ------  --------------   ----- \n",
      " 0   text    159292 non-null  object\n",
      " 1   toxic   159292 non-null  int64 \n",
      "dtypes: int64(1), object(1)\n",
      "memory usage: 3.6+ MB\n"
     ]
    }
   ],
   "source": [
    "data.info()"
   ]
  },
  {
   "cell_type": "code",
   "execution_count": 7,
   "metadata": {
    "colab": {
     "base_uri": "https://localhost:8080/",
     "height": 206
    },
    "id": "42KLwzqHy8IH",
    "outputId": "e106f539-651f-4826-c9c0-32e7441d719e",
    "tags": []
   },
   "outputs": [
    {
     "data": {
      "text/html": [
       "<div>\n",
       "<style scoped>\n",
       "    .dataframe tbody tr th:only-of-type {\n",
       "        vertical-align: middle;\n",
       "    }\n",
       "\n",
       "    .dataframe tbody tr th {\n",
       "        vertical-align: top;\n",
       "    }\n",
       "\n",
       "    .dataframe thead th {\n",
       "        text-align: right;\n",
       "    }\n",
       "</style>\n",
       "<table border=\"1\" class=\"dataframe\">\n",
       "  <thead>\n",
       "    <tr style=\"text-align: right;\">\n",
       "      <th></th>\n",
       "      <th>text</th>\n",
       "      <th>toxic</th>\n",
       "    </tr>\n",
       "  </thead>\n",
       "  <tbody>\n",
       "    <tr>\n",
       "      <th>0</th>\n",
       "      <td>Explanation\\nWhy the edits made under my usern...</td>\n",
       "      <td>0</td>\n",
       "    </tr>\n",
       "    <tr>\n",
       "      <th>1</th>\n",
       "      <td>D'aww! He matches this background colour I'm s...</td>\n",
       "      <td>0</td>\n",
       "    </tr>\n",
       "    <tr>\n",
       "      <th>2</th>\n",
       "      <td>Hey man, I'm really not trying to edit war. It...</td>\n",
       "      <td>0</td>\n",
       "    </tr>\n",
       "    <tr>\n",
       "      <th>3</th>\n",
       "      <td>\"\\nMore\\nI can't make any real suggestions on ...</td>\n",
       "      <td>0</td>\n",
       "    </tr>\n",
       "    <tr>\n",
       "      <th>4</th>\n",
       "      <td>You, sir, are my hero. Any chance you remember...</td>\n",
       "      <td>0</td>\n",
       "    </tr>\n",
       "  </tbody>\n",
       "</table>\n",
       "</div>"
      ],
      "text/plain": [
       "                                                text  toxic\n",
       "0  Explanation\\nWhy the edits made under my usern...      0\n",
       "1  D'aww! He matches this background colour I'm s...      0\n",
       "2  Hey man, I'm really not trying to edit war. It...      0\n",
       "3  \"\\nMore\\nI can't make any real suggestions on ...      0\n",
       "4  You, sir, are my hero. Any chance you remember...      0"
      ]
     },
     "execution_count": 7,
     "metadata": {},
     "output_type": "execute_result"
    }
   ],
   "source": [
    "data.head()"
   ]
  },
  {
   "cell_type": "markdown",
   "metadata": {
    "id": "KyGTS-nEy8IH"
   },
   "source": [
    "### Рассмотрим столбец `toxic`"
   ]
  },
  {
   "cell_type": "code",
   "execution_count": 8,
   "metadata": {
    "colab": {
     "base_uri": "https://localhost:8080/",
     "height": 425
    },
    "id": "pl0azbo_y8IH",
    "outputId": "a3c1bb38-fedf-41ab-8911-73372bb2290f",
    "tags": []
   },
   "outputs": [
    {
     "data": {
      "image/png": "[encoded data removed]",
      "text/plain": [
       "<Figure size 640x480 with 1 Axes>"
      ]
     },
     "metadata": {},
     "output_type": "display_data"
    }
   ],
   "source": [
    "data['toxic'].value_counts().plot.bar()\n",
    "plt.title(\"Количество токсичных и не токсичных комментариев\")\n",
    "plt.xlabel('Столбец \"toxic\" (0 - не токсичный, 1 - токсичный)')\n",
    "plt.ylabel('Количество комментариев')\n",
    "plt.xticks(rotation=0)\n",
    "plt.show()"
   ]
  },
  {
   "cell_type": "code",
   "execution_count": 9,
   "metadata": {
    "colab": {
     "base_uri": "https://localhost:8080/"
    },
    "id": "KukHY5x0y8IH",
    "outputId": "18470aaf-40f8-4324-cee9-2d31456a25ea",
    "tags": []
   },
   "outputs": [
    {
     "data": {
      "text/plain": [
       "toxic\n",
       "0    143106\n",
       "1     16186\n",
       "Name: count, dtype: int64"
      ]
     },
     "execution_count": 9,
     "metadata": {},
     "output_type": "execute_result"
    }
   ],
   "source": [
    "data['toxic'].value_counts()"
   ]
  },
  {
   "cell_type": "markdown",
   "metadata": {
    "id": "RIMJz4Joy8IH"
   },
   "source": [
    "Положительных (0 - не токсичные) комментариев на порядок больше, чем отрицательных (1 - токсичные, негативные)."
   ]
  },
  {
   "cell_type": "markdown",
   "metadata": {
    "id": "Gyufe3nFy8IH"
   },
   "source": [
    "### Очистка столбца `text` от лишних символов."
   ]
  },
  {
   "cell_type": "markdown",
   "metadata": {
    "id": "oLYmQ_J-y8II"
   },
   "source": [
    "Напишем функцию `clear_text(text)`, которая оставит в тексте только алфавитные символы, апострофы и пробелы."
   ]
  },
  {
   "cell_type": "code",
   "execution_count": 10,
   "metadata": {
    "tags": []
   },
   "outputs": [],
   "source": [
    "def clear_text(text):\n",
    "    \n",
    "    text = text.split()\n",
    "    text = \" \".join(text)\n",
    "    text = re.sub(r\"(?!')[\\W\\d]+|(?![\\w])' \", ' ', text) # все кроме букв и апострофов\n",
    "    text = text.lower()\n",
    "    \n",
    "    return text"
   ]
  },
  {
   "cell_type": "code",
   "execution_count": 11,
   "metadata": {
    "colab": {
     "base_uri": "https://localhost:8080/",
     "height": 206
    },
    "id": "NoUVo0Luy8II",
    "outputId": "87a2184b-837d-47c4-8cd8-f761bc88990a",
    "tags": []
   },
   "outputs": [
    {
     "data": {
      "text/html": [
       "<div>\n",
       "<style scoped>\n",
       "    .dataframe tbody tr th:only-of-type {\n",
       "        vertical-align: middle;\n",
       "    }\n",
       "\n",
       "    .dataframe tbody tr th {\n",
       "        vertical-align: top;\n",
       "    }\n",
       "\n",
       "    .dataframe thead th {\n",
       "        text-align: right;\n",
       "    }\n",
       "</style>\n",
       "<table border=\"1\" class=\"dataframe\">\n",
       "  <thead>\n",
       "    <tr style=\"text-align: right;\">\n",
       "      <th></th>\n",
       "      <th>text</th>\n",
       "      <th>toxic</th>\n",
       "    </tr>\n",
       "  </thead>\n",
       "  <tbody>\n",
       "    <tr>\n",
       "      <th>0</th>\n",
       "      <td>explanation why the edits made under my userna...</td>\n",
       "      <td>0</td>\n",
       "    </tr>\n",
       "    <tr>\n",
       "      <th>1</th>\n",
       "      <td>d'aww he matches this background colour i'm se...</td>\n",
       "      <td>0</td>\n",
       "    </tr>\n",
       "    <tr>\n",
       "      <th>2</th>\n",
       "      <td>hey man i'm really not trying to edit war it's...</td>\n",
       "      <td>0</td>\n",
       "    </tr>\n",
       "    <tr>\n",
       "      <th>3</th>\n",
       "      <td>more i can't make any real suggestions on imp...</td>\n",
       "      <td>0</td>\n",
       "    </tr>\n",
       "    <tr>\n",
       "      <th>4</th>\n",
       "      <td>you sir are my hero any chance you remember wh...</td>\n",
       "      <td>0</td>\n",
       "    </tr>\n",
       "    <tr>\n",
       "      <th>5</th>\n",
       "      <td>congratulations from me as well use the tools...</td>\n",
       "      <td>0</td>\n",
       "    </tr>\n",
       "    <tr>\n",
       "      <th>6</th>\n",
       "      <td>cocksucker before you piss around on my work</td>\n",
       "      <td>1</td>\n",
       "    </tr>\n",
       "    <tr>\n",
       "      <th>7</th>\n",
       "      <td>your vandalism to the matt shirvington article...</td>\n",
       "      <td>0</td>\n",
       "    </tr>\n",
       "    <tr>\n",
       "      <th>8</th>\n",
       "      <td>sorry if the word nonsense was offensive to yo...</td>\n",
       "      <td>0</td>\n",
       "    </tr>\n",
       "    <tr>\n",
       "      <th>9</th>\n",
       "      <td>alignment on this subject and which are contra...</td>\n",
       "      <td>0</td>\n",
       "    </tr>\n",
       "    <tr>\n",
       "      <th>10</th>\n",
       "      <td>fair use rationale for image wonju jpg thanks...</td>\n",
       "      <td>0</td>\n",
       "    </tr>\n",
       "    <tr>\n",
       "      <th>11</th>\n",
       "      <td>bbq be a man and lets discuss it maybe over th...</td>\n",
       "      <td>0</td>\n",
       "    </tr>\n",
       "    <tr>\n",
       "      <th>12</th>\n",
       "      <td>hey what is it talk what is it an exclusive gr...</td>\n",
       "      <td>1</td>\n",
       "    </tr>\n",
       "    <tr>\n",
       "      <th>13</th>\n",
       "      <td>before you start throwing accusations and warn...</td>\n",
       "      <td>0</td>\n",
       "    </tr>\n",
       "    <tr>\n",
       "      <th>14</th>\n",
       "      <td>oh and the girl above started her arguments wi...</td>\n",
       "      <td>0</td>\n",
       "    </tr>\n",
       "    <tr>\n",
       "      <th>15</th>\n",
       "      <td>juelz santanas age in juelz santana was years...</td>\n",
       "      <td>0</td>\n",
       "    </tr>\n",
       "    <tr>\n",
       "      <th>16</th>\n",
       "      <td>bye don't look come or think of comming back t...</td>\n",
       "      <td>1</td>\n",
       "    </tr>\n",
       "    <tr>\n",
       "      <th>17</th>\n",
       "      <td>redirect talk voydan pop georgiev chernodrinski</td>\n",
       "      <td>0</td>\n",
       "    </tr>\n",
       "    <tr>\n",
       "      <th>18</th>\n",
       "      <td>the mitsurugi point made no sense why not argu...</td>\n",
       "      <td>0</td>\n",
       "    </tr>\n",
       "    <tr>\n",
       "      <th>19</th>\n",
       "      <td>don't mean to bother you i see that you're wri...</td>\n",
       "      <td>0</td>\n",
       "    </tr>\n",
       "  </tbody>\n",
       "</table>\n",
       "</div>"
      ],
      "text/plain": [
       "                                                 text  toxic\n",
       "0   explanation why the edits made under my userna...      0\n",
       "1   d'aww he matches this background colour i'm se...      0\n",
       "2   hey man i'm really not trying to edit war it's...      0\n",
       "3    more i can't make any real suggestions on imp...      0\n",
       "4   you sir are my hero any chance you remember wh...      0\n",
       "5    congratulations from me as well use the tools...      0\n",
       "6        cocksucker before you piss around on my work      1\n",
       "7   your vandalism to the matt shirvington article...      0\n",
       "8   sorry if the word nonsense was offensive to yo...      0\n",
       "9   alignment on this subject and which are contra...      0\n",
       "10   fair use rationale for image wonju jpg thanks...      0\n",
       "11  bbq be a man and lets discuss it maybe over th...      0\n",
       "12  hey what is it talk what is it an exclusive gr...      1\n",
       "13  before you start throwing accusations and warn...      0\n",
       "14  oh and the girl above started her arguments wi...      0\n",
       "15   juelz santanas age in juelz santana was years...      0\n",
       "16  bye don't look come or think of comming back t...      1\n",
       "17    redirect talk voydan pop georgiev chernodrinski      0\n",
       "18  the mitsurugi point made no sense why not argu...      0\n",
       "19  don't mean to bother you i see that you're wri...      0"
      ]
     },
     "execution_count": 11,
     "metadata": {},
     "output_type": "execute_result"
    }
   ],
   "source": [
    "data['text'] = data['text'].apply(clear_text)\n",
    "data.head(20)"
   ]
  },
  {
   "cell_type": "markdown",
   "metadata": {
    "id": "Q6dqEZyP196s"
   },
   "source": [
    "### Проверим наличие дубликатов"
   ]
  },
  {
   "cell_type": "code",
   "execution_count": 12,
   "metadata": {
    "colab": {
     "base_uri": "https://localhost:8080/"
    },
    "id": "11TMUjS_12Rk",
    "outputId": "b6811733-ddae-4174-fc24-ef67b310c9b6",
    "tags": []
   },
   "outputs": [
    {
     "name": "stdout",
     "output_type": "stream",
     "text": [
      "Количество дубликатов - 1043\n"
     ]
    }
   ],
   "source": [
    "print('Количество дубликатов -', data.duplicated().sum())"
   ]
  },
  {
   "cell_type": "code",
   "execution_count": 13,
   "metadata": {
    "colab": {
     "base_uri": "https://localhost:8080/"
    },
    "id": "pC0tgcK32GIV",
    "outputId": "dc4f1441-02ba-4f73-d8e9-8231e251c573",
    "tags": []
   },
   "outputs": [
    {
     "name": "stdout",
     "output_type": "stream",
     "text": [
      "Количество дубликатов - 0\n"
     ]
    }
   ],
   "source": [
    "# Удалим дубликаты\n",
    "data = data.drop_duplicates()\n",
    "print('Количество дубликатов -', data.duplicated().sum())"
   ]
  },
  {
   "cell_type": "code",
   "execution_count": 14,
   "metadata": {
    "colab": {
     "base_uri": "https://localhost:8080/"
    },
    "id": "Ltmx56zZ3fuE",
    "outputId": "bcdc6e57-1b96-4370-8818-34d38f404ca4",
    "tags": []
   },
   "outputs": [
    {
     "name": "stdout",
     "output_type": "stream",
     "text": [
      "<class 'pandas.core.frame.DataFrame'>\n",
      "Index: 158249 entries, 0 to 159450\n",
      "Data columns (total 2 columns):\n",
      " #   Column  Non-Null Count   Dtype \n",
      "---  ------  --------------   ----- \n",
      " 0   text    158249 non-null  object\n",
      " 1   toxic   158249 non-null  int64 \n",
      "dtypes: int64(1), object(1)\n",
      "memory usage: 3.6+ MB\n"
     ]
    }
   ],
   "source": [
    "data.info()"
   ]
  },
  {
   "cell_type": "markdown",
   "metadata": {
    "id": "fx1tcgW23GIU"
   },
   "source": [
    "**Вывод по подготовке данных:**\n",
    "\n",
    "- удалено дубликатов 1043\n",
    "\n",
    "- текст приведен к нижнему регистру и удалены все символы, кроме буквенных, а также лишние пробелы и единичные буквы.\n",
    "\n",
    "Всего в датасете изначально было 159292 строки, после обработки стало 158249 строки.\n",
    "\n",
    "Датасет состоит из двух столбцов - текста комментария на английском языке `text` и оценки токсичности комментария `toxic`.\n",
    "\n",
    "Целевой признак - `toxic` - категориальный - не токсичный комментарий - 0, токсичный - 1.\n",
    "\n",
    "Пропущенных значений нет.\n",
    "\n",
    "Количество не токсичных комментариев много выше, чем токсичных."
   ]
  },
  {
   "cell_type": "markdown",
   "metadata": {
    "id": "LNlTEQTGy8II"
   },
   "source": [
    "### Лемматизация столбца `text`."
   ]
  },
  {
   "cell_type": "markdown",
   "metadata": {
    "id": "jSXUqdToy8II"
   },
   "source": [
    "Лемматизация (англ. lemmatization) — приведение слова к начальной форме — лемме.\n",
    "\n",
    "Для лемматизации всех текстов воспользуемся `spacy`:"
   ]
  },
  {
   "cell_type": "code",
   "execution_count": 15,
   "metadata": {
    "tags": []
   },
   "outputs": [
    {
     "data": {
      "text/plain": [
       "'the stripe bat be hang on their foot for good'"
      ]
     },
     "execution_count": 15,
     "metadata": {},
     "output_type": "execute_result"
    }
   ],
   "source": [
    "# проведем проверку метода\n",
    "\n",
    "nlp = spacy.load('en_core_web_sm', disable=['parser', 'ner'])\n",
    "sentence = \"The striped bats are hanging on their feet for best\"\n",
    "doc = nlp(sentence)\n",
    "\" \".join([token.lemma_ for token in doc])"
   ]
  },
  {
   "cell_type": "code",
   "execution_count": 16,
   "metadata": {
    "tags": []
   },
   "outputs": [],
   "source": [
    "def lemmatize(text):\n",
    "    doc = nlp(text)\n",
    "    return \" \".join([token.lemma_ for token in doc])"
   ]
  },
  {
   "cell_type": "code",
   "execution_count": 17,
   "metadata": {
    "colab": {
     "base_uri": "https://localhost:8080/"
    },
    "id": "rSjgzyh1y8II",
    "outputId": "60375557-c1cd-4fcf-b08b-bd8bfc7545d9",
    "tags": []
   },
   "outputs": [
    {
     "data": {
      "application/vnd.jupyter.widget-view+json": {
       "model_id": "c026dd47e7554079a4ed892da2651538",
       "version_major": 2,
       "version_minor": 0
      },
      "text/plain": [
       "  0%|          | 0/158249 [00:00<?, ?it/s]"
      ]
     },
     "metadata": {},
     "output_type": "display_data"
    }
   ],
   "source": [
    "tqdm.pandas()\n",
    "\n",
    "data['lemm_text'] = data['text'].progress_apply(lemmatize)"
   ]
  },
  {
   "cell_type": "code",
   "execution_count": 18,
   "metadata": {
    "colab": {
     "base_uri": "https://localhost:8080/",
     "height": 206
    },
    "id": "siUd-YjuyrYy",
    "outputId": "731fc4e3-b03f-4929-b310-b6303c7d235e",
    "tags": []
   },
   "outputs": [
    {
     "data": {
      "text/html": [
       "<div>\n",
       "<style scoped>\n",
       "    .dataframe tbody tr th:only-of-type {\n",
       "        vertical-align: middle;\n",
       "    }\n",
       "\n",
       "    .dataframe tbody tr th {\n",
       "        vertical-align: top;\n",
       "    }\n",
       "\n",
       "    .dataframe thead th {\n",
       "        text-align: right;\n",
       "    }\n",
       "</style>\n",
       "<table border=\"1\" class=\"dataframe\">\n",
       "  <thead>\n",
       "    <tr style=\"text-align: right;\">\n",
       "      <th></th>\n",
       "      <th>text</th>\n",
       "      <th>toxic</th>\n",
       "      <th>lemm_text</th>\n",
       "    </tr>\n",
       "  </thead>\n",
       "  <tbody>\n",
       "    <tr>\n",
       "      <th>0</th>\n",
       "      <td>explanation why the edits made under my userna...</td>\n",
       "      <td>0</td>\n",
       "      <td>explanation why the edit make under my usernam...</td>\n",
       "    </tr>\n",
       "    <tr>\n",
       "      <th>1</th>\n",
       "      <td>d'aww he matches this background colour i'm se...</td>\n",
       "      <td>0</td>\n",
       "      <td>d'aww he match this background colour I be see...</td>\n",
       "    </tr>\n",
       "    <tr>\n",
       "      <th>2</th>\n",
       "      <td>hey man i'm really not trying to edit war it's...</td>\n",
       "      <td>0</td>\n",
       "      <td>hey man I be really not try to edit war it be ...</td>\n",
       "    </tr>\n",
       "    <tr>\n",
       "      <th>3</th>\n",
       "      <td>more i can't make any real suggestions on imp...</td>\n",
       "      <td>0</td>\n",
       "      <td>more I can not make any real suggestion on i...</td>\n",
       "    </tr>\n",
       "    <tr>\n",
       "      <th>4</th>\n",
       "      <td>you sir are my hero any chance you remember wh...</td>\n",
       "      <td>0</td>\n",
       "      <td>you sir be my hero any chance you remember wha...</td>\n",
       "    </tr>\n",
       "  </tbody>\n",
       "</table>\n",
       "</div>"
      ],
      "text/plain": [
       "                                                text  toxic  \\\n",
       "0  explanation why the edits made under my userna...      0   \n",
       "1  d'aww he matches this background colour i'm se...      0   \n",
       "2  hey man i'm really not trying to edit war it's...      0   \n",
       "3   more i can't make any real suggestions on imp...      0   \n",
       "4  you sir are my hero any chance you remember wh...      0   \n",
       "\n",
       "                                           lemm_text  \n",
       "0  explanation why the edit make under my usernam...  \n",
       "1  d'aww he match this background colour I be see...  \n",
       "2  hey man I be really not try to edit war it be ...  \n",
       "3    more I can not make any real suggestion on i...  \n",
       "4  you sir be my hero any chance you remember wha...  "
      ]
     },
     "execution_count": 18,
     "metadata": {},
     "output_type": "execute_result"
    }
   ],
   "source": [
    "data.head()"
   ]
  },
  {
   "cell_type": "markdown",
   "metadata": {
    "id": "bS4GY3pG_Zym"
   },
   "source": [
    "Добавили столбец с лемматизированным текстом. В дальнейшем будем использовать его."
   ]
  },
  {
   "cell_type": "markdown",
   "metadata": {
    "id": "__gxKUdyBfMf"
   },
   "source": [
    "## Обучение моделей"
   ]
  },
  {
   "cell_type": "markdown",
   "metadata": {
    "id": "P02A1PNbBiwt"
   },
   "source": [
    "### Разделим исходные данные на обучающую и тестовую выборки."
   ]
  },
  {
   "cell_type": "markdown",
   "metadata": {
    "id": "uc9TRj-tBi8X"
   },
   "source": [
    "**Разделим исходные данные на тренировочную (`_train`)  и тестовую (`_test`) выборки как 90% к 10%.**"
   ]
  },
  {
   "cell_type": "code",
   "execution_count": 19,
   "metadata": {
    "colab": {
     "base_uri": "https://localhost:8080/"
    },
    "id": "YZu9cd0zCGnF",
    "outputId": "946fb526-95de-4f7e-b339-36d66a483c54",
    "tags": []
   },
   "outputs": [
    {
     "name": "stdout",
     "output_type": "stream",
     "text": [
      "Размер тренировочной выборки (признаки): (142424,)\n",
      "Размер тестовой выборки (признаки): (15825,)\n",
      "Размер тренировочной выборки (целевой признак): (142424,)\n",
      "Размер тестовой выборки (целевой признак): (15825,)\n"
     ]
    }
   ],
   "source": [
    "features = data['lemm_text']\n",
    "target = data['toxic']\n",
    "\n",
    "features_train, features_test, target_train, target_test = train_test_split(\n",
    "    features, target, test_size=0.1, random_state=12345)\n",
    "\n",
    "print('Размер тренировочной выборки (признаки):', features_train.shape)\n",
    "print('Размер тестовой выборки (признаки):', features_test.shape)\n",
    "print('Размер тренировочной выборки (целевой признак):', target_train.shape)\n",
    "print('Размер тестовой выборки (целевой признак):', target_test.shape)"
   ]
  },
  {
   "cell_type": "markdown",
   "metadata": {
    "id": "X4_vFpk0Dkdl"
   },
   "source": [
    "**В итоге получили две выборки:**\n",
    "\n",
    "1. Тренировочную выборку `_train` - 90%\n",
    "\n",
    "2. Тестовую выборку `_test` - 10%"
   ]
  },
  {
   "cell_type": "markdown",
   "metadata": {
    "id": "HL_AuCK7GRbj"
   },
   "source": [
    "### TF-IDF"
   ]
  },
  {
   "cell_type": "markdown",
   "metadata": {
    "id": "noQTVfRnGaKT"
   },
   "source": [
    "Оценка важности слова определяется величиной TF-IDF. То есть TF отвечает за количество упоминаний слова в отдельном тексте, а IDF отражает частоту его употребления во всём корпусе."
   ]
  },
  {
   "cell_type": "markdown",
   "metadata": {
    "id": "kMwUIUMaH3PC"
   },
   "source": [
    "Создадим `TfidfVectorizer`, удалим английские стоп-слова."
   ]
  },
  {
   "cell_type": "code",
   "execution_count": 20,
   "metadata": {
    "id": "k1tyOEuSHz8Z",
    "tags": []
   },
   "outputs": [],
   "source": [
    "count_tf_idf = TfidfVectorizer(stop_words=list(set(nltk_stopwords.words('english'))))"
   ]
  },
  {
   "cell_type": "code",
   "execution_count": 21,
   "metadata": {
    "colab": {
     "base_uri": "https://localhost:8080/",
     "height": 34
    },
    "id": "wTAa5OWnIOH6",
    "outputId": "ee663157-1eb8-4ee2-b9d6-b4f1ed4ec5d6",
    "tags": []
   },
   "outputs": [
    {
     "data": {
      "text/plain": [
       "(142424, 148874)"
      ]
     },
     "metadata": {},
     "output_type": "display_data"
    }
   ],
   "source": [
    "tf_idf_train = count_tf_idf.fit_transform(features_train)\n",
    "display(tf_idf_train.shape)"
   ]
  },
  {
   "cell_type": "code",
   "execution_count": 22,
   "metadata": {
    "colab": {
     "base_uri": "https://localhost:8080/",
     "height": 34
    },
    "id": "6Di6jrCsJUyy",
    "outputId": "15b5b1f4-1865-495e-e2f0-928a1f3a77ff",
    "tags": []
   },
   "outputs": [
    {
     "data": {
      "text/plain": [
       "(15825, 148874)"
      ]
     },
     "metadata": {},
     "output_type": "display_data"
    }
   ],
   "source": [
    "tf_idf_test = count_tf_idf.transform(features_test)\n",
    "display(tf_idf_test.shape)"
   ]
  },
  {
   "cell_type": "markdown",
   "metadata": {
    "id": "yfPEGo5WDwxE"
   },
   "source": [
    "### Обучим разные модели"
   ]
  },
  {
   "cell_type": "markdown",
   "metadata": {
    "id": "GEK8-siHK0p5"
   },
   "source": [
    "Выберем следующие алгоритмы для обучения модели:\n",
    "\n",
    "- `DecisionTreeClassifier`\n",
    "- `RandomForestClassifier`\n",
    "- `LogisticRegression`\n",
    "- `CatBoostClassifier`"
   ]
  },
  {
   "cell_type": "markdown",
   "metadata": {
    "id": "8XMP3dhTNvnH"
   },
   "source": [
    "Напишем функцию для подбора гиперпараметров. Подбор лучших гиперпараметров осуществим с помощью RandomizedSearchCV."
   ]
  },
  {
   "cell_type": "code",
   "execution_count": 64,
   "metadata": {
    "tags": []
   },
   "outputs": [],
   "source": [
    "def best_hyper_model(model, \n",
    "                     parameters_m,\n",
    "                     tfidf=count_tf_idf,\n",
    "                     features=features_train, \n",
    "                     target=target_train):\n",
    "    \n",
    "    steps = [('tfidf', tfidf), ('model', model)]\n",
    "    pipe = Pipeline(steps)\n",
    "\n",
    "    # подбор лучших гиперпараметров модели с учетом метрики F1\n",
    "\n",
    "    rand_m = RandomizedSearchCV(estimator=pipe, param_distributions=parameters_m, cv=5, scoring='f1', n_jobs=-2, random_state=12345)\n",
    "    rand_m.fit(features, target)\n",
    "\n",
    "    best_params = rand_m.best_params_\n",
    "\n",
    "    print('Гиперпараметры лучшей модели', best_params)\n",
    "    \n",
    "    best_model = rand_m.best_estimator_\n",
    "    \n",
    "    best_score = rand_m.best_score_\n",
    "    print('F1 модели', best_score)\n",
    "\n",
    "    return  best_model, best_params, best_score"
   ]
  },
  {
   "cell_type": "markdown",
   "metadata": {
    "id": "bQBQt07BEBU7"
   },
   "source": [
    "#### Первая модель - `Решающее дерево (DecisionTreeClassifier)`."
   ]
  },
  {
   "cell_type": "code",
   "execution_count": 38,
   "metadata": {
    "id": "EMHj_SJiOO_n",
    "tags": []
   },
   "outputs": [],
   "source": [
    "parameters_DTC  = {'model__max_depth': range(1, 30), \n",
    "                   'model__class_weight': ['balanced', None]}"
   ]
  },
  {
   "cell_type": "code",
   "execution_count": 39,
   "metadata": {
    "colab": {
     "base_uri": "https://localhost:8080/"
    },
    "id": "3EMoGL6oOrne",
    "outputId": "ac3a7f6d-9378-4113-d5b7-0e8503e5358b",
    "tags": []
   },
   "outputs": [
    {
     "name": "stdout",
     "output_type": "stream",
     "text": [
      "Гиперпараметры лучшей модели {'model__max_depth': 23, 'model__class_weight': None}\n",
      "F1 модели 0.6730062679147212\n",
      "CPU times: total: 34.7 s\n",
      "Wall time: 2min 25s\n"
     ]
    }
   ],
   "source": [
    "%%time\n",
    "\n",
    "model_DTC, params_DTC, best_score_DTC = best_hyper_model(\n",
    "    DecisionTreeClassifier(random_state=12345),\n",
    "    parameters_DTC\n",
    ")"
   ]
  },
  {
   "cell_type": "code",
   "execution_count": 40,
   "metadata": {
    "colab": {
     "base_uri": "https://localhost:8080/",
     "height": 89
    },
    "id": "hawe1eY6yrY0",
    "outputId": "f9044e56-26ad-4ffc-8cdd-d7f05926e56a",
    "tags": []
   },
   "outputs": [
    {
     "data": {
      "text/html": [
       "<div>\n",
       "<style scoped>\n",
       "    .dataframe tbody tr th:only-of-type {\n",
       "        vertical-align: middle;\n",
       "    }\n",
       "\n",
       "    .dataframe tbody tr th {\n",
       "        vertical-align: top;\n",
       "    }\n",
       "\n",
       "    .dataframe thead th {\n",
       "        text-align: right;\n",
       "    }\n",
       "</style>\n",
       "<table border=\"1\" class=\"dataframe\">\n",
       "  <thead>\n",
       "    <tr style=\"text-align: right;\">\n",
       "      <th></th>\n",
       "      <th>Модель</th>\n",
       "      <th>Параметры</th>\n",
       "      <th>F1 метрика</th>\n",
       "    </tr>\n",
       "  </thead>\n",
       "  <tbody>\n",
       "    <tr>\n",
       "      <th>0</th>\n",
       "      <td>DecisionTreeClassifier</td>\n",
       "      <td>{'model__max_depth': 23, 'model__class_weight': None}</td>\n",
       "      <td>0.673006</td>\n",
       "    </tr>\n",
       "  </tbody>\n",
       "</table>\n",
       "</div>"
      ],
      "text/plain": [
       "                   Модель  \\\n",
       "0  DecisionTreeClassifier   \n",
       "\n",
       "                                               Параметры  F1 метрика  \n",
       "0  {'model__max_depth': 23, 'model__class_weight': None}    0.673006  "
      ]
     },
     "execution_count": 40,
     "metadata": {},
     "output_type": "execute_result"
    }
   ],
   "source": [
    "results_DTC = []\n",
    "results_DTC.append({'Модель': 'DecisionTreeClassifier',\n",
    "                'Параметры': params_DTC,\n",
    "                'F1 метрика': best_score_DTC})\n",
    "\n",
    "pd.set_option('display.max_colwidth', None)\n",
    "pd.DataFrame(results_DTC)"
   ]
  },
  {
   "cell_type": "markdown",
   "metadata": {
    "id": "t8En1GzPEpF0"
   },
   "source": [
    "#### Вторая модель - `Случайный лес (RandomForestClassifier)`."
   ]
  },
  {
   "cell_type": "code",
   "execution_count": 41,
   "metadata": {
    "id": "ss6SLvduyrY0",
    "tags": []
   },
   "outputs": [],
   "source": [
    "parameters_RFC  = {'model__max_depth': range(1, 30),\n",
    "                   'model__n_estimators': range(1, 41, 10),\n",
    "                   'model__class_weight': ['balanced', None]}"
   ]
  },
  {
   "cell_type": "code",
   "execution_count": 42,
   "metadata": {
    "colab": {
     "base_uri": "https://localhost:8080/"
    },
    "id": "qCcfz0dNyrY0",
    "outputId": "b5ea65ec-6bba-4fe6-b597-bf8a55177dfb",
    "tags": []
   },
   "outputs": [
    {
     "name": "stdout",
     "output_type": "stream",
     "text": [
      "Гиперпараметры лучшей модели {'model__n_estimators': 31, 'model__max_depth': 25, 'model__class_weight': 'balanced'}\n",
      "F1 модели 0.4014027439817337\n",
      "CPU times: total: 23 s\n",
      "Wall time: 1min 11s\n"
     ]
    }
   ],
   "source": [
    "%%time\n",
    "\n",
    "model_RFC, params_RFC, best_score_RFC = best_hyper_model(\n",
    "    RandomForestClassifier(random_state=12345),\n",
    "    parameters_RFC\n",
    ")"
   ]
  },
  {
   "cell_type": "code",
   "execution_count": 43,
   "metadata": {
    "colab": {
     "base_uri": "https://localhost:8080/",
     "height": 89
    },
    "id": "HnLhsuhRyrY1",
    "outputId": "c4e9d3c4-a8cf-4e6a-b440-944e53a185a4",
    "tags": []
   },
   "outputs": [
    {
     "data": {
      "text/html": [
       "<div>\n",
       "<style scoped>\n",
       "    .dataframe tbody tr th:only-of-type {\n",
       "        vertical-align: middle;\n",
       "    }\n",
       "\n",
       "    .dataframe tbody tr th {\n",
       "        vertical-align: top;\n",
       "    }\n",
       "\n",
       "    .dataframe thead th {\n",
       "        text-align: right;\n",
       "    }\n",
       "</style>\n",
       "<table border=\"1\" class=\"dataframe\">\n",
       "  <thead>\n",
       "    <tr style=\"text-align: right;\">\n",
       "      <th></th>\n",
       "      <th>Модель</th>\n",
       "      <th>Параметры</th>\n",
       "      <th>F1 метрика</th>\n",
       "    </tr>\n",
       "  </thead>\n",
       "  <tbody>\n",
       "    <tr>\n",
       "      <th>0</th>\n",
       "      <td>RandomForestClassifier</td>\n",
       "      <td>{'model__n_estimators': 31, 'model__max_depth': 25, 'model__class_weight': 'balanced'}</td>\n",
       "      <td>0.401403</td>\n",
       "    </tr>\n",
       "  </tbody>\n",
       "</table>\n",
       "</div>"
      ],
      "text/plain": [
       "                   Модель  \\\n",
       "0  RandomForestClassifier   \n",
       "\n",
       "                                                                                Параметры  \\\n",
       "0  {'model__n_estimators': 31, 'model__max_depth': 25, 'model__class_weight': 'balanced'}   \n",
       "\n",
       "   F1 метрика  \n",
       "0    0.401403  "
      ]
     },
     "execution_count": 43,
     "metadata": {},
     "output_type": "execute_result"
    }
   ],
   "source": [
    "results_RFC = []\n",
    "results_RFC.append({'Модель': 'RandomForestClassifier',\n",
    "                'Параметры': params_RFC,\n",
    "                'F1 метрика': best_score_RFC})\n",
    "\n",
    "pd.set_option('display.max_colwidth', None)\n",
    "pd.DataFrame(results_RFC)"
   ]
  },
  {
   "cell_type": "markdown",
   "metadata": {
    "id": "Lu8pIXmMyrY1"
   },
   "source": [
    "#### Третья модель - `Логистическая регрессия (LogisticRegression)`."
   ]
  },
  {
   "cell_type": "code",
   "execution_count": 44,
   "metadata": {
    "id": "MXZEhYx6yrY1",
    "tags": []
   },
   "outputs": [],
   "source": [
    "parameters_LR  = {'model__class_weight': ['balanced', None], 'model__C' : [1, 10, 100]}"
   ]
  },
  {
   "cell_type": "code",
   "execution_count": 45,
   "metadata": {
    "colab": {
     "base_uri": "https://localhost:8080/"
    },
    "id": "NF0jh9FkyrY1",
    "outputId": "a913286a-c6f1-475a-eca2-b4d235e5f89a",
    "tags": []
   },
   "outputs": [
    {
     "name": "stdout",
     "output_type": "stream",
     "text": [
      "Гиперпараметры лучшей модели {'model__class_weight': None, 'model__C': 10}\n",
      "F1 модели 0.7792634931548268\n",
      "CPU times: total: 13.7 s\n",
      "Wall time: 1min 6s\n"
     ]
    }
   ],
   "source": [
    "%%time\n",
    "\n",
    "model_LR, params_LR, best_score_LR = best_hyper_model(\n",
    "    LogisticRegression(random_state=12345),\n",
    "    parameters_LR\n",
    ")"
   ]
  },
  {
   "cell_type": "code",
   "execution_count": 46,
   "metadata": {
    "colab": {
     "base_uri": "https://localhost:8080/",
     "height": 89
    },
    "id": "ixioy0ZryrY1",
    "outputId": "3eb7c8f9-e8c2-4f9f-b03d-f9299eb47142",
    "tags": []
   },
   "outputs": [
    {
     "data": {
      "text/html": [
       "<div>\n",
       "<style scoped>\n",
       "    .dataframe tbody tr th:only-of-type {\n",
       "        vertical-align: middle;\n",
       "    }\n",
       "\n",
       "    .dataframe tbody tr th {\n",
       "        vertical-align: top;\n",
       "    }\n",
       "\n",
       "    .dataframe thead th {\n",
       "        text-align: right;\n",
       "    }\n",
       "</style>\n",
       "<table border=\"1\" class=\"dataframe\">\n",
       "  <thead>\n",
       "    <tr style=\"text-align: right;\">\n",
       "      <th></th>\n",
       "      <th>Модель</th>\n",
       "      <th>Параметры</th>\n",
       "      <th>F1 метрика</th>\n",
       "    </tr>\n",
       "  </thead>\n",
       "  <tbody>\n",
       "    <tr>\n",
       "      <th>0</th>\n",
       "      <td>LogisticRegression</td>\n",
       "      <td>{'model__class_weight': None, 'model__C': 10}</td>\n",
       "      <td>0.779263</td>\n",
       "    </tr>\n",
       "  </tbody>\n",
       "</table>\n",
       "</div>"
      ],
      "text/plain": [
       "               Модель                                      Параметры  \\\n",
       "0  LogisticRegression  {'model__class_weight': None, 'model__C': 10}   \n",
       "\n",
       "   F1 метрика  \n",
       "0    0.779263  "
      ]
     },
     "execution_count": 46,
     "metadata": {},
     "output_type": "execute_result"
    }
   ],
   "source": [
    "results_LR = []\n",
    "results_LR.append({'Модель': 'LogisticRegression',\n",
    "                'Параметры': params_LR,\n",
    "                'F1 метрика': best_score_LR})\n",
    "\n",
    "pd.set_option('display.max_colwidth', None)\n",
    "pd.DataFrame(results_LR)"
   ]
  },
  {
   "cell_type": "markdown",
   "metadata": {
    "id": "KaMSv3joyrY1"
   },
   "source": [
    "#### Четвертая модель - `CatBoostClassifier`."
   ]
  },
  {
   "cell_type": "code",
   "execution_count": 65,
   "metadata": {
    "id": "ymgs4g_4yrY1",
    "tags": []
   },
   "outputs": [],
   "source": [
    "parameters_CBC  = {'model__iterations': range(10, 160, 30),\n",
    "                   'model__depth' : range(5, 11, 2)\n",
    "                   }"
   ]
  },
  {
   "cell_type": "code",
   "execution_count": 66,
   "metadata": {
    "colab": {
     "base_uri": "https://localhost:8080/"
    },
    "collapsed": true,
    "id": "_ojRWNQ_yrY1",
    "jupyter": {
     "outputs_hidden": true
    },
    "outputId": "ed59aed7-6735-4dce-94ed-f695f2bfcaa1",
    "tags": []
   },
   "outputs": [
    {
     "name": "stdout",
     "output_type": "stream",
     "text": [
      "Learning rate set to 0.5\n",
      "0:\tlearn: 0.5699331\ttotal: 543ms\tremaining: 53.8s\n",
      "1:\tlearn: 0.5179187\ttotal: 1.06s\tremaining: 52.2s\n",
      "2:\tlearn: 0.4959931\ttotal: 1.59s\tremaining: 51.4s\n",
      "3:\tlearn: 0.4731361\ttotal: 2.11s\tremaining: 50.7s\n",
      "4:\tlearn: 0.4568031\ttotal: 2.62s\tremaining: 49.8s\n",
      "5:\tlearn: 0.4383635\ttotal: 3.13s\tremaining: 49s\n",
      "6:\tlearn: 0.4256180\ttotal: 3.64s\tremaining: 48.4s\n",
      "7:\tlearn: 0.4155469\ttotal: 4.16s\tremaining: 47.8s\n",
      "8:\tlearn: 0.4066164\ttotal: 4.66s\tremaining: 47.1s\n",
      "9:\tlearn: 0.4008786\ttotal: 5.18s\tremaining: 46.6s\n",
      "10:\tlearn: 0.3953314\ttotal: 5.71s\tremaining: 46.2s\n",
      "11:\tlearn: 0.3882893\ttotal: 6.22s\tremaining: 45.6s\n",
      "12:\tlearn: 0.3830426\ttotal: 6.73s\tremaining: 45s\n",
      "13:\tlearn: 0.3777754\ttotal: 7.23s\tremaining: 44.4s\n",
      "14:\tlearn: 0.3737613\ttotal: 7.75s\tremaining: 43.9s\n",
      "15:\tlearn: 0.3704574\ttotal: 8.27s\tremaining: 43.4s\n",
      "16:\tlearn: 0.3670899\ttotal: 8.78s\tremaining: 42.9s\n",
      "17:\tlearn: 0.3632655\ttotal: 9.28s\tremaining: 42.3s\n",
      "18:\tlearn: 0.3588803\ttotal: 9.77s\tremaining: 41.7s\n",
      "19:\tlearn: 0.3563294\ttotal: 10.3s\tremaining: 41.1s\n",
      "20:\tlearn: 0.3521137\ttotal: 10.8s\tremaining: 40.7s\n",
      "21:\tlearn: 0.3490134\ttotal: 11.3s\tremaining: 40.1s\n",
      "22:\tlearn: 0.3457414\ttotal: 11.8s\tremaining: 39.6s\n",
      "23:\tlearn: 0.3427389\ttotal: 12.3s\tremaining: 39s\n",
      "24:\tlearn: 0.3399970\ttotal: 12.8s\tremaining: 38.5s\n",
      "25:\tlearn: 0.3366970\ttotal: 13.3s\tremaining: 37.9s\n",
      "26:\tlearn: 0.3342458\ttotal: 13.8s\tremaining: 37.4s\n",
      "27:\tlearn: 0.3305873\ttotal: 14.3s\tremaining: 36.9s\n",
      "28:\tlearn: 0.3278143\ttotal: 14.9s\tremaining: 36.4s\n",
      "29:\tlearn: 0.3254751\ttotal: 15.4s\tremaining: 35.8s\n",
      "30:\tlearn: 0.3230286\ttotal: 15.9s\tremaining: 35.3s\n",
      "31:\tlearn: 0.3202009\ttotal: 16.4s\tremaining: 34.8s\n",
      "32:\tlearn: 0.3181497\ttotal: 16.9s\tremaining: 34.3s\n",
      "33:\tlearn: 0.3159449\ttotal: 17.4s\tremaining: 33.7s\n",
      "34:\tlearn: 0.3139317\ttotal: 17.9s\tremaining: 33.2s\n",
      "35:\tlearn: 0.3120429\ttotal: 18.4s\tremaining: 32.7s\n",
      "36:\tlearn: 0.3102857\ttotal: 18.9s\tremaining: 32.1s\n",
      "37:\tlearn: 0.3066198\ttotal: 19.4s\tremaining: 31.6s\n",
      "38:\tlearn: 0.3050445\ttotal: 19.9s\tremaining: 31.1s\n",
      "39:\tlearn: 0.3034767\ttotal: 20.4s\tremaining: 30.6s\n",
      "40:\tlearn: 0.3017149\ttotal: 20.9s\tremaining: 30s\n",
      "41:\tlearn: 0.2997362\ttotal: 21.4s\tremaining: 29.5s\n",
      "42:\tlearn: 0.2983901\ttotal: 21.9s\tremaining: 29s\n",
      "43:\tlearn: 0.2966356\ttotal: 22.4s\tremaining: 28.5s\n",
      "44:\tlearn: 0.2949703\ttotal: 22.9s\tremaining: 27.9s\n",
      "45:\tlearn: 0.2936667\ttotal: 23.4s\tremaining: 27.4s\n",
      "46:\tlearn: 0.2913903\ttotal: 23.9s\tremaining: 26.9s\n",
      "47:\tlearn: 0.2900581\ttotal: 24.3s\tremaining: 26.4s\n",
      "48:\tlearn: 0.2886109\ttotal: 24.8s\tremaining: 25.9s\n",
      "49:\tlearn: 0.2873938\ttotal: 25.3s\tremaining: 25.3s\n",
      "50:\tlearn: 0.2857075\ttotal: 25.9s\tremaining: 24.8s\n",
      "51:\tlearn: 0.2843896\ttotal: 26.4s\tremaining: 24.3s\n",
      "52:\tlearn: 0.2831945\ttotal: 26.9s\tremaining: 23.8s\n",
      "53:\tlearn: 0.2806385\ttotal: 27.4s\tremaining: 23.3s\n",
      "54:\tlearn: 0.2795232\ttotal: 27.9s\tremaining: 22.8s\n",
      "55:\tlearn: 0.2782250\ttotal: 28.4s\tremaining: 22.3s\n",
      "56:\tlearn: 0.2770337\ttotal: 28.9s\tremaining: 21.8s\n",
      "57:\tlearn: 0.2750622\ttotal: 29.4s\tremaining: 21.3s\n",
      "58:\tlearn: 0.2740246\ttotal: 29.9s\tremaining: 20.8s\n",
      "59:\tlearn: 0.2730637\ttotal: 30.4s\tremaining: 20.2s\n",
      "60:\tlearn: 0.2705074\ttotal: 30.9s\tremaining: 19.7s\n",
      "61:\tlearn: 0.2694334\ttotal: 31.4s\tremaining: 19.2s\n",
      "62:\tlearn: 0.2685341\ttotal: 31.9s\tremaining: 18.7s\n",
      "63:\tlearn: 0.2674731\ttotal: 32.4s\tremaining: 18.2s\n",
      "64:\tlearn: 0.2666021\ttotal: 32.9s\tremaining: 17.7s\n",
      "65:\tlearn: 0.2658887\ttotal: 33.4s\tremaining: 17.2s\n",
      "66:\tlearn: 0.2650381\ttotal: 33.9s\tremaining: 16.7s\n",
      "67:\tlearn: 0.2636693\ttotal: 34.4s\tremaining: 16.2s\n",
      "68:\tlearn: 0.2627509\ttotal: 34.9s\tremaining: 15.7s\n",
      "69:\tlearn: 0.2620692\ttotal: 35.4s\tremaining: 15.2s\n",
      "70:\tlearn: 0.2610541\ttotal: 35.9s\tremaining: 14.6s\n",
      "71:\tlearn: 0.2597680\ttotal: 36.3s\tremaining: 14.1s\n",
      "72:\tlearn: 0.2589940\ttotal: 36.8s\tremaining: 13.6s\n",
      "73:\tlearn: 0.2581059\ttotal: 37.3s\tremaining: 13.1s\n",
      "74:\tlearn: 0.2572606\ttotal: 37.8s\tremaining: 12.6s\n",
      "75:\tlearn: 0.2564754\ttotal: 38.3s\tremaining: 12.1s\n",
      "76:\tlearn: 0.2556367\ttotal: 38.8s\tremaining: 11.6s\n",
      "77:\tlearn: 0.2550374\ttotal: 39.3s\tremaining: 11.1s\n",
      "78:\tlearn: 0.2541808\ttotal: 39.8s\tremaining: 10.6s\n",
      "79:\tlearn: 0.2535270\ttotal: 40.3s\tremaining: 10.1s\n",
      "80:\tlearn: 0.2528119\ttotal: 40.8s\tremaining: 9.57s\n",
      "81:\tlearn: 0.2520659\ttotal: 41.3s\tremaining: 9.07s\n",
      "82:\tlearn: 0.2513897\ttotal: 41.8s\tremaining: 8.56s\n",
      "83:\tlearn: 0.2506774\ttotal: 42.3s\tremaining: 8.05s\n",
      "84:\tlearn: 0.2495932\ttotal: 42.8s\tremaining: 7.55s\n",
      "85:\tlearn: 0.2490450\ttotal: 43.3s\tremaining: 7.05s\n",
      "86:\tlearn: 0.2483689\ttotal: 43.8s\tremaining: 6.54s\n",
      "87:\tlearn: 0.2471864\ttotal: 44.3s\tremaining: 6.04s\n",
      "88:\tlearn: 0.2466937\ttotal: 44.8s\tremaining: 5.53s\n",
      "89:\tlearn: 0.2459526\ttotal: 45.3s\tremaining: 5.03s\n",
      "90:\tlearn: 0.2450207\ttotal: 45.8s\tremaining: 4.53s\n",
      "91:\tlearn: 0.2444470\ttotal: 46.3s\tremaining: 4.02s\n",
      "92:\tlearn: 0.2438839\ttotal: 46.8s\tremaining: 3.52s\n",
      "93:\tlearn: 0.2431792\ttotal: 47.2s\tremaining: 3.02s\n",
      "94:\tlearn: 0.2421214\ttotal: 47.7s\tremaining: 2.51s\n",
      "95:\tlearn: 0.2414665\ttotal: 48.2s\tremaining: 2.01s\n",
      "96:\tlearn: 0.2409703\ttotal: 48.7s\tremaining: 1.51s\n",
      "97:\tlearn: 0.2402399\ttotal: 49.2s\tremaining: 1s\n",
      "98:\tlearn: 0.2397984\ttotal: 49.7s\tremaining: 502ms\n",
      "99:\tlearn: 0.2391283\ttotal: 50.2s\tremaining: 0us\n",
      "Гиперпараметры лучшей модели {'model__iterations': 100, 'model__depth': 5}\n",
      "F1 модели 0.7333433758861144\n",
      "CPU times: total: 8min 35s\n",
      "Wall time: 13min 18s\n"
     ]
    }
   ],
   "source": [
    "%%time\n",
    "\n",
    "model_CBC, params_CBC, best_score_CBC = best_hyper_model(\n",
    "    CatBoostClassifier(random_state=12345, auto_class_weights='Balanced'),\n",
    "    parameters_CBC\n",
    ")"
   ]
  },
  {
   "cell_type": "code",
   "execution_count": 67,
   "metadata": {
    "colab": {
     "base_uri": "https://localhost:8080/",
     "height": 89
    },
    "id": "gt9gm8VzyrY2",
    "outputId": "fbbb40d4-0c4c-431d-99f1-4b597013006e",
    "tags": []
   },
   "outputs": [
    {
     "data": {
      "text/html": [
       "<div>\n",
       "<style scoped>\n",
       "    .dataframe tbody tr th:only-of-type {\n",
       "        vertical-align: middle;\n",
       "    }\n",
       "\n",
       "    .dataframe tbody tr th {\n",
       "        vertical-align: top;\n",
       "    }\n",
       "\n",
       "    .dataframe thead th {\n",
       "        text-align: right;\n",
       "    }\n",
       "</style>\n",
       "<table border=\"1\" class=\"dataframe\">\n",
       "  <thead>\n",
       "    <tr style=\"text-align: right;\">\n",
       "      <th></th>\n",
       "      <th>Модель</th>\n",
       "      <th>Параметры</th>\n",
       "      <th>F1 метрика</th>\n",
       "    </tr>\n",
       "  </thead>\n",
       "  <tbody>\n",
       "    <tr>\n",
       "      <th>0</th>\n",
       "      <td>CatBoostClassifier</td>\n",
       "      <td>{'model__iterations': 100, 'model__depth': 5}</td>\n",
       "      <td>0.733343</td>\n",
       "    </tr>\n",
       "  </tbody>\n",
       "</table>\n",
       "</div>"
      ],
      "text/plain": [
       "               Модель                                      Параметры  \\\n",
       "0  CatBoostClassifier  {'model__iterations': 100, 'model__depth': 5}   \n",
       "\n",
       "   F1 метрика  \n",
       "0    0.733343  "
      ]
     },
     "execution_count": 67,
     "metadata": {},
     "output_type": "execute_result"
    }
   ],
   "source": [
    "results_CBC = []\n",
    "results_CBC.append({'Модель': 'CatBoostClassifier',\n",
    "                'Параметры': params_CBC,\n",
    "                'F1 метрика': best_score_CBC})\n",
    "\n",
    "pd.set_option('display.max_colwidth', None)\n",
    "pd.DataFrame(results_CBC)"
   ]
  },
  {
   "cell_type": "markdown",
   "metadata": {},
   "source": [
    "**Вывод:** Были обучены 4 модели: `DecisionTreeClassifier, RandomForestClassifier, LogisticRegression, CatBoostClassifier`. Соберем все результаты в одну таблицу и выберем наилучшую модель."
   ]
  },
  {
   "cell_type": "code",
   "execution_count": 68,
   "metadata": {
    "tags": []
   },
   "outputs": [
    {
     "data": {
      "text/html": [
       "<div>\n",
       "<style scoped>\n",
       "    .dataframe tbody tr th:only-of-type {\n",
       "        vertical-align: middle;\n",
       "    }\n",
       "\n",
       "    .dataframe tbody tr th {\n",
       "        vertical-align: top;\n",
       "    }\n",
       "\n",
       "    .dataframe thead th {\n",
       "        text-align: right;\n",
       "    }\n",
       "</style>\n",
       "<table border=\"1\" class=\"dataframe\">\n",
       "  <thead>\n",
       "    <tr style=\"text-align: right;\">\n",
       "      <th></th>\n",
       "      <th>Параметры</th>\n",
       "      <th>F1-метрика</th>\n",
       "    </tr>\n",
       "  </thead>\n",
       "  <tbody>\n",
       "    <tr>\n",
       "      <th>DecisionTreeClassifier</th>\n",
       "      <td>{'model__max_depth': 23, 'model__class_weight': None}</td>\n",
       "      <td>0.673006</td>\n",
       "    </tr>\n",
       "    <tr>\n",
       "      <th>RandomForestClassifier</th>\n",
       "      <td>{'model__n_estimators': 31, 'model__max_depth': 25, 'model__class_weight': 'balanced'}</td>\n",
       "      <td>0.401403</td>\n",
       "    </tr>\n",
       "    <tr>\n",
       "      <th>LogisticRegression</th>\n",
       "      <td>{'model__class_weight': None, 'model__C': 10}</td>\n",
       "      <td>0.779263</td>\n",
       "    </tr>\n",
       "    <tr>\n",
       "      <th>CatBoostClassifier</th>\n",
       "      <td>{'model__iterations': 100, 'model__depth': 5}</td>\n",
       "      <td>0.733343</td>\n",
       "    </tr>\n",
       "  </tbody>\n",
       "</table>\n",
       "</div>"
      ],
      "text/plain": [
       "                                                                                                     Параметры  \\\n",
       "DecisionTreeClassifier                                   {'model__max_depth': 23, 'model__class_weight': None}   \n",
       "RandomForestClassifier  {'model__n_estimators': 31, 'model__max_depth': 25, 'model__class_weight': 'balanced'}   \n",
       "LogisticRegression                                               {'model__class_weight': None, 'model__C': 10}   \n",
       "CatBoostClassifier                                               {'model__iterations': 100, 'model__depth': 5}   \n",
       "\n",
       "                        F1-метрика  \n",
       "DecisionTreeClassifier    0.673006  \n",
       "RandomForestClassifier    0.401403  \n",
       "LogisticRegression        0.779263  \n",
       "CatBoostClassifier        0.733343  "
      ]
     },
     "execution_count": 68,
     "metadata": {},
     "output_type": "execute_result"
    }
   ],
   "source": [
    "pd.DataFrame(\n",
    "    {'Параметры': [params_DTC, params_RFC, params_LR, params_CBC], \n",
    "     'F1-метрика': [best_score_DTC, best_score_RFC, best_score_LR, best_score_CBC]},\n",
    "    index=['DecisionTreeClassifier', 'RandomForestClassifier', 'LogisticRegression', 'CatBoostClassifier']\n",
    ")"
   ]
  },
  {
   "cell_type": "markdown",
   "metadata": {},
   "source": [
    "**Вывод:** Наилучшей по качеству стал алгоритм LogisticRegression. Выберем его за основу нашей модели обучения и проверим на тестовой выборке."
   ]
  },
  {
   "cell_type": "markdown",
   "metadata": {},
   "source": [
    "## Тестирование модели"
   ]
  },
  {
   "cell_type": "code",
   "execution_count": 69,
   "metadata": {
    "colab": {
     "base_uri": "https://localhost:8080/"
    },
    "id": "fw3sT0W0yrY2",
    "outputId": "d47be64c-c8a7-497c-db0f-3ae906c5bcc7",
    "tags": []
   },
   "outputs": [
    {
     "name": "stdout",
     "output_type": "stream",
     "text": [
      "Результат тестовой метрики F1 для модели LogisticRegression: 0.7741280054182187\n"
     ]
    }
   ],
   "source": [
    "prediction_test = model_LR.predict(features_test)\n",
    "\n",
    "F1_test = f1_score(target_test, prediction_test)\n",
    "print(\"Результат тестовой метрики F1 для модели LogisticRegression:\", F1_test)"
   ]
  },
  {
   "cell_type": "markdown",
   "metadata": {
    "id": "JKqQaq9-yrY2"
   },
   "source": [
    "Результат *F1-метрики* на тестовой выборке получился равным 0.77 - условие задания выполнено."
   ]
  },
  {
   "cell_type": "markdown",
   "metadata": {
    "id": "pB17Q7aYy8IJ"
   },
   "source": [
    "## Общие выводы"
   ]
  },
  {
   "cell_type": "markdown",
   "metadata": {
    "id": "bmY_-XzAy8IJ"
   },
   "source": [
    "На анализ был представлен датасет `toxic_comments.csv`. \n",
    "\n",
    "В столбце `toxic` увидели дисбаланс классов почти в 9 раз. Для учета дисбаланса класса использовали гиперпараметр *class_weight=balanced* где это было необходимо.\n",
    "\n",
    "Очистили столбец `text` от лишних символов - оставили только алфавитные символы и пробелы. На основе данного столбца создали новый столбец `lemm_text` - лемматизированный текст.\n",
    "\n",
    "Далее создали признаки величиной TF-IDF при помощи `TfidfVectorizer` и удалили английские стоп слова. \n",
    "\n",
    "Разделили исходные данные на обучающую и тестовую выборки и выделили признаки и целевой признак.\n",
    "\n",
    "Были выбраны следующие алгоритмы для обучения модели:\n",
    "\n",
    "- `DecisionTreeClassifier (Решающее дерево)`\n",
    "- `RandomForestClassifier (Случайный лес)`\n",
    "- `LogisticRegression (Логистическая регрессия)`\n",
    "- `CatBoostClassifier`\n",
    "\n",
    "Качество моделей определялось метрикой *F1*. \n",
    "\n",
    "1. `DecisionTreeClassifier (Решающее дерево)` показало F1=0.67 на валидационной выборке при гиперпараметрах: `max_depth: 23`.\n",
    "2. `RandomForestClassifier (Случайный лес)` показал F1=0.40 на валидационной выборке при гиперпараметрах: `n_estimators: 31, max_depth: 25, class_weight: balanced`.\n",
    "3. `LogisticRegression (Логистическая регрессия)` показала F1=0.78 на валидационной выборке при гиперпараметрах: `C: 10`.\n",
    "4. `CatBoostClassifier` показал F1=0.73 на валидационной выборке при гиперпараметрах: `iterations: 100, depth: 5, auto_class_weights: Balanced`.\n",
    "\n",
    "В качестве алгоритма для нашей модели была выбрана `LogisticRegression (Логистическая регрессия)` с оптимальными гиперпараметрами, так как она показала наилучушую метрику *F1* на валидационной выборке.\n",
    "\n",
    "На тестовой выборке значение *F1* `LogisticRegression (Логистическая регрессия)` составило 0.77."
   ]
  },
  {
   "cell_type": "code",
   "execution_count": null,
   "metadata": {},
   "outputs": [],
   "source": []
  }
 ],
 "metadata": {
  "ExecuteTimeLog": [
   {
    "duration": 389,
    "start_time": "2023-08-15T07:29:27.734Z"
   },
   {
    "duration": 10740,
    "start_time": "2023-08-15T07:29:28.783Z"
   },
   {
    "duration": 1676,
    "start_time": "2023-08-17T07:00:40.921Z"
   },
   {
    "duration": 2404,
    "start_time": "2023-08-17T07:02:10.637Z"
   },
   {
    "duration": 30,
    "start_time": "2023-08-17T07:02:36.297Z"
   },
   {
    "duration": 10,
    "start_time": "2023-08-17T07:02:48.216Z"
   },
   {
    "duration": 6,
    "start_time": "2023-08-17T07:06:51.553Z"
   },
   {
    "duration": 113,
    "start_time": "2023-08-17T07:07:08.818Z"
   },
   {
    "duration": 8,
    "start_time": "2023-08-17T07:07:13.216Z"
   },
   {
    "duration": 1544,
    "start_time": "2023-08-17T07:07:30.630Z"
   },
   {
    "duration": 872,
    "start_time": "2023-08-17T07:07:32.177Z"
   },
   {
    "duration": 32,
    "start_time": "2023-08-17T07:07:33.051Z"
   },
   {
    "duration": 21,
    "start_time": "2023-08-17T07:07:33.085Z"
   },
   {
    "duration": 1450,
    "start_time": "2023-08-17T07:30:11.234Z"
   },
   {
    "duration": 915,
    "start_time": "2023-08-17T07:30:12.686Z"
   },
   {
    "duration": 35,
    "start_time": "2023-08-17T07:30:13.603Z"
   },
   {
    "duration": 11,
    "start_time": "2023-08-17T07:30:13.640Z"
   },
   {
    "duration": 1549,
    "start_time": "2023-08-17T07:32:03.554Z"
   },
   {
    "duration": 864,
    "start_time": "2023-08-17T07:32:05.104Z"
   },
   {
    "duration": 28,
    "start_time": "2023-08-17T07:32:05.969Z"
   },
   {
    "duration": 22,
    "start_time": "2023-08-17T07:32:05.999Z"
   },
   {
    "duration": 1858,
    "start_time": "2023-08-17T08:49:18.005Z"
   },
   {
    "duration": 216,
    "start_time": "2023-08-17T08:49:19.865Z"
   },
   {
    "duration": 879,
    "start_time": "2023-08-17T08:49:20.083Z"
   },
   {
    "duration": 30,
    "start_time": "2023-08-17T08:49:20.963Z"
   },
   {
    "duration": 37,
    "start_time": "2023-08-17T08:49:20.995Z"
   },
   {
    "duration": 1522,
    "start_time": "2023-08-17T08:49:47.894Z"
   },
   {
    "duration": 183,
    "start_time": "2023-08-17T08:49:49.418Z"
   },
   {
    "duration": 2398,
    "start_time": "2023-08-17T08:49:49.603Z"
   },
   {
    "duration": 30,
    "start_time": "2023-08-17T08:49:52.003Z"
   },
   {
    "duration": 37,
    "start_time": "2023-08-17T08:49:52.035Z"
   },
   {
    "duration": 43,
    "start_time": "2023-08-17T08:53:46.748Z"
   },
   {
    "duration": 1570,
    "start_time": "2023-08-17T08:54:02.350Z"
   },
   {
    "duration": 257,
    "start_time": "2023-08-17T08:54:03.921Z"
   },
   {
    "duration": 2393,
    "start_time": "2023-08-17T08:54:04.179Z"
   },
   {
    "duration": 30,
    "start_time": "2023-08-17T08:54:06.573Z"
   },
   {
    "duration": 10,
    "start_time": "2023-08-17T08:54:06.605Z"
   },
   {
    "duration": 218,
    "start_time": "2023-08-17T08:54:06.617Z"
   },
   {
    "duration": 214,
    "start_time": "2023-08-17T08:54:21.700Z"
   },
   {
    "duration": 356,
    "start_time": "2023-08-17T08:54:29.260Z"
   },
   {
    "duration": 130,
    "start_time": "2023-08-17T08:58:12.100Z"
   },
   {
    "duration": 125,
    "start_time": "2023-08-17T08:58:36.347Z"
   },
   {
    "duration": 124,
    "start_time": "2023-08-17T08:58:45.479Z"
   },
   {
    "duration": 131,
    "start_time": "2023-08-17T08:59:24.340Z"
   },
   {
    "duration": 5,
    "start_time": "2023-08-17T09:00:31.853Z"
   },
   {
    "duration": 1552,
    "start_time": "2023-08-17T09:02:01.933Z"
   },
   {
    "duration": 248,
    "start_time": "2023-08-17T09:02:03.487Z"
   },
   {
    "duration": 870,
    "start_time": "2023-08-17T09:02:03.736Z"
   },
   {
    "duration": 30,
    "start_time": "2023-08-17T09:02:04.608Z"
   },
   {
    "duration": 8,
    "start_time": "2023-08-17T09:02:04.640Z"
   },
   {
    "duration": 265,
    "start_time": "2023-08-17T09:02:04.649Z"
   },
   {
    "duration": 6,
    "start_time": "2023-08-17T09:02:04.916Z"
   },
   {
    "duration": 1486,
    "start_time": "2023-08-17T09:06:52.477Z"
   },
   {
    "duration": 206,
    "start_time": "2023-08-17T09:06:53.965Z"
   },
   {
    "duration": 2545,
    "start_time": "2023-08-17T09:06:54.173Z"
   },
   {
    "duration": 32,
    "start_time": "2023-08-17T09:06:56.719Z"
   },
   {
    "duration": 11,
    "start_time": "2023-08-17T09:06:56.754Z"
   },
   {
    "duration": 244,
    "start_time": "2023-08-17T09:06:56.767Z"
   },
   {
    "duration": 7,
    "start_time": "2023-08-17T09:06:57.013Z"
   },
   {
    "duration": 42,
    "start_time": "2023-08-17T09:06:57.022Z"
   },
   {
    "duration": 10,
    "start_time": "2023-08-17T09:06:57.066Z"
   },
   {
    "duration": 9,
    "start_time": "2023-08-17T09:06:57.078Z"
   },
   {
    "duration": 1496,
    "start_time": "2023-08-17T09:09:56.062Z"
   },
   {
    "duration": 187,
    "start_time": "2023-08-17T09:09:57.560Z"
   },
   {
    "duration": 828,
    "start_time": "2023-08-17T09:09:57.749Z"
   },
   {
    "duration": 29,
    "start_time": "2023-08-17T09:09:58.578Z"
   },
   {
    "duration": 8,
    "start_time": "2023-08-17T09:09:58.609Z"
   },
   {
    "duration": 229,
    "start_time": "2023-08-17T09:09:58.618Z"
   },
   {
    "duration": 5,
    "start_time": "2023-08-17T09:09:58.849Z"
   },
   {
    "duration": 50,
    "start_time": "2023-08-17T09:17:42.725Z"
   },
   {
    "duration": 1522,
    "start_time": "2023-08-17T09:17:52.200Z"
   },
   {
    "duration": 196,
    "start_time": "2023-08-17T09:17:53.724Z"
   },
   {
    "duration": 2340,
    "start_time": "2023-08-17T09:17:53.921Z"
   },
   {
    "duration": 30,
    "start_time": "2023-08-17T09:17:56.263Z"
   },
   {
    "duration": 23,
    "start_time": "2023-08-17T09:17:56.294Z"
   },
   {
    "duration": 184,
    "start_time": "2023-08-17T09:17:56.318Z"
   },
   {
    "duration": 3,
    "start_time": "2023-08-17T09:17:56.503Z"
   }
  ],
  "colab": {
   "provenance": []
  },
  "kernelspec": {
   "display_name": "Python 3 (ipykernel)",
   "language": "python",
   "name": "python3"
  },
  "language_info": {
   "codemirror_mode": {
    "name": "ipython",
    "version": 3
   },
   "file_extension": ".py",
   "mimetype": "text/x-python",
   "name": "python",
   "nbconvert_exporter": "python",
   "pygments_lexer": "ipython3",
   "version": "3.11.2"
  },
  "toc": {
   "base_numbering": 1,
   "nav_menu": {},
   "number_sections": true,
   "sideBar": true,
   "skip_h1_title": true,
   "title_cell": "Содержание",
   "title_sidebar": "Contents",
   "toc_cell": true,
   "toc_position": {
    "height": "calc(100% - 180px)",
    "left": "10px",
    "top": "150px",
    "width": "302.391px"
   },
   "toc_section_display": true,
   "toc_window_display": false
  }
 },
 "nbformat": 4,
 "nbformat_minor": 4
}
